{
 "cells": [
  {
   "cell_type": "markdown",
   "metadata": {
    "collapsed": false
   },
   "source": [
    "# read example raw data from package and store to hdf5 file\n",
    "\n",
    "the following provides a minimal working example of how to use DataLoader.read_flat_files to read raw data from filesystem\n",
    "\n",
    "### to read in data and store via command line one can use:\n",
    "\n",
    "```commandline\n",
    "python -m GPSat.read_and_store /path/to/config.json\n",
    "```\n",
    "\n",
    "ensure an appropriate python environment is activated e.g. one satisfying requirements.txt"
   ]
  },
  {
   "cell_type": "markdown",
   "metadata": {
    "collapsed": false
   },
   "source": [
    "## package import"
   ]
  },
  {
   "cell_type": "code",
   "execution_count": 1,
   "metadata": {
    "collapsed": false
   },
   "outputs": [],
   "source": [
    "# need to add parent directory to sys.path...\n",
    "import sys\n",
    "import os\n",
    "sys.path.append(os.path.dirname(os.getcwd()))"
   ]
  },
  {
   "cell_type": "code",
   "execution_count": 2,
   "metadata": {
    "collapsed": false
   },
   "outputs": [],
   "source": [
    "import datetime\n",
    "import os\n",
    "import json\n",
    "import pandas as pd\n",
    "\n",
    "from GPSat import get_data_path, get_config_path\n",
    "from GPSat.dataloader import DataLoader\n",
    "\n",
    "pd.set_option(\"display.max_columns\", 200)"
   ]
  },
  {
   "cell_type": "code",
   "execution_count": 3,
   "metadata": {},
   "outputs": [],
   "source": [
    "import re\n",
    "\n",
    "store_path = get_data_path(\"example\", \"ABC.h5\")\n",
    "\n",
    "with pd.HDFStore(store_path, mode=\"r\") as store:\n",
    "    # TODO: determine if it's faster to use select_colum - does not have where condition?\n",
    "\n",
    "    all_keys = store.keys()\n",
    "    dfs = {re.sub(\"/\", \"\", k): store.get(k) for k in all_keys}\n",
    "    "
   ]
  },
  {
   "cell_type": "code",
   "execution_count": 4,
   "metadata": {},
   "outputs": [
    {
     "data": {
      "text/html": [
       "<div>\n",
       "<style scoped>\n",
       "    .dataframe tbody tr th:only-of-type {\n",
       "        vertical-align: middle;\n",
       "    }\n",
       "\n",
       "    .dataframe tbody tr th {\n",
       "        vertical-align: top;\n",
       "    }\n",
       "\n",
       "    .dataframe thead th {\n",
       "        text-align: right;\n",
       "    }\n",
       "</style>\n",
       "<table border=\"1\" class=\"dataframe\">\n",
       "  <thead>\n",
       "    <tr style=\"text-align: right;\">\n",
       "      <th></th>\n",
       "      <th>lon</th>\n",
       "      <th>lat</th>\n",
       "      <th>datetime</th>\n",
       "      <th>source</th>\n",
       "      <th>obs</th>\n",
       "    </tr>\n",
       "  </thead>\n",
       "  <tbody>\n",
       "    <tr>\n",
       "      <th>0</th>\n",
       "      <td>59.944790</td>\n",
       "      <td>82.061122</td>\n",
       "      <td>2020-03-01 13:48:50</td>\n",
       "      <td>C</td>\n",
       "      <td>-0.0401</td>\n",
       "    </tr>\n",
       "    <tr>\n",
       "      <th>1</th>\n",
       "      <td>59.939555</td>\n",
       "      <td>82.063771</td>\n",
       "      <td>2020-03-01 13:48:50</td>\n",
       "      <td>C</td>\n",
       "      <td>-0.0861</td>\n",
       "    </tr>\n",
       "    <tr>\n",
       "      <th>2</th>\n",
       "      <td>59.934316</td>\n",
       "      <td>82.066419</td>\n",
       "      <td>2020-03-01 13:48:50</td>\n",
       "      <td>C</td>\n",
       "      <td>0.0648</td>\n",
       "    </tr>\n",
       "    <tr>\n",
       "      <th>3</th>\n",
       "      <td>59.929074</td>\n",
       "      <td>82.069068</td>\n",
       "      <td>2020-03-01 13:48:50</td>\n",
       "      <td>C</td>\n",
       "      <td>0.0516</td>\n",
       "    </tr>\n",
       "    <tr>\n",
       "      <th>4</th>\n",
       "      <td>59.923829</td>\n",
       "      <td>82.071716</td>\n",
       "      <td>2020-03-01 13:48:50</td>\n",
       "      <td>C</td>\n",
       "      <td>0.0222</td>\n",
       "    </tr>\n",
       "    <tr>\n",
       "      <th>...</th>\n",
       "      <td>...</td>\n",
       "      <td>...</td>\n",
       "      <td>...</td>\n",
       "      <td>...</td>\n",
       "      <td>...</td>\n",
       "    </tr>\n",
       "    <tr>\n",
       "      <th>312329</th>\n",
       "      <td>-114.353301</td>\n",
       "      <td>81.370738</td>\n",
       "      <td>2020-03-09 23:59:54</td>\n",
       "      <td>A</td>\n",
       "      <td>0.0640</td>\n",
       "    </tr>\n",
       "    <tr>\n",
       "      <th>312330</th>\n",
       "      <td>-114.412538</td>\n",
       "      <td>81.371724</td>\n",
       "      <td>2020-03-09 23:59:56</td>\n",
       "      <td>A</td>\n",
       "      <td>0.1662</td>\n",
       "    </tr>\n",
       "    <tr>\n",
       "      <th>312331</th>\n",
       "      <td>-114.432287</td>\n",
       "      <td>81.372051</td>\n",
       "      <td>2020-03-09 23:59:57</td>\n",
       "      <td>A</td>\n",
       "      <td>0.2857</td>\n",
       "    </tr>\n",
       "    <tr>\n",
       "      <th>312332</th>\n",
       "      <td>-114.452037</td>\n",
       "      <td>81.372377</td>\n",
       "      <td>2020-03-09 23:59:58</td>\n",
       "      <td>A</td>\n",
       "      <td>0.0000</td>\n",
       "    </tr>\n",
       "    <tr>\n",
       "      <th>312333</th>\n",
       "      <td>-114.471789</td>\n",
       "      <td>81.372702</td>\n",
       "      <td>2020-03-09 23:59:59</td>\n",
       "      <td>A</td>\n",
       "      <td>0.2474</td>\n",
       "    </tr>\n",
       "  </tbody>\n",
       "</table>\n",
       "<p>1037066 rows × 5 columns</p>\n",
       "</div>"
      ],
      "text/plain": [
       "               lon        lat            datetime source     obs\n",
       "0        59.944790  82.061122 2020-03-01 13:48:50      C -0.0401\n",
       "1        59.939555  82.063771 2020-03-01 13:48:50      C -0.0861\n",
       "2        59.934316  82.066419 2020-03-01 13:48:50      C  0.0648\n",
       "3        59.929074  82.069068 2020-03-01 13:48:50      C  0.0516\n",
       "4        59.923829  82.071716 2020-03-01 13:48:50      C  0.0222\n",
       "...            ...        ...                 ...    ...     ...\n",
       "312329 -114.353301  81.370738 2020-03-09 23:59:54      A  0.0640\n",
       "312330 -114.412538  81.371724 2020-03-09 23:59:56      A  0.1662\n",
       "312331 -114.432287  81.372051 2020-03-09 23:59:57      A  0.2857\n",
       "312332 -114.452037  81.372377 2020-03-09 23:59:58      A  0.0000\n",
       "312333 -114.471789  81.372702 2020-03-09 23:59:59      A  0.2474\n",
       "\n",
       "[1037066 rows x 5 columns]"
      ]
     },
     "execution_count": 4,
     "metadata": {},
     "output_type": "execute_result"
    }
   ],
   "source": [
    "dfs['data']"
   ]
  },
  {
   "cell_type": "markdown",
   "metadata": {
    "collapsed": false
   },
   "source": [
    "## read config and specify directory containing data"
   ]
  },
  {
   "cell_type": "code",
   "execution_count": 5,
   "metadata": {
    "collapsed": false
   },
   "outputs": [
    {
     "name": "stdout",
     "output_type": "stream",
     "text": [
      "reading raw data and storing to hdf file using config:\n",
      "{\n",
      "    \"output\": {\n",
      "        \"dir\": \"/home/so/Documents/Projects/GPSat/data/example\",\n",
      "        \"file\": \"ABC.h5\",\n",
      "        \"table\": \"data\",\n",
      "        \"append\": false\n",
      "    },\n",
      "    \"file_dirs\": \"/home/so/Documents/Projects/GPSat/data/example\",\n",
      "    \"file_regex\": \".*_RAW.csv$\",\n",
      "    \"sub_dirs\": null,\n",
      "    \"read_csv_kwargs\": {},\n",
      "    \"col_funcs\": {\n",
      "        \"source\": {\n",
      "            \"func\": \"lambda x: re.sub('_RAW.*$', '', os.path.basename(x))\",\n",
      "            \"filename_as_arg\": true\n",
      "        },\n",
      "        \"datetime\": {\n",
      "            \"func\": \"lambda x: x.astype('datetime64[s]')\",\n",
      "            \"col_args\": \"datetime\"\n",
      "        },\n",
      "        \"obs\": {\n",
      "            \"func\": \"lambda x: x-0.1\",\n",
      "            \"col_args\": [\n",
      "                \"z\"\n",
      "            ]\n",
      "        }\n",
      "    },\n",
      "    \"row_select\": [\n",
      "        {\n",
      "            \"func\": \"lambda x: x>=65\",\n",
      "            \"col_kwargs\": {\n",
      "                \"x\": \"lat\"\n",
      "            }\n",
      "        }\n",
      "    ],\n",
      "    \"col_select\": [\n",
      "        \"lon\",\n",
      "        \"lat\",\n",
      "        \"datetime\",\n",
      "        \"source\",\n",
      "        \"obs\"\n",
      "    ],\n",
      "    \"verbose\": 1\n",
      "}\n"
     ]
    }
   ],
   "source": [
    "# (example) data path - in package\n",
    "data_dir = get_data_path(\"example\")\n",
    "\n",
    "# configuration file to read data\n",
    "config_file = get_config_path(\"example_read_and_store_raw_data.json\")\n",
    "\n",
    "with open(config_file, \"r\") as f:\n",
    "    config = json.load(f)\n",
    "\n",
    "# change some of the directory locations to the package\n",
    "config['output']['dir'] = data_dir\n",
    "config['file_dirs'] = data_dir\n",
    "\n",
    "print(\"reading raw data and storing to hdf file using config:\")\n",
    "print(json.dumps(config, indent=4))\n",
    "\n",
    "# extract (pop out) the output information\n",
    "output_dict = config.pop(\"output\", None)\n"
   ]
  },
  {
   "cell_type": "markdown",
   "metadata": {
    "collapsed": false
   },
   "source": [
    "## read in data, select rows and columns, combine into a single dataframe\n"
   ]
  },
  {
   "cell_type": "code",
   "execution_count": 6,
   "metadata": {
    "collapsed": false
   },
   "outputs": [
    {
     "name": "stdout",
     "output_type": "stream",
     "text": [
      "----------------------------------------------------------------------------------------------------\n",
      "reading files from:\n",
      "/home/so/Documents/Projects/GPSat/data/example/\n",
      "read in raw data, looks like:\n"
     ]
    },
    {
     "data": {
      "text/html": [
       "<div>\n",
       "<style scoped>\n",
       "    .dataframe tbody tr th:only-of-type {\n",
       "        vertical-align: middle;\n",
       "    }\n",
       "\n",
       "    .dataframe tbody tr th {\n",
       "        vertical-align: top;\n",
       "    }\n",
       "\n",
       "    .dataframe thead th {\n",
       "        text-align: right;\n",
       "    }\n",
       "</style>\n",
       "<table border=\"1\" class=\"dataframe\">\n",
       "  <thead>\n",
       "    <tr style=\"text-align: right;\">\n",
       "      <th></th>\n",
       "      <th>lon</th>\n",
       "      <th>lat</th>\n",
       "      <th>datetime</th>\n",
       "      <th>source</th>\n",
       "      <th>obs</th>\n",
       "    </tr>\n",
       "  </thead>\n",
       "  <tbody>\n",
       "    <tr>\n",
       "      <th>0</th>\n",
       "      <td>59.944790</td>\n",
       "      <td>82.061122</td>\n",
       "      <td>2020-03-01 13:48:50</td>\n",
       "      <td>C</td>\n",
       "      <td>-0.0401</td>\n",
       "    </tr>\n",
       "    <tr>\n",
       "      <th>1</th>\n",
       "      <td>59.939555</td>\n",
       "      <td>82.063771</td>\n",
       "      <td>2020-03-01 13:48:50</td>\n",
       "      <td>C</td>\n",
       "      <td>-0.0861</td>\n",
       "    </tr>\n",
       "    <tr>\n",
       "      <th>2</th>\n",
       "      <td>59.934316</td>\n",
       "      <td>82.066419</td>\n",
       "      <td>2020-03-01 13:48:50</td>\n",
       "      <td>C</td>\n",
       "      <td>0.0648</td>\n",
       "    </tr>\n",
       "    <tr>\n",
       "      <th>3</th>\n",
       "      <td>59.929074</td>\n",
       "      <td>82.069068</td>\n",
       "      <td>2020-03-01 13:48:50</td>\n",
       "      <td>C</td>\n",
       "      <td>0.0516</td>\n",
       "    </tr>\n",
       "    <tr>\n",
       "      <th>4</th>\n",
       "      <td>59.923829</td>\n",
       "      <td>82.071716</td>\n",
       "      <td>2020-03-01 13:48:50</td>\n",
       "      <td>C</td>\n",
       "      <td>0.0222</td>\n",
       "    </tr>\n",
       "  </tbody>\n",
       "</table>\n",
       "</div>"
      ],
      "text/plain": [
       "         lon        lat            datetime source     obs\n",
       "0  59.944790  82.061122 2020-03-01 13:48:50      C -0.0401\n",
       "1  59.939555  82.063771 2020-03-01 13:48:50      C -0.0861\n",
       "2  59.934316  82.066419 2020-03-01 13:48:50      C  0.0648\n",
       "3  59.929074  82.069068 2020-03-01 13:48:50      C  0.0516\n",
       "4  59.923829  82.071716 2020-03-01 13:48:50      C  0.0222"
      ]
     },
     "execution_count": 6,
     "metadata": {},
     "output_type": "execute_result"
    }
   ],
   "source": [
    "df = DataLoader.read_flat_files(**config)\n",
    "\n",
    "print(\"read in raw data, looks like:\")\n",
    "df.head(5)\n"
   ]
  },
  {
   "cell_type": "code",
   "execution_count": 7,
   "metadata": {
    "collapsed": false
   },
   "outputs": [
    {
     "data": {
      "text/html": [
       "<div>\n",
       "<style scoped>\n",
       "    .dataframe tbody tr th:only-of-type {\n",
       "        vertical-align: middle;\n",
       "    }\n",
       "\n",
       "    .dataframe tbody tr th {\n",
       "        vertical-align: top;\n",
       "    }\n",
       "\n",
       "    .dataframe thead th {\n",
       "        text-align: right;\n",
       "    }\n",
       "</style>\n",
       "<table border=\"1\" class=\"dataframe\">\n",
       "  <thead>\n",
       "    <tr style=\"text-align: right;\">\n",
       "      <th></th>\n",
       "      <th>lon</th>\n",
       "      <th>lat</th>\n",
       "      <th>datetime</th>\n",
       "      <th>source</th>\n",
       "      <th>obs</th>\n",
       "    </tr>\n",
       "  </thead>\n",
       "  <tbody>\n",
       "    <tr>\n",
       "      <th>349604</th>\n",
       "      <td>-150.798101</td>\n",
       "      <td>79.445092</td>\n",
       "      <td>2020-03-10 23:59:57</td>\n",
       "      <td>A</td>\n",
       "      <td>0.0239</td>\n",
       "    </tr>\n",
       "    <tr>\n",
       "      <th>349605</th>\n",
       "      <td>-150.811408</td>\n",
       "      <td>79.443378</td>\n",
       "      <td>2020-03-10 23:59:58</td>\n",
       "      <td>A</td>\n",
       "      <td>-0.0429</td>\n",
       "    </tr>\n",
       "    <tr>\n",
       "      <th>349606</th>\n",
       "      <td>-150.824713</td>\n",
       "      <td>79.441664</td>\n",
       "      <td>2020-03-10 23:59:59</td>\n",
       "      <td>A</td>\n",
       "      <td>-0.0526</td>\n",
       "    </tr>\n",
       "  </tbody>\n",
       "</table>\n",
       "</div>"
      ],
      "text/plain": [
       "               lon        lat            datetime source     obs\n",
       "349604 -150.798101  79.445092 2020-03-10 23:59:57      A  0.0239\n",
       "349605 -150.811408  79.443378 2020-03-10 23:59:58      A -0.0429\n",
       "349606 -150.824713  79.441664 2020-03-10 23:59:59      A -0.0526"
      ]
     },
     "execution_count": 7,
     "metadata": {},
     "output_type": "execute_result"
    }
   ],
   "source": [
    "df.tail(3)"
   ]
  },
  {
   "cell_type": "markdown",
   "metadata": {
    "collapsed": false
   },
   "source": [
    "## store as hdf5"
   ]
  },
  {
   "cell_type": "code",
   "execution_count": 8,
   "metadata": {
    "collapsed": false
   },
   "outputs": [
    {
     "name": "stdout",
     "output_type": "stream",
     "text": [
      "writing to hdf5 file\n"
     ]
    }
   ],
   "source": [
    "# get run information (including some details from git)\n",
    "# - for auditing / future reference\n",
    "# run_info = DataLoader.get_run_info()\n",
    "\n",
    "# or provide some custom one\n",
    "run_info = {\n",
    "    \"run_time\": datetime.datetime.now().strftime(\"%Y-%m-%d %H:%M:%S\")\n",
    "}\n",
    "\n",
    "# specify output dir, file, table name and whether to append or not\n",
    "output_dir = output_dict['dir']\n",
    "out_file = output_dict['file']\n",
    "table = output_dict['table']\n",
    "append = output_dict.get(\"append\", False)\n",
    "\n",
    "print(\"writing to hdf5 file\")\n",
    "with pd.HDFStore(path=os.path.join(output_dir, out_file), mode='a' if append else 'w') as store:\n",
    "    DataLoader.write_to_hdf(df,\n",
    "                            table=table,\n",
    "                            append=append,\n",
    "                            store=store,\n",
    "                            config=config,\n",
    "                            run_info=run_info)\n",
    "\n"
   ]
  },
  {
   "cell_type": "code",
   "execution_count": 9,
   "metadata": {
    "collapsed": false
   },
   "outputs": [
    {
     "name": "stdout",
     "output_type": "stream",
     "text": [
      "complete\n"
     ]
    }
   ],
   "source": [
    "print(\"complete\")"
   ]
  },
  {
   "cell_type": "code",
   "execution_count": null,
   "metadata": {
    "collapsed": false
   },
   "outputs": [],
   "source": []
  }
 ],
 "metadata": {
  "kernelspec": {
   "display_name": "Python 3.8.10 ('pyOI')",
   "language": "python",
   "name": "python3"
  },
  "language_info": {
   "codemirror_mode": {
    "name": "ipython",
    "version": 3
   },
   "file_extension": ".py",
   "mimetype": "text/x-python",
   "name": "python",
   "nbconvert_exporter": "python",
   "pygments_lexer": "ipython3",
   "version": "3.8.10"
  },
  "vscode": {
   "interpreter": {
    "hash": "c1e6bede33930b8fd2b93afa5a6c52d07a487ede6157e4a24ba506222895823f"
   }
  }
 },
 "nbformat": 4,
 "nbformat_minor": 0
}
