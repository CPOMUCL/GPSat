{
 "cells": [
  {
   "cell_type": "code",
   "execution_count": 1,
   "metadata": {},
   "outputs": [
    {
     "name": "stderr",
     "output_type": "stream",
     "text": [
      "2023-06-01 18:50:14.134982: I tensorflow/core/platform/cpu_feature_guard.cc:193] This TensorFlow binary is optimized with oneAPI Deep Neural Network Library (oneDNN) to use the following CPU instructions in performance-critical operations:  AVX2 AVX512F FMA\n",
      "To enable them in other operations, rebuild TensorFlow with the appropriate compiler flags.\n",
      "2023-06-01 18:50:14.297315: E tensorflow/stream_executor/cuda/cuda_blas.cc:2981] Unable to register cuBLAS factory: Attempting to register factory for plugin cuBLAS when one has already been registered\n",
      "2023-06-01 18:50:14.811307: W tensorflow/stream_executor/platform/default/dso_loader.cc:64] Could not load dynamic library 'libnvinfer.so.7'; dlerror: libnvinfer.so.7: cannot open shared object file: No such file or directory; LD_LIBRARY_PATH: /usr/local/cuda-11.4/lib64:/usr/local/cuda-11.4/lib64\n",
      "2023-06-01 18:50:14.811370: W tensorflow/stream_executor/platform/default/dso_loader.cc:64] Could not load dynamic library 'libnvinfer_plugin.so.7'; dlerror: libnvinfer_plugin.so.7: cannot open shared object file: No such file or directory; LD_LIBRARY_PATH: /usr/local/cuda-11.4/lib64:/usr/local/cuda-11.4/lib64\n",
      "2023-06-01 18:50:14.811377: W tensorflow/compiler/tf2tensorrt/utils/py_utils.cc:38] TF-TRT Warning: Cannot dlopen some TensorRT libraries. If you would like to use Nvidia GPU with TensorRT, please make sure the missing libraries mentioned above are installed properly.\n",
      "OMP: Info #276: omp_set_nested routine deprecated, please use omp_set_max_active_levels instead.\n"
     ]
    }
   ],
   "source": [
    "import pandas as pd\n",
    "from PyOptimalInterpolation import get_data_path, get_parent_path\n",
    "from PyOptimalInterpolation.local_experts import LocalExpertOI, get_results_from_h5file\n",
    "from PyOptimalInterpolation.postprocessing import smooth_hyperparameters, SmoothingConfig\n",
    "from PyOptimalInterpolation.config_dataclasses import (DataConfig, \n",
    "                                                       ModelConfig,\n",
    "                                                       PredictionLocsConfig,\n",
    "                                                       ExpertLocsConfig,\n",
    "                                                       RunConfig,\n",
    "                                                       LocalExpertConfig)\n"
   ]
  },
  {
   "attachments": {},
   "cell_type": "markdown",
   "metadata": {},
   "source": [
    "# Set up data/model/location configs"
   ]
  },
  {
   "cell_type": "code",
   "execution_count": 2,
   "metadata": {},
   "outputs": [],
   "source": [
    "data_config = DataConfig(data_source=get_data_path(\"example\", \"ABC_binned_50km.h5\"),\n",
    "                         table=\"data\",\n",
    "                         obs_col=\"obs\",\n",
    "                         coords_col=[\"x\", \"y\", \"t\"],\n",
    "                         local_select=[{\"col\": \"t\", \"comp\": \"<=\", \"val\": 4},\n",
    "                                       {\"col\": \"t\", \"comp\": \"<=\", \"val\": -4},\n",
    "                                       {\"col\": [\"x\", \"y\"], \"comp\": \"<\", \"val\": 300_000}],\n",
    "                         global_select=[{\"col\": \"lat\", \"comp\": \">=\", \"val\": 60},\n",
    "                                        {\"loc_col\": \"t\", \"src_col\": \"date\", \"func\": \"lambda x,y: np.datetime64(pd.to_datetime(x+y, unit='D'))\"}]\n",
    "                        )\n",
    "\n",
    "\n",
    "model_config = ModelConfig(oi_model=\"GPflowGPRModel\",\n",
    "                           init_params={\"coords_scale\": [50_000, 50_000, 1]},\n",
    "                           constraints={\"lengthscales\": {\"low\": [1e-08, 1e-08, 1e-08],\n",
    "                                                         \"high\": [600_000, 600_000, 9]}\n",
    "                                    }\n",
    "                           )\n",
    "\n",
    "\n",
    "pred_locs_config = PredictionLocsConfig(method=\"from_dataframe\",\n",
    "                                       df_file=get_data_path(\"locations\", \"2d_xy_grid_5x5km.csv\"),\n",
    "                                       max_dist=200_000\n",
    "                                       )\n",
    "\n",
    "\n",
    "expert_locs_config = ExpertLocsConfig(source=get_data_path(\"locations\", \"example_expert_locations_arctic.csv\"),\n",
    "                                     add_data_to_col={\"date\": [\"2020-03-04\", \"2020-03-05\", \"2020-03-06\"]},\n",
    "                                     col_funcs={\"date\": {\"func\": \"lambda x: x.astype('datetime64[D]')\",\n",
    "                                                         \"col_args\": \"date\"\n",
    "                                                      },\n",
    "                                                \"t\": {\"func\": \"lambda x: x.astype('datetime64[D]').astype(float)\",\n",
    "                                                      \"col_args\": \"date\"}\n",
    "                                             },\n",
    "                                     col_select=[\"x\", \"y\", \"t\", \"date\", \"lon\", \"lat\"],\n",
    "                                     row_select=[{\"col\": \"date\", \"comp\": \"==\", \"val\": \"2020-03-05\"},\n",
    "                                                 {\"col\": \"lat\", \"comp\": \">=\", \"val\": 60}],\n",
    "                                     sort_by=\"date\"\n",
    "                                    )\n",
    "\n"
   ]
  },
  {
   "cell_type": "code",
   "execution_count": 3,
   "metadata": {},
   "outputs": [],
   "source": [
    "run_config = RunConfig(store_path=get_parent_path(\"results\", \"example\", \"ABC_50km_test.h5\"),\n",
    "                       predict=False)\n",
    "\n",
    "local_expert_config = LocalExpertConfig(data_config,\n",
    "                                        model_config,\n",
    "                                        expert_locs_config,\n",
    "                                        pred_locs_config)\n"
   ]
  },
  {
   "attachments": {},
   "cell_type": "markdown",
   "metadata": {},
   "source": [
    "# Train model\n",
    "\n",
    "Once you specify the config classes, training is easy."
   ]
  },
  {
   "cell_type": "code",
   "execution_count": 4,
   "metadata": {},
   "outputs": [
    {
     "name": "stdout",
     "output_type": "stream",
     "text": [
      "'data_select': 0.000 seconds\n",
      "'load': 0.011 seconds\n",
      "\u001b[94mcurrent config matched previous - idx: 1\u001b[0m\n",
      "---------\n",
      "storing expert locations in 'expert_locs' table\n",
      "closing\n",
      "'data_select': 0.018 seconds\n",
      "'load': 0.020 seconds\n",
      "for table: expert_locs returning 0 / 363 entries\n",
      "\u001b[96m---------\n",
      "dropping expert locations that already exists in 'run_details' table\u001b[0m\n",
      "closing\n",
      "'data_select': 0.020 seconds\n",
      "'load': 0.021 seconds\n",
      "for table: run_details returning 0 / 363 entries\n",
      "'run': 0.201 seconds\n"
     ]
    }
   ],
   "source": [
    "# TODO: include train only option + fixed params option\n",
    "locexp = LocalExpertOI(local_expert_config=local_expert_config)\n",
    "locexp.run(**run_config.to_dict())"
   ]
  },
  {
   "cell_type": "code",
   "execution_count": 5,
   "metadata": {},
   "outputs": [
    {
     "name": "stdout",
     "output_type": "stream",
     "text": [
      "Columns = ['/expert_locs', '/kernel_variance', '/lengthscales', '/likelihood_variance', '/oi_config', '/run_details']\n"
     ]
    }
   ],
   "source": [
    "# See the tables in the results file\n",
    "with pd.HDFStore(run_config.store_path, mode=\"r\") as store:\n",
    "    all_keys = store.keys()\n",
    "    print(f\"Columns = {all_keys}\")"
   ]
  },
  {
   "cell_type": "code",
   "execution_count": 6,
   "metadata": {},
   "outputs": [
    {
     "name": "stdout",
     "output_type": "stream",
     "text": [
      "reading in results\n",
      "selecting only tables: ['lengthscales', 'likelihood_variance', 'kernel_variance']\n",
      "'data_select': 0.000 seconds\n",
      "'load': 0.005 seconds\n",
      "expert_locations data will not be merged on results data\n"
     ]
    }
   ],
   "source": [
    "dfs, oi_configs = get_results_from_h5file(results_file=run_config.store_path,\n",
    "                                          global_col_funcs=None,\n",
    "                                          merge_on_expert_locations=False,\n",
    "                                          select_tables=[\"lengthscales\", \"likelihood_variance\", \"kernel_variance\"]\n",
    "                                         )"
   ]
  },
  {
   "cell_type": "code",
   "execution_count": 7,
   "metadata": {},
   "outputs": [],
   "source": [
    "# Plot trained hyperparameters here\n"
   ]
  },
  {
   "attachments": {},
   "cell_type": "markdown",
   "metadata": {},
   "source": [
    "# Smooth hyperparameters"
   ]
  },
  {
   "cell_type": "code",
   "execution_count": 7,
   "metadata": {},
   "outputs": [
    {
     "name": "stdout",
     "output_type": "stream",
     "text": [
      "reading in results\n",
      "selecting only tables: ['lengthscales', 'likelihood_variance', 'kernel_variance', 'expert_locs', 'oi_config']\n",
      "expert_locations data will not be merged on results data\n",
      "\u001b[96madding smoothed table: lengthscales_SMOOTHED\u001b[0m\n",
      "\u001b[96madding smoothed table: likelihood_variance_SMOOTHED\u001b[0m\n",
      "\u001b[96madding smoothed table: kernel_variance_SMOOTHED\u001b[0m\n",
      "\u001b[92mwriting (smoothed) hyper parameters to:\n",
      "/home/so/Documents/Projects/PyOptimalInterpolation/results/example/ABC_50km_test_SMOOTHED.h5\n",
      "table_suffix:_SMOOTHED\u001b[0m\n",
      "\u001b[1mwriting: lengthscales_SMOOTHED to table\u001b[0m\n",
      "\u001b[1mwriting: likelihood_variance_SMOOTHED to table\u001b[0m\n",
      "\u001b[1mwriting: kernel_variance_SMOOTHED to table\u001b[0m\n"
     ]
    }
   ],
   "source": [
    "out_file = get_parent_path(\"results\", \"example\", \"ABC_50km_test_SMOOTHED.h5\") # Path to store smoothed hyperparameters\n",
    "smooth_configs = {\"lengthscales\": SmoothingConfig(l_x=200_000, l_y=200_000, max=12),\n",
    "                  \"likelihood_variance\": SmoothingConfig(l_x=200_000, l_y=200_000),\n",
    "                  \"kernel_variance\": SmoothingConfig(l_x=200_000, l_y=200_000, max=0.1)}\n",
    "\n",
    "smooth_hyperparameters(result_file=run_config.store_path,\n",
    "                       params_to_smooth=[\"lengthscales\", \"likelihood_variance\", \"kernel_variance\"],\n",
    "                       smooth_config_dict=smooth_configs,\n",
    "                       output_file=out_file,\n",
    "                       save_config_file=False)\n"
   ]
  },
  {
   "cell_type": "code",
   "execution_count": 8,
   "metadata": {},
   "outputs": [
    {
     "name": "stdout",
     "output_type": "stream",
     "text": [
      "Columns = ['/kernel_variance_SMOOTHED', '/lengthscales_SMOOTHED', '/likelihood_variance_SMOOTHED']\n"
     ]
    }
   ],
   "source": [
    "# See the tables in the results file after smoothing\n",
    "with pd.HDFStore(out_file, mode=\"r\") as store:\n",
    "    all_keys = store.keys()\n",
    "    print(f\"Columns = {all_keys}\")"
   ]
  },
  {
   "cell_type": "code",
   "execution_count": 9,
   "metadata": {},
   "outputs": [
    {
     "name": "stdout",
     "output_type": "stream",
     "text": [
      "issuing getting oi_config_SMOOTHED\n",
      "reading in results\n",
      "selecting only tables: ['lengthscales_SMOOTHED', 'likelihood_variance_SMOOTHED', 'kernel_variance_SMOOTHED']\n",
      "in get_results_from_h5file trying read expert_locations from file got Exception:\n",
      "No objects to concatenate\n",
      "expert_locations data will not be merged on results data\n"
     ]
    }
   ],
   "source": [
    "dfs, oi_configs = get_results_from_h5file(results_file=out_file,\n",
    "                                          global_col_funcs=None,\n",
    "                                          merge_on_expert_locations=False,\n",
    "                                          select_tables=[\"lengthscales\", \"likelihood_variance\", \"kernel_variance\"],\n",
    "                                          table_suffix=\"_SMOOTHED\",\n",
    "                                          add_suffix_to_table=True)"
   ]
  },
  {
   "cell_type": "code",
   "execution_count": 10,
   "metadata": {},
   "outputs": [],
   "source": [
    "# Plot smoothed hyperparameters here"
   ]
  },
  {
   "attachments": {},
   "cell_type": "markdown",
   "metadata": {},
   "source": [
    "# Make predictions"
   ]
  },
  {
   "attachments": {},
   "cell_type": "markdown",
   "metadata": {},
   "source": [
    "To make predictions from the smoothed parameters, we re-run with a slightly different config"
   ]
  },
  {
   "cell_type": "code",
   "execution_count": 11,
   "metadata": {},
   "outputs": [
    {
     "name": "stdout",
     "output_type": "stream",
     "text": [
      "'data_select': 0.000 seconds\n",
      "'load': 0.007 seconds\n",
      "---------\n",
      "storing expert locations in 'expert_locs' table\n",
      "exception occurred: 'No object named expert_locs_SMOOTHED in the file'\n",
      "will now close object\n",
      "\n",
      "\u001b[96m---------\n",
      "dropping expert locations that already exists in 'run_details' table\u001b[0m\n",
      "exception occurred: 'No object named run_details_SMOOTHED in the file'\n",
      "will now close object\n",
      "\n",
      "------------------------------\n",
      "1 / 363\n",
      "          x          y        t       date        lon        lat\n",
      "0 -800000.0 -2000000.0  18326.0 2020-03-05 -21.801409  70.615022\n",
      "'data_select': 0.027 seconds\n",
      "'load': 0.028 seconds\n",
      "'_update_global_data': 0.028 seconds\n",
      "'local_data_select': 0.002 seconds\n",
      "number obs: 0\n",
      "------------------------------\n",
      "2 / 363\n",
      "             x          y        t       date         lon        lat\n",
      "246 -1600000.0  1000000.0  18326.0 2020-03-05 -122.005383  73.040728\n",
      "'_update_global_data': 0.001 seconds\n",
      "'local_data_select': 0.002 seconds\n",
      "number obs: 20\n",
      "'_max_dist_bool': 0.014 seconds\n",
      "'_from_dataframe': 0.481 seconds\n",
      "found GPU\n",
      "setting lengthscales to: [1. 1. 1.]\n"
     ]
    },
    {
     "name": "stderr",
     "output_type": "stream",
     "text": [
      "2023-06-01 18:50:42.602348: I tensorflow/core/platform/cpu_feature_guard.cc:193] This TensorFlow binary is optimized with oneAPI Deep Neural Network Library (oneDNN) to use the following CPU instructions in performance-critical operations:  AVX2 AVX512F FMA\n",
      "To enable them in other operations, rebuild TensorFlow with the appropriate compiler flags.\n",
      "2023-06-01 18:50:45.497850: I tensorflow/core/common_runtime/gpu/gpu_device.cc:1616] Created device /device:GPU:0 with 6261 MB memory:  -> device: 0, name: NVIDIA GeForce RTX 2080, pci bus id: 0000:17:00.0, compute capability: 7.5\n",
      "2023-06-01 18:50:45.498613: I tensorflow/core/common_runtime/gpu/gpu_device.cc:1616] Created device /device:GPU:1 with 4070 MB memory:  -> device: 1, name: NVIDIA GeForce RTX 2080, pci bus id: 0000:65:00.0, compute capability: 7.5\n",
      "2023-06-01 18:50:45.507662: I tensorflow/core/common_runtime/gpu/gpu_device.cc:1616] Created device /job:localhost/replica:0/task:0/device:GPU:0 with 6261 MB memory:  -> device: 0, name: NVIDIA GeForce RTX 2080, pci bus id: 0000:17:00.0, compute capability: 7.5\n",
      "2023-06-01 18:50:45.508064: I tensorflow/core/common_runtime/gpu/gpu_device.cc:1616] Created device /job:localhost/replica:0/task:0/device:GPU:1 with 4070 MB memory:  -> device: 1, name: NVIDIA GeForce RTX 2080, pci bus id: 0000:65:00.0, compute capability: 7.5\n"
     ]
    },
    {
     "name": "stdout",
     "output_type": "stream",
     "text": [
      "'__init__': 3.148 seconds\n",
      "'get_parameters': 0.005 seconds\n",
      "'_read_params_from_file': 0.076 seconds\n",
      "'set_parameters': 0.008 seconds\n",
      "'load_params': 0.085 seconds\n",
      "'set_lengthscales_constraints': 0.006 seconds\n",
      "*** not optimising parameters\n"
     ]
    },
    {
     "name": "stderr",
     "output_type": "stream",
     "text": [
      "2023-06-01 18:50:46.372377: I tensorflow/core/util/cuda_solvers.cc:179] Creating GpuSolver handles for stream 0x557091c98140\n"
     ]
    },
    {
     "name": "stdout",
     "output_type": "stream",
     "text": [
      "'get_parameters': 0.008 seconds\n",
      "parameters:\n",
      "lengthscales: array([3.74067836, 1.56982986, 0.99989855]) \n",
      "kernel_variance: 0.017064785656721305\n",
      "likelihood_variance: 0.002319242371839619\n",
      "'predict': 0.066 seconds\n",
      "total run time : 4.76 seconds\n",
      "------------------------------\n",
      "3 / 363\n",
      "             x          y        t       date         lon        lat\n",
      "245 -1800000.0  1000000.0  18326.0 2020-03-05 -119.054604  71.477702\n",
      "'_update_global_data': 0.001 seconds\n",
      "'local_data_select': 0.002 seconds\n",
      "number obs: 9\n",
      "'_max_dist_bool': 0.015 seconds\n",
      "'_from_dataframe': 0.016 seconds\n",
      "found GPU\n",
      "setting lengthscales to: [1. 1. 1.]\n"
     ]
    },
    {
     "name": "stderr",
     "output_type": "stream",
     "text": [
      "2023-06-01 18:50:47.009460: I tensorflow/core/common_runtime/gpu/gpu_device.cc:1616] Created device /device:GPU:0 with 6261 MB memory:  -> device: 0, name: NVIDIA GeForce RTX 2080, pci bus id: 0000:17:00.0, compute capability: 7.5\n",
      "2023-06-01 18:50:47.010392: I tensorflow/core/common_runtime/gpu/gpu_device.cc:1616] Created device /device:GPU:1 with 4070 MB memory:  -> device: 1, name: NVIDIA GeForce RTX 2080, pci bus id: 0000:65:00.0, compute capability: 7.5\n"
     ]
    },
    {
     "name": "stdout",
     "output_type": "stream",
     "text": [
      "'__init__': 0.204 seconds\n",
      "'_read_params_from_file': 0.076 seconds\n",
      "'set_parameters': 0.006 seconds\n",
      "'load_params': 0.083 seconds\n",
      "'set_lengthscales_constraints': 0.006 seconds\n",
      "*** not optimising parameters\n",
      "'get_parameters': 0.004 seconds\n",
      "parameters:\n",
      "lengthscales: array([3.93889172, 1.16800688, 0.99986791]) \n",
      "kernel_variance: 0.011731371673791633\n",
      "likelihood_variance: 0.0015989300637015448\n",
      "'predict': 0.048 seconds\n",
      "total run time : 0.67 seconds\n",
      "------------------------------\n",
      "4 / 363\n",
      "             x          y        t       date         lon        lat\n",
      "244 -2000000.0  1000000.0  18326.0 2020-03-05 -116.565051  69.868945\n",
      "'_update_global_data': 0.001 seconds\n",
      "'local_data_select': 0.004 seconds\n",
      "number obs: 0\n",
      "------------------------------\n",
      "5 / 363\n",
      "             x         y        t       date         lon        lat\n",
      "243  1600000.0  800000.0  18326.0 2020-03-05  116.565051  73.927516\n",
      "'_update_global_data': 0.001 seconds\n",
      "'local_data_select': 0.003 seconds\n",
      "number obs: 11\n",
      "'_max_dist_bool': 0.017 seconds\n",
      "'_from_dataframe': 0.020 seconds\n",
      "found GPU\n",
      "setting lengthscales to: [1. 1. 1.]\n",
      "'__init__': 0.219 seconds\n",
      "'_read_params_from_file': 0.074 seconds\n",
      "'set_parameters': 0.006 seconds\n",
      "'load_params': 0.080 seconds\n",
      "'set_lengthscales_constraints': 0.005 seconds\n",
      "*** not optimising parameters\n",
      "'get_parameters': 0.008 seconds\n",
      "parameters:\n",
      "lengthscales: array([8.2614371 , 5.56268882, 1.00134915]) \n",
      "kernel_variance: 0.0031862085919672554\n",
      "likelihood_variance: 0.0012128373737912053\n",
      "'predict': 0.053 seconds\n"
     ]
    },
    {
     "name": "stderr",
     "output_type": "stream",
     "text": [
      "2023-06-01 18:50:47.729448: I tensorflow/core/common_runtime/gpu/gpu_device.cc:1616] Created device /device:GPU:0 with 6261 MB memory:  -> device: 0, name: NVIDIA GeForce RTX 2080, pci bus id: 0000:17:00.0, compute capability: 7.5\n",
      "2023-06-01 18:50:47.730448: I tensorflow/core/common_runtime/gpu/gpu_device.cc:1616] Created device /device:GPU:1 with 4070 MB memory:  -> device: 1, name: NVIDIA GeForce RTX 2080, pci bus id: 0000:65:00.0, compute capability: 7.5\n"
     ]
    },
    {
     "name": "stdout",
     "output_type": "stream",
     "text": [
      "total run time : 0.71 seconds\n",
      "------------------------------\n",
      "6 / 363\n",
      "             x         y        t       date         lon        lat\n",
      "242  1400000.0  800000.0  18326.0 2020-03-05  119.744881  75.522123\n",
      "'_update_global_data': 0.001 seconds\n",
      "'local_data_select': 0.002 seconds\n",
      "number obs: 22\n",
      "'_max_dist_bool': 0.014 seconds\n",
      "'_from_dataframe': 0.016 seconds\n"
     ]
    },
    {
     "name": "stderr",
     "output_type": "stream",
     "text": [
      "2023-06-01 18:50:48.438087: I tensorflow/core/common_runtime/gpu/gpu_device.cc:1616] Created device /device:GPU:0 with 6261 MB memory:  -> device: 0, name: NVIDIA GeForce RTX 2080, pci bus id: 0000:17:00.0, compute capability: 7.5\n",
      "2023-06-01 18:50:48.439094: I tensorflow/core/common_runtime/gpu/gpu_device.cc:1616] Created device /device:GPU:1 with 4070 MB memory:  -> device: 1, name: NVIDIA GeForce RTX 2080, pci bus id: 0000:65:00.0, compute capability: 7.5\n"
     ]
    },
    {
     "name": "stdout",
     "output_type": "stream",
     "text": [
      "found GPU\n",
      "setting lengthscales to: [1. 1. 1.]\n",
      "'__init__': 0.228 seconds\n",
      "'_read_params_from_file': 0.086 seconds\n",
      "'set_parameters': 0.006 seconds\n",
      "'load_params': 0.094 seconds\n",
      "'set_lengthscales_constraints': 0.006 seconds\n",
      "*** not optimising parameters\n",
      "'get_parameters': 0.004 seconds\n",
      "parameters:\n",
      "lengthscales: array([7.42002497, 5.22129016, 1.00154053]) \n",
      "kernel_variance: 0.0026446655118385247\n",
      "likelihood_variance: 0.0012399294414115012\n",
      "'predict': 0.048 seconds\n",
      "total run time : 0.71 seconds\n",
      "------------------------------\n",
      "7 / 363\n",
      "             x         y        t       date         lon        lat\n",
      "241  1200000.0  800000.0  18326.0 2020-03-05  123.690068  77.058063\n",
      "'_update_global_data': 0.001 seconds\n",
      "'local_data_select': 0.002 seconds\n",
      "number obs: 43\n",
      "'_max_dist_bool': 0.014 seconds\n",
      "'_from_dataframe': 0.016 seconds\n",
      "found GPU\n",
      "setting lengthscales to: [1. 1. 1.]\n"
     ]
    },
    {
     "name": "stderr",
     "output_type": "stream",
     "text": [
      "2023-06-01 18:50:49.134818: I tensorflow/core/common_runtime/gpu/gpu_device.cc:1616] Created device /device:GPU:0 with 6261 MB memory:  -> device: 0, name: NVIDIA GeForce RTX 2080, pci bus id: 0000:17:00.0, compute capability: 7.5\n",
      "2023-06-01 18:50:49.136100: I tensorflow/core/common_runtime/gpu/gpu_device.cc:1616] Created device /device:GPU:1 with 4070 MB memory:  -> device: 1, name: NVIDIA GeForce RTX 2080, pci bus id: 0000:65:00.0, compute capability: 7.5\n"
     ]
    },
    {
     "name": "stdout",
     "output_type": "stream",
     "text": [
      "'__init__': 0.217 seconds\n",
      "'_read_params_from_file': 0.075 seconds\n",
      "'set_parameters': 0.006 seconds\n",
      "'load_params': 0.082 seconds\n",
      "'set_lengthscales_constraints': 0.005 seconds\n",
      "*** not optimising parameters\n",
      "'get_parameters': 0.006 seconds\n",
      "parameters:\n",
      "lengthscales: array([5.98855628, 5.07490335, 1.00086392]) \n",
      "kernel_variance: 0.0020970922174471693\n",
      "likelihood_variance: 0.0010897968311053706\n",
      "'predict': 0.048 seconds\n",
      "total run time : 0.71 seconds\n",
      "------------------------------\n",
      "8 / 363\n",
      "             x         y        t       date         lon       lat\n",
      "240  1000000.0  800000.0  18326.0 2020-03-05  128.659808  78.51376\n",
      "'_update_global_data': 0.001 seconds\n",
      "'local_data_select': 0.002 seconds\n",
      "number obs: 61\n",
      "'_max_dist_bool': 0.014 seconds\n",
      "'_from_dataframe': 0.016 seconds\n",
      "found GPU\n",
      "setting lengthscales to: [1. 1. 1.]\n"
     ]
    },
    {
     "name": "stderr",
     "output_type": "stream",
     "text": [
      "2023-06-01 18:50:49.821905: I tensorflow/core/common_runtime/gpu/gpu_device.cc:1616] Created device /device:GPU:0 with 6261 MB memory:  -> device: 0, name: NVIDIA GeForce RTX 2080, pci bus id: 0000:17:00.0, compute capability: 7.5\n",
      "2023-06-01 18:50:49.823002: I tensorflow/core/common_runtime/gpu/gpu_device.cc:1616] Created device /device:GPU:1 with 4070 MB memory:  -> device: 1, name: NVIDIA GeForce RTX 2080, pci bus id: 0000:65:00.0, compute capability: 7.5\n"
     ]
    },
    {
     "name": "stdout",
     "output_type": "stream",
     "text": [
      "'__init__': 0.197 seconds\n",
      "'_read_params_from_file': 0.090 seconds\n",
      "'set_parameters': 0.006 seconds\n",
      "'load_params': 0.098 seconds\n",
      "'set_lengthscales_constraints': 0.005 seconds\n",
      "*** not optimising parameters\n",
      "'get_parameters': 0.004 seconds\n",
      "parameters:\n",
      "lengthscales: array([4.96318867, 5.16503308, 1.00021023]) \n",
      "kernel_variance: 0.001653757077265235\n",
      "likelihood_variance: 0.0008515838399276731\n",
      "'predict': 0.049 seconds\n",
      "total run time : 0.68 seconds\n",
      "------------------------------\n",
      "9 / 363\n",
      "            x         y        t       date    lon        lat\n",
      "239  800000.0  800000.0  18326.0 2020-03-05  135.0  79.856495\n",
      "'_update_global_data': 0.001 seconds\n",
      "'local_data_select': 0.005 seconds\n",
      "number obs: 77\n",
      "'_max_dist_bool': 0.029 seconds\n",
      "'_from_dataframe': 0.032 seconds\n",
      "found GPU\n",
      "setting lengthscales to: [1. 1. 1.]\n"
     ]
    },
    {
     "name": "stderr",
     "output_type": "stream",
     "text": [
      "2023-06-01 18:50:50.534250: I tensorflow/core/common_runtime/gpu/gpu_device.cc:1616] Created device /device:GPU:0 with 6261 MB memory:  -> device: 0, name: NVIDIA GeForce RTX 2080, pci bus id: 0000:17:00.0, compute capability: 7.5\n",
      "2023-06-01 18:50:50.534854: I tensorflow/core/common_runtime/gpu/gpu_device.cc:1616] Created device /device:GPU:1 with 4070 MB memory:  -> device: 1, name: NVIDIA GeForce RTX 2080, pci bus id: 0000:65:00.0, compute capability: 7.5\n"
     ]
    },
    {
     "name": "stdout",
     "output_type": "stream",
     "text": [
      "'__init__': 0.192 seconds\n",
      "'_read_params_from_file': 0.074 seconds\n",
      "'set_parameters': 0.006 seconds\n",
      "'load_params': 0.081 seconds\n",
      "'set_lengthscales_constraints': 0.006 seconds\n",
      "*** not optimising parameters\n",
      "'get_parameters': 0.010 seconds\n",
      "parameters:\n",
      "lengthscales: array([4.47711361, 5.14493523, 1.00006661]) \n",
      "kernel_variance: 0.0012787213477492513\n",
      "likelihood_variance: 0.0007234919314021942\n",
      "'predict': 0.055 seconds\n",
      "total run time : 0.69 seconds\n",
      "------------------------------\n",
      "10 / 363\n",
      "             x          y        t       date         lon        lat\n",
      "247 -1400000.0  1000000.0  18326.0 2020-03-05 -125.537678  74.546108\n",
      "'_update_global_data': 0.001 seconds\n",
      "'local_data_select': 0.002 seconds\n",
      "number obs: 34\n",
      "'_max_dist_bool': 0.014 seconds\n",
      "'_from_dataframe': 0.016 seconds\n",
      "found GPU\n",
      "setting lengthscales to: [1. 1. 1.]\n",
      "'__init__': 0.170 seconds\n"
     ]
    },
    {
     "name": "stderr",
     "output_type": "stream",
     "text": [
      "2023-06-01 18:50:51.191545: I tensorflow/core/common_runtime/gpu/gpu_device.cc:1616] Created device /device:GPU:0 with 6261 MB memory:  -> device: 0, name: NVIDIA GeForce RTX 2080, pci bus id: 0000:17:00.0, compute capability: 7.5\n",
      "2023-06-01 18:50:51.191920: I tensorflow/core/common_runtime/gpu/gpu_device.cc:1616] Created device /device:GPU:1 with 4070 MB memory:  -> device: 1, name: NVIDIA GeForce RTX 2080, pci bus id: 0000:65:00.0, compute capability: 7.5\n"
     ]
    },
    {
     "name": "stdout",
     "output_type": "stream",
     "text": [
      "'_read_params_from_file': 0.089 seconds\n",
      "'set_parameters': 0.006 seconds\n",
      "'load_params': 0.096 seconds\n",
      "'set_lengthscales_constraints': 0.005 seconds\n",
      "*** not optimising parameters\n",
      "'get_parameters': 0.004 seconds\n",
      "parameters:\n",
      "lengthscales: array([4.29761752, 2.6118081 , 0.99996357]) \n",
      "kernel_variance: 0.02098002318811688\n",
      "likelihood_variance: 0.003074278551629556\n",
      "'predict': 0.046 seconds\n",
      "SAVING RESULTS\n",
      "run_details\n",
      "preds\n",
      "lengthscales\n",
      "kernel_variance\n",
      "likelihood_variance\n",
      "total run time : 0.80 seconds\n",
      "------------------------------\n",
      "11 / 363\n",
      "            x         y        t       date         lon        lat\n",
      "238  600000.0  800000.0  18326.0 2020-03-05  143.130102  81.037096\n",
      "'_update_global_data': 0.001 seconds\n",
      "'local_data_select': 0.002 seconds\n",
      "number obs: 74\n",
      "'_max_dist_bool': 0.013 seconds\n",
      "'_from_dataframe': 0.015 seconds\n",
      "found GPU\n",
      "setting lengthscales to: [1. 1. 1.]\n",
      "'__init__': 0.198 seconds\n",
      "'_read_params_from_file': 0.075 seconds\n",
      "'set_parameters': 0.006 seconds\n",
      "'load_params': 0.081 seconds\n",
      "'set_lengthscales_constraints': 0.005 seconds\n",
      "*** not optimising parameters\n",
      "'get_parameters': 0.004 seconds\n",
      "parameters:\n",
      "lengthscales: array([4.4391987 , 6.28133895, 1.00020987]) \n",
      "kernel_variance: 0.001040864526020446\n",
      "likelihood_variance: 0.0007256604068909768\n",
      "'predict': 0.047 seconds\n"
     ]
    },
    {
     "name": "stderr",
     "output_type": "stream",
     "text": [
      "2023-06-01 18:50:52.015716: I tensorflow/core/common_runtime/gpu/gpu_device.cc:1616] Created device /device:GPU:0 with 6261 MB memory:  -> device: 0, name: NVIDIA GeForce RTX 2080, pci bus id: 0000:17:00.0, compute capability: 7.5\n",
      "2023-06-01 18:50:52.017176: I tensorflow/core/common_runtime/gpu/gpu_device.cc:1616] Created device /device:GPU:1 with 4070 MB memory:  -> device: 1, name: NVIDIA GeForce RTX 2080, pci bus id: 0000:65:00.0, compute capability: 7.5\n"
     ]
    },
    {
     "name": "stdout",
     "output_type": "stream",
     "text": [
      "total run time : 0.68 seconds\n",
      "------------------------------\n",
      "12 / 363\n",
      "            x         y        t       date         lon        lat\n",
      "236  200000.0  800000.0  18326.0 2020-03-05  165.963757  82.611609\n",
      "'_update_global_data': 0.001 seconds\n",
      "'local_data_select': 0.003 seconds\n",
      "number obs: 64\n",
      "'_max_dist_bool': 0.014 seconds\n",
      "'_from_dataframe': 0.016 seconds\n",
      "found GPU\n",
      "setting lengthscales to: [1. 1. 1.]\n"
     ]
    },
    {
     "name": "stderr",
     "output_type": "stream",
     "text": [
      "2023-06-01 18:50:52.682040: I tensorflow/core/common_runtime/gpu/gpu_device.cc:1616] Created device /device:GPU:0 with 6261 MB memory:  -> device: 0, name: NVIDIA GeForce RTX 2080, pci bus id: 0000:17:00.0, compute capability: 7.5\n",
      "2023-06-01 18:50:52.683107: I tensorflow/core/common_runtime/gpu/gpu_device.cc:1616] Created device /device:GPU:1 with 4070 MB memory:  -> device: 1, name: NVIDIA GeForce RTX 2080, pci bus id: 0000:65:00.0, compute capability: 7.5\n"
     ]
    },
    {
     "name": "stdout",
     "output_type": "stream",
     "text": [
      "'__init__': 0.185 seconds\n",
      "'_read_params_from_file': 0.073 seconds\n",
      "'set_parameters': 0.006 seconds\n",
      "'load_params': 0.080 seconds\n",
      "'set_lengthscales_constraints': 0.005 seconds\n",
      "*** not optimising parameters\n",
      "'get_parameters': 0.004 seconds\n",
      "parameters:\n",
      "lengthscales: array([ 3.27135048, 10.76965008,  1.0002611 ]) \n",
      "kernel_variance: 0.000903566706396442\n",
      "likelihood_variance: 0.0010877245583292402\n",
      "'predict': 0.046 seconds\n",
      "total run time : 0.66 seconds\n",
      "------------------------------\n",
      "13 / 363\n",
      "       x         y        t       date    lon        lat\n",
      "235  0.0  800000.0  18326.0 2020-03-05  180.0  82.832524\n",
      "'_update_global_data': 0.001 seconds\n",
      "'local_data_select': 0.002 seconds\n",
      "number obs: 49\n",
      "'_max_dist_bool': 0.014 seconds\n",
      "'_from_dataframe': 0.016 seconds\n",
      "found GPU\n",
      "setting lengthscales to: [1. 1. 1.]\n"
     ]
    },
    {
     "name": "stderr",
     "output_type": "stream",
     "text": [
      "2023-06-01 18:50:53.354799: I tensorflow/core/common_runtime/gpu/gpu_device.cc:1616] Created device /device:GPU:0 with 6261 MB memory:  -> device: 0, name: NVIDIA GeForce RTX 2080, pci bus id: 0000:17:00.0, compute capability: 7.5\n",
      "2023-06-01 18:50:53.355944: I tensorflow/core/common_runtime/gpu/gpu_device.cc:1616] Created device /device:GPU:1 with 4070 MB memory:  -> device: 1, name: NVIDIA GeForce RTX 2080, pci bus id: 0000:65:00.0, compute capability: 7.5\n"
     ]
    },
    {
     "name": "stdout",
     "output_type": "stream",
     "text": [
      "'__init__': 0.205 seconds\n",
      "'_read_params_from_file': 0.089 seconds\n",
      "'set_parameters': 0.006 seconds\n",
      "'load_params': 0.096 seconds\n",
      "'set_lengthscales_constraints': 0.005 seconds\n",
      "*** not optimising parameters\n",
      "'get_parameters': 0.004 seconds\n",
      "parameters:\n",
      "lengthscales: array([ 3.07396061, 10.35591754,  1.0001552 ]) \n",
      "kernel_variance: 0.0013935379376642514\n",
      "likelihood_variance: 0.0012744487065877166\n",
      "'predict': 0.061 seconds\n",
      "total run time : 0.71 seconds\n",
      "------------------------------\n",
      "14 / 363\n",
      "            x         y        t       date         lon        lat\n",
      "234 -200000.0  800000.0  18326.0 2020-03-05 -165.963757  82.611609\n",
      "'_update_global_data': 0.001 seconds\n",
      "'local_data_select': 0.002 seconds\n",
      "number obs: 43\n",
      "'_max_dist_bool': 0.014 seconds\n",
      "'_from_dataframe': 0.016 seconds\n",
      "found GPU\n",
      "setting lengthscales to: [1. 1. 1.]\n"
     ]
    },
    {
     "name": "stderr",
     "output_type": "stream",
     "text": [
      "2023-06-01 18:50:54.087260: I tensorflow/core/common_runtime/gpu/gpu_device.cc:1616] Created device /device:GPU:0 with 6261 MB memory:  -> device: 0, name: NVIDIA GeForce RTX 2080, pci bus id: 0000:17:00.0, compute capability: 7.5\n",
      "2023-06-01 18:50:54.088475: I tensorflow/core/common_runtime/gpu/gpu_device.cc:1616] Created device /device:GPU:1 with 4070 MB memory:  -> device: 1, name: NVIDIA GeForce RTX 2080, pci bus id: 0000:65:00.0, compute capability: 7.5\n"
     ]
    },
    {
     "name": "stdout",
     "output_type": "stream",
     "text": [
      "'__init__': 0.229 seconds\n",
      "'_read_params_from_file': 0.075 seconds\n",
      "'set_parameters': 0.006 seconds\n",
      "'load_params': 0.082 seconds\n",
      "'set_lengthscales_constraints': 0.005 seconds\n",
      "*** not optimising parameters\n",
      "'get_parameters': 0.010 seconds\n",
      "parameters:\n",
      "lengthscales: array([4.8558413 , 8.11560463, 1.00024245]) \n",
      "kernel_variance: 0.0026794587663311813\n",
      "likelihood_variance: 0.0012675145514359964\n",
      "'predict': 0.060 seconds\n",
      "total run time : 0.72 seconds\n",
      "------------------------------\n",
      "15 / 363\n",
      "            x         y        t       date         lon        lat\n",
      "233 -400000.0  800000.0  18326.0 2020-03-05 -153.434949  81.985104\n",
      "'_update_global_data': 0.001 seconds\n",
      "'local_data_select': 0.002 seconds\n",
      "number obs: 51\n",
      "'_max_dist_bool': 0.014 seconds\n",
      "'_from_dataframe': 0.016 seconds\n",
      "found GPU\n",
      "setting lengthscales to: [1. 1. 1.]\n"
     ]
    },
    {
     "name": "stderr",
     "output_type": "stream",
     "text": [
      "2023-06-01 18:50:54.789718: I tensorflow/core/common_runtime/gpu/gpu_device.cc:1616] Created device /device:GPU:0 with 6261 MB memory:  -> device: 0, name: NVIDIA GeForce RTX 2080, pci bus id: 0000:17:00.0, compute capability: 7.5\n",
      "2023-06-01 18:50:54.790737: I tensorflow/core/common_runtime/gpu/gpu_device.cc:1616] Created device /device:GPU:1 with 4070 MB memory:  -> device: 1, name: NVIDIA GeForce RTX 2080, pci bus id: 0000:65:00.0, compute capability: 7.5\n"
     ]
    },
    {
     "name": "stdout",
     "output_type": "stream",
     "text": [
      "'__init__': 0.225 seconds\n",
      "'_read_params_from_file': 0.084 seconds\n",
      "'set_parameters': 0.007 seconds\n",
      "'load_params': 0.093 seconds\n",
      "'set_lengthscales_constraints': 0.005 seconds\n",
      "*** not optimising parameters\n",
      "'get_parameters': 0.004 seconds\n",
      "parameters:\n",
      "lengthscales: array([7.11625034, 5.55212456, 1.00030993]) \n",
      "kernel_variance: 0.004832699202286942\n",
      "likelihood_variance: 0.0012853222729915425\n",
      "'predict': 0.048 seconds\n",
      "total run time : 0.70 seconds\n",
      "------------------------------\n",
      "16 / 363\n",
      "            x         y        t       date         lon        lat\n",
      "232 -600000.0  800000.0  18326.0 2020-03-05 -143.130102  81.037096\n",
      "'_update_global_data': 0.001 seconds\n",
      "'local_data_select': 0.002 seconds\n",
      "number obs: 63\n",
      "'_max_dist_bool': 0.014 seconds\n",
      "'_from_dataframe': 0.017 seconds\n",
      "found GPU\n",
      "setting lengthscales to: [1. 1. 1.]\n"
     ]
    },
    {
     "name": "stderr",
     "output_type": "stream",
     "text": [
      "2023-06-01 18:50:55.498865: I tensorflow/core/common_runtime/gpu/gpu_device.cc:1616] Created device /device:GPU:0 with 6261 MB memory:  -> device: 0, name: NVIDIA GeForce RTX 2080, pci bus id: 0000:17:00.0, compute capability: 7.5\n",
      "2023-06-01 18:50:55.500031: I tensorflow/core/common_runtime/gpu/gpu_device.cc:1616] Created device /device:GPU:1 with 4070 MB memory:  -> device: 1, name: NVIDIA GeForce RTX 2080, pci bus id: 0000:65:00.0, compute capability: 7.5\n"
     ]
    },
    {
     "name": "stdout",
     "output_type": "stream",
     "text": [
      "'__init__': 0.216 seconds\n",
      "'_read_params_from_file': 0.075 seconds\n",
      "'set_parameters': 0.006 seconds\n",
      "'load_params': 0.082 seconds\n",
      "'set_lengthscales_constraints': 0.006 seconds\n",
      "*** not optimising parameters\n",
      "'get_parameters': 0.004 seconds\n",
      "parameters:\n",
      "lengthscales: array([7.69557124, 4.72927882, 1.00009285]) \n",
      "kernel_variance: 0.007967085205425092\n",
      "likelihood_variance: 0.0015709503373135235\n",
      "'predict': 0.066 seconds\n",
      "total run time : 0.71 seconds\n",
      "------------------------------\n",
      "17 / 363\n",
      "            x         y        t       date    lon        lat\n",
      "231 -800000.0  800000.0  18326.0 2020-03-05 -135.0  79.856495\n",
      "'_update_global_data': 0.001 seconds\n",
      "'local_data_select': 0.002 seconds\n",
      "number obs: 73\n",
      "'_max_dist_bool': 0.014 seconds\n",
      "'_from_dataframe': 0.016 seconds\n",
      "found GPU\n",
      "setting lengthscales to: [1. 1. 1.]\n",
      "'__init__': 0.178 seconds\n"
     ]
    },
    {
     "name": "stderr",
     "output_type": "stream",
     "text": [
      "2023-06-01 18:50:56.188295: I tensorflow/core/common_runtime/gpu/gpu_device.cc:1616] Created device /device:GPU:0 with 6261 MB memory:  -> device: 0, name: NVIDIA GeForce RTX 2080, pci bus id: 0000:17:00.0, compute capability: 7.5\n",
      "2023-06-01 18:50:56.188662: I tensorflow/core/common_runtime/gpu/gpu_device.cc:1616] Created device /device:GPU:1 with 4070 MB memory:  -> device: 1, name: NVIDIA GeForce RTX 2080, pci bus id: 0000:65:00.0, compute capability: 7.5\n"
     ]
    },
    {
     "name": "stdout",
     "output_type": "stream",
     "text": [
      "'_read_params_from_file': 0.073 seconds\n",
      "'set_parameters': 0.006 seconds\n",
      "'load_params': 0.080 seconds\n",
      "'set_lengthscales_constraints': 0.005 seconds\n",
      "*** not optimising parameters\n",
      "'get_parameters': 0.004 seconds\n",
      "parameters:\n",
      "lengthscales: array([6.64795434, 4.97055267, 0.99990784]) \n",
      "kernel_variance: 0.012256751904291666\n",
      "likelihood_variance: 0.001982335595044621\n",
      "'predict': 0.087 seconds\n",
      "total run time : 0.69 seconds\n",
      "------------------------------\n",
      "18 / 363\n",
      "             x         y        t       date         lon       lat\n",
      "230 -1000000.0  800000.0  18326.0 2020-03-05 -128.659808  78.51376\n",
      "'_update_global_data': 0.001 seconds\n",
      "'local_data_select': 0.002 seconds\n",
      "number obs: 66\n",
      "'_max_dist_bool': 0.014 seconds\n",
      "'_from_dataframe': 0.016 seconds\n",
      "found GPU\n",
      "setting lengthscales to: [1. 1. 1.]\n"
     ]
    }
   ],
   "source": [
    "local_expert_config.model_config.load_params = {\"file\": out_file, \"table_suffix\": \"_SMOOTHED\"}\n",
    "locexp = LocalExpertOI(local_expert_config=local_expert_config)\n",
    "\n",
    "run_config.optimise = False\n",
    "run_config.predict = True\n",
    "run_config.table_suffix = \"_SMOOTHED\"\n",
    "\n",
    "locexp.run(**run_config.to_dict())"
   ]
  },
  {
   "cell_type": "code",
   "execution_count": null,
   "metadata": {},
   "outputs": [],
   "source": [
    "# Plot predictions"
   ]
  }
 ],
 "metadata": {
  "kernelspec": {
   "display_name": "Python 3.8.10 ('pyOI')",
   "language": "python",
   "name": "python3"
  },
  "language_info": {
   "codemirror_mode": {
    "name": "ipython",
    "version": 3
   },
   "file_extension": ".py",
   "mimetype": "text/x-python",
   "name": "python",
   "nbconvert_exporter": "python",
   "pygments_lexer": "ipython3",
   "version": "3.8.10"
  },
  "orig_nbformat": 4,
  "vscode": {
   "interpreter": {
    "hash": "c1e6bede33930b8fd2b93afa5a6c52d07a487ede6157e4a24ba506222895823f"
   }
  }
 },
 "nbformat": 4,
 "nbformat_minor": 2
}
