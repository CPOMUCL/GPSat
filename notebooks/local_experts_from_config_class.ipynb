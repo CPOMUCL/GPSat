{
 "cells": [
  {
   "cell_type": "code",
   "execution_count": 1,
   "metadata": {},
   "outputs": [
    {
     "name": "stderr",
     "output_type": "stream",
     "text": [
      "2023-06-13 11:51:44.772651: I tensorflow/core/platform/cpu_feature_guard.cc:193] This TensorFlow binary is optimized with oneAPI Deep Neural Network Library (oneDNN) to use the following CPU instructions in performance-critical operations:  AVX2 AVX512F FMA\n",
      "To enable them in other operations, rebuild TensorFlow with the appropriate compiler flags.\n",
      "2023-06-13 11:51:44.929588: E tensorflow/stream_executor/cuda/cuda_blas.cc:2981] Unable to register cuBLAS factory: Attempting to register factory for plugin cuBLAS when one has already been registered\n",
      "2023-06-13 11:51:45.439901: W tensorflow/stream_executor/platform/default/dso_loader.cc:64] Could not load dynamic library 'libnvinfer.so.7'; dlerror: libnvinfer.so.7: cannot open shared object file: No such file or directory; LD_LIBRARY_PATH: /usr/local/cuda-11.4/lib64:/usr/local/cuda-11.4/lib64\n",
      "2023-06-13 11:51:45.439961: W tensorflow/stream_executor/platform/default/dso_loader.cc:64] Could not load dynamic library 'libnvinfer_plugin.so.7'; dlerror: libnvinfer_plugin.so.7: cannot open shared object file: No such file or directory; LD_LIBRARY_PATH: /usr/local/cuda-11.4/lib64:/usr/local/cuda-11.4/lib64\n",
      "2023-06-13 11:51:45.439967: W tensorflow/compiler/tf2tensorrt/utils/py_utils.cc:38] TF-TRT Warning: Cannot dlopen some TensorRT libraries. If you would like to use Nvidia GPU with TensorRT, please make sure the missing libraries mentioned above are installed properly.\n",
      "OMP: Info #276: omp_set_nested routine deprecated, please use omp_set_max_active_levels instead.\n"
     ]
    }
   ],
   "source": [
    "import pandas as pd\n",
    "from GPSat import get_data_path, get_parent_path\n",
    "from GPSat.local_experts import LocalExpertOI, get_results_from_h5file\n",
    "from GPSat.postprocessing import smooth_hyperparameters, SmoothingConfig\n",
    "from GPSat.config_dataclasses import (DataConfig, \n",
    "                                                       ModelConfig,\n",
    "                                                       PredictionLocsConfig,\n",
    "                                                       ExpertLocsConfig,\n",
    "                                                       RunConfig,\n",
    "                                                       LocalExpertConfig)\n"
   ]
  },
  {
   "attachments": {},
   "cell_type": "markdown",
   "metadata": {},
   "source": [
    "# Set up data/model/location configs"
   ]
  },
  {
   "cell_type": "code",
   "execution_count": null,
   "metadata": {},
   "outputs": [],
   "source": []
  },
  {
   "cell_type": "code",
   "execution_count": 2,
   "metadata": {},
   "outputs": [],
   "source": [
    "data_config = DataConfig(data_source=get_data_path(\"example\", \"ABC_binned_50km.h5\"),\n",
    "                         table=\"data\",\n",
    "                         obs_col=\"obs\",\n",
    "                         coords_col=[\"x\", \"y\", \"t\"],\n",
    "                         local_select=[{\"col\": \"t\", \"comp\": \"<=\", \"val\": 4},\n",
    "                                       {\"col\": \"t\", \"comp\": \"<=\", \"val\": -4},\n",
    "                                       {\"col\": [\"x\", \"y\"], \"comp\": \"<\", \"val\": 300_000}],\n",
    "                         global_select=[{\"col\": \"lat\", \"comp\": \">=\", \"val\": 60},\n",
    "                                        {\"loc_col\": \"t\", \"src_col\": \"date\", \"func\": \"lambda x,y: np.datetime64(pd.to_datetime(x+y, unit='D'))\"}]\n",
    "                        )\n",
    "\n",
    "\n",
    "model_config = ModelConfig(oi_model=\"GPflowGPRModel\",\n",
    "                           init_params={\"coords_scale\": [50_000, 50_000, 1],\n",
    "                                        \"noise_variance\": 0.006},\n",
    "                           constraints={\"lengthscales\": {\"low\": [1e-08, 1e-08, 1e-08],\n",
    "                                                         \"high\": [600_000, 600_000, 9]}\n",
    "                                    },\n",
    "                           optim_kwargs={\"fixed_params\": ['likelihood_variance']}\n",
    "                           )\n",
    "\n",
    "\n",
    "pred_locs_config = PredictionLocsConfig(method=\"from_dataframe\",\n",
    "                                       df_file=get_data_path(\"locations\", \"2d_xy_grid_5x5km.csv\"),\n",
    "                                       max_dist=200_000\n",
    "                                       )\n",
    "\n",
    "\n",
    "expert_locs_config = ExpertLocsConfig(source=get_data_path(\"locations\", \"example_expert_locations_arctic.csv\"),\n",
    "                                     add_data_to_col={\"date\": [\"2020-03-04\", \"2020-03-05\", \"2020-03-06\"]},\n",
    "                                     col_funcs={\"date\": {\"func\": \"lambda x: x.astype('datetime64[D]')\",\n",
    "                                                         \"col_args\": \"date\"\n",
    "                                                      },\n",
    "                                                \"t\": {\"func\": \"lambda x: x.astype('datetime64[D]').astype(float)\",\n",
    "                                                      \"col_args\": \"date\"}\n",
    "                                             },\n",
    "                                     col_select=[\"x\", \"y\", \"t\", \"date\", \"lon\", \"lat\"],\n",
    "                                     row_select=[{\"col\": \"date\", \"comp\": \"==\", \"val\": \"2020-03-05\"},\n",
    "                                                 {\"col\": \"lat\", \"comp\": \">=\", \"val\": 60}],\n",
    "                                     sort_by=\"date\"\n",
    "                                    )\n",
    "\n"
   ]
  },
  {
   "cell_type": "code",
   "execution_count": 3,
   "metadata": {},
   "outputs": [],
   "source": [
    "run_config = RunConfig(store_path=get_parent_path(\"results\", \"example\", \"ABC_50km_test_2.h5\"),\n",
    "                       predict=False)\n",
    "\n",
    "local_expert_config = LocalExpertConfig(data_config,\n",
    "                                        model_config,\n",
    "                                        expert_locs_config,\n",
    "                                        pred_locs_config)\n"
   ]
  },
  {
   "attachments": {},
   "cell_type": "markdown",
   "metadata": {},
   "source": [
    "# Train model\n",
    "\n",
    "Once you specify the config classes, training is easy."
   ]
  },
  {
   "cell_type": "code",
   "execution_count": 4,
   "metadata": {},
   "outputs": [
    {
     "name": "stdout",
     "output_type": "stream",
     "text": [
      "'data_select': 0.000 seconds\n",
      "'load': 0.018 seconds\n",
      "\u001b[94mcurrent config matched previous - idx: 1\u001b[0m\n",
      "---------\n",
      "storing expert locations in 'expert_locs' table\n",
      "closing\n",
      "'data_select': 0.019 seconds\n",
      "'load': 0.021 seconds\n",
      "for table: expert_locs returning 0 / 363 entries\n",
      "\u001b[96m---------\n",
      "dropping expert locations that already exists in 'run_details' table\u001b[0m\n",
      "closing\n",
      "'data_select': 0.020 seconds\n",
      "'load': 0.021 seconds\n",
      "for table: run_details returning 0 / 363 entries\n",
      "'run': 0.198 seconds\n"
     ]
    }
   ],
   "source": [
    "# TODO: include train only option + fixed params option\n",
    "locexp = LocalExpertOI(local_expert_config=local_expert_config)\n",
    "locexp.run(**run_config.to_dict())"
   ]
  },
  {
   "cell_type": "code",
   "execution_count": 5,
   "metadata": {},
   "outputs": [
    {
     "name": "stdout",
     "output_type": "stream",
     "text": [
      "Columns = ['/expert_locs', '/expert_locs_SMOOTHED', '/kernel_variance', '/kernel_variance_SMOOTHED', '/lengthscales', '/lengthscales_SMOOTHED', '/likelihood_variance', '/likelihood_variance_SMOOTHED', '/oi_config', '/oi_config_SMOOTHED', '/preds_SMOOTHED', '/run_details', '/run_details_SMOOTHED']\n"
     ]
    }
   ],
   "source": [
    "# See the tables in the results file\n",
    "with pd.HDFStore(run_config.store_path, mode=\"r\") as store:\n",
    "    all_keys = store.keys()\n",
    "    print(f\"Columns = {all_keys}\")"
   ]
  },
  {
   "cell_type": "code",
   "execution_count": 6,
   "metadata": {},
   "outputs": [
    {
     "name": "stdout",
     "output_type": "stream",
     "text": [
      "issuing getting oi_config\n",
      "reading in results\n",
      "selecting only tables: ['lengthscales', 'likelihood_variance', 'kernel_variance']\n",
      "in get_results_from_h5file trying read expert_locations from file got Exception:\n",
      "No objects to concatenate\n",
      "expert_locations data will not be merged on results data\n"
     ]
    },
    {
     "name": "stderr",
     "output_type": "stream",
     "text": [
      "/home/so/miniconda3/envs/pyOI/lib/python3.8/site-packages/tables/group.py:1160: UserWarning: problems loading leaf ``/oi_config/table``::\n",
      "\n",
      "  HDF5 error back trace\n",
      "\n",
      "  File \"H5Dio.c\", line 179, in H5Dread\n",
      "    can't read data\n",
      "  File \"H5VLcallback.c\", line 2011, in H5VL_dataset_read\n",
      "    dataset read failed\n",
      "  File \"H5VLcallback.c\", line 1978, in H5VL__dataset_read\n",
      "    dataset read failed\n",
      "  File \"H5VLnative_dataset.c\", line 166, in H5VL__native_dataset_read\n",
      "    can't read data\n",
      "  File \"H5Dio.c\", line 545, in H5D__read\n",
      "    can't read data\n",
      "  File \"H5Dchunk.c\", line 2549, in H5D__chunk_read\n",
      "    unable to read raw data chunk\n",
      "  File \"H5Dchunk.c\", line 3904, in H5D__chunk_lock\n",
      "    data pipeline read failed\n",
      "  File \"H5Z.c\", line 1400, in H5Z_pipeline\n",
      "    filter returned failure during read\n",
      "  File \"H5Zdeflate.c\", line 118, in H5Z__filter_deflate\n",
      "    inflate() failed\n",
      "\n",
      "End of HDF5 error back trace\n",
      "\n",
      "Problems reading the array data.\n",
      "\n",
      "The leaf will become an ``UnImplemented`` node.\n",
      "  warnings.warn(\n"
     ]
    }
   ],
   "source": [
    "dfs, oi_configs = get_results_from_h5file(results_file=run_config.store_path,\n",
    "                                          global_col_funcs=None,\n",
    "                                          merge_on_expert_locations=False,\n",
    "                                          select_tables=[\"lengthscales\", \"likelihood_variance\", \"kernel_variance\"]\n",
    "                                         )"
   ]
  },
  {
   "cell_type": "code",
   "execution_count": 7,
   "metadata": {},
   "outputs": [],
   "source": [
    "# Plot trained hyperparameters here\n"
   ]
  },
  {
   "attachments": {},
   "cell_type": "markdown",
   "metadata": {},
   "source": [
    "# Smooth hyperparameters"
   ]
  },
  {
   "cell_type": "code",
   "execution_count": 8,
   "metadata": {},
   "outputs": [
    {
     "name": "stderr",
     "output_type": "stream",
     "text": [
      "2023-06-13 11:51:58.526824: I tensorflow/core/platform/cpu_feature_guard.cc:193] This TensorFlow binary is optimized with oneAPI Deep Neural Network Library (oneDNN) to use the following CPU instructions in performance-critical operations:  AVX2 AVX512F FMA\n",
      "To enable them in other operations, rebuild TensorFlow with the appropriate compiler flags.\n",
      "2023-06-13 11:52:01.348675: I tensorflow/core/common_runtime/gpu/gpu_device.cc:1616] Created device /device:GPU:0 with 6250 MB memory:  -> device: 0, name: NVIDIA GeForce RTX 2080, pci bus id: 0000:17:00.0, compute capability: 7.5\n",
      "2023-06-13 11:52:01.349282: I tensorflow/core/common_runtime/gpu/gpu_device.cc:1616] Created device /device:GPU:1 with 5424 MB memory:  -> device: 1, name: NVIDIA GeForce RTX 2080, pci bus id: 0000:65:00.0, compute capability: 7.5\n",
      "2023-06-13 11:52:01.355800: I tensorflow/core/common_runtime/gpu/gpu_device.cc:1616] Created device /job:localhost/replica:0/task:0/device:GPU:0 with 6250 MB memory:  -> device: 0, name: NVIDIA GeForce RTX 2080, pci bus id: 0000:17:00.0, compute capability: 7.5\n",
      "2023-06-13 11:52:01.355988: I tensorflow/core/common_runtime/gpu/gpu_device.cc:1616] Created device /job:localhost/replica:0/task:0/device:GPU:1 with 5424 MB memory:  -> device: 1, name: NVIDIA GeForce RTX 2080, pci bus id: 0000:65:00.0, compute capability: 7.5\n"
     ]
    },
    {
     "name": "stdout",
     "output_type": "stream",
     "text": [
      "found GPU\n",
      "setting lengthscales to: [1.]\n",
      "'__init__': 3.025 seconds\n",
      "reading in results\n",
      "selecting only tables: ['lengthscales', 'kernel_variance', 'likelihood_variance', 'expert_locs', 'oi_config']\n",
      "expert_locations data will not be merged on results data\n",
      "\u001b[96madding smoothed table: lengthscales_SMOOTHED\u001b[0m\n",
      "\u001b[96madding smoothed table: kernel_variance_SMOOTHED\u001b[0m\n",
      "\u001b[96mcopying table: likelihood_variance to likelihood_variance_SMOOTHED\u001b[0m\n",
      "\u001b[92mwriting (smoothed) hyper parameters to:\n",
      "/home/so/Documents/Projects/GPSat/results/example/ABC_50km_test_SMOOTHED_2.h5\n",
      "table_suffix:_SMOOTHED\u001b[0m\n",
      "\u001b[1mwriting: lengthscales_SMOOTHED to table\u001b[0m\n",
      "\u001b[1mwriting: kernel_variance_SMOOTHED to table\u001b[0m\n",
      "\u001b[1mwriting: likelihood_variance_SMOOTHED to table\u001b[0m\n"
     ]
    }
   ],
   "source": [
    "out_file = get_parent_path(\"results\", \"example\", \"ABC_50km_test_SMOOTHED_2.h5\") # Path to store smoothed hyperparameters\n",
    "# smooth_configs = {\"lengthscales\": SmoothingConfig(l_x=200_000, l_y=200_000, max=12),\n",
    "#                   \"likelihood_variance\": SmoothingConfig(l_x=200_000, l_y=200_000),\n",
    "#                   \"kernel_variance\": SmoothingConfig(l_x=200_000, l_y=200_000, max=0.1)}\n",
    "\n",
    "# smooth_hyperparameters(result_file=run_config.store_path,\n",
    "#                        params_to_smooth=[\"lengthscales\", \"likelihood_variance\", \"kernel_variance\"],\n",
    "#                        smooth_config_dict=smooth_configs,\n",
    "#                        output_file=out_file,\n",
    "#                        save_config_file=False)\n",
    "\n",
    "smooth_configs = {\"lengthscales\": SmoothingConfig(l_x=200_000, l_y=200_000, max=12),\n",
    "                  \"kernel_variance\": SmoothingConfig(l_x=200_000, l_y=200_000, max=0.1)}\n",
    "\n",
    "smooth_hyperparameters(result_file=run_config.store_path,\n",
    "                       params_to_smooth=[\"lengthscales\", \"kernel_variance\"],\n",
    "                       l_x = 200_000,\n",
    "                       l_y = 200_000,\n",
    "                       max = [12, 0.1],\n",
    "                       output_file=out_file,\n",
    "                       save_config_file=False)\n"
   ]
  },
  {
   "cell_type": "code",
   "execution_count": 9,
   "metadata": {},
   "outputs": [
    {
     "name": "stdout",
     "output_type": "stream",
     "text": [
      "Columns = ['/kernel_variance_SMOOTHED', '/lengthscales_SMOOTHED', '/likelihood_variance_SMOOTHED']\n"
     ]
    }
   ],
   "source": [
    "# See the tables in the results file after smoothing\n",
    "with pd.HDFStore(out_file, mode=\"r\") as store:\n",
    "    all_keys = store.keys()\n",
    "    print(f\"Columns = {all_keys}\")"
   ]
  },
  {
   "cell_type": "code",
   "execution_count": 10,
   "metadata": {},
   "outputs": [
    {
     "name": "stdout",
     "output_type": "stream",
     "text": [
      "issuing getting oi_config_SMOOTHED\n",
      "reading in results\n",
      "selecting only tables: ['lengthscales_SMOOTHED', 'likelihood_variance_SMOOTHED', 'kernel_variance_SMOOTHED']\n",
      "in get_results_from_h5file trying read expert_locations from file got Exception:\n",
      "No objects to concatenate\n",
      "expert_locations data will not be merged on results data\n"
     ]
    }
   ],
   "source": [
    "dfs, oi_configs = get_results_from_h5file(results_file=out_file,\n",
    "                                          global_col_funcs=None,\n",
    "                                          merge_on_expert_locations=False,\n",
    "                                          select_tables=[\"lengthscales\", \"likelihood_variance\", \"kernel_variance\"],\n",
    "                                          table_suffix=\"_SMOOTHED\",\n",
    "                                          add_suffix_to_table=True)"
   ]
  },
  {
   "cell_type": "code",
   "execution_count": 13,
   "metadata": {},
   "outputs": [
    {
     "data": {
      "text/html": [
       "<div>\n",
       "<style scoped>\n",
       "    .dataframe tbody tr th:only-of-type {\n",
       "        vertical-align: middle;\n",
       "    }\n",
       "\n",
       "    .dataframe tbody tr th {\n",
       "        vertical-align: top;\n",
       "    }\n",
       "\n",
       "    .dataframe thead th {\n",
       "        text-align: right;\n",
       "    }\n",
       "</style>\n",
       "<table border=\"1\" class=\"dataframe\">\n",
       "  <thead>\n",
       "    <tr style=\"text-align: right;\">\n",
       "      <th></th>\n",
       "      <th>x</th>\n",
       "      <th>y</th>\n",
       "      <th>t</th>\n",
       "      <th>_dim_0</th>\n",
       "      <th>lengthscales</th>\n",
       "    </tr>\n",
       "  </thead>\n",
       "  <tbody>\n",
       "    <tr>\n",
       "      <th>0</th>\n",
       "      <td>-1600000.0</td>\n",
       "      <td>1000000.0</td>\n",
       "      <td>18326.0</td>\n",
       "      <td>0.0</td>\n",
       "      <td>2.335665</td>\n",
       "    </tr>\n",
       "    <tr>\n",
       "      <th>1</th>\n",
       "      <td>-1800000.0</td>\n",
       "      <td>1000000.0</td>\n",
       "      <td>18326.0</td>\n",
       "      <td>0.0</td>\n",
       "      <td>2.537793</td>\n",
       "    </tr>\n",
       "    <tr>\n",
       "      <th>2</th>\n",
       "      <td>1600000.0</td>\n",
       "      <td>800000.0</td>\n",
       "      <td>18326.0</td>\n",
       "      <td>0.0</td>\n",
       "      <td>10.864260</td>\n",
       "    </tr>\n",
       "    <tr>\n",
       "      <th>3</th>\n",
       "      <td>1400000.0</td>\n",
       "      <td>800000.0</td>\n",
       "      <td>18326.0</td>\n",
       "      <td>0.0</td>\n",
       "      <td>9.422593</td>\n",
       "    </tr>\n",
       "    <tr>\n",
       "      <th>4</th>\n",
       "      <td>1200000.0</td>\n",
       "      <td>800000.0</td>\n",
       "      <td>18326.0</td>\n",
       "      <td>0.0</td>\n",
       "      <td>7.868818</td>\n",
       "    </tr>\n",
       "    <tr>\n",
       "      <th>...</th>\n",
       "      <td>...</td>\n",
       "      <td>...</td>\n",
       "      <td>...</td>\n",
       "      <td>...</td>\n",
       "      <td>...</td>\n",
       "    </tr>\n",
       "    <tr>\n",
       "      <th>1060</th>\n",
       "      <td>1400000.0</td>\n",
       "      <td>-400000.0</td>\n",
       "      <td>18326.0</td>\n",
       "      <td>2.0</td>\n",
       "      <td>1.023551</td>\n",
       "    </tr>\n",
       "    <tr>\n",
       "      <th>1061</th>\n",
       "      <td>1200000.0</td>\n",
       "      <td>-400000.0</td>\n",
       "      <td>18326.0</td>\n",
       "      <td>2.0</td>\n",
       "      <td>1.014111</td>\n",
       "    </tr>\n",
       "    <tr>\n",
       "      <th>1062</th>\n",
       "      <td>1000000.0</td>\n",
       "      <td>-400000.0</td>\n",
       "      <td>18326.0</td>\n",
       "      <td>2.0</td>\n",
       "      <td>1.001974</td>\n",
       "    </tr>\n",
       "    <tr>\n",
       "      <th>1063</th>\n",
       "      <td>600000.0</td>\n",
       "      <td>-400000.0</td>\n",
       "      <td>18326.0</td>\n",
       "      <td>2.0</td>\n",
       "      <td>0.990117</td>\n",
       "    </tr>\n",
       "    <tr>\n",
       "      <th>1064</th>\n",
       "      <td>-200000.0</td>\n",
       "      <td>2600000.0</td>\n",
       "      <td>18326.0</td>\n",
       "      <td>2.0</td>\n",
       "      <td>1.000125</td>\n",
       "    </tr>\n",
       "  </tbody>\n",
       "</table>\n",
       "<p>1065 rows × 5 columns</p>\n",
       "</div>"
      ],
      "text/plain": [
       "              x          y        t  _dim_0  lengthscales\n",
       "0    -1600000.0  1000000.0  18326.0     0.0      2.335665\n",
       "1    -1800000.0  1000000.0  18326.0     0.0      2.537793\n",
       "2     1600000.0   800000.0  18326.0     0.0     10.864260\n",
       "3     1400000.0   800000.0  18326.0     0.0      9.422593\n",
       "4     1200000.0   800000.0  18326.0     0.0      7.868818\n",
       "...         ...        ...      ...     ...           ...\n",
       "1060  1400000.0  -400000.0  18326.0     2.0      1.023551\n",
       "1061  1200000.0  -400000.0  18326.0     2.0      1.014111\n",
       "1062  1000000.0  -400000.0  18326.0     2.0      1.001974\n",
       "1063   600000.0  -400000.0  18326.0     2.0      0.990117\n",
       "1064  -200000.0  2600000.0  18326.0     2.0      1.000125\n",
       "\n",
       "[1065 rows x 5 columns]"
      ]
     },
     "execution_count": 13,
     "metadata": {},
     "output_type": "execute_result"
    }
   ],
   "source": [
    "dfs['lengthscales_SMOOTHED']"
   ]
  },
  {
   "cell_type": "code",
   "execution_count": 10,
   "metadata": {},
   "outputs": [],
   "source": [
    "# Plot smoothed hyperparameters here"
   ]
  },
  {
   "attachments": {},
   "cell_type": "markdown",
   "metadata": {},
   "source": [
    "# Make predictions"
   ]
  },
  {
   "attachments": {},
   "cell_type": "markdown",
   "metadata": {},
   "source": [
    "To make predictions from the smoothed parameters, we re-run with a slightly different config"
   ]
  },
  {
   "cell_type": "code",
   "execution_count": 9,
   "metadata": {},
   "outputs": [
    {
     "name": "stdout",
     "output_type": "stream",
     "text": [
      "'data_select': 0.000 seconds\n",
      "'load': 0.013 seconds\n",
      "---------\n",
      "storing expert locations in 'expert_locs' table\n",
      "exception occurred: 'No object named expert_locs_SMOOTHED in the file'\n",
      "will now close object\n",
      "\n",
      "\u001b[96m---------\n",
      "dropping expert locations that already exists in 'run_details' table\u001b[0m\n",
      "exception occurred: 'No object named run_details_SMOOTHED in the file'\n",
      "will now close object\n",
      "\n",
      "------------------------------\n",
      "1 / 363\n",
      "          x          y        t       date        lon        lat\n",
      "0 -800000.0 -2000000.0  18326.0 2020-03-05 -21.801409  70.615022\n",
      "'data_select': 0.023 seconds\n",
      "'load': 0.023 seconds\n",
      "'_update_global_data': 0.024 seconds\n",
      "'local_data_select': 0.002 seconds\n",
      "number obs: 0\n",
      "------------------------------\n",
      "2 / 363\n",
      "             x          y        t       date         lon        lat\n",
      "246 -1600000.0  1000000.0  18326.0 2020-03-05 -122.005383  73.040728\n",
      "'_update_global_data': 0.001 seconds\n",
      "'local_data_select': 0.002 seconds\n",
      "number obs: 20\n",
      "'_max_dist_bool': 0.013 seconds\n",
      "'_from_dataframe': 0.457 seconds\n",
      "found GPU\n",
      "setting lengthscales to: [1. 1. 1.]\n",
      "'__init__': 0.181 seconds\n",
      "'get_parameters': 0.004 seconds\n"
     ]
    },
    {
     "name": "stderr",
     "output_type": "stream",
     "text": [
      "2023-06-05 17:57:20.778018: I tensorflow/core/common_runtime/gpu/gpu_device.cc:1616] Created device /device:GPU:0 with 6261 MB memory:  -> device: 0, name: NVIDIA GeForce RTX 2080, pci bus id: 0000:17:00.0, compute capability: 7.5\n",
      "2023-06-05 17:57:20.779069: I tensorflow/core/common_runtime/gpu/gpu_device.cc:1616] Created device /device:GPU:1 with 4157 MB memory:  -> device: 1, name: NVIDIA GeForce RTX 2080, pci bus id: 0000:65:00.0, compute capability: 7.5\n"
     ]
    },
    {
     "name": "stdout",
     "output_type": "stream",
     "text": [
      "'_read_params_from_file': 0.081 seconds\n",
      "'set_parameters': 0.009 seconds\n",
      "'load_params': 0.090 seconds\n",
      "'set_lengthscales_constraints': 0.005 seconds\n",
      "*** not optimising parameters\n",
      "'get_parameters': 0.004 seconds\n",
      "parameters:\n",
      "lengthscales: array([2.33566515, 2.69619435, 1.00027224]) \n",
      "kernel_variance: 0.014142442820670495\n",
      "likelihood_variance: 0.006000000000000003\n",
      "'predict': 0.098 seconds\n",
      "total run time : 1.21 seconds\n",
      "------------------------------\n",
      "3 / 363\n",
      "             x          y        t       date         lon        lat\n",
      "245 -1800000.0  1000000.0  18326.0 2020-03-05 -119.054604  71.477702\n",
      "'_update_global_data': 0.001 seconds\n",
      "'local_data_select': 0.002 seconds\n",
      "number obs: 9\n",
      "'_max_dist_bool': 0.013 seconds\n",
      "'_from_dataframe': 0.015 seconds\n",
      "found GPU\n",
      "setting lengthscales to: [1. 1. 1.]\n",
      "'__init__': 0.160 seconds\n"
     ]
    },
    {
     "name": "stderr",
     "output_type": "stream",
     "text": [
      "2023-06-05 17:57:21.522960: I tensorflow/core/common_runtime/gpu/gpu_device.cc:1616] Created device /device:GPU:0 with 6261 MB memory:  -> device: 0, name: NVIDIA GeForce RTX 2080, pci bus id: 0000:17:00.0, compute capability: 7.5\n",
      "2023-06-05 17:57:21.524232: I tensorflow/core/common_runtime/gpu/gpu_device.cc:1616] Created device /device:GPU:1 with 4157 MB memory:  -> device: 1, name: NVIDIA GeForce RTX 2080, pci bus id: 0000:65:00.0, compute capability: 7.5\n"
     ]
    },
    {
     "name": "stdout",
     "output_type": "stream",
     "text": [
      "'_read_params_from_file': 0.098 seconds\n",
      "'set_parameters': 0.006 seconds\n",
      "'load_params': 0.105 seconds\n",
      "'set_lengthscales_constraints': 0.006 seconds\n",
      "*** not optimising parameters\n",
      "'get_parameters': 0.010 seconds\n",
      "parameters:\n",
      "lengthscales: array([2.5377929 , 3.85636261, 1.00007004]) \n",
      "kernel_variance: 0.009260775720745573\n",
      "likelihood_variance: 0.006000000000000003\n",
      "'predict': 0.056 seconds\n",
      "total run time : 0.71 seconds\n",
      "------------------------------\n",
      "4 / 363\n",
      "             x          y        t       date         lon        lat\n",
      "244 -2000000.0  1000000.0  18326.0 2020-03-05 -116.565051  69.868945\n",
      "'_update_global_data': 0.001 seconds\n",
      "'local_data_select': 0.002 seconds\n",
      "number obs: 0\n",
      "------------------------------\n",
      "5 / 363\n",
      "             x         y        t       date         lon        lat\n",
      "243  1600000.0  800000.0  18326.0 2020-03-05  116.565051  73.927516\n",
      "'_update_global_data': 0.001 seconds\n",
      "'local_data_select': 0.002 seconds\n",
      "number obs: 11\n",
      "'_max_dist_bool': 0.013 seconds\n",
      "'_from_dataframe': 0.015 seconds\n",
      "found GPU\n",
      "setting lengthscales to: [1. 1. 1.]\n",
      "'__init__': 0.163 seconds\n"
     ]
    },
    {
     "name": "stderr",
     "output_type": "stream",
     "text": [
      "2023-06-05 17:57:22.254029: I tensorflow/core/common_runtime/gpu/gpu_device.cc:1616] Created device /device:GPU:0 with 6261 MB memory:  -> device: 0, name: NVIDIA GeForce RTX 2080, pci bus id: 0000:17:00.0, compute capability: 7.5\n",
      "2023-06-05 17:57:22.255178: I tensorflow/core/common_runtime/gpu/gpu_device.cc:1616] Created device /device:GPU:1 with 4157 MB memory:  -> device: 1, name: NVIDIA GeForce RTX 2080, pci bus id: 0000:65:00.0, compute capability: 7.5\n"
     ]
    },
    {
     "name": "stdout",
     "output_type": "stream",
     "text": [
      "'_read_params_from_file': 0.080 seconds\n",
      "'set_parameters': 0.006 seconds\n",
      "'load_params': 0.087 seconds\n",
      "'set_lengthscales_constraints': 0.006 seconds\n",
      "*** not optimising parameters\n",
      "'get_parameters': 0.004 seconds\n",
      "parameters:\n",
      "lengthscales: array([10.86425969, 10.82602501,  0.9980884 ]) \n",
      "kernel_variance: 0.0018280272738588985\n",
      "likelihood_variance: 0.006000000000000003\n",
      "'predict': 0.048 seconds\n",
      "total run time : 0.69 seconds\n",
      "------------------------------\n",
      "6 / 363\n",
      "             x         y        t       date         lon        lat\n",
      "242  1400000.0  800000.0  18326.0 2020-03-05  119.744881  75.522123\n",
      "'_update_global_data': 0.001 seconds\n",
      "'local_data_select': 0.002 seconds\n",
      "number obs: 22\n",
      "'_max_dist_bool': 0.013 seconds\n",
      "'_from_dataframe': 0.015 seconds\n",
      "found GPU\n",
      "setting lengthscales to: [1. 1. 1.]\n",
      "'__init__': 0.171 seconds\n"
     ]
    },
    {
     "name": "stderr",
     "output_type": "stream",
     "text": [
      "2023-06-05 17:57:22.941816: I tensorflow/core/common_runtime/gpu/gpu_device.cc:1616] Created device /device:GPU:0 with 6261 MB memory:  -> device: 0, name: NVIDIA GeForce RTX 2080, pci bus id: 0000:17:00.0, compute capability: 7.5\n",
      "2023-06-05 17:57:22.942887: I tensorflow/core/common_runtime/gpu/gpu_device.cc:1616] Created device /device:GPU:1 with 4157 MB memory:  -> device: 1, name: NVIDIA GeForce RTX 2080, pci bus id: 0000:65:00.0, compute capability: 7.5\n"
     ]
    },
    {
     "name": "stdout",
     "output_type": "stream",
     "text": [
      "'_read_params_from_file': 0.083 seconds\n",
      "'set_parameters': 0.006 seconds\n",
      "'load_params': 0.091 seconds\n",
      "'set_lengthscales_constraints': 0.006 seconds\n",
      "*** not optimising parameters\n",
      "'get_parameters': 0.004 seconds\n",
      "parameters:\n",
      "lengthscales: array([ 9.42259334, 10.25552422,  0.99948892]) \n",
      "kernel_variance: 0.0015420700265291716\n",
      "likelihood_variance: 0.006000000000000003\n",
      "'predict': 0.060 seconds\n",
      "total run time : 0.71 seconds\n",
      "------------------------------\n",
      "7 / 363\n",
      "             x         y        t       date         lon        lat\n",
      "241  1200000.0  800000.0  18326.0 2020-03-05  123.690068  77.058063\n",
      "'_update_global_data': 0.001 seconds\n",
      "'local_data_select': 0.002 seconds\n",
      "number obs: 43\n",
      "'_max_dist_bool': 0.013 seconds\n",
      "'_from_dataframe': 0.015 seconds\n",
      "found GPU\n",
      "setting lengthscales to: [1. 1. 1.]\n",
      "'__init__': 0.130 seconds\n"
     ]
    },
    {
     "name": "stderr",
     "output_type": "stream",
     "text": [
      "2023-06-05 17:57:23.631604: I tensorflow/core/common_runtime/gpu/gpu_device.cc:1616] Created device /device:GPU:0 with 6261 MB memory:  -> device: 0, name: NVIDIA GeForce RTX 2080, pci bus id: 0000:17:00.0, compute capability: 7.5\n",
      "2023-06-05 17:57:23.632011: I tensorflow/core/common_runtime/gpu/gpu_device.cc:1616] Created device /device:GPU:1 with 4157 MB memory:  -> device: 1, name: NVIDIA GeForce RTX 2080, pci bus id: 0000:65:00.0, compute capability: 7.5\n"
     ]
    },
    {
     "name": "stdout",
     "output_type": "stream",
     "text": [
      "'_read_params_from_file': 0.078 seconds\n",
      "'set_parameters': 0.006 seconds\n",
      "'load_params': 0.084 seconds\n",
      "'set_lengthscales_constraints': 0.006 seconds\n",
      "*** not optimising parameters\n",
      "'get_parameters': 0.004 seconds\n",
      "parameters:\n",
      "lengthscales: array([7.86881806, 9.49454902, 0.99993447]) \n",
      "kernel_variance: 0.001136472823222016\n",
      "likelihood_variance: 0.006000000000000003\n",
      "'predict': 0.044 seconds\n",
      "total run time : 0.63 seconds\n",
      "------------------------------\n",
      "8 / 363\n",
      "             x         y        t       date         lon       lat\n",
      "240  1000000.0  800000.0  18326.0 2020-03-05  128.659808  78.51376\n",
      "'_update_global_data': 0.001 seconds\n",
      "'local_data_select': 0.002 seconds\n",
      "number obs: 61\n",
      "'_max_dist_bool': 0.013 seconds\n",
      "'_from_dataframe': 0.015 seconds\n",
      "found GPU\n",
      "setting lengthscales to: [1. 1. 1.]\n",
      "'__init__': 0.154 seconds\n"
     ]
    },
    {
     "name": "stderr",
     "output_type": "stream",
     "text": [
      "2023-06-05 17:57:24.273748: I tensorflow/core/common_runtime/gpu/gpu_device.cc:1616] Created device /device:GPU:0 with 6261 MB memory:  -> device: 0, name: NVIDIA GeForce RTX 2080, pci bus id: 0000:17:00.0, compute capability: 7.5\n",
      "2023-06-05 17:57:24.274792: I tensorflow/core/common_runtime/gpu/gpu_device.cc:1616] Created device /device:GPU:1 with 4157 MB memory:  -> device: 1, name: NVIDIA GeForce RTX 2080, pci bus id: 0000:65:00.0, compute capability: 7.5\n"
     ]
    },
    {
     "name": "stdout",
     "output_type": "stream",
     "text": [
      "'_read_params_from_file': 0.095 seconds\n",
      "'set_parameters': 0.006 seconds\n",
      "'load_params': 0.102 seconds\n",
      "'set_lengthscales_constraints': 0.006 seconds\n",
      "*** not optimising parameters\n",
      "'get_parameters': 0.004 seconds\n",
      "parameters:\n",
      "lengthscales: array([7.82887233, 8.70324867, 0.99973872]) \n",
      "kernel_variance: 0.0007133559471669248\n",
      "likelihood_variance: 0.006000000000000003\n",
      "'predict': 0.068 seconds\n",
      "total run time : 0.72 seconds\n",
      "------------------------------\n",
      "9 / 363\n",
      "            x         y        t       date    lon        lat\n",
      "239  800000.0  800000.0  18326.0 2020-03-05  135.0  79.856495\n",
      "'_update_global_data': 0.001 seconds\n",
      "'local_data_select': 0.002 seconds\n",
      "number obs: 77\n",
      "'_max_dist_bool': 0.013 seconds\n",
      "'_from_dataframe': 0.015 seconds\n",
      "found GPU\n",
      "setting lengthscales to: [1. 1. 1.]\n",
      "'__init__': 0.165 seconds\n"
     ]
    },
    {
     "name": "stderr",
     "output_type": "stream",
     "text": [
      "2023-06-05 17:57:25.009947: I tensorflow/core/common_runtime/gpu/gpu_device.cc:1616] Created device /device:GPU:0 with 6261 MB memory:  -> device: 0, name: NVIDIA GeForce RTX 2080, pci bus id: 0000:17:00.0, compute capability: 7.5\n",
      "2023-06-05 17:57:25.011070: I tensorflow/core/common_runtime/gpu/gpu_device.cc:1616] Created device /device:GPU:1 with 4157 MB memory:  -> device: 1, name: NVIDIA GeForce RTX 2080, pci bus id: 0000:65:00.0, compute capability: 7.5\n"
     ]
    },
    {
     "name": "stdout",
     "output_type": "stream",
     "text": [
      "'_read_params_from_file': 0.081 seconds\n",
      "'set_parameters': 0.006 seconds\n",
      "'load_params': 0.088 seconds\n",
      "'set_lengthscales_constraints': 0.006 seconds\n",
      "*** not optimising parameters\n",
      "'get_parameters': 0.009 seconds\n",
      "parameters:\n",
      "lengthscales: array([8.26359844, 8.86915188, 0.99953839]) \n",
      "kernel_variance: 0.00041930953965690443\n",
      "likelihood_variance: 0.006000000000000003\n",
      "'predict': 0.051 seconds\n",
      "total run time : 0.68 seconds\n",
      "------------------------------\n",
      "10 / 363\n",
      "             x          y        t       date         lon        lat\n",
      "247 -1400000.0  1000000.0  18326.0 2020-03-05 -125.537678  74.546108\n",
      "'_update_global_data': 0.001 seconds\n",
      "'local_data_select': 0.002 seconds\n",
      "number obs: 34\n",
      "'_max_dist_bool': 0.013 seconds\n",
      "'_from_dataframe': 0.015 seconds\n",
      "found GPU\n",
      "setting lengthscales to: [1. 1. 1.]\n",
      "'__init__': 0.162 seconds\n"
     ]
    },
    {
     "name": "stderr",
     "output_type": "stream",
     "text": [
      "2023-06-05 17:57:25.682317: I tensorflow/core/common_runtime/gpu/gpu_device.cc:1616] Created device /device:GPU:0 with 6261 MB memory:  -> device: 0, name: NVIDIA GeForce RTX 2080, pci bus id: 0000:17:00.0, compute capability: 7.5\n",
      "2023-06-05 17:57:25.683436: I tensorflow/core/common_runtime/gpu/gpu_device.cc:1616] Created device /device:GPU:1 with 4157 MB memory:  -> device: 1, name: NVIDIA GeForce RTX 2080, pci bus id: 0000:65:00.0, compute capability: 7.5\n"
     ]
    },
    {
     "name": "stdout",
     "output_type": "stream",
     "text": [
      "'_read_params_from_file': 0.115 seconds\n",
      "'set_parameters': 0.007 seconds\n",
      "'load_params': 0.123 seconds\n",
      "'set_lengthscales_constraints': 0.006 seconds\n",
      "*** not optimising parameters\n",
      "'get_parameters': 0.009 seconds\n",
      "parameters:\n",
      "lengthscales: array([3.45599336, 3.00279911, 1.00067821]) \n",
      "kernel_variance: 0.01752613404467713\n",
      "likelihood_variance: 0.006000000000000003\n",
      "'predict': 0.054 seconds\n",
      "SAVING RESULTS\n",
      "run_details\n",
      "preds\n",
      "lengthscales\n",
      "kernel_variance\n",
      "likelihood_variance\n",
      "total run time : 0.90 seconds\n",
      "------------------------------\n",
      "11 / 363\n",
      "            x         y        t       date         lon        lat\n",
      "238  600000.0  800000.0  18326.0 2020-03-05  143.130102  81.037096\n",
      "'_update_global_data': 0.001 seconds\n",
      "'local_data_select': 0.002 seconds\n",
      "number obs: 74\n",
      "'_max_dist_bool': 0.013 seconds\n",
      "'_from_dataframe': 0.015 seconds\n",
      "found GPU\n",
      "setting lengthscales to: [1. 1. 1.]\n",
      "'__init__': 0.164 seconds\n",
      "'_read_params_from_file': 0.079 seconds\n",
      "'set_parameters': 0.006 seconds\n",
      "'load_params': 0.085 seconds\n",
      "'set_lengthscales_constraints': 0.006 seconds\n",
      "*** not optimising parameters\n",
      "'get_parameters': 0.004 seconds\n",
      "parameters:\n",
      "lengthscales: array([6.91473921, 9.98495715, 0.99962494]) \n",
      "kernel_variance: 0.00024688867970406756\n",
      "likelihood_variance: 0.006000000000000003\n",
      "'predict': 0.060 seconds\n"
     ]
    },
    {
     "name": "stderr",
     "output_type": "stream",
     "text": [
      "2023-06-05 17:57:26.602093: I tensorflow/core/common_runtime/gpu/gpu_device.cc:1616] Created device /device:GPU:0 with 6261 MB memory:  -> device: 0, name: NVIDIA GeForce RTX 2080, pci bus id: 0000:17:00.0, compute capability: 7.5\n",
      "2023-06-05 17:57:26.602885: I tensorflow/core/common_runtime/gpu/gpu_device.cc:1616] Created device /device:GPU:1 with 4157 MB memory:  -> device: 1, name: NVIDIA GeForce RTX 2080, pci bus id: 0000:65:00.0, compute capability: 7.5\n"
     ]
    },
    {
     "name": "stdout",
     "output_type": "stream",
     "text": [
      "total run time : 0.70 seconds\n",
      "------------------------------\n",
      "12 / 363\n",
      "            x         y        t       date         lon        lat\n",
      "236  200000.0  800000.0  18326.0 2020-03-05  165.963757  82.611609\n",
      "'_update_global_data': 0.001 seconds\n",
      "'local_data_select': 0.002 seconds\n",
      "number obs: 64\n",
      "'_max_dist_bool': 0.013 seconds\n",
      "'_from_dataframe': 0.015 seconds\n",
      "found GPU\n",
      "setting lengthscales to: [1. 1. 1.]\n",
      "'__init__': 0.184 seconds\n"
     ]
    },
    {
     "name": "stderr",
     "output_type": "stream",
     "text": [
      "2023-06-05 17:57:27.314245: I tensorflow/core/common_runtime/gpu/gpu_device.cc:1616] Created device /device:GPU:0 with 6261 MB memory:  -> device: 0, name: NVIDIA GeForce RTX 2080, pci bus id: 0000:17:00.0, compute capability: 7.5\n",
      "2023-06-05 17:57:27.315438: I tensorflow/core/common_runtime/gpu/gpu_device.cc:1616] Created device /device:GPU:1 with 4157 MB memory:  -> device: 1, name: NVIDIA GeForce RTX 2080, pci bus id: 0000:65:00.0, compute capability: 7.5\n"
     ]
    },
    {
     "name": "stdout",
     "output_type": "stream",
     "text": [
      "'_read_params_from_file': 0.079 seconds\n",
      "'set_parameters': 0.013 seconds\n",
      "'load_params': 0.093 seconds\n",
      "'set_lengthscales_constraints': 0.009 seconds\n",
      "*** not optimising parameters\n",
      "'get_parameters': 0.004 seconds\n",
      "parameters:\n",
      "lengthscales: array([ 3.98391227, 11.15941612,  0.99983182]) \n",
      "kernel_variance: 0.00033457146267757706\n",
      "likelihood_variance: 0.006000000000000003\n",
      "'predict': 0.048 seconds\n",
      "total run time : 0.72 seconds\n",
      "------------------------------\n",
      "13 / 363\n",
      "       x         y        t       date    lon        lat\n",
      "235  0.0  800000.0  18326.0 2020-03-05  180.0  82.832524\n",
      "'_update_global_data': 0.001 seconds\n",
      "'local_data_select': 0.002 seconds\n",
      "number obs: 49\n",
      "'_max_dist_bool': 0.013 seconds\n",
      "'_from_dataframe': 0.015 seconds\n",
      "found GPU\n",
      "setting lengthscales to: [1. 1. 1.]\n",
      "'__init__': 0.170 seconds\n"
     ]
    },
    {
     "name": "stderr",
     "output_type": "stream",
     "text": [
      "2023-06-05 17:57:28.018104: I tensorflow/core/common_runtime/gpu/gpu_device.cc:1616] Created device /device:GPU:0 with 6261 MB memory:  -> device: 0, name: NVIDIA GeForce RTX 2080, pci bus id: 0000:17:00.0, compute capability: 7.5\n",
      "2023-06-05 17:57:28.019231: I tensorflow/core/common_runtime/gpu/gpu_device.cc:1616] Created device /device:GPU:1 with 4157 MB memory:  -> device: 1, name: NVIDIA GeForce RTX 2080, pci bus id: 0000:65:00.0, compute capability: 7.5\n"
     ]
    },
    {
     "name": "stdout",
     "output_type": "stream",
     "text": [
      "'_read_params_from_file': 0.079 seconds\n",
      "'set_parameters': 0.006 seconds\n",
      "'load_params': 0.086 seconds\n",
      "'set_lengthscales_constraints': 0.006 seconds\n",
      "*** not optimising parameters\n",
      "'get_parameters': 0.004 seconds\n",
      "parameters:\n",
      "lengthscales: array([ 3.84031272, 10.58439566,  0.99907458]) \n",
      "kernel_variance: 0.0009092155978082762\n",
      "likelihood_variance: 0.006000000000000003\n",
      "'predict': 0.046 seconds\n",
      "total run time : 0.69 seconds\n",
      "------------------------------\n",
      "14 / 363\n",
      "            x         y        t       date         lon        lat\n",
      "234 -200000.0  800000.0  18326.0 2020-03-05 -165.963757  82.611609\n",
      "'_update_global_data': 0.001 seconds\n",
      "'local_data_select': 0.002 seconds\n",
      "number obs: 43\n",
      "'_max_dist_bool': 0.014 seconds\n",
      "'_from_dataframe': 0.015 seconds\n",
      "found GPU\n",
      "setting lengthscales to: [1. 1. 1.]\n",
      "'__init__': 0.143 seconds\n"
     ]
    },
    {
     "name": "stderr",
     "output_type": "stream",
     "text": [
      "2023-06-05 17:57:28.684062: I tensorflow/core/common_runtime/gpu/gpu_device.cc:1616] Created device /device:GPU:0 with 6261 MB memory:  -> device: 0, name: NVIDIA GeForce RTX 2080, pci bus id: 0000:17:00.0, compute capability: 7.5\n",
      "2023-06-05 17:57:28.684971: I tensorflow/core/common_runtime/gpu/gpu_device.cc:1616] Created device /device:GPU:1 with 4157 MB memory:  -> device: 1, name: NVIDIA GeForce RTX 2080, pci bus id: 0000:65:00.0, compute capability: 7.5\n"
     ]
    },
    {
     "name": "stdout",
     "output_type": "stream",
     "text": [
      "'_read_params_from_file': 0.079 seconds\n",
      "'set_parameters': 0.006 seconds\n",
      "'load_params': 0.086 seconds\n",
      "'set_lengthscales_constraints': 0.006 seconds\n",
      "*** not optimising parameters\n",
      "'get_parameters': 0.004 seconds\n",
      "parameters:\n",
      "lengthscales: array([5.71562629, 9.18554052, 0.9974095 ]) \n",
      "kernel_variance: 0.0021097930919756988\n",
      "likelihood_variance: 0.006000000000000003\n",
      "'predict': 0.048 seconds\n",
      "total run time : 0.66 seconds\n",
      "------------------------------\n",
      "15 / 363\n",
      "            x         y        t       date         lon        lat\n",
      "233 -400000.0  800000.0  18326.0 2020-03-05 -153.434949  81.985104\n",
      "'_update_global_data': 0.001 seconds\n",
      "'local_data_select': 0.002 seconds\n",
      "number obs: 51\n",
      "'_max_dist_bool': 0.013 seconds\n",
      "'_from_dataframe': 0.015 seconds\n",
      "found GPU\n",
      "setting lengthscales to: [1. 1. 1.]\n",
      "'__init__': 0.171 seconds\n"
     ]
    },
    {
     "name": "stderr",
     "output_type": "stream",
     "text": [
      "2023-06-05 17:57:29.366025: I tensorflow/core/common_runtime/gpu/gpu_device.cc:1616] Created device /device:GPU:0 with 6261 MB memory:  -> device: 0, name: NVIDIA GeForce RTX 2080, pci bus id: 0000:17:00.0, compute capability: 7.5\n",
      "2023-06-05 17:57:29.366931: I tensorflow/core/common_runtime/gpu/gpu_device.cc:1616] Created device /device:GPU:1 with 4157 MB memory:  -> device: 1, name: NVIDIA GeForce RTX 2080, pci bus id: 0000:65:00.0, compute capability: 7.5\n"
     ]
    },
    {
     "name": "stdout",
     "output_type": "stream",
     "text": [
      "'_read_params_from_file': 0.080 seconds\n",
      "'set_parameters': 0.006 seconds\n",
      "'load_params': 0.087 seconds\n",
      "'set_lengthscales_constraints': 0.006 seconds\n",
      "*** not optimising parameters\n",
      "'get_parameters': 0.004 seconds\n",
      "parameters:\n",
      "lengthscales: array([8.74444247, 7.38988091, 0.99609455]) \n",
      "kernel_variance: 0.0038845791941264337\n",
      "likelihood_variance: 0.006000000000000003\n",
      "'predict': 0.048 seconds\n",
      "total run time : 0.69 seconds\n",
      "------------------------------\n",
      "16 / 363\n",
      "            x         y        t       date         lon        lat\n",
      "232 -600000.0  800000.0  18326.0 2020-03-05 -143.130102  81.037096\n",
      "'_update_global_data': 0.001 seconds\n",
      "'local_data_select': 0.002 seconds\n",
      "number obs: 63\n",
      "'_max_dist_bool': 0.013 seconds\n",
      "'_from_dataframe': 0.015 seconds\n",
      "found GPU\n",
      "setting lengthscales to: [1. 1. 1.]\n",
      "'__init__': 0.156 seconds\n"
     ]
    },
    {
     "name": "stderr",
     "output_type": "stream",
     "text": [
      "2023-06-05 17:57:30.041950: I tensorflow/core/common_runtime/gpu/gpu_device.cc:1616] Created device /device:GPU:0 with 6261 MB memory:  -> device: 0, name: NVIDIA GeForce RTX 2080, pci bus id: 0000:17:00.0, compute capability: 7.5\n",
      "2023-06-05 17:57:30.043065: I tensorflow/core/common_runtime/gpu/gpu_device.cc:1616] Created device /device:GPU:1 with 4157 MB memory:  -> device: 1, name: NVIDIA GeForce RTX 2080, pci bus id: 0000:65:00.0, compute capability: 7.5\n"
     ]
    },
    {
     "name": "stdout",
     "output_type": "stream",
     "text": [
      "'_read_params_from_file': 0.080 seconds\n",
      "'set_parameters': 0.006 seconds\n",
      "'load_params': 0.087 seconds\n",
      "'set_lengthscales_constraints': 0.005 seconds\n",
      "*** not optimising parameters\n",
      "'get_parameters': 0.005 seconds\n",
      "parameters:\n",
      "lengthscales: array([10.04135306,  6.9353644 ,  0.99338715]) \n",
      "kernel_variance: 0.0065981048094729934\n",
      "likelihood_variance: 0.006000000000000003\n",
      "'predict': 0.048 seconds\n",
      "total run time : 0.67 seconds\n",
      "------------------------------\n",
      "17 / 363\n",
      "            x         y        t       date    lon        lat\n",
      "231 -800000.0  800000.0  18326.0 2020-03-05 -135.0  79.856495\n",
      "'_update_global_data': 0.001 seconds\n",
      "'local_data_select': 0.002 seconds\n",
      "number obs: 73\n",
      "'_max_dist_bool': 0.013 seconds\n",
      "'_from_dataframe': 0.015 seconds\n",
      "found GPU\n",
      "setting lengthscales to: [1. 1. 1.]\n",
      "'__init__': 0.176 seconds\n"
     ]
    },
    {
     "name": "stderr",
     "output_type": "stream",
     "text": [
      "2023-06-05 17:57:30.737777: I tensorflow/core/common_runtime/gpu/gpu_device.cc:1616] Created device /device:GPU:0 with 6261 MB memory:  -> device: 0, name: NVIDIA GeForce RTX 2080, pci bus id: 0000:17:00.0, compute capability: 7.5\n",
      "2023-06-05 17:57:30.738841: I tensorflow/core/common_runtime/gpu/gpu_device.cc:1616] Created device /device:GPU:1 with 4157 MB memory:  -> device: 1, name: NVIDIA GeForce RTX 2080, pci bus id: 0000:65:00.0, compute capability: 7.5\n"
     ]
    },
    {
     "name": "stdout",
     "output_type": "stream",
     "text": [
      "'_read_params_from_file': 0.079 seconds\n",
      "'set_parameters': 0.006 seconds\n",
      "'load_params': 0.086 seconds\n",
      "'set_lengthscales_constraints': 0.007 seconds\n",
      "*** not optimising parameters\n",
      "'get_parameters': 0.004 seconds\n",
      "parameters:\n",
      "lengthscales: array([9.35768588, 7.86816085, 0.99132615]) \n",
      "kernel_variance: 0.011052681669783291\n",
      "likelihood_variance: 0.006000000000000003\n",
      "'predict': 0.048 seconds\n",
      "total run time : 0.70 seconds\n",
      "------------------------------\n",
      "18 / 363\n",
      "             x         y        t       date         lon       lat\n",
      "230 -1000000.0  800000.0  18326.0 2020-03-05 -128.659808  78.51376\n",
      "'_update_global_data': 0.001 seconds\n",
      "'local_data_select': 0.002 seconds\n",
      "number obs: 66\n",
      "'_max_dist_bool': 0.012 seconds\n",
      "'_from_dataframe': 0.014 seconds\n",
      "found GPU\n",
      "setting lengthscales to: [1. 1. 1.]\n",
      "'__init__': 0.152 seconds\n"
     ]
    },
    {
     "name": "stderr",
     "output_type": "stream",
     "text": [
      "2023-06-05 17:57:31.413700: I tensorflow/core/common_runtime/gpu/gpu_device.cc:1616] Created device /device:GPU:0 with 6261 MB memory:  -> device: 0, name: NVIDIA GeForce RTX 2080, pci bus id: 0000:17:00.0, compute capability: 7.5\n",
      "2023-06-05 17:57:31.414696: I tensorflow/core/common_runtime/gpu/gpu_device.cc:1616] Created device /device:GPU:1 with 4157 MB memory:  -> device: 1, name: NVIDIA GeForce RTX 2080, pci bus id: 0000:65:00.0, compute capability: 7.5\n"
     ]
    },
    {
     "name": "stdout",
     "output_type": "stream",
     "text": [
      "'_read_params_from_file': 0.078 seconds\n",
      "'set_parameters': 0.006 seconds\n",
      "'load_params': 0.085 seconds\n",
      "'set_lengthscales_constraints': 0.006 seconds\n",
      "*** not optimising parameters\n",
      "'get_parameters': 0.004 seconds\n",
      "parameters:\n",
      "lengthscales: array([7.73092346, 7.85260336, 0.99599767]) \n",
      "kernel_variance: 0.017052941319127907\n",
      "likelihood_variance: 0.006000000000000003\n",
      "'predict': 0.063 seconds\n",
      "total run time : 0.67 seconds\n",
      "------------------------------\n",
      "19 / 363\n",
      "             x         y        t       date         lon        lat\n",
      "229 -1200000.0  800000.0  18326.0 2020-03-05 -123.690068  77.058063\n",
      "'_update_global_data': 0.001 seconds\n",
      "'local_data_select': 0.002 seconds\n",
      "number obs: 49\n",
      "'_max_dist_bool': 0.013 seconds\n",
      "'_from_dataframe': 0.015 seconds\n",
      "found GPU\n",
      "setting lengthscales to: [1. 1. 1.]\n",
      "'__init__': 0.163 seconds\n"
     ]
    },
    {
     "name": "stderr",
     "output_type": "stream",
     "text": [
      "2023-06-05 17:57:32.103647: I tensorflow/core/common_runtime/gpu/gpu_device.cc:1616] Created device /device:GPU:0 with 6261 MB memory:  -> device: 0, name: NVIDIA GeForce RTX 2080, pci bus id: 0000:17:00.0, compute capability: 7.5\n",
      "2023-06-05 17:57:32.105047: I tensorflow/core/common_runtime/gpu/gpu_device.cc:1616] Created device /device:GPU:1 with 4157 MB memory:  -> device: 1, name: NVIDIA GeForce RTX 2080, pci bus id: 0000:65:00.0, compute capability: 7.5\n"
     ]
    },
    {
     "name": "stdout",
     "output_type": "stream",
     "text": [
      "'_read_params_from_file': 0.080 seconds\n",
      "'set_parameters': 0.012 seconds\n",
      "'load_params': 0.093 seconds\n",
      "'set_lengthscales_constraints': 0.009 seconds\n",
      "*** not optimising parameters\n",
      "'get_parameters': 0.009 seconds\n",
      "parameters:\n",
      "lengthscales: array([5.10986257, 5.73399956, 0.99986511]) \n",
      "kernel_variance: 0.02304789898226502\n",
      "likelihood_variance: 0.006000000000000003\n",
      "'predict': 0.056 seconds\n",
      "total run time : 0.70 seconds\n",
      "------------------------------\n",
      "20 / 363\n",
      "            x         y        t       date         lon        lat\n",
      "237  400000.0  800000.0  18326.0 2020-03-05  153.434949  81.985104\n",
      "'_update_global_data': 0.001 seconds\n",
      "'local_data_select': 0.002 seconds\n",
      "number obs: 69\n",
      "'_max_dist_bool': 0.013 seconds\n",
      "'_from_dataframe': 0.015 seconds\n",
      "found GPU\n",
      "setting lengthscales to: [1. 1. 1.]\n",
      "'__init__': 0.151 seconds\n"
     ]
    },
    {
     "name": "stderr",
     "output_type": "stream",
     "text": [
      "2023-06-05 17:57:32.793784: I tensorflow/core/common_runtime/gpu/gpu_device.cc:1616] Created device /device:GPU:0 with 6261 MB memory:  -> device: 0, name: NVIDIA GeForce RTX 2080, pci bus id: 0000:17:00.0, compute capability: 7.5\n",
      "2023-06-05 17:57:32.794846: I tensorflow/core/common_runtime/gpu/gpu_device.cc:1616] Created device /device:GPU:1 with 4157 MB memory:  -> device: 1, name: NVIDIA GeForce RTX 2080, pci bus id: 0000:65:00.0, compute capability: 7.5\n"
     ]
    },
    {
     "name": "stdout",
     "output_type": "stream",
     "text": [
      "'_read_params_from_file': 0.078 seconds\n",
      "'set_parameters': 0.006 seconds\n",
      "'load_params': 0.084 seconds\n",
      "'set_lengthscales_constraints': 0.006 seconds\n",
      "*** not optimising parameters\n",
      "'get_parameters': 0.009 seconds\n",
      "parameters:\n",
      "lengthscales: array([ 5.1282958 , 10.97454994,  0.99978023]) \n",
      "kernel_variance: 0.00018866158343082583\n",
      "likelihood_variance: 0.006000000000000003\n",
      "'predict': 0.053 seconds\n",
      "SAVING RESULTS\n",
      "run_details\n",
      "preds\n",
      "lengthscales\n",
      "kernel_variance\n",
      "likelihood_variance\n",
      "total run time : 0.84 seconds\n",
      "------------------------------\n",
      "21 / 363\n",
      "             x          y        t       date         lon        lat\n",
      "248 -1200000.0  1000000.0  18326.0 2020-03-05 -129.805571  75.977161\n",
      "'_update_global_data': 0.001 seconds\n",
      "'local_data_select': 0.002 seconds\n",
      "number obs: 47\n",
      "'_max_dist_bool': 0.013 seconds\n",
      "'_from_dataframe': 0.014 seconds\n",
      "found GPU\n",
      "setting lengthscales to: [1. 1. 1.]\n",
      "'__init__': 0.159 seconds\n",
      "'_read_params_from_file': 0.077 seconds\n",
      "'set_parameters': 0.006 seconds\n",
      "'load_params': 0.083 seconds\n",
      "'set_lengthscales_constraints': 0.006 seconds\n",
      "*** not optimising parameters\n",
      "'get_parameters': 0.004 seconds\n",
      "parameters:\n",
      "lengthscales: array([6.27681566, 4.89839767, 1.00168753]) \n",
      "kernel_variance: 0.015318477302101693\n",
      "likelihood_variance: 0.006000000000000003\n",
      "'predict': 0.062 seconds\n"
     ]
    },
    {
     "name": "stderr",
     "output_type": "stream",
     "text": [
      "2023-06-05 17:57:33.646222: I tensorflow/core/common_runtime/gpu/gpu_device.cc:1616] Created device /device:GPU:0 with 6261 MB memory:  -> device: 0, name: NVIDIA GeForce RTX 2080, pci bus id: 0000:17:00.0, compute capability: 7.5\n",
      "2023-06-05 17:57:33.647246: I tensorflow/core/common_runtime/gpu/gpu_device.cc:1616] Created device /device:GPU:1 with 4157 MB memory:  -> device: 1, name: NVIDIA GeForce RTX 2080, pci bus id: 0000:65:00.0, compute capability: 7.5\n"
     ]
    },
    {
     "name": "stdout",
     "output_type": "stream",
     "text": [
      "total run time : 0.68 seconds\n",
      "------------------------------\n",
      "22 / 363\n",
      "             x          y        t       date    lon        lat\n",
      "249 -1000000.0  1000000.0  18326.0 2020-03-05 -135.0  77.310512\n",
      "'_update_global_data': 0.001 seconds\n",
      "'local_data_select': 0.002 seconds\n",
      "number obs: 51\n",
      "'_max_dist_bool': 0.014 seconds\n",
      "'_from_dataframe': 0.016 seconds\n",
      "found GPU\n",
      "setting lengthscales to: [1. 1. 1.]\n",
      "'__init__': 0.136 seconds\n"
     ]
    },
    {
     "name": "stderr",
     "output_type": "stream",
     "text": [
      "2023-06-05 17:57:34.315904: I tensorflow/core/common_runtime/gpu/gpu_device.cc:1616] Created device /device:GPU:0 with 6261 MB memory:  -> device: 0, name: NVIDIA GeForce RTX 2080, pci bus id: 0000:17:00.0, compute capability: 7.5\n",
      "2023-06-05 17:57:34.316363: I tensorflow/core/common_runtime/gpu/gpu_device.cc:1616] Created device /device:GPU:1 with 4157 MB memory:  -> device: 1, name: NVIDIA GeForce RTX 2080, pci bus id: 0000:65:00.0, compute capability: 7.5\n"
     ]
    },
    {
     "name": "stdout",
     "output_type": "stream",
     "text": [
      "'_read_params_from_file': 0.096 seconds\n",
      "'set_parameters': 0.006 seconds\n",
      "'load_params': 0.103 seconds\n",
      "'set_lengthscales_constraints': 0.006 seconds\n",
      "*** not optimising parameters\n",
      "'get_parameters': 0.004 seconds\n",
      "parameters:\n",
      "lengthscales: array([8.54220787, 6.85666598, 1.00192724]) \n",
      "kernel_variance: 0.010638566427431457\n",
      "likelihood_variance: 0.006000000000000003\n",
      "'predict': 0.048 seconds\n",
      "total run time : 0.67 seconds\n",
      "------------------------------\n",
      "23 / 363\n",
      "            x          y        t       date         lon       lat\n",
      "250 -800000.0  1000000.0  18326.0 2020-03-05 -141.340192  78.51376\n",
      "'_update_global_data': 0.001 seconds\n",
      "'local_data_select': 0.002 seconds\n",
      "number obs: 64\n",
      "'_max_dist_bool': 0.013 seconds\n",
      "'_from_dataframe': 0.015 seconds\n",
      "found GPU\n",
      "setting lengthscales to: [1. 1. 1.]\n",
      "'__init__': 0.144 seconds\n"
     ]
    },
    {
     "name": "stderr",
     "output_type": "stream",
     "text": [
      "2023-06-05 17:57:34.985054: I tensorflow/core/common_runtime/gpu/gpu_device.cc:1616] Created device /device:GPU:0 with 6261 MB memory:  -> device: 0, name: NVIDIA GeForce RTX 2080, pci bus id: 0000:17:00.0, compute capability: 7.5\n",
      "2023-06-05 17:57:34.986190: I tensorflow/core/common_runtime/gpu/gpu_device.cc:1616] Created device /device:GPU:1 with 4157 MB memory:  -> device: 1, name: NVIDIA GeForce RTX 2080, pci bus id: 0000:65:00.0, compute capability: 7.5\n"
     ]
    },
    {
     "name": "stdout",
     "output_type": "stream",
     "text": [
      "'_read_params_from_file': 0.094 seconds\n",
      "'set_parameters': 0.006 seconds\n",
      "'load_params': 0.101 seconds\n",
      "'set_lengthscales_constraints': 0.006 seconds\n",
      "*** not optimising parameters\n",
      "'get_parameters': 0.004 seconds\n",
      "parameters:\n",
      "lengthscales: array([9.07259198, 7.3587686 , 1.00089092]) \n",
      "kernel_variance: 0.006042522968320518\n",
      "likelihood_variance: 0.006000000000000003\n",
      "'predict': 0.048 seconds\n",
      "total run time : 0.68 seconds\n",
      "------------------------------\n",
      "24 / 363\n",
      "            x          y        t       date         lon        lat\n",
      "269 -800000.0  1200000.0  18326.0 2020-03-05 -146.309932  77.058063\n",
      "'_update_global_data': 0.001 seconds\n",
      "'local_data_select': 0.002 seconds\n",
      "number obs: 56\n",
      "'_max_dist_bool': 0.013 seconds\n",
      "'_from_dataframe': 0.015 seconds\n",
      "found GPU\n",
      "setting lengthscales to: [1. 1. 1.]\n",
      "'__init__': 0.174 seconds\n"
     ]
    },
    {
     "name": "stderr",
     "output_type": "stream",
     "text": [
      "2023-06-05 17:57:35.693735: I tensorflow/core/common_runtime/gpu/gpu_device.cc:1616] Created device /device:GPU:0 with 6261 MB memory:  -> device: 0, name: NVIDIA GeForce RTX 2080, pci bus id: 0000:17:00.0, compute capability: 7.5\n",
      "2023-06-05 17:57:35.694510: I tensorflow/core/common_runtime/gpu/gpu_device.cc:1616] Created device /device:GPU:1 with 4157 MB memory:  -> device: 1, name: NVIDIA GeForce RTX 2080, pci bus id: 0000:65:00.0, compute capability: 7.5\n"
     ]
    },
    {
     "name": "stdout",
     "output_type": "stream",
     "text": [
      "'_read_params_from_file': 0.095 seconds\n",
      "'set_parameters': 0.013 seconds\n",
      "'load_params': 0.109 seconds\n",
      "'set_lengthscales_constraints': 0.010 seconds\n",
      "*** not optimising parameters\n",
      "'get_parameters': 0.004 seconds\n",
      "parameters:\n",
      "lengthscales: array([9.01819255, 8.74115799, 1.00246775]) \n",
      "kernel_variance: 0.0028818317854468504\n",
      "likelihood_variance: 0.006000000000000003\n",
      "'predict': 0.049 seconds\n",
      "total run time : 0.72 seconds\n",
      "------------------------------\n",
      "25 / 363\n",
      "             x          y        t       date         lon        lat\n",
      "268 -1000000.0  1200000.0  18326.0 2020-03-05 -140.194429  75.977161\n",
      "'_update_global_data': 0.001 seconds\n",
      "'local_data_select': 0.002 seconds\n",
      "number obs: 44\n",
      "'_max_dist_bool': 0.013 seconds\n",
      "'_from_dataframe': 0.015 seconds\n",
      "found GPU\n",
      "setting lengthscales to: [1. 1. 1.]\n",
      "'__init__': 0.147 seconds\n"
     ]
    },
    {
     "name": "stderr",
     "output_type": "stream",
     "text": [
      "2023-06-05 17:57:36.392075: I tensorflow/core/common_runtime/gpu/gpu_device.cc:1616] Created device /device:GPU:0 with 6261 MB memory:  -> device: 0, name: NVIDIA GeForce RTX 2080, pci bus id: 0000:17:00.0, compute capability: 7.5\n",
      "2023-06-05 17:57:36.392488: I tensorflow/core/common_runtime/gpu/gpu_device.cc:1616] Created device /device:GPU:1 with 4157 MB memory:  -> device: 1, name: NVIDIA GeForce RTX 2080, pci bus id: 0000:65:00.0, compute capability: 7.5\n"
     ]
    },
    {
     "name": "stdout",
     "output_type": "stream",
     "text": [
      "'_read_params_from_file': 0.078 seconds\n",
      "'set_parameters': 0.006 seconds\n",
      "'load_params': 0.084 seconds\n",
      "'set_lengthscales_constraints': 0.011 seconds\n",
      "*** not optimising parameters\n",
      "'get_parameters': 0.004 seconds\n",
      "parameters:\n",
      "lengthscales: array([9.50206875, 7.72578538, 1.0025351 ]) \n",
      "kernel_variance: 0.004986948049028875\n",
      "likelihood_variance: 0.006000000000000003\n",
      "'predict': 0.049 seconds\n",
      "total run time : 0.67 seconds\n",
      "------------------------------\n",
      "26 / 363\n",
      "             x          y        t       date    lon        lat\n",
      "267 -1200000.0  1200000.0  18326.0 2020-03-05 -135.0  74.757732\n",
      "'_update_global_data': 0.001 seconds\n",
      "'local_data_select': 0.002 seconds\n",
      "number obs: 36\n",
      "'_max_dist_bool': 0.013 seconds\n",
      "'_from_dataframe': 0.014 seconds\n",
      "found GPU\n",
      "setting lengthscales to: [1. 1. 1.]\n",
      "'__init__': 0.144 seconds\n"
     ]
    },
    {
     "name": "stderr",
     "output_type": "stream",
     "text": [
      "2023-06-05 17:57:37.063351: I tensorflow/core/common_runtime/gpu/gpu_device.cc:1616] Created device /device:GPU:0 with 6261 MB memory:  -> device: 0, name: NVIDIA GeForce RTX 2080, pci bus id: 0000:17:00.0, compute capability: 7.5\n",
      "2023-06-05 17:57:37.063773: I tensorflow/core/common_runtime/gpu/gpu_device.cc:1616] Created device /device:GPU:1 with 4157 MB memory:  -> device: 1, name: NVIDIA GeForce RTX 2080, pci bus id: 0000:65:00.0, compute capability: 7.5\n"
     ]
    },
    {
     "name": "stdout",
     "output_type": "stream",
     "text": [
      "'_read_params_from_file': 0.095 seconds\n",
      "'set_parameters': 0.006 seconds\n",
      "'load_params': 0.102 seconds\n",
      "'set_lengthscales_constraints': 0.006 seconds\n",
      "*** not optimising parameters\n",
      "'get_parameters': 0.004 seconds\n",
      "parameters:\n",
      "lengthscales: array([8.2705042 , 6.15785807, 1.00208192]) \n",
      "kernel_variance: 0.007323929280697749\n",
      "likelihood_variance: 0.006000000000000003\n",
      "'predict': 0.048 seconds\n",
      "total run time : 0.68 seconds\n",
      "------------------------------\n",
      "27 / 363\n",
      "             x          y        t       date         lon        lat\n",
      "266 -1400000.0  1200000.0  18326.0 2020-03-05 -130.601295  73.429172\n",
      "'_update_global_data': 0.001 seconds\n",
      "'local_data_select': 0.002 seconds\n",
      "number obs: 40\n",
      "'_max_dist_bool': 0.013 seconds\n",
      "'_from_dataframe': 0.015 seconds\n",
      "found GPU\n",
      "setting lengthscales to: [1. 1. 1.]\n",
      "'__init__': 0.169 seconds\n"
     ]
    },
    {
     "name": "stderr",
     "output_type": "stream",
     "text": [
      "2023-06-05 17:57:37.761723: I tensorflow/core/common_runtime/gpu/gpu_device.cc:1616] Created device /device:GPU:0 with 6261 MB memory:  -> device: 0, name: NVIDIA GeForce RTX 2080, pci bus id: 0000:17:00.0, compute capability: 7.5\n",
      "2023-06-05 17:57:37.762655: I tensorflow/core/common_runtime/gpu/gpu_device.cc:1616] Created device /device:GPU:1 with 4157 MB memory:  -> device: 1, name: NVIDIA GeForce RTX 2080, pci bus id: 0000:65:00.0, compute capability: 7.5\n"
     ]
    },
    {
     "name": "stdout",
     "output_type": "stream",
     "text": [
      "'_read_params_from_file': 0.084 seconds\n",
      "'set_parameters': 0.006 seconds\n",
      "'load_params': 0.091 seconds\n",
      "'set_lengthscales_constraints': 0.006 seconds\n",
      "*** not optimising parameters\n",
      "'get_parameters': 0.009 seconds\n",
      "parameters:\n",
      "lengthscales: array([5.40646218, 4.45757136, 1.00165809]) \n",
      "kernel_variance: 0.008758389510550942\n",
      "likelihood_variance: 0.006000000000000003\n",
      "'predict': 0.058 seconds\n",
      "total run time : 0.70 seconds\n",
      "------------------------------\n",
      "28 / 363\n",
      "             x          y        t       date         lon        lat\n",
      "265 -1600000.0  1200000.0  18326.0 2020-03-05 -126.869898  72.014378\n",
      "'_update_global_data': 0.001 seconds\n",
      "'local_data_select': 0.002 seconds\n",
      "number obs: 31\n",
      "'_max_dist_bool': 0.013 seconds\n",
      "'_from_dataframe': 0.015 seconds\n",
      "found GPU\n",
      "setting lengthscales to: [1. 1. 1.]\n",
      "'__init__': 0.153 seconds\n"
     ]
    },
    {
     "name": "stderr",
     "output_type": "stream",
     "text": [
      "2023-06-05 17:57:38.445683: I tensorflow/core/common_runtime/gpu/gpu_device.cc:1616] Created device /device:GPU:0 with 6261 MB memory:  -> device: 0, name: NVIDIA GeForce RTX 2080, pci bus id: 0000:17:00.0, compute capability: 7.5\n",
      "2023-06-05 17:57:38.446739: I tensorflow/core/common_runtime/gpu/gpu_device.cc:1616] Created device /device:GPU:1 with 4157 MB memory:  -> device: 1, name: NVIDIA GeForce RTX 2080, pci bus id: 0000:65:00.0, compute capability: 7.5\n"
     ]
    },
    {
     "name": "stdout",
     "output_type": "stream",
     "text": [
      "'_read_params_from_file': 0.084 seconds\n",
      "'set_parameters': 0.006 seconds\n",
      "'load_params': 0.091 seconds\n",
      "'set_lengthscales_constraints': 0.006 seconds\n",
      "*** not optimising parameters\n",
      "'get_parameters': 0.009 seconds\n",
      "parameters:\n",
      "lengthscales: array([3.22385642, 3.58899808, 1.00093476]) \n",
      "kernel_variance: 0.007413143847717326\n",
      "likelihood_variance: 0.006000000000000003\n",
      "'predict': 0.065 seconds\n",
      "total run time : 0.70 seconds\n",
      "------------------------------\n",
      "29 / 363\n",
      "             x          y        t       date         lon        lat\n",
      "264 -1800000.0  1200000.0  18326.0 2020-03-05 -123.690068  70.530773\n",
      "'_update_global_data': 0.001 seconds\n",
      "'local_data_select': 0.002 seconds\n",
      "number obs: 15\n",
      "'_max_dist_bool': 0.013 seconds\n",
      "'_from_dataframe': 0.015 seconds\n",
      "found GPU\n",
      "setting lengthscales to: [1. 1. 1.]\n",
      "'__init__': 0.156 seconds\n"
     ]
    },
    {
     "name": "stderr",
     "output_type": "stream",
     "text": [
      "2023-06-05 17:57:39.145711: I tensorflow/core/common_runtime/gpu/gpu_device.cc:1616] Created device /device:GPU:0 with 6261 MB memory:  -> device: 0, name: NVIDIA GeForce RTX 2080, pci bus id: 0000:17:00.0, compute capability: 7.5\n",
      "2023-06-05 17:57:39.146769: I tensorflow/core/common_runtime/gpu/gpu_device.cc:1616] Created device /device:GPU:1 with 4157 MB memory:  -> device: 1, name: NVIDIA GeForce RTX 2080, pci bus id: 0000:65:00.0, compute capability: 7.5\n"
     ]
    },
    {
     "name": "stdout",
     "output_type": "stream",
     "text": [
      "'_read_params_from_file': 0.078 seconds\n",
      "'set_parameters': 0.006 seconds\n",
      "'load_params': 0.085 seconds\n",
      "'set_lengthscales_constraints': 0.006 seconds\n",
      "*** not optimising parameters\n",
      "'get_parameters': 0.004 seconds\n",
      "parameters:\n",
      "lengthscales: array([2.18006708, 4.31360362, 1.00023009]) \n",
      "kernel_variance: 0.004225897409957367\n",
      "likelihood_variance: 0.006000000000000003\n",
      "'predict': 0.061 seconds\n",
      "total run time : 0.69 seconds\n",
      "------------------------------\n",
      "30 / 363\n",
      "             x          y        t       date         lon       lat\n",
      "263 -2000000.0  1200000.0  18326.0 2020-03-05 -120.963757  68.99148\n",
      "'_update_global_data': 0.001 seconds\n",
      "'local_data_select': 0.002 seconds\n",
      "number obs: 4\n",
      "'_max_dist_bool': 0.013 seconds\n",
      "'_from_dataframe': 0.015 seconds\n",
      "found GPU\n",
      "setting lengthscales to: [1. 1. 1.]\n",
      "'__init__': 0.149 seconds\n"
     ]
    },
    {
     "name": "stderr",
     "output_type": "stream",
     "text": [
      "2023-06-05 17:57:39.839240: I tensorflow/core/common_runtime/gpu/gpu_device.cc:1616] Created device /device:GPU:0 with 6261 MB memory:  -> device: 0, name: NVIDIA GeForce RTX 2080, pci bus id: 0000:17:00.0, compute capability: 7.5\n",
      "2023-06-05 17:57:39.839657: I tensorflow/core/common_runtime/gpu/gpu_device.cc:1616] Created device /device:GPU:1 with 4157 MB memory:  -> device: 1, name: NVIDIA GeForce RTX 2080, pci bus id: 0000:65:00.0, compute capability: 7.5\n"
     ]
    },
    {
     "name": "stdout",
     "output_type": "stream",
     "text": [
      "'_read_params_from_file': 0.079 seconds\n",
      "'set_parameters': 0.006 seconds\n",
      "'load_params': 0.086 seconds\n",
      "'set_lengthscales_constraints': 0.006 seconds\n",
      "*** not optimising parameters\n",
      "'get_parameters': 0.004 seconds\n",
      "parameters:\n",
      "lengthscales: array([1.48239753, 6.36333752, 0.99992688]) \n",
      "kernel_variance: 0.002413848312238614\n",
      "likelihood_variance: 0.006000000000000003\n",
      "'predict': 0.069 seconds\n",
      "SAVING RESULTS\n",
      "run_details\n",
      "preds\n",
      "lengthscales\n",
      "kernel_variance\n",
      "likelihood_variance\n",
      "total run time : 0.92 seconds\n",
      "------------------------------\n",
      "31 / 363\n",
      "             x          y        t       date         lon        lat\n",
      "262  1600000.0  1000000.0  18326.0 2020-03-05  122.005383  73.040728\n",
      "'_update_global_data': 0.001 seconds\n",
      "'local_data_select': 0.002 seconds\n",
      "number obs: 10\n",
      "'_max_dist_bool': 0.013 seconds\n",
      "'_from_dataframe': 0.015 seconds\n",
      "found GPU\n",
      "setting lengthscales to: [1. 1. 1.]\n"
     ]
    },
    {
     "name": "stderr",
     "output_type": "stream",
     "text": [
      "2023-06-05 17:57:40.770478: I tensorflow/core/common_runtime/gpu/gpu_device.cc:1616] Created device /device:GPU:0 with 6261 MB memory:  -> device: 0, name: NVIDIA GeForce RTX 2080, pci bus id: 0000:17:00.0, compute capability: 7.5\n",
      "2023-06-05 17:57:40.771673: I tensorflow/core/common_runtime/gpu/gpu_device.cc:1616] Created device /device:GPU:1 with 4157 MB memory:  -> device: 1, name: NVIDIA GeForce RTX 2080, pci bus id: 0000:65:00.0, compute capability: 7.5\n"
     ]
    },
    {
     "name": "stdout",
     "output_type": "stream",
     "text": [
      "'__init__': 0.170 seconds\n",
      "'_read_params_from_file': 0.079 seconds\n",
      "'set_parameters': 0.006 seconds\n",
      "'load_params': 0.086 seconds\n",
      "'set_lengthscales_constraints': 0.006 seconds\n",
      "*** not optimising parameters\n",
      "'get_parameters': 0.004 seconds\n",
      "parameters:\n",
      "lengthscales: array([11.39733247, 11.18724441,  0.99946117]) \n",
      "kernel_variance: 0.0013077466638845483\n",
      "likelihood_variance: 0.006000000000000003\n",
      "'predict': 0.047 seconds\n",
      "total run time : 0.69 seconds\n",
      "------------------------------\n",
      "32 / 363\n",
      "             x          y        t       date         lon        lat\n",
      "261  1400000.0  1000000.0  18326.0 2020-03-05  125.537678  74.546108\n",
      "'_update_global_data': 0.001 seconds\n",
      "'local_data_select': 0.002 seconds\n",
      "number obs: 19\n",
      "'_max_dist_bool': 0.014 seconds\n",
      "'_from_dataframe': 0.016 seconds\n",
      "found GPU\n",
      "setting lengthscales to: [1. 1. 1.]\n",
      "'__init__': 0.166 seconds\n"
     ]
    },
    {
     "name": "stderr",
     "output_type": "stream",
     "text": [
      "2023-06-05 17:57:41.458237: I tensorflow/core/common_runtime/gpu/gpu_device.cc:1616] Created device /device:GPU:0 with 6261 MB memory:  -> device: 0, name: NVIDIA GeForce RTX 2080, pci bus id: 0000:17:00.0, compute capability: 7.5\n",
      "2023-06-05 17:57:41.459440: I tensorflow/core/common_runtime/gpu/gpu_device.cc:1616] Created device /device:GPU:1 with 4157 MB memory:  -> device: 1, name: NVIDIA GeForce RTX 2080, pci bus id: 0000:65:00.0, compute capability: 7.5\n"
     ]
    },
    {
     "name": "stdout",
     "output_type": "stream",
     "text": [
      "'_read_params_from_file': 0.081 seconds\n",
      "'set_parameters': 0.006 seconds\n",
      "'load_params': 0.088 seconds\n",
      "'set_lengthscales_constraints': 0.005 seconds\n",
      "*** not optimising parameters\n",
      "'get_parameters': 0.009 seconds\n",
      "parameters:\n",
      "lengthscales: array([10.53809263, 10.49206551,  0.99992392]) \n",
      "kernel_variance: 0.0010019149227881408\n",
      "likelihood_variance: 0.006000000000000003\n",
      "'predict': 0.052 seconds\n",
      "total run time : 0.69 seconds\n",
      "------------------------------\n",
      "33 / 363\n",
      "             x          y        t       date         lon        lat\n",
      "260  1200000.0  1000000.0  18326.0 2020-03-05  129.805571  75.977161\n",
      "'_update_global_data': 0.001 seconds\n",
      "'local_data_select': 0.002 seconds\n",
      "number obs: 35\n",
      "'_max_dist_bool': 0.013 seconds\n",
      "'_from_dataframe': 0.015 seconds\n",
      "found GPU\n",
      "setting lengthscales to: [1. 1. 1.]\n",
      "'__init__': 0.174 seconds\n"
     ]
    },
    {
     "name": "stderr",
     "output_type": "stream",
     "text": [
      "2023-06-05 17:57:42.157875: I tensorflow/core/common_runtime/gpu/gpu_device.cc:1616] Created device /device:GPU:0 with 6261 MB memory:  -> device: 0, name: NVIDIA GeForce RTX 2080, pci bus id: 0000:17:00.0, compute capability: 7.5\n",
      "2023-06-05 17:57:42.158792: I tensorflow/core/common_runtime/gpu/gpu_device.cc:1616] Created device /device:GPU:1 with 4157 MB memory:  -> device: 1, name: NVIDIA GeForce RTX 2080, pci bus id: 0000:65:00.0, compute capability: 7.5\n"
     ]
    },
    {
     "name": "stdout",
     "output_type": "stream",
     "text": [
      "'_read_params_from_file': 0.080 seconds\n",
      "'set_parameters': 0.006 seconds\n",
      "'load_params': 0.087 seconds\n",
      "'set_lengthscales_constraints': 0.006 seconds\n",
      "*** not optimising parameters\n",
      "'get_parameters': 0.004 seconds\n",
      "parameters:\n",
      "lengthscales: array([9.6821096 , 9.2950781 , 1.00005703]) \n",
      "kernel_variance: 0.0006534341278979035\n",
      "likelihood_variance: 0.006000000000000003\n",
      "'predict': 0.047 seconds\n",
      "total run time : 0.69 seconds\n",
      "------------------------------\n",
      "34 / 363\n",
      "             x          y        t       date    lon        lat\n",
      "259  1000000.0  1000000.0  18326.0 2020-03-05  135.0  77.310512\n",
      "'_update_global_data': 0.001 seconds\n",
      "'local_data_select': 0.002 seconds\n",
      "number obs: 48\n",
      "'_max_dist_bool': 0.013 seconds\n",
      "'_from_dataframe': 0.015 seconds\n",
      "found GPU\n",
      "setting lengthscales to: [1. 1. 1.]\n",
      "'__init__': 0.172 seconds\n"
     ]
    },
    {
     "name": "stderr",
     "output_type": "stream",
     "text": [
      "2023-06-05 17:57:42.855810: I tensorflow/core/common_runtime/gpu/gpu_device.cc:1616] Created device /device:GPU:0 with 6261 MB memory:  -> device: 0, name: NVIDIA GeForce RTX 2080, pci bus id: 0000:17:00.0, compute capability: 7.5\n",
      "2023-06-05 17:57:42.856234: I tensorflow/core/common_runtime/gpu/gpu_device.cc:1616] Created device /device:GPU:1 with 4157 MB memory:  -> device: 1, name: NVIDIA GeForce RTX 2080, pci bus id: 0000:65:00.0, compute capability: 7.5\n"
     ]
    },
    {
     "name": "stdout",
     "output_type": "stream",
     "text": [
      "'_read_params_from_file': 0.079 seconds\n",
      "'set_parameters': 0.006 seconds\n",
      "'load_params': 0.086 seconds\n",
      "'set_lengthscales_constraints': 0.006 seconds\n",
      "*** not optimising parameters\n",
      "'get_parameters': 0.009 seconds\n",
      "parameters:\n",
      "lengthscales: array([9.72508681, 8.05372947, 0.99986457]) \n",
      "kernel_variance: 0.0004061154177208539\n",
      "likelihood_variance: 0.006000000000000003\n",
      "'predict': 0.049 seconds\n",
      "total run time : 0.70 seconds\n",
      "------------------------------\n",
      "35 / 363\n",
      "            x          y        t       date         lon       lat\n",
      "258  800000.0  1000000.0  18326.0 2020-03-05  141.340192  78.51376\n",
      "'_update_global_data': 0.002 seconds\n",
      "'local_data_select': 0.005 seconds\n",
      "number obs: 61\n",
      "'_max_dist_bool': 0.026 seconds\n",
      "'_from_dataframe': 0.028 seconds\n",
      "found GPU\n",
      "setting lengthscales to: [1. 1. 1.]\n"
     ]
    },
    {
     "name": "stderr",
     "output_type": "stream",
     "text": [
      "2023-06-05 17:57:43.554559: I tensorflow/core/common_runtime/gpu/gpu_device.cc:1616] Created device /device:GPU:0 with 6261 MB memory:  -> device: 0, name: NVIDIA GeForce RTX 2080, pci bus id: 0000:17:00.0, compute capability: 7.5\n",
      "2023-06-05 17:57:43.555814: I tensorflow/core/common_runtime/gpu/gpu_device.cc:1616] Created device /device:GPU:1 with 4157 MB memory:  -> device: 1, name: NVIDIA GeForce RTX 2080, pci bus id: 0000:65:00.0, compute capability: 7.5\n"
     ]
    },
    {
     "name": "stdout",
     "output_type": "stream",
     "text": [
      "'__init__': 0.169 seconds\n",
      "'_read_params_from_file': 0.078 seconds\n",
      "'set_parameters': 0.006 seconds\n",
      "'load_params': 0.085 seconds\n",
      "'set_lengthscales_constraints': 0.006 seconds\n",
      "*** not optimising parameters\n",
      "'get_parameters': 0.010 seconds\n",
      "parameters:\n",
      "lengthscales: array([9.44486745, 7.80702075, 0.99949456]) \n",
      "kernel_variance: 0.0002830637476682928\n",
      "likelihood_variance: 0.006000000000000003\n",
      "'predict': 0.060 seconds\n",
      "total run time : 0.72 seconds\n",
      "------------------------------\n",
      "36 / 363\n",
      "            x          y        t       date         lon       lat\n",
      "257  600000.0  1000000.0  18326.0 2020-03-05  149.036243  79.54339\n",
      "'_update_global_data': 0.001 seconds\n",
      "'local_data_select': 0.002 seconds\n",
      "number obs: 74\n",
      "'_max_dist_bool': 0.013 seconds\n",
      "'_from_dataframe': 0.015 seconds\n",
      "found GPU\n",
      "setting lengthscales to: [1. 1. 1.]\n",
      "'__init__': 0.164 seconds\n"
     ]
    },
    {
     "name": "stderr",
     "output_type": "stream",
     "text": [
      "2023-06-05 17:57:44.261687: I tensorflow/core/common_runtime/gpu/gpu_device.cc:1616] Created device /device:GPU:0 with 6261 MB memory:  -> device: 0, name: NVIDIA GeForce RTX 2080, pci bus id: 0000:17:00.0, compute capability: 7.5\n",
      "2023-06-05 17:57:44.262776: I tensorflow/core/common_runtime/gpu/gpu_device.cc:1616] Created device /device:GPU:1 with 4157 MB memory:  -> device: 1, name: NVIDIA GeForce RTX 2080, pci bus id: 0000:65:00.0, compute capability: 7.5\n"
     ]
    },
    {
     "name": "stdout",
     "output_type": "stream",
     "text": [
      "'_read_params_from_file': 0.095 seconds\n",
      "'set_parameters': 0.006 seconds\n",
      "'load_params': 0.102 seconds\n",
      "'set_lengthscales_constraints': 0.006 seconds\n",
      "*** not optimising parameters\n",
      "'get_parameters': 0.004 seconds\n",
      "parameters:\n",
      "lengthscales: array([7.88381313, 9.05234549, 0.99936988]) \n",
      "kernel_variance: 0.0002147962379993944\n",
      "likelihood_variance: 0.006000000000000003\n",
      "'predict': 0.048 seconds\n",
      "total run time : 0.69 seconds\n",
      "------------------------------\n",
      "37 / 363\n",
      "            x          y        t       date         lon        lat\n",
      "256  400000.0  1000000.0  18326.0 2020-03-05  158.198591  80.344951\n",
      "'_update_global_data': 0.001 seconds\n",
      "'local_data_select': 0.002 seconds\n",
      "number obs: 77\n",
      "'_max_dist_bool': 0.013 seconds\n",
      "'_from_dataframe': 0.015 seconds\n",
      "found GPU\n",
      "setting lengthscales to: [1. 1. 1.]\n",
      "'__init__': 0.179 seconds\n"
     ]
    },
    {
     "name": "stderr",
     "output_type": "stream",
     "text": [
      "2023-06-05 17:57:44.970521: I tensorflow/core/common_runtime/gpu/gpu_device.cc:1616] Created device /device:GPU:0 with 6261 MB memory:  -> device: 0, name: NVIDIA GeForce RTX 2080, pci bus id: 0000:17:00.0, compute capability: 7.5\n",
      "2023-06-05 17:57:44.971696: I tensorflow/core/common_runtime/gpu/gpu_device.cc:1616] Created device /device:GPU:1 with 4157 MB memory:  -> device: 1, name: NVIDIA GeForce RTX 2080, pci bus id: 0000:65:00.0, compute capability: 7.5\n"
     ]
    },
    {
     "name": "stdout",
     "output_type": "stream",
     "text": [
      "'_read_params_from_file': 0.079 seconds\n",
      "'set_parameters': 0.006 seconds\n",
      "'load_params': 0.086 seconds\n",
      "'set_lengthscales_constraints': 0.006 seconds\n",
      "*** not optimising parameters\n",
      "'get_parameters': 0.004 seconds\n",
      "parameters:\n",
      "lengthscales: array([ 6.49250178, 10.68920715,  0.9995362 ]) \n",
      "kernel_variance: 0.00019939895054010918\n",
      "likelihood_variance: 0.006000000000000003\n",
      "'predict': 0.047 seconds\n",
      "total run time : 0.68 seconds\n",
      "------------------------------\n",
      "38 / 363\n",
      "            x          y        t       date         lon        lat\n",
      "255  200000.0  1000000.0  18326.0 2020-03-05  168.690068  80.859192\n",
      "'_update_global_data': 0.001 seconds\n",
      "'local_data_select': 0.002 seconds\n",
      "number obs: 77\n",
      "'_max_dist_bool': 0.012 seconds\n",
      "'_from_dataframe': 0.014 seconds\n",
      "found GPU\n",
      "setting lengthscales to: [1. 1. 1.]\n"
     ]
    },
    {
     "name": "stderr",
     "output_type": "stream",
     "text": [
      "2023-06-05 17:57:45.653653: I tensorflow/core/common_runtime/gpu/gpu_device.cc:1616] Created device /device:GPU:0 with 6261 MB memory:  -> device: 0, name: NVIDIA GeForce RTX 2080, pci bus id: 0000:17:00.0, compute capability: 7.5\n",
      "2023-06-05 17:57:45.654658: I tensorflow/core/common_runtime/gpu/gpu_device.cc:1616] Created device /device:GPU:1 with 4157 MB memory:  -> device: 1, name: NVIDIA GeForce RTX 2080, pci bus id: 0000:65:00.0, compute capability: 7.5\n"
     ]
    },
    {
     "name": "stdout",
     "output_type": "stream",
     "text": [
      "'__init__': 0.192 seconds\n",
      "'_read_params_from_file': 0.080 seconds\n",
      "'set_parameters': 0.006 seconds\n",
      "'load_params': 0.087 seconds\n",
      "'set_lengthscales_constraints': 0.006 seconds\n",
      "*** not optimising parameters\n",
      "'get_parameters': 0.004 seconds\n",
      "parameters:\n",
      "lengthscales: array([ 5.44836275, 11.09464824,  1.00015313]) \n",
      "kernel_variance: 0.00024112397660639272\n",
      "likelihood_variance: 0.006000000000000003\n",
      "'predict': 0.082 seconds\n",
      "total run time : 0.75 seconds\n",
      "------------------------------\n",
      "39 / 363\n",
      "       x          y        t       date    lon        lat\n",
      "254  0.0  1000000.0  18326.0 2020-03-05  180.0  81.037096\n",
      "'_update_global_data': 0.001 seconds\n",
      "'local_data_select': 0.002 seconds\n",
      "number obs: 75\n",
      "'_max_dist_bool': 0.013 seconds\n",
      "'_from_dataframe': 0.014 seconds\n",
      "found GPU\n",
      "setting lengthscales to: [1. 1. 1.]\n",
      "'__init__': 0.158 seconds\n"
     ]
    },
    {
     "name": "stderr",
     "output_type": "stream",
     "text": [
      "2023-06-05 17:57:46.393716: I tensorflow/core/common_runtime/gpu/gpu_device.cc:1616] Created device /device:GPU:0 with 6261 MB memory:  -> device: 0, name: NVIDIA GeForce RTX 2080, pci bus id: 0000:17:00.0, compute capability: 7.5\n",
      "2023-06-05 17:57:46.394768: I tensorflow/core/common_runtime/gpu/gpu_device.cc:1616] Created device /device:GPU:1 with 4157 MB memory:  -> device: 1, name: NVIDIA GeForce RTX 2080, pci bus id: 0000:65:00.0, compute capability: 7.5\n"
     ]
    },
    {
     "name": "stdout",
     "output_type": "stream",
     "text": [
      "'_read_params_from_file': 0.094 seconds\n",
      "'set_parameters': 0.006 seconds\n",
      "'load_params': 0.100 seconds\n",
      "'set_lengthscales_constraints': 0.006 seconds\n",
      "*** not optimising parameters\n",
      "'get_parameters': 0.004 seconds\n",
      "parameters:\n",
      "lengthscales: array([ 4.99396917, 10.4837223 ,  1.00141542]) \n",
      "kernel_variance: 0.00038005627652270543\n",
      "likelihood_variance: 0.006000000000000003\n",
      "'predict': 0.068 seconds\n",
      "total run time : 0.70 seconds\n",
      "------------------------------\n",
      "40 / 363\n",
      "            x          y        t       date         lon        lat\n",
      "253 -200000.0  1000000.0  18326.0 2020-03-05 -168.690068  80.859192\n",
      "'_update_global_data': 0.001 seconds\n",
      "'local_data_select': 0.003 seconds\n",
      "number obs: 73\n",
      "'_max_dist_bool': 0.030 seconds\n",
      "'_from_dataframe': 0.032 seconds\n",
      "found GPU\n",
      "setting lengthscales to: [1. 1. 1.]\n"
     ]
    },
    {
     "name": "stderr",
     "output_type": "stream",
     "text": [
      "2023-06-05 17:57:47.146449: I tensorflow/core/common_runtime/gpu/gpu_device.cc:1616] Created device /device:GPU:0 with 6261 MB memory:  -> device: 0, name: NVIDIA GeForce RTX 2080, pci bus id: 0000:17:00.0, compute capability: 7.5\n",
      "2023-06-05 17:57:47.147508: I tensorflow/core/common_runtime/gpu/gpu_device.cc:1616] Created device /device:GPU:1 with 4157 MB memory:  -> device: 1, name: NVIDIA GeForce RTX 2080, pci bus id: 0000:65:00.0, compute capability: 7.5\n"
     ]
    },
    {
     "name": "stdout",
     "output_type": "stream",
     "text": [
      "'__init__': 0.197 seconds\n",
      "'_read_params_from_file': 0.077 seconds\n",
      "'set_parameters': 0.006 seconds\n",
      "'load_params': 0.084 seconds\n",
      "'set_lengthscales_constraints': 0.006 seconds\n",
      "*** not optimising parameters\n",
      "'get_parameters': 0.004 seconds\n",
      "parameters:\n",
      "lengthscales: array([6.21105174, 9.59733349, 1.00429142]) \n",
      "kernel_variance: 0.0007202263077065474\n",
      "likelihood_variance: 0.006000000000000003\n",
      "'predict': 0.047 seconds\n",
      "SAVING RESULTS\n",
      "run_details\n",
      "preds\n",
      "lengthscales\n",
      "kernel_variance\n",
      "likelihood_variance\n",
      "total run time : 0.86 seconds\n",
      "------------------------------\n",
      "41 / 363\n",
      "            x          y        t       date         lon        lat\n",
      "252 -400000.0  1000000.0  18326.0 2020-03-05 -158.198591  80.344951\n",
      "'_update_global_data': 0.001 seconds\n",
      "'local_data_select': 0.002 seconds\n",
      "number obs: 80\n",
      "'_max_dist_bool': 0.013 seconds\n",
      "'_from_dataframe': 0.015 seconds\n",
      "found GPU\n",
      "setting lengthscales to: [1. 1. 1.]\n",
      "'__init__': 0.169 seconds\n",
      "'_read_params_from_file': 0.077 seconds\n",
      "'set_parameters': 0.006 seconds\n",
      "'load_params': 0.084 seconds\n",
      "'set_lengthscales_constraints': 0.006 seconds\n",
      "*** not optimising parameters\n",
      "'get_parameters': 0.004 seconds\n",
      "parameters:\n",
      "lengthscales: array([8.61147585, 8.25311659, 1.00657598]) \n",
      "kernel_variance: 0.0014466525178285761\n",
      "likelihood_variance: 0.006000000000000003\n",
      "'predict': 0.047 seconds\n"
     ]
    },
    {
     "name": "stderr",
     "output_type": "stream",
     "text": [
      "2023-06-05 17:57:47.974387: I tensorflow/core/common_runtime/gpu/gpu_device.cc:1616] Created device /device:GPU:0 with 6261 MB memory:  -> device: 0, name: NVIDIA GeForce RTX 2080, pci bus id: 0000:17:00.0, compute capability: 7.5\n",
      "2023-06-05 17:57:47.975428: I tensorflow/core/common_runtime/gpu/gpu_device.cc:1616] Created device /device:GPU:1 with 4157 MB memory:  -> device: 1, name: NVIDIA GeForce RTX 2080, pci bus id: 0000:65:00.0, compute capability: 7.5\n"
     ]
    },
    {
     "name": "stdout",
     "output_type": "stream",
     "text": [
      "total run time : 0.67 seconds\n",
      "------------------------------\n",
      "42 / 363\n",
      "            x          y        t       date         lon       lat\n",
      "251 -600000.0  1000000.0  18326.0 2020-03-05 -149.036243  79.54339\n",
      "'_update_global_data': 0.001 seconds\n",
      "'local_data_select': 0.002 seconds\n",
      "number obs: 78\n",
      "'_max_dist_bool': 0.013 seconds\n",
      "'_from_dataframe': 0.015 seconds\n",
      "found GPU\n",
      "setting lengthscales to: [1. 1. 1.]\n",
      "'__init__': 0.156 seconds\n"
     ]
    },
    {
     "name": "stderr",
     "output_type": "stream",
     "text": [
      "2023-06-05 17:57:48.634268: I tensorflow/core/common_runtime/gpu/gpu_device.cc:1616] Created device /device:GPU:0 with 6261 MB memory:  -> device: 0, name: NVIDIA GeForce RTX 2080, pci bus id: 0000:17:00.0, compute capability: 7.5\n",
      "2023-06-05 17:57:48.635464: I tensorflow/core/common_runtime/gpu/gpu_device.cc:1616] Created device /device:GPU:1 with 4157 MB memory:  -> device: 1, name: NVIDIA GeForce RTX 2080, pci bus id: 0000:65:00.0, compute capability: 7.5\n"
     ]
    },
    {
     "name": "stdout",
     "output_type": "stream",
     "text": [
      "'_read_params_from_file': 0.081 seconds\n",
      "'set_parameters': 0.006 seconds\n",
      "'load_params': 0.087 seconds\n",
      "'set_lengthscales_constraints': 0.006 seconds\n",
      "*** not optimising parameters\n",
      "'get_parameters': 0.004 seconds\n",
      "parameters:\n",
      "lengthscales: array([9.43010252, 7.36665452, 1.00354961]) \n",
      "kernel_variance: 0.0029798317934066772\n",
      "likelihood_variance: 0.006000000000000003\n",
      "'predict': 0.050 seconds\n",
      "total run time : 0.69 seconds\n",
      "------------------------------\n",
      "43 / 363\n",
      "             x         y        t       date         lon        lat\n",
      "228 -1400000.0  800000.0  18326.0 2020-03-05 -119.744881  75.522123\n",
      "'_update_global_data': 0.001 seconds\n",
      "'local_data_select': 0.002 seconds\n",
      "number obs: 30\n",
      "'_max_dist_bool': 0.014 seconds\n",
      "'_from_dataframe': 0.015 seconds\n",
      "found GPU\n",
      "setting lengthscales to: [1. 1. 1.]\n",
      "'__init__': 0.156 seconds\n"
     ]
    },
    {
     "name": "stderr",
     "output_type": "stream",
     "text": [
      "2023-06-05 17:57:49.329985: I tensorflow/core/common_runtime/gpu/gpu_device.cc:1616] Created device /device:GPU:0 with 6261 MB memory:  -> device: 0, name: NVIDIA GeForce RTX 2080, pci bus id: 0000:17:00.0, compute capability: 7.5\n",
      "2023-06-05 17:57:49.331120: I tensorflow/core/common_runtime/gpu/gpu_device.cc:1616] Created device /device:GPU:1 with 4157 MB memory:  -> device: 1, name: NVIDIA GeForce RTX 2080, pci bus id: 0000:65:00.0, compute capability: 7.5\n"
     ]
    },
    {
     "name": "stdout",
     "output_type": "stream",
     "text": [
      "'_read_params_from_file': 0.081 seconds\n",
      "'set_parameters': 0.006 seconds\n",
      "'load_params': 0.088 seconds\n",
      "'set_lengthscales_constraints': 0.006 seconds\n",
      "*** not optimising parameters\n",
      "'get_parameters': 0.004 seconds\n",
      "parameters:\n",
      "lengthscales: array([2.87183259, 3.4866186 , 1.00019975]) \n",
      "kernel_variance: 0.024460303486105995\n",
      "likelihood_variance: 0.006000000000000003\n",
      "'predict': 0.061 seconds\n",
      "total run time : 0.68 seconds\n",
      "------------------------------\n",
      "44 / 363\n",
      "             x         y        t       date         lon        lat\n",
      "227 -1600000.0  800000.0  18326.0 2020-03-05 -116.565051  73.927516\n",
      "'_update_global_data': 0.001 seconds\n",
      "'local_data_select': 0.002 seconds\n",
      "number obs: 14\n",
      "'_max_dist_bool': 0.013 seconds\n",
      "'_from_dataframe': 0.015 seconds\n",
      "found GPU\n",
      "setting lengthscales to: [1. 1. 1.]\n",
      "'__init__': 0.173 seconds\n"
     ]
    },
    {
     "name": "stderr",
     "output_type": "stream",
     "text": [
      "2023-06-05 17:57:50.025778: I tensorflow/core/common_runtime/gpu/gpu_device.cc:1616] Created device /device:GPU:0 with 6261 MB memory:  -> device: 0, name: NVIDIA GeForce RTX 2080, pci bus id: 0000:17:00.0, compute capability: 7.5\n",
      "2023-06-05 17:57:50.026884: I tensorflow/core/common_runtime/gpu/gpu_device.cc:1616] Created device /device:GPU:1 with 4157 MB memory:  -> device: 1, name: NVIDIA GeForce RTX 2080, pci bus id: 0000:65:00.0, compute capability: 7.5\n"
     ]
    },
    {
     "name": "stdout",
     "output_type": "stream",
     "text": [
      "'_read_params_from_file': 0.079 seconds\n",
      "'set_parameters': 0.006 seconds\n",
      "'load_params': 0.086 seconds\n",
      "'set_lengthscales_constraints': 0.005 seconds\n",
      "*** not optimising parameters\n",
      "'get_parameters': 0.004 seconds\n",
      "parameters:\n",
      "lengthscales: array([2.30126261, 2.9181725 , 1.00007585]) \n",
      "kernel_variance: 0.019033657149415236\n",
      "likelihood_variance: 0.006000000000000003\n",
      "'predict': 0.046 seconds\n",
      "total run time : 0.68 seconds\n",
      "------------------------------\n",
      "45 / 363\n",
      "             x         y        t       date         lon       lat\n",
      "226 -1800000.0  800000.0  18326.0 2020-03-05 -113.962489  72.28859\n",
      "'_update_global_data': 0.001 seconds\n",
      "'local_data_select': 0.002 seconds\n",
      "number obs: 4\n",
      "'_max_dist_bool': 0.013 seconds\n",
      "'_from_dataframe': 0.015 seconds\n",
      "found GPU\n",
      "setting lengthscales to: [1. 1. 1.]\n",
      "'__init__': 0.164 seconds\n"
     ]
    },
    {
     "name": "stderr",
     "output_type": "stream",
     "text": [
      "2023-06-05 17:57:50.690692: I tensorflow/core/common_runtime/gpu/gpu_device.cc:1616] Created device /device:GPU:0 with 6261 MB memory:  -> device: 0, name: NVIDIA GeForce RTX 2080, pci bus id: 0000:17:00.0, compute capability: 7.5\n",
      "2023-06-05 17:57:50.691880: I tensorflow/core/common_runtime/gpu/gpu_device.cc:1616] Created device /device:GPU:1 with 4157 MB memory:  -> device: 1, name: NVIDIA GeForce RTX 2080, pci bus id: 0000:65:00.0, compute capability: 7.5\n"
     ]
    },
    {
     "name": "stdout",
     "output_type": "stream",
     "text": [
      "'_read_params_from_file': 0.081 seconds\n",
      "'set_parameters': 0.014 seconds\n",
      "'load_params': 0.096 seconds\n",
      "'set_lengthscales_constraints': 0.008 seconds\n",
      "*** not optimising parameters\n",
      "'get_parameters': 0.004 seconds\n",
      "parameters:\n",
      "lengthscales: array([2.90462782, 3.48595592, 1.0000481 ]) \n",
      "kernel_variance: 0.01864861409533886\n",
      "likelihood_variance: 0.006000000000000003\n",
      "'predict': 0.046 seconds\n",
      "total run time : 0.68 seconds\n",
      "------------------------------\n",
      "46 / 363\n",
      "             x         y        t       date         lon        lat\n",
      "225 -2000000.0  800000.0  18326.0 2020-03-05 -111.801409  70.615022\n",
      "'_update_global_data': 0.001 seconds\n",
      "'local_data_select': 0.002 seconds\n",
      "number obs: 0\n",
      "------------------------------\n",
      "47 / 363\n",
      "            x         y        t       date         lon        lat\n",
      "201  800000.0  400000.0  18326.0 2020-03-05  116.565051  81.985104\n",
      "'_update_global_data': 0.001 seconds\n",
      "'local_data_select': 0.002 seconds\n",
      "number obs: 70\n",
      "'_max_dist_bool': 0.013 seconds\n",
      "'_from_dataframe': 0.015 seconds\n",
      "found GPU\n",
      "setting lengthscales to: [1. 1. 1.]\n",
      "'__init__': 0.154 seconds\n"
     ]
    },
    {
     "name": "stderr",
     "output_type": "stream",
     "text": [
      "2023-06-05 17:57:51.382927: I tensorflow/core/common_runtime/gpu/gpu_device.cc:1616] Created device /device:GPU:0 with 6261 MB memory:  -> device: 0, name: NVIDIA GeForce RTX 2080, pci bus id: 0000:17:00.0, compute capability: 7.5\n",
      "2023-06-05 17:57:51.384137: I tensorflow/core/common_runtime/gpu/gpu_device.cc:1616] Created device /device:GPU:1 with 4157 MB memory:  -> device: 1, name: NVIDIA GeForce RTX 2080, pci bus id: 0000:65:00.0, compute capability: 7.5\n"
     ]
    },
    {
     "name": "stdout",
     "output_type": "stream",
     "text": [
      "'_read_params_from_file': 0.078 seconds\n",
      "'set_parameters': 0.006 seconds\n",
      "'load_params': 0.085 seconds\n",
      "'set_lengthscales_constraints': 0.006 seconds\n",
      "*** not optimising parameters\n",
      "'get_parameters': 0.004 seconds\n",
      "parameters:\n",
      "lengthscales: array([ 6.88689061, 10.31910129,  1.00006789]) \n",
      "kernel_variance: 0.0007384566213993264\n",
      "likelihood_variance: 0.006000000000000003\n",
      "'predict': 0.047 seconds\n",
      "total run time : 0.66 seconds\n",
      "------------------------------\n",
      "48 / 363\n",
      "            x         y        t       date         lon        lat\n",
      "200  600000.0  400000.0  18326.0 2020-03-05  123.690068  83.540179\n",
      "'_update_global_data': 0.001 seconds\n",
      "'local_data_select': 0.002 seconds\n",
      "number obs: 49\n",
      "'_max_dist_bool': 0.013 seconds\n",
      "'_from_dataframe': 0.015 seconds\n",
      "found GPU\n",
      "setting lengthscales to: [1. 1. 1.]\n",
      "'__init__': 0.164 seconds\n"
     ]
    },
    {
     "name": "stderr",
     "output_type": "stream",
     "text": [
      "2023-06-05 17:57:52.042307: I tensorflow/core/common_runtime/gpu/gpu_device.cc:1616] Created device /device:GPU:0 with 6261 MB memory:  -> device: 0, name: NVIDIA GeForce RTX 2080, pci bus id: 0000:17:00.0, compute capability: 7.5\n",
      "2023-06-05 17:57:52.043517: I tensorflow/core/common_runtime/gpu/gpu_device.cc:1616] Created device /device:GPU:1 with 4157 MB memory:  -> device: 1, name: NVIDIA GeForce RTX 2080, pci bus id: 0000:65:00.0, compute capability: 7.5\n"
     ]
    },
    {
     "name": "stdout",
     "output_type": "stream",
     "text": [
      "'_read_params_from_file': 0.081 seconds\n",
      "'set_parameters': 0.006 seconds\n",
      "'load_params': 0.088 seconds\n",
      "'set_lengthscales_constraints': 0.006 seconds\n",
      "*** not optimising parameters\n",
      "'get_parameters': 0.004 seconds\n",
      "parameters:\n",
      "lengthscales: array([ 7.79663525, 10.37709839,  0.99973786]) \n",
      "kernel_variance: 0.0003928766100722831\n",
      "likelihood_variance: 0.006000000000000003\n",
      "'predict': 0.047 seconds\n",
      "total run time : 0.70 seconds\n",
      "------------------------------\n",
      "49 / 363\n",
      "            x         y        t       date    lon        lat\n",
      "199  400000.0  400000.0  18326.0 2020-03-05  135.0  84.933616\n",
      "'_update_global_data': 0.001 seconds\n",
      "'local_data_select': 0.002 seconds\n",
      "number obs: 47\n",
      "'_max_dist_bool': 0.013 seconds\n",
      "'_from_dataframe': 0.014 seconds\n",
      "found GPU\n",
      "setting lengthscales to: [1. 1. 1.]\n",
      "'__init__': 0.149 seconds\n"
     ]
    },
    {
     "name": "stderr",
     "output_type": "stream",
     "text": [
      "2023-06-05 17:57:52.739805: I tensorflow/core/common_runtime/gpu/gpu_device.cc:1616] Created device /device:GPU:0 with 6261 MB memory:  -> device: 0, name: NVIDIA GeForce RTX 2080, pci bus id: 0000:17:00.0, compute capability: 7.5\n",
      "2023-06-05 17:57:52.740847: I tensorflow/core/common_runtime/gpu/gpu_device.cc:1616] Created device /device:GPU:1 with 4157 MB memory:  -> device: 1, name: NVIDIA GeForce RTX 2080, pci bus id: 0000:65:00.0, compute capability: 7.5\n"
     ]
    },
    {
     "name": "stdout",
     "output_type": "stream",
     "text": [
      "'_read_params_from_file': 0.080 seconds\n",
      "'set_parameters': 0.007 seconds\n",
      "'load_params': 0.088 seconds\n",
      "'set_lengthscales_constraints': 0.005 seconds\n",
      "*** not optimising parameters\n",
      "'get_parameters': 0.004 seconds\n",
      "parameters:\n",
      "lengthscales: array([6.89146144, 9.42194634, 0.9997197 ]) \n",
      "kernel_variance: 0.0004671726211413312\n",
      "likelihood_variance: 0.006000000000000003\n",
      "'predict': 0.047 seconds\n",
      "total run time : 0.66 seconds\n",
      "------------------------------\n",
      "50 / 363\n",
      "            x         y        t       date         lon      lat\n",
      "198  200000.0  400000.0  18326.0 2020-03-05  153.434949  85.9952\n",
      "'_update_global_data': 0.001 seconds\n",
      "'local_data_select': 0.002 seconds\n",
      "number obs: 63\n",
      "'_max_dist_bool': 0.013 seconds\n",
      "'_from_dataframe': 0.015 seconds\n",
      "found GPU\n",
      "setting lengthscales to: [1. 1. 1.]\n",
      "'__init__': 0.153 seconds\n"
     ]
    },
    {
     "name": "stderr",
     "output_type": "stream",
     "text": [
      "2023-06-05 17:57:53.409738: I tensorflow/core/common_runtime/gpu/gpu_device.cc:1616] Created device /device:GPU:0 with 6261 MB memory:  -> device: 0, name: NVIDIA GeForce RTX 2080, pci bus id: 0000:17:00.0, compute capability: 7.5\n",
      "2023-06-05 17:57:53.410789: I tensorflow/core/common_runtime/gpu/gpu_device.cc:1616] Created device /device:GPU:1 with 4157 MB memory:  -> device: 1, name: NVIDIA GeForce RTX 2080, pci bus id: 0000:65:00.0, compute capability: 7.5\n"
     ]
    },
    {
     "name": "stdout",
     "output_type": "stream",
     "text": [
      "'_read_params_from_file': 0.079 seconds\n",
      "'set_parameters': 0.006 seconds\n",
      "'load_params': 0.086 seconds\n",
      "'set_lengthscales_constraints': 0.006 seconds\n",
      "*** not optimising parameters\n",
      "'get_parameters': 0.004 seconds\n",
      "parameters:\n",
      "lengthscales: array([6.54393828, 9.25736835, 0.99898443]) \n",
      "kernel_variance: 0.0016335752273961474\n",
      "likelihood_variance: 0.006000000000000003\n",
      "'predict': 0.047 seconds\n",
      "SAVING RESULTS\n",
      "run_details\n",
      "preds\n",
      "lengthscales\n",
      "kernel_variance\n",
      "likelihood_variance\n",
      "total run time : 0.85 seconds\n",
      "------------------------------\n",
      "51 / 363\n",
      "       x         y        t       date    lon        lat\n",
      "197  0.0  400000.0  18326.0 2020-03-05  180.0  86.418156\n",
      "'_update_global_data': 0.001 seconds\n",
      "'local_data_select': 0.002 seconds\n",
      "number obs: 57\n",
      "'_max_dist_bool': 0.014 seconds\n",
      "'_from_dataframe': 0.015 seconds\n",
      "found GPU\n",
      "setting lengthscales to: [1. 1. 1.]\n",
      "'__init__': 0.171 seconds\n",
      "'_read_params_from_file': 0.080 seconds\n",
      "'set_parameters': 0.006 seconds\n",
      "'load_params': 0.087 seconds\n",
      "'set_lengthscales_constraints': 0.006 seconds\n",
      "*** not optimising parameters\n",
      "'get_parameters': 0.004 seconds\n",
      "parameters:\n",
      "lengthscales: array([ 7.50430102, 10.44301827,  0.98263571]) \n",
      "kernel_variance: 0.004738857099520553\n",
      "likelihood_variance: 0.006000000000000003\n",
      "'predict': 0.048 seconds\n"
     ]
    },
    {
     "name": "stderr",
     "output_type": "stream",
     "text": [
      "2023-06-05 17:57:54.266983: I tensorflow/core/common_runtime/gpu/gpu_device.cc:1616] Created device /device:GPU:0 with 6261 MB memory:  -> device: 0, name: NVIDIA GeForce RTX 2080, pci bus id: 0000:17:00.0, compute capability: 7.5\n",
      "2023-06-05 17:57:54.268244: I tensorflow/core/common_runtime/gpu/gpu_device.cc:1616] Created device /device:GPU:1 with 4157 MB memory:  -> device: 1, name: NVIDIA GeForce RTX 2080, pci bus id: 0000:65:00.0, compute capability: 7.5\n"
     ]
    },
    {
     "name": "stdout",
     "output_type": "stream",
     "text": [
      "total run time : 0.71 seconds\n",
      "------------------------------\n",
      "52 / 363\n",
      "            x         y        t       date         lon      lat\n",
      "196 -200000.0  400000.0  18326.0 2020-03-05 -153.434949  85.9952\n",
      "'_update_global_data': 0.001 seconds\n",
      "'local_data_select': 0.002 seconds\n",
      "number obs: 44\n",
      "'_max_dist_bool': 0.023 seconds\n",
      "'_from_dataframe': 0.026 seconds\n",
      "found GPU\n",
      "setting lengthscales to: [1. 1. 1.]\n"
     ]
    },
    {
     "name": "stderr",
     "output_type": "stream",
     "text": [
      "2023-06-05 17:57:54.990377: I tensorflow/core/common_runtime/gpu/gpu_device.cc:1616] Created device /device:GPU:0 with 6261 MB memory:  -> device: 0, name: NVIDIA GeForce RTX 2080, pci bus id: 0000:17:00.0, compute capability: 7.5\n",
      "2023-06-05 17:57:54.991563: I tensorflow/core/common_runtime/gpu/gpu_device.cc:1616] Created device /device:GPU:1 with 4157 MB memory:  -> device: 1, name: NVIDIA GeForce RTX 2080, pci bus id: 0000:65:00.0, compute capability: 7.5\n"
     ]
    },
    {
     "name": "stdout",
     "output_type": "stream",
     "text": [
      "'__init__': 0.175 seconds\n",
      "'_read_params_from_file': 0.080 seconds\n",
      "'set_parameters': 0.006 seconds\n",
      "'load_params': 0.086 seconds\n",
      "'set_lengthscales_constraints': 0.006 seconds\n",
      "*** not optimising parameters\n",
      "'get_parameters': 0.010 seconds\n",
      "parameters:\n",
      "lengthscales: array([ 8.68496348, 11.02700725,  0.9479286 ]) \n",
      "kernel_variance: 0.009424329502040855\n",
      "likelihood_variance: 0.006000000000000003\n",
      "'predict': 0.050 seconds\n",
      "total run time : 0.71 seconds\n",
      "------------------------------\n",
      "53 / 363\n",
      "            x         y        t       date    lon        lat\n",
      "195 -400000.0  400000.0  18326.0 2020-03-05 -135.0  84.933616\n",
      "'_update_global_data': 0.001 seconds\n",
      "'local_data_select': 0.004 seconds\n",
      "number obs: 32\n",
      "'_max_dist_bool': 0.028 seconds\n",
      "'_from_dataframe': 0.030 seconds\n",
      "found GPU\n",
      "setting lengthscales to: [1. 1. 1.]\n",
      "'__init__': 0.165 seconds\n"
     ]
    },
    {
     "name": "stderr",
     "output_type": "stream",
     "text": [
      "2023-06-05 17:57:55.703350: I tensorflow/core/common_runtime/gpu/gpu_device.cc:1616] Created device /device:GPU:0 with 6261 MB memory:  -> device: 0, name: NVIDIA GeForce RTX 2080, pci bus id: 0000:17:00.0, compute capability: 7.5\n",
      "2023-06-05 17:57:55.704460: I tensorflow/core/common_runtime/gpu/gpu_device.cc:1616] Created device /device:GPU:1 with 4157 MB memory:  -> device: 1, name: NVIDIA GeForce RTX 2080, pci bus id: 0000:65:00.0, compute capability: 7.5\n"
     ]
    },
    {
     "name": "stdout",
     "output_type": "stream",
     "text": [
      "'_read_params_from_file': 0.078 seconds\n",
      "'set_parameters': 0.006 seconds\n",
      "'load_params': 0.085 seconds\n",
      "'set_lengthscales_constraints': 0.006 seconds\n",
      "*** not optimising parameters\n",
      "'get_parameters': 0.004 seconds\n",
      "parameters:\n",
      "lengthscales: array([ 9.31217407, 10.57272567,  0.94252005]) \n",
      "kernel_variance: 0.013744256236365528\n",
      "likelihood_variance: 0.006000000000000003\n",
      "'predict': 0.047 seconds\n",
      "total run time : 0.69 seconds\n",
      "------------------------------\n",
      "54 / 363\n",
      "            x         y        t       date         lon        lat\n",
      "194 -600000.0  400000.0  18326.0 2020-03-05 -123.690068  83.540179\n",
      "'_update_global_data': 0.001 seconds\n",
      "'local_data_select': 0.002 seconds\n",
      "number obs: 35\n",
      "'_max_dist_bool': 0.014 seconds\n",
      "'_from_dataframe': 0.015 seconds\n",
      "found GPU\n",
      "setting lengthscales to: [1. 1. 1.]\n",
      "'__init__': 0.155 seconds\n"
     ]
    },
    {
     "name": "stderr",
     "output_type": "stream",
     "text": [
      "2023-06-05 17:57:56.365877: I tensorflow/core/common_runtime/gpu/gpu_device.cc:1616] Created device /device:GPU:0 with 6261 MB memory:  -> device: 0, name: NVIDIA GeForce RTX 2080, pci bus id: 0000:17:00.0, compute capability: 7.5\n",
      "2023-06-05 17:57:56.366971: I tensorflow/core/common_runtime/gpu/gpu_device.cc:1616] Created device /device:GPU:1 with 4157 MB memory:  -> device: 1, name: NVIDIA GeForce RTX 2080, pci bus id: 0000:65:00.0, compute capability: 7.5\n"
     ]
    },
    {
     "name": "stdout",
     "output_type": "stream",
     "text": [
      "'_read_params_from_file': 0.080 seconds\n",
      "'set_parameters': 0.006 seconds\n",
      "'load_params': 0.087 seconds\n",
      "'set_lengthscales_constraints': 0.006 seconds\n",
      "*** not optimising parameters\n",
      "'get_parameters': 0.004 seconds\n",
      "parameters:\n",
      "lengthscales: array([ 8.69396563, 10.12358348,  0.97471016]) \n",
      "kernel_variance: 0.016563104220712596\n",
      "likelihood_variance: 0.006000000000000003\n",
      "'predict': 0.048 seconds\n",
      "total run time : 0.67 seconds\n",
      "------------------------------\n",
      "55 / 363\n",
      "            x         y        t       date         lon        lat\n",
      "193 -800000.0  400000.0  18326.0 2020-03-05 -116.565051  81.985104\n",
      "'_update_global_data': 0.001 seconds\n",
      "'local_data_select': 0.002 seconds\n",
      "number obs: 62\n",
      "'_max_dist_bool': 0.013 seconds\n",
      "'_from_dataframe': 0.015 seconds\n",
      "found GPU\n",
      "setting lengthscales to: [1. 1. 1.]\n"
     ]
    },
    {
     "name": "stderr",
     "output_type": "stream",
     "text": [
      "2023-06-05 17:57:57.058708: I tensorflow/core/common_runtime/gpu/gpu_device.cc:1616] Created device /device:GPU:0 with 6261 MB memory:  -> device: 0, name: NVIDIA GeForce RTX 2080, pci bus id: 0000:17:00.0, compute capability: 7.5\n",
      "2023-06-05 17:57:57.059902: I tensorflow/core/common_runtime/gpu/gpu_device.cc:1616] Created device /device:GPU:1 with 4157 MB memory:  -> device: 1, name: NVIDIA GeForce RTX 2080, pci bus id: 0000:65:00.0, compute capability: 7.5\n"
     ]
    },
    {
     "name": "stdout",
     "output_type": "stream",
     "text": [
      "'__init__': 0.188 seconds\n",
      "'_read_params_from_file': 0.086 seconds\n",
      "'set_parameters': 0.006 seconds\n",
      "'load_params': 0.094 seconds\n",
      "'set_lengthscales_constraints': 0.006 seconds\n",
      "*** not optimising parameters\n",
      "'get_parameters': 0.004 seconds\n",
      "parameters:\n",
      "lengthscales: array([6.97580769, 9.66944848, 0.99207276]) \n",
      "kernel_variance: 0.019614810087210978\n",
      "likelihood_variance: 0.006000000000000003\n",
      "'predict': 0.048 seconds\n",
      "total run time : 0.71 seconds\n",
      "------------------------------\n",
      "56 / 363\n",
      "             x         y        t       date         lon        lat\n",
      "192 -1000000.0  400000.0  18326.0 2020-03-05 -111.801409  80.344951\n",
      "'_update_global_data': 0.001 seconds\n",
      "'local_data_select': 0.002 seconds\n",
      "number obs: 68\n",
      "'_max_dist_bool': 0.013 seconds\n",
      "'_from_dataframe': 0.015 seconds\n",
      "found GPU\n",
      "setting lengthscales to: [1. 1. 1.]\n",
      "'__init__': 0.155 seconds\n"
     ]
    },
    {
     "name": "stderr",
     "output_type": "stream",
     "text": [
      "2023-06-05 17:57:57.749194: I tensorflow/core/common_runtime/gpu/gpu_device.cc:1616] Created device /device:GPU:0 with 6261 MB memory:  -> device: 0, name: NVIDIA GeForce RTX 2080, pci bus id: 0000:17:00.0, compute capability: 7.5\n",
      "2023-06-05 17:57:57.750358: I tensorflow/core/common_runtime/gpu/gpu_device.cc:1616] Created device /device:GPU:1 with 4157 MB memory:  -> device: 1, name: NVIDIA GeForce RTX 2080, pci bus id: 0000:65:00.0, compute capability: 7.5\n"
     ]
    },
    {
     "name": "stdout",
     "output_type": "stream",
     "text": [
      "'_read_params_from_file': 0.118 seconds\n",
      "'set_parameters': 0.006 seconds\n",
      "'load_params': 0.126 seconds\n",
      "'set_lengthscales_constraints': 0.006 seconds\n",
      "*** not optimising parameters\n",
      "'get_parameters': 0.004 seconds\n",
      "parameters:\n",
      "lengthscales: array([4.78225832, 9.06332931, 0.99603608]) \n",
      "kernel_variance: 0.027023852701769466\n",
      "likelihood_variance: 0.006000000000000003\n",
      "'predict': 0.049 seconds\n",
      "total run time : 0.71 seconds\n",
      "------------------------------\n",
      "57 / 363\n",
      "             x         y        t       date         lon        lat\n",
      "191 -1200000.0  400000.0  18326.0 2020-03-05 -108.434949  78.655203\n",
      "'_update_global_data': 0.001 seconds\n",
      "'local_data_select': 0.002 seconds\n",
      "number obs: 48\n",
      "'_max_dist_bool': 0.013 seconds\n",
      "'_from_dataframe': 0.014 seconds\n",
      "found GPU\n",
      "setting lengthscales to: [1. 1. 1.]\n",
      "'__init__': 0.161 seconds\n"
     ]
    },
    {
     "name": "stderr",
     "output_type": "stream",
     "text": [
      "2023-06-05 17:57:58.466471: I tensorflow/core/common_runtime/gpu/gpu_device.cc:1616] Created device /device:GPU:0 with 6261 MB memory:  -> device: 0, name: NVIDIA GeForce RTX 2080, pci bus id: 0000:17:00.0, compute capability: 7.5\n",
      "2023-06-05 17:57:58.467665: I tensorflow/core/common_runtime/gpu/gpu_device.cc:1616] Created device /device:GPU:1 with 4157 MB memory:  -> device: 1, name: NVIDIA GeForce RTX 2080, pci bus id: 0000:65:00.0, compute capability: 7.5\n"
     ]
    },
    {
     "name": "stdout",
     "output_type": "stream",
     "text": [
      "'_read_params_from_file': 0.095 seconds\n",
      "'set_parameters': 0.006 seconds\n",
      "'load_params': 0.103 seconds\n",
      "'set_lengthscales_constraints': 0.006 seconds\n",
      "*** not optimising parameters\n",
      "'get_parameters': 0.004 seconds\n",
      "parameters:\n",
      "lengthscales: array([2.8118532 , 8.73635583, 0.99939514]) \n",
      "kernel_variance: 0.03771463951496518\n",
      "likelihood_variance: 0.006000000000000003\n",
      "'predict': 0.073 seconds\n",
      "total run time : 0.72 seconds\n",
      "------------------------------\n",
      "58 / 363\n",
      "             x         y        t       date         lon        lat\n",
      "190 -1400000.0  400000.0  18326.0 2020-03-05 -105.945396  76.933635\n",
      "'_update_global_data': 0.001 seconds\n",
      "'local_data_select': 0.002 seconds\n",
      "number obs: 16\n",
      "'_max_dist_bool': 0.013 seconds\n",
      "'_from_dataframe': 0.015 seconds\n",
      "found GPU\n",
      "setting lengthscales to: [1. 1. 1.]\n",
      "'__init__': 0.121 seconds\n"
     ]
    },
    {
     "name": "stderr",
     "output_type": "stream",
     "text": [
      "2023-06-05 17:57:59.159142: I tensorflow/core/common_runtime/gpu/gpu_device.cc:1616] Created device /device:GPU:0 with 6261 MB memory:  -> device: 0, name: NVIDIA GeForce RTX 2080, pci bus id: 0000:17:00.0, compute capability: 7.5\n",
      "2023-06-05 17:57:59.159579: I tensorflow/core/common_runtime/gpu/gpu_device.cc:1616] Created device /device:GPU:1 with 4157 MB memory:  -> device: 1, name: NVIDIA GeForce RTX 2080, pci bus id: 0000:65:00.0, compute capability: 7.5\n"
     ]
    },
    {
     "name": "stdout",
     "output_type": "stream",
     "text": [
      "'_read_params_from_file': 0.080 seconds\n",
      "'set_parameters': 0.006 seconds\n",
      "'load_params': 0.087 seconds\n",
      "'set_lengthscales_constraints': 0.012 seconds\n",
      "*** not optimising parameters\n",
      "'get_parameters': 0.006 seconds\n",
      "parameters:\n",
      "lengthscales: array([1.66351139, 8.12506291, 1.00047956]) \n",
      "kernel_variance: 0.037824252848931685\n",
      "likelihood_variance: 0.006000000000000003\n",
      "'predict': 0.068 seconds\n",
      "total run time : 0.69 seconds\n",
      "------------------------------\n",
      "59 / 363\n",
      "             x         y        t       date         lon        lat\n",
      "189 -1600000.0  400000.0  18326.0 2020-03-05 -104.036243  75.189812\n",
      "'_update_global_data': 0.001 seconds\n",
      "'local_data_select': 0.002 seconds\n",
      "number obs: 14\n",
      "'_max_dist_bool': 0.013 seconds\n",
      "'_from_dataframe': 0.015 seconds\n",
      "found GPU\n",
      "setting lengthscales to: [1. 1. 1.]\n",
      "'__init__': 0.135 seconds\n"
     ]
    },
    {
     "name": "stderr",
     "output_type": "stream",
     "text": [
      "2023-06-05 17:57:59.856754: I tensorflow/core/common_runtime/gpu/gpu_device.cc:1616] Created device /device:GPU:0 with 6261 MB memory:  -> device: 0, name: NVIDIA GeForce RTX 2080, pci bus id: 0000:17:00.0, compute capability: 7.5\n",
      "2023-06-05 17:57:59.857812: I tensorflow/core/common_runtime/gpu/gpu_device.cc:1616] Created device /device:GPU:1 with 4157 MB memory:  -> device: 1, name: NVIDIA GeForce RTX 2080, pci bus id: 0000:65:00.0, compute capability: 7.5\n"
     ]
    },
    {
     "name": "stdout",
     "output_type": "stream",
     "text": [
      "'_read_params_from_file': 0.081 seconds\n",
      "'set_parameters': 0.006 seconds\n",
      "'load_params': 0.088 seconds\n",
      "'set_lengthscales_constraints': 0.006 seconds\n",
      "*** not optimising parameters\n",
      "'get_parameters': 0.004 seconds\n",
      "parameters:\n",
      "lengthscales: array([1.61912963, 6.40199854, 1.00026776]) \n",
      "kernel_variance: 0.029081879473525585\n",
      "likelihood_variance: 0.006000000000000003\n",
      "'predict': 0.047 seconds\n",
      "total run time : 0.64 seconds\n",
      "------------------------------\n",
      "60 / 363\n",
      "             x         y        t       date         lon        lat\n",
      "188 -1800000.0  400000.0  18326.0 2020-03-05 -102.528808  73.429172\n",
      "'_update_global_data': 0.001 seconds\n",
      "'local_data_select': 0.002 seconds\n",
      "number obs: 17\n",
      "'_max_dist_bool': 0.013 seconds\n",
      "'_from_dataframe': 0.015 seconds\n",
      "found GPU\n",
      "setting lengthscales to: [1. 1. 1.]\n",
      "'__init__': 0.180 seconds\n"
     ]
    },
    {
     "name": "stderr",
     "output_type": "stream",
     "text": [
      "2023-06-05 17:58:00.545741: I tensorflow/core/common_runtime/gpu/gpu_device.cc:1616] Created device /device:GPU:0 with 6261 MB memory:  -> device: 0, name: NVIDIA GeForce RTX 2080, pci bus id: 0000:17:00.0, compute capability: 7.5\n",
      "2023-06-05 17:58:00.546807: I tensorflow/core/common_runtime/gpu/gpu_device.cc:1616] Created device /device:GPU:1 with 4157 MB memory:  -> device: 1, name: NVIDIA GeForce RTX 2080, pci bus id: 0000:65:00.0, compute capability: 7.5\n"
     ]
    },
    {
     "name": "stdout",
     "output_type": "stream",
     "text": [
      "'_read_params_from_file': 0.095 seconds\n",
      "'set_parameters': 0.006 seconds\n",
      "'load_params': 0.102 seconds\n",
      "'set_lengthscales_constraints': 0.006 seconds\n",
      "*** not optimising parameters\n",
      "'get_parameters': 0.004 seconds\n",
      "parameters:\n",
      "lengthscales: array([2.45523882, 3.92022021, 0.99997348]) \n",
      "kernel_variance: 0.0336728907214069\n",
      "likelihood_variance: 0.006000000000000003\n",
      "'predict': 0.047 seconds\n",
      "SAVING RESULTS\n",
      "run_details\n",
      "preds\n",
      "lengthscales\n",
      "kernel_variance\n",
      "likelihood_variance\n",
      "total run time : 0.95 seconds\n",
      "------------------------------\n",
      "61 / 363\n",
      "             x         y        t       date         lon        lat\n",
      "187 -2000000.0  400000.0  18326.0 2020-03-05 -101.309932  71.654913\n",
      "'_update_global_data': 0.001 seconds\n",
      "'local_data_select': 0.002 seconds\n",
      "number obs: 8\n",
      "'_max_dist_bool': 0.013 seconds\n",
      "'_from_dataframe': 0.015 seconds\n",
      "found GPU\n",
      "setting lengthscales to: [1. 1. 1.]\n",
      "'__init__': 0.156 seconds\n"
     ]
    },
    {
     "name": "stderr",
     "output_type": "stream",
     "text": [
      "2023-06-05 17:58:01.470482: I tensorflow/core/common_runtime/gpu/gpu_device.cc:1616] Created device /device:GPU:0 with 6261 MB memory:  -> device: 0, name: NVIDIA GeForce RTX 2080, pci bus id: 0000:17:00.0, compute capability: 7.5\n",
      "2023-06-05 17:58:01.471531: I tensorflow/core/common_runtime/gpu/gpu_device.cc:1616] Created device /device:GPU:1 with 4157 MB memory:  -> device: 1, name: NVIDIA GeForce RTX 2080, pci bus id: 0000:65:00.0, compute capability: 7.5\n"
     ]
    },
    {
     "name": "stdout",
     "output_type": "stream",
     "text": [
      "'_read_params_from_file': 0.081 seconds\n",
      "'set_parameters': 0.013 seconds\n",
      "'load_params': 0.096 seconds\n",
      "'set_lengthscales_constraints': 0.010 seconds\n",
      "*** not optimising parameters\n",
      "'get_parameters': 0.004 seconds\n",
      "parameters:\n",
      "lengthscales: array([3.06010101, 1.84426268, 1.00007564]) \n",
      "kernel_variance: 0.05233920177994109\n",
      "likelihood_variance: 0.006000000000000003\n",
      "'predict': 0.046 seconds\n",
      "total run time : 0.68 seconds\n",
      "------------------------------\n",
      "62 / 363\n",
      "             x         y        t       date         lon        lat\n",
      "186 -2200000.0  400000.0  18326.0 2020-03-05 -100.304846  69.868945\n",
      "'_update_global_data': 0.001 seconds\n",
      "'local_data_select': 0.002 seconds\n",
      "number obs: 7\n",
      "'_max_dist_bool': 0.013 seconds\n",
      "'_from_dataframe': 0.015 seconds\n",
      "found GPU\n",
      "setting lengthscales to: [1. 1. 1.]\n",
      "'__init__': 0.157 seconds\n"
     ]
    },
    {
     "name": "stderr",
     "output_type": "stream",
     "text": [
      "2023-06-05 17:58:02.150310: I tensorflow/core/common_runtime/gpu/gpu_device.cc:1616] Created device /device:GPU:0 with 6261 MB memory:  -> device: 0, name: NVIDIA GeForce RTX 2080, pci bus id: 0000:17:00.0, compute capability: 7.5\n",
      "2023-06-05 17:58:02.151488: I tensorflow/core/common_runtime/gpu/gpu_device.cc:1616] Created device /device:GPU:1 with 4157 MB memory:  -> device: 1, name: NVIDIA GeForce RTX 2080, pci bus id: 0000:65:00.0, compute capability: 7.5\n"
     ]
    },
    {
     "name": "stdout",
     "output_type": "stream",
     "text": [
      "'_read_params_from_file': 0.080 seconds\n",
      "'set_parameters': 0.006 seconds\n",
      "'load_params': 0.087 seconds\n",
      "'set_lengthscales_constraints': 0.006 seconds\n",
      "*** not optimising parameters\n",
      "'get_parameters': 0.007 seconds\n",
      "parameters:\n",
      "lengthscales: array([2.96251844, 0.92765387, 1.00013487]) \n",
      "kernel_variance: 0.06139530109630213\n",
      "likelihood_variance: 0.006000000000000003\n",
      "'predict': 0.063 seconds\n",
      "total run time : 0.69 seconds\n",
      "------------------------------\n",
      "63 / 363\n",
      "             x         y        t       date        lon        lat\n",
      "185  1600000.0  200000.0  18326.0 2020-03-05  97.125016  75.522123\n",
      "'_update_global_data': 0.001 seconds\n",
      "'local_data_select': 0.002 seconds\n",
      "number obs: 10\n",
      "'_max_dist_bool': 0.013 seconds\n",
      "'_from_dataframe': 0.015 seconds\n",
      "found GPU\n",
      "setting lengthscales to: [1. 1. 1.]\n",
      "'__init__': 0.180 seconds\n"
     ]
    },
    {
     "name": "stderr",
     "output_type": "stream",
     "text": [
      "2023-06-05 17:58:02.858630: I tensorflow/core/common_runtime/gpu/gpu_device.cc:1616] Created device /device:GPU:0 with 6261 MB memory:  -> device: 0, name: NVIDIA GeForce RTX 2080, pci bus id: 0000:17:00.0, compute capability: 7.5\n",
      "2023-06-05 17:58:02.859942: I tensorflow/core/common_runtime/gpu/gpu_device.cc:1616] Created device /device:GPU:1 with 4157 MB memory:  -> device: 1, name: NVIDIA GeForce RTX 2080, pci bus id: 0000:65:00.0, compute capability: 7.5\n"
     ]
    },
    {
     "name": "stdout",
     "output_type": "stream",
     "text": [
      "'_read_params_from_file': 0.096 seconds\n",
      "'set_parameters': 0.006 seconds\n",
      "'load_params': 0.104 seconds\n",
      "'set_lengthscales_constraints': 0.006 seconds\n",
      "*** not optimising parameters\n",
      "'get_parameters': 0.004 seconds\n",
      "parameters:\n",
      "lengthscales: array([8.66110101, 6.56887623, 1.0040368 ]) \n",
      "kernel_variance: 0.00512499591604353\n",
      "likelihood_variance: 0.006000000000000003\n",
      "'predict': 0.071 seconds\n",
      "total run time : 0.73 seconds\n",
      "------------------------------\n",
      "64 / 363\n",
      "             x         y        t       date        lon        lat\n",
      "184  1400000.0  200000.0  18326.0 2020-03-05  98.130102  77.310512\n",
      "'_update_global_data': 0.001 seconds\n",
      "'local_data_select': 0.002 seconds\n",
      "number obs: 20\n",
      "'_max_dist_bool': 0.013 seconds\n",
      "'_from_dataframe': 0.015 seconds\n",
      "found GPU\n",
      "setting lengthscales to: [1. 1. 1.]\n",
      "'__init__': 0.161 seconds\n"
     ]
    },
    {
     "name": "stderr",
     "output_type": "stream",
     "text": [
      "2023-06-05 17:58:03.569935: I tensorflow/core/common_runtime/gpu/gpu_device.cc:1616] Created device /device:GPU:0 with 6261 MB memory:  -> device: 0, name: NVIDIA GeForce RTX 2080, pci bus id: 0000:17:00.0, compute capability: 7.5\n",
      "2023-06-05 17:58:03.570916: I tensorflow/core/common_runtime/gpu/gpu_device.cc:1616] Created device /device:GPU:1 with 4157 MB memory:  -> device: 1, name: NVIDIA GeForce RTX 2080, pci bus id: 0000:65:00.0, compute capability: 7.5\n"
     ]
    },
    {
     "name": "stdout",
     "output_type": "stream",
     "text": [
      "'_read_params_from_file': 0.096 seconds\n",
      "'set_parameters': 0.010 seconds\n",
      "'load_params': 0.107 seconds\n",
      "'set_lengthscales_constraints': 0.011 seconds\n",
      "*** not optimising parameters\n",
      "'get_parameters': 0.004 seconds\n",
      "parameters:\n",
      "lengthscales: array([8.2856679 , 6.10752714, 1.00556539]) \n",
      "kernel_variance: 0.0031884516829257937\n",
      "likelihood_variance: 0.006000000000000003\n",
      "'predict': 0.047 seconds\n",
      "total run time : 0.70 seconds\n",
      "------------------------------\n",
      "65 / 363\n",
      "             x         y        t       date        lon        lat\n",
      "183  1200000.0  200000.0  18326.0 2020-03-05  99.462322  79.090372\n",
      "'_update_global_data': 0.001 seconds\n",
      "'local_data_select': 0.002 seconds\n",
      "number obs: 45\n",
      "'_max_dist_bool': 0.013 seconds\n",
      "'_from_dataframe': 0.015 seconds\n",
      "found GPU\n",
      "setting lengthscales to: [1. 1. 1.]\n",
      "'__init__': 0.166 seconds\n"
     ]
    },
    {
     "name": "stderr",
     "output_type": "stream",
     "text": [
      "2023-06-05 17:58:04.285922: I tensorflow/core/common_runtime/gpu/gpu_device.cc:1616] Created device /device:GPU:0 with 6261 MB memory:  -> device: 0, name: NVIDIA GeForce RTX 2080, pci bus id: 0000:17:00.0, compute capability: 7.5\n",
      "2023-06-05 17:58:04.286884: I tensorflow/core/common_runtime/gpu/gpu_device.cc:1616] Created device /device:GPU:1 with 4157 MB memory:  -> device: 1, name: NVIDIA GeForce RTX 2080, pci bus id: 0000:65:00.0, compute capability: 7.5\n"
     ]
    },
    {
     "name": "stdout",
     "output_type": "stream",
     "text": [
      "'_read_params_from_file': 0.078 seconds\n",
      "'set_parameters': 0.006 seconds\n",
      "'load_params': 0.085 seconds\n",
      "'set_lengthscales_constraints': 0.005 seconds\n",
      "*** not optimising parameters\n",
      "'get_parameters': 0.004 seconds\n",
      "parameters:\n",
      "lengthscales: array([5.7394431 , 6.87862067, 1.00325786]) \n",
      "kernel_variance: 0.0020162980109766646\n",
      "likelihood_variance: 0.006000000000000003\n",
      "'predict': 0.046 seconds\n",
      "total run time : 0.67 seconds\n",
      "------------------------------\n",
      "66 / 363\n",
      "             x         y        t       date         lon        lat\n",
      "202  1000000.0  400000.0  18326.0 2020-03-05  111.801409  80.344951\n",
      "'_update_global_data': 0.001 seconds\n",
      "'local_data_select': 0.002 seconds\n",
      "number obs: 69\n",
      "'_max_dist_bool': 0.013 seconds\n",
      "'_from_dataframe': 0.015 seconds\n",
      "found GPU\n",
      "setting lengthscales to: [1. 1. 1.]\n",
      "'__init__': 0.161 seconds\n"
     ]
    },
    {
     "name": "stderr",
     "output_type": "stream",
     "text": [
      "2023-06-05 17:58:04.942423: I tensorflow/core/common_runtime/gpu/gpu_device.cc:1616] Created device /device:GPU:0 with 6261 MB memory:  -> device: 0, name: NVIDIA GeForce RTX 2080, pci bus id: 0000:17:00.0, compute capability: 7.5\n",
      "2023-06-05 17:58:04.943315: I tensorflow/core/common_runtime/gpu/gpu_device.cc:1616] Created device /device:GPU:1 with 4157 MB memory:  -> device: 1, name: NVIDIA GeForce RTX 2080, pci bus id: 0000:65:00.0, compute capability: 7.5\n"
     ]
    },
    {
     "name": "stdout",
     "output_type": "stream",
     "text": [
      "'_read_params_from_file': 0.096 seconds\n",
      "'set_parameters': 0.006 seconds\n",
      "'load_params': 0.103 seconds\n",
      "'set_lengthscales_constraints': 0.006 seconds\n",
      "*** not optimising parameters\n",
      "'get_parameters': 0.009 seconds\n",
      "parameters:\n",
      "lengthscales: array([5.29060132, 9.27377502, 1.00013214]) \n",
      "kernel_variance: 0.0012656716611225728\n",
      "likelihood_variance: 0.006000000000000003\n",
      "'predict': 0.055 seconds\n",
      "total run time : 0.71 seconds\n",
      "------------------------------\n",
      "67 / 363\n",
      "            x          y        t       date         lon        lat\n",
      "270 -600000.0  1200000.0  18326.0 2020-03-05 -153.434949  77.964362\n",
      "'_update_global_data': 0.001 seconds\n",
      "'local_data_select': 0.002 seconds\n",
      "number obs: 60\n",
      "'_max_dist_bool': 0.013 seconds\n",
      "'_from_dataframe': 0.015 seconds\n",
      "found GPU\n",
      "setting lengthscales to: [1. 1. 1.]\n",
      "'__init__': 0.150 seconds\n"
     ]
    },
    {
     "name": "stderr",
     "output_type": "stream",
     "text": [
      "2023-06-05 17:58:05.657869: I tensorflow/core/common_runtime/gpu/gpu_device.cc:1616] Created device /device:GPU:0 with 6261 MB memory:  -> device: 0, name: NVIDIA GeForce RTX 2080, pci bus id: 0000:17:00.0, compute capability: 7.5\n",
      "2023-06-05 17:58:05.658966: I tensorflow/core/common_runtime/gpu/gpu_device.cc:1616] Created device /device:GPU:1 with 4157 MB memory:  -> device: 1, name: NVIDIA GeForce RTX 2080, pci bus id: 0000:65:00.0, compute capability: 7.5\n"
     ]
    },
    {
     "name": "stdout",
     "output_type": "stream",
     "text": [
      "'_read_params_from_file': 0.096 seconds\n",
      "'set_parameters': 0.006 seconds\n",
      "'load_params': 0.103 seconds\n",
      "'set_lengthscales_constraints': 0.006 seconds\n",
      "*** not optimising parameters\n",
      "'get_parameters': 0.004 seconds\n",
      "parameters:\n",
      "lengthscales: array([9.22337349, 9.24974688, 1.00341252]) \n",
      "kernel_variance: 0.0016101339333894561\n",
      "likelihood_variance: 0.006000000000000003\n",
      "'predict': 0.047 seconds\n",
      "total run time : 0.69 seconds\n",
      "------------------------------\n",
      "68 / 363\n",
      "             x         y        t       date         lon        lat\n",
      "203  1200000.0  400000.0  18326.0 2020-03-05  108.434949  78.655203\n",
      "'_update_global_data': 0.001 seconds\n",
      "'local_data_select': 0.002 seconds\n",
      "number obs: 46\n",
      "'_max_dist_bool': 0.013 seconds\n",
      "'_from_dataframe': 0.015 seconds\n",
      "found GPU\n",
      "setting lengthscales to: [1. 1. 1.]\n",
      "'__init__': 0.124 seconds\n"
     ]
    },
    {
     "name": "stderr",
     "output_type": "stream",
     "text": [
      "2023-06-05 17:58:06.327202: I tensorflow/core/common_runtime/gpu/gpu_device.cc:1616] Created device /device:GPU:0 with 6261 MB memory:  -> device: 0, name: NVIDIA GeForce RTX 2080, pci bus id: 0000:17:00.0, compute capability: 7.5\n",
      "2023-06-05 17:58:06.327617: I tensorflow/core/common_runtime/gpu/gpu_device.cc:1616] Created device /device:GPU:1 with 4157 MB memory:  -> device: 1, name: NVIDIA GeForce RTX 2080, pci bus id: 0000:65:00.0, compute capability: 7.5\n"
     ]
    },
    {
     "name": "stdout",
     "output_type": "stream",
     "text": [
      "'_read_params_from_file': 0.082 seconds\n",
      "'set_parameters': 0.006 seconds\n",
      "'load_params': 0.089 seconds\n",
      "'set_lengthscales_constraints': 0.006 seconds\n",
      "*** not optimising parameters\n",
      "'get_parameters': 0.004 seconds\n",
      "parameters:\n",
      "lengthscales: array([6.01459972, 8.51358401, 1.00031923]) \n",
      "kernel_variance: 0.0017173453231882298\n",
      "likelihood_variance: 0.006000000000000003\n",
      "'predict': 0.048 seconds\n",
      "total run time : 0.64 seconds\n",
      "------------------------------\n",
      "69 / 363\n",
      "             x         y        t       date         lon        lat\n",
      "205  1600000.0  400000.0  18326.0 2020-03-05  104.036243  75.189812\n",
      "'_update_global_data': 0.001 seconds\n",
      "'local_data_select': 0.002 seconds\n",
      "number obs: 1\n",
      "------------------------------\n",
      "70 / 363\n",
      "             x         y        t       date         lon        lat\n",
      "224  1400000.0  600000.0  18326.0 2020-03-05  113.198591  76.328153\n",
      "'_update_global_data': 0.001 seconds\n",
      "'local_data_select': 0.002 seconds\n",
      "number obs: 20\n",
      "'_max_dist_bool': 0.013 seconds\n",
      "'_from_dataframe': 0.015 seconds\n",
      "found GPU\n",
      "setting lengthscales to: [1. 1. 1.]\n",
      "'__init__': 0.122 seconds\n"
     ]
    },
    {
     "name": "stderr",
     "output_type": "stream",
     "text": [
      "2023-06-05 17:58:06.975267: I tensorflow/core/common_runtime/gpu/gpu_device.cc:1616] Created device /device:GPU:0 with 6261 MB memory:  -> device: 0, name: NVIDIA GeForce RTX 2080, pci bus id: 0000:17:00.0, compute capability: 7.5\n",
      "2023-06-05 17:58:06.975711: I tensorflow/core/common_runtime/gpu/gpu_device.cc:1616] Created device /device:GPU:1 with 4157 MB memory:  -> device: 1, name: NVIDIA GeForce RTX 2080, pci bus id: 0000:65:00.0, compute capability: 7.5\n"
     ]
    },
    {
     "name": "stdout",
     "output_type": "stream",
     "text": [
      "'_read_params_from_file': 0.080 seconds\n",
      "'set_parameters': 0.006 seconds\n",
      "'load_params': 0.087 seconds\n",
      "'set_lengthscales_constraints': 0.006 seconds\n",
      "*** not optimising parameters\n",
      "'get_parameters': 0.004 seconds\n",
      "parameters:\n",
      "lengthscales: array([ 8.82646575, 10.03629489,  0.99992604]) \n",
      "kernel_variance: 0.0019179437267008732\n",
      "likelihood_variance: 0.006000000000000003\n",
      "'predict': 0.048 seconds\n",
      "SAVING RESULTS\n",
      "run_details\n",
      "preds\n",
      "lengthscales\n",
      "kernel_variance\n",
      "likelihood_variance\n",
      "total run time : 0.81 seconds\n",
      "------------------------------\n",
      "71 / 363\n",
      "             x         y        t       date         lon        lat\n",
      "223  1200000.0  600000.0  18326.0 2020-03-05  116.565051  77.964362\n",
      "'_update_global_data': 0.001 seconds\n",
      "'local_data_select': 0.002 seconds\n",
      "number obs: 46\n",
      "'_max_dist_bool': 0.013 seconds\n",
      "'_from_dataframe': 0.015 seconds\n",
      "found GPU\n",
      "setting lengthscales to: [1. 1. 1.]\n",
      "'__init__': 0.139 seconds\n",
      "'_read_params_from_file': 0.078 seconds\n",
      "'set_parameters': 0.006 seconds\n",
      "'load_params': 0.085 seconds\n",
      "'set_lengthscales_constraints': 0.009 seconds\n",
      "*** not optimising parameters\n",
      "'get_parameters': 0.005 seconds\n",
      "parameters:\n",
      "lengthscales: array([6.77335988, 9.77831741, 1.0000665 ]) \n",
      "kernel_variance: 0.001563487528918671\n",
      "likelihood_variance: 0.006000000000000003\n",
      "'predict': 0.047 seconds\n"
     ]
    },
    {
     "name": "stderr",
     "output_type": "stream",
     "text": [
      "2023-06-05 17:58:07.807452: I tensorflow/core/common_runtime/gpu/gpu_device.cc:1616] Created device /device:GPU:0 with 6261 MB memory:  -> device: 0, name: NVIDIA GeForce RTX 2080, pci bus id: 0000:17:00.0, compute capability: 7.5\n",
      "2023-06-05 17:58:07.807898: I tensorflow/core/common_runtime/gpu/gpu_device.cc:1616] Created device /device:GPU:1 with 4157 MB memory:  -> device: 1, name: NVIDIA GeForce RTX 2080, pci bus id: 0000:65:00.0, compute capability: 7.5\n"
     ]
    },
    {
     "name": "stdout",
     "output_type": "stream",
     "text": [
      "total run time : 0.65 seconds\n",
      "------------------------------\n",
      "72 / 363\n",
      "             x         y        t       date         lon       lat\n",
      "222  1000000.0  600000.0  18326.0 2020-03-05  120.963757  79.54339\n",
      "'_update_global_data': 0.001 seconds\n",
      "'local_data_select': 0.002 seconds\n",
      "number obs: 75\n",
      "'_max_dist_bool': 0.013 seconds\n",
      "'_from_dataframe': 0.015 seconds\n",
      "found GPU\n",
      "setting lengthscales to: [1. 1. 1.]\n",
      "'__init__': 0.142 seconds\n"
     ]
    },
    {
     "name": "stderr",
     "output_type": "stream",
     "text": [
      "2023-06-05 17:58:08.457395: I tensorflow/core/common_runtime/gpu/gpu_device.cc:1616] Created device /device:GPU:0 with 6261 MB memory:  -> device: 0, name: NVIDIA GeForce RTX 2080, pci bus id: 0000:17:00.0, compute capability: 7.5\n",
      "2023-06-05 17:58:08.458363: I tensorflow/core/common_runtime/gpu/gpu_device.cc:1616] Created device /device:GPU:1 with 4157 MB memory:  -> device: 1, name: NVIDIA GeForce RTX 2080, pci bus id: 0000:65:00.0, compute capability: 7.5\n"
     ]
    },
    {
     "name": "stdout",
     "output_type": "stream",
     "text": [
      "'_read_params_from_file': 0.083 seconds\n",
      "'set_parameters': 0.006 seconds\n",
      "'load_params': 0.090 seconds\n",
      "'set_lengthscales_constraints': 0.006 seconds\n",
      "*** not optimising parameters\n",
      "'get_parameters': 0.005 seconds\n",
      "parameters:\n",
      "lengthscales: array([6.52356705, 9.63272425, 0.99973893]) \n",
      "kernel_variance: 0.0010753342873983003\n",
      "likelihood_variance: 0.006000000000000003\n",
      "'predict': 0.048 seconds\n",
      "total run time : 0.65 seconds\n",
      "------------------------------\n",
      "73 / 363\n",
      "            x         y        t       date         lon        lat\n",
      "221  800000.0  600000.0  18326.0 2020-03-05  126.869898  81.037096\n",
      "'_update_global_data': 0.001 seconds\n",
      "'local_data_select': 0.002 seconds\n",
      "number obs: 71\n",
      "'_max_dist_bool': 0.013 seconds\n",
      "'_from_dataframe': 0.015 seconds\n",
      "found GPU\n",
      "setting lengthscales to: [1. 1. 1.]\n",
      "'__init__': 0.178 seconds\n"
     ]
    },
    {
     "name": "stderr",
     "output_type": "stream",
     "text": [
      "2023-06-05 17:58:09.150019: I tensorflow/core/common_runtime/gpu/gpu_device.cc:1616] Created device /device:GPU:0 with 6261 MB memory:  -> device: 0, name: NVIDIA GeForce RTX 2080, pci bus id: 0000:17:00.0, compute capability: 7.5\n",
      "2023-06-05 17:58:09.151155: I tensorflow/core/common_runtime/gpu/gpu_device.cc:1616] Created device /device:GPU:1 with 4157 MB memory:  -> device: 1, name: NVIDIA GeForce RTX 2080, pci bus id: 0000:65:00.0, compute capability: 7.5\n"
     ]
    },
    {
     "name": "stdout",
     "output_type": "stream",
     "text": [
      "'_read_params_from_file': 0.102 seconds\n",
      "'set_parameters': 0.006 seconds\n",
      "'load_params': 0.109 seconds\n",
      "'set_lengthscales_constraints': 0.006 seconds\n",
      "*** not optimising parameters\n",
      "'get_parameters': 0.004 seconds\n",
      "parameters:\n",
      "lengthscales: array([ 7.73530501, 10.21921802,  0.99955938]) \n",
      "kernel_variance: 0.0006238907912105176\n",
      "likelihood_variance: 0.006000000000000003\n",
      "'predict': 0.047 seconds\n",
      "total run time : 0.71 seconds\n",
      "------------------------------\n",
      "74 / 363\n",
      "            x         y        t       date    lon        lat\n",
      "220  600000.0  600000.0  18326.0 2020-03-05  135.0  82.397073\n",
      "'_update_global_data': 0.001 seconds\n",
      "'local_data_select': 0.002 seconds\n",
      "number obs: 58\n",
      "'_max_dist_bool': 0.013 seconds\n",
      "'_from_dataframe': 0.015 seconds\n",
      "found GPU\n",
      "setting lengthscales to: [1. 1. 1.]\n"
     ]
    },
    {
     "name": "stderr",
     "output_type": "stream",
     "text": [
      "2023-06-05 17:58:09.869886: I tensorflow/core/common_runtime/gpu/gpu_device.cc:1616] Created device /device:GPU:0 with 6261 MB memory:  -> device: 0, name: NVIDIA GeForce RTX 2080, pci bus id: 0000:17:00.0, compute capability: 7.5\n",
      "2023-06-05 17:58:09.870860: I tensorflow/core/common_runtime/gpu/gpu_device.cc:1616] Created device /device:GPU:1 with 4157 MB memory:  -> device: 1, name: NVIDIA GeForce RTX 2080, pci bus id: 0000:65:00.0, compute capability: 7.5\n"
     ]
    },
    {
     "name": "stdout",
     "output_type": "stream",
     "text": [
      "'__init__': 0.189 seconds\n",
      "'_read_params_from_file': 0.080 seconds\n",
      "'set_parameters': 0.006 seconds\n",
      "'load_params': 0.087 seconds\n",
      "'set_lengthscales_constraints': 0.006 seconds\n",
      "*** not optimising parameters\n",
      "'get_parameters': 0.004 seconds\n",
      "parameters:\n",
      "lengthscales: array([ 7.27141714, 10.69264071,  0.99972808]) \n",
      "kernel_variance: 0.0003340097293502404\n",
      "likelihood_variance: 0.006000000000000003\n",
      "'predict': 0.049 seconds\n",
      "total run time : 0.72 seconds\n",
      "------------------------------\n",
      "75 / 363\n",
      "            x         y        t       date         lon        lat\n",
      "219  400000.0  600000.0  18326.0 2020-03-05  146.309932  83.540179\n",
      "'_update_global_data': 0.001 seconds\n",
      "'local_data_select': 0.002 seconds\n",
      "number obs: 44\n",
      "'_max_dist_bool': 0.013 seconds\n",
      "'_from_dataframe': 0.015 seconds\n",
      "found GPU\n",
      "setting lengthscales to: [1. 1. 1.]\n",
      "'__init__': 0.157 seconds\n"
     ]
    },
    {
     "name": "stderr",
     "output_type": "stream",
     "text": [
      "2023-06-05 17:58:10.557864: I tensorflow/core/common_runtime/gpu/gpu_device.cc:1616] Created device /device:GPU:0 with 6261 MB memory:  -> device: 0, name: NVIDIA GeForce RTX 2080, pci bus id: 0000:17:00.0, compute capability: 7.5\n",
      "2023-06-05 17:58:10.558959: I tensorflow/core/common_runtime/gpu/gpu_device.cc:1616] Created device /device:GPU:1 with 4157 MB memory:  -> device: 1, name: NVIDIA GeForce RTX 2080, pci bus id: 0000:65:00.0, compute capability: 7.5\n"
     ]
    },
    {
     "name": "stdout",
     "output_type": "stream",
     "text": [
      "'_read_params_from_file': 0.081 seconds\n",
      "'set_parameters': 0.006 seconds\n",
      "'load_params': 0.088 seconds\n",
      "'set_lengthscales_constraints': 0.006 seconds\n",
      "*** not optimising parameters\n",
      "'get_parameters': 0.004 seconds\n",
      "parameters:\n",
      "lengthscales: array([ 5.38244599, 10.46096934,  0.99986203]) \n",
      "kernel_variance: 0.0002770987450256402\n",
      "likelihood_variance: 0.006000000000000003\n",
      "'predict': 0.049 seconds\n",
      "total run time : 0.67 seconds\n",
      "------------------------------\n",
      "76 / 363\n",
      "            x         y        t       date         lon        lat\n",
      "218  200000.0  600000.0  18326.0 2020-03-05  161.565051  84.335111\n",
      "'_update_global_data': 0.001 seconds\n",
      "'local_data_select': 0.002 seconds\n",
      "number obs: 48\n",
      "'_max_dist_bool': 0.013 seconds\n",
      "'_from_dataframe': 0.015 seconds\n",
      "found GPU\n",
      "setting lengthscales to: [1. 1. 1.]\n",
      "'__init__': 0.179 seconds\n"
     ]
    },
    {
     "name": "stderr",
     "output_type": "stream",
     "text": [
      "2023-06-05 17:58:11.257806: I tensorflow/core/common_runtime/gpu/gpu_device.cc:1616] Created device /device:GPU:0 with 6261 MB memory:  -> device: 0, name: NVIDIA GeForce RTX 2080, pci bus id: 0000:17:00.0, compute capability: 7.5\n",
      "2023-06-05 17:58:11.258889: I tensorflow/core/common_runtime/gpu/gpu_device.cc:1616] Created device /device:GPU:1 with 4157 MB memory:  -> device: 1, name: NVIDIA GeForce RTX 2080, pci bus id: 0000:65:00.0, compute capability: 7.5\n"
     ]
    },
    {
     "name": "stdout",
     "output_type": "stream",
     "text": [
      "'_read_params_from_file': 0.090 seconds\n",
      "'set_parameters': 0.006 seconds\n",
      "'load_params': 0.096 seconds\n",
      "'set_lengthscales_constraints': 0.006 seconds\n",
      "*** not optimising parameters\n",
      "'get_parameters': 0.010 seconds\n",
      "parameters:\n",
      "lengthscales: array([ 4.37494524, 10.36273373,  0.99895813]) \n",
      "kernel_variance: 0.0008066734598686689\n",
      "likelihood_variance: 0.006000000000000003\n",
      "'predict': 0.057 seconds\n",
      "total run time : 0.73 seconds\n",
      "------------------------------\n",
      "77 / 363\n",
      "       x         y        t       date    lon        lat\n",
      "217  0.0  600000.0  18326.0 2020-03-05  180.0  84.626051\n",
      "'_update_global_data': 0.001 seconds\n",
      "'local_data_select': 0.002 seconds\n",
      "number obs: 39\n",
      "'_max_dist_bool': 0.013 seconds\n",
      "'_from_dataframe': 0.015 seconds\n",
      "found GPU\n",
      "setting lengthscales to: [1. 1. 1.]\n",
      "'__init__': 0.155 seconds\n"
     ]
    },
    {
     "name": "stderr",
     "output_type": "stream",
     "text": [
      "2023-06-05 17:58:11.961697: I tensorflow/core/common_runtime/gpu/gpu_device.cc:1616] Created device /device:GPU:0 with 6261 MB memory:  -> device: 0, name: NVIDIA GeForce RTX 2080, pci bus id: 0000:17:00.0, compute capability: 7.5\n",
      "2023-06-05 17:58:11.962787: I tensorflow/core/common_runtime/gpu/gpu_device.cc:1616] Created device /device:GPU:1 with 4157 MB memory:  -> device: 1, name: NVIDIA GeForce RTX 2080, pci bus id: 0000:65:00.0, compute capability: 7.5\n"
     ]
    },
    {
     "name": "stdout",
     "output_type": "stream",
     "text": [
      "'_read_params_from_file': 0.079 seconds\n",
      "'set_parameters': 0.006 seconds\n",
      "'load_params': 0.085 seconds\n",
      "'set_lengthscales_constraints': 0.006 seconds\n",
      "*** not optimising parameters\n",
      "'get_parameters': 0.004 seconds\n",
      "parameters:\n",
      "lengthscales: array([ 4.97316144, 10.56953904,  0.99152102]) \n",
      "kernel_variance: 0.0024882743569273327\n",
      "likelihood_variance: 0.006000000000000003\n",
      "'predict': 0.046 seconds\n",
      "total run time : 0.66 seconds\n",
      "------------------------------\n",
      "78 / 363\n",
      "            x         y        t       date         lon        lat\n",
      "216 -200000.0  600000.0  18326.0 2020-03-05 -161.565051  84.335111\n",
      "'_update_global_data': 0.001 seconds\n",
      "'local_data_select': 0.002 seconds\n",
      "number obs: 27\n",
      "'_max_dist_bool': 0.013 seconds\n",
      "'_from_dataframe': 0.015 seconds\n",
      "found GPU\n",
      "setting lengthscales to: [1. 1. 1.]\n",
      "'__init__': 0.154 seconds\n"
     ]
    },
    {
     "name": "stderr",
     "output_type": "stream",
     "text": [
      "2023-06-05 17:58:12.617834: I tensorflow/core/common_runtime/gpu/gpu_device.cc:1616] Created device /device:GPU:0 with 6261 MB memory:  -> device: 0, name: NVIDIA GeForce RTX 2080, pci bus id: 0000:17:00.0, compute capability: 7.5\n",
      "2023-06-05 17:58:12.618919: I tensorflow/core/common_runtime/gpu/gpu_device.cc:1616] Created device /device:GPU:1 with 4157 MB memory:  -> device: 1, name: NVIDIA GeForce RTX 2080, pci bus id: 0000:65:00.0, compute capability: 7.5\n"
     ]
    },
    {
     "name": "stdout",
     "output_type": "stream",
     "text": [
      "'_read_params_from_file': 0.080 seconds\n",
      "'set_parameters': 0.006 seconds\n",
      "'load_params': 0.087 seconds\n",
      "'set_lengthscales_constraints': 0.006 seconds\n",
      "*** not optimising parameters\n",
      "'get_parameters': 0.004 seconds\n",
      "parameters:\n",
      "lengthscales: array([7.00657067, 9.89405382, 0.9746049 ]) \n",
      "kernel_variance: 0.005417232587403278\n",
      "likelihood_variance: 0.006000000000000003\n",
      "'predict': 0.047 seconds\n",
      "total run time : 0.67 seconds\n",
      "------------------------------\n",
      "79 / 363\n",
      "            x         y        t       date         lon        lat\n",
      "215 -400000.0  600000.0  18326.0 2020-03-05 -146.309932  83.540179\n",
      "'_update_global_data': 0.001 seconds\n",
      "'local_data_select': 0.002 seconds\n",
      "number obs: 25\n",
      "'_max_dist_bool': 0.013 seconds\n",
      "'_from_dataframe': 0.015 seconds\n",
      "found GPU\n",
      "setting lengthscales to: [1. 1. 1.]\n",
      "'__init__': 0.143 seconds\n"
     ]
    },
    {
     "name": "stderr",
     "output_type": "stream",
     "text": [
      "2023-06-05 17:58:13.280827: I tensorflow/core/common_runtime/gpu/gpu_device.cc:1616] Created device /device:GPU:0 with 6261 MB memory:  -> device: 0, name: NVIDIA GeForce RTX 2080, pci bus id: 0000:17:00.0, compute capability: 7.5\n",
      "2023-06-05 17:58:13.281620: I tensorflow/core/common_runtime/gpu/gpu_device.cc:1616] Created device /device:GPU:1 with 4157 MB memory:  -> device: 1, name: NVIDIA GeForce RTX 2080, pci bus id: 0000:65:00.0, compute capability: 7.5\n"
     ]
    },
    {
     "name": "stdout",
     "output_type": "stream",
     "text": [
      "'_read_params_from_file': 0.078 seconds\n",
      "'set_parameters': 0.006 seconds\n",
      "'load_params': 0.085 seconds\n",
      "'set_lengthscales_constraints': 0.006 seconds\n",
      "*** not optimising parameters\n",
      "'get_parameters': 0.004 seconds\n",
      "parameters:\n",
      "lengthscales: array([9.30669942, 8.56132703, 0.9667203 ]) \n",
      "kernel_variance: 0.008657201296830867\n",
      "likelihood_variance: 0.006000000000000003\n",
      "'predict': 0.054 seconds\n",
      "total run time : 0.65 seconds\n",
      "------------------------------\n",
      "80 / 363\n",
      "            x         y        t       date    lon        lat\n",
      "214 -600000.0  600000.0  18326.0 2020-03-05 -135.0  82.397073\n",
      "'_update_global_data': 0.001 seconds\n",
      "'local_data_select': 0.002 seconds\n",
      "number obs: 48\n",
      "'_max_dist_bool': 0.013 seconds\n",
      "'_from_dataframe': 0.015 seconds\n",
      "found GPU\n",
      "setting lengthscales to: [1. 1. 1.]\n",
      "'__init__': 0.182 seconds\n"
     ]
    },
    {
     "name": "stderr",
     "output_type": "stream",
     "text": [
      "2023-06-05 17:58:13.977955: I tensorflow/core/common_runtime/gpu/gpu_device.cc:1616] Created device /device:GPU:0 with 6261 MB memory:  -> device: 0, name: NVIDIA GeForce RTX 2080, pci bus id: 0000:17:00.0, compute capability: 7.5\n",
      "2023-06-05 17:58:13.979021: I tensorflow/core/common_runtime/gpu/gpu_device.cc:1616] Created device /device:GPU:1 with 4157 MB memory:  -> device: 1, name: NVIDIA GeForce RTX 2080, pci bus id: 0000:65:00.0, compute capability: 7.5\n"
     ]
    },
    {
     "name": "stdout",
     "output_type": "stream",
     "text": [
      "'_read_params_from_file': 0.079 seconds\n",
      "'set_parameters': 0.006 seconds\n",
      "'load_params': 0.086 seconds\n",
      "'set_lengthscales_constraints': 0.006 seconds\n",
      "*** not optimising parameters\n",
      "'get_parameters': 0.004 seconds\n",
      "parameters:\n",
      "lengthscales: array([9.84048767, 8.41316958, 0.97606513]) \n",
      "kernel_variance: 0.011857820157628422\n",
      "likelihood_variance: 0.006000000000000003\n",
      "'predict': 0.046 seconds\n",
      "SAVING RESULTS\n",
      "run_details\n",
      "preds\n",
      "lengthscales\n",
      "kernel_variance\n",
      "likelihood_variance\n",
      "total run time : 0.86 seconds\n",
      "------------------------------\n",
      "81 / 363\n",
      "            x         y        t       date         lon        lat\n",
      "213 -800000.0  600000.0  18326.0 2020-03-05 -126.869898  81.037096\n",
      "'_update_global_data': 0.001 seconds\n",
      "'local_data_select': 0.002 seconds\n",
      "number obs: 70\n",
      "'_max_dist_bool': 0.013 seconds\n",
      "'_from_dataframe': 0.015 seconds\n",
      "found GPU\n",
      "setting lengthscales to: [1. 1. 1.]\n",
      "'__init__': 0.194 seconds\n",
      "'_read_params_from_file': 0.081 seconds\n",
      "'set_parameters': 0.006 seconds\n",
      "'load_params': 0.088 seconds\n",
      "'set_lengthscales_constraints': 0.006 seconds\n",
      "*** not optimising parameters\n",
      "'get_parameters': 0.004 seconds\n",
      "parameters:\n",
      "lengthscales: array([8.4599962 , 9.25019395, 0.98294794]) \n",
      "kernel_variance: 0.01617029629594957\n",
      "likelihood_variance: 0.006000000000000003\n",
      "'predict': 0.049 seconds\n"
     ]
    },
    {
     "name": "stderr",
     "output_type": "stream",
     "text": [
      "2023-06-05 17:58:14.830692: I tensorflow/core/common_runtime/gpu/gpu_device.cc:1616] Created device /device:GPU:0 with 6261 MB memory:  -> device: 0, name: NVIDIA GeForce RTX 2080, pci bus id: 0000:17:00.0, compute capability: 7.5\n",
      "2023-06-05 17:58:14.831967: I tensorflow/core/common_runtime/gpu/gpu_device.cc:1616] Created device /device:GPU:1 with 4157 MB memory:  -> device: 1, name: NVIDIA GeForce RTX 2080, pci bus id: 0000:65:00.0, compute capability: 7.5\n"
     ]
    },
    {
     "name": "stdout",
     "output_type": "stream",
     "text": [
      "total run time : 0.71 seconds\n",
      "------------------------------\n",
      "82 / 363\n",
      "             x         y        t       date         lon       lat\n",
      "212 -1000000.0  600000.0  18326.0 2020-03-05 -120.963757  79.54339\n",
      "'_update_global_data': 0.001 seconds\n",
      "'local_data_select': 0.002 seconds\n",
      "number obs: 73\n",
      "'_max_dist_bool': 0.013 seconds\n",
      "'_from_dataframe': 0.015 seconds\n",
      "found GPU\n",
      "setting lengthscales to: [1. 1. 1.]\n",
      "'__init__': 0.135 seconds\n"
     ]
    },
    {
     "name": "stderr",
     "output_type": "stream",
     "text": [
      "2023-06-05 17:58:15.497266: I tensorflow/core/common_runtime/gpu/gpu_device.cc:1616] Created device /device:GPU:0 with 6261 MB memory:  -> device: 0, name: NVIDIA GeForce RTX 2080, pci bus id: 0000:17:00.0, compute capability: 7.5\n",
      "2023-06-05 17:58:15.498448: I tensorflow/core/common_runtime/gpu/gpu_device.cc:1616] Created device /device:GPU:1 with 4157 MB memory:  -> device: 1, name: NVIDIA GeForce RTX 2080, pci bus id: 0000:65:00.0, compute capability: 7.5\n"
     ]
    },
    {
     "name": "stdout",
     "output_type": "stream",
     "text": [
      "'_read_params_from_file': 0.079 seconds\n",
      "'set_parameters': 0.006 seconds\n",
      "'load_params': 0.086 seconds\n",
      "'set_lengthscales_constraints': 0.005 seconds\n",
      "*** not optimising parameters\n",
      "'get_parameters': 0.004 seconds\n",
      "parameters:\n",
      "lengthscales: array([6.24796443, 9.12155436, 0.99132296]) \n",
      "kernel_variance: 0.022665025928816196\n",
      "likelihood_variance: 0.006000000000000003\n",
      "'predict': 0.046 seconds\n",
      "total run time : 0.64 seconds\n",
      "------------------------------\n",
      "83 / 363\n",
      "             x         y        t       date         lon        lat\n",
      "211 -1200000.0  600000.0  18326.0 2020-03-05 -116.565051  77.964362\n",
      "'_update_global_data': 0.001 seconds\n",
      "'local_data_select': 0.002 seconds\n",
      "number obs: 44\n",
      "'_max_dist_bool': 0.013 seconds\n",
      "'_from_dataframe': 0.015 seconds\n",
      "found GPU\n",
      "setting lengthscales to: [1. 1. 1.]\n",
      "'__init__': 0.170 seconds\n"
     ]
    },
    {
     "name": "stderr",
     "output_type": "stream",
     "text": [
      "2023-06-05 17:58:16.170000: I tensorflow/core/common_runtime/gpu/gpu_device.cc:1616] Created device /device:GPU:0 with 6261 MB memory:  -> device: 0, name: NVIDIA GeForce RTX 2080, pci bus id: 0000:17:00.0, compute capability: 7.5\n",
      "2023-06-05 17:58:16.171113: I tensorflow/core/common_runtime/gpu/gpu_device.cc:1616] Created device /device:GPU:1 with 4157 MB memory:  -> device: 1, name: NVIDIA GeForce RTX 2080, pci bus id: 0000:65:00.0, compute capability: 7.5\n"
     ]
    },
    {
     "name": "stdout",
     "output_type": "stream",
     "text": [
      "'_read_params_from_file': 0.081 seconds\n",
      "'set_parameters': 0.006 seconds\n",
      "'load_params': 0.088 seconds\n",
      "'set_lengthscales_constraints': 0.006 seconds\n",
      "*** not optimising parameters\n",
      "'get_parameters': 0.004 seconds\n",
      "parameters:\n",
      "lengthscales: array([3.98354864, 7.50406579, 0.99843194]) \n",
      "kernel_variance: 0.03005996011291986\n",
      "likelihood_variance: 0.006000000000000003\n",
      "'predict': 0.061 seconds\n",
      "total run time : 0.72 seconds\n",
      "------------------------------\n",
      "84 / 363\n",
      "             x         y        t       date         lon        lat\n",
      "210 -1400000.0  600000.0  18326.0 2020-03-05 -113.198591  76.328153\n",
      "'_update_global_data': 0.001 seconds\n",
      "'local_data_select': 0.002 seconds\n",
      "number obs: 20\n",
      "'_max_dist_bool': 0.013 seconds\n",
      "'_from_dataframe': 0.016 seconds\n",
      "found GPU\n",
      "setting lengthscales to: [1. 1. 1.]\n",
      "'__init__': 0.158 seconds\n"
     ]
    },
    {
     "name": "stderr",
     "output_type": "stream",
     "text": [
      "2023-06-05 17:58:16.888395: I tensorflow/core/common_runtime/gpu/gpu_device.cc:1616] Created device /device:GPU:0 with 6261 MB memory:  -> device: 0, name: NVIDIA GeForce RTX 2080, pci bus id: 0000:17:00.0, compute capability: 7.5\n",
      "2023-06-05 17:58:16.888805: I tensorflow/core/common_runtime/gpu/gpu_device.cc:1616] Created device /device:GPU:1 with 4157 MB memory:  -> device: 1, name: NVIDIA GeForce RTX 2080, pci bus id: 0000:65:00.0, compute capability: 7.5\n"
     ]
    },
    {
     "name": "stdout",
     "output_type": "stream",
     "text": [
      "'_read_params_from_file': 0.091 seconds\n",
      "'set_parameters': 0.006 seconds\n",
      "'load_params': 0.098 seconds\n",
      "'set_lengthscales_constraints': 0.006 seconds\n",
      "*** not optimising parameters\n",
      "'get_parameters': 0.004 seconds\n",
      "parameters:\n",
      "lengthscales: array([2.41722733, 5.51772521, 1.00008758]) \n",
      "kernel_variance: 0.02983582741489157\n",
      "likelihood_variance: 0.006000000000000003\n",
      "'predict': 0.058 seconds\n",
      "total run time : 0.71 seconds\n",
      "------------------------------\n",
      "85 / 363\n",
      "             x         y        t       date         lon        lat\n",
      "209 -1600000.0  600000.0  18326.0 2020-03-05 -110.556045  74.651565\n",
      "'_update_global_data': 0.001 seconds\n",
      "'local_data_select': 0.002 seconds\n",
      "number obs: 8\n",
      "'_max_dist_bool': 0.027 seconds\n",
      "'_from_dataframe': 0.029 seconds\n",
      "found GPU\n",
      "setting lengthscales to: [1. 1. 1.]\n"
     ]
    },
    {
     "name": "stderr",
     "output_type": "stream",
     "text": [
      "2023-06-05 17:58:17.629873: I tensorflow/core/common_runtime/gpu/gpu_device.cc:1616] Created device /device:GPU:0 with 6261 MB memory:  -> device: 0, name: NVIDIA GeForce RTX 2080, pci bus id: 0000:17:00.0, compute capability: 7.5\n",
      "2023-06-05 17:58:17.631499: I tensorflow/core/common_runtime/gpu/gpu_device.cc:1616] Created device /device:GPU:1 with 4157 MB memory:  -> device: 1, name: NVIDIA GeForce RTX 2080, pci bus id: 0000:65:00.0, compute capability: 7.5\n"
     ]
    },
    {
     "name": "stdout",
     "output_type": "stream",
     "text": [
      "'__init__': 0.177 seconds\n",
      "'_read_params_from_file': 0.097 seconds\n",
      "'set_parameters': 0.009 seconds\n",
      "'load_params': 0.107 seconds\n",
      "'set_lengthscales_constraints': 0.008 seconds\n",
      "*** not optimising parameters\n",
      "'get_parameters': 0.004 seconds\n",
      "parameters:\n",
      "lengthscales: array([1.99916727, 4.38144884, 1.00014195]) \n",
      "kernel_variance: 0.023027613327011635\n",
      "likelihood_variance: 0.006000000000000003\n",
      "'predict': 0.065 seconds\n",
      "total run time : 0.76 seconds\n",
      "------------------------------\n",
      "86 / 363\n",
      "             x         y        t       date         lon        lat\n",
      "208 -1800000.0  600000.0  18326.0 2020-03-05 -108.434949  72.944956\n",
      "'_update_global_data': 0.001 seconds\n",
      "'local_data_select': 0.002 seconds\n",
      "number obs: 9\n",
      "'_max_dist_bool': 0.015 seconds\n",
      "'_from_dataframe': 0.017 seconds\n",
      "found GPU\n",
      "setting lengthscales to: [1. 1. 1.]\n",
      "'__init__': 0.160 seconds\n"
     ]
    },
    {
     "name": "stderr",
     "output_type": "stream",
     "text": [
      "2023-06-05 17:58:18.366457: I tensorflow/core/common_runtime/gpu/gpu_device.cc:1616] Created device /device:GPU:0 with 6261 MB memory:  -> device: 0, name: NVIDIA GeForce RTX 2080, pci bus id: 0000:17:00.0, compute capability: 7.5\n",
      "2023-06-05 17:58:18.367651: I tensorflow/core/common_runtime/gpu/gpu_device.cc:1616] Created device /device:GPU:1 with 4157 MB memory:  -> device: 1, name: NVIDIA GeForce RTX 2080, pci bus id: 0000:65:00.0, compute capability: 7.5\n"
     ]
    },
    {
     "name": "stdout",
     "output_type": "stream",
     "text": [
      "'_read_params_from_file': 0.094 seconds\n",
      "'set_parameters': 0.006 seconds\n",
      "'load_params': 0.101 seconds\n",
      "'set_lengthscales_constraints': 0.006 seconds\n",
      "*** not optimising parameters\n",
      "'get_parameters': 0.004 seconds\n",
      "parameters:\n",
      "lengthscales: array([2.49865146, 3.78518299, 1.00009384]) \n",
      "kernel_variance: 0.029588391499191062\n",
      "likelihood_variance: 0.006000000000000003\n",
      "'predict': 0.046 seconds\n",
      "total run time : 0.68 seconds\n",
      "------------------------------\n",
      "87 / 363\n",
      "             x         y        t       date         lon        lat\n",
      "207 -2000000.0  600000.0  18326.0 2020-03-05 -106.699244  71.214902\n",
      "'_update_global_data': 0.001 seconds\n",
      "'local_data_select': 0.002 seconds\n",
      "number obs: 8\n",
      "'_max_dist_bool': 0.013 seconds\n",
      "'_from_dataframe': 0.015 seconds\n",
      "found GPU\n",
      "setting lengthscales to: [1. 1. 1.]\n",
      "'__init__': 0.162 seconds\n"
     ]
    },
    {
     "name": "stderr",
     "output_type": "stream",
     "text": [
      "2023-06-05 17:58:19.042374: I tensorflow/core/common_runtime/gpu/gpu_device.cc:1616] Created device /device:GPU:0 with 6261 MB memory:  -> device: 0, name: NVIDIA GeForce RTX 2080, pci bus id: 0000:17:00.0, compute capability: 7.5\n",
      "2023-06-05 17:58:19.043615: I tensorflow/core/common_runtime/gpu/gpu_device.cc:1616] Created device /device:GPU:1 with 4157 MB memory:  -> device: 1, name: NVIDIA GeForce RTX 2080, pci bus id: 0000:65:00.0, compute capability: 7.5\n"
     ]
    },
    {
     "name": "stdout",
     "output_type": "stream",
     "text": [
      "'_read_params_from_file': 0.080 seconds\n",
      "'set_parameters': 0.006 seconds\n",
      "'load_params': 0.087 seconds\n",
      "'set_lengthscales_constraints': 0.006 seconds\n",
      "*** not optimising parameters\n",
      "'get_parameters': 0.004 seconds\n",
      "parameters:\n",
      "lengthscales: array([2.74415585, 2.4120053 , 1.00006348]) \n",
      "kernel_variance: 0.05544942081666589\n",
      "likelihood_variance: 0.006000000000000003\n",
      "'predict': 0.046 seconds\n",
      "total run time : 0.67 seconds\n",
      "------------------------------\n",
      "88 / 363\n",
      "             x         y        t       date         lon        lat\n",
      "206 -2200000.0  600000.0  18326.0 2020-03-05 -105.255119  69.465665\n",
      "'_update_global_data': 0.001 seconds\n",
      "'local_data_select': 0.002 seconds\n",
      "number obs: 6\n",
      "'_max_dist_bool': 0.013 seconds\n",
      "'_from_dataframe': 0.014 seconds\n",
      "found GPU\n",
      "setting lengthscales to: [1. 1. 1.]\n",
      "'__init__': 0.184 seconds\n"
     ]
    },
    {
     "name": "stderr",
     "output_type": "stream",
     "text": [
      "2023-06-05 17:58:19.741601: I tensorflow/core/common_runtime/gpu/gpu_device.cc:1616] Created device /device:GPU:0 with 6261 MB memory:  -> device: 0, name: NVIDIA GeForce RTX 2080, pci bus id: 0000:17:00.0, compute capability: 7.5\n",
      "2023-06-05 17:58:19.742501: I tensorflow/core/common_runtime/gpu/gpu_device.cc:1616] Created device /device:GPU:1 with 4157 MB memory:  -> device: 1, name: NVIDIA GeForce RTX 2080, pci bus id: 0000:65:00.0, compute capability: 7.5\n"
     ]
    },
    {
     "name": "stdout",
     "output_type": "stream",
     "text": [
      "'_read_params_from_file': 0.078 seconds\n",
      "'set_parameters': 0.006 seconds\n",
      "'load_params': 0.085 seconds\n",
      "'set_lengthscales_constraints': 0.005 seconds\n",
      "*** not optimising parameters\n",
      "'get_parameters': 0.004 seconds\n",
      "parameters:\n",
      "lengthscales: array([2.54512907, 1.10463676, 1.00003539]) \n",
      "kernel_variance: 0.07728932839429971\n",
      "likelihood_variance: 0.006000000000000003\n",
      "'predict': 0.047 seconds\n",
      "total run time : 0.70 seconds\n",
      "------------------------------\n",
      "89 / 363\n",
      "             x         y        t       date         lon        lat\n",
      "204  1400000.0  400000.0  18326.0 2020-03-05  105.945396  76.933635\n",
      "'_update_global_data': 0.001 seconds\n",
      "'local_data_select': 0.003 seconds\n",
      "number obs: 14\n",
      "'_max_dist_bool': 0.014 seconds\n",
      "'_from_dataframe': 0.015 seconds\n",
      "found GPU\n",
      "setting lengthscales to: [1. 1. 1.]\n",
      "'__init__': 0.169 seconds\n"
     ]
    },
    {
     "name": "stderr",
     "output_type": "stream",
     "text": [
      "2023-06-05 17:58:20.429831: I tensorflow/core/common_runtime/gpu/gpu_device.cc:1616] Created device /device:GPU:0 with 6261 MB memory:  -> device: 0, name: NVIDIA GeForce RTX 2080, pci bus id: 0000:17:00.0, compute capability: 7.5\n",
      "2023-06-05 17:58:20.430921: I tensorflow/core/common_runtime/gpu/gpu_device.cc:1616] Created device /device:GPU:1 with 4157 MB memory:  -> device: 1, name: NVIDIA GeForce RTX 2080, pci bus id: 0000:65:00.0, compute capability: 7.5\n"
     ]
    },
    {
     "name": "stdout",
     "output_type": "stream",
     "text": [
      "'_read_params_from_file': 0.078 seconds\n",
      "'set_parameters': 0.006 seconds\n",
      "'load_params': 0.085 seconds\n",
      "'set_lengthscales_constraints': 0.005 seconds\n",
      "*** not optimising parameters\n",
      "'get_parameters': 0.004 seconds\n",
      "parameters:\n",
      "lengthscales: array([8.54213127, 8.0706933 , 1.00042925]) \n",
      "kernel_variance: 0.0020716265643009476\n",
      "likelihood_variance: 0.006000000000000003\n",
      "'predict': 0.046 seconds\n",
      "total run time : 0.67 seconds\n",
      "------------------------------\n",
      "90 / 363\n",
      "             x         y        t       date         lon        lat\n",
      "182  1000000.0  200000.0  18326.0 2020-03-05  101.309932  80.859192\n",
      "'_update_global_data': 0.001 seconds\n",
      "'local_data_select': 0.002 seconds\n",
      "number obs: 55\n",
      "'_max_dist_bool': 0.013 seconds\n",
      "'_from_dataframe': 0.015 seconds\n",
      "found GPU\n",
      "setting lengthscales to: [1. 1. 1.]\n",
      "'__init__': 0.176 seconds\n"
     ]
    },
    {
     "name": "stderr",
     "output_type": "stream",
     "text": [
      "2023-06-05 17:58:21.102179: I tensorflow/core/common_runtime/gpu/gpu_device.cc:1616] Created device /device:GPU:0 with 6261 MB memory:  -> device: 0, name: NVIDIA GeForce RTX 2080, pci bus id: 0000:17:00.0, compute capability: 7.5\n",
      "2023-06-05 17:58:21.103312: I tensorflow/core/common_runtime/gpu/gpu_device.cc:1616] Created device /device:GPU:1 with 4157 MB memory:  -> device: 1, name: NVIDIA GeForce RTX 2080, pci bus id: 0000:65:00.0, compute capability: 7.5\n"
     ]
    },
    {
     "name": "stdout",
     "output_type": "stream",
     "text": [
      "'_read_params_from_file': 0.080 seconds\n",
      "'set_parameters': 0.006 seconds\n",
      "'load_params': 0.088 seconds\n",
      "'set_lengthscales_constraints': 0.006 seconds\n",
      "*** not optimising parameters\n",
      "'get_parameters': 0.004 seconds\n",
      "parameters:\n",
      "lengthscales: array([4.30607016, 8.34934826, 1.00099905]) \n",
      "kernel_variance: 0.001249926533639493\n",
      "likelihood_variance: 0.006000000000000003\n",
      "'predict': 0.047 seconds\n",
      "SAVING RESULTS\n",
      "run_details\n",
      "preds\n",
      "lengthscales\n",
      "kernel_variance\n",
      "likelihood_variance\n",
      "total run time : 0.90 seconds\n",
      "------------------------------\n",
      "91 / 363\n",
      "            x          y        t       date         lon        lat\n",
      "271 -400000.0  1200000.0  18326.0 2020-03-05 -161.565051  78.655203\n",
      "'_update_global_data': 0.001 seconds\n",
      "'local_data_select': 0.002 seconds\n",
      "number obs: 71\n",
      "'_max_dist_bool': 0.013 seconds\n",
      "'_from_dataframe': 0.015 seconds\n",
      "found GPU\n",
      "setting lengthscales to: [1. 1. 1.]\n",
      "'__init__': 0.172 seconds\n"
     ]
    },
    {
     "name": "stderr",
     "output_type": "stream",
     "text": [
      "2023-06-05 17:58:22.006463: I tensorflow/core/common_runtime/gpu/gpu_device.cc:1616] Created device /device:GPU:0 with 6261 MB memory:  -> device: 0, name: NVIDIA GeForce RTX 2080, pci bus id: 0000:17:00.0, compute capability: 7.5\n",
      "2023-06-05 17:58:22.007636: I tensorflow/core/common_runtime/gpu/gpu_device.cc:1616] Created device /device:GPU:1 with 4157 MB memory:  -> device: 1, name: NVIDIA GeForce RTX 2080, pci bus id: 0000:65:00.0, compute capability: 7.5\n"
     ]
    },
    {
     "name": "stdout",
     "output_type": "stream",
     "text": [
      "'_read_params_from_file': 0.080 seconds\n",
      "'set_parameters': 0.006 seconds\n",
      "'load_params': 0.087 seconds\n",
      "'set_lengthscales_constraints': 0.006 seconds\n",
      "*** not optimising parameters\n",
      "'get_parameters': 0.004 seconds\n",
      "parameters:\n",
      "lengthscales: array([9.33526802, 9.68475039, 1.00426268]) \n",
      "kernel_variance: 0.000992689197995162\n",
      "likelihood_variance: 0.006000000000000003\n",
      "'predict': 0.047 seconds\n",
      "total run time : 0.68 seconds\n",
      "------------------------------\n",
      "92 / 363\n",
      "       x          y        t       date    lon        lat\n",
      "273  0.0  1200000.0  18326.0 2020-03-05  180.0  79.239286\n",
      "'_update_global_data': 0.001 seconds\n",
      "'local_data_select': 0.002 seconds\n",
      "number obs: 79\n",
      "'_max_dist_bool': 0.013 seconds\n",
      "'_from_dataframe': 0.015 seconds\n",
      "found GPU\n",
      "setting lengthscales to: [1. 1. 1.]\n",
      "'__init__': 0.168 seconds\n"
     ]
    },
    {
     "name": "stderr",
     "output_type": "stream",
     "text": [
      "2023-06-05 17:58:22.670818: I tensorflow/core/common_runtime/gpu/gpu_device.cc:1616] Created device /device:GPU:0 with 6261 MB memory:  -> device: 0, name: NVIDIA GeForce RTX 2080, pci bus id: 0000:17:00.0, compute capability: 7.5\n",
      "2023-06-05 17:58:22.672166: I tensorflow/core/common_runtime/gpu/gpu_device.cc:1616] Created device /device:GPU:1 with 4157 MB memory:  -> device: 1, name: NVIDIA GeForce RTX 2080, pci bus id: 0000:65:00.0, compute capability: 7.5\n"
     ]
    },
    {
     "name": "stdout",
     "output_type": "stream",
     "text": [
      "'_read_params_from_file': 0.080 seconds\n",
      "'set_parameters': 0.006 seconds\n",
      "'load_params': 0.087 seconds\n",
      "'set_lengthscales_constraints': 0.006 seconds\n",
      "*** not optimising parameters\n",
      "'get_parameters': 0.004 seconds\n",
      "parameters:\n",
      "lengthscales: array([ 7.96760222, 10.31852438,  1.00171702]) \n",
      "kernel_variance: 0.0004583822313861679\n",
      "likelihood_variance: 0.006000000000000003\n",
      "'predict': 0.047 seconds\n",
      "total run time : 0.67 seconds\n",
      "------------------------------\n",
      "93 / 363\n",
      "            x          y        t       date         lon        lat\n",
      "337 -200000.0  2000000.0  18326.0 2020-03-05 -174.289407  71.923866\n",
      "'_update_global_data': 0.001 seconds\n",
      "'local_data_select': 0.002 seconds\n",
      "number obs: 30\n",
      "'_max_dist_bool': 0.013 seconds\n",
      "'_from_dataframe': 0.015 seconds\n",
      "found GPU\n",
      "setting lengthscales to: [1. 1. 1.]\n",
      "'__init__': 0.137 seconds\n"
     ]
    },
    {
     "name": "stderr",
     "output_type": "stream",
     "text": [
      "2023-06-05 17:58:23.325240: I tensorflow/core/common_runtime/gpu/gpu_device.cc:1616] Created device /device:GPU:0 with 6261 MB memory:  -> device: 0, name: NVIDIA GeForce RTX 2080, pci bus id: 0000:17:00.0, compute capability: 7.5\n",
      "2023-06-05 17:58:23.326341: I tensorflow/core/common_runtime/gpu/gpu_device.cc:1616] Created device /device:GPU:1 with 4157 MB memory:  -> device: 1, name: NVIDIA GeForce RTX 2080, pci bus id: 0000:65:00.0, compute capability: 7.5\n"
     ]
    },
    {
     "name": "stdout",
     "output_type": "stream",
     "text": [
      "'_read_params_from_file': 0.080 seconds\n",
      "'set_parameters': 0.006 seconds\n",
      "'load_params': 0.088 seconds\n",
      "'set_lengthscales_constraints': 0.005 seconds\n",
      "*** not optimising parameters\n",
      "'get_parameters': 0.009 seconds\n",
      "parameters:\n",
      "lengthscales: array([8.69457919, 9.20044976, 0.99860391]) \n",
      "kernel_variance: 0.0010467238403239253\n",
      "likelihood_variance: 0.006000000000000003\n",
      "'predict': 0.053 seconds\n",
      "total run time : 0.66 seconds\n",
      "------------------------------\n",
      "94 / 363\n",
      "            x          y        t       date         lon        lat\n",
      "336 -400000.0  2000000.0  18326.0 2020-03-05 -168.690068  71.654913\n",
      "'_update_global_data': 0.001 seconds\n",
      "'local_data_select': 0.002 seconds\n",
      "number obs: 26\n",
      "'_max_dist_bool': 0.013 seconds\n",
      "'_from_dataframe': 0.015 seconds\n",
      "found GPU\n",
      "setting lengthscales to: [1. 1. 1.]\n",
      "'__init__': 0.166 seconds\n"
     ]
    },
    {
     "name": "stderr",
     "output_type": "stream",
     "text": [
      "2023-06-05 17:58:24.014020: I tensorflow/core/common_runtime/gpu/gpu_device.cc:1616] Created device /device:GPU:0 with 6261 MB memory:  -> device: 0, name: NVIDIA GeForce RTX 2080, pci bus id: 0000:17:00.0, compute capability: 7.5\n",
      "2023-06-05 17:58:24.015191: I tensorflow/core/common_runtime/gpu/gpu_device.cc:1616] Created device /device:GPU:1 with 4157 MB memory:  -> device: 1, name: NVIDIA GeForce RTX 2080, pci bus id: 0000:65:00.0, compute capability: 7.5\n"
     ]
    },
    {
     "name": "stdout",
     "output_type": "stream",
     "text": [
      "'_read_params_from_file': 0.094 seconds\n",
      "'set_parameters': 0.006 seconds\n",
      "'load_params': 0.101 seconds\n",
      "'set_lengthscales_constraints': 0.006 seconds\n",
      "*** not optimising parameters\n",
      "'get_parameters': 0.004 seconds\n",
      "parameters:\n",
      "lengthscales: array([ 9.7038036 , 10.86128665,  0.99795943]) \n",
      "kernel_variance: 0.0013263507919149074\n",
      "likelihood_variance: 0.006000000000000003\n",
      "'predict': 0.047 seconds\n",
      "total run time : 0.69 seconds\n",
      "------------------------------\n",
      "95 / 363\n",
      "            x          y        t       date         lon        lat\n",
      "335 -600000.0  2000000.0  18326.0 2020-03-05 -163.300756  71.214902\n",
      "'_update_global_data': 0.001 seconds\n",
      "'local_data_select': 0.002 seconds\n",
      "number obs: 33\n",
      "'_max_dist_bool': 0.013 seconds\n",
      "'_from_dataframe': 0.015 seconds\n",
      "found GPU\n",
      "setting lengthscales to: [1. 1. 1.]\n",
      "'__init__': 0.167 seconds\n"
     ]
    },
    {
     "name": "stderr",
     "output_type": "stream",
     "text": [
      "2023-06-05 17:58:24.709755: I tensorflow/core/common_runtime/gpu/gpu_device.cc:1616] Created device /device:GPU:0 with 6261 MB memory:  -> device: 0, name: NVIDIA GeForce RTX 2080, pci bus id: 0000:17:00.0, compute capability: 7.5\n",
      "2023-06-05 17:58:24.710834: I tensorflow/core/common_runtime/gpu/gpu_device.cc:1616] Created device /device:GPU:1 with 4157 MB memory:  -> device: 1, name: NVIDIA GeForce RTX 2080, pci bus id: 0000:65:00.0, compute capability: 7.5\n"
     ]
    },
    {
     "name": "stdout",
     "output_type": "stream",
     "text": [
      "'_read_params_from_file': 0.079 seconds\n",
      "'set_parameters': 0.006 seconds\n",
      "'load_params': 0.086 seconds\n",
      "'set_lengthscales_constraints': 0.006 seconds\n",
      "*** not optimising parameters\n",
      "'get_parameters': 0.004 seconds\n",
      "parameters:\n",
      "lengthscales: array([ 9.05324941, 11.42113824,  0.99827661]) \n",
      "kernel_variance: 0.0013108849774785462\n",
      "likelihood_variance: 0.006000000000000003\n",
      "'predict': 0.047 seconds\n",
      "total run time : 0.67 seconds\n",
      "------------------------------\n",
      "96 / 363\n",
      "            x          y        t       date         lon        lat\n",
      "334 -800000.0  2000000.0  18326.0 2020-03-05 -158.198591  70.615022\n",
      "'_update_global_data': 0.001 seconds\n",
      "'local_data_select': 0.002 seconds\n",
      "number obs: 23\n",
      "'_max_dist_bool': 0.013 seconds\n",
      "'_from_dataframe': 0.014 seconds\n",
      "found GPU\n",
      "setting lengthscales to: [1. 1. 1.]\n",
      "'__init__': 0.172 seconds\n"
     ]
    },
    {
     "name": "stderr",
     "output_type": "stream",
     "text": [
      "2023-06-05 17:58:25.389976: I tensorflow/core/common_runtime/gpu/gpu_device.cc:1616] Created device /device:GPU:0 with 6261 MB memory:  -> device: 0, name: NVIDIA GeForce RTX 2080, pci bus id: 0000:17:00.0, compute capability: 7.5\n",
      "2023-06-05 17:58:25.391069: I tensorflow/core/common_runtime/gpu/gpu_device.cc:1616] Created device /device:GPU:1 with 4157 MB memory:  -> device: 1, name: NVIDIA GeForce RTX 2080, pci bus id: 0000:65:00.0, compute capability: 7.5\n"
     ]
    },
    {
     "name": "stdout",
     "output_type": "stream",
     "text": [
      "'_read_params_from_file': 0.080 seconds\n",
      "'set_parameters': 0.006 seconds\n",
      "'load_params': 0.087 seconds\n",
      "'set_lengthscales_constraints': 0.006 seconds\n",
      "*** not optimising parameters\n",
      "'get_parameters': 0.004 seconds\n",
      "parameters:\n",
      "lengthscales: array([ 7.72001779, 10.34677105,  0.99891146]) \n",
      "kernel_variance: 0.0010422914431469847\n",
      "likelihood_variance: 0.006000000000000003\n",
      "'predict': 0.048 seconds\n",
      "total run time : 0.69 seconds\n",
      "------------------------------\n",
      "97 / 363\n",
      "             x          y        t       date         lon        lat\n",
      "333 -1000000.0  2000000.0  18326.0 2020-03-05 -153.434949  69.868945\n",
      "'_update_global_data': 0.001 seconds\n",
      "'local_data_select': 0.002 seconds\n",
      "number obs: 9\n",
      "'_max_dist_bool': 0.013 seconds\n",
      "'_from_dataframe': 0.015 seconds\n",
      "found GPU\n",
      "setting lengthscales to: [1. 1. 1.]\n"
     ]
    },
    {
     "name": "stderr",
     "output_type": "stream",
     "text": [
      "2023-06-05 17:58:26.097635: I tensorflow/core/common_runtime/gpu/gpu_device.cc:1616] Created device /device:GPU:0 with 6261 MB memory:  -> device: 0, name: NVIDIA GeForce RTX 2080, pci bus id: 0000:17:00.0, compute capability: 7.5\n",
      "2023-06-05 17:58:26.098197: I tensorflow/core/common_runtime/gpu/gpu_device.cc:1616] Created device /device:GPU:1 with 4157 MB memory:  -> device: 1, name: NVIDIA GeForce RTX 2080, pci bus id: 0000:65:00.0, compute capability: 7.5\n"
     ]
    },
    {
     "name": "stdout",
     "output_type": "stream",
     "text": [
      "'__init__': 0.187 seconds\n",
      "'_read_params_from_file': 0.080 seconds\n",
      "'set_parameters': 0.007 seconds\n",
      "'load_params': 0.088 seconds\n",
      "'set_lengthscales_constraints': 0.006 seconds\n",
      "*** not optimising parameters\n",
      "'get_parameters': 0.004 seconds\n",
      "parameters:\n",
      "lengthscales: array([6.80610072, 8.00492994, 0.99955898]) \n",
      "kernel_variance: 0.0006952267832121317\n",
      "likelihood_variance: 0.006000000000000003\n",
      "'predict': 0.047 seconds\n",
      "total run time : 0.70 seconds\n",
      "------------------------------\n",
      "98 / 363\n",
      "             x          y        t       date         lon       lat\n",
      "332 -1200000.0  2000000.0  18326.0 2020-03-05 -149.036243  68.99148\n",
      "'_update_global_data': 0.001 seconds\n",
      "'local_data_select': 0.002 seconds\n",
      "number obs: 4\n",
      "'_max_dist_bool': 0.012 seconds\n",
      "'_from_dataframe': 0.014 seconds\n",
      "found GPU\n",
      "setting lengthscales to: [1. 1. 1.]\n",
      "'__init__': 0.151 seconds\n"
     ]
    },
    {
     "name": "stderr",
     "output_type": "stream",
     "text": [
      "2023-06-05 17:58:26.762792: I tensorflow/core/common_runtime/gpu/gpu_device.cc:1616] Created device /device:GPU:0 with 6261 MB memory:  -> device: 0, name: NVIDIA GeForce RTX 2080, pci bus id: 0000:17:00.0, compute capability: 7.5\n",
      "2023-06-05 17:58:26.763657: I tensorflow/core/common_runtime/gpu/gpu_device.cc:1616] Created device /device:GPU:1 with 4157 MB memory:  -> device: 1, name: NVIDIA GeForce RTX 2080, pci bus id: 0000:65:00.0, compute capability: 7.5\n"
     ]
    },
    {
     "name": "stdout",
     "output_type": "stream",
     "text": [
      "'_read_params_from_file': 0.085 seconds\n",
      "'set_parameters': 0.006 seconds\n",
      "'load_params': 0.092 seconds\n",
      "'set_lengthscales_constraints': 0.005 seconds\n",
      "*** not optimising parameters\n",
      "'get_parameters': 0.004 seconds\n",
      "parameters:\n",
      "lengthscales: array([6.72758442, 5.95403116, 0.99979288]) \n",
      "kernel_variance: 0.0005270830663503281\n",
      "likelihood_variance: 0.006000000000000003\n",
      "'predict': 0.046 seconds\n",
      "total run time : 0.67 seconds\n",
      "------------------------------\n",
      "99 / 363\n",
      "             x          y        t       date         lon        lat\n",
      "331  1200000.0  1800000.0  18326.0 2020-03-05  146.309932  70.530773\n",
      "'_update_global_data': 0.001 seconds\n",
      "'local_data_select': 0.002 seconds\n",
      "number obs: 5\n",
      "'_max_dist_bool': 0.013 seconds\n",
      "'_from_dataframe': 0.015 seconds\n",
      "found GPU\n",
      "setting lengthscales to: [1. 1. 1.]\n",
      "'__init__': 0.158 seconds\n"
     ]
    },
    {
     "name": "stderr",
     "output_type": "stream",
     "text": [
      "2023-06-05 17:58:27.445455: I tensorflow/core/common_runtime/gpu/gpu_device.cc:1616] Created device /device:GPU:0 with 6261 MB memory:  -> device: 0, name: NVIDIA GeForce RTX 2080, pci bus id: 0000:17:00.0, compute capability: 7.5\n",
      "2023-06-05 17:58:27.446023: I tensorflow/core/common_runtime/gpu/gpu_device.cc:1616] Created device /device:GPU:1 with 4157 MB memory:  -> device: 1, name: NVIDIA GeForce RTX 2080, pci bus id: 0000:65:00.0, compute capability: 7.5\n"
     ]
    },
    {
     "name": "stdout",
     "output_type": "stream",
     "text": [
      "'_read_params_from_file': 0.082 seconds\n",
      "'set_parameters': 0.006 seconds\n",
      "'load_params': 0.089 seconds\n",
      "'set_lengthscales_constraints': 0.006 seconds\n",
      "*** not optimising parameters\n",
      "'get_parameters': 0.004 seconds\n",
      "parameters:\n",
      "lengthscales: array([8.75270708, 9.12136364, 1.00013405]) \n",
      "kernel_variance: 0.0004329693651974816\n",
      "likelihood_variance: 0.006000000000000003\n",
      "'predict': 0.048 seconds\n",
      "total run time : 0.68 seconds\n",
      "------------------------------\n",
      "100 / 363\n",
      "             x          y        t       date         lon        lat\n",
      "330  1000000.0  1800000.0  18326.0 2020-03-05  150.945396  71.477702\n",
      "'_update_global_data': 0.001 seconds\n",
      "'local_data_select': 0.002 seconds\n",
      "number obs: 15\n",
      "'_max_dist_bool': 0.013 seconds\n",
      "'_from_dataframe': 0.014 seconds\n",
      "found GPU\n",
      "setting lengthscales to: [1. 1. 1.]\n",
      "'__init__': 0.146 seconds\n"
     ]
    },
    {
     "name": "stderr",
     "output_type": "stream",
     "text": [
      "2023-06-05 17:58:28.106927: I tensorflow/core/common_runtime/gpu/gpu_device.cc:1616] Created device /device:GPU:0 with 6261 MB memory:  -> device: 0, name: NVIDIA GeForce RTX 2080, pci bus id: 0000:17:00.0, compute capability: 7.5\n",
      "2023-06-05 17:58:28.107993: I tensorflow/core/common_runtime/gpu/gpu_device.cc:1616] Created device /device:GPU:1 with 4157 MB memory:  -> device: 1, name: NVIDIA GeForce RTX 2080, pci bus id: 0000:65:00.0, compute capability: 7.5\n"
     ]
    },
    {
     "name": "stdout",
     "output_type": "stream",
     "text": [
      "'_read_params_from_file': 0.097 seconds\n",
      "'set_parameters': 0.006 seconds\n",
      "'load_params': 0.104 seconds\n",
      "'set_lengthscales_constraints': 0.006 seconds\n",
      "*** not optimising parameters\n",
      "'get_parameters': 0.004 seconds\n",
      "parameters:\n",
      "lengthscales: array([9.4811971 , 9.4443802 , 1.00040021]) \n",
      "kernel_variance: 0.0005182585997767601\n",
      "likelihood_variance: 0.006000000000000003\n",
      "'predict': 0.048 seconds\n",
      "SAVING RESULTS\n",
      "run_details\n",
      "preds\n",
      "lengthscales\n",
      "kernel_variance\n",
      "likelihood_variance\n",
      "total run time : 0.84 seconds\n",
      "------------------------------\n",
      "101 / 363\n",
      "       x          y        t       date    lon        lat\n",
      "338  0.0  2000000.0  18326.0 2020-03-05  180.0  72.014378\n",
      "'_update_global_data': 0.001 seconds\n",
      "'local_data_select': 0.002 seconds\n",
      "number obs: 30\n",
      "'_max_dist_bool': 0.013 seconds\n",
      "'_from_dataframe': 0.015 seconds\n",
      "found GPU\n",
      "setting lengthscales to: [1. 1. 1.]\n",
      "'__init__': 0.159 seconds\n",
      "'_read_params_from_file': 0.078 seconds\n",
      "'set_parameters': 0.006 seconds\n",
      "'load_params': 0.085 seconds\n",
      "'set_lengthscales_constraints': 0.006 seconds\n",
      "*** not optimising parameters\n",
      "'get_parameters': 0.004 seconds\n",
      "parameters:\n",
      "lengthscales: array([7.75388409, 7.4707871 , 0.99982089]) \n",
      "kernel_variance: 0.0007108002359572927\n",
      "likelihood_variance: 0.006000000000000003\n",
      "'predict': 0.054 seconds\n"
     ]
    },
    {
     "name": "stderr",
     "output_type": "stream",
     "text": [
      "2023-06-05 17:58:28.970622: I tensorflow/core/common_runtime/gpu/gpu_device.cc:1616] Created device /device:GPU:0 with 6261 MB memory:  -> device: 0, name: NVIDIA GeForce RTX 2080, pci bus id: 0000:17:00.0, compute capability: 7.5\n",
      "2023-06-05 17:58:28.971862: I tensorflow/core/common_runtime/gpu/gpu_device.cc:1616] Created device /device:GPU:1 with 4157 MB memory:  -> device: 1, name: NVIDIA GeForce RTX 2080, pci bus id: 0000:65:00.0, compute capability: 7.5\n"
     ]
    },
    {
     "name": "stdout",
     "output_type": "stream",
     "text": [
      "total run time : 0.68 seconds\n",
      "------------------------------\n",
      "102 / 363\n",
      "            x          y        t       date         lon       lat\n",
      "329  800000.0  1800000.0  18326.0 2020-03-05  156.037511  72.28859\n",
      "'_update_global_data': 0.001 seconds\n",
      "'local_data_select': 0.002 seconds\n",
      "number obs: 29\n",
      "'_max_dist_bool': 0.013 seconds\n",
      "'_from_dataframe': 0.015 seconds\n",
      "found GPU\n",
      "setting lengthscales to: [1. 1. 1.]\n",
      "'__init__': 0.138 seconds\n"
     ]
    },
    {
     "name": "stderr",
     "output_type": "stream",
     "text": [
      "2023-06-05 17:58:29.625466: I tensorflow/core/common_runtime/gpu/gpu_device.cc:1616] Created device /device:GPU:0 with 6261 MB memory:  -> device: 0, name: NVIDIA GeForce RTX 2080, pci bus id: 0000:17:00.0, compute capability: 7.5\n",
      "2023-06-05 17:58:29.626677: I tensorflow/core/common_runtime/gpu/gpu_device.cc:1616] Created device /device:GPU:1 with 4157 MB memory:  -> device: 1, name: NVIDIA GeForce RTX 2080, pci bus id: 0000:65:00.0, compute capability: 7.5\n"
     ]
    },
    {
     "name": "stdout",
     "output_type": "stream",
     "text": [
      "'_read_params_from_file': 0.079 seconds\n",
      "'set_parameters': 0.006 seconds\n",
      "'load_params': 0.086 seconds\n",
      "'set_lengthscales_constraints': 0.006 seconds\n",
      "*** not optimising parameters\n",
      "'get_parameters': 0.004 seconds\n",
      "parameters:\n",
      "lengthscales: array([10.52348422,  9.58032   ,  1.00163886]) \n",
      "kernel_variance: 0.0007021438937137667\n",
      "likelihood_variance: 0.006000000000000003\n",
      "'predict': 0.046 seconds\n",
      "total run time : 0.65 seconds\n",
      "------------------------------\n",
      "103 / 363\n",
      "            x          y        t       date         lon        lat\n",
      "327  400000.0  1800000.0  18326.0 2020-03-05  167.471192  73.429172\n",
      "'_update_global_data': 0.001 seconds\n",
      "'local_data_select': 0.002 seconds\n",
      "number obs: 57\n",
      "'_max_dist_bool': 0.013 seconds\n",
      "'_from_dataframe': 0.015 seconds\n",
      "found GPU\n",
      "setting lengthscales to: [1. 1. 1.]\n",
      "'__init__': 0.154 seconds\n"
     ]
    },
    {
     "name": "stderr",
     "output_type": "stream",
     "text": [
      "2023-06-05 17:58:30.290024: I tensorflow/core/common_runtime/gpu/gpu_device.cc:1616] Created device /device:GPU:0 with 6261 MB memory:  -> device: 0, name: NVIDIA GeForce RTX 2080, pci bus id: 0000:17:00.0, compute capability: 7.5\n",
      "2023-06-05 17:58:30.291157: I tensorflow/core/common_runtime/gpu/gpu_device.cc:1616] Created device /device:GPU:1 with 4157 MB memory:  -> device: 1, name: NVIDIA GeForce RTX 2080, pci bus id: 0000:65:00.0, compute capability: 7.5\n"
     ]
    },
    {
     "name": "stdout",
     "output_type": "stream",
     "text": [
      "'_read_params_from_file': 0.083 seconds\n",
      "'set_parameters': 0.006 seconds\n",
      "'load_params': 0.090 seconds\n",
      "'set_lengthscales_constraints': 0.006 seconds\n",
      "*** not optimising parameters\n",
      "'get_parameters': 0.004 seconds\n",
      "parameters:\n",
      "lengthscales: array([11.46959097,  9.40446606,  1.00354991]) \n",
      "kernel_variance: 0.0006337262738111682\n",
      "likelihood_variance: 0.006000000000000003\n",
      "'predict': 0.049 seconds\n",
      "total run time : 0.67 seconds\n",
      "------------------------------\n",
      "104 / 363\n",
      "            x          y        t       date         lon        lat\n",
      "326  200000.0  1800000.0  18326.0 2020-03-05  173.659808  73.726401\n",
      "'_update_global_data': 0.001 seconds\n",
      "'local_data_select': 0.002 seconds\n",
      "number obs: 53\n",
      "'_max_dist_bool': 0.013 seconds\n",
      "'_from_dataframe': 0.015 seconds\n",
      "found GPU\n",
      "setting lengthscales to: [1. 1. 1.]\n",
      "'__init__': 0.167 seconds\n"
     ]
    },
    {
     "name": "stderr",
     "output_type": "stream",
     "text": [
      "2023-06-05 17:58:30.977908: I tensorflow/core/common_runtime/gpu/gpu_device.cc:1616] Created device /device:GPU:0 with 6261 MB memory:  -> device: 0, name: NVIDIA GeForce RTX 2080, pci bus id: 0000:17:00.0, compute capability: 7.5\n",
      "2023-06-05 17:58:30.978992: I tensorflow/core/common_runtime/gpu/gpu_device.cc:1616] Created device /device:GPU:1 with 4157 MB memory:  -> device: 1, name: NVIDIA GeForce RTX 2080, pci bus id: 0000:65:00.0, compute capability: 7.5\n"
     ]
    },
    {
     "name": "stdout",
     "output_type": "stream",
     "text": [
      "'_read_params_from_file': 0.080 seconds\n",
      "'set_parameters': 0.006 seconds\n",
      "'load_params': 0.087 seconds\n",
      "'set_lengthscales_constraints': 0.006 seconds\n",
      "*** not optimising parameters\n",
      "'get_parameters': 0.004 seconds\n",
      "parameters:\n",
      "lengthscales: array([10.89766741,  9.438698  ,  1.00163512]) \n",
      "kernel_variance: 0.0005846753153079715\n",
      "likelihood_variance: 0.006000000000000003\n",
      "'predict': 0.047 seconds\n",
      "total run time : 0.68 seconds\n",
      "------------------------------\n",
      "105 / 363\n",
      "       x          y        t       date    lon        lat\n",
      "325  0.0  1800000.0  18326.0 2020-03-05  180.0  73.826655\n",
      "'_update_global_data': 0.001 seconds\n",
      "'local_data_select': 0.002 seconds\n",
      "number obs: 45\n",
      "'_max_dist_bool': 0.013 seconds\n",
      "'_from_dataframe': 0.015 seconds\n",
      "found GPU\n",
      "setting lengthscales to: [1. 1. 1.]\n",
      "'__init__': 0.164 seconds\n"
     ]
    },
    {
     "name": "stderr",
     "output_type": "stream",
     "text": [
      "2023-06-05 17:58:31.652785: I tensorflow/core/common_runtime/gpu/gpu_device.cc:1616] Created device /device:GPU:0 with 6261 MB memory:  -> device: 0, name: NVIDIA GeForce RTX 2080, pci bus id: 0000:17:00.0, compute capability: 7.5\n",
      "2023-06-05 17:58:31.653892: I tensorflow/core/common_runtime/gpu/gpu_device.cc:1616] Created device /device:GPU:1 with 4157 MB memory:  -> device: 1, name: NVIDIA GeForce RTX 2080, pci bus id: 0000:65:00.0, compute capability: 7.5\n"
     ]
    },
    {
     "name": "stdout",
     "output_type": "stream",
     "text": [
      "'_read_params_from_file': 0.094 seconds\n",
      "'set_parameters': 0.009 seconds\n",
      "'load_params': 0.104 seconds\n",
      "'set_lengthscales_constraints': 0.010 seconds\n",
      "*** not optimising parameters\n",
      "'get_parameters': 0.004 seconds\n",
      "parameters:\n",
      "lengthscales: array([10.18572863,  9.92684968,  0.99912614]) \n",
      "kernel_variance: 0.0007855140659562352\n",
      "likelihood_variance: 0.006000000000000003\n",
      "'predict': 0.049 seconds\n",
      "total run time : 0.71 seconds\n",
      "------------------------------\n",
      "106 / 363\n",
      "            x          y        t       date         lon        lat\n",
      "324 -200000.0  1800000.0  18326.0 2020-03-05 -173.659808  73.726401\n",
      "'_update_global_data': 0.001 seconds\n",
      "'local_data_select': 0.002 seconds\n",
      "number obs: 36\n",
      "'_max_dist_bool': 0.013 seconds\n",
      "'_from_dataframe': 0.015 seconds\n",
      "found GPU\n",
      "setting lengthscales to: [1. 1. 1.]\n",
      "'__init__': 0.171 seconds\n"
     ]
    },
    {
     "name": "stderr",
     "output_type": "stream",
     "text": [
      "2023-06-05 17:58:32.373838: I tensorflow/core/common_runtime/gpu/gpu_device.cc:1616] Created device /device:GPU:0 with 6261 MB memory:  -> device: 0, name: NVIDIA GeForce RTX 2080, pci bus id: 0000:17:00.0, compute capability: 7.5\n",
      "2023-06-05 17:58:32.374896: I tensorflow/core/common_runtime/gpu/gpu_device.cc:1616] Created device /device:GPU:1 with 4157 MB memory:  -> device: 1, name: NVIDIA GeForce RTX 2080, pci bus id: 0000:65:00.0, compute capability: 7.5\n"
     ]
    },
    {
     "name": "stdout",
     "output_type": "stream",
     "text": [
      "'_read_params_from_file': 0.094 seconds\n",
      "'set_parameters': 0.006 seconds\n",
      "'load_params': 0.101 seconds\n",
      "'set_lengthscales_constraints': 0.005 seconds\n",
      "*** not optimising parameters\n",
      "'get_parameters': 0.004 seconds\n",
      "parameters:\n",
      "lengthscales: array([10.3916457 , 10.89170862,  0.99667463]) \n",
      "kernel_variance: 0.0011750916318578628\n",
      "likelihood_variance: 0.006000000000000003\n",
      "'predict': 0.061 seconds\n",
      "total run time : 0.71 seconds\n",
      "------------------------------\n",
      "107 / 363\n",
      "            x          y        t       date         lon        lat\n",
      "323 -400000.0  1800000.0  18326.0 2020-03-05 -167.471192  73.429172\n",
      "'_update_global_data': 0.001 seconds\n",
      "'local_data_select': 0.002 seconds\n",
      "number obs: 40\n",
      "'_max_dist_bool': 0.013 seconds\n",
      "'_from_dataframe': 0.015 seconds\n",
      "found GPU\n",
      "setting lengthscales to: [1. 1. 1.]\n",
      "'__init__': 0.164 seconds\n"
     ]
    },
    {
     "name": "stderr",
     "output_type": "stream",
     "text": [
      "2023-06-05 17:58:33.065655: I tensorflow/core/common_runtime/gpu/gpu_device.cc:1616] Created device /device:GPU:0 with 6261 MB memory:  -> device: 0, name: NVIDIA GeForce RTX 2080, pci bus id: 0000:17:00.0, compute capability: 7.5\n",
      "2023-06-05 17:58:33.066752: I tensorflow/core/common_runtime/gpu/gpu_device.cc:1616] Created device /device:GPU:1 with 4157 MB memory:  -> device: 1, name: NVIDIA GeForce RTX 2080, pci bus id: 0000:65:00.0, compute capability: 7.5\n"
     ]
    },
    {
     "name": "stdout",
     "output_type": "stream",
     "text": [
      "'_read_params_from_file': 0.110 seconds\n",
      "'set_parameters': 0.006 seconds\n",
      "'load_params': 0.117 seconds\n",
      "'set_lengthscales_constraints': 0.006 seconds\n",
      "*** not optimising parameters\n",
      "'get_parameters': 0.004 seconds\n",
      "parameters:\n",
      "lengthscales: array([11.05643999, 11.62121703,  0.99624125]) \n",
      "kernel_variance: 0.0014573075675467552\n",
      "likelihood_variance: 0.006000000000000003\n",
      "'predict': 0.055 seconds\n",
      "total run time : 0.71 seconds\n",
      "------------------------------\n",
      "108 / 363\n",
      "            x          y        t       date         lon        lat\n",
      "322 -600000.0  1800000.0  18326.0 2020-03-05 -161.565051  72.944956\n",
      "'_update_global_data': 0.001 seconds\n",
      "'local_data_select': 0.002 seconds\n",
      "number obs: 41\n",
      "'_max_dist_bool': 0.013 seconds\n",
      "'_from_dataframe': 0.014 seconds\n",
      "found GPU\n",
      "setting lengthscales to: [1. 1. 1.]\n",
      "'__init__': 0.163 seconds\n"
     ]
    },
    {
     "name": "stderr",
     "output_type": "stream",
     "text": [
      "2023-06-05 17:58:33.774317: I tensorflow/core/common_runtime/gpu/gpu_device.cc:1616] Created device /device:GPU:0 with 6261 MB memory:  -> device: 0, name: NVIDIA GeForce RTX 2080, pci bus id: 0000:17:00.0, compute capability: 7.5\n",
      "2023-06-05 17:58:33.775475: I tensorflow/core/common_runtime/gpu/gpu_device.cc:1616] Created device /device:GPU:1 with 4157 MB memory:  -> device: 1, name: NVIDIA GeForce RTX 2080, pci bus id: 0000:65:00.0, compute capability: 7.5\n"
     ]
    },
    {
     "name": "stdout",
     "output_type": "stream",
     "text": [
      "'_read_params_from_file': 0.080 seconds\n",
      "'set_parameters': 0.006 seconds\n",
      "'load_params': 0.087 seconds\n",
      "'set_lengthscales_constraints': 0.006 seconds\n",
      "*** not optimising parameters\n",
      "'get_parameters': 0.004 seconds\n",
      "parameters:\n",
      "lengthscales: array([10.97012863, 11.61792705,  0.99817789]) \n",
      "kernel_variance: 0.001495170146858077\n",
      "likelihood_variance: 0.006000000000000003\n",
      "'predict': 0.046 seconds\n",
      "total run time : 0.67 seconds\n",
      "------------------------------\n",
      "109 / 363\n",
      "            x          y        t       date         lon       lat\n",
      "321 -800000.0  1800000.0  18326.0 2020-03-05 -156.037511  72.28859\n",
      "'_update_global_data': 0.001 seconds\n",
      "'local_data_select': 0.002 seconds\n",
      "number obs: 29\n",
      "'_max_dist_bool': 0.013 seconds\n",
      "'_from_dataframe': 0.015 seconds\n",
      "found GPU\n",
      "setting lengthscales to: [1. 1. 1.]\n",
      "'__init__': 0.161 seconds\n"
     ]
    },
    {
     "name": "stderr",
     "output_type": "stream",
     "text": [
      "2023-06-05 17:58:34.446129: I tensorflow/core/common_runtime/gpu/gpu_device.cc:1616] Created device /device:GPU:0 with 6261 MB memory:  -> device: 0, name: NVIDIA GeForce RTX 2080, pci bus id: 0000:17:00.0, compute capability: 7.5\n",
      "2023-06-05 17:58:34.447196: I tensorflow/core/common_runtime/gpu/gpu_device.cc:1616] Created device /device:GPU:1 with 4157 MB memory:  -> device: 1, name: NVIDIA GeForce RTX 2080, pci bus id: 0000:65:00.0, compute capability: 7.5\n"
     ]
    },
    {
     "name": "stdout",
     "output_type": "stream",
     "text": [
      "'_read_params_from_file': 0.081 seconds\n",
      "'set_parameters': 0.006 seconds\n",
      "'load_params': 0.088 seconds\n",
      "'set_lengthscales_constraints': 0.006 seconds\n",
      "*** not optimising parameters\n",
      "'get_parameters': 0.004 seconds\n",
      "parameters:\n",
      "lengthscales: array([10.2523766 , 10.59962223,  0.99937869]) \n",
      "kernel_variance: 0.0013203399325115931\n",
      "likelihood_variance: 0.006000000000000003\n",
      "'predict': 0.047 seconds\n",
      "total run time : 0.68 seconds\n",
      "------------------------------\n",
      "110 / 363\n",
      "             x          y        t       date         lon        lat\n",
      "320 -1000000.0  1800000.0  18326.0 2020-03-05 -150.945396  71.477702\n",
      "'_update_global_data': 0.001 seconds\n",
      "'local_data_select': 0.002 seconds\n",
      "number obs: 17\n",
      "'_max_dist_bool': 0.013 seconds\n",
      "'_from_dataframe': 0.015 seconds\n",
      "found GPU\n",
      "setting lengthscales to: [1. 1. 1.]\n",
      "'__init__': 0.169 seconds\n"
     ]
    },
    {
     "name": "stderr",
     "output_type": "stream",
     "text": [
      "2023-06-05 17:58:35.133817: I tensorflow/core/common_runtime/gpu/gpu_device.cc:1616] Created device /device:GPU:0 with 6261 MB memory:  -> device: 0, name: NVIDIA GeForce RTX 2080, pci bus id: 0000:17:00.0, compute capability: 7.5\n",
      "2023-06-05 17:58:35.134873: I tensorflow/core/common_runtime/gpu/gpu_device.cc:1616] Created device /device:GPU:1 with 4157 MB memory:  -> device: 1, name: NVIDIA GeForce RTX 2080, pci bus id: 0000:65:00.0, compute capability: 7.5\n"
     ]
    },
    {
     "name": "stdout",
     "output_type": "stream",
     "text": [
      "'_read_params_from_file': 0.080 seconds\n",
      "'set_parameters': 0.009 seconds\n",
      "'load_params': 0.089 seconds\n",
      "'set_lengthscales_constraints': 0.011 seconds\n",
      "*** not optimising parameters\n",
      "'get_parameters': 0.005 seconds\n",
      "parameters:\n",
      "lengthscales: array([9.7231321 , 8.70056533, 1.00013124]) \n",
      "kernel_variance: 0.001040512757993659\n",
      "likelihood_variance: 0.006000000000000003\n",
      "'predict': 0.048 seconds\n",
      "SAVING RESULTS\n",
      "run_details\n",
      "preds\n",
      "lengthscales\n",
      "kernel_variance\n",
      "likelihood_variance\n",
      "total run time : 0.90 seconds\n",
      "------------------------------\n",
      "111 / 363\n",
      "            x          y        t       date         lon        lat\n",
      "328  600000.0  1800000.0  18326.0 2020-03-05  161.565051  72.944956\n",
      "'_update_global_data': 0.001 seconds\n",
      "'local_data_select': 0.003 seconds\n",
      "number obs: 50\n",
      "'_max_dist_bool': 0.014 seconds\n",
      "'_from_dataframe': 0.016 seconds\n",
      "found GPU\n",
      "setting lengthscales to: [1. 1. 1.]\n",
      "'__init__': 0.168 seconds\n"
     ]
    },
    {
     "name": "stderr",
     "output_type": "stream",
     "text": [
      "2023-06-05 17:58:36.034382: I tensorflow/core/common_runtime/gpu/gpu_device.cc:1616] Created device /device:GPU:0 with 6261 MB memory:  -> device: 0, name: NVIDIA GeForce RTX 2080, pci bus id: 0000:17:00.0, compute capability: 7.5\n",
      "2023-06-05 17:58:36.035567: I tensorflow/core/common_runtime/gpu/gpu_device.cc:1616] Created device /device:GPU:1 with 4157 MB memory:  -> device: 1, name: NVIDIA GeForce RTX 2080, pci bus id: 0000:65:00.0, compute capability: 7.5\n"
     ]
    },
    {
     "name": "stdout",
     "output_type": "stream",
     "text": [
      "'_read_params_from_file': 0.079 seconds\n",
      "'set_parameters': 0.006 seconds\n",
      "'load_params': 0.086 seconds\n",
      "'set_lengthscales_constraints': 0.006 seconds\n",
      "*** not optimising parameters\n",
      "'get_parameters': 0.004 seconds\n",
      "parameters:\n",
      "lengthscales: array([11.27800144,  9.492015  ,  1.00339375]) \n",
      "kernel_variance: 0.000741787170355156\n",
      "likelihood_variance: 0.006000000000000003\n",
      "'predict': 0.047 seconds\n",
      "total run time : 0.68 seconds\n",
      "------------------------------\n",
      "112 / 363\n",
      "            x          y        t       date         lon        lat\n",
      "339  200000.0  2000000.0  18326.0 2020-03-05  174.289407  71.923866\n",
      "'_update_global_data': 0.001 seconds\n",
      "'local_data_select': 0.002 seconds\n",
      "number obs: 50\n",
      "'_max_dist_bool': 0.013 seconds\n",
      "'_from_dataframe': 0.014 seconds\n",
      "found GPU\n",
      "setting lengthscales to: [1. 1. 1.]\n",
      "'__init__': 0.160 seconds\n"
     ]
    },
    {
     "name": "stderr",
     "output_type": "stream",
     "text": [
      "2023-06-05 17:58:36.709281: I tensorflow/core/common_runtime/gpu/gpu_device.cc:1616] Created device /device:GPU:0 with 6261 MB memory:  -> device: 0, name: NVIDIA GeForce RTX 2080, pci bus id: 0000:17:00.0, compute capability: 7.5\n",
      "2023-06-05 17:58:36.710457: I tensorflow/core/common_runtime/gpu/gpu_device.cc:1616] Created device /device:GPU:1 with 4157 MB memory:  -> device: 1, name: NVIDIA GeForce RTX 2080, pci bus id: 0000:65:00.0, compute capability: 7.5\n"
     ]
    },
    {
     "name": "stdout",
     "output_type": "stream",
     "text": [
      "'_read_params_from_file': 0.097 seconds\n",
      "'set_parameters': 0.006 seconds\n",
      "'load_params': 0.104 seconds\n",
      "'set_lengthscales_constraints': 0.006 seconds\n",
      "*** not optimising parameters\n",
      "'get_parameters': 0.010 seconds\n",
      "parameters:\n",
      "lengthscales: array([8.78248672, 6.28049891, 1.00122533]) \n",
      "kernel_variance: 0.0005682858745072825\n",
      "likelihood_variance: 0.006000000000000003\n",
      "'predict': 0.065 seconds\n",
      "total run time : 0.70 seconds\n",
      "------------------------------\n",
      "113 / 363\n",
      "            x          y        t       date         lon        lat\n",
      "340  400000.0  2000000.0  18326.0 2020-03-05  168.690068  71.654913\n",
      "'_update_global_data': 0.001 seconds\n",
      "'local_data_select': 0.002 seconds\n",
      "number obs: 43\n",
      "'_max_dist_bool': 0.013 seconds\n",
      "'_from_dataframe': 0.015 seconds\n",
      "found GPU\n",
      "setting lengthscales to: [1. 1. 1.]\n",
      "'__init__': 0.134 seconds\n"
     ]
    },
    {
     "name": "stderr",
     "output_type": "stream",
     "text": [
      "2023-06-05 17:58:37.389192: I tensorflow/core/common_runtime/gpu/gpu_device.cc:1616] Created device /device:GPU:0 with 6261 MB memory:  -> device: 0, name: NVIDIA GeForce RTX 2080, pci bus id: 0000:17:00.0, compute capability: 7.5\n",
      "2023-06-05 17:58:37.390312: I tensorflow/core/common_runtime/gpu/gpu_device.cc:1616] Created device /device:GPU:1 with 4157 MB memory:  -> device: 1, name: NVIDIA GeForce RTX 2080, pci bus id: 0000:65:00.0, compute capability: 7.5\n"
     ]
    },
    {
     "name": "stdout",
     "output_type": "stream",
     "text": [
      "'_read_params_from_file': 0.093 seconds\n",
      "'set_parameters': 0.006 seconds\n",
      "'load_params': 0.100 seconds\n",
      "'set_lengthscales_constraints': 0.006 seconds\n",
      "*** not optimising parameters\n",
      "'get_parameters': 0.004 seconds\n",
      "parameters:\n",
      "lengthscales: array([10.08237462,  5.94607617,  1.00254493]) \n",
      "kernel_variance: 0.0005686099103779731\n",
      "likelihood_variance: 0.006000000000000003\n",
      "'predict': 0.047 seconds\n",
      "total run time : 0.65 seconds\n",
      "------------------------------\n",
      "114 / 363\n",
      "            x          y        t       date         lon        lat\n",
      "341  600000.0  2000000.0  18326.0 2020-03-05  163.300756  71.214902\n",
      "'_update_global_data': 0.001 seconds\n",
      "'local_data_select': 0.002 seconds\n",
      "number obs: 33\n",
      "'_max_dist_bool': 0.013 seconds\n",
      "'_from_dataframe': 0.015 seconds\n",
      "found GPU\n",
      "setting lengthscales to: [1. 1. 1.]\n",
      "'__init__': 0.156 seconds\n"
     ]
    },
    {
     "name": "stderr",
     "output_type": "stream",
     "text": [
      "2023-06-05 17:58:38.065051: I tensorflow/core/common_runtime/gpu/gpu_device.cc:1616] Created device /device:GPU:0 with 6261 MB memory:  -> device: 0, name: NVIDIA GeForce RTX 2080, pci bus id: 0000:17:00.0, compute capability: 7.5\n",
      "2023-06-05 17:58:38.065901: I tensorflow/core/common_runtime/gpu/gpu_device.cc:1616] Created device /device:GPU:1 with 4157 MB memory:  -> device: 1, name: NVIDIA GeForce RTX 2080, pci bus id: 0000:65:00.0, compute capability: 7.5\n"
     ]
    },
    {
     "name": "stdout",
     "output_type": "stream",
     "text": [
      "'_read_params_from_file': 0.092 seconds\n",
      "'set_parameters': 0.006 seconds\n",
      "'load_params': 0.099 seconds\n",
      "'set_lengthscales_constraints': 0.005 seconds\n",
      "*** not optimising parameters\n",
      "'get_parameters': 0.004 seconds\n",
      "parameters:\n",
      "lengthscales: array([9.8329713 , 6.03125789, 1.0027561 ]) \n",
      "kernel_variance: 0.0005717777978075936\n",
      "likelihood_variance: 0.006000000000000003\n",
      "'predict': 0.046 seconds\n",
      "total run time : 0.67 seconds\n",
      "------------------------------\n",
      "115 / 363\n",
      "            x          y        t       date         lon        lat\n",
      "360 -600000.0  2600000.0  18326.0 2020-03-05 -167.005383  65.919893\n",
      "'_update_global_data': 0.001 seconds\n",
      "'local_data_select': 0.002 seconds\n",
      "number obs: 13\n",
      "'_max_dist_bool': 0.013 seconds\n",
      "'_from_dataframe': 0.015 seconds\n",
      "found GPU\n",
      "setting lengthscales to: [1. 1. 1.]\n",
      "'__init__': 0.160 seconds\n"
     ]
    },
    {
     "name": "stderr",
     "output_type": "stream",
     "text": [
      "2023-06-05 17:58:38.741949: I tensorflow/core/common_runtime/gpu/gpu_device.cc:1616] Created device /device:GPU:0 with 6261 MB memory:  -> device: 0, name: NVIDIA GeForce RTX 2080, pci bus id: 0000:17:00.0, compute capability: 7.5\n",
      "2023-06-05 17:58:38.742897: I tensorflow/core/common_runtime/gpu/gpu_device.cc:1616] Created device /device:GPU:1 with 4157 MB memory:  -> device: 1, name: NVIDIA GeForce RTX 2080, pci bus id: 0000:65:00.0, compute capability: 7.5\n"
     ]
    },
    {
     "name": "stdout",
     "output_type": "stream",
     "text": [
      "'_read_params_from_file': 0.082 seconds\n",
      "'set_parameters': 0.006 seconds\n",
      "'load_params': 0.089 seconds\n",
      "'set_lengthscales_constraints': 0.006 seconds\n",
      "*** not optimising parameters\n",
      "'get_parameters': 0.008 seconds\n",
      "parameters:\n",
      "lengthscales: array([ 3.92254038, 11.08431513,  1.00011257]) \n",
      "kernel_variance: 0.0006544096818511963\n",
      "likelihood_variance: 0.006000000000000003\n",
      "'predict': 0.056 seconds\n",
      "total run time : 0.68 seconds\n",
      "------------------------------\n",
      "116 / 363\n",
      "            x          y        t       date         lon        lat\n",
      "359  400000.0  2400000.0  18326.0 2020-03-05  170.537678  68.072392\n",
      "'_update_global_data': 0.001 seconds\n",
      "'local_data_select': 0.002 seconds\n",
      "number obs: 6\n",
      "'_max_dist_bool': 0.013 seconds\n",
      "'_from_dataframe': 0.015 seconds\n",
      "found GPU\n",
      "setting lengthscales to: [1. 1. 1.]\n",
      "'__init__': 0.171 seconds\n"
     ]
    },
    {
     "name": "stderr",
     "output_type": "stream",
     "text": [
      "2023-06-05 17:58:39.438023: I tensorflow/core/common_runtime/gpu/gpu_device.cc:1616] Created device /device:GPU:0 with 6261 MB memory:  -> device: 0, name: NVIDIA GeForce RTX 2080, pci bus id: 0000:17:00.0, compute capability: 7.5\n",
      "2023-06-05 17:58:39.438976: I tensorflow/core/common_runtime/gpu/gpu_device.cc:1616] Created device /device:GPU:1 with 4157 MB memory:  -> device: 1, name: NVIDIA GeForce RTX 2080, pci bus id: 0000:65:00.0, compute capability: 7.5\n"
     ]
    },
    {
     "name": "stdout",
     "output_type": "stream",
     "text": [
      "'_read_params_from_file': 0.080 seconds\n",
      "'set_parameters': 0.006 seconds\n",
      "'load_params': 0.087 seconds\n",
      "'set_lengthscales_constraints': 0.006 seconds\n",
      "*** not optimising parameters\n",
      "'get_parameters': 0.004 seconds\n",
      "parameters:\n",
      "lengthscales: array([7.23062531, 4.34040138, 1.00017903]) \n",
      "kernel_variance: 0.00108417870817172\n",
      "likelihood_variance: 0.006000000000000003\n",
      "'predict': 0.047 seconds\n",
      "total run time : 0.69 seconds\n",
      "------------------------------\n",
      "117 / 363\n",
      "            x          y        t       date         lon        lat\n",
      "358  200000.0  2400000.0  18326.0 2020-03-05  175.236358  68.298699\n",
      "'_update_global_data': 0.001 seconds\n",
      "'local_data_select': 0.002 seconds\n",
      "number obs: 7\n",
      "'_max_dist_bool': 0.013 seconds\n",
      "'_from_dataframe': 0.015 seconds\n",
      "found GPU\n",
      "setting lengthscales to: [1. 1. 1.]\n"
     ]
    },
    {
     "name": "stderr",
     "output_type": "stream",
     "text": [
      "2023-06-05 17:58:40.137830: I tensorflow/core/common_runtime/gpu/gpu_device.cc:1616] Created device /device:GPU:0 with 6261 MB memory:  -> device: 0, name: NVIDIA GeForce RTX 2080, pci bus id: 0000:17:00.0, compute capability: 7.5\n",
      "2023-06-05 17:58:40.138920: I tensorflow/core/common_runtime/gpu/gpu_device.cc:1616] Created device /device:GPU:1 with 4157 MB memory:  -> device: 1, name: NVIDIA GeForce RTX 2080, pci bus id: 0000:65:00.0, compute capability: 7.5\n"
     ]
    },
    {
     "name": "stdout",
     "output_type": "stream",
     "text": [
      "'__init__': 0.193 seconds\n",
      "'_read_params_from_file': 0.081 seconds\n",
      "'set_parameters': 0.006 seconds\n",
      "'load_params': 0.088 seconds\n",
      "'set_lengthscales_constraints': 0.006 seconds\n",
      "*** not optimising parameters\n",
      "'get_parameters': 0.004 seconds\n",
      "parameters:\n",
      "lengthscales: array([5.16285892, 2.76702903, 1.00009748]) \n",
      "kernel_variance: 0.0013860317137597002\n",
      "likelihood_variance: 0.006000000000000003\n",
      "'predict': 0.047 seconds\n",
      "total run time : 0.72 seconds\n",
      "------------------------------\n",
      "118 / 363\n",
      "       x          y        t       date    lon        lat\n",
      "357  0.0  2400000.0  18326.0 2020-03-05  180.0  68.374634\n",
      "'_update_global_data': 0.001 seconds\n",
      "'local_data_select': 0.002 seconds\n",
      "number obs: 11\n",
      "'_max_dist_bool': 0.013 seconds\n",
      "'_from_dataframe': 0.015 seconds\n",
      "found GPU\n",
      "setting lengthscales to: [1. 1. 1.]\n",
      "'__init__': 0.118 seconds\n"
     ]
    },
    {
     "name": "stderr",
     "output_type": "stream",
     "text": [
      "2023-06-05 17:58:40.807918: I tensorflow/core/common_runtime/gpu/gpu_device.cc:1616] Created device /device:GPU:0 with 6261 MB memory:  -> device: 0, name: NVIDIA GeForce RTX 2080, pci bus id: 0000:17:00.0, compute capability: 7.5\n",
      "2023-06-05 17:58:40.808331: I tensorflow/core/common_runtime/gpu/gpu_device.cc:1616] Created device /device:GPU:1 with 4157 MB memory:  -> device: 1, name: NVIDIA GeForce RTX 2080, pci bus id: 0000:65:00.0, compute capability: 7.5\n"
     ]
    },
    {
     "name": "stdout",
     "output_type": "stream",
     "text": [
      "'_read_params_from_file': 0.078 seconds\n",
      "'set_parameters': 0.006 seconds\n",
      "'load_params': 0.085 seconds\n",
      "'set_lengthscales_constraints': 0.005 seconds\n",
      "*** not optimising parameters\n",
      "'get_parameters': 0.004 seconds\n",
      "parameters:\n",
      "lengthscales: array([5.03300793, 2.78324253, 1.00002592]) \n",
      "kernel_variance: 0.0010431956918223173\n",
      "likelihood_variance: 0.006000000000000003\n",
      "'predict': 0.061 seconds\n",
      "total run time : 0.67 seconds\n",
      "------------------------------\n",
      "119 / 363\n",
      "            x          y        t       date         lon        lat\n",
      "356 -200000.0  2400000.0  18326.0 2020-03-05 -175.236358  68.298699\n",
      "'_update_global_data': 0.001 seconds\n",
      "'local_data_select': 0.002 seconds\n",
      "number obs: 8\n",
      "'_max_dist_bool': 0.013 seconds\n",
      "'_from_dataframe': 0.015 seconds\n",
      "found GPU\n",
      "setting lengthscales to: [1. 1. 1.]\n",
      "'__init__': 0.185 seconds\n"
     ]
    },
    {
     "name": "stderr",
     "output_type": "stream",
     "text": [
      "2023-06-05 17:58:41.529636: I tensorflow/core/common_runtime/gpu/gpu_device.cc:1616] Created device /device:GPU:0 with 6261 MB memory:  -> device: 0, name: NVIDIA GeForce RTX 2080, pci bus id: 0000:17:00.0, compute capability: 7.5\n",
      "2023-06-05 17:58:41.530710: I tensorflow/core/common_runtime/gpu/gpu_device.cc:1616] Created device /device:GPU:1 with 4157 MB memory:  -> device: 1, name: NVIDIA GeForce RTX 2080, pci bus id: 0000:65:00.0, compute capability: 7.5\n"
     ]
    },
    {
     "name": "stdout",
     "output_type": "stream",
     "text": [
      "'_read_params_from_file': 0.078 seconds\n",
      "'set_parameters': 0.006 seconds\n",
      "'load_params': 0.085 seconds\n",
      "'set_lengthscales_constraints': 0.005 seconds\n",
      "*** not optimising parameters\n",
      "'get_parameters': 0.004 seconds\n",
      "parameters:\n",
      "lengthscales: array([6.5574897 , 5.69302119, 0.99995744]) \n",
      "kernel_variance: 0.0007460994391668347\n",
      "likelihood_variance: 0.006000000000000003\n",
      "'predict': 0.060 seconds\n",
      "total run time : 0.71 seconds\n",
      "------------------------------\n",
      "120 / 363\n",
      "            x          y        t       date         lon        lat\n",
      "355 -400000.0  2400000.0  18326.0 2020-03-05 -170.537678  68.072392\n",
      "'_update_global_data': 0.001 seconds\n",
      "'local_data_select': 0.002 seconds\n",
      "number obs: 19\n",
      "'_max_dist_bool': 0.013 seconds\n",
      "'_from_dataframe': 0.016 seconds\n",
      "found GPU\n",
      "setting lengthscales to: [1. 1. 1.]\n",
      "'__init__': 0.155 seconds\n"
     ]
    },
    {
     "name": "stderr",
     "output_type": "stream",
     "text": [
      "2023-06-05 17:58:42.217689: I tensorflow/core/common_runtime/gpu/gpu_device.cc:1616] Created device /device:GPU:0 with 6261 MB memory:  -> device: 0, name: NVIDIA GeForce RTX 2080, pci bus id: 0000:17:00.0, compute capability: 7.5\n",
      "2023-06-05 17:58:42.218759: I tensorflow/core/common_runtime/gpu/gpu_device.cc:1616] Created device /device:GPU:1 with 4157 MB memory:  -> device: 1, name: NVIDIA GeForce RTX 2080, pci bus id: 0000:65:00.0, compute capability: 7.5\n"
     ]
    },
    {
     "name": "stdout",
     "output_type": "stream",
     "text": [
      "'_read_params_from_file': 0.079 seconds\n",
      "'set_parameters': 0.006 seconds\n",
      "'load_params': 0.085 seconds\n",
      "'set_lengthscales_constraints': 0.006 seconds\n",
      "*** not optimising parameters\n",
      "'get_parameters': 0.004 seconds\n",
      "parameters:\n",
      "lengthscales: array([6.14626463, 9.30546624, 0.99986345]) \n",
      "kernel_variance: 0.0007539761375580955\n",
      "likelihood_variance: 0.006000000000000003\n",
      "'predict': 0.046 seconds\n",
      "SAVING RESULTS\n",
      "run_details\n",
      "preds\n",
      "lengthscales\n",
      "kernel_variance\n",
      "likelihood_variance\n",
      "total run time : 0.80 seconds\n",
      "------------------------------\n",
      "121 / 363\n",
      "            x          y        t       date         lon        lat\n",
      "354 -600000.0  2400000.0  18326.0 2020-03-05 -165.963757  67.700048\n",
      "'_update_global_data': 0.001 seconds\n",
      "'local_data_select': 0.002 seconds\n",
      "number obs: 18\n",
      "'_max_dist_bool': 0.013 seconds\n",
      "'_from_dataframe': 0.014 seconds\n",
      "found GPU\n",
      "setting lengthscales to: [1. 1. 1.]\n",
      "'__init__': 0.137 seconds\n",
      "'_read_params_from_file': 0.079 seconds\n",
      "'set_parameters': 0.006 seconds\n",
      "'load_params': 0.086 seconds\n",
      "'set_lengthscales_constraints': 0.006 seconds\n",
      "*** not optimising parameters\n",
      "'get_parameters': 0.004 seconds\n",
      "parameters:\n",
      "lengthscales: array([ 4.11102394, 10.94955376,  0.99982096]) \n",
      "kernel_variance: 0.0007010726506846561\n",
      "likelihood_variance: 0.006000000000000003\n",
      "'predict': 0.049 seconds\n"
     ]
    },
    {
     "name": "stderr",
     "output_type": "stream",
     "text": [
      "2023-06-05 17:58:43.004654: I tensorflow/core/common_runtime/gpu/gpu_device.cc:1616] Created device /device:GPU:0 with 6261 MB memory:  -> device: 0, name: NVIDIA GeForce RTX 2080, pci bus id: 0000:17:00.0, compute capability: 7.5\n",
      "2023-06-05 17:58:43.005899: I tensorflow/core/common_runtime/gpu/gpu_device.cc:1616] Created device /device:GPU:1 with 4157 MB memory:  -> device: 1, name: NVIDIA GeForce RTX 2080, pci bus id: 0000:65:00.0, compute capability: 7.5\n"
     ]
    },
    {
     "name": "stdout",
     "output_type": "stream",
     "text": [
      "total run time : 0.65 seconds\n",
      "------------------------------\n",
      "122 / 363\n",
      "            x          y        t       date         lon        lat\n",
      "353 -800000.0  2400000.0  18326.0 2020-03-05 -161.565051  67.188426\n",
      "'_update_global_data': 0.001 seconds\n",
      "'local_data_select': 0.002 seconds\n",
      "number obs: 9\n",
      "'_max_dist_bool': 0.013 seconds\n",
      "'_from_dataframe': 0.015 seconds\n",
      "found GPU\n",
      "setting lengthscales to: [1. 1. 1.]\n",
      "'__init__': 0.178 seconds\n"
     ]
    },
    {
     "name": "stderr",
     "output_type": "stream",
     "text": [
      "2023-06-05 17:58:43.695718: I tensorflow/core/common_runtime/gpu/gpu_device.cc:1616] Created device /device:GPU:0 with 6261 MB memory:  -> device: 0, name: NVIDIA GeForce RTX 2080, pci bus id: 0000:17:00.0, compute capability: 7.5\n",
      "2023-06-05 17:58:43.696702: I tensorflow/core/common_runtime/gpu/gpu_device.cc:1616] Created device /device:GPU:1 with 4157 MB memory:  -> device: 1, name: NVIDIA GeForce RTX 2080, pci bus id: 0000:65:00.0, compute capability: 7.5\n"
     ]
    },
    {
     "name": "stdout",
     "output_type": "stream",
     "text": [
      "'_read_params_from_file': 0.079 seconds\n",
      "'set_parameters': 0.013 seconds\n",
      "'load_params': 0.093 seconds\n",
      "'set_lengthscales_constraints': 0.010 seconds\n",
      "*** not optimising parameters\n",
      "'get_parameters': 0.004 seconds\n",
      "parameters:\n",
      "lengthscales: array([ 2.56630715, 10.61201624,  0.99990021]) \n",
      "kernel_variance: 0.000533635315913893\n",
      "likelihood_variance: 0.006000000000000003\n",
      "'predict': 0.047 seconds\n",
      "total run time : 0.70 seconds\n",
      "------------------------------\n",
      "123 / 363\n",
      "            x          y        t       date         lon        lat\n",
      "352  800000.0  2200000.0  18326.0 2020-03-05  160.016893  68.913437\n",
      "'_update_global_data': 0.001 seconds\n",
      "'local_data_select': 0.002 seconds\n",
      "number obs: 4\n",
      "'_max_dist_bool': 0.013 seconds\n",
      "'_from_dataframe': 0.015 seconds\n",
      "found GPU\n",
      "setting lengthscales to: [1. 1. 1.]\n",
      "'__init__': 0.156 seconds\n"
     ]
    },
    {
     "name": "stderr",
     "output_type": "stream",
     "text": [
      "2023-06-05 17:58:44.385979: I tensorflow/core/common_runtime/gpu/gpu_device.cc:1616] Created device /device:GPU:0 with 6261 MB memory:  -> device: 0, name: NVIDIA GeForce RTX 2080, pci bus id: 0000:17:00.0, compute capability: 7.5\n",
      "2023-06-05 17:58:44.387135: I tensorflow/core/common_runtime/gpu/gpu_device.cc:1616] Created device /device:GPU:1 with 4157 MB memory:  -> device: 1, name: NVIDIA GeForce RTX 2080, pci bus id: 0000:65:00.0, compute capability: 7.5\n"
     ]
    },
    {
     "name": "stdout",
     "output_type": "stream",
     "text": [
      "'_read_params_from_file': 0.078 seconds\n",
      "'set_parameters': 0.006 seconds\n",
      "'load_params': 0.085 seconds\n",
      "'set_lengthscales_constraints': 0.006 seconds\n",
      "*** not optimising parameters\n",
      "'get_parameters': 0.004 seconds\n",
      "parameters:\n",
      "lengthscales: array([6.39227522, 3.76618255, 1.00085138]) \n",
      "kernel_variance: 0.00028302109927009843\n",
      "likelihood_variance: 0.006000000000000003\n",
      "'predict': 0.046 seconds\n",
      "total run time : 0.66 seconds\n",
      "------------------------------\n",
      "124 / 363\n",
      "            x          y        t       date         lon        lat\n",
      "351  600000.0  2200000.0  18326.0 2020-03-05  164.744881  69.465665\n",
      "'_update_global_data': 0.001 seconds\n",
      "'local_data_select': 0.002 seconds\n",
      "number obs: 16\n",
      "'_max_dist_bool': 0.013 seconds\n",
      "'_from_dataframe': 0.015 seconds\n",
      "found GPU\n",
      "setting lengthscales to: [1. 1. 1.]\n"
     ]
    },
    {
     "name": "stderr",
     "output_type": "stream",
     "text": [
      "2023-06-05 17:58:45.088038: I tensorflow/core/common_runtime/gpu/gpu_device.cc:1616] Created device /device:GPU:0 with 6261 MB memory:  -> device: 0, name: NVIDIA GeForce RTX 2080, pci bus id: 0000:17:00.0, compute capability: 7.5\n",
      "2023-06-05 17:58:45.089657: I tensorflow/core/common_runtime/gpu/gpu_device.cc:1616] Created device /device:GPU:1 with 4157 MB memory:  -> device: 1, name: NVIDIA GeForce RTX 2080, pci bus id: 0000:65:00.0, compute capability: 7.5\n"
     ]
    },
    {
     "name": "stdout",
     "output_type": "stream",
     "text": [
      "'__init__': 0.196 seconds\n",
      "'_read_params_from_file': 0.095 seconds\n",
      "'set_parameters': 0.006 seconds\n",
      "'load_params': 0.103 seconds\n",
      "'set_lengthscales_constraints': 0.006 seconds\n",
      "*** not optimising parameters\n",
      "'get_parameters': 0.004 seconds\n",
      "parameters:\n",
      "lengthscales: array([7.85774184, 3.8828413 , 1.00095035]) \n",
      "kernel_variance: 0.0004413212897967515\n",
      "likelihood_variance: 0.006000000000000003\n",
      "'predict': 0.047 seconds\n",
      "total run time : 0.73 seconds\n",
      "------------------------------\n",
      "125 / 363\n",
      "            x          y        t       date         lon        lat\n",
      "350  400000.0  2200000.0  18326.0 2020-03-05  169.695154  69.868945\n",
      "'_update_global_data': 0.001 seconds\n",
      "'local_data_select': 0.002 seconds\n",
      "number obs: 23\n",
      "'_max_dist_bool': 0.013 seconds\n",
      "'_from_dataframe': 0.015 seconds\n",
      "found GPU\n",
      "setting lengthscales to: [1. 1. 1.]\n",
      "'__init__': 0.137 seconds\n"
     ]
    },
    {
     "name": "stderr",
     "output_type": "stream",
     "text": [
      "2023-06-05 17:58:45.756885: I tensorflow/core/common_runtime/gpu/gpu_device.cc:1616] Created device /device:GPU:0 with 6261 MB memory:  -> device: 0, name: NVIDIA GeForce RTX 2080, pci bus id: 0000:17:00.0, compute capability: 7.5\n",
      "2023-06-05 17:58:45.757963: I tensorflow/core/common_runtime/gpu/gpu_device.cc:1616] Created device /device:GPU:1 with 4157 MB memory:  -> device: 1, name: NVIDIA GeForce RTX 2080, pci bus id: 0000:65:00.0, compute capability: 7.5\n"
     ]
    },
    {
     "name": "stdout",
     "output_type": "stream",
     "text": [
      "'_read_params_from_file': 0.079 seconds\n",
      "'set_parameters': 0.006 seconds\n",
      "'load_params': 0.086 seconds\n",
      "'set_lengthscales_constraints': 0.006 seconds\n",
      "*** not optimising parameters\n",
      "'get_parameters': 0.004 seconds\n",
      "parameters:\n",
      "lengthscales: array([8.1812035 , 3.90414812, 1.00070501]) \n",
      "kernel_variance: 0.0006792837115561719\n",
      "likelihood_variance: 0.006000000000000003\n",
      "'predict': 0.047 seconds\n",
      "total run time : 0.65 seconds\n",
      "------------------------------\n",
      "126 / 363\n",
      "            x          y        t       date         lon        lat\n",
      "349  200000.0  2200000.0  18326.0 2020-03-05  174.805571  70.114661\n",
      "'_update_global_data': 0.001 seconds\n",
      "'local_data_select': 0.002 seconds\n",
      "number obs: 28\n",
      "'_max_dist_bool': 0.013 seconds\n",
      "'_from_dataframe': 0.015 seconds\n",
      "found GPU\n",
      "setting lengthscales to: [1. 1. 1.]\n",
      "'__init__': 0.155 seconds\n"
     ]
    },
    {
     "name": "stderr",
     "output_type": "stream",
     "text": [
      "2023-06-05 17:58:46.425920: I tensorflow/core/common_runtime/gpu/gpu_device.cc:1616] Created device /device:GPU:0 with 6261 MB memory:  -> device: 0, name: NVIDIA GeForce RTX 2080, pci bus id: 0000:17:00.0, compute capability: 7.5\n",
      "2023-06-05 17:58:46.426977: I tensorflow/core/common_runtime/gpu/gpu_device.cc:1616] Created device /device:GPU:1 with 4157 MB memory:  -> device: 1, name: NVIDIA GeForce RTX 2080, pci bus id: 0000:65:00.0, compute capability: 7.5\n"
     ]
    },
    {
     "name": "stdout",
     "output_type": "stream",
     "text": [
      "'_read_params_from_file': 0.082 seconds\n",
      "'set_parameters': 0.006 seconds\n",
      "'load_params': 0.088 seconds\n",
      "'set_lengthscales_constraints': 0.006 seconds\n",
      "*** not optimising parameters\n",
      "'get_parameters': 0.004 seconds\n",
      "parameters:\n",
      "lengthscales: array([6.41448313, 3.46736553, 1.00035231]) \n",
      "kernel_variance: 0.0008450722800613795\n",
      "likelihood_variance: 0.006000000000000003\n",
      "'predict': 0.048 seconds\n",
      "total run time : 0.69 seconds\n",
      "------------------------------\n",
      "127 / 363\n",
      "       x          y        t       date    lon        lat\n",
      "348  0.0  2200000.0  18326.0 2020-03-05  180.0  70.197213\n",
      "'_update_global_data': 0.001 seconds\n",
      "'local_data_select': 0.002 seconds\n",
      "number obs: 24\n",
      "'_max_dist_bool': 0.013 seconds\n",
      "'_from_dataframe': 0.015 seconds\n",
      "found GPU\n",
      "setting lengthscales to: [1. 1. 1.]\n",
      "'__init__': 0.155 seconds\n"
     ]
    },
    {
     "name": "stderr",
     "output_type": "stream",
     "text": [
      "2023-06-05 17:58:47.113804: I tensorflow/core/common_runtime/gpu/gpu_device.cc:1616] Created device /device:GPU:0 with 6261 MB memory:  -> device: 0, name: NVIDIA GeForce RTX 2080, pci bus id: 0000:17:00.0, compute capability: 7.5\n",
      "2023-06-05 17:58:47.114833: I tensorflow/core/common_runtime/gpu/gpu_device.cc:1616] Created device /device:GPU:1 with 4157 MB memory:  -> device: 1, name: NVIDIA GeForce RTX 2080, pci bus id: 0000:65:00.0, compute capability: 7.5\n"
     ]
    },
    {
     "name": "stdout",
     "output_type": "stream",
     "text": [
      "'_read_params_from_file': 0.082 seconds\n",
      "'set_parameters': 0.006 seconds\n",
      "'load_params': 0.089 seconds\n",
      "'set_lengthscales_constraints': 0.006 seconds\n",
      "*** not optimising parameters\n",
      "'get_parameters': 0.004 seconds\n",
      "parameters:\n",
      "lengthscales: array([5.88687938, 4.0837539 , 0.99997023]) \n",
      "kernel_variance: 0.0008213378355746266\n",
      "likelihood_variance: 0.006000000000000003\n",
      "'predict': 0.048 seconds\n",
      "total run time : 0.69 seconds\n",
      "------------------------------\n",
      "128 / 363\n",
      "            x          y        t       date         lon        lat\n",
      "347 -200000.0  2200000.0  18326.0 2020-03-05 -174.805571  70.114661\n",
      "'_update_global_data': 0.001 seconds\n",
      "'local_data_select': 0.002 seconds\n",
      "number obs: 11\n",
      "'_max_dist_bool': 0.013 seconds\n",
      "'_from_dataframe': 0.015 seconds\n",
      "found GPU\n",
      "setting lengthscales to: [1. 1. 1.]\n",
      "'__init__': 0.167 seconds\n"
     ]
    },
    {
     "name": "stderr",
     "output_type": "stream",
     "text": [
      "2023-06-05 17:58:47.813761: I tensorflow/core/common_runtime/gpu/gpu_device.cc:1616] Created device /device:GPU:0 with 6261 MB memory:  -> device: 0, name: NVIDIA GeForce RTX 2080, pci bus id: 0000:17:00.0, compute capability: 7.5\n",
      "2023-06-05 17:58:47.814811: I tensorflow/core/common_runtime/gpu/gpu_device.cc:1616] Created device /device:GPU:1 with 4157 MB memory:  -> device: 1, name: NVIDIA GeForce RTX 2080, pci bus id: 0000:65:00.0, compute capability: 7.5\n"
     ]
    },
    {
     "name": "stdout",
     "output_type": "stream",
     "text": [
      "'_read_params_from_file': 0.078 seconds\n",
      "'set_parameters': 0.006 seconds\n",
      "'load_params': 0.085 seconds\n",
      "'set_lengthscales_constraints': 0.006 seconds\n",
      "*** not optimising parameters\n",
      "'get_parameters': 0.004 seconds\n",
      "parameters:\n",
      "lengthscales: array([7.52847178, 6.50467488, 0.99951192]) \n",
      "kernel_variance: 0.0008870052137037145\n",
      "likelihood_variance: 0.006000000000000003\n",
      "'predict': 0.047 seconds\n",
      "total run time : 0.67 seconds\n",
      "------------------------------\n",
      "129 / 363\n",
      "            x          y        t       date         lon        lat\n",
      "346 -400000.0  2200000.0  18326.0 2020-03-05 -169.695154  69.868945\n",
      "'_update_global_data': 0.001 seconds\n",
      "'local_data_select': 0.002 seconds\n",
      "number obs: 19\n",
      "'_max_dist_bool': 0.013 seconds\n",
      "'_from_dataframe': 0.015 seconds\n",
      "found GPU\n",
      "setting lengthscales to: [1. 1. 1.]\n",
      "'__init__': 0.156 seconds\n"
     ]
    },
    {
     "name": "stderr",
     "output_type": "stream",
     "text": [
      "2023-06-05 17:58:48.477777: I tensorflow/core/common_runtime/gpu/gpu_device.cc:1616] Created device /device:GPU:0 with 6261 MB memory:  -> device: 0, name: NVIDIA GeForce RTX 2080, pci bus id: 0000:17:00.0, compute capability: 7.5\n",
      "2023-06-05 17:58:48.478831: I tensorflow/core/common_runtime/gpu/gpu_device.cc:1616] Created device /device:GPU:1 with 4157 MB memory:  -> device: 1, name: NVIDIA GeForce RTX 2080, pci bus id: 0000:65:00.0, compute capability: 7.5\n"
     ]
    },
    {
     "name": "stdout",
     "output_type": "stream",
     "text": [
      "'_read_params_from_file': 0.081 seconds\n",
      "'set_parameters': 0.006 seconds\n",
      "'load_params': 0.088 seconds\n",
      "'set_lengthscales_constraints': 0.006 seconds\n",
      "*** not optimising parameters\n",
      "'get_parameters': 0.004 seconds\n",
      "parameters:\n",
      "lengthscales: array([7.82323108, 9.65387272, 0.99904563]) \n",
      "kernel_variance: 0.0010281511805026761\n",
      "likelihood_variance: 0.006000000000000003\n",
      "'predict': 0.047 seconds\n",
      "total run time : 0.67 seconds\n",
      "------------------------------\n",
      "130 / 363\n",
      "            x          y        t       date         lon        lat\n",
      "345 -600000.0  2200000.0  18326.0 2020-03-05 -164.744881  69.465665\n",
      "'_update_global_data': 0.001 seconds\n",
      "'local_data_select': 0.002 seconds\n",
      "number obs: 23\n",
      "'_max_dist_bool': 0.013 seconds\n",
      "'_from_dataframe': 0.015 seconds\n",
      "found GPU\n",
      "setting lengthscales to: [1. 1. 1.]\n",
      "'__init__': 0.183 seconds\n"
     ]
    },
    {
     "name": "stderr",
     "output_type": "stream",
     "text": [
      "2023-06-05 17:58:49.177583: I tensorflow/core/common_runtime/gpu/gpu_device.cc:1616] Created device /device:GPU:0 with 6261 MB memory:  -> device: 0, name: NVIDIA GeForce RTX 2080, pci bus id: 0000:17:00.0, compute capability: 7.5\n",
      "2023-06-05 17:58:49.178638: I tensorflow/core/common_runtime/gpu/gpu_device.cc:1616] Created device /device:GPU:1 with 4157 MB memory:  -> device: 1, name: NVIDIA GeForce RTX 2080, pci bus id: 0000:65:00.0, compute capability: 7.5\n"
     ]
    },
    {
     "name": "stdout",
     "output_type": "stream",
     "text": [
      "'_read_params_from_file': 0.078 seconds\n",
      "'set_parameters': 0.006 seconds\n",
      "'load_params': 0.085 seconds\n",
      "'set_lengthscales_constraints': 0.005 seconds\n",
      "*** not optimising parameters\n",
      "'get_parameters': 0.004 seconds\n",
      "parameters:\n",
      "lengthscales: array([ 6.14168272, 11.13709864,  0.99895973]) \n",
      "kernel_variance: 0.0009720901413671254\n",
      "likelihood_variance: 0.006000000000000003\n",
      "'predict': 0.046 seconds\n",
      "SAVING RESULTS\n",
      "run_details\n",
      "preds\n",
      "lengthscales\n",
      "kernel_variance\n",
      "likelihood_variance\n",
      "total run time : 0.85 seconds\n",
      "------------------------------\n",
      "131 / 363\n",
      "            x          y        t       date         lon        lat\n",
      "344 -800000.0  2200000.0  18326.0 2020-03-05 -160.016893  68.913437\n",
      "'_update_global_data': 0.001 seconds\n",
      "'local_data_select': 0.002 seconds\n",
      "number obs: 14\n",
      "'_max_dist_bool': 0.013 seconds\n",
      "'_from_dataframe': 0.014 seconds\n",
      "found GPU\n",
      "setting lengthscales to: [1. 1. 1.]\n",
      "'__init__': 0.154 seconds\n",
      "'_read_params_from_file': 0.079 seconds\n",
      "'set_parameters': 0.006 seconds\n",
      "'load_params': 0.085 seconds\n",
      "'set_lengthscales_constraints': 0.006 seconds\n",
      "*** not optimising parameters\n",
      "'get_parameters': 0.010 seconds\n",
      "parameters:\n",
      "lengthscales: array([ 4.62254847, 10.55525999,  0.99932656]) \n",
      "kernel_variance: 0.0007512224399240311\n",
      "likelihood_variance: 0.006000000000000003\n",
      "'predict': 0.053 seconds\n"
     ]
    },
    {
     "name": "stderr",
     "output_type": "stream",
     "text": [
      "2023-06-05 17:58:50.006564: I tensorflow/core/common_runtime/gpu/gpu_device.cc:1616] Created device /device:GPU:0 with 6261 MB memory:  -> device: 0, name: NVIDIA GeForce RTX 2080, pci bus id: 0000:17:00.0, compute capability: 7.5\n",
      "2023-06-05 17:58:50.007748: I tensorflow/core/common_runtime/gpu/gpu_device.cc:1616] Created device /device:GPU:1 with 4157 MB memory:  -> device: 1, name: NVIDIA GeForce RTX 2080, pci bus id: 0000:65:00.0, compute capability: 7.5\n"
     ]
    },
    {
     "name": "stdout",
     "output_type": "stream",
     "text": [
      "total run time : 0.68 seconds\n",
      "------------------------------\n",
      "132 / 363\n",
      "             x          y        t       date         lon        lat\n",
      "343  1000000.0  2000000.0  18326.0 2020-03-05  153.434949  69.868945\n",
      "'_update_global_data': 0.001 seconds\n",
      "'local_data_select': 0.002 seconds\n",
      "number obs: 7\n",
      "'_max_dist_bool': 0.012 seconds\n",
      "'_from_dataframe': 0.014 seconds\n",
      "found GPU\n",
      "setting lengthscales to: [1. 1. 1.]\n",
      "'__init__': 0.166 seconds\n"
     ]
    },
    {
     "name": "stderr",
     "output_type": "stream",
     "text": [
      "2023-06-05 17:58:50.697937: I tensorflow/core/common_runtime/gpu/gpu_device.cc:1616] Created device /device:GPU:0 with 6261 MB memory:  -> device: 0, name: NVIDIA GeForce RTX 2080, pci bus id: 0000:17:00.0, compute capability: 7.5\n",
      "2023-06-05 17:58:50.699055: I tensorflow/core/common_runtime/gpu/gpu_device.cc:1616] Created device /device:GPU:1 with 4157 MB memory:  -> device: 1, name: NVIDIA GeForce RTX 2080, pci bus id: 0000:65:00.0, compute capability: 7.5\n"
     ]
    },
    {
     "name": "stdout",
     "output_type": "stream",
     "text": [
      "'_read_params_from_file': 0.098 seconds\n",
      "'set_parameters': 0.011 seconds\n",
      "'load_params': 0.111 seconds\n",
      "'set_lengthscales_constraints': 0.015 seconds\n",
      "*** not optimising parameters\n",
      "'get_parameters': 0.004 seconds\n",
      "parameters:\n",
      "lengthscales: array([7.43058509, 6.922154  , 1.00067959]) \n",
      "kernel_variance: 0.00035297818286590573\n",
      "likelihood_variance: 0.006000000000000003\n",
      "'predict': 0.045 seconds\n",
      "total run time : 0.72 seconds\n",
      "------------------------------\n",
      "133 / 363\n",
      "            x          y        t       date         lon        lat\n",
      "342  800000.0  2000000.0  18326.0 2020-03-05  158.198591  70.615022\n",
      "'_update_global_data': 0.001 seconds\n",
      "'local_data_select': 0.002 seconds\n",
      "number obs: 17\n",
      "'_max_dist_bool': 0.013 seconds\n",
      "'_from_dataframe': 0.015 seconds\n",
      "found GPU\n",
      "setting lengthscales to: [1. 1. 1.]\n",
      "'__init__': 0.121 seconds\n"
     ]
    },
    {
     "name": "stderr",
     "output_type": "stream",
     "text": [
      "2023-06-05 17:58:51.383540: I tensorflow/core/common_runtime/gpu/gpu_device.cc:1616] Created device /device:GPU:0 with 6261 MB memory:  -> device: 0, name: NVIDIA GeForce RTX 2080, pci bus id: 0000:17:00.0, compute capability: 7.5\n",
      "2023-06-05 17:58:51.383960: I tensorflow/core/common_runtime/gpu/gpu_device.cc:1616] Created device /device:GPU:1 with 4157 MB memory:  -> device: 1, name: NVIDIA GeForce RTX 2080, pci bus id: 0000:65:00.0, compute capability: 7.5\n"
     ]
    },
    {
     "name": "stdout",
     "output_type": "stream",
     "text": [
      "'_read_params_from_file': 0.078 seconds\n",
      "'set_parameters': 0.006 seconds\n",
      "'load_params': 0.085 seconds\n",
      "'set_lengthscales_constraints': 0.006 seconds\n",
      "*** not optimising parameters\n",
      "'get_parameters': 0.004 seconds\n",
      "parameters:\n",
      "lengthscales: array([8.71500739, 6.35527852, 1.00172694]) \n",
      "kernel_variance: 0.0004885068944979365\n",
      "likelihood_variance: 0.006000000000000003\n",
      "'predict': 0.047 seconds\n",
      "total run time : 0.63 seconds\n",
      "------------------------------\n",
      "134 / 363\n",
      "             x          y        t       date         lon        lat\n",
      "319 -1200000.0  1800000.0  18326.0 2020-03-05 -146.309932  70.530773\n",
      "'_update_global_data': 0.001 seconds\n",
      "'local_data_select': 0.002 seconds\n",
      "number obs: 21\n",
      "'_max_dist_bool': 0.013 seconds\n",
      "'_from_dataframe': 0.015 seconds\n",
      "found GPU\n",
      "setting lengthscales to: [1. 1. 1.]\n",
      "'__init__': 0.164 seconds\n"
     ]
    },
    {
     "name": "stderr",
     "output_type": "stream",
     "text": [
      "2023-06-05 17:58:52.034705: I tensorflow/core/common_runtime/gpu/gpu_device.cc:1616] Created device /device:GPU:0 with 6261 MB memory:  -> device: 0, name: NVIDIA GeForce RTX 2080, pci bus id: 0000:17:00.0, compute capability: 7.5\n",
      "2023-06-05 17:58:52.035902: I tensorflow/core/common_runtime/gpu/gpu_device.cc:1616] Created device /device:GPU:1 with 4157 MB memory:  -> device: 1, name: NVIDIA GeForce RTX 2080, pci bus id: 0000:65:00.0, compute capability: 7.5\n"
     ]
    },
    {
     "name": "stdout",
     "output_type": "stream",
     "text": [
      "'_read_params_from_file': 0.080 seconds\n",
      "'set_parameters': 0.006 seconds\n",
      "'load_params': 0.088 seconds\n",
      "'set_lengthscales_constraints': 0.006 seconds\n",
      "*** not optimising parameters\n",
      "'get_parameters': 0.004 seconds\n",
      "parameters:\n",
      "lengthscales: array([9.69836981, 6.85823425, 1.00063023]) \n",
      "kernel_variance: 0.0009061137397651179\n",
      "likelihood_variance: 0.006000000000000003\n",
      "'predict': 0.046 seconds\n",
      "total run time : 0.67 seconds\n",
      "------------------------------\n",
      "135 / 363\n",
      "             x          y        t       date         lon        lat\n",
      "318 -1400000.0  1800000.0  18326.0 2020-03-05 -142.125016  69.465665\n",
      "'_update_global_data': 0.001 seconds\n",
      "'local_data_select': 0.002 seconds\n",
      "number obs: 15\n",
      "'_max_dist_bool': 0.013 seconds\n",
      "'_from_dataframe': 0.015 seconds\n",
      "found GPU\n",
      "setting lengthscales to: [1. 1. 1.]\n",
      "'__init__': 0.165 seconds\n"
     ]
    },
    {
     "name": "stderr",
     "output_type": "stream",
     "text": [
      "2023-06-05 17:58:52.706827: I tensorflow/core/common_runtime/gpu/gpu_device.cc:1616] Created device /device:GPU:0 with 6261 MB memory:  -> device: 0, name: NVIDIA GeForce RTX 2080, pci bus id: 0000:17:00.0, compute capability: 7.5\n",
      "2023-06-05 17:58:52.708021: I tensorflow/core/common_runtime/gpu/gpu_device.cc:1616] Created device /device:GPU:1 with 4157 MB memory:  -> device: 1, name: NVIDIA GeForce RTX 2080, pci bus id: 0000:65:00.0, compute capability: 7.5\n"
     ]
    },
    {
     "name": "stdout",
     "output_type": "stream",
     "text": [
      "'_read_params_from_file': 0.097 seconds\n",
      "'set_parameters': 0.006 seconds\n",
      "'load_params': 0.104 seconds\n",
      "'set_lengthscales_constraints': 0.006 seconds\n",
      "*** not optimising parameters\n",
      "'get_parameters': 0.010 seconds\n",
      "parameters:\n",
      "lengthscales: array([9.53321853, 5.60380487, 1.00003775]) \n",
      "kernel_variance: 0.0009220615741891799\n",
      "likelihood_variance: 0.006000000000000003\n",
      "'predict': 0.086 seconds\n",
      "total run time : 0.74 seconds\n",
      "------------------------------\n",
      "136 / 363\n",
      "             x          y        t       date         lon        lat\n",
      "317 -1600000.0  1800000.0  18326.0 2020-03-05 -138.366461  68.298699\n",
      "'_update_global_data': 0.001 seconds\n",
      "'local_data_select': 0.002 seconds\n",
      "number obs: 10\n",
      "'_max_dist_bool': 0.013 seconds\n",
      "'_from_dataframe': 0.015 seconds\n",
      "found GPU\n",
      "setting lengthscales to: [1. 1. 1.]\n",
      "'__init__': 0.162 seconds\n"
     ]
    },
    {
     "name": "stderr",
     "output_type": "stream",
     "text": [
      "2023-06-05 17:58:53.442361: I tensorflow/core/common_runtime/gpu/gpu_device.cc:1616] Created device /device:GPU:0 with 6261 MB memory:  -> device: 0, name: NVIDIA GeForce RTX 2080, pci bus id: 0000:17:00.0, compute capability: 7.5\n",
      "2023-06-05 17:58:53.443709: I tensorflow/core/common_runtime/gpu/gpu_device.cc:1616] Created device /device:GPU:1 with 4157 MB memory:  -> device: 1, name: NVIDIA GeForce RTX 2080, pci bus id: 0000:65:00.0, compute capability: 7.5\n"
     ]
    },
    {
     "name": "stdout",
     "output_type": "stream",
     "text": [
      "'_read_params_from_file': 0.080 seconds\n",
      "'set_parameters': 0.006 seconds\n",
      "'load_params': 0.087 seconds\n",
      "'set_lengthscales_constraints': 0.006 seconds\n",
      "*** not optimising parameters\n",
      "'get_parameters': 0.004 seconds\n",
      "parameters:\n",
      "lengthscales: array([7.91413614, 4.94379004, 0.9995628 ]) \n",
      "kernel_variance: 0.0007477412109711137\n",
      "likelihood_variance: 0.006000000000000003\n",
      "'predict': 0.046 seconds\n",
      "total run time : 0.67 seconds\n",
      "------------------------------\n",
      "137 / 363\n",
      "             x          y        t       date         lon        lat\n",
      "316  1400000.0  1600000.0  18326.0 2020-03-05  138.814075  70.869902\n",
      "'_update_global_data': 0.001 seconds\n",
      "'local_data_select': 0.002 seconds\n",
      "number obs: 5\n",
      "'_max_dist_bool': 0.013 seconds\n",
      "'_from_dataframe': 0.015 seconds\n",
      "found GPU\n",
      "setting lengthscales to: [1. 1. 1.]\n",
      "'__init__': 0.153 seconds\n"
     ]
    },
    {
     "name": "stderr",
     "output_type": "stream",
     "text": [
      "2023-06-05 17:58:54.109743: I tensorflow/core/common_runtime/gpu/gpu_device.cc:1616] Created device /device:GPU:0 with 6261 MB memory:  -> device: 0, name: NVIDIA GeForce RTX 2080, pci bus id: 0000:17:00.0, compute capability: 7.5\n",
      "2023-06-05 17:58:54.110848: I tensorflow/core/common_runtime/gpu/gpu_device.cc:1616] Created device /device:GPU:1 with 4157 MB memory:  -> device: 1, name: NVIDIA GeForce RTX 2080, pci bus id: 0000:65:00.0, compute capability: 7.5\n"
     ]
    },
    {
     "name": "stdout",
     "output_type": "stream",
     "text": [
      "'_read_params_from_file': 0.080 seconds\n",
      "'set_parameters': 0.006 seconds\n",
      "'load_params': 0.087 seconds\n",
      "'set_lengthscales_constraints': 0.006 seconds\n",
      "*** not optimising parameters\n",
      "'get_parameters': 0.004 seconds\n",
      "parameters:\n",
      "lengthscales: array([11.11630911, 10.97371031,  1.00046892]) \n",
      "kernel_variance: 0.0007163471722720444\n",
      "likelihood_variance: 0.006000000000000003\n",
      "'predict': 0.061 seconds\n",
      "total run time : 0.67 seconds\n",
      "------------------------------\n",
      "138 / 363\n",
      "            x          y        t       date         lon        lat\n",
      "292  200000.0  1400000.0  18326.0 2020-03-05  171.869898  77.310512\n",
      "'_update_global_data': 0.001 seconds\n",
      "'local_data_select': 0.002 seconds\n",
      "number obs: 69\n",
      "'_max_dist_bool': 0.013 seconds\n",
      "'_from_dataframe': 0.015 seconds\n",
      "found GPU\n",
      "setting lengthscales to: [1. 1. 1.]\n",
      "'__init__': 0.159 seconds\n"
     ]
    },
    {
     "name": "stderr",
     "output_type": "stream",
     "text": [
      "2023-06-05 17:58:54.785841: I tensorflow/core/common_runtime/gpu/gpu_device.cc:1616] Created device /device:GPU:0 with 6261 MB memory:  -> device: 0, name: NVIDIA GeForce RTX 2080, pci bus id: 0000:17:00.0, compute capability: 7.5\n",
      "2023-06-05 17:58:54.786913: I tensorflow/core/common_runtime/gpu/gpu_device.cc:1616] Created device /device:GPU:1 with 4157 MB memory:  -> device: 1, name: NVIDIA GeForce RTX 2080, pci bus id: 0000:65:00.0, compute capability: 7.5\n"
     ]
    },
    {
     "name": "stdout",
     "output_type": "stream",
     "text": [
      "'_read_params_from_file': 0.079 seconds\n",
      "'set_parameters': 0.006 seconds\n",
      "'load_params': 0.086 seconds\n",
      "'set_lengthscales_constraints': 0.006 seconds\n",
      "*** not optimising parameters\n",
      "'get_parameters': 0.004 seconds\n",
      "parameters:\n",
      "lengthscales: array([10.78323833, 11.07589124,  1.00005836]) \n",
      "kernel_variance: 0.0004985278053455909\n",
      "likelihood_variance: 0.006000000000000003\n",
      "'predict': 0.047 seconds\n",
      "total run time : 0.66 seconds\n",
      "------------------------------\n",
      "139 / 363\n",
      "       x          y        t       date    lon        lat\n",
      "291  0.0  1400000.0  18326.0 2020-03-05  180.0  77.438605\n",
      "'_update_global_data': 0.001 seconds\n",
      "'local_data_select': 0.002 seconds\n",
      "number obs: 62\n",
      "'_max_dist_bool': 0.013 seconds\n",
      "'_from_dataframe': 0.015 seconds\n",
      "found GPU\n",
      "setting lengthscales to: [1. 1. 1.]\n",
      "'__init__': 0.151 seconds\n"
     ]
    },
    {
     "name": "stderr",
     "output_type": "stream",
     "text": [
      "2023-06-05 17:58:55.445722: I tensorflow/core/common_runtime/gpu/gpu_device.cc:1616] Created device /device:GPU:0 with 6261 MB memory:  -> device: 0, name: NVIDIA GeForce RTX 2080, pci bus id: 0000:17:00.0, compute capability: 7.5\n",
      "2023-06-05 17:58:55.446820: I tensorflow/core/common_runtime/gpu/gpu_device.cc:1616] Created device /device:GPU:1 with 4157 MB memory:  -> device: 1, name: NVIDIA GeForce RTX 2080, pci bus id: 0000:65:00.0, compute capability: 7.5\n"
     ]
    },
    {
     "name": "stdout",
     "output_type": "stream",
     "text": [
      "'_read_params_from_file': 0.080 seconds\n",
      "'set_parameters': 0.006 seconds\n",
      "'load_params': 0.086 seconds\n",
      "'set_lengthscales_constraints': 0.006 seconds\n",
      "*** not optimising parameters\n",
      "'get_parameters': 0.004 seconds\n",
      "parameters:\n",
      "lengthscales: array([10.60629302, 10.52883408,  1.00046938]) \n",
      "kernel_variance: 0.0006791647013529745\n",
      "likelihood_variance: 0.006000000000000003\n",
      "'predict': 0.055 seconds\n",
      "total run time : 0.68 seconds\n",
      "------------------------------\n",
      "140 / 363\n",
      "            x          y        t       date         lon        lat\n",
      "290 -200000.0  1400000.0  18326.0 2020-03-05 -171.869898  77.310512\n",
      "'_update_global_data': 0.001 seconds\n",
      "'local_data_select': 0.002 seconds\n",
      "number obs: 65\n",
      "'_max_dist_bool': 0.013 seconds\n",
      "'_from_dataframe': 0.015 seconds\n",
      "found GPU\n",
      "setting lengthscales to: [1. 1. 1.]\n",
      "'__init__': 0.157 seconds\n"
     ]
    },
    {
     "name": "stderr",
     "output_type": "stream",
     "text": [
      "2023-06-05 17:58:56.129671: I tensorflow/core/common_runtime/gpu/gpu_device.cc:1616] Created device /device:GPU:0 with 6261 MB memory:  -> device: 0, name: NVIDIA GeForce RTX 2080, pci bus id: 0000:17:00.0, compute capability: 7.5\n",
      "2023-06-05 17:58:56.130737: I tensorflow/core/common_runtime/gpu/gpu_device.cc:1616] Created device /device:GPU:1 with 4157 MB memory:  -> device: 1, name: NVIDIA GeForce RTX 2080, pci bus id: 0000:65:00.0, compute capability: 7.5\n"
     ]
    },
    {
     "name": "stdout",
     "output_type": "stream",
     "text": [
      "'_read_params_from_file': 0.094 seconds\n",
      "'set_parameters': 0.006 seconds\n",
      "'load_params': 0.101 seconds\n",
      "'set_lengthscales_constraints': 0.006 seconds\n",
      "*** not optimising parameters\n",
      "'get_parameters': 0.004 seconds\n",
      "parameters:\n",
      "lengthscales: array([10.60146114, 10.73342468,  0.9988245 ]) \n",
      "kernel_variance: 0.0009471022495933669\n",
      "likelihood_variance: 0.006000000000000003\n",
      "'predict': 0.047 seconds\n",
      "SAVING RESULTS\n",
      "run_details\n",
      "preds\n",
      "lengthscales\n",
      "kernel_variance\n",
      "likelihood_variance\n",
      "total run time : 0.89 seconds\n",
      "------------------------------\n",
      "141 / 363\n",
      "            x          y        t       date         lon        lat\n",
      "289 -400000.0  1400000.0  18326.0 2020-03-05 -164.054604  76.933635\n",
      "'_update_global_data': 0.001 seconds\n",
      "'local_data_select': 0.002 seconds\n",
      "number obs: 54\n",
      "'_max_dist_bool': 0.013 seconds\n",
      "'_from_dataframe': 0.015 seconds\n",
      "found GPU\n",
      "setting lengthscales to: [1. 1. 1.]\n",
      "'__init__': 0.168 seconds\n"
     ]
    },
    {
     "name": "stderr",
     "output_type": "stream",
     "text": [
      "2023-06-05 17:58:57.031141: I tensorflow/core/common_runtime/gpu/gpu_device.cc:1616] Created device /device:GPU:0 with 6261 MB memory:  -> device: 0, name: NVIDIA GeForce RTX 2080, pci bus id: 0000:17:00.0, compute capability: 7.5\n",
      "2023-06-05 17:58:57.032392: I tensorflow/core/common_runtime/gpu/gpu_device.cc:1616] Created device /device:GPU:1 with 4157 MB memory:  -> device: 1, name: NVIDIA GeForce RTX 2080, pci bus id: 0000:65:00.0, compute capability: 7.5\n"
     ]
    },
    {
     "name": "stdout",
     "output_type": "stream",
     "text": [
      "'_read_params_from_file': 0.083 seconds\n",
      "'set_parameters': 0.007 seconds\n",
      "'load_params': 0.091 seconds\n",
      "'set_lengthscales_constraints': 0.006 seconds\n",
      "*** not optimising parameters\n",
      "'get_parameters': 0.007 seconds\n",
      "parameters:\n",
      "lengthscales: array([10.70109268, 10.96456276,  0.99819064]) \n",
      "kernel_variance: 0.001173100989994971\n",
      "likelihood_variance: 0.006000000000000003\n",
      "'predict': 0.074 seconds\n",
      "total run time : 0.74 seconds\n",
      "------------------------------\n",
      "142 / 363\n",
      "            x          y        t       date         lon        lat\n",
      "288 -600000.0  1400000.0  18326.0 2020-03-05 -156.801409  76.328153\n",
      "'_update_global_data': 0.001 seconds\n",
      "'local_data_select': 0.002 seconds\n",
      "number obs: 47\n",
      "'_max_dist_bool': 0.012 seconds\n",
      "'_from_dataframe': 0.014 seconds\n",
      "found GPU\n",
      "setting lengthscales to: [1. 1. 1.]\n",
      "'__init__': 0.163 seconds\n"
     ]
    },
    {
     "name": "stderr",
     "output_type": "stream",
     "text": [
      "2023-06-05 17:58:57.763075: I tensorflow/core/common_runtime/gpu/gpu_device.cc:1616] Created device /device:GPU:0 with 6261 MB memory:  -> device: 0, name: NVIDIA GeForce RTX 2080, pci bus id: 0000:17:00.0, compute capability: 7.5\n",
      "2023-06-05 17:58:57.764393: I tensorflow/core/common_runtime/gpu/gpu_device.cc:1616] Created device /device:GPU:1 with 4157 MB memory:  -> device: 1, name: NVIDIA GeForce RTX 2080, pci bus id: 0000:65:00.0, compute capability: 7.5\n"
     ]
    },
    {
     "name": "stdout",
     "output_type": "stream",
     "text": [
      "'_read_params_from_file': 0.082 seconds\n",
      "'set_parameters': 0.006 seconds\n",
      "'load_params': 0.089 seconds\n",
      "'set_lengthscales_constraints': 0.006 seconds\n",
      "*** not optimising parameters\n",
      "'get_parameters': 0.004 seconds\n",
      "parameters:\n",
      "lengthscales: array([10.19076303, 10.97177867,  0.99989886]) \n",
      "kernel_variance: 0.001390472448716783\n",
      "likelihood_variance: 0.006000000000000003\n",
      "'predict': 0.048 seconds\n",
      "total run time : 0.68 seconds\n",
      "------------------------------\n",
      "143 / 363\n",
      "            x          y        t       date         lon        lat\n",
      "287 -800000.0  1400000.0  18326.0 2020-03-05 -150.255119  75.522123\n",
      "'_update_global_data': 0.001 seconds\n",
      "'local_data_select': 0.002 seconds\n",
      "number obs: 44\n",
      "'_max_dist_bool': 0.013 seconds\n",
      "'_from_dataframe': 0.015 seconds\n",
      "found GPU\n",
      "setting lengthscales to: [1. 1. 1.]\n",
      "'__init__': 0.176 seconds\n"
     ]
    },
    {
     "name": "stderr",
     "output_type": "stream",
     "text": [
      "2023-06-05 17:58:58.469954: I tensorflow/core/common_runtime/gpu/gpu_device.cc:1616] Created device /device:GPU:0 with 6261 MB memory:  -> device: 0, name: NVIDIA GeForce RTX 2080, pci bus id: 0000:17:00.0, compute capability: 7.5\n",
      "2023-06-05 17:58:58.471074: I tensorflow/core/common_runtime/gpu/gpu_device.cc:1616] Created device /device:GPU:1 with 4157 MB memory:  -> device: 1, name: NVIDIA GeForce RTX 2080, pci bus id: 0000:65:00.0, compute capability: 7.5\n"
     ]
    },
    {
     "name": "stdout",
     "output_type": "stream",
     "text": [
      "'_read_params_from_file': 0.080 seconds\n",
      "'set_parameters': 0.006 seconds\n",
      "'load_params': 0.087 seconds\n",
      "'set_lengthscales_constraints': 0.006 seconds\n",
      "*** not optimising parameters\n",
      "'get_parameters': 0.004 seconds\n",
      "parameters:\n",
      "lengthscales: array([ 9.90731768, 10.49422235,  1.00130552]) \n",
      "kernel_variance: 0.0016960857323164232\n",
      "likelihood_variance: 0.006000000000000003\n",
      "'predict': 0.048 seconds\n",
      "total run time : 0.70 seconds\n",
      "------------------------------\n",
      "144 / 363\n",
      "             x          y        t       date         lon        lat\n",
      "286 -1000000.0  1400000.0  18326.0 2020-03-05 -144.462322  74.546108\n",
      "'_update_global_data': 0.001 seconds\n",
      "'local_data_select': 0.002 seconds\n",
      "number obs: 41\n",
      "'_max_dist_bool': 0.013 seconds\n",
      "'_from_dataframe': 0.015 seconds\n",
      "found GPU\n",
      "setting lengthscales to: [1. 1. 1.]\n",
      "'__init__': 0.157 seconds\n"
     ]
    },
    {
     "name": "stderr",
     "output_type": "stream",
     "text": [
      "2023-06-05 17:58:59.150331: I tensorflow/core/common_runtime/gpu/gpu_device.cc:1616] Created device /device:GPU:0 with 6261 MB memory:  -> device: 0, name: NVIDIA GeForce RTX 2080, pci bus id: 0000:17:00.0, compute capability: 7.5\n",
      "2023-06-05 17:58:59.151479: I tensorflow/core/common_runtime/gpu/gpu_device.cc:1616] Created device /device:GPU:1 with 4157 MB memory:  -> device: 1, name: NVIDIA GeForce RTX 2080, pci bus id: 0000:65:00.0, compute capability: 7.5\n"
     ]
    },
    {
     "name": "stdout",
     "output_type": "stream",
     "text": [
      "'_read_params_from_file': 0.094 seconds\n",
      "'set_parameters': 0.006 seconds\n",
      "'load_params': 0.101 seconds\n",
      "'set_lengthscales_constraints': 0.006 seconds\n",
      "*** not optimising parameters\n",
      "'get_parameters': 0.004 seconds\n",
      "parameters:\n",
      "lengthscales: array([10.56864839,  9.55430074,  1.00190866]) \n",
      "kernel_variance: 0.0021743239917904494\n",
      "likelihood_variance: 0.006000000000000003\n",
      "'predict': 0.063 seconds\n",
      "total run time : 0.70 seconds\n",
      "------------------------------\n",
      "145 / 363\n",
      "             x          y        t       date         lon        lat\n",
      "285 -1200000.0  1400000.0  18326.0 2020-03-05 -139.398705  73.429172\n",
      "'_update_global_data': 0.001 seconds\n",
      "'local_data_select': 0.002 seconds\n",
      "number obs: 43\n",
      "'_max_dist_bool': 0.013 seconds\n",
      "'_from_dataframe': 0.015 seconds\n",
      "found GPU\n",
      "setting lengthscales to: [1. 1. 1.]\n",
      "'__init__': 0.173 seconds\n"
     ]
    },
    {
     "name": "stderr",
     "output_type": "stream",
     "text": [
      "2023-06-05 17:58:59.869938: I tensorflow/core/common_runtime/gpu/gpu_device.cc:1616] Created device /device:GPU:0 with 6261 MB memory:  -> device: 0, name: NVIDIA GeForce RTX 2080, pci bus id: 0000:17:00.0, compute capability: 7.5\n",
      "2023-06-05 17:58:59.870947: I tensorflow/core/common_runtime/gpu/gpu_device.cc:1616] Created device /device:GPU:1 with 4157 MB memory:  -> device: 1, name: NVIDIA GeForce RTX 2080, pci bus id: 0000:65:00.0, compute capability: 7.5\n"
     ]
    },
    {
     "name": "stdout",
     "output_type": "stream",
     "text": [
      "'_read_params_from_file': 0.080 seconds\n",
      "'set_parameters': 0.006 seconds\n",
      "'load_params': 0.087 seconds\n",
      "'set_lengthscales_constraints': 0.006 seconds\n",
      "*** not optimising parameters\n",
      "'get_parameters': 0.009 seconds\n",
      "parameters:\n",
      "lengthscales: array([10.32291624,  8.46262905,  1.00253455]) \n",
      "kernel_variance: 0.002784043717152343\n",
      "likelihood_variance: 0.006000000000000003\n",
      "'predict': 0.054 seconds\n",
      "total run time : 0.70 seconds\n",
      "------------------------------\n",
      "146 / 363\n",
      "             x          y        t       date    lon        lat\n",
      "284 -1400000.0  1400000.0  18326.0 2020-03-05 -135.0  72.196733\n",
      "'_update_global_data': 0.001 seconds\n",
      "'local_data_select': 0.004 seconds\n",
      "number obs: 38\n",
      "'_max_dist_bool': 0.028 seconds\n",
      "'_from_dataframe': 0.031 seconds\n",
      "found GPU\n",
      "setting lengthscales to: [1. 1. 1.]\n"
     ]
    },
    {
     "name": "stderr",
     "output_type": "stream",
     "text": [
      "2023-06-05 17:59:00.570568: I tensorflow/core/common_runtime/gpu/gpu_device.cc:1616] Created device /device:GPU:0 with 6261 MB memory:  -> device: 0, name: NVIDIA GeForce RTX 2080, pci bus id: 0000:17:00.0, compute capability: 7.5\n",
      "2023-06-05 17:59:00.571794: I tensorflow/core/common_runtime/gpu/gpu_device.cc:1616] Created device /device:GPU:1 with 4157 MB memory:  -> device: 1, name: NVIDIA GeForce RTX 2080, pci bus id: 0000:65:00.0, compute capability: 7.5\n"
     ]
    },
    {
     "name": "stdout",
     "output_type": "stream",
     "text": [
      "'__init__': 0.170 seconds\n",
      "'_read_params_from_file': 0.107 seconds\n",
      "'set_parameters': 0.006 seconds\n",
      "'load_params': 0.115 seconds\n",
      "'set_lengthscales_constraints': 0.006 seconds\n",
      "*** not optimising parameters\n",
      "'get_parameters': 0.009 seconds\n",
      "parameters:\n",
      "lengthscales: array([8.29856969, 6.84115092, 1.00263797]) \n",
      "kernel_variance: 0.0032140832179391073\n",
      "likelihood_variance: 0.006000000000000003\n",
      "'predict': 0.060 seconds\n",
      "total run time : 0.75 seconds\n",
      "------------------------------\n",
      "147 / 363\n",
      "             x          y        t       date         lon        lat\n",
      "283 -1600000.0  1400000.0  18326.0 2020-03-05 -131.185925  70.869902\n",
      "'_update_global_data': 0.001 seconds\n",
      "'local_data_select': 0.002 seconds\n",
      "number obs: 31\n",
      "'_max_dist_bool': 0.013 seconds\n",
      "'_from_dataframe': 0.015 seconds\n",
      "found GPU\n",
      "setting lengthscales to: [1. 1. 1.]\n",
      "'__init__': 0.170 seconds\n"
     ]
    },
    {
     "name": "stderr",
     "output_type": "stream",
     "text": [
      "2023-06-05 17:59:01.313575: I tensorflow/core/common_runtime/gpu/gpu_device.cc:1616] Created device /device:GPU:0 with 6261 MB memory:  -> device: 0, name: NVIDIA GeForce RTX 2080, pci bus id: 0000:17:00.0, compute capability: 7.5\n",
      "2023-06-05 17:59:01.314594: I tensorflow/core/common_runtime/gpu/gpu_device.cc:1616] Created device /device:GPU:1 with 4157 MB memory:  -> device: 1, name: NVIDIA GeForce RTX 2080, pci bus id: 0000:65:00.0, compute capability: 7.5\n"
     ]
    },
    {
     "name": "stdout",
     "output_type": "stream",
     "text": [
      "'_read_params_from_file': 0.093 seconds\n",
      "'set_parameters': 0.006 seconds\n",
      "'load_params': 0.100 seconds\n",
      "'set_lengthscales_constraints': 0.006 seconds\n",
      "*** not optimising parameters\n",
      "'get_parameters': 0.010 seconds\n",
      "parameters:\n",
      "lengthscales: array([5.48287216, 5.03773935, 1.00142059]) \n",
      "kernel_variance: 0.0027808103759283513\n",
      "likelihood_variance: 0.006000000000000003\n",
      "'predict': 0.064 seconds\n",
      "total run time : 0.73 seconds\n",
      "------------------------------\n",
      "148 / 363\n",
      "             x          y        t       date         lon        lat\n",
      "282 -1800000.0  1400000.0  18326.0 2020-03-05 -127.874984  69.465665\n",
      "'_update_global_data': 0.001 seconds\n",
      "'local_data_select': 0.002 seconds\n",
      "number obs: 15\n",
      "'_max_dist_bool': 0.013 seconds\n",
      "'_from_dataframe': 0.015 seconds\n",
      "found GPU\n",
      "setting lengthscales to: [1. 1. 1.]\n",
      "'__init__': 0.156 seconds\n"
     ]
    },
    {
     "name": "stderr",
     "output_type": "stream",
     "text": [
      "2023-06-05 17:59:02.029332: I tensorflow/core/common_runtime/gpu/gpu_device.cc:1616] Created device /device:GPU:0 with 6261 MB memory:  -> device: 0, name: NVIDIA GeForce RTX 2080, pci bus id: 0000:17:00.0, compute capability: 7.5\n",
      "2023-06-05 17:59:02.030228: I tensorflow/core/common_runtime/gpu/gpu_device.cc:1616] Created device /device:GPU:1 with 4157 MB memory:  -> device: 1, name: NVIDIA GeForce RTX 2080, pci bus id: 0000:65:00.0, compute capability: 7.5\n"
     ]
    },
    {
     "name": "stdout",
     "output_type": "stream",
     "text": [
      "'_read_params_from_file': 0.097 seconds\n",
      "'set_parameters': 0.006 seconds\n",
      "'load_params': 0.104 seconds\n",
      "'set_lengthscales_constraints': 0.006 seconds\n",
      "*** not optimising parameters\n",
      "'get_parameters': 0.004 seconds\n",
      "parameters:\n",
      "lengthscales: array([3.06206651, 4.25912846, 1.00033381]) \n",
      "kernel_variance: 0.0016828955077648042\n",
      "likelihood_variance: 0.006000000000000003\n",
      "'predict': 0.046 seconds\n",
      "total run time : 0.68 seconds\n",
      "------------------------------\n",
      "149 / 363\n",
      "             x          y        t       date         lon        lat\n",
      "281  1600000.0  1200000.0  18326.0 2020-03-05  126.869898  72.014378\n",
      "'_update_global_data': 0.001 seconds\n",
      "'local_data_select': 0.002 seconds\n",
      "number obs: 9\n",
      "'_max_dist_bool': 0.013 seconds\n",
      "'_from_dataframe': 0.015 seconds\n",
      "found GPU\n",
      "setting lengthscales to: [1. 1. 1.]\n",
      "'__init__': 0.139 seconds\n"
     ]
    },
    {
     "name": "stderr",
     "output_type": "stream",
     "text": [
      "2023-06-05 17:59:02.693497: I tensorflow/core/common_runtime/gpu/gpu_device.cc:1616] Created device /device:GPU:0 with 6261 MB memory:  -> device: 0, name: NVIDIA GeForce RTX 2080, pci bus id: 0000:17:00.0, compute capability: 7.5\n",
      "2023-06-05 17:59:02.694624: I tensorflow/core/common_runtime/gpu/gpu_device.cc:1616] Created device /device:GPU:1 with 4157 MB memory:  -> device: 1, name: NVIDIA GeForce RTX 2080, pci bus id: 0000:65:00.0, compute capability: 7.5\n"
     ]
    },
    {
     "name": "stdout",
     "output_type": "stream",
     "text": [
      "'_read_params_from_file': 0.081 seconds\n",
      "'set_parameters': 0.006 seconds\n",
      "'load_params': 0.088 seconds\n",
      "'set_lengthscales_constraints': 0.006 seconds\n",
      "*** not optimising parameters\n",
      "'get_parameters': 0.004 seconds\n",
      "parameters:\n",
      "lengthscales: array([11.81392207, 11.65561445,  1.00126163]) \n",
      "kernel_variance: 0.0009172849851944162\n",
      "likelihood_variance: 0.006000000000000003\n",
      "'predict': 0.059 seconds\n",
      "total run time : 0.66 seconds\n",
      "------------------------------\n",
      "150 / 363\n",
      "             x          y        t       date         lon        lat\n",
      "280  1400000.0  1200000.0  18326.0 2020-03-05  130.601295  73.429172\n",
      "'_update_global_data': 0.001 seconds\n",
      "'local_data_select': 0.002 seconds\n",
      "number obs: 22\n",
      "'_max_dist_bool': 0.013 seconds\n",
      "'_from_dataframe': 0.015 seconds\n",
      "found GPU\n",
      "setting lengthscales to: [1. 1. 1.]\n"
     ]
    },
    {
     "name": "stderr",
     "output_type": "stream",
     "text": [
      "2023-06-05 17:59:03.393656: I tensorflow/core/common_runtime/gpu/gpu_device.cc:1616] Created device /device:GPU:0 with 6261 MB memory:  -> device: 0, name: NVIDIA GeForce RTX 2080, pci bus id: 0000:17:00.0, compute capability: 7.5\n",
      "2023-06-05 17:59:03.394711: I tensorflow/core/common_runtime/gpu/gpu_device.cc:1616] Created device /device:GPU:1 with 4157 MB memory:  -> device: 1, name: NVIDIA GeForce RTX 2080, pci bus id: 0000:65:00.0, compute capability: 7.5\n"
     ]
    },
    {
     "name": "stdout",
     "output_type": "stream",
     "text": [
      "'__init__': 0.191 seconds\n",
      "'_read_params_from_file': 0.083 seconds\n",
      "'set_parameters': 0.007 seconds\n",
      "'load_params': 0.091 seconds\n",
      "'set_lengthscales_constraints': 0.006 seconds\n",
      "*** not optimising parameters\n",
      "'get_parameters': 0.004 seconds\n",
      "parameters:\n",
      "lengthscales: array([11.5084182 , 11.25353892,  1.00063246]) \n",
      "kernel_variance: 0.0006767413429532081\n",
      "likelihood_variance: 0.006000000000000003\n",
      "'predict': 0.048 seconds\n",
      "SAVING RESULTS\n",
      "run_details\n",
      "preds\n",
      "lengthscales\n",
      "kernel_variance\n",
      "likelihood_variance\n",
      "total run time : 0.87 seconds\n",
      "------------------------------\n",
      "151 / 363\n",
      "             x          y        t       date    lon        lat\n",
      "279  1200000.0  1200000.0  18326.0 2020-03-05  135.0  74.757732\n",
      "'_update_global_data': 0.001 seconds\n",
      "'local_data_select': 0.002 seconds\n",
      "number obs: 30\n",
      "'_max_dist_bool': 0.013 seconds\n",
      "'_from_dataframe': 0.015 seconds\n",
      "found GPU\n",
      "setting lengthscales to: [1. 1. 1.]\n",
      "'__init__': 0.170 seconds\n",
      "'_read_params_from_file': 0.078 seconds\n",
      "'set_parameters': 0.006 seconds\n",
      "'load_params': 0.085 seconds\n",
      "'set_lengthscales_constraints': 0.009 seconds\n",
      "*** not optimising parameters\n",
      "'get_parameters': 0.005 seconds\n",
      "parameters:\n",
      "lengthscales: array([11.22890879, 10.45634013,  1.00015355]) \n",
      "kernel_variance: 0.00045521367013808965\n",
      "likelihood_variance: 0.006000000000000003\n"
     ]
    },
    {
     "name": "stderr",
     "output_type": "stream",
     "text": [
      "2023-06-05 17:59:04.251063: I tensorflow/core/common_runtime/gpu/gpu_device.cc:1616] Created device /device:GPU:0 with 6261 MB memory:  -> device: 0, name: NVIDIA GeForce RTX 2080, pci bus id: 0000:17:00.0, compute capability: 7.5\n",
      "2023-06-05 17:59:04.252503: I tensorflow/core/common_runtime/gpu/gpu_device.cc:1616] Created device /device:GPU:1 with 4157 MB memory:  -> device: 1, name: NVIDIA GeForce RTX 2080, pci bus id: 0000:65:00.0, compute capability: 7.5\n"
     ]
    },
    {
     "name": "stdout",
     "output_type": "stream",
     "text": [
      "'predict': 0.048 seconds\n",
      "total run time : 0.70 seconds\n",
      "------------------------------\n",
      "152 / 363\n",
      "             x          y        t       date         lon        lat\n",
      "278  1000000.0  1200000.0  18326.0 2020-03-05  140.194429  75.977161\n",
      "'_update_global_data': 0.001 seconds\n",
      "'local_data_select': 0.002 seconds\n",
      "number obs: 40\n",
      "'_max_dist_bool': 0.013 seconds\n",
      "'_from_dataframe': 0.015 seconds\n",
      "found GPU\n",
      "setting lengthscales to: [1. 1. 1.]\n",
      "'__init__': 0.161 seconds\n"
     ]
    },
    {
     "name": "stderr",
     "output_type": "stream",
     "text": [
      "2023-06-05 17:59:04.942890: I tensorflow/core/common_runtime/gpu/gpu_device.cc:1616] Created device /device:GPU:0 with 6261 MB memory:  -> device: 0, name: NVIDIA GeForce RTX 2080, pci bus id: 0000:17:00.0, compute capability: 7.5\n",
      "2023-06-05 17:59:04.943899: I tensorflow/core/common_runtime/gpu/gpu_device.cc:1616] Created device /device:GPU:1 with 4157 MB memory:  -> device: 1, name: NVIDIA GeForce RTX 2080, pci bus id: 0000:65:00.0, compute capability: 7.5\n"
     ]
    },
    {
     "name": "stdout",
     "output_type": "stream",
     "text": [
      "'_read_params_from_file': 0.080 seconds\n",
      "'set_parameters': 0.006 seconds\n",
      "'load_params': 0.087 seconds\n",
      "'set_lengthscales_constraints': 0.012 seconds\n",
      "*** not optimising parameters\n",
      "'get_parameters': 0.005 seconds\n",
      "parameters:\n",
      "lengthscales: array([11.25782767,  9.55626994,  0.99954935]) \n",
      "kernel_variance: 0.0003717897698563117\n",
      "likelihood_variance: 0.006000000000000003\n",
      "'predict': 0.053 seconds\n",
      "total run time : 0.70 seconds\n",
      "------------------------------\n",
      "153 / 363\n",
      "            x          y        t       date         lon        lat\n",
      "277  800000.0  1200000.0  18326.0 2020-03-05  146.309932  77.058063\n",
      "'_update_global_data': 0.001 seconds\n",
      "'local_data_select': 0.002 seconds\n",
      "number obs: 46\n",
      "'_max_dist_bool': 0.013 seconds\n",
      "'_from_dataframe': 0.015 seconds\n",
      "found GPU\n",
      "setting lengthscales to: [1. 1. 1.]\n",
      "'__init__': 0.135 seconds\n"
     ]
    },
    {
     "name": "stderr",
     "output_type": "stream",
     "text": [
      "2023-06-05 17:59:05.625153: I tensorflow/core/common_runtime/gpu/gpu_device.cc:1616] Created device /device:GPU:0 with 6261 MB memory:  -> device: 0, name: NVIDIA GeForce RTX 2080, pci bus id: 0000:17:00.0, compute capability: 7.5\n",
      "2023-06-05 17:59:05.626225: I tensorflow/core/common_runtime/gpu/gpu_device.cc:1616] Created device /device:GPU:1 with 4157 MB memory:  -> device: 1, name: NVIDIA GeForce RTX 2080, pci bus id: 0000:65:00.0, compute capability: 7.5\n"
     ]
    },
    {
     "name": "stdout",
     "output_type": "stream",
     "text": [
      "'_read_params_from_file': 0.078 seconds\n",
      "'set_parameters': 0.006 seconds\n",
      "'load_params': 0.085 seconds\n",
      "'set_lengthscales_constraints': 0.005 seconds\n",
      "*** not optimising parameters\n",
      "'get_parameters': 0.010 seconds\n",
      "parameters:\n",
      "lengthscales: array([10.9523778 ,  9.13504968,  0.99864867]) \n",
      "kernel_variance: 0.0003717806141312474\n",
      "likelihood_variance: 0.006000000000000003\n",
      "'predict': 0.053 seconds\n",
      "total run time : 0.68 seconds\n",
      "------------------------------\n",
      "154 / 363\n",
      "            x          y        t       date         lon        lat\n",
      "276  600000.0  1200000.0  18326.0 2020-03-05  153.434949  77.964362\n",
      "'_update_global_data': 0.001 seconds\n",
      "'local_data_select': 0.003 seconds\n",
      "number obs: 58\n",
      "'_max_dist_bool': 0.014 seconds\n",
      "'_from_dataframe': 0.016 seconds\n",
      "found GPU\n",
      "setting lengthscales to: [1. 1. 1.]\n",
      "'__init__': 0.163 seconds\n"
     ]
    },
    {
     "name": "stderr",
     "output_type": "stream",
     "text": [
      "2023-06-05 17:59:06.330770: I tensorflow/core/common_runtime/gpu/gpu_device.cc:1616] Created device /device:GPU:0 with 6261 MB memory:  -> device: 0, name: NVIDIA GeForce RTX 2080, pci bus id: 0000:17:00.0, compute capability: 7.5\n",
      "2023-06-05 17:59:06.331956: I tensorflow/core/common_runtime/gpu/gpu_device.cc:1616] Created device /device:GPU:1 with 4157 MB memory:  -> device: 1, name: NVIDIA GeForce RTX 2080, pci bus id: 0000:65:00.0, compute capability: 7.5\n"
     ]
    },
    {
     "name": "stdout",
     "output_type": "stream",
     "text": [
      "'_read_params_from_file': 0.080 seconds\n",
      "'set_parameters': 0.006 seconds\n",
      "'load_params': 0.087 seconds\n",
      "'set_lengthscales_constraints': 0.006 seconds\n",
      "*** not optimising parameters\n",
      "'get_parameters': 0.004 seconds\n",
      "parameters:\n",
      "lengthscales: array([10.06941434,  9.79592124,  0.9984665 ]) \n",
      "kernel_variance: 0.00034744577454864657\n",
      "likelihood_variance: 0.006000000000000003\n",
      "'predict': 0.048 seconds\n",
      "total run time : 0.68 seconds\n",
      "------------------------------\n",
      "155 / 363\n",
      "            x          y        t       date         lon        lat\n",
      "275  400000.0  1200000.0  18326.0 2020-03-05  161.565051  78.655203\n",
      "'_update_global_data': 0.001 seconds\n",
      "'local_data_select': 0.002 seconds\n",
      "number obs: 81\n",
      "'_max_dist_bool': 0.013 seconds\n",
      "'_from_dataframe': 0.015 seconds\n",
      "found GPU\n",
      "setting lengthscales to: [1. 1. 1.]\n",
      "'__init__': 0.172 seconds\n"
     ]
    },
    {
     "name": "stderr",
     "output_type": "stream",
     "text": [
      "2023-06-05 17:59:07.026105: I tensorflow/core/common_runtime/gpu/gpu_device.cc:1616] Created device /device:GPU:0 with 6261 MB memory:  -> device: 0, name: NVIDIA GeForce RTX 2080, pci bus id: 0000:17:00.0, compute capability: 7.5\n",
      "2023-06-05 17:59:07.027213: I tensorflow/core/common_runtime/gpu/gpu_device.cc:1616] Created device /device:GPU:1 with 4157 MB memory:  -> device: 1, name: NVIDIA GeForce RTX 2080, pci bus id: 0000:65:00.0, compute capability: 7.5\n"
     ]
    },
    {
     "name": "stdout",
     "output_type": "stream",
     "text": [
      "'_read_params_from_file': 0.081 seconds\n",
      "'set_parameters': 0.006 seconds\n",
      "'load_params': 0.088 seconds\n",
      "'set_lengthscales_constraints': 0.006 seconds\n",
      "*** not optimising parameters\n",
      "'get_parameters': 0.004 seconds\n",
      "parameters:\n",
      "lengthscales: array([ 9.1611054 , 10.89725345,  0.99900478]) \n",
      "kernel_variance: 0.00031550923520673316\n",
      "likelihood_variance: 0.006000000000000003\n",
      "'predict': 0.047 seconds\n",
      "total run time : 0.69 seconds\n",
      "------------------------------\n",
      "156 / 363\n",
      "            x          y        t       date         lon        lat\n",
      "274  200000.0  1200000.0  18326.0 2020-03-05  170.537678  79.090372\n",
      "'_update_global_data': 0.001 seconds\n",
      "'local_data_select': 0.002 seconds\n",
      "number obs: 77\n",
      "'_max_dist_bool': 0.013 seconds\n",
      "'_from_dataframe': 0.015 seconds\n",
      "found GPU\n",
      "setting lengthscales to: [1. 1. 1.]\n",
      "'__init__': 0.142 seconds\n"
     ]
    },
    {
     "name": "stderr",
     "output_type": "stream",
     "text": [
      "2023-06-05 17:59:07.699021: I tensorflow/core/common_runtime/gpu/gpu_device.cc:1616] Created device /device:GPU:0 with 6261 MB memory:  -> device: 0, name: NVIDIA GeForce RTX 2080, pci bus id: 0000:17:00.0, compute capability: 7.5\n",
      "2023-06-05 17:59:07.699465: I tensorflow/core/common_runtime/gpu/gpu_device.cc:1616] Created device /device:GPU:1 with 4157 MB memory:  -> device: 1, name: NVIDIA GeForce RTX 2080, pci bus id: 0000:65:00.0, compute capability: 7.5\n"
     ]
    },
    {
     "name": "stdout",
     "output_type": "stream",
     "text": [
      "'_read_params_from_file': 0.080 seconds\n",
      "'set_parameters': 0.006 seconds\n",
      "'load_params': 0.087 seconds\n",
      "'set_lengthscales_constraints': 0.006 seconds\n",
      "*** not optimising parameters\n",
      "'get_parameters': 0.004 seconds\n",
      "parameters:\n",
      "lengthscales: array([ 8.33524656, 10.93472543,  1.00025794]) \n",
      "kernel_variance: 0.00033734983623234875\n",
      "likelihood_variance: 0.006000000000000003\n",
      "'predict': 0.048 seconds\n",
      "total run time : 0.68 seconds\n",
      "------------------------------\n",
      "157 / 363\n",
      "            x          y        t       date         lon        lat\n",
      "293  400000.0  1400000.0  18326.0 2020-03-05  164.054604  76.933635\n",
      "'_update_global_data': 0.001 seconds\n",
      "'local_data_select': 0.003 seconds\n",
      "number obs: 61\n",
      "'_max_dist_bool': 0.016 seconds\n",
      "'_from_dataframe': 0.018 seconds\n",
      "found GPU\n",
      "setting lengthscales to: [1. 1. 1.]\n",
      "'__init__': 0.177 seconds\n"
     ]
    },
    {
     "name": "stderr",
     "output_type": "stream",
     "text": [
      "2023-06-05 17:59:08.409986: I tensorflow/core/common_runtime/gpu/gpu_device.cc:1616] Created device /device:GPU:0 with 6261 MB memory:  -> device: 0, name: NVIDIA GeForce RTX 2080, pci bus id: 0000:17:00.0, compute capability: 7.5\n",
      "2023-06-05 17:59:08.411082: I tensorflow/core/common_runtime/gpu/gpu_device.cc:1616] Created device /device:GPU:1 with 4157 MB memory:  -> device: 1, name: NVIDIA GeForce RTX 2080, pci bus id: 0000:65:00.0, compute capability: 7.5\n"
     ]
    },
    {
     "name": "stdout",
     "output_type": "stream",
     "text": [
      "'_read_params_from_file': 0.078 seconds\n",
      "'set_parameters': 0.006 seconds\n",
      "'load_params': 0.085 seconds\n",
      "'set_lengthscales_constraints': 0.006 seconds\n",
      "*** not optimising parameters\n",
      "'get_parameters': 0.004 seconds\n",
      "parameters:\n",
      "lengthscales: array([11.16308025, 11.44147688,  0.99880977]) \n",
      "kernel_variance: 0.000500928183445184\n",
      "likelihood_variance: 0.006000000000000003\n",
      "'predict': 0.046 seconds\n",
      "total run time : 0.69 seconds\n",
      "------------------------------\n",
      "158 / 363\n",
      "            x          y        t       date         lon        lat\n",
      "272 -200000.0  1200000.0  18326.0 2020-03-05 -170.537678  79.090372\n",
      "'_update_global_data': 0.001 seconds\n",
      "'local_data_select': 0.002 seconds\n",
      "number obs: 79\n",
      "'_max_dist_bool': 0.013 seconds\n",
      "'_from_dataframe': 0.015 seconds\n",
      "found GPU\n",
      "setting lengthscales to: [1. 1. 1.]\n",
      "'__init__': 0.169 seconds\n"
     ]
    },
    {
     "name": "stderr",
     "output_type": "stream",
     "text": [
      "2023-06-05 17:59:09.085791: I tensorflow/core/common_runtime/gpu/gpu_device.cc:1616] Created device /device:GPU:0 with 6261 MB memory:  -> device: 0, name: NVIDIA GeForce RTX 2080, pci bus id: 0000:17:00.0, compute capability: 7.5\n",
      "2023-06-05 17:59:09.086855: I tensorflow/core/common_runtime/gpu/gpu_device.cc:1616] Created device /device:GPU:1 with 4157 MB memory:  -> device: 1, name: NVIDIA GeForce RTX 2080, pci bus id: 0000:65:00.0, compute capability: 7.5\n"
     ]
    },
    {
     "name": "stdout",
     "output_type": "stream",
     "text": [
      "'_read_params_from_file': 0.079 seconds\n",
      "'set_parameters': 0.013 seconds\n",
      "'load_params': 0.093 seconds\n",
      "'set_lengthscales_constraints': 0.010 seconds\n",
      "*** not optimising parameters\n",
      "'get_parameters': 0.004 seconds\n",
      "parameters:\n",
      "lengthscales: array([ 8.36269377, 10.1105951 ,  1.003049  ]) \n",
      "kernel_variance: 0.0006676197836045245\n",
      "likelihood_variance: 0.006000000000000003\n",
      "'predict': 0.048 seconds\n",
      "total run time : 0.69 seconds\n",
      "------------------------------\n",
      "159 / 363\n",
      "            x          y        t       date         lon        lat\n",
      "294  600000.0  1400000.0  18326.0 2020-03-05  156.801409  76.328153\n",
      "'_update_global_data': 0.001 seconds\n",
      "'local_data_select': 0.002 seconds\n",
      "number obs: 53\n",
      "'_max_dist_bool': 0.013 seconds\n",
      "'_from_dataframe': 0.015 seconds\n",
      "found GPU\n",
      "setting lengthscales to: [1. 1. 1.]\n",
      "'__init__': 0.165 seconds\n"
     ]
    },
    {
     "name": "stderr",
     "output_type": "stream",
     "text": [
      "2023-06-05 17:59:09.774407: I tensorflow/core/common_runtime/gpu/gpu_device.cc:1616] Created device /device:GPU:0 with 6261 MB memory:  -> device: 0, name: NVIDIA GeForce RTX 2080, pci bus id: 0000:17:00.0, compute capability: 7.5\n",
      "2023-06-05 17:59:09.775681: I tensorflow/core/common_runtime/gpu/gpu_device.cc:1616] Created device /device:GPU:1 with 4157 MB memory:  -> device: 1, name: NVIDIA GeForce RTX 2080, pci bus id: 0000:65:00.0, compute capability: 7.5\n"
     ]
    },
    {
     "name": "stdout",
     "output_type": "stream",
     "text": [
      "'_read_params_from_file': 0.079 seconds\n",
      "'set_parameters': 0.006 seconds\n",
      "'load_params': 0.086 seconds\n",
      "'set_lengthscales_constraints': 0.011 seconds\n",
      "*** not optimising parameters\n",
      "'get_parameters': 0.004 seconds\n",
      "parameters:\n",
      "lengthscales: array([11.4652202 , 11.15860865,  0.9979741 ]) \n",
      "kernel_variance: 0.0005919458728250205\n",
      "likelihood_variance: 0.006000000000000003\n",
      "'predict': 0.049 seconds\n",
      "total run time : 0.71 seconds\n",
      "------------------------------\n",
      "160 / 363\n",
      "             x          y        t       date         lon        lat\n",
      "296  1000000.0  1400000.0  18326.0 2020-03-05  144.462322  74.546108\n",
      "'_update_global_data': 0.001 seconds\n",
      "'local_data_select': 0.002 seconds\n",
      "number obs: 24\n",
      "'_max_dist_bool': 0.014 seconds\n",
      "'_from_dataframe': 0.015 seconds\n",
      "found GPU\n",
      "setting lengthscales to: [1. 1. 1.]\n",
      "'__init__': 0.159 seconds\n"
     ]
    },
    {
     "name": "stderr",
     "output_type": "stream",
     "text": [
      "2023-06-05 17:59:10.473752: I tensorflow/core/common_runtime/gpu/gpu_device.cc:1616] Created device /device:GPU:0 with 6261 MB memory:  -> device: 0, name: NVIDIA GeForce RTX 2080, pci bus id: 0000:17:00.0, compute capability: 7.5\n",
      "2023-06-05 17:59:10.474749: I tensorflow/core/common_runtime/gpu/gpu_device.cc:1616] Created device /device:GPU:1 with 4157 MB memory:  -> device: 1, name: NVIDIA GeForce RTX 2080, pci bus id: 0000:65:00.0, compute capability: 7.5\n"
     ]
    },
    {
     "name": "stdout",
     "output_type": "stream",
     "text": [
      "'_read_params_from_file': 0.097 seconds\n",
      "'set_parameters': 0.006 seconds\n",
      "'load_params': 0.105 seconds\n",
      "'set_lengthscales_constraints': 0.006 seconds\n",
      "*** not optimising parameters\n",
      "'get_parameters': 0.004 seconds\n",
      "parameters:\n",
      "lengthscales: array([11.6522558 , 11.07766841,  0.99914324]) \n",
      "kernel_variance: 0.0005133033199241543\n",
      "likelihood_variance: 0.006000000000000003\n",
      "'predict': 0.048 seconds\n",
      "SAVING RESULTS\n",
      "run_details\n",
      "preds\n",
      "lengthscales\n",
      "kernel_variance\n",
      "likelihood_variance\n",
      "total run time : 0.88 seconds\n",
      "------------------------------\n",
      "161 / 363\n",
      "             x          y        t       date         lon        lat\n",
      "315  1200000.0  1600000.0  18326.0 2020-03-05  143.130102  72.014378\n",
      "'_update_global_data': 0.001 seconds\n",
      "'local_data_select': 0.002 seconds\n",
      "number obs: 16\n",
      "'_max_dist_bool': 0.013 seconds\n",
      "'_from_dataframe': 0.015 seconds\n",
      "found GPU\n",
      "setting lengthscales to: [1. 1. 1.]\n",
      "'__init__': 0.157 seconds\n",
      "'_read_params_from_file': 0.077 seconds\n",
      "'set_parameters': 0.006 seconds\n",
      "'load_params': 0.083 seconds\n",
      "'set_lengthscales_constraints': 0.006 seconds\n",
      "*** not optimising parameters\n",
      "'get_parameters': 0.004 seconds\n",
      "parameters:\n",
      "lengthscales: array([10.77833223, 10.63581193,  1.00002154]) \n",
      "kernel_variance: 0.0005362003637701436\n",
      "likelihood_variance: 0.006000000000000003\n",
      "'predict': 0.046 seconds\n"
     ]
    },
    {
     "name": "stderr",
     "output_type": "stream",
     "text": [
      "2023-06-05 17:59:11.358373: I tensorflow/core/common_runtime/gpu/gpu_device.cc:1616] Created device /device:GPU:0 with 6261 MB memory:  -> device: 0, name: NVIDIA GeForce RTX 2080, pci bus id: 0000:17:00.0, compute capability: 7.5\n",
      "2023-06-05 17:59:11.359551: I tensorflow/core/common_runtime/gpu/gpu_device.cc:1616] Created device /device:GPU:1 with 4157 MB memory:  -> device: 1, name: NVIDIA GeForce RTX 2080, pci bus id: 0000:65:00.0, compute capability: 7.5\n"
     ]
    },
    {
     "name": "stdout",
     "output_type": "stream",
     "text": [
      "total run time : 0.66 seconds\n",
      "------------------------------\n",
      "162 / 363\n",
      "             x          y        t       date         lon        lat\n",
      "314  1000000.0  1600000.0  18326.0 2020-03-05  147.994617  73.040728\n",
      "'_update_global_data': 0.001 seconds\n",
      "'local_data_select': 0.002 seconds\n",
      "number obs: 24\n",
      "'_max_dist_bool': 0.014 seconds\n",
      "'_from_dataframe': 0.016 seconds\n",
      "found GPU\n",
      "setting lengthscales to: [1. 1. 1.]\n",
      "'__init__': 0.154 seconds\n"
     ]
    },
    {
     "name": "stderr",
     "output_type": "stream",
     "text": [
      "2023-06-05 17:59:12.014265: I tensorflow/core/common_runtime/gpu/gpu_device.cc:1616] Created device /device:GPU:0 with 6261 MB memory:  -> device: 0, name: NVIDIA GeForce RTX 2080, pci bus id: 0000:17:00.0, compute capability: 7.5\n",
      "2023-06-05 17:59:12.015455: I tensorflow/core/common_runtime/gpu/gpu_device.cc:1616] Created device /device:GPU:1 with 4157 MB memory:  -> device: 1, name: NVIDIA GeForce RTX 2080, pci bus id: 0000:65:00.0, compute capability: 7.5\n"
     ]
    },
    {
     "name": "stdout",
     "output_type": "stream",
     "text": [
      "'_read_params_from_file': 0.081 seconds\n",
      "'set_parameters': 0.007 seconds\n",
      "'load_params': 0.088 seconds\n",
      "'set_lengthscales_constraints': 0.005 seconds\n",
      "*** not optimising parameters\n",
      "'get_parameters': 0.004 seconds\n",
      "parameters:\n",
      "lengthscales: array([11.00684778, 10.96663316,  0.99961187]) \n",
      "kernel_variance: 0.0005872675329258723\n",
      "likelihood_variance: 0.006000000000000003\n",
      "'predict': 0.048 seconds\n",
      "total run time : 0.67 seconds\n",
      "------------------------------\n",
      "163 / 363\n",
      "            x          y        t       date         lon        lat\n",
      "313  800000.0  1600000.0  18326.0 2020-03-05  153.434949  73.927516\n",
      "'_update_global_data': 0.001 seconds\n",
      "'local_data_select': 0.002 seconds\n",
      "number obs: 40\n",
      "'_max_dist_bool': 0.014 seconds\n",
      "'_from_dataframe': 0.016 seconds\n",
      "found GPU\n",
      "setting lengthscales to: [1. 1. 1.]\n",
      "'__init__': 0.164 seconds\n"
     ]
    },
    {
     "name": "stderr",
     "output_type": "stream",
     "text": [
      "2023-06-05 17:59:12.685926: I tensorflow/core/common_runtime/gpu/gpu_device.cc:1616] Created device /device:GPU:0 with 6261 MB memory:  -> device: 0, name: NVIDIA GeForce RTX 2080, pci bus id: 0000:17:00.0, compute capability: 7.5\n",
      "2023-06-05 17:59:12.687011: I tensorflow/core/common_runtime/gpu/gpu_device.cc:1616] Created device /device:GPU:1 with 4157 MB memory:  -> device: 1, name: NVIDIA GeForce RTX 2080, pci bus id: 0000:65:00.0, compute capability: 7.5\n"
     ]
    },
    {
     "name": "stdout",
     "output_type": "stream",
     "text": [
      "'_read_params_from_file': 0.079 seconds\n",
      "'set_parameters': 0.006 seconds\n",
      "'load_params': 0.086 seconds\n",
      "'set_lengthscales_constraints': 0.006 seconds\n",
      "*** not optimising parameters\n",
      "'get_parameters': 0.004 seconds\n",
      "parameters:\n",
      "lengthscales: array([11.37996681, 11.28920778,  0.99956919]) \n",
      "kernel_variance: 0.0007567153882166725\n",
      "likelihood_variance: 0.006000000000000003\n",
      "'predict': 0.046 seconds\n",
      "total run time : 0.69 seconds\n",
      "------------------------------\n",
      "164 / 363\n",
      "            x          y        t       date         lon        lat\n",
      "312  600000.0  1600000.0  18326.0 2020-03-05  159.443955  74.651565\n",
      "'_update_global_data': 0.001 seconds\n",
      "'local_data_select': 0.002 seconds\n",
      "number obs: 51\n",
      "'_max_dist_bool': 0.014 seconds\n",
      "'_from_dataframe': 0.016 seconds\n",
      "found GPU\n",
      "setting lengthscales to: [1. 1. 1.]\n",
      "'__init__': 0.158 seconds\n"
     ]
    },
    {
     "name": "stderr",
     "output_type": "stream",
     "text": [
      "2023-06-05 17:59:13.377956: I tensorflow/core/common_runtime/gpu/gpu_device.cc:1616] Created device /device:GPU:0 with 6261 MB memory:  -> device: 0, name: NVIDIA GeForce RTX 2080, pci bus id: 0000:17:00.0, compute capability: 7.5\n",
      "2023-06-05 17:59:13.379053: I tensorflow/core/common_runtime/gpu/gpu_device.cc:1616] Created device /device:GPU:1 with 4157 MB memory:  -> device: 1, name: NVIDIA GeForce RTX 2080, pci bus id: 0000:65:00.0, compute capability: 7.5\n"
     ]
    },
    {
     "name": "stdout",
     "output_type": "stream",
     "text": [
      "'_read_params_from_file': 0.080 seconds\n",
      "'set_parameters': 0.006 seconds\n",
      "'load_params': 0.086 seconds\n",
      "'set_lengthscales_constraints': 0.012 seconds\n",
      "*** not optimising parameters\n",
      "'get_parameters': 0.007 seconds\n",
      "parameters:\n",
      "lengthscales: array([11.68505583, 11.37069636,  1.00036999]) \n",
      "kernel_variance: 0.0007585964412021158\n",
      "likelihood_variance: 0.006000000000000003\n",
      "'predict': 0.054 seconds\n",
      "total run time : 0.69 seconds\n",
      "------------------------------\n",
      "165 / 363\n",
      "            x          y        t       date         lon        lat\n",
      "311  400000.0  1600000.0  18326.0 2020-03-05  165.963757  75.189812\n",
      "'_update_global_data': 0.001 seconds\n",
      "'local_data_select': 0.002 seconds\n",
      "number obs: 64\n",
      "'_max_dist_bool': 0.014 seconds\n",
      "'_from_dataframe': 0.015 seconds\n",
      "found GPU\n",
      "setting lengthscales to: [1. 1. 1.]\n",
      "'__init__': 0.168 seconds\n"
     ]
    },
    {
     "name": "stderr",
     "output_type": "stream",
     "text": [
      "2023-06-05 17:59:14.077605: I tensorflow/core/common_runtime/gpu/gpu_device.cc:1616] Created device /device:GPU:0 with 6261 MB memory:  -> device: 0, name: NVIDIA GeForce RTX 2080, pci bus id: 0000:17:00.0, compute capability: 7.5\n",
      "2023-06-05 17:59:14.078551: I tensorflow/core/common_runtime/gpu/gpu_device.cc:1616] Created device /device:GPU:1 with 4157 MB memory:  -> device: 1, name: NVIDIA GeForce RTX 2080, pci bus id: 0000:65:00.0, compute capability: 7.5\n"
     ]
    },
    {
     "name": "stdout",
     "output_type": "stream",
     "text": [
      "'_read_params_from_file': 0.093 seconds\n",
      "'set_parameters': 0.006 seconds\n",
      "'load_params': 0.100 seconds\n",
      "'set_lengthscales_constraints': 0.006 seconds\n",
      "*** not optimising parameters\n",
      "'get_parameters': 0.009 seconds\n",
      "parameters:\n",
      "lengthscales: array([11.77725782, 11.30506683,  1.00100864]) \n",
      "kernel_variance: 0.0006300809144043057\n",
      "likelihood_variance: 0.006000000000000003\n",
      "'predict': 0.055 seconds\n",
      "total run time : 0.72 seconds\n",
      "------------------------------\n",
      "166 / 363\n",
      "            x          y        t       date         lon        lat\n",
      "310  200000.0  1600000.0  18326.0 2020-03-05  172.874984  75.522123\n",
      "'_update_global_data': 0.001 seconds\n",
      "'local_data_select': 0.002 seconds\n",
      "number obs: 54\n",
      "'_max_dist_bool': 0.014 seconds\n",
      "'_from_dataframe': 0.016 seconds\n",
      "found GPU\n",
      "setting lengthscales to: [1. 1. 1.]\n",
      "'__init__': 0.158 seconds\n"
     ]
    },
    {
     "name": "stderr",
     "output_type": "stream",
     "text": [
      "2023-06-05 17:59:14.785924: I tensorflow/core/common_runtime/gpu/gpu_device.cc:1616] Created device /device:GPU:0 with 6261 MB memory:  -> device: 0, name: NVIDIA GeForce RTX 2080, pci bus id: 0000:17:00.0, compute capability: 7.5\n",
      "2023-06-05 17:59:14.786991: I tensorflow/core/common_runtime/gpu/gpu_device.cc:1616] Created device /device:GPU:1 with 4157 MB memory:  -> device: 1, name: NVIDIA GeForce RTX 2080, pci bus id: 0000:65:00.0, compute capability: 7.5\n"
     ]
    },
    {
     "name": "stdout",
     "output_type": "stream",
     "text": [
      "'_read_params_from_file': 0.079 seconds\n",
      "'set_parameters': 0.006 seconds\n",
      "'load_params': 0.085 seconds\n",
      "'set_lengthscales_constraints': 0.006 seconds\n",
      "*** not optimising parameters\n",
      "'get_parameters': 0.004 seconds\n",
      "parameters:\n",
      "lengthscales: array([11.60898729, 10.86631582,  1.00059872]) \n",
      "kernel_variance: 0.0005982508722415732\n",
      "likelihood_variance: 0.006000000000000003\n",
      "'predict': 0.046 seconds\n",
      "total run time : 0.66 seconds\n",
      "------------------------------\n",
      "167 / 363\n",
      "       x          y        t       date    lon        lat\n",
      "309  0.0  1600000.0  18326.0 2020-03-05  180.0  75.634561\n",
      "'_update_global_data': 0.001 seconds\n",
      "'local_data_select': 0.002 seconds\n",
      "number obs: 50\n",
      "'_max_dist_bool': 0.013 seconds\n",
      "'_from_dataframe': 0.015 seconds\n",
      "found GPU\n",
      "setting lengthscales to: [1. 1. 1.]\n",
      "'__init__': 0.172 seconds\n"
     ]
    },
    {
     "name": "stderr",
     "output_type": "stream",
     "text": [
      "2023-06-05 17:59:15.461792: I tensorflow/core/common_runtime/gpu/gpu_device.cc:1616] Created device /device:GPU:0 with 6261 MB memory:  -> device: 0, name: NVIDIA GeForce RTX 2080, pci bus id: 0000:17:00.0, compute capability: 7.5\n",
      "2023-06-05 17:59:15.462894: I tensorflow/core/common_runtime/gpu/gpu_device.cc:1616] Created device /device:GPU:1 with 4157 MB memory:  -> device: 1, name: NVIDIA GeForce RTX 2080, pci bus id: 0000:65:00.0, compute capability: 7.5\n"
     ]
    },
    {
     "name": "stdout",
     "output_type": "stream",
     "text": [
      "'_read_params_from_file': 0.080 seconds\n",
      "'set_parameters': 0.006 seconds\n",
      "'load_params': 0.087 seconds\n",
      "'set_lengthscales_constraints': 0.006 seconds\n",
      "*** not optimising parameters\n",
      "'get_parameters': 0.004 seconds\n",
      "parameters:\n",
      "lengthscales: array([11.38977359, 10.55102348,  0.99884839]) \n",
      "kernel_variance: 0.0008082311915219626\n",
      "likelihood_variance: 0.006000000000000003\n",
      "'predict': 0.065 seconds\n",
      "total run time : 0.73 seconds\n",
      "------------------------------\n",
      "168 / 363\n",
      "            x          y        t       date         lon        lat\n",
      "308 -200000.0  1600000.0  18326.0 2020-03-05 -172.874984  75.522123\n",
      "'_update_global_data': 0.001 seconds\n",
      "'local_data_select': 0.002 seconds\n",
      "number obs: 57\n",
      "'_max_dist_bool': 0.014 seconds\n",
      "'_from_dataframe': 0.016 seconds\n",
      "found GPU\n",
      "setting lengthscales to: [1. 1. 1.]\n",
      "'__init__': 0.149 seconds\n"
     ]
    },
    {
     "name": "stderr",
     "output_type": "stream",
     "text": [
      "2023-06-05 17:59:16.174900: I tensorflow/core/common_runtime/gpu/gpu_device.cc:1616] Created device /device:GPU:0 with 6261 MB memory:  -> device: 0, name: NVIDIA GeForce RTX 2080, pci bus id: 0000:17:00.0, compute capability: 7.5\n",
      "2023-06-05 17:59:16.175997: I tensorflow/core/common_runtime/gpu/gpu_device.cc:1616] Created device /device:GPU:1 with 4157 MB memory:  -> device: 1, name: NVIDIA GeForce RTX 2080, pci bus id: 0000:65:00.0, compute capability: 7.5\n"
     ]
    },
    {
     "name": "stdout",
     "output_type": "stream",
     "text": [
      "'_read_params_from_file': 0.079 seconds\n",
      "'set_parameters': 0.006 seconds\n",
      "'load_params': 0.086 seconds\n",
      "'set_lengthscales_constraints': 0.006 seconds\n",
      "*** not optimising parameters\n",
      "'get_parameters': 0.008 seconds\n",
      "parameters:\n",
      "lengthscales: array([11.36679916, 11.09065755,  0.99558869]) \n",
      "kernel_variance: 0.0011464806206900294\n",
      "likelihood_variance: 0.006000000000000003\n",
      "'predict': 0.055 seconds\n",
      "total run time : 0.68 seconds\n",
      "------------------------------\n",
      "169 / 363\n",
      "            x          y        t       date         lon        lat\n",
      "307 -400000.0  1600000.0  18326.0 2020-03-05 -165.963757  75.189812\n",
      "'_update_global_data': 0.001 seconds\n",
      "'local_data_select': 0.002 seconds\n",
      "number obs: 47\n",
      "'_max_dist_bool': 0.013 seconds\n",
      "'_from_dataframe': 0.015 seconds\n",
      "found GPU\n",
      "setting lengthscales to: [1. 1. 1.]\n",
      "'__init__': 0.159 seconds\n"
     ]
    },
    {
     "name": "stderr",
     "output_type": "stream",
     "text": [
      "2023-06-05 17:59:16.861721: I tensorflow/core/common_runtime/gpu/gpu_device.cc:1616] Created device /device:GPU:0 with 6261 MB memory:  -> device: 0, name: NVIDIA GeForce RTX 2080, pci bus id: 0000:17:00.0, compute capability: 7.5\n",
      "2023-06-05 17:59:16.862720: I tensorflow/core/common_runtime/gpu/gpu_device.cc:1616] Created device /device:GPU:1 with 4157 MB memory:  -> device: 1, name: NVIDIA GeForce RTX 2080, pci bus id: 0000:65:00.0, compute capability: 7.5\n"
     ]
    },
    {
     "name": "stdout",
     "output_type": "stream",
     "text": [
      "'_read_params_from_file': 0.082 seconds\n",
      "'set_parameters': 0.006 seconds\n",
      "'load_params': 0.089 seconds\n",
      "'set_lengthscales_constraints': 0.006 seconds\n",
      "*** not optimising parameters\n",
      "'get_parameters': 0.004 seconds\n",
      "parameters:\n",
      "lengthscales: array([11.4821168 , 11.6283398 ,  0.99475832]) \n",
      "kernel_variance: 0.0013781853528414246\n",
      "likelihood_variance: 0.006000000000000003\n",
      "'predict': 0.047 seconds\n",
      "total run time : 0.68 seconds\n",
      "------------------------------\n",
      "170 / 363\n",
      "            x          y        t       date         lon        lat\n",
      "306 -600000.0  1600000.0  18326.0 2020-03-05 -159.443955  74.651565\n",
      "'_update_global_data': 0.001 seconds\n",
      "'local_data_select': 0.002 seconds\n",
      "number obs: 39\n",
      "'_max_dist_bool': 0.013 seconds\n",
      "'_from_dataframe': 0.015 seconds\n",
      "found GPU\n",
      "setting lengthscales to: [1. 1. 1.]\n",
      "'__init__': 0.137 seconds\n"
     ]
    },
    {
     "name": "stderr",
     "output_type": "stream",
     "text": [
      "2023-06-05 17:59:17.520874: I tensorflow/core/common_runtime/gpu/gpu_device.cc:1616] Created device /device:GPU:0 with 6261 MB memory:  -> device: 0, name: NVIDIA GeForce RTX 2080, pci bus id: 0000:17:00.0, compute capability: 7.5\n",
      "2023-06-05 17:59:17.521924: I tensorflow/core/common_runtime/gpu/gpu_device.cc:1616] Created device /device:GPU:1 with 4157 MB memory:  -> device: 1, name: NVIDIA GeForce RTX 2080, pci bus id: 0000:65:00.0, compute capability: 7.5\n"
     ]
    },
    {
     "name": "stdout",
     "output_type": "stream",
     "text": [
      "'_read_params_from_file': 0.079 seconds\n",
      "'set_parameters': 0.006 seconds\n",
      "'load_params': 0.085 seconds\n",
      "'set_lengthscales_constraints': 0.011 seconds\n",
      "*** not optimising parameters\n",
      "'get_parameters': 0.004 seconds\n",
      "parameters:\n",
      "lengthscales: array([11.21760435, 11.63843318,  0.99789258]) \n",
      "kernel_variance: 0.0014724976010236925\n",
      "likelihood_variance: 0.006000000000000003\n",
      "'predict': 0.048 seconds\n",
      "SAVING RESULTS\n",
      "run_details\n",
      "preds\n",
      "lengthscales\n",
      "kernel_variance\n",
      "likelihood_variance\n",
      "total run time : 0.89 seconds\n",
      "------------------------------\n",
      "171 / 363\n",
      "            x          y        t       date         lon        lat\n",
      "305 -800000.0  1600000.0  18326.0 2020-03-05 -153.434949  73.927516\n",
      "'_update_global_data': 0.001 seconds\n",
      "'local_data_select': 0.002 seconds\n",
      "number obs: 41\n",
      "'_max_dist_bool': 0.013 seconds\n",
      "'_from_dataframe': 0.015 seconds\n",
      "found GPU\n",
      "setting lengthscales to: [1. 1. 1.]\n",
      "'__init__': 0.169 seconds\n"
     ]
    },
    {
     "name": "stderr",
     "output_type": "stream",
     "text": [
      "2023-06-05 17:59:18.435390: I tensorflow/core/common_runtime/gpu/gpu_device.cc:1616] Created device /device:GPU:0 with 6261 MB memory:  -> device: 0, name: NVIDIA GeForce RTX 2080, pci bus id: 0000:17:00.0, compute capability: 7.5\n",
      "2023-06-05 17:59:18.436495: I tensorflow/core/common_runtime/gpu/gpu_device.cc:1616] Created device /device:GPU:1 with 4157 MB memory:  -> device: 1, name: NVIDIA GeForce RTX 2080, pci bus id: 0000:65:00.0, compute capability: 7.5\n"
     ]
    },
    {
     "name": "stdout",
     "output_type": "stream",
     "text": [
      "'_read_params_from_file': 0.080 seconds\n",
      "'set_parameters': 0.006 seconds\n",
      "'load_params': 0.087 seconds\n",
      "'set_lengthscales_constraints': 0.006 seconds\n",
      "*** not optimising parameters\n",
      "'get_parameters': 0.008 seconds\n",
      "parameters:\n",
      "lengthscales: array([10.87096579, 11.01986767,  1.00020995]) \n",
      "kernel_variance: 0.001478033736581605\n",
      "likelihood_variance: 0.006000000000000003\n",
      "'predict': 0.054 seconds\n",
      "total run time : 0.70 seconds\n",
      "------------------------------\n",
      "172 / 363\n",
      "             x          y        t       date         lon        lat\n",
      "304 -1000000.0  1600000.0  18326.0 2020-03-05 -147.994617  73.040728\n",
      "'_update_global_data': 0.001 seconds\n",
      "'local_data_select': 0.002 seconds\n",
      "number obs: 30\n",
      "'_max_dist_bool': 0.013 seconds\n",
      "'_from_dataframe': 0.015 seconds\n",
      "found GPU\n",
      "setting lengthscales to: [1. 1. 1.]\n",
      "'__init__': 0.155 seconds\n"
     ]
    },
    {
     "name": "stderr",
     "output_type": "stream",
     "text": [
      "2023-06-05 17:59:19.130119: I tensorflow/core/common_runtime/gpu/gpu_device.cc:1616] Created device /device:GPU:0 with 6261 MB memory:  -> device: 0, name: NVIDIA GeForce RTX 2080, pci bus id: 0000:17:00.0, compute capability: 7.5\n",
      "2023-06-05 17:59:19.131292: I tensorflow/core/common_runtime/gpu/gpu_device.cc:1616] Created device /device:GPU:1 with 4157 MB memory:  -> device: 1, name: NVIDIA GeForce RTX 2080, pci bus id: 0000:65:00.0, compute capability: 7.5\n"
     ]
    },
    {
     "name": "stdout",
     "output_type": "stream",
     "text": [
      "'_read_params_from_file': 0.095 seconds\n",
      "'set_parameters': 0.006 seconds\n",
      "'load_params': 0.101 seconds\n",
      "'set_lengthscales_constraints': 0.006 seconds\n",
      "*** not optimising parameters\n",
      "'get_parameters': 0.007 seconds\n",
      "parameters:\n",
      "lengthscales: array([11.03360997,  9.87113871,  1.00127769]) \n",
      "kernel_variance: 0.0014111604750747862\n",
      "likelihood_variance: 0.006000000000000003\n",
      "'predict': 0.059 seconds\n",
      "total run time : 0.70 seconds\n",
      "------------------------------\n",
      "173 / 363\n",
      "             x          y        t       date         lon        lat\n",
      "303 -1200000.0  1600000.0  18326.0 2020-03-05 -143.130102  72.014378\n",
      "'_update_global_data': 0.001 seconds\n",
      "'local_data_select': 0.002 seconds\n",
      "number obs: 33\n",
      "'_max_dist_bool': 0.013 seconds\n",
      "'_from_dataframe': 0.015 seconds\n",
      "found GPU\n",
      "setting lengthscales to: [1. 1. 1.]\n",
      "'__init__': 0.138 seconds\n"
     ]
    },
    {
     "name": "stderr",
     "output_type": "stream",
     "text": [
      "2023-06-05 17:59:19.808917: I tensorflow/core/common_runtime/gpu/gpu_device.cc:1616] Created device /device:GPU:0 with 6261 MB memory:  -> device: 0, name: NVIDIA GeForce RTX 2080, pci bus id: 0000:17:00.0, compute capability: 7.5\n",
      "2023-06-05 17:59:19.809889: I tensorflow/core/common_runtime/gpu/gpu_device.cc:1616] Created device /device:GPU:1 with 4157 MB memory:  -> device: 1, name: NVIDIA GeForce RTX 2080, pci bus id: 0000:65:00.0, compute capability: 7.5\n"
     ]
    },
    {
     "name": "stdout",
     "output_type": "stream",
     "text": [
      "'_read_params_from_file': 0.079 seconds\n",
      "'set_parameters': 0.006 seconds\n",
      "'load_params': 0.086 seconds\n",
      "'set_lengthscales_constraints': 0.006 seconds\n",
      "*** not optimising parameters\n",
      "'get_parameters': 0.010 seconds\n",
      "parameters:\n",
      "lengthscales: array([11.05042194,  8.5789352 ,  1.00212504]) \n",
      "kernel_variance: 0.0014020969617096007\n",
      "likelihood_variance: 0.006000000000000003\n",
      "'predict': 0.063 seconds\n",
      "total run time : 0.68 seconds\n",
      "------------------------------\n",
      "174 / 363\n",
      "             x          y        t       date         lon        lat\n",
      "302 -1400000.0  1600000.0  18326.0 2020-03-05 -138.814075  70.869902\n",
      "'_update_global_data': 0.001 seconds\n",
      "'local_data_select': 0.002 seconds\n",
      "number obs: 27\n",
      "'_max_dist_bool': 0.014 seconds\n",
      "'_from_dataframe': 0.016 seconds\n",
      "found GPU\n",
      "setting lengthscales to: [1. 1. 1.]\n",
      "'__init__': 0.161 seconds\n"
     ]
    },
    {
     "name": "stderr",
     "output_type": "stream",
     "text": [
      "2023-06-05 17:59:20.506888: I tensorflow/core/common_runtime/gpu/gpu_device.cc:1616] Created device /device:GPU:0 with 6261 MB memory:  -> device: 0, name: NVIDIA GeForce RTX 2080, pci bus id: 0000:17:00.0, compute capability: 7.5\n",
      "2023-06-05 17:59:20.507997: I tensorflow/core/common_runtime/gpu/gpu_device.cc:1616] Created device /device:GPU:1 with 4157 MB memory:  -> device: 1, name: NVIDIA GeForce RTX 2080, pci bus id: 0000:65:00.0, compute capability: 7.5\n"
     ]
    },
    {
     "name": "stdout",
     "output_type": "stream",
     "text": [
      "'_read_params_from_file': 0.080 seconds\n",
      "'set_parameters': 0.006 seconds\n",
      "'load_params': 0.087 seconds\n",
      "'set_lengthscales_constraints': 0.006 seconds\n",
      "*** not optimising parameters\n",
      "'get_parameters': 0.004 seconds\n",
      "parameters:\n",
      "lengthscales: array([9.97462723, 7.09447268, 1.00175329]) \n",
      "kernel_variance: 0.0014209636080822015\n",
      "likelihood_variance: 0.006000000000000003\n",
      "'predict': 0.046 seconds\n",
      "total run time : 0.67 seconds\n",
      "------------------------------\n",
      "175 / 363\n",
      "             x          y        t       date    lon        lat\n",
      "301 -1600000.0  1600000.0  18326.0 2020-03-05 -135.0  69.626063\n",
      "'_update_global_data': 0.001 seconds\n",
      "'local_data_select': 0.002 seconds\n",
      "number obs: 22\n",
      "'_max_dist_bool': 0.013 seconds\n",
      "'_from_dataframe': 0.015 seconds\n",
      "found GPU\n",
      "setting lengthscales to: [1. 1. 1.]\n",
      "'__init__': 0.168 seconds\n"
     ]
    },
    {
     "name": "stderr",
     "output_type": "stream",
     "text": [
      "2023-06-05 17:59:21.186509: I tensorflow/core/common_runtime/gpu/gpu_device.cc:1616] Created device /device:GPU:0 with 6261 MB memory:  -> device: 0, name: NVIDIA GeForce RTX 2080, pci bus id: 0000:17:00.0, compute capability: 7.5\n",
      "2023-06-05 17:59:21.187705: I tensorflow/core/common_runtime/gpu/gpu_device.cc:1616] Created device /device:GPU:1 with 4157 MB memory:  -> device: 1, name: NVIDIA GeForce RTX 2080, pci bus id: 0000:65:00.0, compute capability: 7.5\n"
     ]
    },
    {
     "name": "stdout",
     "output_type": "stream",
     "text": [
      "'_read_params_from_file': 0.098 seconds\n",
      "'set_parameters': 0.006 seconds\n",
      "'load_params': 0.105 seconds\n",
      "'set_lengthscales_constraints': 0.006 seconds\n",
      "*** not optimising parameters\n",
      "'get_parameters': 0.005 seconds\n",
      "parameters:\n",
      "lengthscales: array([7.44484328, 5.48484088, 1.00067361]) \n",
      "kernel_variance: 0.0011576779574951667\n",
      "likelihood_variance: 0.006000000000000003\n",
      "'predict': 0.048 seconds\n",
      "total run time : 0.72 seconds\n",
      "------------------------------\n",
      "176 / 363\n",
      "             x          y        t       date         lon        lat\n",
      "300 -1800000.0  1600000.0  18326.0 2020-03-05 -131.633539  68.298699\n",
      "'_update_global_data': 0.001 seconds\n",
      "'local_data_select': 0.005 seconds\n",
      "number obs: 4\n",
      "'_max_dist_bool': 0.027 seconds\n",
      "'_from_dataframe': 0.030 seconds\n",
      "found GPU\n",
      "setting lengthscales to: [1. 1. 1.]\n"
     ]
    },
    {
     "name": "stderr",
     "output_type": "stream",
     "text": [
      "2023-06-05 17:59:21.933709: I tensorflow/core/common_runtime/gpu/gpu_device.cc:1616] Created device /device:GPU:0 with 6261 MB memory:  -> device: 0, name: NVIDIA GeForce RTX 2080, pci bus id: 0000:17:00.0, compute capability: 7.5\n",
      "2023-06-05 17:59:21.934755: I tensorflow/core/common_runtime/gpu/gpu_device.cc:1616] Created device /device:GPU:1 with 4157 MB memory:  -> device: 1, name: NVIDIA GeForce RTX 2080, pci bus id: 0000:65:00.0, compute capability: 7.5\n"
     ]
    },
    {
     "name": "stdout",
     "output_type": "stream",
     "text": [
      "'__init__': 0.193 seconds\n",
      "'_read_params_from_file': 0.081 seconds\n",
      "'set_parameters': 0.006 seconds\n",
      "'load_params': 0.088 seconds\n",
      "'set_lengthscales_constraints': 0.006 seconds\n",
      "*** not optimising parameters\n",
      "'get_parameters': 0.010 seconds\n",
      "parameters:\n",
      "lengthscales: array([4.48033686, 4.0166765 , 1.0000732 ]) \n",
      "kernel_variance: 0.0007080090601690735\n",
      "likelihood_variance: 0.006000000000000003\n",
      "'predict': 0.059 seconds\n",
      "total run time : 0.74 seconds\n",
      "------------------------------\n",
      "177 / 363\n",
      "             x          y        t       date         lon        lat\n",
      "299  1600000.0  1400000.0  18326.0 2020-03-05  131.185925  70.869902\n",
      "'_update_global_data': 0.001 seconds\n",
      "'local_data_select': 0.002 seconds\n",
      "number obs: 6\n",
      "'_max_dist_bool': 0.013 seconds\n",
      "'_from_dataframe': 0.015 seconds\n",
      "found GPU\n",
      "setting lengthscales to: [1. 1. 1.]\n",
      "'__init__': 0.168 seconds\n"
     ]
    },
    {
     "name": "stderr",
     "output_type": "stream",
     "text": [
      "2023-06-05 17:59:22.649566: I tensorflow/core/common_runtime/gpu/gpu_device.cc:1616] Created device /device:GPU:0 with 6261 MB memory:  -> device: 0, name: NVIDIA GeForce RTX 2080, pci bus id: 0000:17:00.0, compute capability: 7.5\n",
      "2023-06-05 17:59:22.650671: I tensorflow/core/common_runtime/gpu/gpu_device.cc:1616] Created device /device:GPU:1 with 4157 MB memory:  -> device: 1, name: NVIDIA GeForce RTX 2080, pci bus id: 0000:65:00.0, compute capability: 7.5\n"
     ]
    },
    {
     "name": "stdout",
     "output_type": "stream",
     "text": [
      "'_read_params_from_file': 0.080 seconds\n",
      "'set_parameters': 0.006 seconds\n",
      "'load_params': 0.087 seconds\n",
      "'set_lengthscales_constraints': 0.006 seconds\n",
      "*** not optimising parameters\n",
      "'get_parameters': 0.004 seconds\n",
      "parameters:\n",
      "lengthscales: array([11.92075397, 11.83716864,  1.00149535]) \n",
      "kernel_variance: 0.0008355760555571066\n",
      "likelihood_variance: 0.006000000000000003\n",
      "'predict': 0.071 seconds\n",
      "total run time : 0.71 seconds\n",
      "------------------------------\n",
      "178 / 363\n",
      "             x          y        t       date    lon        lat\n",
      "298  1400000.0  1400000.0  18326.0 2020-03-05  135.0  72.196733\n",
      "'_update_global_data': 0.001 seconds\n",
      "'local_data_select': 0.002 seconds\n",
      "number obs: 16\n",
      "'_max_dist_bool': 0.013 seconds\n",
      "'_from_dataframe': 0.015 seconds\n",
      "found GPU\n",
      "setting lengthscales to: [1. 1. 1.]\n",
      "'__init__': 0.179 seconds\n"
     ]
    },
    {
     "name": "stderr",
     "output_type": "stream",
     "text": [
      "2023-06-05 17:59:23.366672: I tensorflow/core/common_runtime/gpu/gpu_device.cc:1616] Created device /device:GPU:0 with 6261 MB memory:  -> device: 0, name: NVIDIA GeForce RTX 2080, pci bus id: 0000:17:00.0, compute capability: 7.5\n",
      "2023-06-05 17:59:23.368115: I tensorflow/core/common_runtime/gpu/gpu_device.cc:1616] Created device /device:GPU:1 with 4157 MB memory:  -> device: 1, name: NVIDIA GeForce RTX 2080, pci bus id: 0000:65:00.0, compute capability: 7.5\n"
     ]
    },
    {
     "name": "stdout",
     "output_type": "stream",
     "text": [
      "'_read_params_from_file': 0.095 seconds\n",
      "'set_parameters': 0.006 seconds\n",
      "'load_params': 0.102 seconds\n",
      "'set_lengthscales_constraints': 0.005 seconds\n",
      "*** not optimising parameters\n",
      "'get_parameters': 0.004 seconds\n",
      "parameters:\n",
      "lengthscales: array([11.77069718, 11.57408918,  1.00065191]) \n",
      "kernel_variance: 0.00065806889328079\n",
      "likelihood_variance: 0.006000000000000003\n",
      "'predict': 0.046 seconds\n",
      "total run time : 0.70 seconds\n",
      "------------------------------\n",
      "179 / 363\n",
      "             x          y        t       date         lon        lat\n",
      "297  1200000.0  1400000.0  18326.0 2020-03-05  139.398705  73.429172\n",
      "'_update_global_data': 0.001 seconds\n",
      "'local_data_select': 0.002 seconds\n",
      "number obs: 26\n",
      "'_max_dist_bool': 0.013 seconds\n",
      "'_from_dataframe': 0.015 seconds\n",
      "found GPU\n",
      "setting lengthscales to: [1. 1. 1.]\n",
      "'__init__': 0.182 seconds\n"
     ]
    },
    {
     "name": "stderr",
     "output_type": "stream",
     "text": [
      "2023-06-05 17:59:24.074501: I tensorflow/core/common_runtime/gpu/gpu_device.cc:1616] Created device /device:GPU:0 with 6261 MB memory:  -> device: 0, name: NVIDIA GeForce RTX 2080, pci bus id: 0000:17:00.0, compute capability: 7.5\n",
      "2023-06-05 17:59:24.075581: I tensorflow/core/common_runtime/gpu/gpu_device.cc:1616] Created device /device:GPU:1 with 4157 MB memory:  -> device: 1, name: NVIDIA GeForce RTX 2080, pci bus id: 0000:65:00.0, compute capability: 7.5\n"
     ]
    },
    {
     "name": "stdout",
     "output_type": "stream",
     "text": [
      "'_read_params_from_file': 0.098 seconds\n",
      "'set_parameters': 0.013 seconds\n",
      "'load_params': 0.112 seconds\n",
      "'set_lengthscales_constraints': 0.011 seconds\n",
      "*** not optimising parameters\n",
      "'get_parameters': 0.005 seconds\n",
      "parameters:\n",
      "lengthscales: array([11.64045691, 11.24993496,  1.00001624]) \n",
      "kernel_variance: 0.000503827998382958\n",
      "likelihood_variance: 0.006000000000000003\n",
      "'predict': 0.049 seconds\n",
      "total run time : 0.75 seconds\n",
      "------------------------------\n",
      "180 / 363\n",
      "            x          y        t       date         lon        lat\n",
      "295  800000.0  1400000.0  18326.0 2020-03-05  150.255119  75.522123\n",
      "'_update_global_data': 0.001 seconds\n",
      "'local_data_select': 0.002 seconds\n",
      "number obs: 35\n",
      "'_max_dist_bool': 0.014 seconds\n",
      "'_from_dataframe': 0.016 seconds\n",
      "found GPU\n",
      "setting lengthscales to: [1. 1. 1.]\n",
      "'__init__': 0.144 seconds\n"
     ]
    },
    {
     "name": "stderr",
     "output_type": "stream",
     "text": [
      "2023-06-05 17:59:24.801901: I tensorflow/core/common_runtime/gpu/gpu_device.cc:1616] Created device /device:GPU:0 with 6261 MB memory:  -> device: 0, name: NVIDIA GeForce RTX 2080, pci bus id: 0000:17:00.0, compute capability: 7.5\n",
      "2023-06-05 17:59:24.802290: I tensorflow/core/common_runtime/gpu/gpu_device.cc:1616] Created device /device:GPU:1 with 4157 MB memory:  -> device: 1, name: NVIDIA GeForce RTX 2080, pci bus id: 0000:65:00.0, compute capability: 7.5\n"
     ]
    },
    {
     "name": "stdout",
     "output_type": "stream",
     "text": [
      "'_read_params_from_file': 0.079 seconds\n",
      "'set_parameters': 0.006 seconds\n",
      "'load_params': 0.086 seconds\n",
      "'set_lengthscales_constraints': 0.006 seconds\n",
      "*** not optimising parameters\n",
      "'get_parameters': 0.004 seconds\n",
      "parameters:\n",
      "lengthscales: array([11.6090365 , 10.97957306,  0.99803936]) \n",
      "kernel_variance: 0.0006078850190067423\n",
      "likelihood_variance: 0.006000000000000003\n",
      "'predict': 0.067 seconds\n",
      "SAVING RESULTS\n",
      "run_details\n",
      "preds\n",
      "lengthscales\n",
      "kernel_variance\n",
      "likelihood_variance\n",
      "total run time : 0.85 seconds\n",
      "------------------------------\n",
      "181 / 363\n",
      "            x          y        t       date         lon        lat\n",
      "361 -400000.0  2600000.0  18326.0 2020-03-05 -171.253838  66.265873\n",
      "'_update_global_data': 0.001 seconds\n",
      "'local_data_select': 0.002 seconds\n",
      "number obs: 11\n",
      "'_max_dist_bool': 0.013 seconds\n",
      "'_from_dataframe': 0.015 seconds\n",
      "found GPU\n",
      "setting lengthscales to: [1. 1. 1.]\n",
      "'__init__': 0.132 seconds\n",
      "'_read_params_from_file': 0.078 seconds\n",
      "'set_parameters': 0.006 seconds\n",
      "'load_params': 0.085 seconds\n",
      "'set_lengthscales_constraints': 0.006 seconds\n",
      "*** not optimising parameters\n",
      "'get_parameters': 0.004 seconds\n",
      "parameters:\n",
      "lengthscales: array([5.63564743, 9.78498314, 1.00015638]) \n",
      "kernel_variance: 0.0006608550475511011\n",
      "likelihood_variance: 0.006000000000000003\n",
      "'predict': 0.048 seconds\n"
     ]
    },
    {
     "name": "stderr",
     "output_type": "stream",
     "text": [
      "2023-06-05 17:59:25.639788: I tensorflow/core/common_runtime/gpu/gpu_device.cc:1616] Created device /device:GPU:0 with 6261 MB memory:  -> device: 0, name: NVIDIA GeForce RTX 2080, pci bus id: 0000:17:00.0, compute capability: 7.5\n",
      "2023-06-05 17:59:25.640247: I tensorflow/core/common_runtime/gpu/gpu_device.cc:1616] Created device /device:GPU:1 with 4157 MB memory:  -> device: 1, name: NVIDIA GeForce RTX 2080, pci bus id: 0000:65:00.0, compute capability: 7.5\n"
     ]
    },
    {
     "name": "stdout",
     "output_type": "stream",
     "text": [
      "total run time : 0.66 seconds\n",
      "------------------------------\n",
      "182 / 363\n",
      "            x         y        t       date         lon        lat\n",
      "181  800000.0  200000.0  18326.0 2020-03-05  104.036243  82.611609\n",
      "'_update_global_data': 0.001 seconds\n",
      "'local_data_select': 0.002 seconds\n",
      "number obs: 63\n",
      "'_max_dist_bool': 0.014 seconds\n",
      "'_from_dataframe': 0.016 seconds\n",
      "found GPU\n",
      "setting lengthscales to: [1. 1. 1.]\n",
      "'__init__': 0.150 seconds\n"
     ]
    },
    {
     "name": "stderr",
     "output_type": "stream",
     "text": [
      "2023-06-05 17:59:26.309599: I tensorflow/core/common_runtime/gpu/gpu_device.cc:1616] Created device /device:GPU:0 with 6261 MB memory:  -> device: 0, name: NVIDIA GeForce RTX 2080, pci bus id: 0000:17:00.0, compute capability: 7.5\n",
      "2023-06-05 17:59:26.310864: I tensorflow/core/common_runtime/gpu/gpu_device.cc:1616] Created device /device:GPU:1 with 4157 MB memory:  -> device: 1, name: NVIDIA GeForce RTX 2080, pci bus id: 0000:65:00.0, compute capability: 7.5\n"
     ]
    },
    {
     "name": "stdout",
     "output_type": "stream",
     "text": [
      "'_read_params_from_file': 0.079 seconds\n",
      "'set_parameters': 0.006 seconds\n",
      "'load_params': 0.086 seconds\n",
      "'set_lengthscales_constraints': 0.006 seconds\n",
      "*** not optimising parameters\n",
      "'get_parameters': 0.004 seconds\n",
      "parameters:\n",
      "lengthscales: array([5.6628104 , 9.66972338, 1.0002529 ]) \n",
      "kernel_variance: 0.0006904063419871297\n",
      "likelihood_variance: 0.006000000000000003\n",
      "'predict': 0.058 seconds\n",
      "total run time : 0.68 seconds\n",
      "------------------------------\n",
      "183 / 363\n",
      "            x         y        t       date         lon      lat\n",
      "179  400000.0  200000.0  18326.0 2020-03-05  116.565051  85.9952\n",
      "'_update_global_data': 0.001 seconds\n",
      "'local_data_select': 0.002 seconds\n",
      "number obs: 58\n",
      "'_max_dist_bool': 0.014 seconds\n",
      "'_from_dataframe': 0.016 seconds\n",
      "found GPU\n",
      "setting lengthscales to: [1. 1. 1.]\n",
      "'__init__': 0.157 seconds\n"
     ]
    },
    {
     "name": "stderr",
     "output_type": "stream",
     "text": [
      "2023-06-05 17:59:27.002186: I tensorflow/core/common_runtime/gpu/gpu_device.cc:1616] Created device /device:GPU:0 with 6261 MB memory:  -> device: 0, name: NVIDIA GeForce RTX 2080, pci bus id: 0000:17:00.0, compute capability: 7.5\n",
      "2023-06-05 17:59:27.003325: I tensorflow/core/common_runtime/gpu/gpu_device.cc:1616] Created device /device:GPU:1 with 4157 MB memory:  -> device: 1, name: NVIDIA GeForce RTX 2080, pci bus id: 0000:65:00.0, compute capability: 7.5\n"
     ]
    },
    {
     "name": "stdout",
     "output_type": "stream",
     "text": [
      "'_read_params_from_file': 0.080 seconds\n",
      "'set_parameters': 0.006 seconds\n",
      "'load_params': 0.087 seconds\n",
      "'set_lengthscales_constraints': 0.006 seconds\n",
      "*** not optimising parameters\n",
      "'get_parameters': 0.010 seconds\n",
      "parameters:\n",
      "lengthscales: array([8.4384392, 9.702037 , 0.9989945]) \n",
      "kernel_variance: 0.0007142055928720828\n",
      "likelihood_variance: 0.006000000000000003\n",
      "'predict': 0.054 seconds\n",
      "total run time : 0.70 seconds\n",
      "------------------------------\n",
      "184 / 363\n",
      "           x         y        t       date        lon        lat\n",
      "64  200000.0 -800000.0  18326.0 2020-03-05  14.036243  82.611609\n",
      "'_update_global_data': 0.001 seconds\n",
      "'local_data_select': 0.002 seconds\n",
      "number obs: 43\n",
      "'_max_dist_bool': 0.014 seconds\n",
      "'_from_dataframe': 0.016 seconds\n",
      "found GPU\n",
      "setting lengthscales to: [1. 1. 1.]\n",
      "'__init__': 0.153 seconds\n"
     ]
    },
    {
     "name": "stderr",
     "output_type": "stream",
     "text": [
      "2023-06-05 17:59:27.697840: I tensorflow/core/common_runtime/gpu/gpu_device.cc:1616] Created device /device:GPU:0 with 6261 MB memory:  -> device: 0, name: NVIDIA GeForce RTX 2080, pci bus id: 0000:17:00.0, compute capability: 7.5\n",
      "2023-06-05 17:59:27.698823: I tensorflow/core/common_runtime/gpu/gpu_device.cc:1616] Created device /device:GPU:1 with 4157 MB memory:  -> device: 1, name: NVIDIA GeForce RTX 2080, pci bus id: 0000:65:00.0, compute capability: 7.5\n"
     ]
    },
    {
     "name": "stdout",
     "output_type": "stream",
     "text": [
      "'_read_params_from_file': 0.081 seconds\n",
      "'set_parameters': 0.006 seconds\n",
      "'load_params': 0.088 seconds\n",
      "'set_lengthscales_constraints': 0.006 seconds\n",
      "*** not optimising parameters\n",
      "'get_parameters': 0.004 seconds\n",
      "parameters:\n",
      "lengthscales: array([8.19284698, 4.02275474, 1.00121871]) \n",
      "kernel_variance: 0.006360269314910833\n",
      "likelihood_variance: 0.006000000000000003\n",
      "'predict': 0.048 seconds\n",
      "total run time : 0.67 seconds\n",
      "------------------------------\n",
      "185 / 363\n",
      "      x         y        t       date  lon        lat\n",
      "63  0.0 -800000.0  18326.0 2020-03-05  0.0  82.832524\n",
      "'_update_global_data': 0.001 seconds\n",
      "'local_data_select': 0.002 seconds\n",
      "number obs: 35\n",
      "'_max_dist_bool': 0.013 seconds\n",
      "'_from_dataframe': 0.015 seconds\n",
      "found GPU\n",
      "setting lengthscales to: [1. 1. 1.]\n",
      "'__init__': 0.164 seconds\n"
     ]
    },
    {
     "name": "stderr",
     "output_type": "stream",
     "text": [
      "2023-06-05 17:59:28.377727: I tensorflow/core/common_runtime/gpu/gpu_device.cc:1616] Created device /device:GPU:0 with 6261 MB memory:  -> device: 0, name: NVIDIA GeForce RTX 2080, pci bus id: 0000:17:00.0, compute capability: 7.5\n",
      "2023-06-05 17:59:28.378810: I tensorflow/core/common_runtime/gpu/gpu_device.cc:1616] Created device /device:GPU:1 with 4157 MB memory:  -> device: 1, name: NVIDIA GeForce RTX 2080, pci bus id: 0000:65:00.0, compute capability: 7.5\n"
     ]
    },
    {
     "name": "stdout",
     "output_type": "stream",
     "text": [
      "'_read_params_from_file': 0.079 seconds\n",
      "'set_parameters': 0.006 seconds\n",
      "'load_params': 0.086 seconds\n",
      "'set_lengthscales_constraints': 0.006 seconds\n",
      "*** not optimising parameters\n",
      "'get_parameters': 0.004 seconds\n",
      "parameters:\n",
      "lengthscales: array([8.99823249, 5.19953188, 1.00222548]) \n",
      "kernel_variance: 0.003037187058049729\n",
      "likelihood_variance: 0.006000000000000003\n",
      "'predict': 0.046 seconds\n",
      "total run time : 0.67 seconds\n",
      "------------------------------\n",
      "186 / 363\n",
      "           x         y        t       date        lon        lat\n",
      "62 -200000.0 -800000.0  18326.0 2020-03-05 -14.036243  82.611609\n",
      "'_update_global_data': 0.001 seconds\n",
      "'local_data_select': 0.002 seconds\n",
      "number obs: 19\n",
      "'_max_dist_bool': 0.013 seconds\n",
      "'_from_dataframe': 0.015 seconds\n",
      "found GPU\n",
      "setting lengthscales to: [1. 1. 1.]\n",
      "'__init__': 0.167 seconds\n"
     ]
    },
    {
     "name": "stderr",
     "output_type": "stream",
     "text": [
      "2023-06-05 17:59:29.054258: I tensorflow/core/common_runtime/gpu/gpu_device.cc:1616] Created device /device:GPU:0 with 6261 MB memory:  -> device: 0, name: NVIDIA GeForce RTX 2080, pci bus id: 0000:17:00.0, compute capability: 7.5\n",
      "2023-06-05 17:59:29.055342: I tensorflow/core/common_runtime/gpu/gpu_device.cc:1616] Created device /device:GPU:1 with 4157 MB memory:  -> device: 1, name: NVIDIA GeForce RTX 2080, pci bus id: 0000:65:00.0, compute capability: 7.5\n"
     ]
    },
    {
     "name": "stdout",
     "output_type": "stream",
     "text": [
      "'_read_params_from_file': 0.080 seconds\n",
      "'set_parameters': 0.006 seconds\n",
      "'load_params': 0.087 seconds\n",
      "'set_lengthscales_constraints': 0.006 seconds\n",
      "*** not optimising parameters\n",
      "'get_parameters': 0.004 seconds\n",
      "parameters:\n",
      "lengthscales: array([7.74123535, 7.05151443, 1.00313981]) \n",
      "kernel_variance: 0.0029543814920443157\n",
      "likelihood_variance: 0.006000000000000003\n",
      "'predict': 0.054 seconds\n",
      "total run time : 0.71 seconds\n",
      "------------------------------\n",
      "187 / 363\n",
      "           x         y        t       date        lon        lat\n",
      "61 -400000.0 -800000.0  18326.0 2020-03-05 -26.565051  81.985104\n",
      "'_update_global_data': 0.001 seconds\n",
      "'local_data_select': 0.002 seconds\n",
      "number obs: 9\n",
      "'_max_dist_bool': 0.014 seconds\n",
      "'_from_dataframe': 0.015 seconds\n",
      "found GPU\n",
      "setting lengthscales to: [1. 1. 1.]\n",
      "'__init__': 0.153 seconds\n"
     ]
    },
    {
     "name": "stderr",
     "output_type": "stream",
     "text": [
      "2023-06-05 17:59:29.753732: I tensorflow/core/common_runtime/gpu/gpu_device.cc:1616] Created device /device:GPU:0 with 6261 MB memory:  -> device: 0, name: NVIDIA GeForce RTX 2080, pci bus id: 0000:17:00.0, compute capability: 7.5\n",
      "2023-06-05 17:59:29.754835: I tensorflow/core/common_runtime/gpu/gpu_device.cc:1616] Created device /device:GPU:1 with 4157 MB memory:  -> device: 1, name: NVIDIA GeForce RTX 2080, pci bus id: 0000:65:00.0, compute capability: 7.5\n"
     ]
    },
    {
     "name": "stdout",
     "output_type": "stream",
     "text": [
      "'_read_params_from_file': 0.083 seconds\n",
      "'set_parameters': 0.007 seconds\n",
      "'load_params': 0.090 seconds\n",
      "'set_lengthscales_constraints': 0.006 seconds\n",
      "*** not optimising parameters\n",
      "'get_parameters': 0.004 seconds\n",
      "parameters:\n",
      "lengthscales: array([6.5913753 , 8.11415584, 1.00216871]) \n",
      "kernel_variance: 0.0038102651036858687\n",
      "likelihood_variance: 0.006000000000000003\n",
      "'predict': 0.047 seconds\n",
      "total run time : 0.69 seconds\n",
      "------------------------------\n",
      "188 / 363\n",
      "            x         y        t       date        lon        lat\n",
      "60 -1400000.0 -800000.0  18326.0 2020-03-05 -60.255119  75.522123\n",
      "'_update_global_data': 0.001 seconds\n",
      "'local_data_select': 0.002 seconds\n",
      "number obs: 16\n",
      "'_max_dist_bool': 0.014 seconds\n",
      "'_from_dataframe': 0.016 seconds\n",
      "found GPU\n",
      "setting lengthscales to: [1. 1. 1.]\n",
      "'__init__': 0.157 seconds\n"
     ]
    },
    {
     "name": "stderr",
     "output_type": "stream",
     "text": [
      "2023-06-05 17:59:30.445740: I tensorflow/core/common_runtime/gpu/gpu_device.cc:1616] Created device /device:GPU:0 with 6261 MB memory:  -> device: 0, name: NVIDIA GeForce RTX 2080, pci bus id: 0000:17:00.0, compute capability: 7.5\n",
      "2023-06-05 17:59:30.446816: I tensorflow/core/common_runtime/gpu/gpu_device.cc:1616] Created device /device:GPU:1 with 4157 MB memory:  -> device: 1, name: NVIDIA GeForce RTX 2080, pci bus id: 0000:65:00.0, compute capability: 7.5\n"
     ]
    },
    {
     "name": "stdout",
     "output_type": "stream",
     "text": [
      "'_read_params_from_file': 0.081 seconds\n",
      "'set_parameters': 0.006 seconds\n",
      "'load_params': 0.087 seconds\n",
      "'set_lengthscales_constraints': 0.006 seconds\n",
      "*** not optimising parameters\n",
      "'get_parameters': 0.004 seconds\n",
      "parameters:\n",
      "lengthscales: array([ 7.54017704, 10.01237608,  0.99961596]) \n",
      "kernel_variance: 0.007096542618612514\n",
      "likelihood_variance: 0.006000000000000003\n",
      "'predict': 0.047 seconds\n",
      "total run time : 0.67 seconds\n",
      "------------------------------\n",
      "189 / 363\n",
      "            x         y        t       date        lon        lat\n",
      "59 -1600000.0 -800000.0  18326.0 2020-03-05 -63.434949  73.927516\n",
      "'_update_global_data': 0.001 seconds\n",
      "'local_data_select': 0.002 seconds\n",
      "number obs: 38\n",
      "'_max_dist_bool': 0.014 seconds\n",
      "'_from_dataframe': 0.016 seconds\n",
      "found GPU\n",
      "setting lengthscales to: [1. 1. 1.]\n",
      "'__init__': 0.182 seconds\n"
     ]
    },
    {
     "name": "stderr",
     "output_type": "stream",
     "text": [
      "2023-06-05 17:59:31.141807: I tensorflow/core/common_runtime/gpu/gpu_device.cc:1616] Created device /device:GPU:0 with 6261 MB memory:  -> device: 0, name: NVIDIA GeForce RTX 2080, pci bus id: 0000:17:00.0, compute capability: 7.5\n",
      "2023-06-05 17:59:31.142867: I tensorflow/core/common_runtime/gpu/gpu_device.cc:1616] Created device /device:GPU:1 with 4157 MB memory:  -> device: 1, name: NVIDIA GeForce RTX 2080, pci bus id: 0000:65:00.0, compute capability: 7.5\n"
     ]
    },
    {
     "name": "stdout",
     "output_type": "stream",
     "text": [
      "'_read_params_from_file': 0.083 seconds\n",
      "'set_parameters': 0.006 seconds\n",
      "'load_params': 0.090 seconds\n",
      "'set_lengthscales_constraints': 0.006 seconds\n",
      "*** not optimising parameters\n",
      "'get_parameters': 0.004 seconds\n",
      "parameters:\n",
      "lengthscales: array([ 9.42808201, 10.10690379,  0.99983079]) \n",
      "kernel_variance: 0.005417515129013105\n",
      "likelihood_variance: 0.006000000000000003\n",
      "'predict': 0.080 seconds\n",
      "total run time : 0.74 seconds\n",
      "------------------------------\n",
      "190 / 363\n",
      "            x         y        t       date        lon       lat\n",
      "58 -1800000.0 -800000.0  18326.0 2020-03-05 -66.037511  72.28859\n",
      "'_update_global_data': 0.001 seconds\n",
      "'local_data_select': 0.002 seconds\n",
      "number obs: 40\n",
      "'_max_dist_bool': 0.013 seconds\n",
      "'_from_dataframe': 0.015 seconds\n",
      "found GPU\n",
      "setting lengthscales to: [1. 1. 1.]\n",
      "'__init__': 0.172 seconds\n"
     ]
    },
    {
     "name": "stderr",
     "output_type": "stream",
     "text": [
      "2023-06-05 17:59:31.873641: I tensorflow/core/common_runtime/gpu/gpu_device.cc:1616] Created device /device:GPU:0 with 6261 MB memory:  -> device: 0, name: NVIDIA GeForce RTX 2080, pci bus id: 0000:17:00.0, compute capability: 7.5\n",
      "2023-06-05 17:59:31.874689: I tensorflow/core/common_runtime/gpu/gpu_device.cc:1616] Created device /device:GPU:1 with 4157 MB memory:  -> device: 1, name: NVIDIA GeForce RTX 2080, pci bus id: 0000:65:00.0, compute capability: 7.5\n"
     ]
    },
    {
     "name": "stdout",
     "output_type": "stream",
     "text": [
      "'_read_params_from_file': 0.079 seconds\n",
      "'set_parameters': 0.006 seconds\n",
      "'load_params': 0.086 seconds\n",
      "'set_lengthscales_constraints': 0.006 seconds\n",
      "*** not optimising parameters\n",
      "'get_parameters': 0.004 seconds\n",
      "parameters:\n",
      "lengthscales: array([10.25779805, 10.12689824,  0.98897626]) \n",
      "kernel_variance: 0.004497380444539819\n",
      "likelihood_variance: 0.006000000000000003\n",
      "'predict': 0.048 seconds\n",
      "SAVING RESULTS\n",
      "run_details\n",
      "preds\n",
      "lengthscales\n",
      "kernel_variance\n",
      "likelihood_variance\n",
      "total run time : 0.89 seconds\n",
      "------------------------------\n",
      "191 / 363\n",
      "            x         y        t       date        lon        lat\n",
      "57 -2000000.0 -800000.0  18326.0 2020-03-05 -68.198591  70.615022\n",
      "'_update_global_data': 0.001 seconds\n",
      "'local_data_select': 0.002 seconds\n",
      "number obs: 20\n",
      "'_max_dist_bool': 0.013 seconds\n",
      "'_from_dataframe': 0.015 seconds\n",
      "found GPU\n",
      "setting lengthscales to: [1. 1. 1.]\n",
      "'__init__': 0.150 seconds\n"
     ]
    },
    {
     "name": "stderr",
     "output_type": "stream",
     "text": [
      "2023-06-05 17:59:32.743872: I tensorflow/core/common_runtime/gpu/gpu_device.cc:1616] Created device /device:GPU:0 with 6261 MB memory:  -> device: 0, name: NVIDIA GeForce RTX 2080, pci bus id: 0000:17:00.0, compute capability: 7.5\n",
      "2023-06-05 17:59:32.744795: I tensorflow/core/common_runtime/gpu/gpu_device.cc:1616] Created device /device:GPU:1 with 4157 MB memory:  -> device: 1, name: NVIDIA GeForce RTX 2080, pci bus id: 0000:65:00.0, compute capability: 7.5\n"
     ]
    },
    {
     "name": "stdout",
     "output_type": "stream",
     "text": [
      "'_read_params_from_file': 0.083 seconds\n",
      "'set_parameters': 0.006 seconds\n",
      "'load_params': 0.090 seconds\n",
      "'set_lengthscales_constraints': 0.006 seconds\n",
      "*** not optimising parameters\n",
      "'get_parameters': 0.004 seconds\n",
      "parameters:\n",
      "lengthscales: array([9.74512254, 9.17746429, 0.97249773]) \n",
      "kernel_variance: 0.004825464439331123\n",
      "likelihood_variance: 0.006000000000000003\n",
      "'predict': 0.048 seconds\n",
      "total run time : 0.67 seconds\n",
      "------------------------------\n",
      "192 / 363\n",
      "           x         y        t       date        lon        lat\n",
      "65  400000.0 -800000.0  18326.0 2020-03-05  26.565051  81.985104\n",
      "'_update_global_data': 0.001 seconds\n",
      "'local_data_select': 0.002 seconds\n",
      "number obs: 53\n",
      "'_max_dist_bool': 0.013 seconds\n",
      "'_from_dataframe': 0.015 seconds\n",
      "found GPU\n",
      "setting lengthscales to: [1. 1. 1.]\n",
      "'__init__': 0.146 seconds\n"
     ]
    },
    {
     "name": "stderr",
     "output_type": "stream",
     "text": [
      "2023-06-05 17:59:33.423390: I tensorflow/core/common_runtime/gpu/gpu_device.cc:1616] Created device /device:GPU:0 with 6261 MB memory:  -> device: 0, name: NVIDIA GeForce RTX 2080, pci bus id: 0000:17:00.0, compute capability: 7.5\n",
      "2023-06-05 17:59:33.423831: I tensorflow/core/common_runtime/gpu/gpu_device.cc:1616] Created device /device:GPU:1 with 4157 MB memory:  -> device: 1, name: NVIDIA GeForce RTX 2080, pci bus id: 0000:65:00.0, compute capability: 7.5\n"
     ]
    },
    {
     "name": "stdout",
     "output_type": "stream",
     "text": [
      "'_read_params_from_file': 0.078 seconds\n",
      "'set_parameters': 0.013 seconds\n",
      "'load_params': 0.093 seconds\n",
      "'set_lengthscales_constraints': 0.010 seconds\n",
      "*** not optimising parameters\n",
      "'get_parameters': 0.004 seconds\n",
      "parameters:\n",
      "lengthscales: array([5.08130838, 3.61838737, 1.00003145]) \n",
      "kernel_variance: 0.011893045877961275\n",
      "likelihood_variance: 0.006000000000000003\n",
      "'predict': 0.048 seconds\n",
      "total run time : 0.67 seconds\n",
      "------------------------------\n",
      "193 / 363\n",
      "            x         y        t       date        lon        lat\n",
      "56 -2200000.0 -800000.0  18326.0 2020-03-05 -70.016893  68.913437\n",
      "'_update_global_data': 0.001 seconds\n",
      "'local_data_select': 0.002 seconds\n",
      "number obs: 8\n",
      "'_max_dist_bool': 0.013 seconds\n",
      "'_from_dataframe': 0.015 seconds\n",
      "found GPU\n",
      "setting lengthscales to: [1. 1. 1.]\n",
      "'__init__': 0.158 seconds\n"
     ]
    },
    {
     "name": "stderr",
     "output_type": "stream",
     "text": [
      "2023-06-05 17:59:34.101942: I tensorflow/core/common_runtime/gpu/gpu_device.cc:1616] Created device /device:GPU:0 with 6261 MB memory:  -> device: 0, name: NVIDIA GeForce RTX 2080, pci bus id: 0000:17:00.0, compute capability: 7.5\n",
      "2023-06-05 17:59:34.103074: I tensorflow/core/common_runtime/gpu/gpu_device.cc:1616] Created device /device:GPU:1 with 4157 MB memory:  -> device: 1, name: NVIDIA GeForce RTX 2080, pci bus id: 0000:65:00.0, compute capability: 7.5\n"
     ]
    },
    {
     "name": "stdout",
     "output_type": "stream",
     "text": [
      "'_read_params_from_file': 0.080 seconds\n",
      "'set_parameters': 0.013 seconds\n",
      "'load_params': 0.094 seconds\n",
      "'set_lengthscales_constraints': 0.010 seconds\n",
      "*** not optimising parameters\n",
      "'get_parameters': 0.004 seconds\n",
      "parameters:\n",
      "lengthscales: array([8.61742541, 6.79046088, 0.97777468]) \n",
      "kernel_variance: 0.007055188682287702\n",
      "likelihood_variance: 0.006000000000000003\n",
      "'predict': 0.048 seconds\n",
      "total run time : 0.70 seconds\n",
      "------------------------------\n",
      "194 / 363\n",
      "            x          y        t       date        lon        lat\n",
      "54  1800000.0 -1000000.0  18326.0 2020-03-05  60.945396  71.477702\n",
      "'_update_global_data': 0.001 seconds\n",
      "'local_data_select': 0.002 seconds\n",
      "number obs: 12\n",
      "'_max_dist_bool': 0.014 seconds\n",
      "'_from_dataframe': 0.016 seconds\n",
      "found GPU\n",
      "setting lengthscales to: [1. 1. 1.]\n",
      "'__init__': 0.146 seconds\n"
     ]
    },
    {
     "name": "stderr",
     "output_type": "stream",
     "text": [
      "2023-06-05 17:59:34.792932: I tensorflow/core/common_runtime/gpu/gpu_device.cc:1616] Created device /device:GPU:0 with 6261 MB memory:  -> device: 0, name: NVIDIA GeForce RTX 2080, pci bus id: 0000:17:00.0, compute capability: 7.5\n",
      "2023-06-05 17:59:34.794026: I tensorflow/core/common_runtime/gpu/gpu_device.cc:1616] Created device /device:GPU:1 with 4157 MB memory:  -> device: 1, name: NVIDIA GeForce RTX 2080, pci bus id: 0000:65:00.0, compute capability: 7.5\n"
     ]
    },
    {
     "name": "stdout",
     "output_type": "stream",
     "text": [
      "'_read_params_from_file': 0.081 seconds\n",
      "'set_parameters': 0.006 seconds\n",
      "'load_params': 0.088 seconds\n",
      "'set_lengthscales_constraints': 0.005 seconds\n",
      "*** not optimising parameters\n",
      "'get_parameters': 0.004 seconds\n",
      "parameters:\n",
      "lengthscales: array([4.21091972, 1.16860274, 0.99989057]) \n",
      "kernel_variance: 0.062276166024095574\n",
      "likelihood_variance: 0.006000000000000003\n",
      "'predict': 0.048 seconds\n",
      "total run time : 0.66 seconds\n",
      "------------------------------\n",
      "195 / 363\n",
      "            x          y        t       date        lon        lat\n",
      "53  1600000.0 -1000000.0  18326.0 2020-03-05  57.994617  73.040728\n",
      "'_update_global_data': 0.001 seconds\n",
      "'local_data_select': 0.002 seconds\n",
      "number obs: 9\n",
      "'_max_dist_bool': 0.013 seconds\n",
      "'_from_dataframe': 0.015 seconds\n",
      "found GPU\n",
      "setting lengthscales to: [1. 1. 1.]\n",
      "'__init__': 0.179 seconds\n"
     ]
    },
    {
     "name": "stderr",
     "output_type": "stream",
     "text": [
      "2023-06-05 17:59:35.493192: I tensorflow/core/common_runtime/gpu/gpu_device.cc:1616] Created device /device:GPU:0 with 6261 MB memory:  -> device: 0, name: NVIDIA GeForce RTX 2080, pci bus id: 0000:17:00.0, compute capability: 7.5\n",
      "2023-06-05 17:59:35.493855: I tensorflow/core/common_runtime/gpu/gpu_device.cc:1616] Created device /device:GPU:1 with 4157 MB memory:  -> device: 1, name: NVIDIA GeForce RTX 2080, pci bus id: 0000:65:00.0, compute capability: 7.5\n"
     ]
    },
    {
     "name": "stdout",
     "output_type": "stream",
     "text": [
      "'_read_params_from_file': 0.080 seconds\n",
      "'set_parameters': 0.006 seconds\n",
      "'load_params': 0.087 seconds\n",
      "'set_lengthscales_constraints': 0.006 seconds\n",
      "*** not optimising parameters\n",
      "'get_parameters': 0.004 seconds\n",
      "parameters:\n",
      "lengthscales: array([2.54216957, 1.88581595, 1.00001714]) \n",
      "kernel_variance: 0.04982724104007356\n",
      "likelihood_variance: 0.006000000000000003\n",
      "'predict': 0.048 seconds\n",
      "total run time : 0.70 seconds\n",
      "------------------------------\n",
      "196 / 363\n",
      "            x          y        t       date        lon        lat\n",
      "52  1400000.0 -1000000.0  18326.0 2020-03-05  54.462322  74.546108\n",
      "'_update_global_data': 0.001 seconds\n",
      "'local_data_select': 0.004 seconds\n",
      "number obs: 4\n",
      "'_max_dist_bool': 0.028 seconds\n",
      "'_from_dataframe': 0.031 seconds\n",
      "found GPU\n",
      "setting lengthscales to: [1. 1. 1.]\n"
     ]
    },
    {
     "name": "stderr",
     "output_type": "stream",
     "text": [
      "2023-06-05 17:59:36.205856: I tensorflow/core/common_runtime/gpu/gpu_device.cc:1616] Created device /device:GPU:0 with 6261 MB memory:  -> device: 0, name: NVIDIA GeForce RTX 2080, pci bus id: 0000:17:00.0, compute capability: 7.5\n",
      "2023-06-05 17:59:36.206913: I tensorflow/core/common_runtime/gpu/gpu_device.cc:1616] Created device /device:GPU:1 with 4157 MB memory:  -> device: 1, name: NVIDIA GeForce RTX 2080, pci bus id: 0000:65:00.0, compute capability: 7.5\n"
     ]
    },
    {
     "name": "stdout",
     "output_type": "stream",
     "text": [
      "'__init__': 0.178 seconds\n",
      "'_read_params_from_file': 0.079 seconds\n",
      "'set_parameters': 0.006 seconds\n",
      "'load_params': 0.086 seconds\n",
      "'set_lengthscales_constraints': 0.006 seconds\n",
      "*** not optimising parameters\n",
      "'get_parameters': 0.004 seconds\n",
      "parameters:\n",
      "lengthscales: array([3.28247138, 4.03238918, 1.00014305]) \n",
      "kernel_variance: 0.030938487839692722\n",
      "likelihood_variance: 0.006000000000000003\n",
      "'predict': 0.047 seconds\n",
      "total run time : 0.71 seconds\n",
      "------------------------------\n",
      "197 / 363\n",
      "            x          y        t       date        lon        lat\n",
      "51  1200000.0 -1000000.0  18326.0 2020-03-05  50.194429  75.977161\n",
      "'_update_global_data': 0.001 seconds\n",
      "'local_data_select': 0.002 seconds\n",
      "number obs: 13\n",
      "'_max_dist_bool': 0.013 seconds\n",
      "'_from_dataframe': 0.015 seconds\n",
      "found GPU\n",
      "setting lengthscales to: [1. 1. 1.]\n",
      "'__init__': 0.168 seconds\n"
     ]
    },
    {
     "name": "stderr",
     "output_type": "stream",
     "text": [
      "2023-06-05 17:59:36.893798: I tensorflow/core/common_runtime/gpu/gpu_device.cc:1616] Created device /device:GPU:0 with 6261 MB memory:  -> device: 0, name: NVIDIA GeForce RTX 2080, pci bus id: 0000:17:00.0, compute capability: 7.5\n",
      "2023-06-05 17:59:36.894921: I tensorflow/core/common_runtime/gpu/gpu_device.cc:1616] Created device /device:GPU:1 with 4157 MB memory:  -> device: 1, name: NVIDIA GeForce RTX 2080, pci bus id: 0000:65:00.0, compute capability: 7.5\n"
     ]
    },
    {
     "name": "stdout",
     "output_type": "stream",
     "text": [
      "'_read_params_from_file': 0.080 seconds\n",
      "'set_parameters': 0.006 seconds\n",
      "'load_params': 0.087 seconds\n",
      "'set_lengthscales_constraints': 0.006 seconds\n",
      "*** not optimising parameters\n",
      "'get_parameters': 0.004 seconds\n",
      "parameters:\n",
      "lengthscales: array([4.68175434, 6.88750719, 1.00029031]) \n",
      "kernel_variance: 0.013307544095982522\n",
      "likelihood_variance: 0.006000000000000003\n",
      "'predict': 0.047 seconds\n",
      "total run time : 0.70 seconds\n",
      "------------------------------\n",
      "198 / 363\n",
      "            x          y        t       date   lon        lat\n",
      "50  1000000.0 -1000000.0  18326.0 2020-03-05  45.0  77.310512\n",
      "'_update_global_data': 0.001 seconds\n",
      "'local_data_select': 0.002 seconds\n",
      "number obs: 39\n",
      "'_max_dist_bool': 0.013 seconds\n",
      "'_from_dataframe': 0.015 seconds\n",
      "found GPU\n",
      "setting lengthscales to: [1. 1. 1.]\n",
      "'__init__': 0.163 seconds\n"
     ]
    },
    {
     "name": "stderr",
     "output_type": "stream",
     "text": [
      "2023-06-05 17:59:37.593689: I tensorflow/core/common_runtime/gpu/gpu_device.cc:1616] Created device /device:GPU:0 with 6261 MB memory:  -> device: 0, name: NVIDIA GeForce RTX 2080, pci bus id: 0000:17:00.0, compute capability: 7.5\n",
      "2023-06-05 17:59:37.594777: I tensorflow/core/common_runtime/gpu/gpu_device.cc:1616] Created device /device:GPU:1 with 4157 MB memory:  -> device: 1, name: NVIDIA GeForce RTX 2080, pci bus id: 0000:65:00.0, compute capability: 7.5\n"
     ]
    },
    {
     "name": "stdout",
     "output_type": "stream",
     "text": [
      "'_read_params_from_file': 0.082 seconds\n",
      "'set_parameters': 0.006 seconds\n",
      "'load_params': 0.089 seconds\n",
      "'set_lengthscales_constraints': 0.006 seconds\n",
      "*** not optimising parameters\n",
      "'get_parameters': 0.004 seconds\n",
      "parameters:\n",
      "lengthscales: array([4.39480318, 7.19340048, 1.00028854]) \n",
      "kernel_variance: 0.011124062402940445\n",
      "likelihood_variance: 0.006000000000000003\n",
      "'predict': 0.047 seconds\n",
      "total run time : 0.68 seconds\n",
      "------------------------------\n",
      "199 / 363\n",
      "           x          y        t       date        lon       lat\n",
      "49  800000.0 -1000000.0  18326.0 2020-03-05  38.659808  78.51376\n",
      "'_update_global_data': 0.001 seconds\n",
      "'local_data_select': 0.002 seconds\n",
      "number obs: 61\n",
      "'_max_dist_bool': 0.013 seconds\n",
      "'_from_dataframe': 0.015 seconds\n",
      "found GPU\n",
      "setting lengthscales to: [1. 1. 1.]\n",
      "'__init__': 0.164 seconds\n"
     ]
    },
    {
     "name": "stderr",
     "output_type": "stream",
     "text": [
      "2023-06-05 17:59:38.273740: I tensorflow/core/common_runtime/gpu/gpu_device.cc:1616] Created device /device:GPU:0 with 6261 MB memory:  -> device: 0, name: NVIDIA GeForce RTX 2080, pci bus id: 0000:17:00.0, compute capability: 7.5\n",
      "2023-06-05 17:59:38.274794: I tensorflow/core/common_runtime/gpu/gpu_device.cc:1616] Created device /device:GPU:1 with 4157 MB memory:  -> device: 1, name: NVIDIA GeForce RTX 2080, pci bus id: 0000:65:00.0, compute capability: 7.5\n"
     ]
    },
    {
     "name": "stdout",
     "output_type": "stream",
     "text": [
      "'_read_params_from_file': 0.095 seconds\n",
      "'set_parameters': 0.006 seconds\n",
      "'load_params': 0.102 seconds\n",
      "'set_lengthscales_constraints': 0.006 seconds\n",
      "*** not optimising parameters\n",
      "'get_parameters': 0.008 seconds\n",
      "parameters:\n",
      "lengthscales: array([2.8173201 , 4.48317946, 1.00008594]) \n",
      "kernel_variance: 0.020581924999021717\n",
      "likelihood_variance: 0.006000000000000003\n",
      "'predict': 0.053 seconds\n",
      "total run time : 0.70 seconds\n",
      "------------------------------\n",
      "200 / 363\n",
      "           x          y        t       date        lon       lat\n",
      "48  600000.0 -1000000.0  18326.0 2020-03-05  30.963757  79.54339\n",
      "'_update_global_data': 0.001 seconds\n",
      "'local_data_select': 0.002 seconds\n",
      "number obs: 63\n",
      "'_max_dist_bool': 0.013 seconds\n",
      "'_from_dataframe': 0.015 seconds\n",
      "found GPU\n",
      "setting lengthscales to: [1. 1. 1.]\n",
      "'__init__': 0.154 seconds\n"
     ]
    },
    {
     "name": "stderr",
     "output_type": "stream",
     "text": [
      "2023-06-05 17:59:38.969709: I tensorflow/core/common_runtime/gpu/gpu_device.cc:1616] Created device /device:GPU:0 with 6261 MB memory:  -> device: 0, name: NVIDIA GeForce RTX 2080, pci bus id: 0000:17:00.0, compute capability: 7.5\n",
      "2023-06-05 17:59:38.970722: I tensorflow/core/common_runtime/gpu/gpu_device.cc:1616] Created device /device:GPU:1 with 4157 MB memory:  -> device: 1, name: NVIDIA GeForce RTX 2080, pci bus id: 0000:65:00.0, compute capability: 7.5\n"
     ]
    },
    {
     "name": "stdout",
     "output_type": "stream",
     "text": [
      "'_read_params_from_file': 0.094 seconds\n",
      "'set_parameters': 0.006 seconds\n",
      "'load_params': 0.101 seconds\n",
      "'set_lengthscales_constraints': 0.006 seconds\n",
      "*** not optimising parameters\n",
      "'get_parameters': 0.008 seconds\n",
      "parameters:\n",
      "lengthscales: array([2.16337277, 2.29347945, 1.00002431]) \n",
      "kernel_variance: 0.02915027472337776\n",
      "likelihood_variance: 0.006000000000000003\n",
      "'predict': 0.054 seconds\n",
      "SAVING RESULTS\n",
      "run_details\n",
      "preds\n",
      "lengthscales\n",
      "kernel_variance\n",
      "likelihood_variance\n",
      "total run time : 0.87 seconds\n",
      "------------------------------\n",
      "201 / 363\n",
      "           x          y        t       date        lon        lat\n",
      "47  400000.0 -1000000.0  18326.0 2020-03-05  21.801409  80.344951\n",
      "'_update_global_data': 0.001 seconds\n",
      "'local_data_select': 0.002 seconds\n",
      "number obs: 55\n",
      "'_max_dist_bool': 0.013 seconds\n",
      "'_from_dataframe': 0.014 seconds\n",
      "found GPU\n",
      "setting lengthscales to: [1. 1. 1.]\n",
      "'__init__': 0.173 seconds\n",
      "'_read_params_from_file': 0.079 seconds\n",
      "'set_parameters': 0.006 seconds\n",
      "'load_params': 0.086 seconds\n",
      "'set_lengthscales_constraints': 0.006 seconds\n",
      "*** not optimising parameters\n",
      "'get_parameters': 0.009 seconds\n",
      "parameters:\n",
      "lengthscales: array([3.93609719, 2.32896106, 1.00036493]) \n",
      "kernel_variance: 0.026319867829688523\n",
      "likelihood_variance: 0.006000000000000003\n"
     ]
    },
    {
     "name": "stderr",
     "output_type": "stream",
     "text": [
      "2023-06-05 17:59:39.858339: I tensorflow/core/common_runtime/gpu/gpu_device.cc:1616] Created device /device:GPU:0 with 6261 MB memory:  -> device: 0, name: NVIDIA GeForce RTX 2080, pci bus id: 0000:17:00.0, compute capability: 7.5\n",
      "2023-06-05 17:59:39.859514: I tensorflow/core/common_runtime/gpu/gpu_device.cc:1616] Created device /device:GPU:1 with 4157 MB memory:  -> device: 1, name: NVIDIA GeForce RTX 2080, pci bus id: 0000:65:00.0, compute capability: 7.5\n"
     ]
    },
    {
     "name": "stdout",
     "output_type": "stream",
     "text": [
      "'predict': 0.076 seconds\n",
      "total run time : 0.72 seconds\n",
      "------------------------------\n",
      "202 / 363\n",
      "            x          y        t       date        lon        lat\n",
      "55  2000000.0 -1000000.0  18326.0 2020-03-05  63.434949  69.868945\n",
      "'_update_global_data': 0.001 seconds\n",
      "'local_data_select': 0.002 seconds\n",
      "number obs: 6\n",
      "'_max_dist_bool': 0.018 seconds\n",
      "'_from_dataframe': 0.020 seconds\n",
      "found GPU\n",
      "setting lengthscales to: [1. 1. 1.]\n",
      "'__init__': 0.165 seconds\n"
     ]
    },
    {
     "name": "stderr",
     "output_type": "stream",
     "text": [
      "2023-06-05 17:59:40.578240: I tensorflow/core/common_runtime/gpu/gpu_device.cc:1616] Created device /device:GPU:0 with 6261 MB memory:  -> device: 0, name: NVIDIA GeForce RTX 2080, pci bus id: 0000:17:00.0, compute capability: 7.5\n",
      "2023-06-05 17:59:40.579437: I tensorflow/core/common_runtime/gpu/gpu_device.cc:1616] Created device /device:GPU:1 with 4157 MB memory:  -> device: 1, name: NVIDIA GeForce RTX 2080, pci bus id: 0000:65:00.0, compute capability: 7.5\n"
     ]
    },
    {
     "name": "stdout",
     "output_type": "stream",
     "text": [
      "'_read_params_from_file': 0.080 seconds\n",
      "'set_parameters': 0.006 seconds\n",
      "'load_params': 0.087 seconds\n",
      "'set_lengthscales_constraints': 0.006 seconds\n",
      "*** not optimising parameters\n",
      "'get_parameters': 0.004 seconds\n",
      "parameters:\n",
      "lengthscales: array([7.16542742, 0.91800625, 0.99973558]) \n",
      "kernel_variance: 0.07335132719581088\n",
      "likelihood_variance: 0.006000000000000003\n",
      "'predict': 0.059 seconds\n",
      "total run time : 0.69 seconds\n",
      "------------------------------\n",
      "203 / 363\n",
      "           x         y        t       date        lon        lat\n",
      "66  600000.0 -800000.0  18326.0 2020-03-05  36.869898  81.037096\n",
      "'_update_global_data': 0.001 seconds\n",
      "'local_data_select': 0.002 seconds\n",
      "number obs: 59\n",
      "'_max_dist_bool': 0.013 seconds\n",
      "'_from_dataframe': 0.015 seconds\n",
      "found GPU\n",
      "setting lengthscales to: [1. 1. 1.]\n",
      "'__init__': 0.163 seconds\n"
     ]
    },
    {
     "name": "stderr",
     "output_type": "stream",
     "text": [
      "2023-06-05 17:59:41.250689: I tensorflow/core/common_runtime/gpu/gpu_device.cc:1616] Created device /device:GPU:0 with 6261 MB memory:  -> device: 0, name: NVIDIA GeForce RTX 2080, pci bus id: 0000:17:00.0, compute capability: 7.5\n",
      "2023-06-05 17:59:41.251882: I tensorflow/core/common_runtime/gpu/gpu_device.cc:1616] Created device /device:GPU:1 with 4157 MB memory:  -> device: 1, name: NVIDIA GeForce RTX 2080, pci bus id: 0000:65:00.0, compute capability: 7.5\n"
     ]
    },
    {
     "name": "stdout",
     "output_type": "stream",
     "text": [
      "'_read_params_from_file': 0.100 seconds\n",
      "'set_parameters': 0.006 seconds\n",
      "'load_params': 0.107 seconds\n",
      "'set_lengthscales_constraints': 0.006 seconds\n",
      "*** not optimising parameters\n",
      "'get_parameters': 0.004 seconds\n",
      "parameters:\n",
      "lengthscales: array([2.97160606, 3.41645789, 0.99907279]) \n",
      "kernel_variance: 0.01326915980081006\n",
      "likelihood_variance: 0.006000000000000003\n",
      "'predict': 0.060 seconds\n",
      "total run time : 0.71 seconds\n",
      "------------------------------\n",
      "204 / 363\n",
      "           x         y        t       date   lon        lat\n",
      "67  800000.0 -800000.0  18326.0 2020-03-05  45.0  79.856495\n",
      "'_update_global_data': 0.001 seconds\n",
      "'local_data_select': 0.002 seconds\n",
      "number obs: 57\n",
      "'_max_dist_bool': 0.014 seconds\n",
      "'_from_dataframe': 0.016 seconds\n",
      "found GPU\n",
      "setting lengthscales to: [1. 1. 1.]\n"
     ]
    },
    {
     "name": "stderr",
     "output_type": "stream",
     "text": [
      "2023-06-05 17:59:41.997880: I tensorflow/core/common_runtime/gpu/gpu_device.cc:1616] Created device /device:GPU:0 with 6261 MB memory:  -> device: 0, name: NVIDIA GeForce RTX 2080, pci bus id: 0000:17:00.0, compute capability: 7.5\n",
      "2023-06-05 17:59:41.998982: I tensorflow/core/common_runtime/gpu/gpu_device.cc:1616] Created device /device:GPU:1 with 4157 MB memory:  -> device: 1, name: NVIDIA GeForce RTX 2080, pci bus id: 0000:65:00.0, compute capability: 7.5\n"
     ]
    },
    {
     "name": "stdout",
     "output_type": "stream",
     "text": [
      "'__init__': 0.187 seconds\n",
      "'_read_params_from_file': 0.078 seconds\n",
      "'set_parameters': 0.006 seconds\n",
      "'load_params': 0.084 seconds\n",
      "'set_lengthscales_constraints': 0.006 seconds\n",
      "*** not optimising parameters\n",
      "'get_parameters': 0.010 seconds\n",
      "parameters:\n",
      "lengthscales: array([3.15934523, 4.79670443, 0.99944578]) \n",
      "kernel_variance: 0.009674962091017638\n",
      "likelihood_variance: 0.006000000000000003\n",
      "'predict': 0.052 seconds\n",
      "total run time : 0.71 seconds\n",
      "------------------------------\n",
      "205 / 363\n",
      "            x         y        t       date        lon       lat\n",
      "68  1000000.0 -800000.0  18326.0 2020-03-05  51.340192  78.51376\n",
      "'_update_global_data': 0.001 seconds\n",
      "'local_data_select': 0.002 seconds\n",
      "number obs: 41\n",
      "'_max_dist_bool': 0.013 seconds\n",
      "'_from_dataframe': 0.015 seconds\n",
      "found GPU\n",
      "setting lengthscales to: [1. 1. 1.]\n",
      "'__init__': 0.157 seconds\n"
     ]
    },
    {
     "name": "stderr",
     "output_type": "stream",
     "text": [
      "2023-06-05 17:59:42.677758: I tensorflow/core/common_runtime/gpu/gpu_device.cc:1616] Created device /device:GPU:0 with 6261 MB memory:  -> device: 0, name: NVIDIA GeForce RTX 2080, pci bus id: 0000:17:00.0, compute capability: 7.5\n",
      "2023-06-05 17:59:42.678852: I tensorflow/core/common_runtime/gpu/gpu_device.cc:1616] Created device /device:GPU:1 with 4157 MB memory:  -> device: 1, name: NVIDIA GeForce RTX 2080, pci bus id: 0000:65:00.0, compute capability: 7.5\n"
     ]
    },
    {
     "name": "stdout",
     "output_type": "stream",
     "text": [
      "'_read_params_from_file': 0.095 seconds\n",
      "'set_parameters': 0.006 seconds\n",
      "'load_params': 0.103 seconds\n",
      "'set_lengthscales_constraints': 0.005 seconds\n",
      "*** not optimising parameters\n",
      "'get_parameters': 0.004 seconds\n",
      "parameters:\n",
      "lengthscales: array([4.29809248, 6.91180524, 1.00016593]) \n",
      "kernel_variance: 0.00656340293180413\n",
      "likelihood_variance: 0.006000000000000003\n",
      "'predict': 0.068 seconds\n",
      "total run time : 0.71 seconds\n",
      "------------------------------\n",
      "206 / 363\n",
      "      x         y        t       date  lon        lat\n",
      "87  0.0 -600000.0  18326.0 2020-03-05  0.0  84.626051\n",
      "'_update_global_data': 0.001 seconds\n",
      "'local_data_select': 0.002 seconds\n",
      "number obs: 19\n",
      "'_max_dist_bool': 0.013 seconds\n",
      "'_from_dataframe': 0.015 seconds\n",
      "found GPU\n",
      "setting lengthscales to: [1. 1. 1.]\n",
      "'__init__': 0.135 seconds\n"
     ]
    },
    {
     "name": "stderr",
     "output_type": "stream",
     "text": [
      "2023-06-05 17:59:43.364845: I tensorflow/core/common_runtime/gpu/gpu_device.cc:1616] Created device /device:GPU:0 with 6261 MB memory:  -> device: 0, name: NVIDIA GeForce RTX 2080, pci bus id: 0000:17:00.0, compute capability: 7.5\n",
      "2023-06-05 17:59:43.365903: I tensorflow/core/common_runtime/gpu/gpu_device.cc:1616] Created device /device:GPU:1 with 4157 MB memory:  -> device: 1, name: NVIDIA GeForce RTX 2080, pci bus id: 0000:65:00.0, compute capability: 7.5\n"
     ]
    },
    {
     "name": "stdout",
     "output_type": "stream",
     "text": [
      "'_read_params_from_file': 0.080 seconds\n",
      "'set_parameters': 0.006 seconds\n",
      "'load_params': 0.087 seconds\n",
      "'set_lengthscales_constraints': 0.006 seconds\n",
      "*** not optimising parameters\n",
      "'get_parameters': 0.011 seconds\n",
      "parameters:\n",
      "lengthscales: array([10.25365608,  6.43375899,  1.00665296]) \n",
      "kernel_variance: 0.0032139859409819724\n",
      "likelihood_variance: 0.006000000000000003\n",
      "'predict': 0.063 seconds\n",
      "total run time : 0.67 seconds\n",
      "------------------------------\n",
      "207 / 363\n",
      "           x         y        t       date        lon        lat\n",
      "86 -200000.0 -600000.0  18326.0 2020-03-05 -18.434949  84.335111\n",
      "'_update_global_data': 0.001 seconds\n",
      "'local_data_select': 0.002 seconds\n",
      "number obs: 15\n",
      "'_max_dist_bool': 0.013 seconds\n",
      "'_from_dataframe': 0.015 seconds\n",
      "found GPU\n",
      "setting lengthscales to: [1. 1. 1.]\n",
      "'__init__': 0.121 seconds\n"
     ]
    },
    {
     "name": "stderr",
     "output_type": "stream",
     "text": [
      "2023-06-05 17:59:44.031576: I tensorflow/core/common_runtime/gpu/gpu_device.cc:1616] Created device /device:GPU:0 with 6261 MB memory:  -> device: 0, name: NVIDIA GeForce RTX 2080, pci bus id: 0000:17:00.0, compute capability: 7.5\n",
      "2023-06-05 17:59:44.031994: I tensorflow/core/common_runtime/gpu/gpu_device.cc:1616] Created device /device:GPU:1 with 4157 MB memory:  -> device: 1, name: NVIDIA GeForce RTX 2080, pci bus id: 0000:65:00.0, compute capability: 7.5\n"
     ]
    },
    {
     "name": "stdout",
     "output_type": "stream",
     "text": [
      "'_read_params_from_file': 0.082 seconds\n",
      "'set_parameters': 0.007 seconds\n",
      "'load_params': 0.090 seconds\n",
      "'set_lengthscales_constraints': 0.006 seconds\n",
      "*** not optimising parameters\n",
      "'get_parameters': 0.011 seconds\n",
      "parameters:\n",
      "lengthscales: array([8.79489428, 8.94374595, 1.01672418]) \n",
      "kernel_variance: 0.0047369453492018465\n",
      "likelihood_variance: 0.006000000000000003\n",
      "'predict': 0.058 seconds\n",
      "total run time : 0.65 seconds\n",
      "------------------------------\n",
      "208 / 363\n",
      "           x         y        t       date        lon        lat\n",
      "85 -400000.0 -600000.0  18326.0 2020-03-05 -33.690068  83.540179\n",
      "'_update_global_data': 0.001 seconds\n",
      "'local_data_select': 0.002 seconds\n",
      "number obs: 18\n",
      "'_max_dist_bool': 0.013 seconds\n",
      "'_from_dataframe': 0.015 seconds\n",
      "found GPU\n",
      "setting lengthscales to: [1. 1. 1.]\n",
      "'__init__': 0.170 seconds\n"
     ]
    },
    {
     "name": "stderr",
     "output_type": "stream",
     "text": [
      "2023-06-05 17:59:44.725785: I tensorflow/core/common_runtime/gpu/gpu_device.cc:1616] Created device /device:GPU:0 with 6261 MB memory:  -> device: 0, name: NVIDIA GeForce RTX 2080, pci bus id: 0000:17:00.0, compute capability: 7.5\n",
      "2023-06-05 17:59:44.726882: I tensorflow/core/common_runtime/gpu/gpu_device.cc:1616] Created device /device:GPU:1 with 4157 MB memory:  -> device: 1, name: NVIDIA GeForce RTX 2080, pci bus id: 0000:65:00.0, compute capability: 7.5\n"
     ]
    },
    {
     "name": "stdout",
     "output_type": "stream",
     "text": [
      "'_read_params_from_file': 0.080 seconds\n",
      "'set_parameters': 0.006 seconds\n",
      "'load_params': 0.087 seconds\n",
      "'set_lengthscales_constraints': 0.006 seconds\n",
      "*** not optimising parameters\n",
      "'get_parameters': 0.004 seconds\n",
      "parameters:\n",
      "lengthscales: array([ 7.3302466 , 10.55996723,  1.01209047]) \n",
      "kernel_variance: 0.006591353092379117\n",
      "likelihood_variance: 0.006000000000000003\n",
      "'predict': 0.046 seconds\n",
      "total run time : 0.68 seconds\n",
      "------------------------------\n",
      "209 / 363\n",
      "           x         y        t       date   lon        lat\n",
      "84 -600000.0 -600000.0  18326.0 2020-03-05 -45.0  82.397073\n",
      "'_update_global_data': 0.001 seconds\n",
      "'local_data_select': 0.002 seconds\n",
      "number obs: 10\n",
      "'_max_dist_bool': 0.013 seconds\n",
      "'_from_dataframe': 0.015 seconds\n",
      "found GPU\n",
      "setting lengthscales to: [1. 1. 1.]\n",
      "'__init__': 0.135 seconds\n"
     ]
    },
    {
     "name": "stderr",
     "output_type": "stream",
     "text": [
      "2023-06-05 17:59:45.376755: I tensorflow/core/common_runtime/gpu/gpu_device.cc:1616] Created device /device:GPU:0 with 6261 MB memory:  -> device: 0, name: NVIDIA GeForce RTX 2080, pci bus id: 0000:17:00.0, compute capability: 7.5\n",
      "2023-06-05 17:59:45.377681: I tensorflow/core/common_runtime/gpu/gpu_device.cc:1616] Created device /device:GPU:1 with 4157 MB memory:  -> device: 1, name: NVIDIA GeForce RTX 2080, pci bus id: 0000:65:00.0, compute capability: 7.5\n"
     ]
    },
    {
     "name": "stdout",
     "output_type": "stream",
     "text": [
      "'_read_params_from_file': 0.097 seconds\n",
      "'set_parameters': 0.006 seconds\n",
      "'load_params': 0.103 seconds\n",
      "'set_lengthscales_constraints': 0.006 seconds\n",
      "*** not optimising parameters\n",
      "'get_parameters': 0.004 seconds\n",
      "parameters:\n",
      "lengthscales: array([ 7.61477704, 10.48218843,  1.00306925]) \n",
      "kernel_variance: 0.008552218411273653\n",
      "likelihood_variance: 0.006000000000000003\n",
      "'predict': 0.046 seconds\n",
      "total run time : 0.66 seconds\n",
      "------------------------------\n",
      "210 / 363\n",
      "           x         y        t       date        lon        lat\n",
      "83 -800000.0 -600000.0  18326.0 2020-03-05 -53.130102  81.037096\n",
      "'_update_global_data': 0.001 seconds\n",
      "'local_data_select': 0.002 seconds\n",
      "number obs: 1\n",
      "SAVING RESULTS\n",
      "run_details\n",
      "preds\n",
      "lengthscales\n",
      "kernel_variance\n",
      "likelihood_variance\n",
      "------------------------------\n",
      "211 / 363\n",
      "            x         y        t       date        lon        lat\n",
      "82 -1200000.0 -600000.0  18326.0 2020-03-05 -63.434949  77.964362\n",
      "'_update_global_data': 0.001 seconds\n",
      "'local_data_select': 0.002 seconds\n",
      "number obs: 11\n",
      "'_max_dist_bool': 0.013 seconds\n",
      "'_from_dataframe': 0.015 seconds\n",
      "found GPU\n",
      "setting lengthscales to: [1. 1. 1.]\n",
      "'__init__': 0.167 seconds\n"
     ]
    },
    {
     "name": "stderr",
     "output_type": "stream",
     "text": [
      "2023-06-05 17:59:46.260537: I tensorflow/core/common_runtime/gpu/gpu_device.cc:1616] Created device /device:GPU:0 with 6261 MB memory:  -> device: 0, name: NVIDIA GeForce RTX 2080, pci bus id: 0000:17:00.0, compute capability: 7.5\n",
      "2023-06-05 17:59:46.261468: I tensorflow/core/common_runtime/gpu/gpu_device.cc:1616] Created device /device:GPU:1 with 4157 MB memory:  -> device: 1, name: NVIDIA GeForce RTX 2080, pci bus id: 0000:65:00.0, compute capability: 7.5\n"
     ]
    },
    {
     "name": "stdout",
     "output_type": "stream",
     "text": [
      "'_read_params_from_file': 0.096 seconds\n",
      "'set_parameters': 0.007 seconds\n",
      "'load_params': 0.103 seconds\n",
      "'set_lengthscales_constraints': 0.005 seconds\n",
      "*** not optimising parameters\n",
      "'get_parameters': 0.009 seconds\n",
      "parameters:\n",
      "lengthscales: array([4.93506538, 9.55847678, 0.99923982]) \n",
      "kernel_variance: 0.009476763062760293\n",
      "likelihood_variance: 0.006000000000000003\n",
      "'predict': 0.058 seconds\n",
      "total run time : 0.71 seconds\n",
      "------------------------------\n",
      "212 / 363\n",
      "            x         y        t       date        lon        lat\n",
      "81 -1400000.0 -600000.0  18326.0 2020-03-05 -66.801409  76.328153\n",
      "'_update_global_data': 0.001 seconds\n",
      "'local_data_select': 0.002 seconds\n",
      "number obs: 29\n",
      "'_max_dist_bool': 0.013 seconds\n",
      "'_from_dataframe': 0.015 seconds\n",
      "found GPU\n",
      "setting lengthscales to: [1. 1. 1.]\n",
      "'__init__': 0.148 seconds\n"
     ]
    },
    {
     "name": "stderr",
     "output_type": "stream",
     "text": [
      "2023-06-05 17:59:46.946929: I tensorflow/core/common_runtime/gpu/gpu_device.cc:1616] Created device /device:GPU:0 with 6261 MB memory:  -> device: 0, name: NVIDIA GeForce RTX 2080, pci bus id: 0000:17:00.0, compute capability: 7.5\n",
      "2023-06-05 17:59:46.948131: I tensorflow/core/common_runtime/gpu/gpu_device.cc:1616] Created device /device:GPU:1 with 4157 MB memory:  -> device: 1, name: NVIDIA GeForce RTX 2080, pci bus id: 0000:65:00.0, compute capability: 7.5\n"
     ]
    },
    {
     "name": "stdout",
     "output_type": "stream",
     "text": [
      "'_read_params_from_file': 0.078 seconds\n",
      "'set_parameters': 0.006 seconds\n",
      "'load_params': 0.085 seconds\n",
      "'set_lengthscales_constraints': 0.006 seconds\n",
      "*** not optimising parameters\n",
      "'get_parameters': 0.004 seconds\n",
      "parameters:\n",
      "lengthscales: array([ 6.89172956, 10.7654286 ,  0.99931892]) \n",
      "kernel_variance: 0.007176776119936809\n",
      "likelihood_variance: 0.006000000000000003\n",
      "'predict': 0.046 seconds\n",
      "total run time : 0.65 seconds\n",
      "------------------------------\n",
      "213 / 363\n",
      "            x         y        t       date        lon        lat\n",
      "80 -1600000.0 -600000.0  18326.0 2020-03-05 -69.443955  74.651565\n",
      "'_update_global_data': 0.001 seconds\n",
      "'local_data_select': 0.002 seconds\n",
      "number obs: 46\n",
      "'_max_dist_bool': 0.013 seconds\n",
      "'_from_dataframe': 0.015 seconds\n",
      "found GPU\n",
      "setting lengthscales to: [1. 1. 1.]\n",
      "'__init__': 0.165 seconds\n"
     ]
    },
    {
     "name": "stderr",
     "output_type": "stream",
     "text": [
      "2023-06-05 17:59:47.617796: I tensorflow/core/common_runtime/gpu/gpu_device.cc:1616] Created device /device:GPU:0 with 6261 MB memory:  -> device: 0, name: NVIDIA GeForce RTX 2080, pci bus id: 0000:17:00.0, compute capability: 7.5\n",
      "2023-06-05 17:59:47.618842: I tensorflow/core/common_runtime/gpu/gpu_device.cc:1616] Created device /device:GPU:1 with 4157 MB memory:  -> device: 1, name: NVIDIA GeForce RTX 2080, pci bus id: 0000:65:00.0, compute capability: 7.5\n"
     ]
    },
    {
     "name": "stdout",
     "output_type": "stream",
     "text": [
      "'_read_params_from_file': 0.095 seconds\n",
      "'set_parameters': 0.006 seconds\n",
      "'load_params': 0.102 seconds\n",
      "'set_lengthscales_constraints': 0.006 seconds\n",
      "*** not optimising parameters\n",
      "'get_parameters': 0.004 seconds\n",
      "parameters:\n",
      "lengthscales: array([ 9.34669752, 11.19620742,  1.00288607]) \n",
      "kernel_variance: 0.005263767304248195\n",
      "likelihood_variance: 0.006000000000000003\n",
      "'predict': 0.046 seconds\n",
      "total run time : 0.71 seconds\n",
      "------------------------------\n",
      "214 / 363\n",
      "            x         y        t       date        lon        lat\n",
      "79 -1800000.0 -600000.0  18326.0 2020-03-05 -71.565051  72.944956\n",
      "'_update_global_data': 0.001 seconds\n",
      "'local_data_select': 0.003 seconds\n",
      "number obs: 33\n",
      "'_max_dist_bool': 0.017 seconds\n",
      "'_from_dataframe': 0.019 seconds\n",
      "found GPU\n",
      "setting lengthscales to: [1. 1. 1.]\n",
      "'__init__': 0.164 seconds\n"
     ]
    },
    {
     "name": "stderr",
     "output_type": "stream",
     "text": [
      "2023-06-05 17:59:48.333618: I tensorflow/core/common_runtime/gpu/gpu_device.cc:1616] Created device /device:GPU:0 with 6261 MB memory:  -> device: 0, name: NVIDIA GeForce RTX 2080, pci bus id: 0000:17:00.0, compute capability: 7.5\n",
      "2023-06-05 17:59:48.334801: I tensorflow/core/common_runtime/gpu/gpu_device.cc:1616] Created device /device:GPU:1 with 4157 MB memory:  -> device: 1, name: NVIDIA GeForce RTX 2080, pci bus id: 0000:65:00.0, compute capability: 7.5\n"
     ]
    },
    {
     "name": "stdout",
     "output_type": "stream",
     "text": [
      "'_read_params_from_file': 0.113 seconds\n",
      "'set_parameters': 0.006 seconds\n",
      "'load_params': 0.121 seconds\n",
      "'set_lengthscales_constraints': 0.006 seconds\n",
      "*** not optimising parameters\n",
      "'get_parameters': 0.010 seconds\n",
      "parameters:\n",
      "lengthscales: array([10.06145537, 10.55401195,  1.00527946]) \n",
      "kernel_variance: 0.004775640301025756\n",
      "likelihood_variance: 0.006000000000000003\n",
      "'predict': 0.063 seconds\n",
      "total run time : 0.74 seconds\n",
      "------------------------------\n",
      "215 / 363\n",
      "            x         y        t       date        lon        lat\n",
      "78 -2000000.0 -600000.0  18326.0 2020-03-05 -73.300756  71.214902\n",
      "'_update_global_data': 0.001 seconds\n",
      "'local_data_select': 0.002 seconds\n",
      "number obs: 14\n",
      "'_max_dist_bool': 0.014 seconds\n",
      "'_from_dataframe': 0.015 seconds\n",
      "found GPU\n",
      "setting lengthscales to: [1. 1. 1.]\n",
      "'__init__': 0.166 seconds\n"
     ]
    },
    {
     "name": "stderr",
     "output_type": "stream",
     "text": [
      "2023-06-05 17:59:49.069846: I tensorflow/core/common_runtime/gpu/gpu_device.cc:1616] Created device /device:GPU:0 with 6261 MB memory:  -> device: 0, name: NVIDIA GeForce RTX 2080, pci bus id: 0000:17:00.0, compute capability: 7.5\n",
      "2023-06-05 17:59:49.070942: I tensorflow/core/common_runtime/gpu/gpu_device.cc:1616] Created device /device:GPU:1 with 4157 MB memory:  -> device: 1, name: NVIDIA GeForce RTX 2080, pci bus id: 0000:65:00.0, compute capability: 7.5\n"
     ]
    },
    {
     "name": "stdout",
     "output_type": "stream",
     "text": [
      "'_read_params_from_file': 0.081 seconds\n",
      "'set_parameters': 0.006 seconds\n",
      "'load_params': 0.088 seconds\n",
      "'set_lengthscales_constraints': 0.006 seconds\n",
      "*** not optimising parameters\n",
      "'get_parameters': 0.009 seconds\n",
      "parameters:\n",
      "lengthscales: array([8.56764521, 8.28512248, 0.99926059]) \n",
      "kernel_variance: 0.006244433116881761\n",
      "likelihood_variance: 0.006000000000000003\n",
      "'predict': 0.052 seconds\n",
      "total run time : 0.69 seconds\n",
      "------------------------------\n",
      "216 / 363\n",
      "            x         y        t       date        lon        lat\n",
      "77 -2200000.0 -600000.0  18326.0 2020-03-05 -74.744881  69.465665\n",
      "'_update_global_data': 0.001 seconds\n",
      "'local_data_select': 0.002 seconds\n",
      "number obs: 11\n",
      "'_max_dist_bool': 0.014 seconds\n",
      "'_from_dataframe': 0.016 seconds\n",
      "found GPU\n",
      "setting lengthscales to: [1. 1. 1.]\n",
      "'__init__': 0.166 seconds\n"
     ]
    },
    {
     "name": "stderr",
     "output_type": "stream",
     "text": [
      "2023-06-05 17:59:49.765784: I tensorflow/core/common_runtime/gpu/gpu_device.cc:1616] Created device /device:GPU:0 with 6261 MB memory:  -> device: 0, name: NVIDIA GeForce RTX 2080, pci bus id: 0000:17:00.0, compute capability: 7.5\n",
      "2023-06-05 17:59:49.766769: I tensorflow/core/common_runtime/gpu/gpu_device.cc:1616] Created device /device:GPU:1 with 4157 MB memory:  -> device: 1, name: NVIDIA GeForce RTX 2080, pci bus id: 0000:65:00.0, compute capability: 7.5\n"
     ]
    },
    {
     "name": "stdout",
     "output_type": "stream",
     "text": [
      "'_read_params_from_file': 0.082 seconds\n",
      "'set_parameters': 0.007 seconds\n",
      "'load_params': 0.089 seconds\n",
      "'set_lengthscales_constraints': 0.006 seconds\n",
      "*** not optimising parameters\n",
      "'get_parameters': 0.004 seconds\n",
      "parameters:\n",
      "lengthscales: array([6.02712363, 4.62045866, 0.9965747 ]) \n",
      "kernel_variance: 0.011020053863598287\n",
      "likelihood_variance: 0.006000000000000003\n",
      "'predict': 0.047 seconds\n",
      "total run time : 0.68 seconds\n",
      "------------------------------\n",
      "217 / 363\n",
      "            x         y        t       date        lon        lat\n",
      "76 -2400000.0 -600000.0  18326.0 2020-03-05 -75.963757  67.700048\n",
      "'_update_global_data': 0.001 seconds\n",
      "'local_data_select': 0.002 seconds\n",
      "number obs: 19\n",
      "'_max_dist_bool': 0.013 seconds\n",
      "'_from_dataframe': 0.015 seconds\n",
      "found GPU\n",
      "setting lengthscales to: [1. 1. 1.]\n",
      "'__init__': 0.145 seconds\n"
     ]
    },
    {
     "name": "stderr",
     "output_type": "stream",
     "text": [
      "2023-06-05 17:59:50.439242: I tensorflow/core/common_runtime/gpu/gpu_device.cc:1616] Created device /device:GPU:0 with 6261 MB memory:  -> device: 0, name: NVIDIA GeForce RTX 2080, pci bus id: 0000:17:00.0, compute capability: 7.5\n",
      "2023-06-05 17:59:50.439682: I tensorflow/core/common_runtime/gpu/gpu_device.cc:1616] Created device /device:GPU:1 with 4157 MB memory:  -> device: 1, name: NVIDIA GeForce RTX 2080, pci bus id: 0000:65:00.0, compute capability: 7.5\n"
     ]
    },
    {
     "name": "stdout",
     "output_type": "stream",
     "text": [
      "'_read_params_from_file': 0.101 seconds\n",
      "'set_parameters': 0.006 seconds\n",
      "'load_params': 0.108 seconds\n",
      "'set_lengthscales_constraints': 0.006 seconds\n",
      "*** not optimising parameters\n",
      "'get_parameters': 0.004 seconds\n",
      "parameters:\n",
      "lengthscales: array([3.08961259, 1.73764268, 0.99893758]) \n",
      "kernel_variance: 0.02039888111137869\n",
      "likelihood_variance: 0.006000000000000003\n",
      "'predict': 0.047 seconds\n",
      "total run time : 0.68 seconds\n",
      "------------------------------\n",
      "218 / 363\n",
      "            x         y        t       date        lon        lat\n",
      "75 -2600000.0 -600000.0  18326.0 2020-03-05 -77.005383  65.919893\n",
      "'_update_global_data': 0.001 seconds\n",
      "'local_data_select': 0.002 seconds\n",
      "number obs: 18\n",
      "'_max_dist_bool': 0.013 seconds\n",
      "'_from_dataframe': 0.015 seconds\n",
      "found GPU\n",
      "setting lengthscales to: [1. 1. 1.]\n",
      "'__init__': 0.158 seconds\n"
     ]
    },
    {
     "name": "stderr",
     "output_type": "stream",
     "text": [
      "2023-06-05 17:59:51.126313: I tensorflow/core/common_runtime/gpu/gpu_device.cc:1616] Created device /device:GPU:0 with 6261 MB memory:  -> device: 0, name: NVIDIA GeForce RTX 2080, pci bus id: 0000:17:00.0, compute capability: 7.5\n",
      "2023-06-05 17:59:51.127445: I tensorflow/core/common_runtime/gpu/gpu_device.cc:1616] Created device /device:GPU:1 with 4157 MB memory:  -> device: 1, name: NVIDIA GeForce RTX 2080, pci bus id: 0000:65:00.0, compute capability: 7.5\n"
     ]
    },
    {
     "name": "stdout",
     "output_type": "stream",
     "text": [
      "'_read_params_from_file': 0.080 seconds\n",
      "'set_parameters': 0.006 seconds\n",
      "'load_params': 0.087 seconds\n",
      "'set_lengthscales_constraints': 0.006 seconds\n",
      "*** not optimising parameters\n",
      "'get_parameters': 0.004 seconds\n",
      "parameters:\n",
      "lengthscales: array([1.13764625, 0.70171629, 0.99995332]) \n",
      "kernel_variance: 0.0315989242654381\n",
      "likelihood_variance: 0.006000000000000003\n",
      "'predict': 0.047 seconds\n",
      "total run time : 0.68 seconds\n",
      "------------------------------\n",
      "219 / 363\n",
      "            x         y        t       date        lon        lat\n",
      "74 -2800000.0 -600000.0  18326.0 2020-03-05 -77.905243  64.126392\n",
      "'_update_global_data': 0.001 seconds\n",
      "'local_data_select': 0.002 seconds\n",
      "number obs: 9\n",
      "'_max_dist_bool': 0.014 seconds\n",
      "'_from_dataframe': 0.016 seconds\n",
      "found GPU\n",
      "setting lengthscales to: [1. 1. 1.]\n",
      "'__init__': 0.164 seconds\n"
     ]
    },
    {
     "name": "stderr",
     "output_type": "stream",
     "text": [
      "2023-06-05 17:59:51.812105: I tensorflow/core/common_runtime/gpu/gpu_device.cc:1616] Created device /device:GPU:0 with 6261 MB memory:  -> device: 0, name: NVIDIA GeForce RTX 2080, pci bus id: 0000:17:00.0, compute capability: 7.5\n",
      "2023-06-05 17:59:51.813181: I tensorflow/core/common_runtime/gpu/gpu_device.cc:1616] Created device /device:GPU:1 with 4157 MB memory:  -> device: 1, name: NVIDIA GeForce RTX 2080, pci bus id: 0000:65:00.0, compute capability: 7.5\n"
     ]
    },
    {
     "name": "stdout",
     "output_type": "stream",
     "text": [
      "'_read_params_from_file': 0.080 seconds\n",
      "'set_parameters': 0.006 seconds\n",
      "'load_params': 0.087 seconds\n",
      "'set_lengthscales_constraints': 0.006 seconds\n",
      "*** not optimising parameters\n",
      "'get_parameters': 0.004 seconds\n",
      "parameters:\n",
      "lengthscales: array([0.58066625, 0.52653165, 1.00003762]) \n",
      "kernel_variance: 0.041912938615006806\n",
      "likelihood_variance: 0.006000000000000003\n",
      "'predict': 0.065 seconds\n",
      "total run time : 0.69 seconds\n",
      "------------------------------\n",
      "220 / 363\n",
      "            x         y        t       date        lon        lat\n",
      "73  2000000.0 -800000.0  18326.0 2020-03-05  68.198591  70.615022\n",
      "'_update_global_data': 0.001 seconds\n",
      "'local_data_select': 0.002 seconds\n",
      "number obs: 10\n",
      "'_max_dist_bool': 0.013 seconds\n",
      "'_from_dataframe': 0.015 seconds\n",
      "found GPU\n",
      "setting lengthscales to: [1. 1. 1.]\n",
      "'__init__': 0.129 seconds\n"
     ]
    },
    {
     "name": "stderr",
     "output_type": "stream",
     "text": [
      "2023-06-05 17:59:52.471358: I tensorflow/core/common_runtime/gpu/gpu_device.cc:1616] Created device /device:GPU:0 with 6261 MB memory:  -> device: 0, name: NVIDIA GeForce RTX 2080, pci bus id: 0000:17:00.0, compute capability: 7.5\n",
      "2023-06-05 17:59:52.471775: I tensorflow/core/common_runtime/gpu/gpu_device.cc:1616] Created device /device:GPU:1 with 4157 MB memory:  -> device: 1, name: NVIDIA GeForce RTX 2080, pci bus id: 0000:65:00.0, compute capability: 7.5\n"
     ]
    },
    {
     "name": "stdout",
     "output_type": "stream",
     "text": [
      "'_read_params_from_file': 0.079 seconds\n",
      "'set_parameters': 0.006 seconds\n",
      "'load_params': 0.086 seconds\n",
      "'set_lengthscales_constraints': 0.006 seconds\n",
      "*** not optimising parameters\n",
      "'get_parameters': 0.004 seconds\n",
      "parameters:\n",
      "lengthscales: array([6.14056195, 1.1353588 , 0.99978464]) \n",
      "kernel_variance: 0.0686093780603852\n",
      "likelihood_variance: 0.006000000000000003\n",
      "'predict': 0.048 seconds\n",
      "SAVING RESULTS\n",
      "run_details\n",
      "preds\n",
      "lengthscales\n",
      "kernel_variance\n",
      "likelihood_variance\n",
      "total run time : 0.89 seconds\n",
      "------------------------------\n",
      "221 / 363\n",
      "            x         y        t       date        lon       lat\n",
      "72  1800000.0 -800000.0  18326.0 2020-03-05  66.037511  72.28859\n",
      "'_update_global_data': 0.001 seconds\n",
      "'local_data_select': 0.002 seconds\n",
      "number obs: 25\n",
      "'_max_dist_bool': 0.013 seconds\n",
      "'_from_dataframe': 0.015 seconds\n",
      "found GPU\n",
      "setting lengthscales to: [1. 1. 1.]\n",
      "'__init__': 0.154 seconds\n"
     ]
    },
    {
     "name": "stderr",
     "output_type": "stream",
     "text": [
      "2023-06-05 17:59:53.378574: I tensorflow/core/common_runtime/gpu/gpu_device.cc:1616] Created device /device:GPU:0 with 6261 MB memory:  -> device: 0, name: NVIDIA GeForce RTX 2080, pci bus id: 0000:17:00.0, compute capability: 7.5\n",
      "2023-06-05 17:59:53.379570: I tensorflow/core/common_runtime/gpu/gpu_device.cc:1616] Created device /device:GPU:1 with 4157 MB memory:  -> device: 1, name: NVIDIA GeForce RTX 2080, pci bus id: 0000:65:00.0, compute capability: 7.5\n"
     ]
    },
    {
     "name": "stdout",
     "output_type": "stream",
     "text": [
      "'_read_params_from_file': 0.092 seconds\n",
      "'set_parameters': 0.006 seconds\n",
      "'load_params': 0.099 seconds\n",
      "'set_lengthscales_constraints': 0.006 seconds\n",
      "*** not optimising parameters\n",
      "'get_parameters': 0.004 seconds\n",
      "parameters:\n",
      "lengthscales: array([3.92022109, 1.40641991, 0.99997589]) \n",
      "kernel_variance: 0.055968303625999305\n",
      "likelihood_variance: 0.006000000000000003\n",
      "'predict': 0.046 seconds\n",
      "total run time : 0.67 seconds\n",
      "------------------------------\n",
      "222 / 363\n",
      "            x         y        t       date        lon        lat\n",
      "71  1600000.0 -800000.0  18326.0 2020-03-05  63.434949  73.927516\n",
      "'_update_global_data': 0.001 seconds\n",
      "'local_data_select': 0.002 seconds\n",
      "number obs: 30\n",
      "'_max_dist_bool': 0.014 seconds\n",
      "'_from_dataframe': 0.015 seconds\n",
      "found GPU\n",
      "setting lengthscales to: [1. 1. 1.]\n",
      "'__init__': 0.154 seconds\n"
     ]
    },
    {
     "name": "stderr",
     "output_type": "stream",
     "text": [
      "2023-06-05 17:59:54.054303: I tensorflow/core/common_runtime/gpu/gpu_device.cc:1616] Created device /device:GPU:0 with 6261 MB memory:  -> device: 0, name: NVIDIA GeForce RTX 2080, pci bus id: 0000:17:00.0, compute capability: 7.5\n",
      "2023-06-05 17:59:54.055311: I tensorflow/core/common_runtime/gpu/gpu_device.cc:1616] Created device /device:GPU:1 with 4157 MB memory:  -> device: 1, name: NVIDIA GeForce RTX 2080, pci bus id: 0000:65:00.0, compute capability: 7.5\n"
     ]
    },
    {
     "name": "stdout",
     "output_type": "stream",
     "text": [
      "'_read_params_from_file': 0.081 seconds\n",
      "'set_parameters': 0.006 seconds\n",
      "'load_params': 0.088 seconds\n",
      "'set_lengthscales_constraints': 0.006 seconds\n",
      "*** not optimising parameters\n",
      "'get_parameters': 0.010 seconds\n",
      "parameters:\n",
      "lengthscales: array([2.71175361, 2.03280881, 1.0003019 ]) \n",
      "kernel_variance: 0.04138141728881541\n",
      "likelihood_variance: 0.006000000000000003\n",
      "'predict': 0.055 seconds\n",
      "total run time : 0.67 seconds\n",
      "------------------------------\n",
      "223 / 363\n",
      "            x         y        t       date        lon        lat\n",
      "70  1400000.0 -800000.0  18326.0 2020-03-05  60.255119  75.522123\n",
      "'_update_global_data': 0.001 seconds\n",
      "'local_data_select': 0.002 seconds\n",
      "number obs: 15\n",
      "'_max_dist_bool': 0.014 seconds\n",
      "'_from_dataframe': 0.016 seconds\n",
      "found GPU\n",
      "setting lengthscales to: [1. 1. 1.]\n",
      "'__init__': 0.160 seconds\n"
     ]
    },
    {
     "name": "stderr",
     "output_type": "stream",
     "text": [
      "2023-06-05 17:59:54.738132: I tensorflow/core/common_runtime/gpu/gpu_device.cc:1616] Created device /device:GPU:0 with 6261 MB memory:  -> device: 0, name: NVIDIA GeForce RTX 2080, pci bus id: 0000:17:00.0, compute capability: 7.5\n",
      "2023-06-05 17:59:54.739303: I tensorflow/core/common_runtime/gpu/gpu_device.cc:1616] Created device /device:GPU:1 with 4157 MB memory:  -> device: 1, name: NVIDIA GeForce RTX 2080, pci bus id: 0000:65:00.0, compute capability: 7.5\n"
     ]
    },
    {
     "name": "stdout",
     "output_type": "stream",
     "text": [
      "'_read_params_from_file': 0.096 seconds\n",
      "'set_parameters': 0.006 seconds\n",
      "'load_params': 0.103 seconds\n",
      "'set_lengthscales_constraints': 0.006 seconds\n",
      "*** not optimising parameters\n",
      "'get_parameters': 0.004 seconds\n",
      "parameters:\n",
      "lengthscales: array([3.36210265, 3.83436812, 1.00062314]) \n",
      "kernel_variance: 0.02487268021462735\n",
      "likelihood_variance: 0.006000000000000003\n",
      "'predict': 0.047 seconds\n",
      "total run time : 0.68 seconds\n",
      "------------------------------\n",
      "224 / 363\n",
      "            x         y        t       date        lon        lat\n",
      "69  1200000.0 -800000.0  18326.0 2020-03-05  56.309932  77.058063\n",
      "'_update_global_data': 0.001 seconds\n",
      "'local_data_select': 0.002 seconds\n",
      "number obs: 23\n",
      "'_max_dist_bool': 0.014 seconds\n",
      "'_from_dataframe': 0.015 seconds\n",
      "found GPU\n",
      "setting lengthscales to: [1. 1. 1.]\n",
      "'__init__': 0.161 seconds\n"
     ]
    },
    {
     "name": "stderr",
     "output_type": "stream",
     "text": [
      "2023-06-05 17:59:55.421873: I tensorflow/core/common_runtime/gpu/gpu_device.cc:1616] Created device /device:GPU:0 with 6261 MB memory:  -> device: 0, name: NVIDIA GeForce RTX 2080, pci bus id: 0000:17:00.0, compute capability: 7.5\n",
      "2023-06-05 17:59:55.422972: I tensorflow/core/common_runtime/gpu/gpu_device.cc:1616] Created device /device:GPU:1 with 4157 MB memory:  -> device: 1, name: NVIDIA GeForce RTX 2080, pci bus id: 0000:65:00.0, compute capability: 7.5\n"
     ]
    },
    {
     "name": "stdout",
     "output_type": "stream",
     "text": [
      "'_read_params_from_file': 0.081 seconds\n",
      "'set_parameters': 0.006 seconds\n",
      "'load_params': 0.088 seconds\n",
      "'set_lengthscales_constraints': 0.006 seconds\n",
      "*** not optimising parameters\n",
      "'get_parameters': 0.008 seconds\n",
      "parameters:\n",
      "lengthscales: array([4.57197784, 6.4506018 , 1.00057279]) \n",
      "kernel_variance: 0.010860458297008843\n",
      "likelihood_variance: 0.006000000000000003\n",
      "'predict': 0.052 seconds\n",
      "total run time : 0.71 seconds\n",
      "------------------------------\n",
      "225 / 363\n",
      "           x          y        t       date        lon        lat\n",
      "46  200000.0 -1000000.0  18326.0 2020-03-05  11.309932  80.859192\n",
      "'_update_global_data': 0.001 seconds\n",
      "'local_data_select': 0.002 seconds\n",
      "number obs: 47\n",
      "'_max_dist_bool': 0.014 seconds\n",
      "'_from_dataframe': 0.016 seconds\n",
      "found GPU\n",
      "setting lengthscales to: [1. 1. 1.]\n",
      "'__init__': 0.158 seconds\n"
     ]
    },
    {
     "name": "stderr",
     "output_type": "stream",
     "text": [
      "2023-06-05 17:59:56.129831: I tensorflow/core/common_runtime/gpu/gpu_device.cc:1616] Created device /device:GPU:0 with 6261 MB memory:  -> device: 0, name: NVIDIA GeForce RTX 2080, pci bus id: 0000:17:00.0, compute capability: 7.5\n",
      "2023-06-05 17:59:56.130913: I tensorflow/core/common_runtime/gpu/gpu_device.cc:1616] Created device /device:GPU:1 with 4157 MB memory:  -> device: 1, name: NVIDIA GeForce RTX 2080, pci bus id: 0000:65:00.0, compute capability: 7.5\n"
     ]
    },
    {
     "name": "stdout",
     "output_type": "stream",
     "text": [
      "'_read_params_from_file': 0.080 seconds\n",
      "'set_parameters': 0.006 seconds\n",
      "'load_params': 0.086 seconds\n",
      "'set_lengthscales_constraints': 0.006 seconds\n",
      "*** not optimising parameters\n",
      "'get_parameters': 0.004 seconds\n",
      "parameters:\n",
      "lengthscales: array([6.75552138, 3.24365163, 1.0006765 ]) \n",
      "kernel_variance: 0.013254705724443547\n",
      "likelihood_variance: 0.006000000000000003\n",
      "'predict': 0.046 seconds\n",
      "total run time : 0.66 seconds\n",
      "------------------------------\n",
      "226 / 363\n",
      "      x          y        t       date  lon        lat\n",
      "45  0.0 -1000000.0  18326.0 2020-03-05  0.0  81.037096\n",
      "'_update_global_data': 0.001 seconds\n",
      "'local_data_select': 0.002 seconds\n",
      "number obs: 60\n",
      "'_max_dist_bool': 0.013 seconds\n",
      "'_from_dataframe': 0.015 seconds\n",
      "found GPU\n",
      "setting lengthscales to: [1. 1. 1.]\n",
      "'__init__': 0.159 seconds\n"
     ]
    },
    {
     "name": "stderr",
     "output_type": "stream",
     "text": [
      "2023-06-05 17:59:56.789887: I tensorflow/core/common_runtime/gpu/gpu_device.cc:1616] Created device /device:GPU:0 with 6261 MB memory:  -> device: 0, name: NVIDIA GeForce RTX 2080, pci bus id: 0000:17:00.0, compute capability: 7.5\n",
      "2023-06-05 17:59:56.790789: I tensorflow/core/common_runtime/gpu/gpu_device.cc:1616] Created device /device:GPU:1 with 4157 MB memory:  -> device: 1, name: NVIDIA GeForce RTX 2080, pci bus id: 0000:65:00.0, compute capability: 7.5\n"
     ]
    },
    {
     "name": "stdout",
     "output_type": "stream",
     "text": [
      "'_read_params_from_file': 0.084 seconds\n",
      "'set_parameters': 0.006 seconds\n",
      "'load_params': 0.091 seconds\n",
      "'set_lengthscales_constraints': 0.006 seconds\n",
      "*** not optimising parameters\n",
      "'get_parameters': 0.004 seconds\n",
      "parameters:\n",
      "lengthscales: array([7.85154589, 3.84479182, 1.00045376]) \n",
      "kernel_variance: 0.004341803309800246\n",
      "likelihood_variance: 0.006000000000000003\n",
      "'predict': 0.047 seconds\n",
      "total run time : 0.67 seconds\n",
      "------------------------------\n",
      "227 / 363\n",
      "           x          y        t       date        lon        lat\n",
      "44 -200000.0 -1000000.0  18326.0 2020-03-05 -11.309932  80.859192\n",
      "'_update_global_data': 0.001 seconds\n",
      "'local_data_select': 0.002 seconds\n",
      "number obs: 44\n",
      "'_max_dist_bool': 0.013 seconds\n",
      "'_from_dataframe': 0.015 seconds\n",
      "found GPU\n",
      "setting lengthscales to: [1. 1. 1.]\n",
      "'__init__': 0.172 seconds\n"
     ]
    },
    {
     "name": "stderr",
     "output_type": "stream",
     "text": [
      "2023-06-05 17:59:57.477740: I tensorflow/core/common_runtime/gpu/gpu_device.cc:1616] Created device /device:GPU:0 with 6261 MB memory:  -> device: 0, name: NVIDIA GeForce RTX 2080, pci bus id: 0000:17:00.0, compute capability: 7.5\n",
      "2023-06-05 17:59:57.478830: I tensorflow/core/common_runtime/gpu/gpu_device.cc:1616] Created device /device:GPU:1 with 4157 MB memory:  -> device: 1, name: NVIDIA GeForce RTX 2080, pci bus id: 0000:65:00.0, compute capability: 7.5\n"
     ]
    },
    {
     "name": "stdout",
     "output_type": "stream",
     "text": [
      "'_read_params_from_file': 0.080 seconds\n",
      "'set_parameters': 0.006 seconds\n",
      "'load_params': 0.087 seconds\n",
      "'set_lengthscales_constraints': 0.005 seconds\n",
      "*** not optimising parameters\n",
      "'get_parameters': 0.004 seconds\n",
      "parameters:\n",
      "lengthscales: array([7.26231127, 4.22532292, 1.00017074]) \n",
      "kernel_variance: 0.0025832574369596597\n",
      "likelihood_variance: 0.006000000000000003\n",
      "'predict': 0.047 seconds\n",
      "total run time : 0.69 seconds\n",
      "------------------------------\n",
      "228 / 363\n",
      "           x          y        t       date        lon        lat\n",
      "43 -400000.0 -1000000.0  18326.0 2020-03-05 -21.801409  80.344951\n",
      "'_update_global_data': 0.001 seconds\n",
      "'local_data_select': 0.002 seconds\n",
      "number obs: 21\n",
      "'_max_dist_bool': 0.014 seconds\n",
      "'_from_dataframe': 0.016 seconds\n",
      "found GPU\n",
      "setting lengthscales to: [1. 1. 1.]\n",
      "'__init__': 0.160 seconds\n"
     ]
    },
    {
     "name": "stderr",
     "output_type": "stream",
     "text": [
      "2023-06-05 17:59:58.157668: I tensorflow/core/common_runtime/gpu/gpu_device.cc:1616] Created device /device:GPU:0 with 6261 MB memory:  -> device: 0, name: NVIDIA GeForce RTX 2080, pci bus id: 0000:17:00.0, compute capability: 7.5\n",
      "2023-06-05 17:59:58.158760: I tensorflow/core/common_runtime/gpu/gpu_device.cc:1616] Created device /device:GPU:1 with 4157 MB memory:  -> device: 1, name: NVIDIA GeForce RTX 2080, pci bus id: 0000:65:00.0, compute capability: 7.5\n"
     ]
    },
    {
     "name": "stdout",
     "output_type": "stream",
     "text": [
      "'_read_params_from_file': 0.094 seconds\n",
      "'set_parameters': 0.006 seconds\n",
      "'load_params': 0.101 seconds\n",
      "'set_lengthscales_constraints': 0.006 seconds\n",
      "*** not optimising parameters\n",
      "'get_parameters': 0.004 seconds\n",
      "parameters:\n",
      "lengthscales: array([5.6296564 , 4.20502449, 1.00002983]) \n",
      "kernel_variance: 0.0027062571394661197\n",
      "likelihood_variance: 0.006000000000000003\n",
      "'predict': 0.076 seconds\n",
      "total run time : 0.71 seconds\n",
      "------------------------------\n",
      "229 / 363\n",
      "           x          y        t       date        lon        lat\n",
      "19  400000.0 -1400000.0  18326.0 2020-03-05  15.945396  76.933635\n",
      "'_update_global_data': 0.001 seconds\n",
      "'local_data_select': 0.002 seconds\n",
      "number obs: 9\n",
      "'_max_dist_bool': 0.013 seconds\n",
      "'_from_dataframe': 0.015 seconds\n",
      "found GPU\n",
      "setting lengthscales to: [1. 1. 1.]\n",
      "'__init__': 0.130 seconds\n"
     ]
    },
    {
     "name": "stderr",
     "output_type": "stream",
     "text": [
      "2023-06-05 17:59:58.836924: I tensorflow/core/common_runtime/gpu/gpu_device.cc:1616] Created device /device:GPU:0 with 6261 MB memory:  -> device: 0, name: NVIDIA GeForce RTX 2080, pci bus id: 0000:17:00.0, compute capability: 7.5\n",
      "2023-06-05 17:59:58.837705: I tensorflow/core/common_runtime/gpu/gpu_device.cc:1616] Created device /device:GPU:1 with 4157 MB memory:  -> device: 1, name: NVIDIA GeForce RTX 2080, pci bus id: 0000:65:00.0, compute capability: 7.5\n"
     ]
    },
    {
     "name": "stdout",
     "output_type": "stream",
     "text": [
      "'_read_params_from_file': 0.080 seconds\n",
      "'set_parameters': 0.006 seconds\n",
      "'load_params': 0.087 seconds\n",
      "'set_lengthscales_constraints': 0.006 seconds\n",
      "*** not optimising parameters\n",
      "'get_parameters': 0.004 seconds\n",
      "parameters:\n",
      "lengthscales: array([3.12671365, 3.60278711, 0.99994435]) \n",
      "kernel_variance: 0.05278530321543649\n",
      "likelihood_variance: 0.006000000000000003\n",
      "'predict': 0.047 seconds\n",
      "total run time : 0.64 seconds\n",
      "------------------------------\n",
      "230 / 363\n",
      "           x          y        t       date       lon        lat\n",
      "18  200000.0 -1400000.0  18326.0 2020-03-05  8.130102  77.310512\n",
      "'_update_global_data': 0.001 seconds\n",
      "'local_data_select': 0.002 seconds\n",
      "number obs: 6\n",
      "'_max_dist_bool': 0.013 seconds\n",
      "'_from_dataframe': 0.015 seconds\n",
      "found GPU\n",
      "setting lengthscales to: [1. 1. 1.]\n",
      "'__init__': 0.164 seconds\n"
     ]
    },
    {
     "name": "stderr",
     "output_type": "stream",
     "text": [
      "2023-06-05 17:59:59.513656: I tensorflow/core/common_runtime/gpu/gpu_device.cc:1616] Created device /device:GPU:0 with 6261 MB memory:  -> device: 0, name: NVIDIA GeForce RTX 2080, pci bus id: 0000:17:00.0, compute capability: 7.5\n",
      "2023-06-05 17:59:59.514587: I tensorflow/core/common_runtime/gpu/gpu_device.cc:1616] Created device /device:GPU:1 with 4157 MB memory:  -> device: 1, name: NVIDIA GeForce RTX 2080, pci bus id: 0000:65:00.0, compute capability: 7.5\n"
     ]
    },
    {
     "name": "stdout",
     "output_type": "stream",
     "text": [
      "'_read_params_from_file': 0.079 seconds\n",
      "'set_parameters': 0.013 seconds\n",
      "'load_params': 0.093 seconds\n",
      "'set_lengthscales_constraints': 0.011 seconds\n",
      "*** not optimising parameters\n",
      "'get_parameters': 0.004 seconds\n",
      "parameters:\n",
      "lengthscales: array([5.81965268, 5.18967093, 0.99999526]) \n",
      "kernel_variance: 0.023213642184663624\n",
      "likelihood_variance: 0.006000000000000003\n",
      "'predict': 0.048 seconds\n",
      "SAVING RESULTS\n",
      "run_details\n",
      "preds\n",
      "lengthscales\n",
      "kernel_variance\n",
      "likelihood_variance\n",
      "total run time : 0.86 seconds\n",
      "------------------------------\n",
      "231 / 363\n",
      "      x          y        t       date  lon        lat\n",
      "17  0.0 -1400000.0  18326.0 2020-03-05  0.0  77.438605\n",
      "'_update_global_data': 0.001 seconds\n",
      "'local_data_select': 0.002 seconds\n",
      "number obs: 30\n",
      "'_max_dist_bool': 0.013 seconds\n",
      "'_from_dataframe': 0.015 seconds\n",
      "found GPU\n",
      "setting lengthscales to: [1. 1. 1.]\n",
      "'__init__': 0.186 seconds\n",
      "'_read_params_from_file': 0.078 seconds\n",
      "'set_parameters': 0.006 seconds\n",
      "'load_params': 0.085 seconds\n",
      "'set_lengthscales_constraints': 0.006 seconds\n",
      "*** not optimising parameters\n",
      "'get_parameters': 0.004 seconds\n",
      "parameters:\n",
      "lengthscales: array([6.92163997, 4.9515884 , 0.99997675]) \n",
      "kernel_variance: 0.00599025705835089\n",
      "likelihood_variance: 0.006000000000000003\n",
      "'predict': 0.048 seconds\n"
     ]
    },
    {
     "name": "stderr",
     "output_type": "stream",
     "text": [
      "2023-06-05 18:00:00.387411: I tensorflow/core/common_runtime/gpu/gpu_device.cc:1616] Created device /device:GPU:0 with 6261 MB memory:  -> device: 0, name: NVIDIA GeForce RTX 2080, pci bus id: 0000:17:00.0, compute capability: 7.5\n",
      "2023-06-05 18:00:00.388741: I tensorflow/core/common_runtime/gpu/gpu_device.cc:1616] Created device /device:GPU:1 with 4157 MB memory:  -> device: 1, name: NVIDIA GeForce RTX 2080, pci bus id: 0000:65:00.0, compute capability: 7.5\n"
     ]
    },
    {
     "name": "stdout",
     "output_type": "stream",
     "text": [
      "total run time : 0.70 seconds\n",
      "------------------------------\n",
      "232 / 363\n",
      "           x          y        t       date       lon        lat\n",
      "16 -200000.0 -1400000.0  18326.0 2020-03-05 -8.130102  77.310512\n",
      "'_update_global_data': 0.001 seconds\n",
      "'local_data_select': 0.002 seconds\n",
      "number obs: 41\n",
      "'_max_dist_bool': 0.013 seconds\n",
      "'_from_dataframe': 0.015 seconds\n",
      "found GPU\n",
      "setting lengthscales to: [1. 1. 1.]\n",
      "'__init__': 0.166 seconds\n"
     ]
    },
    {
     "name": "stderr",
     "output_type": "stream",
     "text": [
      "2023-06-05 18:00:01.070207: I tensorflow/core/common_runtime/gpu/gpu_device.cc:1616] Created device /device:GPU:0 with 6261 MB memory:  -> device: 0, name: NVIDIA GeForce RTX 2080, pci bus id: 0000:17:00.0, compute capability: 7.5\n",
      "2023-06-05 18:00:01.071418: I tensorflow/core/common_runtime/gpu/gpu_device.cc:1616] Created device /device:GPU:1 with 4157 MB memory:  -> device: 1, name: NVIDIA GeForce RTX 2080, pci bus id: 0000:65:00.0, compute capability: 7.5\n"
     ]
    },
    {
     "name": "stdout",
     "output_type": "stream",
     "text": [
      "'_read_params_from_file': 0.081 seconds\n",
      "'set_parameters': 0.014 seconds\n",
      "'load_params': 0.096 seconds\n",
      "'set_lengthscales_constraints': 0.010 seconds\n",
      "*** not optimising parameters\n",
      "'get_parameters': 0.004 seconds\n",
      "parameters:\n",
      "lengthscales: array([6.49138132, 4.36671225, 0.99985961]) \n",
      "kernel_variance: 0.002447769161288933\n",
      "likelihood_variance: 0.006000000000000003\n",
      "'predict': 0.068 seconds\n",
      "total run time : 0.70 seconds\n",
      "------------------------------\n",
      "233 / 363\n",
      "           x          y        t       date        lon        lat\n",
      "15 -400000.0 -1400000.0  18326.0 2020-03-05 -15.945396  76.933635\n",
      "'_update_global_data': 0.001 seconds\n",
      "'local_data_select': 0.002 seconds\n",
      "number obs: 33\n",
      "'_max_dist_bool': 0.013 seconds\n",
      "'_from_dataframe': 0.015 seconds\n",
      "found GPU\n",
      "setting lengthscales to: [1. 1. 1.]\n",
      "'__init__': 0.154 seconds\n"
     ]
    },
    {
     "name": "stderr",
     "output_type": "stream",
     "text": [
      "2023-06-05 18:00:01.758933: I tensorflow/core/common_runtime/gpu/gpu_device.cc:1616] Created device /device:GPU:0 with 6261 MB memory:  -> device: 0, name: NVIDIA GeForce RTX 2080, pci bus id: 0000:17:00.0, compute capability: 7.5\n",
      "2023-06-05 18:00:01.760257: I tensorflow/core/common_runtime/gpu/gpu_device.cc:1616] Created device /device:GPU:1 with 4157 MB memory:  -> device: 1, name: NVIDIA GeForce RTX 2080, pci bus id: 0000:65:00.0, compute capability: 7.5\n"
     ]
    },
    {
     "name": "stdout",
     "output_type": "stream",
     "text": [
      "'_read_params_from_file': 0.081 seconds\n",
      "'set_parameters': 0.006 seconds\n",
      "'load_params': 0.088 seconds\n",
      "'set_lengthscales_constraints': 0.006 seconds\n",
      "*** not optimising parameters\n",
      "'get_parameters': 0.004 seconds\n",
      "parameters:\n",
      "lengthscales: array([4.52150211, 4.46423214, 0.99949522]) \n",
      "kernel_variance: 0.001981964219327505\n",
      "likelihood_variance: 0.006000000000000003\n",
      "'predict': 0.048 seconds\n",
      "total run time : 0.67 seconds\n",
      "------------------------------\n",
      "234 / 363\n",
      "           x          y        t       date        lon        lat\n",
      "14 -600000.0 -1400000.0  18326.0 2020-03-05 -23.198591  76.328153\n",
      "'_update_global_data': 0.001 seconds\n",
      "'local_data_select': 0.002 seconds\n",
      "number obs: 13\n",
      "'_max_dist_bool': 0.014 seconds\n",
      "'_from_dataframe': 0.016 seconds\n",
      "found GPU\n",
      "setting lengthscales to: [1. 1. 1.]\n",
      "'__init__': 0.162 seconds\n"
     ]
    },
    {
     "name": "stderr",
     "output_type": "stream",
     "text": [
      "2023-06-05 18:00:02.445904: I tensorflow/core/common_runtime/gpu/gpu_device.cc:1616] Created device /device:GPU:0 with 6261 MB memory:  -> device: 0, name: NVIDIA GeForce RTX 2080, pci bus id: 0000:17:00.0, compute capability: 7.5\n",
      "2023-06-05 18:00:02.447000: I tensorflow/core/common_runtime/gpu/gpu_device.cc:1616] Created device /device:GPU:1 with 4157 MB memory:  -> device: 1, name: NVIDIA GeForce RTX 2080, pci bus id: 0000:65:00.0, compute capability: 7.5\n"
     ]
    },
    {
     "name": "stdout",
     "output_type": "stream",
     "text": [
      "'_read_params_from_file': 0.092 seconds\n",
      "'set_parameters': 0.006 seconds\n",
      "'load_params': 0.099 seconds\n",
      "'set_lengthscales_constraints': 0.006 seconds\n",
      "*** not optimising parameters\n",
      "'get_parameters': 0.004 seconds\n",
      "parameters:\n",
      "lengthscales: array([2.60374734, 4.57278365, 0.99887244]) \n",
      "kernel_variance: 0.0017066470561425623\n",
      "likelihood_variance: 0.006000000000000003\n",
      "'predict': 0.046 seconds\n",
      "total run time : 0.68 seconds\n",
      "------------------------------\n",
      "235 / 363\n",
      "            x          y        t       date       lon        lat\n",
      "13 -2000000.0 -1400000.0  18326.0 2020-03-05 -55.00798  67.997446\n",
      "'_update_global_data': 0.001 seconds\n",
      "'local_data_select': 0.002 seconds\n",
      "number obs: 22\n",
      "'_max_dist_bool': 0.014 seconds\n",
      "'_from_dataframe': 0.015 seconds\n",
      "found GPU\n",
      "setting lengthscales to: [1. 1. 1.]\n",
      "'__init__': 0.156 seconds\n"
     ]
    },
    {
     "name": "stderr",
     "output_type": "stream",
     "text": [
      "2023-06-05 18:00:03.121118: I tensorflow/core/common_runtime/gpu/gpu_device.cc:1616] Created device /device:GPU:0 with 6261 MB memory:  -> device: 0, name: NVIDIA GeForce RTX 2080, pci bus id: 0000:17:00.0, compute capability: 7.5\n",
      "2023-06-05 18:00:03.121638: I tensorflow/core/common_runtime/gpu/gpu_device.cc:1616] Created device /device:GPU:1 with 4157 MB memory:  -> device: 1, name: NVIDIA GeForce RTX 2080, pci bus id: 0000:65:00.0, compute capability: 7.5\n"
     ]
    },
    {
     "name": "stdout",
     "output_type": "stream",
     "text": [
      "'_read_params_from_file': 0.085 seconds\n",
      "'set_parameters': 0.006 seconds\n",
      "'load_params': 0.093 seconds\n",
      "'set_lengthscales_constraints': 0.006 seconds\n",
      "*** not optimising parameters\n",
      "'get_parameters': 0.004 seconds\n",
      "parameters:\n",
      "lengthscales: array([11.06543688, 11.75267711,  0.99416264]) \n",
      "kernel_variance: 0.0026368952538089966\n",
      "likelihood_variance: 0.006000000000000003\n",
      "'predict': 0.046 seconds\n",
      "total run time : 0.67 seconds\n",
      "------------------------------\n",
      "236 / 363\n",
      "            x          y        t       date        lon       lat\n",
      "12 -2200000.0 -1400000.0  18326.0 2020-03-05 -57.528808  66.47575\n",
      "'_update_global_data': 0.001 seconds\n",
      "'local_data_select': 0.002 seconds\n",
      "number obs: 19\n",
      "'_max_dist_bool': 0.014 seconds\n",
      "'_from_dataframe': 0.015 seconds\n",
      "found GPU\n",
      "setting lengthscales to: [1. 1. 1.]\n",
      "'__init__': 0.128 seconds\n"
     ]
    },
    {
     "name": "stderr",
     "output_type": "stream",
     "text": [
      "2023-06-05 18:00:03.772870: I tensorflow/core/common_runtime/gpu/gpu_device.cc:1616] Created device /device:GPU:0 with 6261 MB memory:  -> device: 0, name: NVIDIA GeForce RTX 2080, pci bus id: 0000:17:00.0, compute capability: 7.5\n",
      "2023-06-05 18:00:03.773312: I tensorflow/core/common_runtime/gpu/gpu_device.cc:1616] Created device /device:GPU:1 with 4157 MB memory:  -> device: 1, name: NVIDIA GeForce RTX 2080, pci bus id: 0000:65:00.0, compute capability: 7.5\n"
     ]
    },
    {
     "name": "stdout",
     "output_type": "stream",
     "text": [
      "'_read_params_from_file': 0.080 seconds\n",
      "'set_parameters': 0.006 seconds\n",
      "'load_params': 0.087 seconds\n",
      "'set_lengthscales_constraints': 0.006 seconds\n",
      "*** not optimising parameters\n",
      "'get_parameters': 0.004 seconds\n",
      "parameters:\n",
      "lengthscales: array([11.82706658, 11.92530733,  0.99680075]) \n",
      "kernel_variance: 0.0023112759951773526\n",
      "likelihood_variance: 0.006000000000000003\n",
      "'predict': 0.047 seconds\n",
      "total run time : 0.64 seconds\n",
      "------------------------------\n",
      "237 / 363\n",
      "            x          y        t       date        lon        lat\n",
      "11 -2400000.0 -1400000.0  18326.0 2020-03-05 -59.743563  64.908759\n",
      "'_update_global_data': 0.001 seconds\n",
      "'local_data_select': 0.002 seconds\n",
      "number obs: 11\n",
      "'_max_dist_bool': 0.013 seconds\n",
      "'_from_dataframe': 0.015 seconds\n",
      "found GPU\n",
      "setting lengthscales to: [1. 1. 1.]\n",
      "'__init__': 0.166 seconds\n"
     ]
    },
    {
     "name": "stderr",
     "output_type": "stream",
     "text": [
      "2023-06-05 18:00:04.449782: I tensorflow/core/common_runtime/gpu/gpu_device.cc:1616] Created device /device:GPU:0 with 6261 MB memory:  -> device: 0, name: NVIDIA GeForce RTX 2080, pci bus id: 0000:17:00.0, compute capability: 7.5\n",
      "2023-06-05 18:00:04.450885: I tensorflow/core/common_runtime/gpu/gpu_device.cc:1616] Created device /device:GPU:1 with 4157 MB memory:  -> device: 1, name: NVIDIA GeForce RTX 2080, pci bus id: 0000:65:00.0, compute capability: 7.5\n"
     ]
    },
    {
     "name": "stdout",
     "output_type": "stream",
     "text": [
      "'_read_params_from_file': 0.088 seconds\n",
      "'set_parameters': 0.006 seconds\n",
      "'load_params': 0.095 seconds\n",
      "'set_lengthscales_constraints': 0.006 seconds\n",
      "*** not optimising parameters\n",
      "'get_parameters': 0.004 seconds\n",
      "parameters:\n",
      "lengthscales: array([11.97794912, 11.96626995,  0.99922728]) \n",
      "kernel_variance: 0.002287437971598688\n",
      "likelihood_variance: 0.006000000000000003\n",
      "'predict': 0.047 seconds\n",
      "total run time : 0.69 seconds\n",
      "------------------------------\n",
      "238 / 363\n",
      "      x          y        t       date  lon        lat\n",
      "10  0.0 -1600000.0  18326.0 2020-03-05  0.0  75.634561\n",
      "'_update_global_data': 0.001 seconds\n",
      "'local_data_select': 0.002 seconds\n",
      "number obs: 6\n",
      "'_max_dist_bool': 0.013 seconds\n",
      "'_from_dataframe': 0.015 seconds\n",
      "found GPU\n",
      "setting lengthscales to: [1. 1. 1.]\n",
      "'__init__': 0.182 seconds\n"
     ]
    },
    {
     "name": "stderr",
     "output_type": "stream",
     "text": [
      "2023-06-05 18:00:05.146301: I tensorflow/core/common_runtime/gpu/gpu_device.cc:1616] Created device /device:GPU:0 with 6261 MB memory:  -> device: 0, name: NVIDIA GeForce RTX 2080, pci bus id: 0000:17:00.0, compute capability: 7.5\n",
      "2023-06-05 18:00:05.147405: I tensorflow/core/common_runtime/gpu/gpu_device.cc:1616] Created device /device:GPU:1 with 4157 MB memory:  -> device: 1, name: NVIDIA GeForce RTX 2080, pci bus id: 0000:65:00.0, compute capability: 7.5\n"
     ]
    },
    {
     "name": "stdout",
     "output_type": "stream",
     "text": [
      "'_read_params_from_file': 0.112 seconds\n",
      "'set_parameters': 0.006 seconds\n",
      "'load_params': 0.119 seconds\n",
      "'set_lengthscales_constraints': 0.006 seconds\n",
      "*** not optimising parameters\n",
      "'get_parameters': 0.004 seconds\n",
      "parameters:\n",
      "lengthscales: array([5.868913  , 6.53078223, 1.0000406 ]) \n",
      "kernel_variance: 0.004864632055842485\n",
      "likelihood_variance: 0.006000000000000003\n",
      "'predict': 0.046 seconds\n",
      "total run time : 0.72 seconds\n",
      "------------------------------\n",
      "239 / 363\n",
      "          x          y        t       date       lon        lat\n",
      "9 -200000.0 -1600000.0  18326.0 2020-03-05 -7.125016  75.522123\n",
      "'_update_global_data': 0.001 seconds\n",
      "'local_data_select': 0.002 seconds\n",
      "number obs: 24\n",
      "'_max_dist_bool': 0.013 seconds\n",
      "'_from_dataframe': 0.015 seconds\n",
      "found GPU\n",
      "setting lengthscales to: [1. 1. 1.]\n",
      "'__init__': 0.150 seconds\n"
     ]
    },
    {
     "name": "stderr",
     "output_type": "stream",
     "text": [
      "2023-06-05 18:00:05.849820: I tensorflow/core/common_runtime/gpu/gpu_device.cc:1616] Created device /device:GPU:0 with 6261 MB memory:  -> device: 0, name: NVIDIA GeForce RTX 2080, pci bus id: 0000:17:00.0, compute capability: 7.5\n",
      "2023-06-05 18:00:05.850471: I tensorflow/core/common_runtime/gpu/gpu_device.cc:1616] Created device /device:GPU:1 with 4157 MB memory:  -> device: 1, name: NVIDIA GeForce RTX 2080, pci bus id: 0000:65:00.0, compute capability: 7.5\n"
     ]
    },
    {
     "name": "stdout",
     "output_type": "stream",
     "text": [
      "'_read_params_from_file': 0.078 seconds\n",
      "'set_parameters': 0.006 seconds\n",
      "'load_params': 0.085 seconds\n",
      "'set_lengthscales_constraints': 0.006 seconds\n",
      "*** not optimising parameters\n",
      "'get_parameters': 0.004 seconds\n",
      "parameters:\n",
      "lengthscales: array([5.29147525, 6.23707661, 0.99990748]) \n",
      "kernel_variance: 0.002507304689044534\n",
      "likelihood_variance: 0.006000000000000003\n",
      "'predict': 0.046 seconds\n",
      "total run time : 0.65 seconds\n",
      "------------------------------\n",
      "240 / 363\n",
      "          x          y        t       date        lon        lat\n",
      "8 -400000.0 -1600000.0  18326.0 2020-03-05 -14.036243  75.189812\n",
      "'_update_global_data': 0.001 seconds\n",
      "'local_data_select': 0.002 seconds\n",
      "number obs: 21\n",
      "'_max_dist_bool': 0.013 seconds\n",
      "'_from_dataframe': 0.015 seconds\n",
      "found GPU\n",
      "setting lengthscales to: [1. 1. 1.]\n",
      "'__init__': 0.120 seconds\n"
     ]
    },
    {
     "name": "stderr",
     "output_type": "stream",
     "text": [
      "2023-06-05 18:00:06.479182: I tensorflow/core/common_runtime/gpu/gpu_device.cc:1616] Created device /device:GPU:0 with 6261 MB memory:  -> device: 0, name: NVIDIA GeForce RTX 2080, pci bus id: 0000:17:00.0, compute capability: 7.5\n",
      "2023-06-05 18:00:06.479589: I tensorflow/core/common_runtime/gpu/gpu_device.cc:1616] Created device /device:GPU:1 with 4157 MB memory:  -> device: 1, name: NVIDIA GeForce RTX 2080, pci bus id: 0000:65:00.0, compute capability: 7.5\n"
     ]
    },
    {
     "name": "stdout",
     "output_type": "stream",
     "text": [
      "'_read_params_from_file': 0.078 seconds\n",
      "'set_parameters': 0.006 seconds\n",
      "'load_params': 0.085 seconds\n",
      "'set_lengthscales_constraints': 0.006 seconds\n",
      "*** not optimising parameters\n",
      "'get_parameters': 0.004 seconds\n",
      "parameters:\n",
      "lengthscales: array([4.03788557, 6.77627285, 0.99931067]) \n",
      "kernel_variance: 0.002234614510988883\n",
      "likelihood_variance: 0.006000000000000003\n",
      "'predict': 0.047 seconds\n",
      "SAVING RESULTS\n",
      "run_details\n",
      "preds\n",
      "lengthscales\n",
      "kernel_variance\n",
      "likelihood_variance\n",
      "total run time : 0.83 seconds\n",
      "------------------------------\n",
      "241 / 363\n",
      "          x          y        t       date        lon        lat\n",
      "7 -600000.0 -1600000.0  18326.0 2020-03-05 -20.556045  74.651565\n",
      "'_update_global_data': 0.001 seconds\n",
      "'local_data_select': 0.004 seconds\n",
      "number obs: 8\n",
      "'_max_dist_bool': 0.027 seconds\n",
      "'_from_dataframe': 0.029 seconds\n",
      "found GPU\n",
      "setting lengthscales to: [1. 1. 1.]\n",
      "'__init__': 0.165 seconds\n"
     ]
    },
    {
     "name": "stderr",
     "output_type": "stream",
     "text": [
      "2023-06-05 18:00:07.351289: I tensorflow/core/common_runtime/gpu/gpu_device.cc:1616] Created device /device:GPU:0 with 6261 MB memory:  -> device: 0, name: NVIDIA GeForce RTX 2080, pci bus id: 0000:17:00.0, compute capability: 7.5\n",
      "2023-06-05 18:00:07.352556: I tensorflow/core/common_runtime/gpu/gpu_device.cc:1616] Created device /device:GPU:1 with 4157 MB memory:  -> device: 1, name: NVIDIA GeForce RTX 2080, pci bus id: 0000:65:00.0, compute capability: 7.5\n"
     ]
    },
    {
     "name": "stdout",
     "output_type": "stream",
     "text": [
      "'_read_params_from_file': 0.080 seconds\n",
      "'set_parameters': 0.013 seconds\n",
      "'load_params': 0.094 seconds\n",
      "'set_lengthscales_constraints': 0.011 seconds\n",
      "*** not optimising parameters\n",
      "'get_parameters': 0.009 seconds\n",
      "parameters:\n",
      "lengthscales: array([3.28093539, 6.86210953, 0.9982207 ]) \n",
      "kernel_variance: 0.00197158976312429\n",
      "likelihood_variance: 0.006000000000000003\n",
      "'predict': 0.056 seconds\n",
      "total run time : 0.73 seconds\n",
      "------------------------------\n",
      "242 / 363\n",
      "          x          y        t       date        lon        lat\n",
      "6 -800000.0 -1600000.0  18326.0 2020-03-05 -26.565051  73.927516\n",
      "'_update_global_data': 0.001 seconds\n",
      "'local_data_select': 0.002 seconds\n",
      "number obs: 0\n",
      "------------------------------\n",
      "243 / 363\n",
      "          x          y        t       date       lon        lat\n",
      "5 -200000.0 -1800000.0  18326.0 2020-03-05 -6.340192  73.726401\n",
      "'_update_global_data': 0.001 seconds\n",
      "'local_data_select': 0.002 seconds\n",
      "number obs: 4\n",
      "'_max_dist_bool': 0.014 seconds\n",
      "'_from_dataframe': 0.016 seconds\n",
      "found GPU\n",
      "setting lengthscales to: [1. 1. 1.]\n"
     ]
    },
    {
     "name": "stderr",
     "output_type": "stream",
     "text": [
      "2023-06-05 18:00:08.106218: I tensorflow/core/common_runtime/gpu/gpu_device.cc:1616] Created device /device:GPU:0 with 6261 MB memory:  -> device: 0, name: NVIDIA GeForce RTX 2080, pci bus id: 0000:17:00.0, compute capability: 7.5\n",
      "2023-06-05 18:00:08.107406: I tensorflow/core/common_runtime/gpu/gpu_device.cc:1616] Created device /device:GPU:1 with 4157 MB memory:  -> device: 1, name: NVIDIA GeForce RTX 2080, pci bus id: 0000:65:00.0, compute capability: 7.5\n"
     ]
    },
    {
     "name": "stdout",
     "output_type": "stream",
     "text": [
      "'__init__': 0.193 seconds\n",
      "'_read_params_from_file': 0.084 seconds\n",
      "'set_parameters': 0.006 seconds\n",
      "'load_params': 0.091 seconds\n",
      "'set_lengthscales_constraints': 0.006 seconds\n",
      "*** not optimising parameters\n",
      "'get_parameters': 0.004 seconds\n",
      "parameters:\n",
      "lengthscales: array([5.44736462, 6.4070668 , 1.00018263]) \n",
      "kernel_variance: 0.0026474658030575006\n",
      "likelihood_variance: 0.006000000000000003\n",
      "'predict': 0.047 seconds\n",
      "total run time : 0.73 seconds\n",
      "------------------------------\n",
      "244 / 363\n",
      "          x          y        t       date        lon        lat\n",
      "4 -400000.0 -1800000.0  18326.0 2020-03-05 -12.528808  73.429172\n",
      "'_update_global_data': 0.002 seconds\n",
      "'local_data_select': 0.004 seconds\n",
      "number obs: 7\n",
      "'_max_dist_bool': 0.020 seconds\n",
      "'_from_dataframe': 0.022 seconds\n",
      "found GPU\n",
      "setting lengthscales to: [1. 1. 1.]\n",
      "'__init__': 0.163 seconds\n"
     ]
    },
    {
     "name": "stderr",
     "output_type": "stream",
     "text": [
      "2023-06-05 18:00:08.833877: I tensorflow/core/common_runtime/gpu/gpu_device.cc:1616] Created device /device:GPU:0 with 6261 MB memory:  -> device: 0, name: NVIDIA GeForce RTX 2080, pci bus id: 0000:17:00.0, compute capability: 7.5\n",
      "2023-06-05 18:00:08.835009: I tensorflow/core/common_runtime/gpu/gpu_device.cc:1616] Created device /device:GPU:1 with 4157 MB memory:  -> device: 1, name: NVIDIA GeForce RTX 2080, pci bus id: 0000:65:00.0, compute capability: 7.5\n"
     ]
    },
    {
     "name": "stdout",
     "output_type": "stream",
     "text": [
      "'_read_params_from_file': 0.079 seconds\n",
      "'set_parameters': 0.006 seconds\n",
      "'load_params': 0.086 seconds\n",
      "'set_lengthscales_constraints': 0.005 seconds\n",
      "*** not optimising parameters\n",
      "'get_parameters': 0.004 seconds\n",
      "parameters:\n",
      "lengthscales: array([4.69197428, 7.1873791 , 0.99978347]) \n",
      "kernel_variance: 0.002506130061411483\n",
      "likelihood_variance: 0.006000000000000003\n",
      "'predict': 0.046 seconds\n",
      "total run time : 0.68 seconds\n",
      "------------------------------\n",
      "245 / 363\n",
      "          x          y        t       date        lon        lat\n",
      "3 -600000.0 -1800000.0  18326.0 2020-03-05 -18.434949  72.944956\n",
      "'_update_global_data': 0.001 seconds\n",
      "'local_data_select': 0.002 seconds\n",
      "number obs: 4\n",
      "'_max_dist_bool': 0.014 seconds\n",
      "'_from_dataframe': 0.016 seconds\n",
      "found GPU\n",
      "setting lengthscales to: [1. 1. 1.]\n",
      "'__init__': 0.156 seconds\n"
     ]
    },
    {
     "name": "stderr",
     "output_type": "stream",
     "text": [
      "2023-06-05 18:00:09.493893: I tensorflow/core/common_runtime/gpu/gpu_device.cc:1616] Created device /device:GPU:0 with 6261 MB memory:  -> device: 0, name: NVIDIA GeForce RTX 2080, pci bus id: 0000:17:00.0, compute capability: 7.5\n",
      "2023-06-05 18:00:09.494986: I tensorflow/core/common_runtime/gpu/gpu_device.cc:1616] Created device /device:GPU:1 with 4157 MB memory:  -> device: 1, name: NVIDIA GeForce RTX 2080, pci bus id: 0000:65:00.0, compute capability: 7.5\n"
     ]
    },
    {
     "name": "stdout",
     "output_type": "stream",
     "text": [
      "'_read_params_from_file': 0.081 seconds\n",
      "'set_parameters': 0.013 seconds\n",
      "'load_params': 0.095 seconds\n",
      "'set_lengthscales_constraints': 0.009 seconds\n",
      "*** not optimising parameters\n",
      "'get_parameters': 0.004 seconds\n",
      "parameters:\n",
      "lengthscales: array([5.01130981, 6.84689368, 0.99882162]) \n",
      "kernel_variance: 0.0020827706983009954\n",
      "likelihood_variance: 0.006000000000000003\n",
      "'predict': 0.046 seconds\n",
      "total run time : 0.70 seconds\n",
      "------------------------------\n",
      "246 / 363\n",
      "          x          y        t       date        lon       lat\n",
      "2 -800000.0 -1800000.0  18326.0 2020-03-05 -23.962489  72.28859\n",
      "'_update_global_data': 0.001 seconds\n",
      "'local_data_select': 0.002 seconds\n",
      "number obs: 0\n",
      "------------------------------\n",
      "247 / 363\n",
      "          x          y        t       date        lon        lat\n",
      "1 -600000.0 -2000000.0  18326.0 2020-03-05 -16.699244  71.214902\n",
      "'_update_global_data': 0.001 seconds\n",
      "'local_data_select': 0.002 seconds\n",
      "number obs: 0\n",
      "------------------------------\n",
      "248 / 363\n",
      "           x          y        t       date        lon        lat\n",
      "20  600000.0 -1400000.0  18326.0 2020-03-05  23.198591  76.328153\n",
      "'_update_global_data': 0.001 seconds\n",
      "'local_data_select': 0.002 seconds\n",
      "number obs: 17\n",
      "'_max_dist_bool': 0.014 seconds\n",
      "'_from_dataframe': 0.016 seconds\n",
      "found GPU\n",
      "setting lengthscales to: [1. 1. 1.]\n",
      "'__init__': 0.145 seconds\n"
     ]
    },
    {
     "name": "stderr",
     "output_type": "stream",
     "text": [
      "2023-06-05 18:00:10.210527: I tensorflow/core/common_runtime/gpu/gpu_device.cc:1616] Created device /device:GPU:0 with 6261 MB memory:  -> device: 0, name: NVIDIA GeForce RTX 2080, pci bus id: 0000:17:00.0, compute capability: 7.5\n",
      "2023-06-05 18:00:10.211011: I tensorflow/core/common_runtime/gpu/gpu_device.cc:1616] Created device /device:GPU:1 with 4157 MB memory:  -> device: 1, name: NVIDIA GeForce RTX 2080, pci bus id: 0000:65:00.0, compute capability: 7.5\n"
     ]
    },
    {
     "name": "stdout",
     "output_type": "stream",
     "text": [
      "'_read_params_from_file': 0.079 seconds\n",
      "'set_parameters': 0.006 seconds\n",
      "'load_params': 0.086 seconds\n",
      "'set_lengthscales_constraints': 0.006 seconds\n",
      "*** not optimising parameters\n",
      "'get_parameters': 0.005 seconds\n",
      "parameters:\n",
      "lengthscales: array([1.59360032, 3.39242784, 0.99977891]) \n",
      "kernel_variance: 0.06479158439717517\n",
      "likelihood_variance: 0.006000000000000003\n",
      "'predict': 0.063 seconds\n",
      "total run time : 0.67 seconds\n",
      "------------------------------\n",
      "249 / 363\n",
      "           x         y        t       date        lon        lat\n",
      "88  200000.0 -600000.0  18326.0 2020-03-05  18.434949  84.335111\n",
      "'_update_global_data': 0.001 seconds\n",
      "'local_data_select': 0.002 seconds\n",
      "number obs: 24\n",
      "'_max_dist_bool': 0.014 seconds\n",
      "'_from_dataframe': 0.016 seconds\n",
      "found GPU\n",
      "setting lengthscales to: [1. 1. 1.]\n",
      "'__init__': 0.136 seconds\n"
     ]
    },
    {
     "name": "stderr",
     "output_type": "stream",
     "text": [
      "2023-06-05 18:00:10.864836: I tensorflow/core/common_runtime/gpu/gpu_device.cc:1616] Created device /device:GPU:0 with 6261 MB memory:  -> device: 0, name: NVIDIA GeForce RTX 2080, pci bus id: 0000:17:00.0, compute capability: 7.5\n",
      "2023-06-05 18:00:10.865798: I tensorflow/core/common_runtime/gpu/gpu_device.cc:1616] Created device /device:GPU:1 with 4157 MB memory:  -> device: 1, name: NVIDIA GeForce RTX 2080, pci bus id: 0000:65:00.0, compute capability: 7.5\n"
     ]
    },
    {
     "name": "stdout",
     "output_type": "stream",
     "text": [
      "'_read_params_from_file': 0.082 seconds\n",
      "'set_parameters': 0.006 seconds\n",
      "'load_params': 0.090 seconds\n",
      "'set_lengthscales_constraints': 0.006 seconds\n",
      "*** not optimising parameters\n",
      "'get_parameters': 0.004 seconds\n",
      "parameters:\n",
      "lengthscales: array([9.39424317, 5.75870555, 0.9981803 ]) \n",
      "kernel_variance: 0.0030222930726466492\n",
      "likelihood_variance: 0.006000000000000003\n",
      "'predict': 0.048 seconds\n",
      "total run time : 0.65 seconds\n",
      "------------------------------\n",
      "250 / 363\n",
      "           x          y        t       date        lon        lat\n",
      "21  800000.0 -1400000.0  18326.0 2020-03-05  29.744881  75.522123\n",
      "'_update_global_data': 0.001 seconds\n",
      "'local_data_select': 0.002 seconds\n",
      "number obs: 20\n",
      "'_max_dist_bool': 0.014 seconds\n",
      "'_from_dataframe': 0.016 seconds\n",
      "found GPU\n",
      "setting lengthscales to: [1. 1. 1.]\n",
      "'__init__': 0.171 seconds\n"
     ]
    },
    {
     "name": "stderr",
     "output_type": "stream",
     "text": [
      "2023-06-05 18:00:11.557683: I tensorflow/core/common_runtime/gpu/gpu_device.cc:1616] Created device /device:GPU:0 with 6261 MB memory:  -> device: 0, name: NVIDIA GeForce RTX 2080, pci bus id: 0000:17:00.0, compute capability: 7.5\n",
      "2023-06-05 18:00:11.558762: I tensorflow/core/common_runtime/gpu/gpu_device.cc:1616] Created device /device:GPU:1 with 4157 MB memory:  -> device: 1, name: NVIDIA GeForce RTX 2080, pci bus id: 0000:65:00.0, compute capability: 7.5\n"
     ]
    },
    {
     "name": "stdout",
     "output_type": "stream",
     "text": [
      "'_read_params_from_file': 0.079 seconds\n",
      "'set_parameters': 0.006 seconds\n",
      "'load_params': 0.086 seconds\n",
      "'set_lengthscales_constraints': 0.006 seconds\n",
      "*** not optimising parameters\n",
      "'get_parameters': 0.004 seconds\n",
      "parameters:\n",
      "lengthscales: array([2.97544362, 5.28131592, 0.99966615]) \n",
      "kernel_variance: 0.05114564733602388\n",
      "likelihood_variance: 0.006000000000000003\n",
      "'predict': 0.046 seconds\n",
      "SAVING RESULTS\n",
      "run_details\n",
      "preds\n",
      "lengthscales\n",
      "kernel_variance\n",
      "likelihood_variance\n",
      "total run time : 0.84 seconds\n",
      "------------------------------\n",
      "251 / 363\n",
      "            x          y        t       date        lon        lat\n",
      "23 -2400000.0 -1200000.0  18326.0 2020-03-05 -63.434949  65.782798\n",
      "'_update_global_data': 0.001 seconds\n",
      "'local_data_select': 0.002 seconds\n",
      "number obs: 11\n",
      "'_max_dist_bool': 0.013 seconds\n",
      "'_from_dataframe': 0.015 seconds\n",
      "found GPU\n",
      "setting lengthscales to: [1. 1. 1.]\n",
      "'__init__': 0.172 seconds\n",
      "'_read_params_from_file': 0.078 seconds\n",
      "'set_parameters': 0.006 seconds\n",
      "'load_params': 0.084 seconds\n",
      "'set_lengthscales_constraints': 0.006 seconds\n",
      "*** not optimising parameters\n",
      "'get_parameters': 0.004 seconds\n",
      "parameters:\n",
      "lengthscales: array([11.87134894, 11.62337468,  0.99440008]) \n",
      "kernel_variance: 0.002483318472589327\n",
      "likelihood_variance: 0.006000000000000003\n",
      "'predict': 0.048 seconds\n"
     ]
    },
    {
     "name": "stderr",
     "output_type": "stream",
     "text": [
      "2023-06-05 18:00:12.398359: I tensorflow/core/common_runtime/gpu/gpu_device.cc:1616] Created device /device:GPU:0 with 6261 MB memory:  -> device: 0, name: NVIDIA GeForce RTX 2080, pci bus id: 0000:17:00.0, compute capability: 7.5\n",
      "2023-06-05 18:00:12.399529: I tensorflow/core/common_runtime/gpu/gpu_device.cc:1616] Created device /device:GPU:1 with 4157 MB memory:  -> device: 1, name: NVIDIA GeForce RTX 2080, pci bus id: 0000:65:00.0, compute capability: 7.5\n"
     ]
    },
    {
     "name": "stdout",
     "output_type": "stream",
     "text": [
      "total run time : 0.68 seconds\n",
      "------------------------------\n",
      "252 / 363\n",
      "            x          y        t       date        lon        lat\n",
      "42 -1400000.0 -1000000.0  18326.0 2020-03-05 -54.462322  74.546108\n",
      "'_update_global_data': 0.001 seconds\n",
      "'local_data_select': 0.002 seconds\n",
      "number obs: 9\n",
      "'_max_dist_bool': 0.013 seconds\n",
      "'_from_dataframe': 0.015 seconds\n",
      "found GPU\n",
      "setting lengthscales to: [1. 1. 1.]\n",
      "'__init__': 0.168 seconds\n"
     ]
    },
    {
     "name": "stderr",
     "output_type": "stream",
     "text": [
      "2023-06-05 18:00:13.071337: I tensorflow/core/common_runtime/gpu/gpu_device.cc:1616] Created device /device:GPU:0 with 6261 MB memory:  -> device: 0, name: NVIDIA GeForce RTX 2080, pci bus id: 0000:17:00.0, compute capability: 7.5\n",
      "2023-06-05 18:00:13.072673: I tensorflow/core/common_runtime/gpu/gpu_device.cc:1616] Created device /device:GPU:1 with 4157 MB memory:  -> device: 1, name: NVIDIA GeForce RTX 2080, pci bus id: 0000:65:00.0, compute capability: 7.5\n"
     ]
    },
    {
     "name": "stdout",
     "output_type": "stream",
     "text": [
      "'_read_params_from_file': 0.080 seconds\n",
      "'set_parameters': 0.006 seconds\n",
      "'load_params': 0.086 seconds\n",
      "'set_lengthscales_constraints': 0.006 seconds\n",
      "*** not optimising parameters\n",
      "'get_parameters': 0.004 seconds\n",
      "parameters:\n",
      "lengthscales: array([8.65807193, 8.13660164, 0.99762968]) \n",
      "kernel_variance: 0.0060395292345885665\n",
      "likelihood_variance: 0.006000000000000003\n",
      "'predict': 0.046 seconds\n",
      "total run time : 0.67 seconds\n",
      "------------------------------\n",
      "253 / 363\n",
      "            x          y        t       date        lon        lat\n",
      "41 -1600000.0 -1000000.0  18326.0 2020-03-05 -57.994617  73.040728\n",
      "'_update_global_data': 0.001 seconds\n",
      "'local_data_select': 0.002 seconds\n",
      "number obs: 25\n",
      "'_max_dist_bool': 0.013 seconds\n",
      "'_from_dataframe': 0.015 seconds\n",
      "found GPU\n",
      "setting lengthscales to: [1. 1. 1.]\n"
     ]
    },
    {
     "name": "stderr",
     "output_type": "stream",
     "text": [
      "2023-06-05 18:00:13.758829: I tensorflow/core/common_runtime/gpu/gpu_device.cc:1616] Created device /device:GPU:0 with 6261 MB memory:  -> device: 0, name: NVIDIA GeForce RTX 2080, pci bus id: 0000:17:00.0, compute capability: 7.5\n",
      "2023-06-05 18:00:13.760086: I tensorflow/core/common_runtime/gpu/gpu_device.cc:1616] Created device /device:GPU:1 with 4157 MB memory:  -> device: 1, name: NVIDIA GeForce RTX 2080, pci bus id: 0000:65:00.0, compute capability: 7.5\n"
     ]
    },
    {
     "name": "stdout",
     "output_type": "stream",
     "text": [
      "'__init__': 0.189 seconds\n",
      "'_read_params_from_file': 0.110 seconds\n",
      "'set_parameters': 0.006 seconds\n",
      "'load_params': 0.119 seconds\n",
      "'set_lengthscales_constraints': 0.006 seconds\n",
      "*** not optimising parameters\n",
      "'get_parameters': 0.004 seconds\n",
      "parameters:\n",
      "lengthscales: array([9.35490452, 8.64223158, 0.99250276]) \n",
      "kernel_variance: 0.004967695942403783\n",
      "likelihood_variance: 0.006000000000000003\n",
      "'predict': 0.049 seconds\n",
      "total run time : 0.74 seconds\n",
      "------------------------------\n",
      "254 / 363\n",
      "            x          y        t       date        lon        lat\n",
      "40 -1800000.0 -1000000.0  18326.0 2020-03-05 -60.945396  71.477702\n",
      "'_update_global_data': 0.001 seconds\n",
      "'local_data_select': 0.002 seconds\n",
      "number obs: 36\n",
      "'_max_dist_bool': 0.014 seconds\n",
      "'_from_dataframe': 0.015 seconds\n",
      "found GPU\n",
      "setting lengthscales to: [1. 1. 1.]\n",
      "'__init__': 0.145 seconds\n"
     ]
    },
    {
     "name": "stderr",
     "output_type": "stream",
     "text": [
      "2023-06-05 18:00:14.467696: I tensorflow/core/common_runtime/gpu/gpu_device.cc:1616] Created device /device:GPU:0 with 6261 MB memory:  -> device: 0, name: NVIDIA GeForce RTX 2080, pci bus id: 0000:17:00.0, compute capability: 7.5\n",
      "2023-06-05 18:00:14.468660: I tensorflow/core/common_runtime/gpu/gpu_device.cc:1616] Created device /device:GPU:1 with 4157 MB memory:  -> device: 1, name: NVIDIA GeForce RTX 2080, pci bus id: 0000:65:00.0, compute capability: 7.5\n"
     ]
    },
    {
     "name": "stdout",
     "output_type": "stream",
     "text": [
      "'_read_params_from_file': 0.080 seconds\n",
      "'set_parameters': 0.006 seconds\n",
      "'load_params': 0.086 seconds\n",
      "'set_lengthscales_constraints': 0.006 seconds\n",
      "*** not optimising parameters\n",
      "'get_parameters': 0.004 seconds\n",
      "parameters:\n",
      "lengthscales: array([10.10710839,  9.46261072,  0.97006187]) \n",
      "kernel_variance: 0.004075749640801303\n",
      "likelihood_variance: 0.006000000000000003\n",
      "'predict': 0.047 seconds\n",
      "total run time : 0.66 seconds\n",
      "------------------------------\n",
      "255 / 363\n",
      "            x          y        t       date        lon        lat\n",
      "39 -2000000.0 -1000000.0  18326.0 2020-03-05 -63.434949  69.868945\n",
      "'_update_global_data': 0.001 seconds\n",
      "'local_data_select': 0.002 seconds\n",
      "number obs: 29\n",
      "'_max_dist_bool': 0.013 seconds\n",
      "'_from_dataframe': 0.015 seconds\n",
      "found GPU\n",
      "setting lengthscales to: [1. 1. 1.]\n",
      "'__init__': 0.166 seconds\n"
     ]
    },
    {
     "name": "stderr",
     "output_type": "stream",
     "text": [
      "2023-06-05 18:00:15.142551: I tensorflow/core/common_runtime/gpu/gpu_device.cc:1616] Created device /device:GPU:0 with 6261 MB memory:  -> device: 0, name: NVIDIA GeForce RTX 2080, pci bus id: 0000:17:00.0, compute capability: 7.5\n",
      "2023-06-05 18:00:15.143848: I tensorflow/core/common_runtime/gpu/gpu_device.cc:1616] Created device /device:GPU:1 with 4157 MB memory:  -> device: 1, name: NVIDIA GeForce RTX 2080, pci bus id: 0000:65:00.0, compute capability: 7.5\n"
     ]
    },
    {
     "name": "stdout",
     "output_type": "stream",
     "text": [
      "'_read_params_from_file': 0.082 seconds\n",
      "'set_parameters': 0.006 seconds\n",
      "'load_params': 0.089 seconds\n",
      "'set_lengthscales_constraints': 0.006 seconds\n",
      "*** not optimising parameters\n",
      "'get_parameters': 0.004 seconds\n",
      "parameters:\n",
      "lengthscales: array([10.74717343, 10.08109767,  0.94931778]) \n",
      "kernel_variance: 0.0034958832773963476\n",
      "likelihood_variance: 0.006000000000000003\n",
      "'predict': 0.046 seconds\n",
      "total run time : 0.67 seconds\n",
      "------------------------------\n",
      "256 / 363\n",
      "            x          y        t       date        lon        lat\n",
      "38 -2200000.0 -1000000.0  18326.0 2020-03-05 -65.556045  68.223016\n",
      "'_update_global_data': 0.001 seconds\n",
      "'local_data_select': 0.002 seconds\n",
      "number obs: 17\n",
      "'_max_dist_bool': 0.013 seconds\n",
      "'_from_dataframe': 0.015 seconds\n",
      "found GPU\n",
      "setting lengthscales to: [1. 1. 1.]\n",
      "'__init__': 0.173 seconds\n"
     ]
    },
    {
     "name": "stderr",
     "output_type": "stream",
     "text": [
      "2023-06-05 18:00:15.834048: I tensorflow/core/common_runtime/gpu/gpu_device.cc:1616] Created device /device:GPU:0 with 6261 MB memory:  -> device: 0, name: NVIDIA GeForce RTX 2080, pci bus id: 0000:17:00.0, compute capability: 7.5\n",
      "2023-06-05 18:00:15.835143: I tensorflow/core/common_runtime/gpu/gpu_device.cc:1616] Created device /device:GPU:1 with 4157 MB memory:  -> device: 1, name: NVIDIA GeForce RTX 2080, pci bus id: 0000:65:00.0, compute capability: 7.5\n"
     ]
    },
    {
     "name": "stdout",
     "output_type": "stream",
     "text": [
      "'_read_params_from_file': 0.081 seconds\n",
      "'set_parameters': 0.006 seconds\n",
      "'load_params': 0.088 seconds\n",
      "'set_lengthscales_constraints': 0.009 seconds\n",
      "*** not optimising parameters\n",
      "'get_parameters': 0.006 seconds\n",
      "parameters:\n",
      "lengthscales: array([11.01695431,  9.81399555,  0.96349031]) \n",
      "kernel_variance: 0.0035160452029885467\n",
      "likelihood_variance: 0.006000000000000003\n",
      "'predict': 0.065 seconds\n",
      "total run time : 0.73 seconds\n",
      "------------------------------\n",
      "257 / 363\n",
      "            x          y        t       date   lon        lat\n",
      "37  1200000.0 -1200000.0  18326.0 2020-03-05  45.0  74.757732\n",
      "'_update_global_data': 0.001 seconds\n",
      "'local_data_select': 0.002 seconds\n",
      "number obs: 6\n",
      "'_max_dist_bool': 0.013 seconds\n",
      "'_from_dataframe': 0.015 seconds\n",
      "found GPU\n",
      "setting lengthscales to: [1. 1. 1.]\n",
      "'__init__': 0.166 seconds\n"
     ]
    },
    {
     "name": "stderr",
     "output_type": "stream",
     "text": [
      "2023-06-05 18:00:16.561798: I tensorflow/core/common_runtime/gpu/gpu_device.cc:1616] Created device /device:GPU:0 with 6261 MB memory:  -> device: 0, name: NVIDIA GeForce RTX 2080, pci bus id: 0000:17:00.0, compute capability: 7.5\n",
      "2023-06-05 18:00:16.562903: I tensorflow/core/common_runtime/gpu/gpu_device.cc:1616] Created device /device:GPU:1 with 4157 MB memory:  -> device: 1, name: NVIDIA GeForce RTX 2080, pci bus id: 0000:65:00.0, compute capability: 7.5\n"
     ]
    },
    {
     "name": "stdout",
     "output_type": "stream",
     "text": [
      "'_read_params_from_file': 0.093 seconds\n",
      "'set_parameters': 0.006 seconds\n",
      "'load_params': 0.100 seconds\n",
      "'set_lengthscales_constraints': 0.006 seconds\n",
      "*** not optimising parameters\n",
      "'get_parameters': 0.004 seconds\n",
      "parameters:\n",
      "lengthscales: array([5.68121372, 6.90465081, 1.00015157]) \n",
      "kernel_variance: 0.012420298983783688\n",
      "likelihood_variance: 0.006000000000000003\n",
      "'predict': 0.046 seconds\n",
      "total run time : 0.68 seconds\n",
      "------------------------------\n",
      "258 / 363\n",
      "            x          y        t       date        lon        lat\n",
      "36  1000000.0 -1200000.0  18326.0 2020-03-05  39.805571  75.977161\n",
      "'_update_global_data': 0.001 seconds\n",
      "'local_data_select': 0.002 seconds\n",
      "number obs: 20\n",
      "'_max_dist_bool': 0.013 seconds\n",
      "'_from_dataframe': 0.015 seconds\n",
      "found GPU\n",
      "setting lengthscales to: [1. 1. 1.]\n"
     ]
    },
    {
     "name": "stderr",
     "output_type": "stream",
     "text": [
      "2023-06-05 18:00:17.265816: I tensorflow/core/common_runtime/gpu/gpu_device.cc:1616] Created device /device:GPU:0 with 6261 MB memory:  -> device: 0, name: NVIDIA GeForce RTX 2080, pci bus id: 0000:17:00.0, compute capability: 7.5\n",
      "2023-06-05 18:00:17.266931: I tensorflow/core/common_runtime/gpu/gpu_device.cc:1616] Created device /device:GPU:1 with 4157 MB memory:  -> device: 1, name: NVIDIA GeForce RTX 2080, pci bus id: 0000:65:00.0, compute capability: 7.5\n"
     ]
    },
    {
     "name": "stdout",
     "output_type": "stream",
     "text": [
      "'__init__': 0.187 seconds\n",
      "'_read_params_from_file': 0.096 seconds\n",
      "'set_parameters': 0.006 seconds\n",
      "'load_params': 0.104 seconds\n",
      "'set_lengthscales_constraints': 0.006 seconds\n",
      "*** not optimising parameters\n",
      "'get_parameters': 0.004 seconds\n",
      "parameters:\n",
      "lengthscales: array([4.99024267, 6.89847326, 1.00012247]) \n",
      "kernel_variance: 0.01834905244873771\n",
      "likelihood_variance: 0.006000000000000003\n",
      "'predict': 0.047 seconds\n",
      "total run time : 0.73 seconds\n",
      "------------------------------\n",
      "259 / 363\n",
      "           x          y        t       date        lon        lat\n",
      "35  800000.0 -1200000.0  18326.0 2020-03-05  33.690068  77.058063\n",
      "'_update_global_data': 0.001 seconds\n",
      "'local_data_select': 0.002 seconds\n",
      "number obs: 38\n",
      "'_max_dist_bool': 0.013 seconds\n",
      "'_from_dataframe': 0.015 seconds\n",
      "found GPU\n",
      "setting lengthscales to: [1. 1. 1.]\n",
      "'__init__': 0.167 seconds\n"
     ]
    },
    {
     "name": "stderr",
     "output_type": "stream",
     "text": [
      "2023-06-05 18:00:17.981646: I tensorflow/core/common_runtime/gpu/gpu_device.cc:1616] Created device /device:GPU:0 with 6261 MB memory:  -> device: 0, name: NVIDIA GeForce RTX 2080, pci bus id: 0000:17:00.0, compute capability: 7.5\n",
      "2023-06-05 18:00:17.982715: I tensorflow/core/common_runtime/gpu/gpu_device.cc:1616] Created device /device:GPU:1 with 4157 MB memory:  -> device: 1, name: NVIDIA GeForce RTX 2080, pci bus id: 0000:65:00.0, compute capability: 7.5\n"
     ]
    },
    {
     "name": "stdout",
     "output_type": "stream",
     "text": [
      "'_read_params_from_file': 0.079 seconds\n",
      "'set_parameters': 0.006 seconds\n",
      "'load_params': 0.086 seconds\n",
      "'set_lengthscales_constraints': 0.006 seconds\n",
      "*** not optimising parameters\n",
      "'get_parameters': 0.010 seconds\n",
      "parameters:\n",
      "lengthscales: array([2.79297908, 4.66001277, 0.99995906]) \n",
      "kernel_variance: 0.036458171774657135\n",
      "likelihood_variance: 0.006000000000000003\n",
      "'predict': 0.055 seconds\n",
      "total run time : 0.70 seconds\n",
      "------------------------------\n",
      "260 / 363\n",
      "           x          y        t       date        lon        lat\n",
      "34  600000.0 -1200000.0  18326.0 2020-03-05  26.565051  77.964362\n",
      "'_update_global_data': 0.001 seconds\n",
      "'local_data_select': 0.002 seconds\n",
      "number obs: 38\n",
      "'_max_dist_bool': 0.013 seconds\n",
      "'_from_dataframe': 0.015 seconds\n",
      "found GPU\n",
      "setting lengthscales to: [1. 1. 1.]\n",
      "'__init__': 0.167 seconds\n"
     ]
    },
    {
     "name": "stderr",
     "output_type": "stream",
     "text": [
      "2023-06-05 18:00:18.685724: I tensorflow/core/common_runtime/gpu/gpu_device.cc:1616] Created device /device:GPU:0 with 6261 MB memory:  -> device: 0, name: NVIDIA GeForce RTX 2080, pci bus id: 0000:17:00.0, compute capability: 7.5\n",
      "2023-06-05 18:00:18.686654: I tensorflow/core/common_runtime/gpu/gpu_device.cc:1616] Created device /device:GPU:1 with 4157 MB memory:  -> device: 1, name: NVIDIA GeForce RTX 2080, pci bus id: 0000:65:00.0, compute capability: 7.5\n"
     ]
    },
    {
     "name": "stdout",
     "output_type": "stream",
     "text": [
      "'_read_params_from_file': 0.080 seconds\n",
      "'set_parameters': 0.006 seconds\n",
      "'load_params': 0.087 seconds\n",
      "'set_lengthscales_constraints': 0.006 seconds\n",
      "*** not optimising parameters\n",
      "'get_parameters': 0.004 seconds\n",
      "parameters:\n",
      "lengthscales: array([1.6945942 , 2.52372883, 0.99993655]) \n",
      "kernel_variance: 0.0485241225803799\n",
      "likelihood_variance: 0.006000000000000003\n",
      "'predict': 0.048 seconds\n",
      "SAVING RESULTS\n",
      "run_details\n",
      "preds\n",
      "lengthscales\n",
      "kernel_variance\n",
      "likelihood_variance\n",
      "total run time : 0.85 seconds\n",
      "------------------------------\n",
      "261 / 363\n",
      "           x          y        t       date        lon        lat\n",
      "33  400000.0 -1200000.0  18326.0 2020-03-05  18.434949  78.655203\n",
      "'_update_global_data': 0.001 seconds\n",
      "'local_data_select': 0.002 seconds\n",
      "number obs: 33\n",
      "'_max_dist_bool': 0.013 seconds\n",
      "'_from_dataframe': 0.015 seconds\n",
      "found GPU\n",
      "setting lengthscales to: [1. 1. 1.]\n",
      "'__init__': 0.160 seconds\n",
      "'_read_params_from_file': 0.078 seconds\n",
      "'set_parameters': 0.006 seconds\n",
      "'load_params': 0.085 seconds\n",
      "'set_lengthscales_constraints': 0.006 seconds\n",
      "*** not optimising parameters\n",
      "'get_parameters': 0.004 seconds\n",
      "parameters:\n",
      "lengthscales: array([3.16383601, 2.65269486, 1.00002549]) \n",
      "kernel_variance: 0.04153052558174184\n",
      "likelihood_variance: 0.006000000000000003\n",
      "'predict': 0.048 seconds\n"
     ]
    },
    {
     "name": "stderr",
     "output_type": "stream",
     "text": [
      "2023-06-05 18:00:19.534944: I tensorflow/core/common_runtime/gpu/gpu_device.cc:1616] Created device /device:GPU:0 with 6261 MB memory:  -> device: 0, name: NVIDIA GeForce RTX 2080, pci bus id: 0000:17:00.0, compute capability: 7.5\n",
      "2023-06-05 18:00:19.536056: I tensorflow/core/common_runtime/gpu/gpu_device.cc:1616] Created device /device:GPU:1 with 4157 MB memory:  -> device: 1, name: NVIDIA GeForce RTX 2080, pci bus id: 0000:65:00.0, compute capability: 7.5\n"
     ]
    },
    {
     "name": "stdout",
     "output_type": "stream",
     "text": [
      "total run time : 0.67 seconds\n",
      "------------------------------\n",
      "262 / 363\n",
      "           x          y        t       date       lon        lat\n",
      "32  200000.0 -1200000.0  18326.0 2020-03-05  9.462322  79.090372\n",
      "'_update_global_data': 0.001 seconds\n",
      "'local_data_select': 0.002 seconds\n",
      "number obs: 38\n",
      "'_max_dist_bool': 0.013 seconds\n",
      "'_from_dataframe': 0.015 seconds\n",
      "found GPU\n",
      "setting lengthscales to: [1. 1. 1.]\n",
      "'__init__': 0.169 seconds\n"
     ]
    },
    {
     "name": "stderr",
     "output_type": "stream",
     "text": [
      "2023-06-05 18:00:20.218370: I tensorflow/core/common_runtime/gpu/gpu_device.cc:1616] Created device /device:GPU:0 with 6261 MB memory:  -> device: 0, name: NVIDIA GeForce RTX 2080, pci bus id: 0000:17:00.0, compute capability: 7.5\n",
      "2023-06-05 18:00:20.219422: I tensorflow/core/common_runtime/gpu/gpu_device.cc:1616] Created device /device:GPU:1 with 4157 MB memory:  -> device: 1, name: NVIDIA GeForce RTX 2080, pci bus id: 0000:65:00.0, compute capability: 7.5\n"
     ]
    },
    {
     "name": "stdout",
     "output_type": "stream",
     "text": [
      "'_read_params_from_file': 0.081 seconds\n",
      "'set_parameters': 0.007 seconds\n",
      "'load_params': 0.088 seconds\n",
      "'set_lengthscales_constraints': 0.006 seconds\n",
      "*** not optimising parameters\n",
      "'get_parameters': 0.004 seconds\n",
      "parameters:\n",
      "lengthscales: array([5.79958913, 3.81309142, 1.00007145]) \n",
      "kernel_variance: 0.01997496567365775\n",
      "likelihood_variance: 0.006000000000000003\n",
      "'predict': 0.049 seconds\n",
      "total run time : 0.69 seconds\n",
      "------------------------------\n",
      "263 / 363\n",
      "      x          y        t       date  lon        lat\n",
      "31  0.0 -1200000.0  18326.0 2020-03-05  0.0  79.239286\n",
      "'_update_global_data': 0.001 seconds\n",
      "'local_data_select': 0.002 seconds\n",
      "number obs: 55\n",
      "'_max_dist_bool': 0.013 seconds\n",
      "'_from_dataframe': 0.015 seconds\n",
      "found GPU\n",
      "setting lengthscales to: [1. 1. 1.]\n",
      "'__init__': 0.137 seconds\n"
     ]
    },
    {
     "name": "stderr",
     "output_type": "stream",
     "text": [
      "2023-06-05 18:00:20.877473: I tensorflow/core/common_runtime/gpu/gpu_device.cc:1616] Created device /device:GPU:0 with 6261 MB memory:  -> device: 0, name: NVIDIA GeForce RTX 2080, pci bus id: 0000:17:00.0, compute capability: 7.5\n",
      "2023-06-05 18:00:20.878597: I tensorflow/core/common_runtime/gpu/gpu_device.cc:1616] Created device /device:GPU:1 with 4157 MB memory:  -> device: 1, name: NVIDIA GeForce RTX 2080, pci bus id: 0000:65:00.0, compute capability: 7.5\n"
     ]
    },
    {
     "name": "stdout",
     "output_type": "stream",
     "text": [
      "'_read_params_from_file': 0.079 seconds\n",
      "'set_parameters': 0.006 seconds\n",
      "'load_params': 0.085 seconds\n",
      "'set_lengthscales_constraints': 0.006 seconds\n",
      "*** not optimising parameters\n",
      "'get_parameters': 0.010 seconds\n",
      "parameters:\n",
      "lengthscales: array([7.2951745 , 3.63984927, 1.00002877]) \n",
      "kernel_variance: 0.005756516219092007\n",
      "likelihood_variance: 0.006000000000000003\n",
      "'predict': 0.055 seconds\n",
      "total run time : 0.68 seconds\n",
      "------------------------------\n",
      "264 / 363\n",
      "           x          y        t       date       lon        lat\n",
      "30 -200000.0 -1200000.0  18326.0 2020-03-05 -9.462322  79.090372\n",
      "'_update_global_data': 0.001 seconds\n",
      "'local_data_select': 0.002 seconds\n",
      "number obs: 58\n",
      "'_max_dist_bool': 0.014 seconds\n",
      "'_from_dataframe': 0.016 seconds\n",
      "found GPU\n",
      "setting lengthscales to: [1. 1. 1.]\n",
      "'__init__': 0.155 seconds\n"
     ]
    },
    {
     "name": "stderr",
     "output_type": "stream",
     "text": [
      "2023-06-05 18:00:21.573860: I tensorflow/core/common_runtime/gpu/gpu_device.cc:1616] Created device /device:GPU:0 with 6261 MB memory:  -> device: 0, name: NVIDIA GeForce RTX 2080, pci bus id: 0000:17:00.0, compute capability: 7.5\n",
      "2023-06-05 18:00:21.574891: I tensorflow/core/common_runtime/gpu/gpu_device.cc:1616] Created device /device:GPU:1 with 4157 MB memory:  -> device: 1, name: NVIDIA GeForce RTX 2080, pci bus id: 0000:65:00.0, compute capability: 7.5\n"
     ]
    },
    {
     "name": "stdout",
     "output_type": "stream",
     "text": [
      "'_read_params_from_file': 0.084 seconds\n",
      "'set_parameters': 0.006 seconds\n",
      "'load_params': 0.091 seconds\n",
      "'set_lengthscales_constraints': 0.006 seconds\n",
      "*** not optimising parameters\n",
      "'get_parameters': 0.004 seconds\n",
      "parameters:\n",
      "lengthscales: array([7.24721095, 3.05639848, 0.99995899]) \n",
      "kernel_variance: 0.002499253643696405\n",
      "likelihood_variance: 0.006000000000000003\n",
      "'predict': 0.049 seconds\n",
      "total run time : 0.68 seconds\n",
      "------------------------------\n",
      "265 / 363\n",
      "           x          y        t       date        lon        lat\n",
      "29 -400000.0 -1200000.0  18326.0 2020-03-05 -18.434949  78.655203\n",
      "'_update_global_data': 0.001 seconds\n",
      "'local_data_select': 0.002 seconds\n",
      "number obs: 32\n",
      "'_max_dist_bool': 0.013 seconds\n",
      "'_from_dataframe': 0.015 seconds\n",
      "found GPU\n",
      "setting lengthscales to: [1. 1. 1.]\n",
      "'__init__': 0.146 seconds\n"
     ]
    },
    {
     "name": "stderr",
     "output_type": "stream",
     "text": [
      "2023-06-05 18:00:22.244291: I tensorflow/core/common_runtime/gpu/gpu_device.cc:1616] Created device /device:GPU:0 with 6261 MB memory:  -> device: 0, name: NVIDIA GeForce RTX 2080, pci bus id: 0000:17:00.0, compute capability: 7.5\n",
      "2023-06-05 18:00:22.245383: I tensorflow/core/common_runtime/gpu/gpu_device.cc:1616] Created device /device:GPU:1 with 4157 MB memory:  -> device: 1, name: NVIDIA GeForce RTX 2080, pci bus id: 0000:65:00.0, compute capability: 7.5\n"
     ]
    },
    {
     "name": "stdout",
     "output_type": "stream",
     "text": [
      "'_read_params_from_file': 0.079 seconds\n",
      "'set_parameters': 0.006 seconds\n",
      "'load_params': 0.086 seconds\n",
      "'set_lengthscales_constraints': 0.006 seconds\n",
      "*** not optimising parameters\n",
      "'get_parameters': 0.004 seconds\n",
      "parameters:\n",
      "lengthscales: array([5.21851123, 2.78067564, 0.99986617]) \n",
      "kernel_variance: 0.0021069343947658302\n",
      "likelihood_variance: 0.006000000000000003\n",
      "'predict': 0.047 seconds\n",
      "total run time : 0.66 seconds\n",
      "------------------------------\n",
      "266 / 363\n",
      "           x          y        t       date        lon        lat\n",
      "28 -600000.0 -1200000.0  18326.0 2020-03-05 -26.565051  77.964362\n",
      "'_update_global_data': 0.001 seconds\n",
      "'local_data_select': 0.002 seconds\n",
      "number obs: 5\n",
      "'_max_dist_bool': 0.013 seconds\n",
      "'_from_dataframe': 0.015 seconds\n",
      "found GPU\n",
      "setting lengthscales to: [1. 1. 1.]\n",
      "'__init__': 0.137 seconds\n"
     ]
    },
    {
     "name": "stderr",
     "output_type": "stream",
     "text": [
      "2023-06-05 18:00:22.900990: I tensorflow/core/common_runtime/gpu/gpu_device.cc:1616] Created device /device:GPU:0 with 6261 MB memory:  -> device: 0, name: NVIDIA GeForce RTX 2080, pci bus id: 0000:17:00.0, compute capability: 7.5\n",
      "2023-06-05 18:00:22.902101: I tensorflow/core/common_runtime/gpu/gpu_device.cc:1616] Created device /device:GPU:1 with 4157 MB memory:  -> device: 1, name: NVIDIA GeForce RTX 2080, pci bus id: 0000:65:00.0, compute capability: 7.5\n"
     ]
    },
    {
     "name": "stdout",
     "output_type": "stream",
     "text": [
      "'_read_params_from_file': 0.079 seconds\n",
      "'set_parameters': 0.006 seconds\n",
      "'load_params': 0.085 seconds\n",
      "'set_lengthscales_constraints': 0.006 seconds\n",
      "*** not optimising parameters\n",
      "'get_parameters': 0.004 seconds\n",
      "parameters:\n",
      "lengthscales: array([2.87491867, 2.53880742, 0.99969885]) \n",
      "kernel_variance: 0.0016996372723622458\n",
      "likelihood_variance: 0.006000000000000003\n",
      "'predict': 0.043 seconds\n",
      "total run time : 0.63 seconds\n",
      "------------------------------\n",
      "267 / 363\n",
      "            x          y        t       date        lon        lat\n",
      "27 -1600000.0 -1200000.0  18326.0 2020-03-05 -53.130102  72.014378\n",
      "'_update_global_data': 0.001 seconds\n",
      "'local_data_select': 0.002 seconds\n",
      "number obs: 14\n",
      "'_max_dist_bool': 0.013 seconds\n",
      "'_from_dataframe': 0.015 seconds\n",
      "found GPU\n",
      "setting lengthscales to: [1. 1. 1.]\n",
      "'__init__': 0.130 seconds\n"
     ]
    },
    {
     "name": "stderr",
     "output_type": "stream",
     "text": [
      "2023-06-05 18:00:23.534710: I tensorflow/core/common_runtime/gpu/gpu_device.cc:1616] Created device /device:GPU:0 with 6261 MB memory:  -> device: 0, name: NVIDIA GeForce RTX 2080, pci bus id: 0000:17:00.0, compute capability: 7.5\n",
      "2023-06-05 18:00:23.535169: I tensorflow/core/common_runtime/gpu/gpu_device.cc:1616] Created device /device:GPU:1 with 4157 MB memory:  -> device: 1, name: NVIDIA GeForce RTX 2080, pci bus id: 0000:65:00.0, compute capability: 7.5\n"
     ]
    },
    {
     "name": "stdout",
     "output_type": "stream",
     "text": [
      "'_read_params_from_file': 0.078 seconds\n",
      "'set_parameters': 0.006 seconds\n",
      "'load_params': 0.085 seconds\n",
      "'set_lengthscales_constraints': 0.006 seconds\n",
      "*** not optimising parameters\n",
      "'get_parameters': 0.004 seconds\n",
      "parameters:\n",
      "lengthscales: array([8.20915297, 9.06787995, 0.99376469]) \n",
      "kernel_variance: 0.004439081166190359\n",
      "likelihood_variance: 0.006000000000000003\n",
      "'predict': 0.045 seconds\n",
      "total run time : 0.63 seconds\n",
      "------------------------------\n",
      "268 / 363\n",
      "            x          y        t       date        lon        lat\n",
      "26 -1800000.0 -1200000.0  18326.0 2020-03-05 -56.309932  70.530773\n",
      "'_update_global_data': 0.001 seconds\n",
      "'local_data_select': 0.002 seconds\n",
      "number obs: 28\n",
      "'_max_dist_bool': 0.013 seconds\n",
      "'_from_dataframe': 0.015 seconds\n",
      "found GPU\n",
      "setting lengthscales to: [1. 1. 1.]\n"
     ]
    },
    {
     "name": "stderr",
     "output_type": "stream",
     "text": [
      "2023-06-05 18:00:24.201716: I tensorflow/core/common_runtime/gpu/gpu_device.cc:1616] Created device /device:GPU:0 with 6261 MB memory:  -> device: 0, name: NVIDIA GeForce RTX 2080, pci bus id: 0000:17:00.0, compute capability: 7.5\n",
      "2023-06-05 18:00:24.202811: I tensorflow/core/common_runtime/gpu/gpu_device.cc:1616] Created device /device:GPU:1 with 4157 MB memory:  -> device: 1, name: NVIDIA GeForce RTX 2080, pci bus id: 0000:65:00.0, compute capability: 7.5\n"
     ]
    },
    {
     "name": "stdout",
     "output_type": "stream",
     "text": [
      "'__init__': 0.188 seconds\n",
      "'_read_params_from_file': 0.078 seconds\n",
      "'set_parameters': 0.006 seconds\n",
      "'load_params': 0.085 seconds\n",
      "'set_lengthscales_constraints': 0.005 seconds\n",
      "*** not optimising parameters\n",
      "'get_parameters': 0.010 seconds\n",
      "parameters:\n",
      "lengthscales: array([ 9.26373609, 10.17228188,  0.97949953]) \n",
      "kernel_variance: 0.0036437411868742884\n",
      "likelihood_variance: 0.006000000000000003\n",
      "'predict': 0.072 seconds\n",
      "total run time : 0.73 seconds\n",
      "------------------------------\n",
      "269 / 363\n",
      "            x          y        t       date        lon       lat\n",
      "25 -2000000.0 -1200000.0  18326.0 2020-03-05 -59.036243  68.99148\n",
      "'_update_global_data': 0.001 seconds\n",
      "'local_data_select': 0.002 seconds\n",
      "number obs: 33\n",
      "'_max_dist_bool': 0.013 seconds\n",
      "'_from_dataframe': 0.015 seconds\n",
      "found GPU\n",
      "setting lengthscales to: [1. 1. 1.]\n",
      "'__init__': 0.177 seconds\n"
     ]
    },
    {
     "name": "stderr",
     "output_type": "stream",
     "text": [
      "2023-06-05 18:00:24.934752: I tensorflow/core/common_runtime/gpu/gpu_device.cc:1616] Created device /device:GPU:0 with 6261 MB memory:  -> device: 0, name: NVIDIA GeForce RTX 2080, pci bus id: 0000:17:00.0, compute capability: 7.5\n",
      "2023-06-05 18:00:24.936252: I tensorflow/core/common_runtime/gpu/gpu_device.cc:1616] Created device /device:GPU:1 with 4157 MB memory:  -> device: 1, name: NVIDIA GeForce RTX 2080, pci bus id: 0000:65:00.0, compute capability: 7.5\n"
     ]
    },
    {
     "name": "stdout",
     "output_type": "stream",
     "text": [
      "'_read_params_from_file': 0.091 seconds\n",
      "'set_parameters': 0.006 seconds\n",
      "'load_params': 0.098 seconds\n",
      "'set_lengthscales_constraints': 0.006 seconds\n",
      "*** not optimising parameters\n",
      "'get_parameters': 0.010 seconds\n",
      "parameters:\n",
      "lengthscales: array([10.85476595, 11.12699801,  0.970165  ]) \n",
      "kernel_variance: 0.002834371953829516\n",
      "likelihood_variance: 0.006000000000000003\n",
      "'predict': 0.055 seconds\n",
      "total run time : 0.72 seconds\n",
      "------------------------------\n",
      "270 / 363\n",
      "            x          y        t       date       lon        lat\n",
      "24 -2200000.0 -1200000.0  18326.0 2020-03-05 -61.38954  67.406353\n",
      "'_update_global_data': 0.001 seconds\n",
      "'local_data_select': 0.002 seconds\n",
      "number obs: 28\n",
      "'_max_dist_bool': 0.013 seconds\n",
      "'_from_dataframe': 0.015 seconds\n",
      "found GPU\n",
      "setting lengthscales to: [1. 1. 1.]\n",
      "'__init__': 0.142 seconds\n"
     ]
    },
    {
     "name": "stderr",
     "output_type": "stream",
     "text": [
      "2023-06-05 18:00:25.626920: I tensorflow/core/common_runtime/gpu/gpu_device.cc:1616] Created device /device:GPU:0 with 6261 MB memory:  -> device: 0, name: NVIDIA GeForce RTX 2080, pci bus id: 0000:17:00.0, compute capability: 7.5\n",
      "2023-06-05 18:00:25.628004: I tensorflow/core/common_runtime/gpu/gpu_device.cc:1616] Created device /device:GPU:1 with 4157 MB memory:  -> device: 1, name: NVIDIA GeForce RTX 2080, pci bus id: 0000:65:00.0, compute capability: 7.5\n"
     ]
    },
    {
     "name": "stdout",
     "output_type": "stream",
     "text": [
      "'_read_params_from_file': 0.078 seconds\n",
      "'set_parameters': 0.006 seconds\n",
      "'load_params': 0.085 seconds\n",
      "'set_lengthscales_constraints': 0.006 seconds\n",
      "*** not optimising parameters\n",
      "'get_parameters': 0.010 seconds\n",
      "parameters:\n",
      "lengthscales: array([11.69013591, 11.51341068,  0.98134691]) \n",
      "kernel_variance: 0.002412508024754548\n",
      "likelihood_variance: 0.006000000000000003\n",
      "'predict': 0.087 seconds\n",
      "SAVING RESULTS\n",
      "run_details\n",
      "preds\n",
      "lengthscales\n",
      "kernel_variance\n",
      "likelihood_variance\n",
      "total run time : 0.91 seconds\n",
      "------------------------------\n",
      "271 / 363\n",
      "            x          y        t       date        lon        lat\n",
      "22  1000000.0 -1400000.0  18326.0 2020-03-05  35.537678  74.546108\n",
      "'_update_global_data': 0.001 seconds\n",
      "'local_data_select': 0.002 seconds\n",
      "number obs: 7\n",
      "'_max_dist_bool': 0.013 seconds\n",
      "'_from_dataframe': 0.015 seconds\n",
      "found GPU\n",
      "setting lengthscales to: [1. 1. 1.]\n",
      "'__init__': 0.180 seconds\n"
     ]
    },
    {
     "name": "stderr",
     "output_type": "stream",
     "text": [
      "2023-06-05 18:00:26.574647: I tensorflow/core/common_runtime/gpu/gpu_device.cc:1616] Created device /device:GPU:0 with 6261 MB memory:  -> device: 0, name: NVIDIA GeForce RTX 2080, pci bus id: 0000:17:00.0, compute capability: 7.5\n",
      "2023-06-05 18:00:26.575913: I tensorflow/core/common_runtime/gpu/gpu_device.cc:1616] Created device /device:GPU:1 with 4157 MB memory:  -> device: 1, name: NVIDIA GeForce RTX 2080, pci bus id: 0000:65:00.0, compute capability: 7.5\n"
     ]
    },
    {
     "name": "stdout",
     "output_type": "stream",
     "text": [
      "'_read_params_from_file': 0.083 seconds\n",
      "'set_parameters': 0.006 seconds\n",
      "'load_params': 0.090 seconds\n",
      "'set_lengthscales_constraints': 0.006 seconds\n",
      "*** not optimising parameters\n",
      "'get_parameters': 0.011 seconds\n",
      "parameters:\n",
      "lengthscales: array([5.7147683 , 6.3837847 , 0.99983598]) \n",
      "kernel_variance: 0.026748758699843816\n",
      "likelihood_variance: 0.006000000000000003\n",
      "'predict': 0.055 seconds\n",
      "total run time : 0.71 seconds\n",
      "------------------------------\n",
      "272 / 363\n",
      "            x         y        t       date         lon        lat\n",
      "180  600000.0  200000.0  18326.0 2020-03-05  108.434949  84.335111\n",
      "'_update_global_data': 0.001 seconds\n",
      "'local_data_select': 0.002 seconds\n",
      "number obs: 47\n",
      "'_max_dist_bool': 0.013 seconds\n",
      "'_from_dataframe': 0.015 seconds\n",
      "found GPU\n",
      "setting lengthscales to: [1. 1. 1.]\n",
      "'__init__': 0.138 seconds\n"
     ]
    },
    {
     "name": "stderr",
     "output_type": "stream",
     "text": [
      "2023-06-05 18:00:27.249434: I tensorflow/core/common_runtime/gpu/gpu_device.cc:1616] Created device /device:GPU:0 with 6261 MB memory:  -> device: 0, name: NVIDIA GeForce RTX 2080, pci bus id: 0000:17:00.0, compute capability: 7.5\n",
      "2023-06-05 18:00:27.250595: I tensorflow/core/common_runtime/gpu/gpu_device.cc:1616] Created device /device:GPU:1 with 4157 MB memory:  -> device: 1, name: NVIDIA GeForce RTX 2080, pci bus id: 0000:65:00.0, compute capability: 7.5\n"
     ]
    },
    {
     "name": "stdout",
     "output_type": "stream",
     "text": [
      "'_read_params_from_file': 0.080 seconds\n",
      "'set_parameters': 0.006 seconds\n",
      "'load_params': 0.087 seconds\n",
      "'set_lengthscales_constraints': 0.006 seconds\n",
      "*** not optimising parameters\n",
      "'get_parameters': 0.004 seconds\n",
      "parameters:\n",
      "lengthscales: array([ 7.6550039 , 10.07398889,  0.99906067]) \n",
      "kernel_variance: 0.000432656024206357\n",
      "likelihood_variance: 0.006000000000000003\n",
      "'predict': 0.047 seconds\n",
      "total run time : 0.65 seconds\n",
      "------------------------------\n",
      "273 / 363\n",
      "           x         y        t       date        lon        lat\n",
      "89  400000.0 -600000.0  18326.0 2020-03-05  33.690068  83.540179\n",
      "'_update_global_data': 0.001 seconds\n",
      "'local_data_select': 0.002 seconds\n",
      "number obs: 39\n",
      "'_max_dist_bool': 0.013 seconds\n",
      "'_from_dataframe': 0.015 seconds\n",
      "found GPU\n",
      "setting lengthscales to: [1. 1. 1.]\n",
      "'__init__': 0.169 seconds\n"
     ]
    },
    {
     "name": "stderr",
     "output_type": "stream",
     "text": [
      "2023-06-05 18:00:27.934095: I tensorflow/core/common_runtime/gpu/gpu_device.cc:1616] Created device /device:GPU:0 with 6261 MB memory:  -> device: 0, name: NVIDIA GeForce RTX 2080, pci bus id: 0000:17:00.0, compute capability: 7.5\n",
      "2023-06-05 18:00:27.935218: I tensorflow/core/common_runtime/gpu/gpu_device.cc:1616] Created device /device:GPU:1 with 4157 MB memory:  -> device: 1, name: NVIDIA GeForce RTX 2080, pci bus id: 0000:65:00.0, compute capability: 7.5\n"
     ]
    },
    {
     "name": "stdout",
     "output_type": "stream",
     "text": [
      "'_read_params_from_file': 0.080 seconds\n",
      "'set_parameters': 0.006 seconds\n",
      "'load_params': 0.087 seconds\n",
      "'set_lengthscales_constraints': 0.006 seconds\n",
      "*** not optimising parameters\n",
      "'get_parameters': 0.004 seconds\n",
      "parameters:\n",
      "lengthscales: array([6.31731322, 6.31994468, 0.9958684 ]) \n",
      "kernel_variance: 0.004210333573443845\n",
      "likelihood_variance: 0.006000000000000003\n",
      "'predict': 0.049 seconds\n",
      "total run time : 0.68 seconds\n",
      "------------------------------\n",
      "274 / 363\n",
      "           x         y        t       date        lon        lat\n",
      "91  800000.0 -600000.0  18326.0 2020-03-05  53.130102  81.037096\n",
      "'_update_global_data': 0.001 seconds\n",
      "'local_data_select': 0.002 seconds\n",
      "number obs: 48\n",
      "'_max_dist_bool': 0.013 seconds\n",
      "'_from_dataframe': 0.015 seconds\n",
      "found GPU\n",
      "setting lengthscales to: [1. 1. 1.]\n",
      "'__init__': 0.165 seconds\n"
     ]
    },
    {
     "name": "stderr",
     "output_type": "stream",
     "text": [
      "2023-06-05 18:00:28.617967: I tensorflow/core/common_runtime/gpu/gpu_device.cc:1616] Created device /device:GPU:0 with 6261 MB memory:  -> device: 0, name: NVIDIA GeForce RTX 2080, pci bus id: 0000:17:00.0, compute capability: 7.5\n",
      "2023-06-05 18:00:28.619085: I tensorflow/core/common_runtime/gpu/gpu_device.cc:1616] Created device /device:GPU:1 with 4157 MB memory:  -> device: 1, name: NVIDIA GeForce RTX 2080, pci bus id: 0000:65:00.0, compute capability: 7.5\n"
     ]
    },
    {
     "name": "stdout",
     "output_type": "stream",
     "text": [
      "'_read_params_from_file': 0.080 seconds\n",
      "'set_parameters': 0.006 seconds\n",
      "'load_params': 0.087 seconds\n",
      "'set_lengthscales_constraints': 0.006 seconds\n",
      "*** not optimising parameters\n",
      "'get_parameters': 0.004 seconds\n",
      "parameters:\n",
      "lengthscales: array([3.60108286, 5.56414707, 0.99701999]) \n",
      "kernel_variance: 0.004465633877481978\n",
      "likelihood_variance: 0.006000000000000003\n",
      "'predict': 0.048 seconds\n",
      "total run time : 0.68 seconds\n",
      "------------------------------\n",
      "275 / 363\n",
      "       x    y        t       date  lon   lat\n",
      "155  0.0  0.0  18326.0 2020-03-05  0.0  90.0\n",
      "'_update_global_data': 0.001 seconds\n",
      "'local_data_select': 0.002 seconds\n",
      "number obs: 53\n",
      "'_max_dist_bool': 0.013 seconds\n",
      "'_from_dataframe': 0.015 seconds\n",
      "found GPU\n",
      "setting lengthscales to: [1. 1. 1.]\n",
      "'__init__': 0.157 seconds\n"
     ]
    },
    {
     "name": "stderr",
     "output_type": "stream",
     "text": [
      "2023-06-05 18:00:29.293782: I tensorflow/core/common_runtime/gpu/gpu_device.cc:1616] Created device /device:GPU:0 with 6261 MB memory:  -> device: 0, name: NVIDIA GeForce RTX 2080, pci bus id: 0000:17:00.0, compute capability: 7.5\n",
      "2023-06-05 18:00:29.294860: I tensorflow/core/common_runtime/gpu/gpu_device.cc:1616] Created device /device:GPU:1 with 4157 MB memory:  -> device: 1, name: NVIDIA GeForce RTX 2080, pci bus id: 0000:65:00.0, compute capability: 7.5\n"
     ]
    },
    {
     "name": "stdout",
     "output_type": "stream",
     "text": [
      "'_read_params_from_file': 0.081 seconds\n",
      "'set_parameters': 0.006 seconds\n",
      "'load_params': 0.088 seconds\n",
      "'set_lengthscales_constraints': 0.006 seconds\n",
      "*** not optimising parameters\n",
      "'get_parameters': 0.004 seconds\n",
      "parameters:\n",
      "lengthscales: array([10.48036301, 11.22040351,  1.00307537]) \n",
      "kernel_variance: 0.007479205046561089\n",
      "likelihood_variance: 0.006000000000000003\n",
      "'predict': 0.047 seconds\n",
      "total run time : 0.67 seconds\n",
      "------------------------------\n",
      "276 / 363\n",
      "            x    y        t       date   lon        lat\n",
      "154 -200000.0  0.0  18326.0 2020-03-05 -90.0  88.209314\n",
      "'_update_global_data': 0.001 seconds\n",
      "'local_data_select': 0.002 seconds\n",
      "number obs: 50\n",
      "'_max_dist_bool': 0.013 seconds\n",
      "'_from_dataframe': 0.015 seconds\n",
      "found GPU\n",
      "setting lengthscales to: [1. 1. 1.]\n",
      "'__init__': 0.175 seconds\n"
     ]
    },
    {
     "name": "stderr",
     "output_type": "stream",
     "text": [
      "2023-06-05 18:00:29.977817: I tensorflow/core/common_runtime/gpu/gpu_device.cc:1616] Created device /device:GPU:0 with 6261 MB memory:  -> device: 0, name: NVIDIA GeForce RTX 2080, pci bus id: 0000:17:00.0, compute capability: 7.5\n",
      "2023-06-05 18:00:29.978912: I tensorflow/core/common_runtime/gpu/gpu_device.cc:1616] Created device /device:GPU:1 with 4157 MB memory:  -> device: 1, name: NVIDIA GeForce RTX 2080, pci bus id: 0000:65:00.0, compute capability: 7.5\n"
     ]
    },
    {
     "name": "stdout",
     "output_type": "stream",
     "text": [
      "'_read_params_from_file': 0.080 seconds\n",
      "'set_parameters': 0.006 seconds\n",
      "'load_params': 0.087 seconds\n",
      "'set_lengthscales_constraints': 0.006 seconds\n",
      "*** not optimising parameters\n",
      "'get_parameters': 0.004 seconds\n",
      "parameters:\n",
      "lengthscales: array([ 9.01899651, 11.71347986,  1.00206453]) \n",
      "kernel_variance: 0.014045883495919145\n",
      "likelihood_variance: 0.006000000000000003\n",
      "'predict': 0.046 seconds\n",
      "total run time : 0.69 seconds\n",
      "------------------------------\n",
      "277 / 363\n",
      "            x    y        t       date   lon        lat\n",
      "153 -400000.0  0.0  18326.0 2020-03-05 -90.0  86.418156\n",
      "'_update_global_data': 0.001 seconds\n",
      "'local_data_select': 0.005 seconds\n",
      "number obs: 62\n",
      "'_max_dist_bool': 0.028 seconds\n",
      "'_from_dataframe': 0.031 seconds\n",
      "found GPU\n",
      "setting lengthscales to: [1. 1. 1.]\n"
     ]
    },
    {
     "name": "stderr",
     "output_type": "stream",
     "text": [
      "2023-06-05 18:00:30.693725: I tensorflow/core/common_runtime/gpu/gpu_device.cc:1616] Created device /device:GPU:0 with 6261 MB memory:  -> device: 0, name: NVIDIA GeForce RTX 2080, pci bus id: 0000:17:00.0, compute capability: 7.5\n",
      "2023-06-05 18:00:30.694812: I tensorflow/core/common_runtime/gpu/gpu_device.cc:1616] Created device /device:GPU:1 with 4157 MB memory:  -> device: 1, name: NVIDIA GeForce RTX 2080, pci bus id: 0000:65:00.0, compute capability: 7.5\n"
     ]
    },
    {
     "name": "stdout",
     "output_type": "stream",
     "text": [
      "'__init__': 0.170 seconds\n",
      "'_read_params_from_file': 0.079 seconds\n",
      "'set_parameters': 0.006 seconds\n",
      "'load_params': 0.086 seconds\n",
      "'set_lengthscales_constraints': 0.006 seconds\n",
      "*** not optimising parameters\n",
      "'get_parameters': 0.004 seconds\n",
      "parameters:\n",
      "lengthscales: array([ 7.16753649, 11.58459599,  1.00080114]) \n",
      "kernel_variance: 0.018384093731354596\n",
      "likelihood_variance: 0.006000000000000003\n",
      "'predict': 0.048 seconds\n",
      "total run time : 0.72 seconds\n",
      "------------------------------\n",
      "278 / 363\n",
      "            x    y        t       date   lon        lat\n",
      "152 -600000.0  0.0  18326.0 2020-03-05 -90.0  84.626051\n",
      "'_update_global_data': 0.001 seconds\n",
      "'local_data_select': 0.002 seconds\n",
      "number obs: 45\n",
      "'_max_dist_bool': 0.014 seconds\n",
      "'_from_dataframe': 0.016 seconds\n",
      "found GPU\n",
      "setting lengthscales to: [1. 1. 1.]\n",
      "'__init__': 0.165 seconds\n"
     ]
    },
    {
     "name": "stderr",
     "output_type": "stream",
     "text": [
      "2023-06-05 18:00:31.389750: I tensorflow/core/common_runtime/gpu/gpu_device.cc:1616] Created device /device:GPU:0 with 6261 MB memory:  -> device: 0, name: NVIDIA GeForce RTX 2080, pci bus id: 0000:17:00.0, compute capability: 7.5\n",
      "2023-06-05 18:00:31.390853: I tensorflow/core/common_runtime/gpu/gpu_device.cc:1616] Created device /device:GPU:1 with 4157 MB memory:  -> device: 1, name: NVIDIA GeForce RTX 2080, pci bus id: 0000:65:00.0, compute capability: 7.5\n"
     ]
    },
    {
     "name": "stdout",
     "output_type": "stream",
     "text": [
      "'_read_params_from_file': 0.079 seconds\n",
      "'set_parameters': 0.006 seconds\n",
      "'load_params': 0.087 seconds\n",
      "'set_lengthscales_constraints': 0.005 seconds\n",
      "*** not optimising parameters\n",
      "'get_parameters': 0.004 seconds\n",
      "parameters:\n",
      "lengthscales: array([ 6.46182147, 10.25837631,  1.00579464]) \n",
      "kernel_variance: 0.020327518960072028\n",
      "likelihood_variance: 0.006000000000000003\n",
      "'predict': 0.047 seconds\n",
      "total run time : 0.68 seconds\n",
      "------------------------------\n",
      "279 / 363\n",
      "            x    y        t       date   lon        lat\n",
      "151 -800000.0  0.0  18326.0 2020-03-05 -90.0  82.832524\n",
      "'_update_global_data': 0.001 seconds\n",
      "'local_data_select': 0.002 seconds\n",
      "number obs: 37\n",
      "'_max_dist_bool': 0.013 seconds\n",
      "'_from_dataframe': 0.015 seconds\n",
      "found GPU\n",
      "setting lengthscales to: [1. 1. 1.]\n",
      "'__init__': 0.167 seconds\n"
     ]
    },
    {
     "name": "stderr",
     "output_type": "stream",
     "text": [
      "2023-06-05 18:00:32.077615: I tensorflow/core/common_runtime/gpu/gpu_device.cc:1616] Created device /device:GPU:0 with 6261 MB memory:  -> device: 0, name: NVIDIA GeForce RTX 2080, pci bus id: 0000:17:00.0, compute capability: 7.5\n",
      "2023-06-05 18:00:32.078676: I tensorflow/core/common_runtime/gpu/gpu_device.cc:1616] Created device /device:GPU:1 with 4157 MB memory:  -> device: 1, name: NVIDIA GeForce RTX 2080, pci bus id: 0000:65:00.0, compute capability: 7.5\n"
     ]
    },
    {
     "name": "stdout",
     "output_type": "stream",
     "text": [
      "'_read_params_from_file': 0.078 seconds\n",
      "'set_parameters': 0.006 seconds\n",
      "'load_params': 0.085 seconds\n",
      "'set_lengthscales_constraints': 0.006 seconds\n",
      "*** not optimising parameters\n",
      "'get_parameters': 0.004 seconds\n",
      "parameters:\n",
      "lengthscales: array([6.22981166, 7.96144494, 1.00494279]) \n",
      "kernel_variance: 0.021135721901297443\n",
      "likelihood_variance: 0.006000000000000003\n",
      "'predict': 0.047 seconds\n",
      "total run time : 0.67 seconds\n",
      "------------------------------\n",
      "280 / 363\n",
      "             x    y        t       date   lon        lat\n",
      "150 -1000000.0  0.0  18326.0 2020-03-05 -90.0  81.037096\n",
      "'_update_global_data': 0.001 seconds\n",
      "'local_data_select': 0.002 seconds\n",
      "number obs: 32\n",
      "'_max_dist_bool': 0.013 seconds\n",
      "'_from_dataframe': 0.015 seconds\n",
      "found GPU\n",
      "setting lengthscales to: [1. 1. 1.]\n",
      "'__init__': 0.167 seconds\n"
     ]
    },
    {
     "name": "stderr",
     "output_type": "stream",
     "text": [
      "2023-06-05 18:00:32.752610: I tensorflow/core/common_runtime/gpu/gpu_device.cc:1616] Created device /device:GPU:0 with 6261 MB memory:  -> device: 0, name: NVIDIA GeForce RTX 2080, pci bus id: 0000:17:00.0, compute capability: 7.5\n",
      "2023-06-05 18:00:32.753117: I tensorflow/core/common_runtime/gpu/gpu_device.cc:1616] Created device /device:GPU:1 with 4157 MB memory:  -> device: 1, name: NVIDIA GeForce RTX 2080, pci bus id: 0000:65:00.0, compute capability: 7.5\n"
     ]
    },
    {
     "name": "stdout",
     "output_type": "stream",
     "text": [
      "'_read_params_from_file': 0.079 seconds\n",
      "'set_parameters': 0.006 seconds\n",
      "'load_params': 0.086 seconds\n",
      "'set_lengthscales_constraints': 0.006 seconds\n",
      "*** not optimising parameters\n",
      "'get_parameters': 0.010 seconds\n",
      "parameters:\n",
      "lengthscales: array([4.8029266 , 6.65471135, 1.00122637]) \n",
      "kernel_variance: 0.025449791446427703\n",
      "likelihood_variance: 0.006000000000000003\n",
      "'predict': 0.097 seconds\n",
      "SAVING RESULTS\n",
      "run_details\n",
      "preds\n",
      "lengthscales\n",
      "kernel_variance\n",
      "likelihood_variance\n",
      "total run time : 0.89 seconds\n",
      "------------------------------\n",
      "281 / 363\n",
      "             x    y        t       date   lon        lat\n",
      "149 -1200000.0  0.0  18326.0 2020-03-05 -90.0  79.239286\n",
      "'_update_global_data': 0.001 seconds\n",
      "'local_data_select': 0.002 seconds\n",
      "number obs: 17\n",
      "'_max_dist_bool': 0.013 seconds\n",
      "'_from_dataframe': 0.015 seconds\n",
      "found GPU\n",
      "setting lengthscales to: [1. 1. 1.]\n",
      "'__init__': 0.141 seconds\n",
      "'_read_params_from_file': 0.077 seconds\n",
      "'set_parameters': 0.006 seconds\n",
      "'load_params': 0.084 seconds\n",
      "'set_lengthscales_constraints': 0.006 seconds\n",
      "*** not optimising parameters\n",
      "'get_parameters': 0.004 seconds\n",
      "parameters:\n",
      "lengthscales: array([3.22463748, 7.6392044 , 0.99979265]) \n",
      "kernel_variance: 0.034336075814242584\n",
      "likelihood_variance: 0.006000000000000003\n",
      "'predict': 0.070 seconds\n"
     ]
    },
    {
     "name": "stderr",
     "output_type": "stream",
     "text": [
      "2023-06-05 18:00:33.621627: I tensorflow/core/common_runtime/gpu/gpu_device.cc:1616] Created device /device:GPU:0 with 6261 MB memory:  -> device: 0, name: NVIDIA GeForce RTX 2080, pci bus id: 0000:17:00.0, compute capability: 7.5\n",
      "2023-06-05 18:00:33.622664: I tensorflow/core/common_runtime/gpu/gpu_device.cc:1616] Created device /device:GPU:1 with 4157 MB memory:  -> device: 1, name: NVIDIA GeForce RTX 2080, pci bus id: 0000:65:00.0, compute capability: 7.5\n"
     ]
    },
    {
     "name": "stdout",
     "output_type": "stream",
     "text": [
      "total run time : 0.67 seconds\n",
      "------------------------------\n",
      "282 / 363\n",
      "             x    y        t       date   lon        lat\n",
      "148 -1400000.0  0.0  18326.0 2020-03-05 -90.0  77.438605\n",
      "'_update_global_data': 0.001 seconds\n",
      "'local_data_select': 0.002 seconds\n",
      "number obs: 9\n",
      "'_max_dist_bool': 0.013 seconds\n",
      "'_from_dataframe': 0.015 seconds\n",
      "found GPU\n",
      "setting lengthscales to: [1. 1. 1.]\n",
      "'__init__': 0.142 seconds\n"
     ]
    },
    {
     "name": "stderr",
     "output_type": "stream",
     "text": [
      "2023-06-05 18:00:34.291621: I tensorflow/core/common_runtime/gpu/gpu_device.cc:1616] Created device /device:GPU:0 with 6261 MB memory:  -> device: 0, name: NVIDIA GeForce RTX 2080, pci bus id: 0000:17:00.0, compute capability: 7.5\n",
      "2023-06-05 18:00:34.292074: I tensorflow/core/common_runtime/gpu/gpu_device.cc:1616] Created device /device:GPU:1 with 4157 MB memory:  -> device: 1, name: NVIDIA GeForce RTX 2080, pci bus id: 0000:65:00.0, compute capability: 7.5\n"
     ]
    },
    {
     "name": "stdout",
     "output_type": "stream",
     "text": [
      "'_read_params_from_file': 0.094 seconds\n",
      "'set_parameters': 0.006 seconds\n",
      "'load_params': 0.100 seconds\n",
      "'set_lengthscales_constraints': 0.006 seconds\n",
      "*** not optimising parameters\n",
      "'get_parameters': 0.010 seconds\n",
      "parameters:\n",
      "lengthscales: array([3.20869732, 9.41686254, 0.99718646]) \n",
      "kernel_variance: 0.03458575556464022\n",
      "likelihood_variance: 0.006000000000000003\n",
      "'predict': 0.058 seconds\n",
      "total run time : 0.69 seconds\n",
      "------------------------------\n",
      "283 / 363\n",
      "            x    y        t       date   lon        lat\n",
      "156  200000.0  0.0  18326.0 2020-03-05  90.0  88.209314\n",
      "'_update_global_data': 0.001 seconds\n",
      "'local_data_select': 0.002 seconds\n",
      "number obs: 53\n",
      "'_max_dist_bool': 0.013 seconds\n",
      "'_from_dataframe': 0.015 seconds\n",
      "found GPU\n",
      "setting lengthscales to: [1. 1. 1.]\n",
      "'__init__': 0.171 seconds\n"
     ]
    },
    {
     "name": "stderr",
     "output_type": "stream",
     "text": [
      "2023-06-05 18:00:35.005895: I tensorflow/core/common_runtime/gpu/gpu_device.cc:1616] Created device /device:GPU:0 with 6261 MB memory:  -> device: 0, name: NVIDIA GeForce RTX 2080, pci bus id: 0000:17:00.0, compute capability: 7.5\n",
      "2023-06-05 18:00:35.006897: I tensorflow/core/common_runtime/gpu/gpu_device.cc:1616] Created device /device:GPU:1 with 4157 MB memory:  -> device: 1, name: NVIDIA GeForce RTX 2080, pci bus id: 0000:65:00.0, compute capability: 7.5\n"
     ]
    },
    {
     "name": "stdout",
     "output_type": "stream",
     "text": [
      "'_read_params_from_file': 0.078 seconds\n",
      "'set_parameters': 0.006 seconds\n",
      "'load_params': 0.085 seconds\n",
      "'set_lengthscales_constraints': 0.005 seconds\n",
      "*** not optimising parameters\n",
      "'get_parameters': 0.005 seconds\n",
      "parameters:\n",
      "lengthscales: array([10.0526348 , 10.76053036,  0.99570806]) \n",
      "kernel_variance: 0.002751232742051199\n",
      "likelihood_variance: 0.006000000000000003\n",
      "'predict': 0.046 seconds\n",
      "total run time : 0.68 seconds\n",
      "------------------------------\n",
      "284 / 363\n",
      "             x    y        t       date   lon        lat\n",
      "147 -1600000.0  0.0  18326.0 2020-03-05 -90.0  75.634561\n",
      "'_update_global_data': 0.001 seconds\n",
      "'local_data_select': 0.002 seconds\n",
      "number obs: 11\n",
      "'_max_dist_bool': 0.013 seconds\n",
      "'_from_dataframe': 0.015 seconds\n",
      "found GPU\n",
      "setting lengthscales to: [1. 1. 1.]\n",
      "'__init__': 0.170 seconds\n"
     ]
    },
    {
     "name": "stderr",
     "output_type": "stream",
     "text": [
      "2023-06-05 18:00:35.681981: I tensorflow/core/common_runtime/gpu/gpu_device.cc:1616] Created device /device:GPU:0 with 6261 MB memory:  -> device: 0, name: NVIDIA GeForce RTX 2080, pci bus id: 0000:17:00.0, compute capability: 7.5\n",
      "2023-06-05 18:00:35.683109: I tensorflow/core/common_runtime/gpu/gpu_device.cc:1616] Created device /device:GPU:1 with 4157 MB memory:  -> device: 1, name: NVIDIA GeForce RTX 2080, pci bus id: 0000:65:00.0, compute capability: 7.5\n"
     ]
    },
    {
     "name": "stdout",
     "output_type": "stream",
     "text": [
      "'_read_params_from_file': 0.080 seconds\n",
      "'set_parameters': 0.006 seconds\n",
      "'load_params': 0.087 seconds\n",
      "'set_lengthscales_constraints': 0.006 seconds\n",
      "*** not optimising parameters\n",
      "'get_parameters': 0.004 seconds\n",
      "parameters:\n",
      "lengthscales: array([4.68313181, 8.6642425 , 0.9886797 ]) \n",
      "kernel_variance: 0.022972445482806678\n",
      "likelihood_variance: 0.006000000000000003\n",
      "'predict': 0.060 seconds\n",
      "total run time : 0.69 seconds\n",
      "------------------------------\n",
      "285 / 363\n",
      "             x    y        t       date   lon        lat\n",
      "145 -2000000.0  0.0  18326.0 2020-03-05 -90.0  72.014378\n",
      "'_update_global_data': 0.001 seconds\n",
      "'local_data_select': 0.002 seconds\n",
      "number obs: 14\n",
      "'_max_dist_bool': 0.014 seconds\n",
      "'_from_dataframe': 0.016 seconds\n",
      "found GPU\n",
      "setting lengthscales to: [1. 1. 1.]\n"
     ]
    },
    {
     "name": "stderr",
     "output_type": "stream",
     "text": [
      "2023-06-05 18:00:36.376388: I tensorflow/core/common_runtime/gpu/gpu_device.cc:1616] Created device /device:GPU:0 with 6261 MB memory:  -> device: 0, name: NVIDIA GeForce RTX 2080, pci bus id: 0000:17:00.0, compute capability: 7.5\n",
      "2023-06-05 18:00:36.377255: I tensorflow/core/common_runtime/gpu/gpu_device.cc:1616] Created device /device:GPU:1 with 4157 MB memory:  -> device: 1, name: NVIDIA GeForce RTX 2080, pci bus id: 0000:65:00.0, compute capability: 7.5\n"
     ]
    },
    {
     "name": "stdout",
     "output_type": "stream",
     "text": [
      "'__init__': 0.191 seconds\n",
      "'_read_params_from_file': 0.080 seconds\n",
      "'set_parameters': 0.006 seconds\n",
      "'load_params': 0.087 seconds\n",
      "'set_lengthscales_constraints': 0.006 seconds\n",
      "*** not optimising parameters\n",
      "'get_parameters': 0.004 seconds\n",
      "parameters:\n",
      "lengthscales: array([7.14577999, 2.48676967, 0.9904463 ]) \n",
      "kernel_variance: 0.016981338260284293\n",
      "likelihood_variance: 0.006000000000000003\n",
      "'predict': 0.046 seconds\n",
      "total run time : 0.70 seconds\n",
      "------------------------------\n",
      "286 / 363\n",
      "             x    y        t       date   lon        lat\n",
      "144 -2200000.0  0.0  18326.0 2020-03-05 -90.0  70.197213\n",
      "'_update_global_data': 0.001 seconds\n",
      "'local_data_select': 0.002 seconds\n",
      "number obs: 14\n",
      "'_max_dist_bool': 0.013 seconds\n",
      "'_from_dataframe': 0.015 seconds\n",
      "found GPU\n",
      "setting lengthscales to: [1. 1. 1.]\n",
      "'__init__': 0.167 seconds\n"
     ]
    },
    {
     "name": "stderr",
     "output_type": "stream",
     "text": [
      "2023-06-05 18:00:37.069893: I tensorflow/core/common_runtime/gpu/gpu_device.cc:1616] Created device /device:GPU:0 with 6261 MB memory:  -> device: 0, name: NVIDIA GeForce RTX 2080, pci bus id: 0000:17:00.0, compute capability: 7.5\n",
      "2023-06-05 18:00:37.070956: I tensorflow/core/common_runtime/gpu/gpu_device.cc:1616] Created device /device:GPU:1 with 4157 MB memory:  -> device: 1, name: NVIDIA GeForce RTX 2080, pci bus id: 0000:65:00.0, compute capability: 7.5\n"
     ]
    },
    {
     "name": "stdout",
     "output_type": "stream",
     "text": [
      "'_read_params_from_file': 0.080 seconds\n",
      "'set_parameters': 0.006 seconds\n",
      "'load_params': 0.087 seconds\n",
      "'set_lengthscales_constraints': 0.005 seconds\n",
      "*** not optimising parameters\n",
      "'get_parameters': 0.004 seconds\n",
      "parameters:\n",
      "lengthscales: array([6.16788257, 1.46471622, 0.99842053]) \n",
      "kernel_variance: 0.017204852759141683\n",
      "likelihood_variance: 0.006000000000000003\n",
      "'predict': 0.046 seconds\n",
      "total run time : 0.67 seconds\n",
      "------------------------------\n",
      "287 / 363\n",
      "             x    y        t       date   lon        lat\n",
      "143 -2400000.0  0.0  18326.0 2020-03-05 -90.0  68.374634\n",
      "'_update_global_data': 0.001 seconds\n",
      "'local_data_select': 0.002 seconds\n",
      "number obs: 8\n",
      "'_max_dist_bool': 0.013 seconds\n",
      "'_from_dataframe': 0.015 seconds\n",
      "found GPU\n",
      "setting lengthscales to: [1. 1. 1.]\n",
      "'__init__': 0.157 seconds\n"
     ]
    },
    {
     "name": "stderr",
     "output_type": "stream",
     "text": [
      "2023-06-05 18:00:37.726176: I tensorflow/core/common_runtime/gpu/gpu_device.cc:1616] Created device /device:GPU:0 with 6261 MB memory:  -> device: 0, name: NVIDIA GeForce RTX 2080, pci bus id: 0000:17:00.0, compute capability: 7.5\n",
      "2023-06-05 18:00:37.727308: I tensorflow/core/common_runtime/gpu/gpu_device.cc:1616] Created device /device:GPU:1 with 4157 MB memory:  -> device: 1, name: NVIDIA GeForce RTX 2080, pci bus id: 0000:65:00.0, compute capability: 7.5\n"
     ]
    },
    {
     "name": "stdout",
     "output_type": "stream",
     "text": [
      "'_read_params_from_file': 0.081 seconds\n",
      "'set_parameters': 0.006 seconds\n",
      "'load_params': 0.088 seconds\n",
      "'set_lengthscales_constraints': 0.006 seconds\n",
      "*** not optimising parameters\n",
      "'get_parameters': 0.010 seconds\n",
      "parameters:\n",
      "lengthscales: array([4.82553915, 1.28774315, 0.99999978]) \n",
      "kernel_variance: 0.015148797829035629\n",
      "likelihood_variance: 0.006000000000000003\n",
      "'predict': 0.053 seconds\n",
      "total run time : 0.68 seconds\n",
      "------------------------------\n",
      "288 / 363\n",
      "             x         y        t       date        lon        lat\n",
      "142  1800000.0 -200000.0  18326.0 2020-03-05  83.659808  73.726401\n",
      "'_update_global_data': 0.001 seconds\n",
      "'local_data_select': 0.002 seconds\n",
      "number obs: 11\n",
      "'_max_dist_bool': 0.014 seconds\n",
      "'_from_dataframe': 0.015 seconds\n",
      "found GPU\n",
      "setting lengthscales to: [1. 1. 1.]\n",
      "'__init__': 0.182 seconds\n"
     ]
    },
    {
     "name": "stderr",
     "output_type": "stream",
     "text": [
      "2023-06-05 18:00:38.433775: I tensorflow/core/common_runtime/gpu/gpu_device.cc:1616] Created device /device:GPU:0 with 6261 MB memory:  -> device: 0, name: NVIDIA GeForce RTX 2080, pci bus id: 0000:17:00.0, compute capability: 7.5\n",
      "2023-06-05 18:00:38.434736: I tensorflow/core/common_runtime/gpu/gpu_device.cc:1616] Created device /device:GPU:1 with 4157 MB memory:  -> device: 1, name: NVIDIA GeForce RTX 2080, pci bus id: 0000:65:00.0, compute capability: 7.5\n"
     ]
    },
    {
     "name": "stdout",
     "output_type": "stream",
     "text": [
      "'_read_params_from_file': 0.080 seconds\n",
      "'set_parameters': 0.006 seconds\n",
      "'load_params': 0.087 seconds\n",
      "'set_lengthscales_constraints': 0.006 seconds\n",
      "*** not optimising parameters\n",
      "'get_parameters': 0.010 seconds\n",
      "parameters:\n",
      "lengthscales: array([3.80316006, 6.55180041, 1.00730642]) \n",
      "kernel_variance: 0.018128562577300486\n",
      "likelihood_variance: 0.006000000000000003\n",
      "'predict': 0.054 seconds\n",
      "total run time : 0.71 seconds\n",
      "------------------------------\n",
      "289 / 363\n",
      "             x         y        t       date        lon        lat\n",
      "141  1600000.0 -200000.0  18326.0 2020-03-05  82.874984  75.522123\n",
      "'_update_global_data': 0.001 seconds\n",
      "'local_data_select': 0.002 seconds\n",
      "number obs: 39\n",
      "'_max_dist_bool': 0.013 seconds\n",
      "'_from_dataframe': 0.015 seconds\n",
      "found GPU\n",
      "setting lengthscales to: [1. 1. 1.]\n",
      "'__init__': 0.164 seconds\n"
     ]
    },
    {
     "name": "stderr",
     "output_type": "stream",
     "text": [
      "2023-06-05 18:00:39.121714: I tensorflow/core/common_runtime/gpu/gpu_device.cc:1616] Created device /device:GPU:0 with 6261 MB memory:  -> device: 0, name: NVIDIA GeForce RTX 2080, pci bus id: 0000:17:00.0, compute capability: 7.5\n",
      "2023-06-05 18:00:39.122782: I tensorflow/core/common_runtime/gpu/gpu_device.cc:1616] Created device /device:GPU:1 with 4157 MB memory:  -> device: 1, name: NVIDIA GeForce RTX 2080, pci bus id: 0000:65:00.0, compute capability: 7.5\n"
     ]
    },
    {
     "name": "stdout",
     "output_type": "stream",
     "text": [
      "'_read_params_from_file': 0.095 seconds\n",
      "'set_parameters': 0.006 seconds\n",
      "'load_params': 0.102 seconds\n",
      "'set_lengthscales_constraints': 0.006 seconds\n",
      "*** not optimising parameters\n",
      "'get_parameters': 0.004 seconds\n",
      "parameters:\n",
      "lengthscales: array([5.56685483, 6.45507344, 1.02500107]) \n",
      "kernel_variance: 0.014737834982137066\n",
      "likelihood_variance: 0.006000000000000003\n",
      "'predict': 0.046 seconds\n",
      "total run time : 0.68 seconds\n",
      "------------------------------\n",
      "290 / 363\n",
      "             x         y        t       date        lon        lat\n",
      "140  1400000.0 -200000.0  18326.0 2020-03-05  81.869898  77.310512\n",
      "'_update_global_data': 0.001 seconds\n",
      "'local_data_select': 0.002 seconds\n",
      "number obs: 60\n",
      "'_max_dist_bool': 0.013 seconds\n",
      "'_from_dataframe': 0.015 seconds\n",
      "found GPU\n",
      "setting lengthscales to: [1. 1. 1.]\n",
      "'__init__': 0.181 seconds\n"
     ]
    },
    {
     "name": "stderr",
     "output_type": "stream",
     "text": [
      "2023-06-05 18:00:39.817689: I tensorflow/core/common_runtime/gpu/gpu_device.cc:1616] Created device /device:GPU:0 with 6261 MB memory:  -> device: 0, name: NVIDIA GeForce RTX 2080, pci bus id: 0000:17:00.0, compute capability: 7.5\n",
      "2023-06-05 18:00:39.818744: I tensorflow/core/common_runtime/gpu/gpu_device.cc:1616] Created device /device:GPU:1 with 4157 MB memory:  -> device: 1, name: NVIDIA GeForce RTX 2080, pci bus id: 0000:65:00.0, compute capability: 7.5\n"
     ]
    },
    {
     "name": "stdout",
     "output_type": "stream",
     "text": [
      "'_read_params_from_file': 0.093 seconds\n",
      "'set_parameters': 0.006 seconds\n",
      "'load_params': 0.101 seconds\n",
      "'set_lengthscales_constraints': 0.006 seconds\n",
      "*** not optimising parameters\n",
      "'get_parameters': 0.004 seconds\n",
      "parameters:\n",
      "lengthscales: array([7.39589555, 6.69834174, 1.03892509]) \n",
      "kernel_variance: 0.010430908858397614\n",
      "likelihood_variance: 0.006000000000000003\n",
      "'predict': 0.049 seconds\n",
      "SAVING RESULTS\n",
      "run_details\n",
      "preds\n",
      "lengthscales\n",
      "kernel_variance\n",
      "likelihood_variance\n",
      "total run time : 0.88 seconds\n",
      "------------------------------\n",
      "291 / 363\n",
      "             x         y        t       date        lon        lat\n",
      "139  1200000.0 -200000.0  18326.0 2020-03-05  80.537678  79.090372\n",
      "'_update_global_data': 0.001 seconds\n",
      "'local_data_select': 0.002 seconds\n",
      "number obs: 76\n",
      "'_max_dist_bool': 0.013 seconds\n",
      "'_from_dataframe': 0.015 seconds\n",
      "found GPU\n",
      "setting lengthscales to: [1. 1. 1.]\n",
      "'__init__': 0.158 seconds\n",
      "'_read_params_from_file': 0.077 seconds\n",
      "'set_parameters': 0.006 seconds\n",
      "'load_params': 0.084 seconds\n",
      "'set_lengthscales_constraints': 0.006 seconds\n",
      "*** not optimising parameters\n",
      "'get_parameters': 0.004 seconds\n",
      "parameters:\n",
      "lengthscales: array([7.06221864, 7.30561867, 1.02340358]) \n",
      "kernel_variance: 0.005165478236785448\n",
      "likelihood_variance: 0.006000000000000003\n",
      "'predict': 0.048 seconds\n"
     ]
    },
    {
     "name": "stderr",
     "output_type": "stream",
     "text": [
      "2023-06-05 18:00:40.690469: I tensorflow/core/common_runtime/gpu/gpu_device.cc:1616] Created device /device:GPU:0 with 6261 MB memory:  -> device: 0, name: NVIDIA GeForce RTX 2080, pci bus id: 0000:17:00.0, compute capability: 7.5\n",
      "2023-06-05 18:00:40.691636: I tensorflow/core/common_runtime/gpu/gpu_device.cc:1616] Created device /device:GPU:1 with 4157 MB memory:  -> device: 1, name: NVIDIA GeForce RTX 2080, pci bus id: 0000:65:00.0, compute capability: 7.5\n"
     ]
    },
    {
     "name": "stdout",
     "output_type": "stream",
     "text": [
      "total run time : 0.66 seconds\n",
      "------------------------------\n",
      "292 / 363\n",
      "             x         y        t       date        lon        lat\n",
      "138  1000000.0 -200000.0  18326.0 2020-03-05  78.690068  80.859192\n",
      "'_update_global_data': 0.001 seconds\n",
      "'local_data_select': 0.002 seconds\n",
      "number obs: 70\n",
      "'_max_dist_bool': 0.013 seconds\n",
      "'_from_dataframe': 0.015 seconds\n",
      "found GPU\n",
      "setting lengthscales to: [1. 1. 1.]\n",
      "'__init__': 0.144 seconds\n"
     ]
    },
    {
     "name": "stderr",
     "output_type": "stream",
     "text": [
      "2023-06-05 18:00:41.338392: I tensorflow/core/common_runtime/gpu/gpu_device.cc:1616] Created device /device:GPU:0 with 6261 MB memory:  -> device: 0, name: NVIDIA GeForce RTX 2080, pci bus id: 0000:17:00.0, compute capability: 7.5\n",
      "2023-06-05 18:00:41.339248: I tensorflow/core/common_runtime/gpu/gpu_device.cc:1616] Created device /device:GPU:1 with 4157 MB memory:  -> device: 1, name: NVIDIA GeForce RTX 2080, pci bus id: 0000:65:00.0, compute capability: 7.5\n"
     ]
    },
    {
     "name": "stdout",
     "output_type": "stream",
     "text": [
      "'_read_params_from_file': 0.079 seconds\n",
      "'set_parameters': 0.006 seconds\n",
      "'load_params': 0.086 seconds\n",
      "'set_lengthscales_constraints': 0.006 seconds\n",
      "*** not optimising parameters\n",
      "'get_parameters': 0.010 seconds\n",
      "parameters:\n",
      "lengthscales: array([5.49115327, 7.47553209, 1.0045012 ]) \n",
      "kernel_variance: 0.0018962740786105717\n",
      "likelihood_variance: 0.006000000000000003\n",
      "'predict': 0.071 seconds\n",
      "total run time : 0.68 seconds\n",
      "------------------------------\n",
      "293 / 363\n",
      "             x    y        t       date   lon        lat\n",
      "146 -1800000.0  0.0  18326.0 2020-03-05 -90.0  73.826655\n",
      "'_update_global_data': 0.001 seconds\n",
      "'local_data_select': 0.002 seconds\n",
      "number obs: 13\n",
      "'_max_dist_bool': 0.014 seconds\n",
      "'_from_dataframe': 0.015 seconds\n",
      "found GPU\n",
      "setting lengthscales to: [1. 1. 1.]\n",
      "'__init__': 0.163 seconds\n"
     ]
    },
    {
     "name": "stderr",
     "output_type": "stream",
     "text": [
      "2023-06-05 18:00:42.031045: I tensorflow/core/common_runtime/gpu/gpu_device.cc:1616] Created device /device:GPU:0 with 6261 MB memory:  -> device: 0, name: NVIDIA GeForce RTX 2080, pci bus id: 0000:17:00.0, compute capability: 7.5\n",
      "2023-06-05 18:00:42.032297: I tensorflow/core/common_runtime/gpu/gpu_device.cc:1616] Created device /device:GPU:1 with 4157 MB memory:  -> device: 1, name: NVIDIA GeForce RTX 2080, pci bus id: 0000:65:00.0, compute capability: 7.5\n"
     ]
    },
    {
     "name": "stdout",
     "output_type": "stream",
     "text": [
      "'_read_params_from_file': 0.080 seconds\n",
      "'set_parameters': 0.006 seconds\n",
      "'load_params': 0.087 seconds\n",
      "'set_lengthscales_constraints': 0.006 seconds\n",
      "*** not optimising parameters\n",
      "'get_parameters': 0.010 seconds\n",
      "parameters:\n",
      "lengthscales: array([6.63856657, 5.3119208 , 0.98251774]) \n",
      "kernel_variance: 0.015432881637044654\n",
      "likelihood_variance: 0.006000000000000003\n",
      "'predict': 0.056 seconds\n",
      "total run time : 0.69 seconds\n",
      "------------------------------\n",
      "294 / 363\n",
      "            x    y        t       date   lon        lat\n",
      "157  400000.0  0.0  18326.0 2020-03-05  90.0  86.418156\n",
      "'_update_global_data': 0.001 seconds\n",
      "'local_data_select': 0.002 seconds\n",
      "number obs: 56\n",
      "'_max_dist_bool': 0.013 seconds\n",
      "'_from_dataframe': 0.015 seconds\n",
      "found GPU\n",
      "setting lengthscales to: [1. 1. 1.]\n",
      "'__init__': 0.182 seconds\n"
     ]
    },
    {
     "name": "stderr",
     "output_type": "stream",
     "text": [
      "2023-06-05 18:00:42.731206: I tensorflow/core/common_runtime/gpu/gpu_device.cc:1616] Created device /device:GPU:0 with 6261 MB memory:  -> device: 0, name: NVIDIA GeForce RTX 2080, pci bus id: 0000:17:00.0, compute capability: 7.5\n",
      "2023-06-05 18:00:42.732428: I tensorflow/core/common_runtime/gpu/gpu_device.cc:1616] Created device /device:GPU:1 with 4157 MB memory:  -> device: 1, name: NVIDIA GeForce RTX 2080, pci bus id: 0000:65:00.0, compute capability: 7.5\n"
     ]
    },
    {
     "name": "stdout",
     "output_type": "stream",
     "text": [
      "'_read_params_from_file': 0.095 seconds\n",
      "'set_parameters': 0.007 seconds\n",
      "'load_params': 0.102 seconds\n",
      "'set_lengthscales_constraints': 0.005 seconds\n",
      "*** not optimising parameters\n",
      "'get_parameters': 0.004 seconds\n",
      "parameters:\n",
      "lengthscales: array([ 8.29063511, 10.5995225 ,  0.99354318]) \n",
      "kernel_variance: 0.0010554300386104816\n",
      "likelihood_variance: 0.006000000000000003\n",
      "'predict': 0.048 seconds\n",
      "total run time : 0.72 seconds\n",
      "------------------------------\n",
      "295 / 363\n",
      "            x    y        t       date   lon        lat\n",
      "158  600000.0  0.0  18326.0 2020-03-05  90.0  84.626051\n",
      "'_update_global_data': 0.001 seconds\n",
      "'local_data_select': 0.002 seconds\n",
      "number obs: 46\n",
      "'_max_dist_bool': 0.013 seconds\n",
      "'_from_dataframe': 0.015 seconds\n",
      "found GPU\n",
      "setting lengthscales to: [1. 1. 1.]\n",
      "'__init__': 0.121 seconds\n"
     ]
    },
    {
     "name": "stderr",
     "output_type": "stream",
     "text": [
      "2023-06-05 18:00:43.411531: I tensorflow/core/common_runtime/gpu/gpu_device.cc:1616] Created device /device:GPU:0 with 6261 MB memory:  -> device: 0, name: NVIDIA GeForce RTX 2080, pci bus id: 0000:17:00.0, compute capability: 7.5\n",
      "2023-06-05 18:00:43.411950: I tensorflow/core/common_runtime/gpu/gpu_device.cc:1616] Created device /device:GPU:1 with 4157 MB memory:  -> device: 1, name: NVIDIA GeForce RTX 2080, pci bus id: 0000:65:00.0, compute capability: 7.5\n"
     ]
    },
    {
     "name": "stdout",
     "output_type": "stream",
     "text": [
      "'_read_params_from_file': 0.081 seconds\n",
      "'set_parameters': 0.006 seconds\n",
      "'load_params': 0.088 seconds\n",
      "'set_lengthscales_constraints': 0.006 seconds\n",
      "*** not optimising parameters\n",
      "'get_parameters': 0.004 seconds\n",
      "parameters:\n",
      "lengthscales: array([6.65037385, 9.91472004, 0.99675114]) \n",
      "kernel_variance: 0.0006222364072230497\n",
      "likelihood_variance: 0.006000000000000003\n",
      "'predict': 0.047 seconds\n",
      "total run time : 0.64 seconds\n",
      "------------------------------\n",
      "296 / 363\n",
      "            x    y        t       date   lon        lat\n",
      "159  800000.0  0.0  18326.0 2020-03-05  90.0  82.832524\n",
      "'_update_global_data': 0.001 seconds\n",
      "'local_data_select': 0.002 seconds\n",
      "number obs: 55\n",
      "'_max_dist_bool': 0.014 seconds\n",
      "'_from_dataframe': 0.015 seconds\n",
      "found GPU\n",
      "setting lengthscales to: [1. 1. 1.]\n",
      "'__init__': 0.168 seconds\n"
     ]
    },
    {
     "name": "stderr",
     "output_type": "stream",
     "text": [
      "2023-06-05 18:00:44.085854: I tensorflow/core/common_runtime/gpu/gpu_device.cc:1616] Created device /device:GPU:0 with 6261 MB memory:  -> device: 0, name: NVIDIA GeForce RTX 2080, pci bus id: 0000:17:00.0, compute capability: 7.5\n",
      "2023-06-05 18:00:44.086956: I tensorflow/core/common_runtime/gpu/gpu_device.cc:1616] Created device /device:GPU:1 with 4157 MB memory:  -> device: 1, name: NVIDIA GeForce RTX 2080, pci bus id: 0000:65:00.0, compute capability: 7.5\n"
     ]
    },
    {
     "name": "stdout",
     "output_type": "stream",
     "text": [
      "'_read_params_from_file': 0.082 seconds\n",
      "'set_parameters': 0.006 seconds\n",
      "'load_params': 0.089 seconds\n",
      "'set_lengthscales_constraints': 0.006 seconds\n",
      "*** not optimising parameters\n",
      "'get_parameters': 0.004 seconds\n",
      "parameters:\n",
      "lengthscales: array([5.10219239, 8.82105514, 0.99942578]) \n",
      "kernel_variance: 0.000688636488305143\n",
      "likelihood_variance: 0.006000000000000003\n",
      "'predict': 0.047 seconds\n",
      "total run time : 0.70 seconds\n",
      "------------------------------\n",
      "297 / 363\n",
      "            x         y        t       date    lon        lat\n",
      "178  200000.0  200000.0  18326.0 2020-03-05  135.0  87.467477\n",
      "'_update_global_data': 0.001 seconds\n",
      "'local_data_select': 0.002 seconds\n",
      "number obs: 55\n",
      "'_max_dist_bool': 0.014 seconds\n",
      "'_from_dataframe': 0.016 seconds\n",
      "found GPU\n",
      "setting lengthscales to: [1. 1. 1.]\n",
      "'__init__': 0.149 seconds\n"
     ]
    },
    {
     "name": "stderr",
     "output_type": "stream",
     "text": [
      "2023-06-05 18:00:44.765376: I tensorflow/core/common_runtime/gpu/gpu_device.cc:1616] Created device /device:GPU:0 with 6261 MB memory:  -> device: 0, name: NVIDIA GeForce RTX 2080, pci bus id: 0000:17:00.0, compute capability: 7.5\n",
      "2023-06-05 18:00:44.766448: I tensorflow/core/common_runtime/gpu/gpu_device.cc:1616] Created device /device:GPU:1 with 4157 MB memory:  -> device: 1, name: NVIDIA GeForce RTX 2080, pci bus id: 0000:65:00.0, compute capability: 7.5\n"
     ]
    },
    {
     "name": "stdout",
     "output_type": "stream",
     "text": [
      "'_read_params_from_file': 0.087 seconds\n",
      "'set_parameters': 0.006 seconds\n",
      "'load_params': 0.095 seconds\n",
      "'set_lengthscales_constraints': 0.006 seconds\n",
      "*** not optimising parameters\n",
      "'get_parameters': 0.004 seconds\n",
      "parameters:\n",
      "lengthscales: array([9.12971768, 9.67715996, 1.00243732]) \n",
      "kernel_variance: 0.002358497713741308\n",
      "likelihood_variance: 0.006000000000000003\n",
      "'predict': 0.089 seconds\n",
      "total run time : 0.72 seconds\n",
      "------------------------------\n",
      "298 / 363\n",
      "       x         y        t       date    lon        lat\n",
      "177  0.0  200000.0  18326.0 2020-03-05  180.0  88.209314\n",
      "'_update_global_data': 0.001 seconds\n",
      "'local_data_select': 0.002 seconds\n",
      "number obs: 54\n",
      "'_max_dist_bool': 0.014 seconds\n",
      "'_from_dataframe': 0.016 seconds\n",
      "found GPU\n",
      "setting lengthscales to: [1. 1. 1.]\n",
      "'__init__': 0.151 seconds\n"
     ]
    },
    {
     "name": "stderr",
     "output_type": "stream",
     "text": [
      "2023-06-05 18:00:45.493715: I tensorflow/core/common_runtime/gpu/gpu_device.cc:1616] Created device /device:GPU:0 with 6261 MB memory:  -> device: 0, name: NVIDIA GeForce RTX 2080, pci bus id: 0000:17:00.0, compute capability: 7.5\n",
      "2023-06-05 18:00:45.494850: I tensorflow/core/common_runtime/gpu/gpu_device.cc:1616] Created device /device:GPU:1 with 4157 MB memory:  -> device: 1, name: NVIDIA GeForce RTX 2080, pci bus id: 0000:65:00.0, compute capability: 7.5\n"
     ]
    },
    {
     "name": "stdout",
     "output_type": "stream",
     "text": [
      "'_read_params_from_file': 0.079 seconds\n",
      "'set_parameters': 0.006 seconds\n",
      "'load_params': 0.086 seconds\n",
      "'set_lengthscales_constraints': 0.006 seconds\n",
      "*** not optimising parameters\n",
      "'get_parameters': 0.004 seconds\n",
      "parameters:\n",
      "lengthscales: array([ 9.73985733, 10.76969257,  0.99074285]) \n",
      "kernel_variance: 0.006593635608216986\n",
      "likelihood_variance: 0.006000000000000003\n",
      "'predict': 0.047 seconds\n",
      "total run time : 0.66 seconds\n",
      "------------------------------\n",
      "299 / 363\n",
      "            x         y        t       date    lon        lat\n",
      "176 -200000.0  200000.0  18326.0 2020-03-05 -135.0  87.467477\n",
      "'_update_global_data': 0.001 seconds\n",
      "'local_data_select': 0.002 seconds\n",
      "number obs: 51\n",
      "'_max_dist_bool': 0.013 seconds\n",
      "'_from_dataframe': 0.015 seconds\n",
      "found GPU\n",
      "setting lengthscales to: [1. 1. 1.]\n",
      "'__init__': 0.152 seconds\n"
     ]
    },
    {
     "name": "stderr",
     "output_type": "stream",
     "text": [
      "2023-06-05 18:00:46.149755: I tensorflow/core/common_runtime/gpu/gpu_device.cc:1616] Created device /device:GPU:0 with 6261 MB memory:  -> device: 0, name: NVIDIA GeForce RTX 2080, pci bus id: 0000:17:00.0, compute capability: 7.5\n",
      "2023-06-05 18:00:46.150641: I tensorflow/core/common_runtime/gpu/gpu_device.cc:1616] Created device /device:GPU:1 with 4157 MB memory:  -> device: 1, name: NVIDIA GeForce RTX 2080, pci bus id: 0000:65:00.0, compute capability: 7.5\n"
     ]
    },
    {
     "name": "stdout",
     "output_type": "stream",
     "text": [
      "'_read_params_from_file': 0.095 seconds\n",
      "'set_parameters': 0.006 seconds\n",
      "'load_params': 0.102 seconds\n",
      "'set_lengthscales_constraints': 0.006 seconds\n",
      "*** not optimising parameters\n",
      "'get_parameters': 0.004 seconds\n",
      "parameters:\n",
      "lengthscales: array([ 9.37514164, 11.60563685,  0.9596983 ]) \n",
      "kernel_variance: 0.012522021747973164\n",
      "likelihood_variance: 0.006000000000000003\n",
      "'predict': 0.048 seconds\n",
      "total run time : 0.68 seconds\n",
      "------------------------------\n",
      "300 / 363\n",
      "            x         y        t       date         lon      lat\n",
      "175 -400000.0  200000.0  18326.0 2020-03-05 -116.565051  85.9952\n",
      "'_update_global_data': 0.001 seconds\n",
      "'local_data_select': 0.002 seconds\n",
      "number obs: 50\n",
      "'_max_dist_bool': 0.013 seconds\n",
      "'_from_dataframe': 0.015 seconds\n",
      "found GPU\n",
      "setting lengthscales to: [1. 1. 1.]\n",
      "'__init__': 0.183 seconds\n"
     ]
    },
    {
     "name": "stderr",
     "output_type": "stream",
     "text": [
      "2023-06-05 18:00:46.841868: I tensorflow/core/common_runtime/gpu/gpu_device.cc:1616] Created device /device:GPU:0 with 6261 MB memory:  -> device: 0, name: NVIDIA GeForce RTX 2080, pci bus id: 0000:17:00.0, compute capability: 7.5\n",
      "2023-06-05 18:00:46.842947: I tensorflow/core/common_runtime/gpu/gpu_device.cc:1616] Created device /device:GPU:1 with 4157 MB memory:  -> device: 1, name: NVIDIA GeForce RTX 2080, pci bus id: 0000:65:00.0, compute capability: 7.5\n"
     ]
    },
    {
     "name": "stdout",
     "output_type": "stream",
     "text": [
      "'_read_params_from_file': 0.089 seconds\n",
      "'set_parameters': 0.006 seconds\n",
      "'load_params': 0.097 seconds\n",
      "'set_lengthscales_constraints': 0.006 seconds\n",
      "*** not optimising parameters\n",
      "'get_parameters': 0.009 seconds\n",
      "parameters:\n",
      "lengthscales: array([ 8.35107404, 11.50842705,  0.96299223]) \n",
      "kernel_variance: 0.01717069172676296\n",
      "likelihood_variance: 0.006000000000000003\n",
      "'predict': 0.054 seconds\n",
      "SAVING RESULTS\n",
      "run_details\n",
      "preds\n",
      "lengthscales\n",
      "kernel_variance\n",
      "likelihood_variance\n",
      "total run time : 0.94 seconds\n",
      "------------------------------\n",
      "301 / 363\n",
      "            x         y        t       date         lon        lat\n",
      "174 -600000.0  200000.0  18326.0 2020-03-05 -108.434949  84.335111\n",
      "'_update_global_data': 0.001 seconds\n",
      "'local_data_select': 0.002 seconds\n",
      "number obs: 43\n",
      "'_max_dist_bool': 0.013 seconds\n",
      "'_from_dataframe': 0.015 seconds\n",
      "found GPU\n",
      "setting lengthscales to: [1. 1. 1.]\n",
      "'__init__': 0.178 seconds\n"
     ]
    },
    {
     "name": "stderr",
     "output_type": "stream",
     "text": [
      "2023-06-05 18:00:47.798521: I tensorflow/core/common_runtime/gpu/gpu_device.cc:1616] Created device /device:GPU:0 with 6261 MB memory:  -> device: 0, name: NVIDIA GeForce RTX 2080, pci bus id: 0000:17:00.0, compute capability: 7.5\n",
      "2023-06-05 18:00:47.799745: I tensorflow/core/common_runtime/gpu/gpu_device.cc:1616] Created device /device:GPU:1 with 4157 MB memory:  -> device: 1, name: NVIDIA GeForce RTX 2080, pci bus id: 0000:65:00.0, compute capability: 7.5\n"
     ]
    },
    {
     "name": "stdout",
     "output_type": "stream",
     "text": [
      "'_read_params_from_file': 0.079 seconds\n",
      "'set_parameters': 0.006 seconds\n",
      "'load_params': 0.086 seconds\n",
      "'set_lengthscales_constraints': 0.006 seconds\n",
      "*** not optimising parameters\n",
      "'get_parameters': 0.010 seconds\n",
      "parameters:\n",
      "lengthscales: array([ 7.27065695, 10.57737901,  0.99530712]) \n",
      "kernel_variance: 0.01959073802451793\n",
      "likelihood_variance: 0.006000000000000003\n",
      "'predict': 0.065 seconds\n",
      "total run time : 0.71 seconds\n",
      "------------------------------\n",
      "302 / 363\n",
      "            x         y        t       date         lon        lat\n",
      "173 -800000.0  200000.0  18326.0 2020-03-05 -104.036243  82.611609\n",
      "'_update_global_data': 0.001 seconds\n",
      "'local_data_select': 0.002 seconds\n",
      "number obs: 50\n",
      "'_max_dist_bool': 0.013 seconds\n",
      "'_from_dataframe': 0.015 seconds\n",
      "found GPU\n",
      "setting lengthscales to: [1. 1. 1.]\n",
      "'__init__': 0.167 seconds\n"
     ]
    },
    {
     "name": "stderr",
     "output_type": "stream",
     "text": [
      "2023-06-05 18:00:48.490818: I tensorflow/core/common_runtime/gpu/gpu_device.cc:1616] Created device /device:GPU:0 with 6261 MB memory:  -> device: 0, name: NVIDIA GeForce RTX 2080, pci bus id: 0000:17:00.0, compute capability: 7.5\n",
      "2023-06-05 18:00:48.491847: I tensorflow/core/common_runtime/gpu/gpu_device.cc:1616] Created device /device:GPU:1 with 4157 MB memory:  -> device: 1, name: NVIDIA GeForce RTX 2080, pci bus id: 0000:65:00.0, compute capability: 7.5\n"
     ]
    },
    {
     "name": "stdout",
     "output_type": "stream",
     "text": [
      "'_read_params_from_file': 0.088 seconds\n",
      "'set_parameters': 0.006 seconds\n",
      "'load_params': 0.096 seconds\n",
      "'set_lengthscales_constraints': 0.006 seconds\n",
      "*** not optimising parameters\n",
      "'get_parameters': 0.004 seconds\n",
      "parameters:\n",
      "lengthscales: array([6.08597111, 8.93368878, 1.00518134]) \n",
      "kernel_variance: 0.02143102914784942\n",
      "likelihood_variance: 0.006000000000000003\n",
      "'predict': 0.048 seconds\n",
      "total run time : 0.69 seconds\n",
      "------------------------------\n",
      "303 / 363\n",
      "             x         y        t       date         lon        lat\n",
      "172 -1000000.0  200000.0  18326.0 2020-03-05 -101.309932  80.859192\n",
      "'_update_global_data': 0.001 seconds\n",
      "'local_data_select': 0.002 seconds\n",
      "number obs: 50\n",
      "'_max_dist_bool': 0.014 seconds\n",
      "'_from_dataframe': 0.016 seconds\n",
      "found GPU\n",
      "setting lengthscales to: [1. 1. 1.]\n",
      "'__init__': 0.167 seconds\n"
     ]
    },
    {
     "name": "stderr",
     "output_type": "stream",
     "text": [
      "2023-06-05 18:00:49.187117: I tensorflow/core/common_runtime/gpu/gpu_device.cc:1616] Created device /device:GPU:0 with 6261 MB memory:  -> device: 0, name: NVIDIA GeForce RTX 2080, pci bus id: 0000:17:00.0, compute capability: 7.5\n",
      "2023-06-05 18:00:49.188470: I tensorflow/core/common_runtime/gpu/gpu_device.cc:1616] Created device /device:GPU:1 with 4157 MB memory:  -> device: 1, name: NVIDIA GeForce RTX 2080, pci bus id: 0000:65:00.0, compute capability: 7.5\n"
     ]
    },
    {
     "name": "stdout",
     "output_type": "stream",
     "text": [
      "'_read_params_from_file': 0.081 seconds\n",
      "'set_parameters': 0.006 seconds\n",
      "'load_params': 0.088 seconds\n",
      "'set_lengthscales_constraints': 0.006 seconds\n",
      "*** not optimising parameters\n",
      "'get_parameters': 0.004 seconds\n",
      "parameters:\n",
      "lengthscales: array([4.31473056, 7.92727221, 1.0012759 ]) \n",
      "kernel_variance: 0.02838485332146538\n",
      "likelihood_variance: 0.006000000000000003\n",
      "'predict': 0.048 seconds\n",
      "total run time : 0.68 seconds\n",
      "------------------------------\n",
      "304 / 363\n",
      "             x         y        t       date        lon        lat\n",
      "171 -1200000.0  200000.0  18326.0 2020-03-05 -99.462322  79.090372\n",
      "'_update_global_data': 0.001 seconds\n",
      "'local_data_select': 0.002 seconds\n",
      "number obs: 38\n",
      "'_max_dist_bool': 0.014 seconds\n",
      "'_from_dataframe': 0.016 seconds\n",
      "found GPU\n",
      "setting lengthscales to: [1. 1. 1.]\n",
      "'__init__': 0.175 seconds\n"
     ]
    },
    {
     "name": "stderr",
     "output_type": "stream",
     "text": [
      "2023-06-05 18:00:49.882600: I tensorflow/core/common_runtime/gpu/gpu_device.cc:1616] Created device /device:GPU:0 with 6261 MB memory:  -> device: 0, name: NVIDIA GeForce RTX 2080, pci bus id: 0000:17:00.0, compute capability: 7.5\n",
      "2023-06-05 18:00:49.883578: I tensorflow/core/common_runtime/gpu/gpu_device.cc:1616] Created device /device:GPU:1 with 4157 MB memory:  -> device: 1, name: NVIDIA GeForce RTX 2080, pci bus id: 0000:65:00.0, compute capability: 7.5\n"
     ]
    },
    {
     "name": "stdout",
     "output_type": "stream",
     "text": [
      "'_read_params_from_file': 0.096 seconds\n",
      "'set_parameters': 0.006 seconds\n",
      "'load_params': 0.103 seconds\n",
      "'set_lengthscales_constraints': 0.008 seconds\n",
      "*** not optimising parameters\n",
      "'get_parameters': 0.004 seconds\n",
      "parameters:\n",
      "lengthscales: array([2.4524968 , 8.62816102, 1.0003941 ]) \n",
      "kernel_variance: 0.04064927598616147\n",
      "likelihood_variance: 0.006000000000000003\n",
      "'predict': 0.048 seconds\n",
      "total run time : 0.73 seconds\n",
      "------------------------------\n",
      "305 / 363\n",
      "             x         y        t       date        lon        lat\n",
      "170 -1400000.0  200000.0  18326.0 2020-03-05 -98.130102  77.310512\n",
      "'_update_global_data': 0.002 seconds\n",
      "'local_data_select': 0.003 seconds\n",
      "number obs: 13\n",
      "'_max_dist_bool': 0.017 seconds\n",
      "'_from_dataframe': 0.019 seconds\n",
      "found GPU\n",
      "setting lengthscales to: [1. 1. 1.]\n"
     ]
    },
    {
     "name": "stderr",
     "output_type": "stream",
     "text": [
      "2023-06-05 18:00:50.630711: I tensorflow/core/common_runtime/gpu/gpu_device.cc:1616] Created device /device:GPU:0 with 6261 MB memory:  -> device: 0, name: NVIDIA GeForce RTX 2080, pci bus id: 0000:17:00.0, compute capability: 7.5\n",
      "2023-06-05 18:00:50.631915: I tensorflow/core/common_runtime/gpu/gpu_device.cc:1616] Created device /device:GPU:1 with 4157 MB memory:  -> device: 1, name: NVIDIA GeForce RTX 2080, pci bus id: 0000:65:00.0, compute capability: 7.5\n"
     ]
    },
    {
     "name": "stdout",
     "output_type": "stream",
     "text": [
      "'__init__': 0.196 seconds\n",
      "'_read_params_from_file': 0.080 seconds\n",
      "'set_parameters': 0.006 seconds\n",
      "'load_params': 0.087 seconds\n",
      "'set_lengthscales_constraints': 0.006 seconds\n",
      "*** not optimising parameters\n",
      "'get_parameters': 0.004 seconds\n",
      "parameters:\n",
      "lengthscales: array([1.63684252, 9.49089665, 1.00023008]) \n",
      "kernel_variance: 0.04224259031931671\n",
      "likelihood_variance: 0.006000000000000003\n",
      "'predict': 0.047 seconds\n",
      "total run time : 0.73 seconds\n",
      "------------------------------\n",
      "306 / 363\n",
      "             x         y        t       date        lon        lat\n",
      "169 -1600000.0  200000.0  18326.0 2020-03-05 -97.125016  75.522123\n",
      "'_update_global_data': 0.001 seconds\n",
      "'local_data_select': 0.002 seconds\n",
      "number obs: 14\n",
      "'_max_dist_bool': 0.014 seconds\n",
      "'_from_dataframe': 0.016 seconds\n",
      "found GPU\n",
      "setting lengthscales to: [1. 1. 1.]\n",
      "'__init__': 0.170 seconds\n"
     ]
    },
    {
     "name": "stderr",
     "output_type": "stream",
     "text": [
      "2023-06-05 18:00:51.345902: I tensorflow/core/common_runtime/gpu/gpu_device.cc:1616] Created device /device:GPU:0 with 6261 MB memory:  -> device: 0, name: NVIDIA GeForce RTX 2080, pci bus id: 0000:17:00.0, compute capability: 7.5\n",
      "2023-06-05 18:00:51.346934: I tensorflow/core/common_runtime/gpu/gpu_device.cc:1616] Created device /device:GPU:1 with 4157 MB memory:  -> device: 1, name: NVIDIA GeForce RTX 2080, pci bus id: 0000:65:00.0, compute capability: 7.5\n"
     ]
    },
    {
     "name": "stdout",
     "output_type": "stream",
     "text": [
      "'_read_params_from_file': 0.079 seconds\n",
      "'set_parameters': 0.006 seconds\n",
      "'load_params': 0.086 seconds\n",
      "'set_lengthscales_constraints': 0.005 seconds\n",
      "*** not optimising parameters\n",
      "'get_parameters': 0.010 seconds\n",
      "parameters:\n",
      "lengthscales: array([2.31442209, 7.86247524, 0.99822722]) \n",
      "kernel_variance: 0.031047984080510294\n",
      "likelihood_variance: 0.006000000000000003\n",
      "'predict': 0.058 seconds\n",
      "total run time : 0.72 seconds\n",
      "------------------------------\n",
      "307 / 363\n",
      "             x         y        t       date        lon        lat\n",
      "168 -1800000.0  200000.0  18326.0 2020-03-05 -96.340192  73.726401\n",
      "'_update_global_data': 0.001 seconds\n",
      "'local_data_select': 0.002 seconds\n",
      "number obs: 15\n",
      "'_max_dist_bool': 0.013 seconds\n",
      "'_from_dataframe': 0.015 seconds\n",
      "found GPU\n",
      "setting lengthscales to: [1. 1. 1.]\n",
      "'__init__': 0.177 seconds\n"
     ]
    },
    {
     "name": "stderr",
     "output_type": "stream",
     "text": [
      "2023-06-05 18:00:52.069763: I tensorflow/core/common_runtime/gpu/gpu_device.cc:1616] Created device /device:GPU:0 with 6261 MB memory:  -> device: 0, name: NVIDIA GeForce RTX 2080, pci bus id: 0000:17:00.0, compute capability: 7.5\n",
      "2023-06-05 18:00:52.070853: I tensorflow/core/common_runtime/gpu/gpu_device.cc:1616] Created device /device:GPU:1 with 4157 MB memory:  -> device: 1, name: NVIDIA GeForce RTX 2080, pci bus id: 0000:65:00.0, compute capability: 7.5\n"
     ]
    },
    {
     "name": "stdout",
     "output_type": "stream",
     "text": [
      "'_read_params_from_file': 0.078 seconds\n",
      "'set_parameters': 0.006 seconds\n",
      "'load_params': 0.085 seconds\n",
      "'set_lengthscales_constraints': 0.006 seconds\n",
      "*** not optimising parameters\n",
      "'get_parameters': 0.010 seconds\n",
      "parameters:\n",
      "lengthscales: array([3.93853535, 4.22448691, 0.99672691]) \n",
      "kernel_variance: 0.026881326459214382\n",
      "likelihood_variance: 0.006000000000000003\n",
      "'predict': 0.054 seconds\n",
      "total run time : 0.70 seconds\n",
      "------------------------------\n",
      "308 / 363\n",
      "             x         y        t       date        lon        lat\n",
      "167 -2000000.0  200000.0  18326.0 2020-03-05 -95.710593  71.923866\n",
      "'_update_global_data': 0.001 seconds\n",
      "'local_data_select': 0.002 seconds\n",
      "number obs: 18\n",
      "'_max_dist_bool': 0.013 seconds\n",
      "'_from_dataframe': 0.015 seconds\n",
      "found GPU\n",
      "setting lengthscales to: [1. 1. 1.]\n",
      "'__init__': 0.165 seconds\n"
     ]
    },
    {
     "name": "stderr",
     "output_type": "stream",
     "text": [
      "2023-06-05 18:00:52.750752: I tensorflow/core/common_runtime/gpu/gpu_device.cc:1616] Created device /device:GPU:0 with 6261 MB memory:  -> device: 0, name: NVIDIA GeForce RTX 2080, pci bus id: 0000:17:00.0, compute capability: 7.5\n",
      "2023-06-05 18:00:52.751987: I tensorflow/core/common_runtime/gpu/gpu_device.cc:1616] Created device /device:GPU:1 with 4157 MB memory:  -> device: 1, name: NVIDIA GeForce RTX 2080, pci bus id: 0000:65:00.0, compute capability: 7.5\n"
     ]
    },
    {
     "name": "stdout",
     "output_type": "stream",
     "text": [
      "'_read_params_from_file': 0.081 seconds\n",
      "'set_parameters': 0.006 seconds\n",
      "'load_params': 0.088 seconds\n",
      "'set_lengthscales_constraints': 0.006 seconds\n",
      "*** not optimising parameters\n",
      "'get_parameters': 0.004 seconds\n",
      "parameters:\n",
      "lengthscales: array([4.87555359, 1.73268494, 0.99856057]) \n",
      "kernel_variance: 0.03385226064016333\n",
      "likelihood_variance: 0.006000000000000003\n",
      "'predict': 0.047 seconds\n",
      "total run time : 0.71 seconds\n",
      "------------------------------\n",
      "309 / 363\n",
      "             x         y        t       date        lon        lat\n",
      "166 -2200000.0  200000.0  18326.0 2020-03-05 -95.194429  70.114661\n",
      "'_update_global_data': 0.001 seconds\n",
      "'local_data_select': 0.002 seconds\n",
      "number obs: 15\n",
      "'_max_dist_bool': 0.014 seconds\n",
      "'_from_dataframe': 0.016 seconds\n",
      "found GPU\n",
      "setting lengthscales to: [1. 1. 1.]\n",
      "'__init__': 0.178 seconds\n"
     ]
    },
    {
     "name": "stderr",
     "output_type": "stream",
     "text": [
      "2023-06-05 18:00:53.485620: I tensorflow/core/common_runtime/gpu/gpu_device.cc:1616] Created device /device:GPU:0 with 6261 MB memory:  -> device: 0, name: NVIDIA GeForce RTX 2080, pci bus id: 0000:17:00.0, compute capability: 7.5\n",
      "2023-06-05 18:00:53.486528: I tensorflow/core/common_runtime/gpu/gpu_device.cc:1616] Created device /device:GPU:1 with 4157 MB memory:  -> device: 1, name: NVIDIA GeForce RTX 2080, pci bus id: 0000:65:00.0, compute capability: 7.5\n"
     ]
    },
    {
     "name": "stdout",
     "output_type": "stream",
     "text": [
      "'_read_params_from_file': 0.093 seconds\n",
      "'set_parameters': 0.006 seconds\n",
      "'load_params': 0.100 seconds\n",
      "'set_lengthscales_constraints': 0.006 seconds\n",
      "*** not optimising parameters\n",
      "'get_parameters': 0.004 seconds\n",
      "parameters:\n",
      "lengthscales: array([4.47377303, 1.0451378 , 1.00007052]) \n",
      "kernel_variance: 0.034436596958006487\n",
      "likelihood_variance: 0.006000000000000003\n",
      "'predict': 0.046 seconds\n",
      "total run time : 0.70 seconds\n",
      "------------------------------\n",
      "310 / 363\n",
      "             x         y        t       date        lon        lat\n",
      "165 -2400000.0  200000.0  18326.0 2020-03-05 -94.763642  68.298699\n",
      "'_update_global_data': 0.001 seconds\n",
      "'local_data_select': 0.002 seconds\n",
      "number obs: 3\n",
      "'_max_dist_bool': 0.014 seconds\n",
      "'_from_dataframe': 0.016 seconds\n",
      "found GPU\n",
      "setting lengthscales to: [1. 1. 1.]\n",
      "'__init__': 0.171 seconds\n"
     ]
    },
    {
     "name": "stderr",
     "output_type": "stream",
     "text": [
      "2023-06-05 18:00:54.173795: I tensorflow/core/common_runtime/gpu/gpu_device.cc:1616] Created device /device:GPU:0 with 6261 MB memory:  -> device: 0, name: NVIDIA GeForce RTX 2080, pci bus id: 0000:17:00.0, compute capability: 7.5\n",
      "2023-06-05 18:00:54.174803: I tensorflow/core/common_runtime/gpu/gpu_device.cc:1616] Created device /device:GPU:1 with 4157 MB memory:  -> device: 1, name: NVIDIA GeForce RTX 2080, pci bus id: 0000:65:00.0, compute capability: 7.5\n"
     ]
    },
    {
     "name": "stdout",
     "output_type": "stream",
     "text": [
      "'_read_params_from_file': 0.079 seconds\n",
      "'set_parameters': 0.006 seconds\n",
      "'load_params': 0.086 seconds\n",
      "'set_lengthscales_constraints': 0.005 seconds\n",
      "*** not optimising parameters\n",
      "'get_parameters': 0.004 seconds\n",
      "parameters:\n",
      "lengthscales: array([3.5962793 , 0.93095463, 1.00013069]) \n",
      "kernel_variance: 0.026923064346072216\n",
      "likelihood_variance: 0.006000000000000003\n",
      "'predict': 0.045 seconds\n",
      "SAVING RESULTS\n",
      "run_details\n",
      "preds\n",
      "lengthscales\n",
      "kernel_variance\n",
      "likelihood_variance\n",
      "total run time : 0.83 seconds\n",
      "------------------------------\n",
      "311 / 363\n",
      "             x    y        t       date   lon        lat\n",
      "164  1800000.0  0.0  18326.0 2020-03-05  90.0  73.826655\n",
      "'_update_global_data': 0.001 seconds\n",
      "'local_data_select': 0.002 seconds\n",
      "number obs: 8\n",
      "'_max_dist_bool': 0.013 seconds\n",
      "'_from_dataframe': 0.015 seconds\n",
      "found GPU\n",
      "setting lengthscales to: [1. 1. 1.]\n",
      "'__init__': 0.140 seconds\n",
      "'_read_params_from_file': 0.079 seconds\n",
      "'set_parameters': 0.006 seconds\n",
      "'load_params': 0.086 seconds\n",
      "'set_lengthscales_constraints': 0.005 seconds\n",
      "*** not optimising parameters\n",
      "'get_parameters': 0.004 seconds\n",
      "parameters:\n",
      "lengthscales: array([4.71164714, 8.42002314, 1.00489616]) \n",
      "kernel_variance: 0.01139486302087065\n",
      "likelihood_variance: 0.006000000000000003\n",
      "'predict': 0.047 seconds\n"
     ]
    },
    {
     "name": "stderr",
     "output_type": "stream",
     "text": [
      "2023-06-05 18:00:54.974025: I tensorflow/core/common_runtime/gpu/gpu_device.cc:1616] Created device /device:GPU:0 with 6261 MB memory:  -> device: 0, name: NVIDIA GeForce RTX 2080, pci bus id: 0000:17:00.0, compute capability: 7.5\n",
      "2023-06-05 18:00:54.975201: I tensorflow/core/common_runtime/gpu/gpu_device.cc:1616] Created device /device:GPU:1 with 4157 MB memory:  -> device: 1, name: NVIDIA GeForce RTX 2080, pci bus id: 0000:65:00.0, compute capability: 7.5\n"
     ]
    },
    {
     "name": "stdout",
     "output_type": "stream",
     "text": [
      "total run time : 0.65 seconds\n",
      "------------------------------\n",
      "312 / 363\n",
      "             x    y        t       date   lon        lat\n",
      "163  1600000.0  0.0  18326.0 2020-03-05  90.0  75.634561\n",
      "'_update_global_data': 0.001 seconds\n",
      "'local_data_select': 0.003 seconds\n",
      "number obs: 26\n",
      "'_max_dist_bool': 0.030 seconds\n",
      "'_from_dataframe': 0.033 seconds\n",
      "found GPU\n",
      "setting lengthscales to: [1. 1. 1.]\n",
      "'__init__': 0.152 seconds\n"
     ]
    },
    {
     "name": "stderr",
     "output_type": "stream",
     "text": [
      "2023-06-05 18:00:55.665135: I tensorflow/core/common_runtime/gpu/gpu_device.cc:1616] Created device /device:GPU:0 with 6261 MB memory:  -> device: 0, name: NVIDIA GeForce RTX 2080, pci bus id: 0000:17:00.0, compute capability: 7.5\n",
      "2023-06-05 18:00:55.666315: I tensorflow/core/common_runtime/gpu/gpu_device.cc:1616] Created device /device:GPU:1 with 4157 MB memory:  -> device: 1, name: NVIDIA GeForce RTX 2080, pci bus id: 0000:65:00.0, compute capability: 7.5\n"
     ]
    },
    {
     "name": "stdout",
     "output_type": "stream",
     "text": [
      "'_read_params_from_file': 0.080 seconds\n",
      "'set_parameters': 0.006 seconds\n",
      "'load_params': 0.087 seconds\n",
      "'set_lengthscales_constraints': 0.006 seconds\n",
      "*** not optimising parameters\n",
      "'get_parameters': 0.004 seconds\n",
      "parameters:\n",
      "lengthscales: array([6.8959645 , 7.21508194, 1.016159  ]) \n",
      "kernel_variance: 0.009348551707432096\n",
      "likelihood_variance: 0.006000000000000003\n",
      "'predict': 0.048 seconds\n",
      "total run time : 0.70 seconds\n",
      "------------------------------\n",
      "313 / 363\n",
      "             x    y        t       date   lon        lat\n",
      "162  1400000.0  0.0  18326.0 2020-03-05  90.0  77.438605\n",
      "'_update_global_data': 0.001 seconds\n",
      "'local_data_select': 0.002 seconds\n",
      "number obs: 42\n",
      "'_max_dist_bool': 0.014 seconds\n",
      "'_from_dataframe': 0.015 seconds\n",
      "found GPU\n",
      "setting lengthscales to: [1. 1. 1.]\n",
      "'__init__': 0.172 seconds\n"
     ]
    },
    {
     "name": "stderr",
     "output_type": "stream",
     "text": [
      "2023-06-05 18:00:56.366146: I tensorflow/core/common_runtime/gpu/gpu_device.cc:1616] Created device /device:GPU:0 with 6261 MB memory:  -> device: 0, name: NVIDIA GeForce RTX 2080, pci bus id: 0000:17:00.0, compute capability: 7.5\n",
      "2023-06-05 18:00:56.367246: I tensorflow/core/common_runtime/gpu/gpu_device.cc:1616] Created device /device:GPU:1 with 4157 MB memory:  -> device: 1, name: NVIDIA GeForce RTX 2080, pci bus id: 0000:65:00.0, compute capability: 7.5\n"
     ]
    },
    {
     "name": "stdout",
     "output_type": "stream",
     "text": [
      "'_read_params_from_file': 0.078 seconds\n",
      "'set_parameters': 0.006 seconds\n",
      "'load_params': 0.086 seconds\n",
      "'set_lengthscales_constraints': 0.005 seconds\n",
      "*** not optimising parameters\n",
      "'get_parameters': 0.004 seconds\n",
      "parameters:\n",
      "lengthscales: array([8.05342554, 6.33464347, 1.02402763]) \n",
      "kernel_variance: 0.0065270996320376745\n",
      "likelihood_variance: 0.006000000000000003\n",
      "'predict': 0.047 seconds\n",
      "total run time : 0.68 seconds\n",
      "------------------------------\n",
      "314 / 363\n",
      "             x    y        t       date   lon        lat\n",
      "161  1200000.0  0.0  18326.0 2020-03-05  90.0  79.239286\n",
      "'_update_global_data': 0.001 seconds\n",
      "'local_data_select': 0.002 seconds\n",
      "number obs: 60\n",
      "'_max_dist_bool': 0.013 seconds\n",
      "'_from_dataframe': 0.015 seconds\n",
      "found GPU\n",
      "setting lengthscales to: [1. 1. 1.]\n",
      "'__init__': 0.169 seconds\n"
     ]
    },
    {
     "name": "stderr",
     "output_type": "stream",
     "text": [
      "2023-06-05 18:00:57.045938: I tensorflow/core/common_runtime/gpu/gpu_device.cc:1616] Created device /device:GPU:0 with 6261 MB memory:  -> device: 0, name: NVIDIA GeForce RTX 2080, pci bus id: 0000:17:00.0, compute capability: 7.5\n",
      "2023-06-05 18:00:57.047026: I tensorflow/core/common_runtime/gpu/gpu_device.cc:1616] Created device /device:GPU:1 with 4157 MB memory:  -> device: 1, name: NVIDIA GeForce RTX 2080, pci bus id: 0000:65:00.0, compute capability: 7.5\n"
     ]
    },
    {
     "name": "stdout",
     "output_type": "stream",
     "text": [
      "'_read_params_from_file': 0.078 seconds\n",
      "'set_parameters': 0.006 seconds\n",
      "'load_params': 0.085 seconds\n",
      "'set_lengthscales_constraints': 0.005 seconds\n",
      "*** not optimising parameters\n",
      "'get_parameters': 0.004 seconds\n",
      "parameters:\n",
      "lengthscales: array([6.48908045, 6.75258686, 1.0143123 ]) \n",
      "kernel_variance: 0.0034041112223229635\n",
      "likelihood_variance: 0.006000000000000003\n",
      "'predict': 0.048 seconds\n",
      "total run time : 0.67 seconds\n",
      "------------------------------\n",
      "315 / 363\n",
      "             x    y        t       date   lon        lat\n",
      "160  1000000.0  0.0  18326.0 2020-03-05  90.0  81.037096\n",
      "'_update_global_data': 0.001 seconds\n",
      "'local_data_select': 0.004 seconds\n",
      "number obs: 58\n",
      "'_max_dist_bool': 0.027 seconds\n",
      "'_from_dataframe': 0.030 seconds\n",
      "found GPU\n",
      "setting lengthscales to: [1. 1. 1.]\n",
      "'__init__': 0.164 seconds\n"
     ]
    },
    {
     "name": "stderr",
     "output_type": "stream",
     "text": [
      "2023-06-05 18:00:57.729801: I tensorflow/core/common_runtime/gpu/gpu_device.cc:1616] Created device /device:GPU:0 with 6261 MB memory:  -> device: 0, name: NVIDIA GeForce RTX 2080, pci bus id: 0000:17:00.0, compute capability: 7.5\n",
      "2023-06-05 18:00:57.730923: I tensorflow/core/common_runtime/gpu/gpu_device.cc:1616] Created device /device:GPU:1 with 4157 MB memory:  -> device: 1, name: NVIDIA GeForce RTX 2080, pci bus id: 0000:65:00.0, compute capability: 7.5\n"
     ]
    },
    {
     "name": "stdout",
     "output_type": "stream",
     "text": [
      "'_read_params_from_file': 0.080 seconds\n",
      "'set_parameters': 0.007 seconds\n",
      "'load_params': 0.087 seconds\n",
      "'set_lengthscales_constraints': 0.005 seconds\n",
      "*** not optimising parameters\n",
      "'get_parameters': 0.004 seconds\n",
      "parameters:\n",
      "lengthscales: array([4.65077224, 7.81998121, 1.00319396]) \n",
      "kernel_variance: 0.0013922715685092822\n",
      "likelihood_variance: 0.006000000000000003\n",
      "'predict': 0.048 seconds\n",
      "total run time : 0.70 seconds\n",
      "------------------------------\n",
      "316 / 363\n",
      "            x         y        t       date        lon        lat\n",
      "137  800000.0 -200000.0  18326.0 2020-03-05  75.963757  82.611609\n",
      "'_update_global_data': 0.001 seconds\n",
      "'local_data_select': 0.002 seconds\n",
      "number obs: 53\n",
      "'_max_dist_bool': 0.014 seconds\n",
      "'_from_dataframe': 0.015 seconds\n",
      "found GPU\n",
      "setting lengthscales to: [1. 1. 1.]\n",
      "'__init__': 0.143 seconds\n"
     ]
    },
    {
     "name": "stderr",
     "output_type": "stream",
     "text": [
      "2023-06-05 18:00:58.391226: I tensorflow/core/common_runtime/gpu/gpu_device.cc:1616] Created device /device:GPU:0 with 6261 MB memory:  -> device: 0, name: NVIDIA GeForce RTX 2080, pci bus id: 0000:17:00.0, compute capability: 7.5\n",
      "2023-06-05 18:00:58.392248: I tensorflow/core/common_runtime/gpu/gpu_device.cc:1616] Created device /device:GPU:1 with 4157 MB memory:  -> device: 1, name: NVIDIA GeForce RTX 2080, pci bus id: 0000:65:00.0, compute capability: 7.5\n"
     ]
    },
    {
     "name": "stdout",
     "output_type": "stream",
     "text": [
      "'_read_params_from_file': 0.079 seconds\n",
      "'set_parameters': 0.006 seconds\n",
      "'load_params': 0.086 seconds\n",
      "'set_lengthscales_constraints': 0.005 seconds\n",
      "*** not optimising parameters\n",
      "'get_parameters': 0.004 seconds\n",
      "parameters:\n",
      "lengthscales: array([5.11000195, 7.85698498, 0.99692998]) \n",
      "kernel_variance: 0.0011609484059106764\n",
      "likelihood_variance: 0.006000000000000003\n",
      "'predict': 0.046 seconds\n",
      "total run time : 0.65 seconds\n",
      "------------------------------\n",
      "317 / 363\n",
      "            x         y        t       date        lon        lat\n",
      "136  600000.0 -200000.0  18326.0 2020-03-05  71.565051  84.335111\n",
      "'_update_global_data': 0.001 seconds\n",
      "'local_data_select': 0.002 seconds\n",
      "number obs: 41\n",
      "'_max_dist_bool': 0.013 seconds\n",
      "'_from_dataframe': 0.015 seconds\n",
      "found GPU\n",
      "setting lengthscales to: [1. 1. 1.]\n"
     ]
    },
    {
     "name": "stderr",
     "output_type": "stream",
     "text": [
      "2023-06-05 18:00:59.074612: I tensorflow/core/common_runtime/gpu/gpu_device.cc:1616] Created device /device:GPU:0 with 6261 MB memory:  -> device: 0, name: NVIDIA GeForce RTX 2080, pci bus id: 0000:17:00.0, compute capability: 7.5\n",
      "2023-06-05 18:00:59.075799: I tensorflow/core/common_runtime/gpu/gpu_device.cc:1616] Created device /device:GPU:1 with 4157 MB memory:  -> device: 1, name: NVIDIA GeForce RTX 2080, pci bus id: 0000:65:00.0, compute capability: 7.5\n"
     ]
    },
    {
     "name": "stdout",
     "output_type": "stream",
     "text": [
      "'__init__': 0.185 seconds\n",
      "'_read_params_from_file': 0.082 seconds\n",
      "'set_parameters': 0.006 seconds\n",
      "'load_params': 0.089 seconds\n",
      "'set_lengthscales_constraints': 0.005 seconds\n",
      "*** not optimising parameters\n",
      "'get_parameters': 0.004 seconds\n",
      "parameters:\n",
      "lengthscales: array([5.70579084, 9.47006542, 0.99207888]) \n",
      "kernel_variance: 0.001257378318732855\n",
      "likelihood_variance: 0.006000000000000003\n",
      "'predict': 0.048 seconds\n",
      "total run time : 0.70 seconds\n",
      "------------------------------\n",
      "318 / 363\n",
      "            x         y        t       date        lon      lat\n",
      "135  400000.0 -200000.0  18326.0 2020-03-05  63.434949  85.9952\n",
      "'_update_global_data': 0.001 seconds\n",
      "'local_data_select': 0.002 seconds\n",
      "number obs: 57\n",
      "'_max_dist_bool': 0.013 seconds\n",
      "'_from_dataframe': 0.015 seconds\n",
      "found GPU\n",
      "setting lengthscales to: [1. 1. 1.]\n",
      "'__init__': 0.135 seconds\n"
     ]
    },
    {
     "name": "stderr",
     "output_type": "stream",
     "text": [
      "2023-06-05 18:00:59.740677: I tensorflow/core/common_runtime/gpu/gpu_device.cc:1616] Created device /device:GPU:0 with 6261 MB memory:  -> device: 0, name: NVIDIA GeForce RTX 2080, pci bus id: 0000:17:00.0, compute capability: 7.5\n",
      "2023-06-05 18:00:59.741761: I tensorflow/core/common_runtime/gpu/gpu_device.cc:1616] Created device /device:GPU:1 with 4157 MB memory:  -> device: 1, name: NVIDIA GeForce RTX 2080, pci bus id: 0000:65:00.0, compute capability: 7.5\n"
     ]
    },
    {
     "name": "stdout",
     "output_type": "stream",
     "text": [
      "'_read_params_from_file': 0.079 seconds\n",
      "'set_parameters': 0.006 seconds\n",
      "'load_params': 0.086 seconds\n",
      "'set_lengthscales_constraints': 0.005 seconds\n",
      "*** not optimising parameters\n",
      "'get_parameters': 0.004 seconds\n",
      "parameters:\n",
      "lengthscales: array([ 7.62665494, 10.53619311,  0.98542607]) \n",
      "kernel_variance: 0.001599563896199564\n",
      "likelihood_variance: 0.006000000000000003\n",
      "'predict': 0.046 seconds\n",
      "total run time : 0.65 seconds\n",
      "------------------------------\n",
      "319 / 363\n",
      "            x         y        t       date   lon        lat\n",
      "134  200000.0 -200000.0  18326.0 2020-03-05  45.0  87.467477\n",
      "'_update_global_data': 0.001 seconds\n",
      "'local_data_select': 0.002 seconds\n",
      "number obs: 50\n",
      "'_max_dist_bool': 0.013 seconds\n",
      "'_from_dataframe': 0.015 seconds\n",
      "found GPU\n",
      "setting lengthscales to: [1. 1. 1.]\n",
      "'__init__': 0.173 seconds\n"
     ]
    },
    {
     "name": "stderr",
     "output_type": "stream",
     "text": [
      "2023-06-05 18:01:00.429711: I tensorflow/core/common_runtime/gpu/gpu_device.cc:1616] Created device /device:GPU:0 with 6261 MB memory:  -> device: 0, name: NVIDIA GeForce RTX 2080, pci bus id: 0000:17:00.0, compute capability: 7.5\n",
      "2023-06-05 18:01:00.430712: I tensorflow/core/common_runtime/gpu/gpu_device.cc:1616] Created device /device:GPU:1 with 4157 MB memory:  -> device: 1, name: NVIDIA GeForce RTX 2080, pci bus id: 0000:65:00.0, compute capability: 7.5\n"
     ]
    },
    {
     "name": "stdout",
     "output_type": "stream",
     "text": [
      "'_read_params_from_file': 0.078 seconds\n",
      "'set_parameters': 0.006 seconds\n",
      "'load_params': 0.085 seconds\n",
      "'set_lengthscales_constraints': 0.005 seconds\n",
      "*** not optimising parameters\n",
      "'get_parameters': 0.004 seconds\n",
      "parameters:\n",
      "lengthscales: array([10.07676564, 10.28742665,  0.9796877 ]) \n",
      "kernel_variance: 0.002907261427448214\n",
      "likelihood_variance: 0.006000000000000003\n",
      "'predict': 0.046 seconds\n",
      "total run time : 0.68 seconds\n",
      "------------------------------\n",
      "320 / 363\n",
      "       x         y        t       date  lon        lat\n",
      "110  0.0 -400000.0  18326.0 2020-03-05  0.0  86.418156\n",
      "'_update_global_data': 0.001 seconds\n",
      "'local_data_select': 0.002 seconds\n",
      "number obs: 40\n",
      "'_max_dist_bool': 0.013 seconds\n",
      "'_from_dataframe': 0.015 seconds\n",
      "found GPU\n",
      "setting lengthscales to: [1. 1. 1.]\n",
      "'__init__': 0.132 seconds\n"
     ]
    },
    {
     "name": "stderr",
     "output_type": "stream",
     "text": [
      "2023-06-05 18:01:01.072871: I tensorflow/core/common_runtime/gpu/gpu_device.cc:1616] Created device /device:GPU:0 with 6261 MB memory:  -> device: 0, name: NVIDIA GeForce RTX 2080, pci bus id: 0000:17:00.0, compute capability: 7.5\n",
      "2023-06-05 18:01:01.073931: I tensorflow/core/common_runtime/gpu/gpu_device.cc:1616] Created device /device:GPU:1 with 4157 MB memory:  -> device: 1, name: NVIDIA GeForce RTX 2080, pci bus id: 0000:65:00.0, compute capability: 7.5\n"
     ]
    },
    {
     "name": "stdout",
     "output_type": "stream",
     "text": [
      "'_read_params_from_file': 0.080 seconds\n",
      "'set_parameters': 0.006 seconds\n",
      "'load_params': 0.087 seconds\n",
      "'set_lengthscales_constraints': 0.005 seconds\n",
      "*** not optimising parameters\n",
      "'get_parameters': 0.008 seconds\n",
      "parameters:\n",
      "lengthscales: array([10.77532129,  8.18925017,  1.00475198]) \n",
      "kernel_variance: 0.0050236530119394445\n",
      "likelihood_variance: 0.006000000000000003\n",
      "'predict': 0.052 seconds\n",
      "SAVING RESULTS\n",
      "run_details\n",
      "preds\n",
      "lengthscales\n",
      "kernel_variance\n",
      "likelihood_variance\n",
      "total run time : 0.83 seconds\n",
      "------------------------------\n",
      "321 / 363\n",
      "            x         y        t       date        lon      lat\n",
      "109 -200000.0 -400000.0  18326.0 2020-03-05 -26.565051  85.9952\n",
      "'_update_global_data': 0.001 seconds\n",
      "'local_data_select': 0.002 seconds\n",
      "number obs: 41\n",
      "'_max_dist_bool': 0.013 seconds\n",
      "'_from_dataframe': 0.015 seconds\n",
      "found GPU\n",
      "setting lengthscales to: [1. 1. 1.]\n",
      "'__init__': 0.158 seconds\n",
      "'_read_params_from_file': 0.078 seconds\n",
      "'set_parameters': 0.006 seconds\n",
      "'load_params': 0.085 seconds\n",
      "'set_lengthscales_constraints': 0.005 seconds\n",
      "*** not optimising parameters\n",
      "'get_parameters': 0.004 seconds\n",
      "parameters:\n",
      "lengthscales: array([ 9.11988178, 10.08913769,  1.03312065]) \n",
      "kernel_variance: 0.008652029583706774\n",
      "likelihood_variance: 0.006000000000000003\n",
      "'predict': 0.046 seconds\n"
     ]
    },
    {
     "name": "stderr",
     "output_type": "stream",
     "text": [
      "2023-06-05 18:01:01.926780: I tensorflow/core/common_runtime/gpu/gpu_device.cc:1616] Created device /device:GPU:0 with 6261 MB memory:  -> device: 0, name: NVIDIA GeForce RTX 2080, pci bus id: 0000:17:00.0, compute capability: 7.5\n",
      "2023-06-05 18:01:01.927965: I tensorflow/core/common_runtime/gpu/gpu_device.cc:1616] Created device /device:GPU:1 with 4157 MB memory:  -> device: 1, name: NVIDIA GeForce RTX 2080, pci bus id: 0000:65:00.0, compute capability: 7.5\n"
     ]
    },
    {
     "name": "stdout",
     "output_type": "stream",
     "text": [
      "total run time : 0.67 seconds\n",
      "------------------------------\n",
      "322 / 363\n",
      "            x         y        t       date   lon        lat\n",
      "108 -400000.0 -400000.0  18326.0 2020-03-05 -45.0  84.933616\n",
      "'_update_global_data': 0.001 seconds\n",
      "'local_data_select': 0.002 seconds\n",
      "number obs: 41\n",
      "'_max_dist_bool': 0.013 seconds\n",
      "'_from_dataframe': 0.015 seconds\n",
      "found GPU\n",
      "setting lengthscales to: [1. 1. 1.]\n",
      "'__init__': 0.121 seconds\n"
     ]
    },
    {
     "name": "stderr",
     "output_type": "stream",
     "text": [
      "2023-06-05 18:01:02.567614: I tensorflow/core/common_runtime/gpu/gpu_device.cc:1616] Created device /device:GPU:0 with 6261 MB memory:  -> device: 0, name: NVIDIA GeForce RTX 2080, pci bus id: 0000:17:00.0, compute capability: 7.5\n",
      "2023-06-05 18:01:02.568059: I tensorflow/core/common_runtime/gpu/gpu_device.cc:1616] Created device /device:GPU:1 with 4157 MB memory:  -> device: 1, name: NVIDIA GeForce RTX 2080, pci bus id: 0000:65:00.0, compute capability: 7.5\n"
     ]
    },
    {
     "name": "stdout",
     "output_type": "stream",
     "text": [
      "'_read_params_from_file': 0.078 seconds\n",
      "'set_parameters': 0.006 seconds\n",
      "'load_params': 0.085 seconds\n",
      "'set_lengthscales_constraints': 0.005 seconds\n",
      "*** not optimising parameters\n",
      "'get_parameters': 0.004 seconds\n",
      "parameters:\n",
      "lengthscales: array([ 7.07897922, 11.19244643,  1.02472485]) \n",
      "kernel_variance: 0.011319022685731381\n",
      "likelihood_variance: 0.006000000000000003\n",
      "'predict': 0.046 seconds\n",
      "total run time : 0.62 seconds\n",
      "------------------------------\n",
      "323 / 363\n",
      "            x         y        t       date        lon        lat\n",
      "107 -600000.0 -400000.0  18326.0 2020-03-05 -56.309932  83.540179\n",
      "'_update_global_data': 0.001 seconds\n",
      "'local_data_select': 0.002 seconds\n",
      "number obs: 23\n",
      "'_max_dist_bool': 0.013 seconds\n",
      "'_from_dataframe': 0.015 seconds\n",
      "found GPU\n",
      "setting lengthscales to: [1. 1. 1.]\n",
      "'__init__': 0.163 seconds\n"
     ]
    },
    {
     "name": "stderr",
     "output_type": "stream",
     "text": [
      "2023-06-05 18:01:03.226493: I tensorflow/core/common_runtime/gpu/gpu_device.cc:1616] Created device /device:GPU:0 with 6261 MB memory:  -> device: 0, name: NVIDIA GeForce RTX 2080, pci bus id: 0000:17:00.0, compute capability: 7.5\n",
      "2023-06-05 18:01:03.227602: I tensorflow/core/common_runtime/gpu/gpu_device.cc:1616] Created device /device:GPU:1 with 4157 MB memory:  -> device: 1, name: NVIDIA GeForce RTX 2080, pci bus id: 0000:65:00.0, compute capability: 7.5\n"
     ]
    },
    {
     "name": "stdout",
     "output_type": "stream",
     "text": [
      "'_read_params_from_file': 0.080 seconds\n",
      "'set_parameters': 0.006 seconds\n",
      "'load_params': 0.088 seconds\n",
      "'set_lengthscales_constraints': 0.005 seconds\n",
      "*** not optimising parameters\n",
      "'get_parameters': 0.004 seconds\n",
      "parameters:\n",
      "lengthscales: array([ 7.05748265, 10.16915309,  1.00532683]) \n",
      "kernel_variance: 0.01296697772945488\n",
      "likelihood_variance: 0.006000000000000003\n",
      "'predict': 0.047 seconds\n",
      "total run time : 0.68 seconds\n",
      "------------------------------\n",
      "324 / 363\n",
      "            x         y        t       date        lon        lat\n",
      "106 -800000.0 -400000.0  18326.0 2020-03-05 -63.434949  81.985104\n",
      "'_update_global_data': 0.001 seconds\n",
      "'local_data_select': 0.002 seconds\n",
      "number obs: 8\n",
      "'_max_dist_bool': 0.014 seconds\n",
      "'_from_dataframe': 0.016 seconds\n",
      "found GPU\n",
      "setting lengthscales to: [1. 1. 1.]\n",
      "'__init__': 0.163 seconds\n"
     ]
    },
    {
     "name": "stderr",
     "output_type": "stream",
     "text": [
      "2023-06-05 18:01:03.911351: I tensorflow/core/common_runtime/gpu/gpu_device.cc:1616] Created device /device:GPU:0 with 6261 MB memory:  -> device: 0, name: NVIDIA GeForce RTX 2080, pci bus id: 0000:17:00.0, compute capability: 7.5\n",
      "2023-06-05 18:01:03.912170: I tensorflow/core/common_runtime/gpu/gpu_device.cc:1616] Created device /device:GPU:1 with 4157 MB memory:  -> device: 1, name: NVIDIA GeForce RTX 2080, pci bus id: 0000:65:00.0, compute capability: 7.5\n"
     ]
    },
    {
     "name": "stdout",
     "output_type": "stream",
     "text": [
      "'_read_params_from_file': 0.080 seconds\n",
      "'set_parameters': 0.006 seconds\n",
      "'load_params': 0.088 seconds\n",
      "'set_lengthscales_constraints': 0.005 seconds\n",
      "*** not optimising parameters\n",
      "'get_parameters': 0.004 seconds\n",
      "parameters:\n",
      "lengthscales: array([7.80264908, 7.54984465, 0.9997638 ]) \n",
      "kernel_variance: 0.013854996167803215\n",
      "likelihood_variance: 0.006000000000000003\n",
      "'predict': 0.059 seconds\n",
      "total run time : 0.68 seconds\n",
      "------------------------------\n",
      "325 / 363\n",
      "             x         y        t       date        lon        lat\n",
      "105 -1200000.0 -400000.0  18326.0 2020-03-05 -71.565051  78.655203\n",
      "'_update_global_data': 0.001 seconds\n",
      "'local_data_select': 0.002 seconds\n",
      "number obs: 10\n",
      "'_max_dist_bool': 0.013 seconds\n",
      "'_from_dataframe': 0.015 seconds\n",
      "found GPU\n",
      "setting lengthscales to: [1. 1. 1.]\n",
      "'__init__': 0.129 seconds\n"
     ]
    },
    {
     "name": "stderr",
     "output_type": "stream",
     "text": [
      "2023-06-05 18:01:04.560144: I tensorflow/core/common_runtime/gpu/gpu_device.cc:1616] Created device /device:GPU:0 with 6261 MB memory:  -> device: 0, name: NVIDIA GeForce RTX 2080, pci bus id: 0000:17:00.0, compute capability: 7.5\n",
      "2023-06-05 18:01:04.560565: I tensorflow/core/common_runtime/gpu/gpu_device.cc:1616] Created device /device:GPU:1 with 4157 MB memory:  -> device: 1, name: NVIDIA GeForce RTX 2080, pci bus id: 0000:65:00.0, compute capability: 7.5\n"
     ]
    },
    {
     "name": "stdout",
     "output_type": "stream",
     "text": [
      "'_read_params_from_file': 0.080 seconds\n",
      "'set_parameters': 0.006 seconds\n",
      "'load_params': 0.087 seconds\n",
      "'set_lengthscales_constraints': 0.005 seconds\n",
      "*** not optimising parameters\n",
      "'get_parameters': 0.005 seconds\n",
      "parameters:\n",
      "lengthscales: array([4.77806825, 7.63786111, 0.99861095]) \n",
      "kernel_variance: 0.01316304773510143\n",
      "likelihood_variance: 0.006000000000000003\n",
      "'predict': 0.048 seconds\n",
      "total run time : 0.65 seconds\n",
      "------------------------------\n",
      "326 / 363\n",
      "             x         y        t       date        lon        lat\n",
      "104 -1400000.0 -400000.0  18326.0 2020-03-05 -74.054604  76.933635\n",
      "'_update_global_data': 0.001 seconds\n",
      "'local_data_select': 0.002 seconds\n",
      "number obs: 25\n",
      "'_max_dist_bool': 0.013 seconds\n",
      "'_from_dataframe': 0.015 seconds\n",
      "found GPU\n",
      "setting lengthscales to: [1. 1. 1.]\n",
      "'__init__': 0.156 seconds\n"
     ]
    },
    {
     "name": "stderr",
     "output_type": "stream",
     "text": [
      "2023-06-05 18:01:05.227650: I tensorflow/core/common_runtime/gpu/gpu_device.cc:1616] Created device /device:GPU:0 with 6261 MB memory:  -> device: 0, name: NVIDIA GeForce RTX 2080, pci bus id: 0000:17:00.0, compute capability: 7.5\n",
      "2023-06-05 18:01:05.228806: I tensorflow/core/common_runtime/gpu/gpu_device.cc:1616] Created device /device:GPU:1 with 4157 MB memory:  -> device: 1, name: NVIDIA GeForce RTX 2080, pci bus id: 0000:65:00.0, compute capability: 7.5\n"
     ]
    },
    {
     "name": "stdout",
     "output_type": "stream",
     "text": [
      "'_read_params_from_file': 0.097 seconds\n",
      "'set_parameters': 0.006 seconds\n",
      "'load_params': 0.104 seconds\n",
      "'set_lengthscales_constraints': 0.005 seconds\n",
      "*** not optimising parameters\n",
      "'get_parameters': 0.004 seconds\n",
      "parameters:\n",
      "lengthscales: array([6.67090224, 9.88580776, 0.9951393 ]) \n",
      "kernel_variance: 0.009710790152839373\n",
      "likelihood_variance: 0.006000000000000003\n",
      "'predict': 0.048 seconds\n",
      "total run time : 0.69 seconds\n",
      "------------------------------\n",
      "327 / 363\n",
      "             x         y        t       date        lon        lat\n",
      "103 -1600000.0 -400000.0  18326.0 2020-03-05 -75.963757  75.189812\n",
      "'_update_global_data': 0.001 seconds\n",
      "'local_data_select': 0.002 seconds\n",
      "number obs: 37\n",
      "'_max_dist_bool': 0.014 seconds\n",
      "'_from_dataframe': 0.015 seconds\n",
      "found GPU\n",
      "setting lengthscales to: [1. 1. 1.]\n",
      "'__init__': 0.156 seconds\n"
     ]
    },
    {
     "name": "stderr",
     "output_type": "stream",
     "text": [
      "2023-06-05 18:01:05.918251: I tensorflow/core/common_runtime/gpu/gpu_device.cc:1616] Created device /device:GPU:0 with 6261 MB memory:  -> device: 0, name: NVIDIA GeForce RTX 2080, pci bus id: 0000:17:00.0, compute capability: 7.5\n",
      "2023-06-05 18:01:05.919352: I tensorflow/core/common_runtime/gpu/gpu_device.cc:1616] Created device /device:GPU:1 with 4157 MB memory:  -> device: 1, name: NVIDIA GeForce RTX 2080, pci bus id: 0000:65:00.0, compute capability: 7.5\n"
     ]
    },
    {
     "name": "stdout",
     "output_type": "stream",
     "text": [
      "'_read_params_from_file': 0.080 seconds\n",
      "'set_parameters': 0.006 seconds\n",
      "'load_params': 0.087 seconds\n",
      "'set_lengthscales_constraints': 0.005 seconds\n",
      "*** not optimising parameters\n",
      "'get_parameters': 0.004 seconds\n",
      "parameters:\n",
      "lengthscales: array([ 9.06153423, 10.73869428,  0.98949467]) \n",
      "kernel_variance: 0.006295269800819533\n",
      "likelihood_variance: 0.006000000000000003\n",
      "'predict': 0.063 seconds\n",
      "total run time : 0.68 seconds\n",
      "------------------------------\n",
      "328 / 363\n",
      "             x         y        t       date        lon        lat\n",
      "102 -1800000.0 -400000.0  18326.0 2020-03-05 -77.471192  73.429172\n",
      "'_update_global_data': 0.001 seconds\n",
      "'local_data_select': 0.002 seconds\n",
      "number obs: 28\n",
      "'_max_dist_bool': 0.013 seconds\n",
      "'_from_dataframe': 0.015 seconds\n",
      "found GPU\n",
      "setting lengthscales to: [1. 1. 1.]\n",
      "'__init__': 0.163 seconds\n"
     ]
    },
    {
     "name": "stderr",
     "output_type": "stream",
     "text": [
      "2023-06-05 18:01:06.613197: I tensorflow/core/common_runtime/gpu/gpu_device.cc:1616] Created device /device:GPU:0 with 6261 MB memory:  -> device: 0, name: NVIDIA GeForce RTX 2080, pci bus id: 0000:17:00.0, compute capability: 7.5\n",
      "2023-06-05 18:01:06.613870: I tensorflow/core/common_runtime/gpu/gpu_device.cc:1616] Created device /device:GPU:1 with 4157 MB memory:  -> device: 1, name: NVIDIA GeForce RTX 2080, pci bus id: 0000:65:00.0, compute capability: 7.5\n"
     ]
    },
    {
     "name": "stdout",
     "output_type": "stream",
     "text": [
      "'_read_params_from_file': 0.082 seconds\n",
      "'set_parameters': 0.006 seconds\n",
      "'load_params': 0.089 seconds\n",
      "'set_lengthscales_constraints': 0.005 seconds\n",
      "*** not optimising parameters\n",
      "'get_parameters': 0.009 seconds\n",
      "parameters:\n",
      "lengthscales: array([9.81238728, 9.49873397, 0.98767757]) \n",
      "kernel_variance: 0.005341478818850483\n",
      "likelihood_variance: 0.006000000000000003\n",
      "'predict': 0.055 seconds\n",
      "total run time : 0.69 seconds\n",
      "------------------------------\n",
      "329 / 363\n",
      "             x         y        t       date        lon        lat\n",
      "101 -2000000.0 -400000.0  18326.0 2020-03-05 -78.690068  71.654913\n",
      "'_update_global_data': 0.001 seconds\n",
      "'local_data_select': 0.002 seconds\n",
      "number obs: 9\n",
      "'_max_dist_bool': 0.013 seconds\n",
      "'_from_dataframe': 0.015 seconds\n",
      "found GPU\n",
      "setting lengthscales to: [1. 1. 1.]\n",
      "'__init__': 0.133 seconds\n"
     ]
    },
    {
     "name": "stderr",
     "output_type": "stream",
     "text": [
      "2023-06-05 18:01:07.283499: I tensorflow/core/common_runtime/gpu/gpu_device.cc:1616] Created device /device:GPU:0 with 6261 MB memory:  -> device: 0, name: NVIDIA GeForce RTX 2080, pci bus id: 0000:17:00.0, compute capability: 7.5\n",
      "2023-06-05 18:01:07.283905: I tensorflow/core/common_runtime/gpu/gpu_device.cc:1616] Created device /device:GPU:1 with 4157 MB memory:  -> device: 1, name: NVIDIA GeForce RTX 2080, pci bus id: 0000:65:00.0, compute capability: 7.5\n"
     ]
    },
    {
     "name": "stdout",
     "output_type": "stream",
     "text": [
      "'_read_params_from_file': 0.078 seconds\n",
      "'set_parameters': 0.006 seconds\n",
      "'load_params': 0.085 seconds\n",
      "'set_lengthscales_constraints': 0.005 seconds\n",
      "*** not optimising parameters\n",
      "'get_parameters': 0.004 seconds\n",
      "parameters:\n",
      "lengthscales: array([8.2674926 , 6.57315872, 0.99286852]) \n",
      "kernel_variance: 0.007231460342149289\n",
      "likelihood_variance: 0.006000000000000003\n",
      "'predict': 0.046 seconds\n",
      "total run time : 0.66 seconds\n",
      "------------------------------\n",
      "330 / 363\n",
      "             x         y        t       date        lon        lat\n",
      "100 -2400000.0 -400000.0  18326.0 2020-03-05 -80.537678  68.072392\n",
      "'_update_global_data': 0.001 seconds\n",
      "'local_data_select': 0.002 seconds\n",
      "number obs: 18\n",
      "'_max_dist_bool': 0.013 seconds\n",
      "'_from_dataframe': 0.015 seconds\n",
      "found GPU\n",
      "setting lengthscales to: [1. 1. 1.]\n",
      "'__init__': 0.135 seconds\n"
     ]
    },
    {
     "name": "stderr",
     "output_type": "stream",
     "text": [
      "2023-06-05 18:01:07.936039: I tensorflow/core/common_runtime/gpu/gpu_device.cc:1616] Created device /device:GPU:0 with 6261 MB memory:  -> device: 0, name: NVIDIA GeForce RTX 2080, pci bus id: 0000:17:00.0, compute capability: 7.5\n",
      "2023-06-05 18:01:07.937107: I tensorflow/core/common_runtime/gpu/gpu_device.cc:1616] Created device /device:GPU:1 with 4157 MB memory:  -> device: 1, name: NVIDIA GeForce RTX 2080, pci bus id: 0000:65:00.0, compute capability: 7.5\n"
     ]
    },
    {
     "name": "stdout",
     "output_type": "stream",
     "text": [
      "'_read_params_from_file': 0.078 seconds\n",
      "'set_parameters': 0.006 seconds\n",
      "'load_params': 0.085 seconds\n",
      "'set_lengthscales_constraints': 0.005 seconds\n",
      "*** not optimising parameters\n",
      "'get_parameters': 0.004 seconds\n",
      "parameters:\n",
      "lengthscales: array([3.15305688, 1.39039616, 0.99983414]) \n",
      "kernel_variance: 0.019619529941142664\n",
      "likelihood_variance: 0.006000000000000003\n",
      "'predict': 0.046 seconds\n",
      "SAVING RESULTS\n",
      "run_details\n",
      "preds\n",
      "lengthscales\n",
      "kernel_variance\n",
      "likelihood_variance\n",
      "total run time : 0.85 seconds\n",
      "------------------------------\n",
      "331 / 363\n",
      "            x         y        t       date        lon        lat\n",
      "99 -2600000.0 -400000.0  18326.0 2020-03-05 -81.253838  66.265873\n",
      "'_update_global_data': 0.001 seconds\n",
      "'local_data_select': 0.002 seconds\n",
      "number obs: 15\n",
      "'_max_dist_bool': 0.013 seconds\n",
      "'_from_dataframe': 0.015 seconds\n",
      "found GPU\n",
      "setting lengthscales to: [1. 1. 1.]\n",
      "'__init__': 0.165 seconds\n"
     ]
    },
    {
     "name": "stderr",
     "output_type": "stream",
     "text": [
      "2023-06-05 18:01:08.819015: I tensorflow/core/common_runtime/gpu/gpu_device.cc:1616] Created device /device:GPU:0 with 6261 MB memory:  -> device: 0, name: NVIDIA GeForce RTX 2080, pci bus id: 0000:17:00.0, compute capability: 7.5\n",
      "2023-06-05 18:01:08.819781: I tensorflow/core/common_runtime/gpu/gpu_device.cc:1616] Created device /device:GPU:1 with 4157 MB memory:  -> device: 1, name: NVIDIA GeForce RTX 2080, pci bus id: 0000:65:00.0, compute capability: 7.5\n"
     ]
    },
    {
     "name": "stdout",
     "output_type": "stream",
     "text": [
      "'_read_params_from_file': 0.081 seconds\n",
      "'set_parameters': 0.006 seconds\n",
      "'load_params': 0.088 seconds\n",
      "'set_lengthscales_constraints': 0.005 seconds\n",
      "*** not optimising parameters\n",
      "'get_parameters': 0.004 seconds\n",
      "parameters:\n",
      "lengthscales: array([1.53654114, 0.81202475, 1.0000126 ]) \n",
      "kernel_variance: 0.028372201576799524\n",
      "likelihood_variance: 0.006000000000000003\n",
      "'predict': 0.048 seconds\n",
      "total run time : 0.70 seconds\n",
      "------------------------------\n",
      "332 / 363\n",
      "            x         y        t       date        lon        lat\n",
      "98 -2800000.0 -400000.0  18326.0 2020-03-05 -81.869898  64.449675\n",
      "'_update_global_data': 0.001 seconds\n",
      "'local_data_select': 0.002 seconds\n",
      "number obs: 8\n",
      "'_max_dist_bool': 0.014 seconds\n",
      "'_from_dataframe': 0.016 seconds\n",
      "found GPU\n",
      "setting lengthscales to: [1. 1. 1.]\n",
      "'__init__': 0.158 seconds\n"
     ]
    },
    {
     "name": "stderr",
     "output_type": "stream",
     "text": [
      "2023-06-05 18:01:09.510122: I tensorflow/core/common_runtime/gpu/gpu_device.cc:1616] Created device /device:GPU:0 with 6261 MB memory:  -> device: 0, name: NVIDIA GeForce RTX 2080, pci bus id: 0000:17:00.0, compute capability: 7.5\n",
      "2023-06-05 18:01:09.511299: I tensorflow/core/common_runtime/gpu/gpu_device.cc:1616] Created device /device:GPU:1 with 4157 MB memory:  -> device: 1, name: NVIDIA GeForce RTX 2080, pci bus id: 0000:65:00.0, compute capability: 7.5\n"
     ]
    },
    {
     "name": "stdout",
     "output_type": "stream",
     "text": [
      "'_read_params_from_file': 0.080 seconds\n",
      "'set_parameters': 0.006 seconds\n",
      "'load_params': 0.087 seconds\n",
      "'set_lengthscales_constraints': 0.005 seconds\n",
      "*** not optimising parameters\n",
      "'get_parameters': 0.004 seconds\n",
      "parameters:\n",
      "lengthscales: array([0.7461183 , 0.63195007, 1.00001859]) \n",
      "kernel_variance: 0.03905878289436518\n",
      "likelihood_variance: 0.006000000000000003\n",
      "'predict': 0.046 seconds\n",
      "total run time : 0.67 seconds\n",
      "------------------------------\n",
      "333 / 363\n",
      "            x         y        t       date        lon        lat\n",
      "97  2000000.0 -600000.0  18326.0 2020-03-05  73.300756  71.214902\n",
      "'_update_global_data': 0.001 seconds\n",
      "'local_data_select': 0.002 seconds\n",
      "number obs: 11\n",
      "'_max_dist_bool': 0.013 seconds\n",
      "'_from_dataframe': 0.015 seconds\n",
      "found GPU\n",
      "setting lengthscales to: [1. 1. 1.]\n",
      "'__init__': 0.164 seconds\n"
     ]
    },
    {
     "name": "stderr",
     "output_type": "stream",
     "text": [
      "2023-06-05 18:01:10.190076: I tensorflow/core/common_runtime/gpu/gpu_device.cc:1616] Created device /device:GPU:0 with 6261 MB memory:  -> device: 0, name: NVIDIA GeForce RTX 2080, pci bus id: 0000:17:00.0, compute capability: 7.5\n",
      "2023-06-05 18:01:10.191187: I tensorflow/core/common_runtime/gpu/gpu_device.cc:1616] Created device /device:GPU:1 with 4157 MB memory:  -> device: 1, name: NVIDIA GeForce RTX 2080, pci bus id: 0000:65:00.0, compute capability: 7.5\n"
     ]
    },
    {
     "name": "stdout",
     "output_type": "stream",
     "text": [
      "'_read_params_from_file': 0.080 seconds\n",
      "'set_parameters': 0.006 seconds\n",
      "'load_params': 0.087 seconds\n",
      "'set_lengthscales_constraints': 0.005 seconds\n",
      "*** not optimising parameters\n",
      "'get_parameters': 0.004 seconds\n",
      "parameters:\n",
      "lengthscales: array([4.41416518, 1.58175365, 0.99997873]) \n",
      "kernel_variance: 0.056500513062073085\n",
      "likelihood_variance: 0.006000000000000003\n",
      "'predict': 0.088 seconds\n",
      "total run time : 0.71 seconds\n",
      "------------------------------\n",
      "334 / 363\n",
      "            x         y        t       date        lon        lat\n",
      "96  1800000.0 -600000.0  18326.0 2020-03-05  71.565051  72.944956\n",
      "'_update_global_data': 0.001 seconds\n",
      "'local_data_select': 0.002 seconds\n",
      "number obs: 34\n",
      "'_max_dist_bool': 0.013 seconds\n",
      "'_from_dataframe': 0.015 seconds\n",
      "found GPU\n",
      "setting lengthscales to: [1. 1. 1.]\n"
     ]
    },
    {
     "name": "stderr",
     "output_type": "stream",
     "text": [
      "2023-06-05 18:01:10.902671: I tensorflow/core/common_runtime/gpu/gpu_device.cc:1616] Created device /device:GPU:0 with 6261 MB memory:  -> device: 0, name: NVIDIA GeForce RTX 2080, pci bus id: 0000:17:00.0, compute capability: 7.5\n",
      "2023-06-05 18:01:10.903851: I tensorflow/core/common_runtime/gpu/gpu_device.cc:1616] Created device /device:GPU:1 with 4157 MB memory:  -> device: 1, name: NVIDIA GeForce RTX 2080, pci bus id: 0000:65:00.0, compute capability: 7.5\n"
     ]
    },
    {
     "name": "stdout",
     "output_type": "stream",
     "text": [
      "'__init__': 0.187 seconds\n",
      "'_read_params_from_file': 0.087 seconds\n",
      "'set_parameters': 0.006 seconds\n",
      "'load_params': 0.095 seconds\n",
      "'set_lengthscales_constraints': 0.005 seconds\n",
      "*** not optimising parameters\n",
      "'get_parameters': 0.004 seconds\n",
      "parameters:\n",
      "lengthscales: array([3.37953456, 1.92385787, 1.00077313]) \n",
      "kernel_variance: 0.044241464585451085\n",
      "likelihood_variance: 0.006000000000000003\n",
      "'predict': 0.049 seconds\n",
      "total run time : 0.71 seconds\n",
      "------------------------------\n",
      "335 / 363\n",
      "            x         y        t       date        lon        lat\n",
      "95  1600000.0 -600000.0  18326.0 2020-03-05  69.443955  74.651565\n",
      "'_update_global_data': 0.001 seconds\n",
      "'local_data_select': 0.002 seconds\n",
      "number obs: 38\n",
      "'_max_dist_bool': 0.014 seconds\n",
      "'_from_dataframe': 0.016 seconds\n",
      "found GPU\n",
      "setting lengthscales to: [1. 1. 1.]\n",
      "'__init__': 0.156 seconds\n"
     ]
    },
    {
     "name": "stderr",
     "output_type": "stream",
     "text": [
      "2023-06-05 18:01:11.609929: I tensorflow/core/common_runtime/gpu/gpu_device.cc:1616] Created device /device:GPU:0 with 6261 MB memory:  -> device: 0, name: NVIDIA GeForce RTX 2080, pci bus id: 0000:17:00.0, compute capability: 7.5\n",
      "2023-06-05 18:01:11.611053: I tensorflow/core/common_runtime/gpu/gpu_device.cc:1616] Created device /device:GPU:1 with 4157 MB memory:  -> device: 1, name: NVIDIA GeForce RTX 2080, pci bus id: 0000:65:00.0, compute capability: 7.5\n"
     ]
    },
    {
     "name": "stdout",
     "output_type": "stream",
     "text": [
      "'_read_params_from_file': 0.098 seconds\n",
      "'set_parameters': 0.006 seconds\n",
      "'load_params': 0.105 seconds\n",
      "'set_lengthscales_constraints': 0.005 seconds\n",
      "*** not optimising parameters\n",
      "'get_parameters': 0.004 seconds\n",
      "parameters:\n",
      "lengthscales: array([3.13997538, 2.58043685, 1.00327411]) \n",
      "kernel_variance: 0.030698130432437378\n",
      "likelihood_variance: 0.006000000000000003\n",
      "'predict': 0.047 seconds\n",
      "total run time : 0.70 seconds\n",
      "------------------------------\n",
      "336 / 363\n",
      "            x         y        t       date        lon        lat\n",
      "94  1400000.0 -600000.0  18326.0 2020-03-05  66.801409  76.328153\n",
      "'_update_global_data': 0.001 seconds\n",
      "'local_data_select': 0.002 seconds\n",
      "number obs: 39\n",
      "'_max_dist_bool': 0.014 seconds\n",
      "'_from_dataframe': 0.016 seconds\n",
      "found GPU\n",
      "setting lengthscales to: [1. 1. 1.]\n",
      "'__init__': 0.146 seconds\n"
     ]
    },
    {
     "name": "stderr",
     "output_type": "stream",
     "text": [
      "2023-06-05 18:01:12.300422: I tensorflow/core/common_runtime/gpu/gpu_device.cc:1616] Created device /device:GPU:0 with 6261 MB memory:  -> device: 0, name: NVIDIA GeForce RTX 2080, pci bus id: 0000:17:00.0, compute capability: 7.5\n",
      "2023-06-05 18:01:12.301421: I tensorflow/core/common_runtime/gpu/gpu_device.cc:1616] Created device /device:GPU:1 with 4157 MB memory:  -> device: 1, name: NVIDIA GeForce RTX 2080, pci bus id: 0000:65:00.0, compute capability: 7.5\n"
     ]
    },
    {
     "name": "stdout",
     "output_type": "stream",
     "text": [
      "'_read_params_from_file': 0.079 seconds\n",
      "'set_parameters': 0.006 seconds\n",
      "'load_params': 0.086 seconds\n",
      "'set_lengthscales_constraints': 0.005 seconds\n",
      "*** not optimising parameters\n",
      "'get_parameters': 0.004 seconds\n",
      "parameters:\n",
      "lengthscales: array([3.9806606 , 4.41362804, 1.00535434]) \n",
      "kernel_variance: 0.017371824504006993\n",
      "likelihood_variance: 0.006000000000000003\n",
      "'predict': 0.047 seconds\n",
      "total run time : 0.65 seconds\n",
      "------------------------------\n",
      "337 / 363\n",
      "            x         y        t       date        lon        lat\n",
      "93  1200000.0 -600000.0  18326.0 2020-03-05  63.434949  77.964362\n",
      "'_update_global_data': 0.001 seconds\n",
      "'local_data_select': 0.004 seconds\n",
      "number obs: 38\n",
      "'_max_dist_bool': 0.029 seconds\n",
      "'_from_dataframe': 0.032 seconds\n",
      "found GPU\n",
      "setting lengthscales to: [1. 1. 1.]\n",
      "'__init__': 0.130 seconds\n"
     ]
    },
    {
     "name": "stderr",
     "output_type": "stream",
     "text": [
      "2023-06-05 18:01:12.955453: I tensorflow/core/common_runtime/gpu/gpu_device.cc:1616] Created device /device:GPU:0 with 6261 MB memory:  -> device: 0, name: NVIDIA GeForce RTX 2080, pci bus id: 0000:17:00.0, compute capability: 7.5\n",
      "2023-06-05 18:01:12.956361: I tensorflow/core/common_runtime/gpu/gpu_device.cc:1616] Created device /device:GPU:1 with 4157 MB memory:  -> device: 1, name: NVIDIA GeForce RTX 2080, pci bus id: 0000:65:00.0, compute capability: 7.5\n"
     ]
    },
    {
     "name": "stdout",
     "output_type": "stream",
     "text": [
      "'_read_params_from_file': 0.079 seconds\n",
      "'set_parameters': 0.006 seconds\n",
      "'load_params': 0.086 seconds\n",
      "'set_lengthscales_constraints': 0.005 seconds\n",
      "*** not optimising parameters\n",
      "'get_parameters': 0.004 seconds\n",
      "parameters:\n",
      "lengthscales: array([4.8206906 , 6.74623768, 1.0032658 ]) \n",
      "kernel_variance: 0.007706355495652673\n",
      "likelihood_variance: 0.006000000000000003\n",
      "'predict': 0.048 seconds\n",
      "total run time : 0.65 seconds\n",
      "------------------------------\n",
      "338 / 363\n",
      "            x         y        t       date        lon       lat\n",
      "92  1000000.0 -600000.0  18326.0 2020-03-05  59.036243  79.54339\n",
      "'_update_global_data': 0.001 seconds\n",
      "'local_data_select': 0.005 seconds\n",
      "number obs: 56\n",
      "'_max_dist_bool': 0.029 seconds\n",
      "'_from_dataframe': 0.032 seconds\n",
      "found GPU\n",
      "setting lengthscales to: [1. 1. 1.]\n"
     ]
    },
    {
     "name": "stderr",
     "output_type": "stream",
     "text": [
      "2023-06-05 18:01:13.673895: I tensorflow/core/common_runtime/gpu/gpu_device.cc:1616] Created device /device:GPU:0 with 6261 MB memory:  -> device: 0, name: NVIDIA GeForce RTX 2080, pci bus id: 0000:17:00.0, compute capability: 7.5\n",
      "2023-06-05 18:01:13.674844: I tensorflow/core/common_runtime/gpu/gpu_device.cc:1616] Created device /device:GPU:1 with 4157 MB memory:  -> device: 1, name: NVIDIA GeForce RTX 2080, pci bus id: 0000:65:00.0, compute capability: 7.5\n"
     ]
    },
    {
     "name": "stdout",
     "output_type": "stream",
     "text": [
      "'__init__': 0.196 seconds\n",
      "'_read_params_from_file': 0.077 seconds\n",
      "'set_parameters': 0.006 seconds\n",
      "'load_params': 0.084 seconds\n",
      "'set_lengthscales_constraints': 0.005 seconds\n",
      "*** not optimising parameters\n",
      "'get_parameters': 0.004 seconds\n",
      "parameters:\n",
      "lengthscales: array([4.38791375, 6.85737739, 1.00010756]) \n",
      "kernel_variance: 0.004151764022841821\n",
      "likelihood_variance: 0.006000000000000003\n",
      "'predict': 0.046 seconds\n",
      "total run time : 0.73 seconds\n",
      "------------------------------\n",
      "339 / 363\n",
      "            x         y        t       date        lon      lat\n",
      "111  200000.0 -400000.0  18326.0 2020-03-05  26.565051  85.9952\n",
      "'_update_global_data': 0.001 seconds\n",
      "'local_data_select': 0.002 seconds\n",
      "number obs: 47\n",
      "'_max_dist_bool': 0.014 seconds\n",
      "'_from_dataframe': 0.016 seconds\n",
      "found GPU\n",
      "setting lengthscales to: [1. 1. 1.]\n",
      "'__init__': 0.137 seconds\n"
     ]
    },
    {
     "name": "stderr",
     "output_type": "stream",
     "text": [
      "2023-06-05 18:01:14.332726: I tensorflow/core/common_runtime/gpu/gpu_device.cc:1616] Created device /device:GPU:0 with 6261 MB memory:  -> device: 0, name: NVIDIA GeForce RTX 2080, pci bus id: 0000:17:00.0, compute capability: 7.5\n",
      "2023-06-05 18:01:14.333773: I tensorflow/core/common_runtime/gpu/gpu_device.cc:1616] Created device /device:GPU:1 with 4157 MB memory:  -> device: 1, name: NVIDIA GeForce RTX 2080, pci bus id: 0000:65:00.0, compute capability: 7.5\n"
     ]
    },
    {
     "name": "stdout",
     "output_type": "stream",
     "text": [
      "'_read_params_from_file': 0.079 seconds\n",
      "'set_parameters': 0.006 seconds\n",
      "'load_params': 0.086 seconds\n",
      "'set_lengthscales_constraints': 0.005 seconds\n",
      "*** not optimising parameters\n",
      "'get_parameters': 0.004 seconds\n",
      "parameters:\n",
      "lengthscales: array([10.0261036 ,  8.09229943,  0.98595765]) \n",
      "kernel_variance: 0.002703131566378422\n",
      "likelihood_variance: 0.006000000000000003\n",
      "'predict': 0.060 seconds\n",
      "total run time : 0.65 seconds\n",
      "------------------------------\n",
      "340 / 363\n",
      "           x         y        t       date   lon        lat\n",
      "90  600000.0 -600000.0  18326.0 2020-03-05  45.0  82.397073\n",
      "'_update_global_data': 0.001 seconds\n",
      "'local_data_select': 0.002 seconds\n",
      "number obs: 44\n",
      "'_max_dist_bool': 0.014 seconds\n",
      "'_from_dataframe': 0.015 seconds\n",
      "found GPU\n",
      "setting lengthscales to: [1. 1. 1.]\n",
      "'__init__': 0.165 seconds\n"
     ]
    },
    {
     "name": "stderr",
     "output_type": "stream",
     "text": [
      "2023-06-05 18:01:15.002485: I tensorflow/core/common_runtime/gpu/gpu_device.cc:1616] Created device /device:GPU:0 with 6261 MB memory:  -> device: 0, name: NVIDIA GeForce RTX 2080, pci bus id: 0000:17:00.0, compute capability: 7.5\n",
      "2023-06-05 18:01:15.003588: I tensorflow/core/common_runtime/gpu/gpu_device.cc:1616] Created device /device:GPU:1 with 4157 MB memory:  -> device: 1, name: NVIDIA GeForce RTX 2080, pci bus id: 0000:65:00.0, compute capability: 7.5\n"
     ]
    },
    {
     "name": "stdout",
     "output_type": "stream",
     "text": [
      "'_read_params_from_file': 0.084 seconds\n",
      "'set_parameters': 0.006 seconds\n",
      "'load_params': 0.092 seconds\n",
      "'set_lengthscales_constraints': 0.005 seconds\n",
      "*** not optimising parameters\n",
      "'get_parameters': 0.004 seconds\n",
      "parameters:\n",
      "lengthscales: array([3.93015157, 5.71233271, 0.99478089]) \n",
      "kernel_variance: 0.005052564699089565\n",
      "likelihood_variance: 0.006000000000000003\n",
      "'predict': 0.063 seconds\n",
      "SAVING RESULTS\n",
      "run_details\n",
      "preds\n",
      "lengthscales\n",
      "kernel_variance\n",
      "likelihood_variance\n",
      "total run time : 0.87 seconds\n",
      "------------------------------\n",
      "341 / 363\n",
      "            x         y        t       date   lon        lat\n",
      "112  400000.0 -400000.0  18326.0 2020-03-05  45.0  84.933616\n",
      "'_update_global_data': 0.001 seconds\n",
      "'local_data_select': 0.002 seconds\n",
      "number obs: 40\n",
      "'_max_dist_bool': 0.013 seconds\n",
      "'_from_dataframe': 0.015 seconds\n",
      "found GPU\n",
      "setting lengthscales to: [1. 1. 1.]\n",
      "'__init__': 0.159 seconds\n",
      "'_read_params_from_file': 0.078 seconds\n",
      "'set_parameters': 0.006 seconds\n",
      "'load_params': 0.085 seconds\n",
      "'set_lengthscales_constraints': 0.005 seconds\n",
      "*** not optimising parameters\n",
      "'get_parameters': 0.004 seconds\n",
      "parameters:\n",
      "lengthscales: array([7.19885568, 8.99116354, 0.98769751]) \n",
      "kernel_variance: 0.00224853864847184\n",
      "likelihood_variance: 0.006000000000000003\n",
      "'predict': 0.046 seconds\n"
     ]
    },
    {
     "name": "stderr",
     "output_type": "stream",
     "text": [
      "2023-06-05 18:01:15.878356: I tensorflow/core/common_runtime/gpu/gpu_device.cc:1616] Created device /device:GPU:0 with 6261 MB memory:  -> device: 0, name: NVIDIA GeForce RTX 2080, pci bus id: 0000:17:00.0, compute capability: 7.5\n",
      "2023-06-05 18:01:15.879548: I tensorflow/core/common_runtime/gpu/gpu_device.cc:1616] Created device /device:GPU:1 with 4157 MB memory:  -> device: 1, name: NVIDIA GeForce RTX 2080, pci bus id: 0000:65:00.0, compute capability: 7.5\n"
     ]
    },
    {
     "name": "stdout",
     "output_type": "stream",
     "text": [
      "total run time : 0.67 seconds\n",
      "------------------------------\n",
      "342 / 363\n",
      "            x         y        t       date        lon        lat\n",
      "114  800000.0 -400000.0  18326.0 2020-03-05  63.434949  81.985104\n",
      "'_update_global_data': 0.001 seconds\n",
      "'local_data_select': 0.002 seconds\n",
      "number obs: 43\n",
      "'_max_dist_bool': 0.014 seconds\n",
      "'_from_dataframe': 0.015 seconds\n",
      "found GPU\n",
      "setting lengthscales to: [1. 1. 1.]\n",
      "'__init__': 0.155 seconds\n"
     ]
    },
    {
     "name": "stderr",
     "output_type": "stream",
     "text": [
      "2023-06-05 18:01:16.546214: I tensorflow/core/common_runtime/gpu/gpu_device.cc:1616] Created device /device:GPU:0 with 6261 MB memory:  -> device: 0, name: NVIDIA GeForce RTX 2080, pci bus id: 0000:17:00.0, compute capability: 7.5\n",
      "2023-06-05 18:01:16.547408: I tensorflow/core/common_runtime/gpu/gpu_device.cc:1616] Created device /device:GPU:1 with 4157 MB memory:  -> device: 1, name: NVIDIA GeForce RTX 2080, pci bus id: 0000:65:00.0, compute capability: 7.5\n"
     ]
    },
    {
     "name": "stdout",
     "output_type": "stream",
     "text": [
      "'_read_params_from_file': 0.080 seconds\n",
      "'set_parameters': 0.006 seconds\n",
      "'load_params': 0.088 seconds\n",
      "'set_lengthscales_constraints': 0.005 seconds\n",
      "*** not optimising parameters\n",
      "'get_parameters': 0.008 seconds\n",
      "parameters:\n",
      "lengthscales: array([4.4109912 , 6.8182333 , 0.99499207]) \n",
      "kernel_variance: 0.0023198412040951895\n",
      "likelihood_variance: 0.006000000000000003\n",
      "'predict': 0.052 seconds\n",
      "total run time : 0.68 seconds\n",
      "------------------------------\n",
      "343 / 363\n",
      "       x         y        t       date  lon        lat\n",
      "133  0.0 -200000.0  18326.0 2020-03-05  0.0  88.209314\n",
      "'_update_global_data': 0.001 seconds\n",
      "'local_data_select': 0.002 seconds\n",
      "number obs: 43\n",
      "'_max_dist_bool': 0.014 seconds\n",
      "'_from_dataframe': 0.016 seconds\n",
      "found GPU\n",
      "setting lengthscales to: [1. 1. 1.]\n",
      "'__init__': 0.156 seconds\n"
     ]
    },
    {
     "name": "stderr",
     "output_type": "stream",
     "text": [
      "2023-06-05 18:01:17.226058: I tensorflow/core/common_runtime/gpu/gpu_device.cc:1616] Created device /device:GPU:0 with 6261 MB memory:  -> device: 0, name: NVIDIA GeForce RTX 2080, pci bus id: 0000:17:00.0, compute capability: 7.5\n",
      "2023-06-05 18:01:17.227022: I tensorflow/core/common_runtime/gpu/gpu_device.cc:1616] Created device /device:GPU:1 with 4157 MB memory:  -> device: 1, name: NVIDIA GeForce RTX 2080, pci bus id: 0000:65:00.0, compute capability: 7.5\n"
     ]
    },
    {
     "name": "stdout",
     "output_type": "stream",
     "text": [
      "'_read_params_from_file': 0.094 seconds\n",
      "'set_parameters': 0.006 seconds\n",
      "'load_params': 0.102 seconds\n",
      "'set_lengthscales_constraints': 0.005 seconds\n",
      "*** not optimising parameters\n",
      "'get_parameters': 0.004 seconds\n",
      "parameters:\n",
      "lengthscales: array([10.6127332 , 10.37012043,  0.99933441]) \n",
      "kernel_variance: 0.007058030104859514\n",
      "likelihood_variance: 0.006000000000000003\n",
      "'predict': 0.047 seconds\n",
      "total run time : 0.68 seconds\n",
      "------------------------------\n",
      "344 / 363\n",
      "            x         y        t       date   lon        lat\n",
      "132 -200000.0 -200000.0  18326.0 2020-03-05 -45.0  87.467477\n",
      "'_update_global_data': 0.001 seconds\n",
      "'local_data_select': 0.002 seconds\n",
      "number obs: 51\n",
      "'_max_dist_bool': 0.014 seconds\n",
      "'_from_dataframe': 0.015 seconds\n",
      "found GPU\n",
      "setting lengthscales to: [1. 1. 1.]\n",
      "'__init__': 0.154 seconds\n"
     ]
    },
    {
     "name": "stderr",
     "output_type": "stream",
     "text": [
      "2023-06-05 18:01:17.901935: I tensorflow/core/common_runtime/gpu/gpu_device.cc:1616] Created device /device:GPU:0 with 6261 MB memory:  -> device: 0, name: NVIDIA GeForce RTX 2080, pci bus id: 0000:17:00.0, compute capability: 7.5\n",
      "2023-06-05 18:01:17.902872: I tensorflow/core/common_runtime/gpu/gpu_device.cc:1616] Created device /device:GPU:1 with 4157 MB memory:  -> device: 1, name: NVIDIA GeForce RTX 2080, pci bus id: 0000:65:00.0, compute capability: 7.5\n"
     ]
    },
    {
     "name": "stdout",
     "output_type": "stream",
     "text": [
      "'_read_params_from_file': 0.081 seconds\n",
      "'set_parameters': 0.014 seconds\n",
      "'load_params': 0.095 seconds\n",
      "'set_lengthscales_constraints': 0.010 seconds\n",
      "*** not optimising parameters\n",
      "'get_parameters': 0.004 seconds\n",
      "parameters:\n",
      "lengthscales: array([ 8.82064787, 11.19771975,  1.02961407]) \n",
      "kernel_variance: 0.012913687118505573\n",
      "likelihood_variance: 0.006000000000000003\n",
      "'predict': 0.046 seconds\n",
      "total run time : 0.68 seconds\n",
      "------------------------------\n",
      "345 / 363\n",
      "            x         y        t       date        lon      lat\n",
      "131 -400000.0 -200000.0  18326.0 2020-03-05 -63.434949  85.9952\n",
      "'_update_global_data': 0.001 seconds\n",
      "'local_data_select': 0.002 seconds\n",
      "number obs: 56\n",
      "'_max_dist_bool': 0.014 seconds\n",
      "'_from_dataframe': 0.016 seconds\n",
      "found GPU\n",
      "setting lengthscales to: [1. 1. 1.]\n",
      "'__init__': 0.161 seconds\n"
     ]
    },
    {
     "name": "stderr",
     "output_type": "stream",
     "text": [
      "2023-06-05 18:01:18.586015: I tensorflow/core/common_runtime/gpu/gpu_device.cc:1616] Created device /device:GPU:0 with 6261 MB memory:  -> device: 0, name: NVIDIA GeForce RTX 2080, pci bus id: 0000:17:00.0, compute capability: 7.5\n",
      "2023-06-05 18:01:18.587312: I tensorflow/core/common_runtime/gpu/gpu_device.cc:1616] Created device /device:GPU:1 with 4157 MB memory:  -> device: 1, name: NVIDIA GeForce RTX 2080, pci bus id: 0000:65:00.0, compute capability: 7.5\n"
     ]
    },
    {
     "name": "stdout",
     "output_type": "stream",
     "text": [
      "'_read_params_from_file': 0.080 seconds\n",
      "'set_parameters': 0.006 seconds\n",
      "'load_params': 0.087 seconds\n",
      "'set_lengthscales_constraints': 0.005 seconds\n",
      "*** not optimising parameters\n",
      "'get_parameters': 0.004 seconds\n",
      "parameters:\n",
      "lengthscales: array([ 6.72209819, 11.418308  ,  1.02299726]) \n",
      "kernel_variance: 0.016393247810595896\n",
      "likelihood_variance: 0.006000000000000003\n",
      "'predict': 0.047 seconds\n",
      "total run time : 0.68 seconds\n",
      "------------------------------\n",
      "346 / 363\n",
      "            x         y        t       date        lon        lat\n",
      "130 -600000.0 -200000.0  18326.0 2020-03-05 -71.565051  84.335111\n",
      "'_update_global_data': 0.001 seconds\n",
      "'local_data_select': 0.002 seconds\n",
      "number obs: 44\n",
      "'_max_dist_bool': 0.014 seconds\n",
      "'_from_dataframe': 0.016 seconds\n",
      "found GPU\n",
      "setting lengthscales to: [1. 1. 1.]\n",
      "'__init__': 0.163 seconds\n"
     ]
    },
    {
     "name": "stderr",
     "output_type": "stream",
     "text": [
      "2023-06-05 18:01:19.262236: I tensorflow/core/common_runtime/gpu/gpu_device.cc:1616] Created device /device:GPU:0 with 6261 MB memory:  -> device: 0, name: NVIDIA GeForce RTX 2080, pci bus id: 0000:17:00.0, compute capability: 7.5\n",
      "2023-06-05 18:01:19.263441: I tensorflow/core/common_runtime/gpu/gpu_device.cc:1616] Created device /device:GPU:1 with 4157 MB memory:  -> device: 1, name: NVIDIA GeForce RTX 2080, pci bus id: 0000:65:00.0, compute capability: 7.5\n"
     ]
    },
    {
     "name": "stdout",
     "output_type": "stream",
     "text": [
      "'_read_params_from_file': 0.080 seconds\n",
      "'set_parameters': 0.006 seconds\n",
      "'load_params': 0.087 seconds\n",
      "'set_lengthscales_constraints': 0.005 seconds\n",
      "*** not optimising parameters\n",
      "'get_parameters': 0.004 seconds\n",
      "parameters:\n",
      "lengthscales: array([6.51413815, 9.9370598 , 1.00562265]) \n",
      "kernel_variance: 0.01777305122877491\n",
      "likelihood_variance: 0.006000000000000003\n",
      "'predict': 0.046 seconds\n",
      "total run time : 0.67 seconds\n",
      "------------------------------\n",
      "347 / 363\n",
      "            x         y        t       date        lon        lat\n",
      "129 -800000.0 -200000.0  18326.0 2020-03-05 -75.963757  82.611609\n",
      "'_update_global_data': 0.001 seconds\n",
      "'local_data_select': 0.002 seconds\n",
      "number obs: 22\n",
      "'_max_dist_bool': 0.014 seconds\n",
      "'_from_dataframe': 0.015 seconds\n",
      "found GPU\n",
      "setting lengthscales to: [1. 1. 1.]\n",
      "'__init__': 0.166 seconds\n"
     ]
    },
    {
     "name": "stderr",
     "output_type": "stream",
     "text": [
      "2023-06-05 18:01:19.938480: I tensorflow/core/common_runtime/gpu/gpu_device.cc:1616] Created device /device:GPU:0 with 6261 MB memory:  -> device: 0, name: NVIDIA GeForce RTX 2080, pci bus id: 0000:17:00.0, compute capability: 7.5\n",
      "2023-06-05 18:01:19.939778: I tensorflow/core/common_runtime/gpu/gpu_device.cc:1616] Created device /device:GPU:1 with 4157 MB memory:  -> device: 1, name: NVIDIA GeForce RTX 2080, pci bus id: 0000:65:00.0, compute capability: 7.5\n"
     ]
    },
    {
     "name": "stdout",
     "output_type": "stream",
     "text": [
      "'_read_params_from_file': 0.114 seconds\n",
      "'set_parameters': 0.007 seconds\n",
      "'load_params': 0.121 seconds\n",
      "'set_lengthscales_constraints': 0.006 seconds\n",
      "*** not optimising parameters\n",
      "'get_parameters': 0.004 seconds\n",
      "parameters:\n",
      "lengthscales: array([7.00645741, 7.24651534, 1.00066595]) \n",
      "kernel_variance: 0.018044536416698818\n",
      "likelihood_variance: 0.006000000000000003\n",
      "'predict': 0.075 seconds\n",
      "total run time : 0.74 seconds\n",
      "------------------------------\n",
      "348 / 363\n",
      "             x         y        t       date        lon        lat\n",
      "128 -1000000.0 -200000.0  18326.0 2020-03-05 -78.690068  80.859192\n",
      "'_update_global_data': 0.001 seconds\n",
      "'local_data_select': 0.002 seconds\n",
      "number obs: 10\n",
      "'_max_dist_bool': 0.014 seconds\n",
      "'_from_dataframe': 0.016 seconds\n",
      "found GPU\n",
      "setting lengthscales to: [1. 1. 1.]\n",
      "'__init__': 0.144 seconds\n"
     ]
    },
    {
     "name": "stderr",
     "output_type": "stream",
     "text": [
      "2023-06-05 18:01:20.665035: I tensorflow/core/common_runtime/gpu/gpu_device.cc:1616] Created device /device:GPU:0 with 6261 MB memory:  -> device: 0, name: NVIDIA GeForce RTX 2080, pci bus id: 0000:17:00.0, compute capability: 7.5\n",
      "2023-06-05 18:01:20.666127: I tensorflow/core/common_runtime/gpu/gpu_device.cc:1616] Created device /device:GPU:1 with 4157 MB memory:  -> device: 1, name: NVIDIA GeForce RTX 2080, pci bus id: 0000:65:00.0, compute capability: 7.5\n"
     ]
    },
    {
     "name": "stdout",
     "output_type": "stream",
     "text": [
      "'_read_params_from_file': 0.080 seconds\n",
      "'set_parameters': 0.006 seconds\n",
      "'load_params': 0.087 seconds\n",
      "'set_lengthscales_constraints': 0.006 seconds\n",
      "*** not optimising parameters\n",
      "'get_parameters': 0.004 seconds\n",
      "parameters:\n",
      "lengthscales: array([5.51367607, 5.7336249 , 0.9999766 ]) \n",
      "kernel_variance: 0.019661268475111442\n",
      "likelihood_variance: 0.006000000000000003\n",
      "'predict': 0.048 seconds\n",
      "total run time : 0.67 seconds\n",
      "------------------------------\n",
      "349 / 363\n",
      "             x         y        t       date        lon        lat\n",
      "127 -1200000.0 -200000.0  18326.0 2020-03-05 -80.537678  79.090372\n",
      "'_update_global_data': 0.001 seconds\n",
      "'local_data_select': 0.002 seconds\n",
      "number obs: 6\n",
      "'_max_dist_bool': 0.014 seconds\n",
      "'_from_dataframe': 0.016 seconds\n",
      "found GPU\n",
      "setting lengthscales to: [1. 1. 1.]\n",
      "'__init__': 0.137 seconds\n"
     ]
    },
    {
     "name": "stderr",
     "output_type": "stream",
     "text": [
      "2023-06-05 18:01:21.339314: I tensorflow/core/common_runtime/gpu/gpu_device.cc:1616] Created device /device:GPU:0 with 6261 MB memory:  -> device: 0, name: NVIDIA GeForce RTX 2080, pci bus id: 0000:17:00.0, compute capability: 7.5\n",
      "2023-06-05 18:01:21.339731: I tensorflow/core/common_runtime/gpu/gpu_device.cc:1616] Created device /device:GPU:1 with 4157 MB memory:  -> device: 1, name: NVIDIA GeForce RTX 2080, pci bus id: 0000:65:00.0, compute capability: 7.5\n"
     ]
    },
    {
     "name": "stdout",
     "output_type": "stream",
     "text": [
      "'_read_params_from_file': 0.080 seconds\n",
      "'set_parameters': 0.006 seconds\n",
      "'load_params': 0.087 seconds\n",
      "'set_lengthscales_constraints': 0.006 seconds\n",
      "*** not optimising parameters\n",
      "'get_parameters': 0.004 seconds\n",
      "parameters:\n",
      "lengthscales: array([4.33596517, 6.864812  , 0.99872034]) \n",
      "kernel_variance: 0.022321144710692874\n",
      "likelihood_variance: 0.006000000000000003\n",
      "'predict': 0.060 seconds\n",
      "total run time : 0.66 seconds\n",
      "------------------------------\n",
      "350 / 363\n",
      "             x         y        t       date        lon        lat\n",
      "126 -1400000.0 -200000.0  18326.0 2020-03-05 -81.869898  77.310512\n",
      "'_update_global_data': 0.001 seconds\n",
      "'local_data_select': 0.002 seconds\n",
      "number obs: 11\n",
      "'_max_dist_bool': 0.014 seconds\n",
      "'_from_dataframe': 0.015 seconds\n",
      "found GPU\n",
      "setting lengthscales to: [1. 1. 1.]\n",
      "'__init__': 0.165 seconds\n"
     ]
    },
    {
     "name": "stderr",
     "output_type": "stream",
     "text": [
      "2023-06-05 18:01:22.017718: I tensorflow/core/common_runtime/gpu/gpu_device.cc:1616] Created device /device:GPU:0 with 6261 MB memory:  -> device: 0, name: NVIDIA GeForce RTX 2080, pci bus id: 0000:17:00.0, compute capability: 7.5\n",
      "2023-06-05 18:01:22.018774: I tensorflow/core/common_runtime/gpu/gpu_device.cc:1616] Created device /device:GPU:1 with 4157 MB memory:  -> device: 1, name: NVIDIA GeForce RTX 2080, pci bus id: 0000:65:00.0, compute capability: 7.5\n"
     ]
    },
    {
     "name": "stdout",
     "output_type": "stream",
     "text": [
      "'_read_params_from_file': 0.079 seconds\n",
      "'set_parameters': 0.006 seconds\n",
      "'load_params': 0.086 seconds\n",
      "'set_lengthscales_constraints': 0.005 seconds\n",
      "*** not optimising parameters\n",
      "'get_parameters': 0.004 seconds\n",
      "parameters:\n",
      "lengthscales: array([5.50127643, 9.19772929, 0.99357551]) \n",
      "kernel_variance: 0.019579729800558103\n",
      "likelihood_variance: 0.006000000000000003\n",
      "'predict': 0.046 seconds\n",
      "SAVING RESULTS\n",
      "run_details\n",
      "preds\n",
      "lengthscales\n",
      "kernel_variance\n",
      "likelihood_variance\n",
      "total run time : 0.90 seconds\n",
      "------------------------------\n",
      "351 / 363\n",
      "             x         y        t       date        lon        lat\n",
      "125 -1600000.0 -200000.0  18326.0 2020-03-05 -82.874984  75.522123\n",
      "'_update_global_data': 0.001 seconds\n",
      "'local_data_select': 0.002 seconds\n",
      "number obs: 16\n",
      "'_max_dist_bool': 0.013 seconds\n",
      "'_from_dataframe': 0.015 seconds\n",
      "found GPU\n",
      "setting lengthscales to: [1. 1. 1.]\n",
      "'__init__': 0.159 seconds\n"
     ]
    },
    {
     "name": "stderr",
     "output_type": "stream",
     "text": [
      "2023-06-05 18:01:22.910565: I tensorflow/core/common_runtime/gpu/gpu_device.cc:1616] Created device /device:GPU:0 with 6261 MB memory:  -> device: 0, name: NVIDIA GeForce RTX 2080, pci bus id: 0000:17:00.0, compute capability: 7.5\n",
      "2023-06-05 18:01:22.911738: I tensorflow/core/common_runtime/gpu/gpu_device.cc:1616] Created device /device:GPU:1 with 4157 MB memory:  -> device: 1, name: NVIDIA GeForce RTX 2080, pci bus id: 0000:65:00.0, compute capability: 7.5\n"
     ]
    },
    {
     "name": "stdout",
     "output_type": "stream",
     "text": [
      "'_read_params_from_file': 0.080 seconds\n",
      "'set_parameters': 0.006 seconds\n",
      "'load_params': 0.087 seconds\n",
      "'set_lengthscales_constraints': 0.005 seconds\n",
      "*** not optimising parameters\n",
      "'get_parameters': 0.004 seconds\n",
      "parameters:\n",
      "lengthscales: array([7.45795821, 9.61415182, 0.97977025]) \n",
      "kernel_variance: 0.012037254543259983\n",
      "likelihood_variance: 0.006000000000000003\n",
      "'predict': 0.046 seconds\n",
      "total run time : 0.66 seconds\n",
      "------------------------------\n",
      "352 / 363\n",
      "             x         y        t       date        lon        lat\n",
      "124 -1800000.0 -200000.0  18326.0 2020-03-05 -83.659808  73.726401\n",
      "'_update_global_data': 0.001 seconds\n",
      "'local_data_select': 0.002 seconds\n",
      "number obs: 11\n",
      "'_max_dist_bool': 0.014 seconds\n",
      "'_from_dataframe': 0.015 seconds\n",
      "found GPU\n",
      "setting lengthscales to: [1. 1. 1.]\n",
      "'__init__': 0.169 seconds\n"
     ]
    },
    {
     "name": "stderr",
     "output_type": "stream",
     "text": [
      "2023-06-05 18:01:23.586125: I tensorflow/core/common_runtime/gpu/gpu_device.cc:1616] Created device /device:GPU:0 with 6261 MB memory:  -> device: 0, name: NVIDIA GeForce RTX 2080, pci bus id: 0000:17:00.0, compute capability: 7.5\n",
      "2023-06-05 18:01:23.587329: I tensorflow/core/common_runtime/gpu/gpu_device.cc:1616] Created device /device:GPU:1 with 4157 MB memory:  -> device: 1, name: NVIDIA GeForce RTX 2080, pci bus id: 0000:65:00.0, compute capability: 7.5\n"
     ]
    },
    {
     "name": "stdout",
     "output_type": "stream",
     "text": [
      "'_read_params_from_file': 0.095 seconds\n",
      "'set_parameters': 0.006 seconds\n",
      "'load_params': 0.102 seconds\n",
      "'set_lengthscales_constraints': 0.005 seconds\n",
      "*** not optimising parameters\n",
      "'get_parameters': 0.010 seconds\n",
      "parameters:\n",
      "lengthscales: array([8.70181365, 7.39704123, 0.97029322]) \n",
      "kernel_variance: 0.008048032730581745\n",
      "likelihood_variance: 0.006000000000000003\n",
      "'predict': 0.059 seconds\n",
      "total run time : 0.73 seconds\n",
      "------------------------------\n",
      "353 / 363\n",
      "             x         y        t       date        lon        lat\n",
      "123 -2000000.0 -200000.0  18326.0 2020-03-05 -84.289407  71.923866\n",
      "'_update_global_data': 0.001 seconds\n",
      "'local_data_select': 0.002 seconds\n",
      "number obs: 13\n",
      "'_max_dist_bool': 0.014 seconds\n",
      "'_from_dataframe': 0.016 seconds\n",
      "found GPU\n",
      "setting lengthscales to: [1. 1. 1.]\n",
      "'__init__': 0.157 seconds\n"
     ]
    },
    {
     "name": "stderr",
     "output_type": "stream",
     "text": [
      "2023-06-05 18:01:24.306152: I tensorflow/core/common_runtime/gpu/gpu_device.cc:1616] Created device /device:GPU:0 with 6261 MB memory:  -> device: 0, name: NVIDIA GeForce RTX 2080, pci bus id: 0000:17:00.0, compute capability: 7.5\n",
      "2023-06-05 18:01:24.307362: I tensorflow/core/common_runtime/gpu/gpu_device.cc:1616] Created device /device:GPU:1 with 4157 MB memory:  -> device: 1, name: NVIDIA GeForce RTX 2080, pci bus id: 0000:65:00.0, compute capability: 7.5\n"
     ]
    },
    {
     "name": "stdout",
     "output_type": "stream",
     "text": [
      "'_read_params_from_file': 0.097 seconds\n",
      "'set_parameters': 0.007 seconds\n",
      "'load_params': 0.104 seconds\n",
      "'set_lengthscales_constraints': 0.006 seconds\n",
      "*** not optimising parameters\n",
      "'get_parameters': 0.004 seconds\n",
      "parameters:\n",
      "lengthscales: array([7.98927359, 4.26788582, 0.98250704]) \n",
      "kernel_variance: 0.00955523595855808\n",
      "likelihood_variance: 0.006000000000000003\n",
      "'predict': 0.047 seconds\n",
      "total run time : 0.69 seconds\n",
      "------------------------------\n",
      "354 / 363\n",
      "             x         y        t       date        lon        lat\n",
      "122 -2200000.0 -200000.0  18326.0 2020-03-05 -84.805571  70.114661\n",
      "'_update_global_data': 0.001 seconds\n",
      "'local_data_select': 0.002 seconds\n",
      "number obs: 11\n",
      "'_max_dist_bool': 0.014 seconds\n",
      "'_from_dataframe': 0.016 seconds\n",
      "found GPU\n",
      "setting lengthscales to: [1. 1. 1.]\n",
      "'__init__': 0.164 seconds\n"
     ]
    },
    {
     "name": "stderr",
     "output_type": "stream",
     "text": [
      "2023-06-05 18:01:25.006265: I tensorflow/core/common_runtime/gpu/gpu_device.cc:1616] Created device /device:GPU:0 with 6261 MB memory:  -> device: 0, name: NVIDIA GeForce RTX 2080, pci bus id: 0000:17:00.0, compute capability: 7.5\n",
      "2023-06-05 18:01:25.007364: I tensorflow/core/common_runtime/gpu/gpu_device.cc:1616] Created device /device:GPU:1 with 4157 MB memory:  -> device: 1, name: NVIDIA GeForce RTX 2080, pci bus id: 0000:65:00.0, compute capability: 7.5\n"
     ]
    },
    {
     "name": "stdout",
     "output_type": "stream",
     "text": [
      "'_read_params_from_file': 0.080 seconds\n",
      "'set_parameters': 0.006 seconds\n",
      "'load_params': 0.087 seconds\n",
      "'set_lengthscales_constraints': 0.005 seconds\n",
      "*** not optimising parameters\n",
      "'get_parameters': 0.004 seconds\n",
      "parameters:\n",
      "lengthscales: array([6.24698085, 2.19227423, 0.99633458]) \n",
      "kernel_variance: 0.012147097850523888\n",
      "likelihood_variance: 0.006000000000000003\n",
      "'predict': 0.047 seconds\n",
      "total run time : 0.69 seconds\n",
      "------------------------------\n",
      "355 / 363\n",
      "             x         y        t       date        lon        lat\n",
      "121 -2400000.0 -200000.0  18326.0 2020-03-05 -85.236358  68.298699\n",
      "'_update_global_data': 0.001 seconds\n",
      "'local_data_select': 0.002 seconds\n",
      "number obs: 10\n",
      "'_max_dist_bool': 0.014 seconds\n",
      "'_from_dataframe': 0.016 seconds\n",
      "found GPU\n",
      "setting lengthscales to: [1. 1. 1.]\n",
      "'__init__': 0.150 seconds\n"
     ]
    },
    {
     "name": "stderr",
     "output_type": "stream",
     "text": [
      "2023-06-05 18:01:25.681895: I tensorflow/core/common_runtime/gpu/gpu_device.cc:1616] Created device /device:GPU:0 with 6261 MB memory:  -> device: 0, name: NVIDIA GeForce RTX 2080, pci bus id: 0000:17:00.0, compute capability: 7.5\n",
      "2023-06-05 18:01:25.683005: I tensorflow/core/common_runtime/gpu/gpu_device.cc:1616] Created device /device:GPU:1 with 4157 MB memory:  -> device: 1, name: NVIDIA GeForce RTX 2080, pci bus id: 0000:65:00.0, compute capability: 7.5\n"
     ]
    },
    {
     "name": "stdout",
     "output_type": "stream",
     "text": [
      "'_read_params_from_file': 0.079 seconds\n",
      "'set_parameters': 0.006 seconds\n",
      "'load_params': 0.086 seconds\n",
      "'set_lengthscales_constraints': 0.005 seconds\n",
      "*** not optimising parameters\n",
      "'get_parameters': 0.004 seconds\n",
      "parameters:\n",
      "lengthscales: array([4.56809529, 1.45780797, 0.9997712 ]) \n",
      "kernel_variance: 0.014965028560438813\n",
      "likelihood_variance: 0.006000000000000003\n",
      "'predict': 0.046 seconds\n",
      "total run time : 0.66 seconds\n",
      "------------------------------\n",
      "356 / 363\n",
      "             x         y        t       date        lon       lat\n",
      "120 -2600000.0 -200000.0  18326.0 2020-03-05 -85.601295  66.47575\n",
      "'_update_global_data': 0.001 seconds\n",
      "'local_data_select': 0.002 seconds\n",
      "number obs: 4\n",
      "'_max_dist_bool': 0.013 seconds\n",
      "'_from_dataframe': 0.015 seconds\n",
      "found GPU\n",
      "setting lengthscales to: [1. 1. 1.]\n",
      "'__init__': 0.168 seconds\n"
     ]
    },
    {
     "name": "stderr",
     "output_type": "stream",
     "text": [
      "2023-06-05 18:01:26.353823: I tensorflow/core/common_runtime/gpu/gpu_device.cc:1616] Created device /device:GPU:0 with 6261 MB memory:  -> device: 0, name: NVIDIA GeForce RTX 2080, pci bus id: 0000:17:00.0, compute capability: 7.5\n",
      "2023-06-05 18:01:26.354922: I tensorflow/core/common_runtime/gpu/gpu_device.cc:1616] Created device /device:GPU:1 with 4157 MB memory:  -> device: 1, name: NVIDIA GeForce RTX 2080, pci bus id: 0000:65:00.0, compute capability: 7.5\n"
     ]
    },
    {
     "name": "stdout",
     "output_type": "stream",
     "text": [
      "'_read_params_from_file': 0.079 seconds\n",
      "'set_parameters': 0.013 seconds\n",
      "'load_params': 0.093 seconds\n",
      "'set_lengthscales_constraints': 0.010 seconds\n",
      "*** not optimising parameters\n",
      "'get_parameters': 0.007 seconds\n",
      "parameters:\n",
      "lengthscales: array([2.69512319, 1.10404784, 1.0000015 ]) \n",
      "kernel_variance: 0.020059155122922664\n",
      "likelihood_variance: 0.006000000000000003\n",
      "'predict': 0.082 seconds\n",
      "total run time : 0.73 seconds\n",
      "------------------------------\n",
      "357 / 363\n",
      "             x         y        t       date        lon        lat\n",
      "119  1800000.0 -400000.0  18326.0 2020-03-05  77.471192  73.429172\n",
      "'_update_global_data': 0.001 seconds\n",
      "'local_data_select': 0.002 seconds\n",
      "number obs: 23\n",
      "'_max_dist_bool': 0.014 seconds\n",
      "'_from_dataframe': 0.016 seconds\n",
      "found GPU\n",
      "setting lengthscales to: [1. 1. 1.]\n",
      "'__init__': 0.172 seconds\n"
     ]
    },
    {
     "name": "stderr",
     "output_type": "stream",
     "text": [
      "2023-06-05 18:01:27.090087: I tensorflow/core/common_runtime/gpu/gpu_device.cc:1616] Created device /device:GPU:0 with 6261 MB memory:  -> device: 0, name: NVIDIA GeForce RTX 2080, pci bus id: 0000:17:00.0, compute capability: 7.5\n",
      "2023-06-05 18:01:27.091249: I tensorflow/core/common_runtime/gpu/gpu_device.cc:1616] Created device /device:GPU:1 with 4157 MB memory:  -> device: 1, name: NVIDIA GeForce RTX 2080, pci bus id: 0000:65:00.0, compute capability: 7.5\n"
     ]
    },
    {
     "name": "stdout",
     "output_type": "stream",
     "text": [
      "'_read_params_from_file': 0.078 seconds\n",
      "'set_parameters': 0.006 seconds\n",
      "'load_params': 0.085 seconds\n",
      "'set_lengthscales_constraints': 0.005 seconds\n",
      "*** not optimising parameters\n",
      "'get_parameters': 0.004 seconds\n",
      "parameters:\n",
      "lengthscales: array([3.32473568, 3.56869098, 1.00406646]) \n",
      "kernel_variance: 0.03044452816130552\n",
      "likelihood_variance: 0.006000000000000003\n",
      "'predict': 0.047 seconds\n",
      "total run time : 0.67 seconds\n",
      "------------------------------\n",
      "358 / 363\n",
      "             x         y        t       date        lon        lat\n",
      "118  1600000.0 -400000.0  18326.0 2020-03-05  75.963757  75.189812\n",
      "'_update_global_data': 0.001 seconds\n",
      "'local_data_select': 0.002 seconds\n",
      "number obs: 46\n",
      "'_max_dist_bool': 0.014 seconds\n",
      "'_from_dataframe': 0.016 seconds\n",
      "found GPU\n",
      "setting lengthscales to: [1. 1. 1.]\n",
      "'__init__': 0.167 seconds\n"
     ]
    },
    {
     "name": "stderr",
     "output_type": "stream",
     "text": [
      "2023-06-05 18:01:27.761791: I tensorflow/core/common_runtime/gpu/gpu_device.cc:1616] Created device /device:GPU:0 with 6261 MB memory:  -> device: 0, name: NVIDIA GeForce RTX 2080, pci bus id: 0000:17:00.0, compute capability: 7.5\n",
      "2023-06-05 18:01:27.762663: I tensorflow/core/common_runtime/gpu/gpu_device.cc:1616] Created device /device:GPU:1 with 4157 MB memory:  -> device: 1, name: NVIDIA GeForce RTX 2080, pci bus id: 0000:65:00.0, compute capability: 7.5\n"
     ]
    },
    {
     "name": "stdout",
     "output_type": "stream",
     "text": [
      "'_read_params_from_file': 0.079 seconds\n",
      "'set_parameters': 0.007 seconds\n",
      "'load_params': 0.087 seconds\n",
      "'set_lengthscales_constraints': 0.005 seconds\n",
      "*** not optimising parameters\n",
      "'get_parameters': 0.004 seconds\n",
      "parameters:\n",
      "lengthscales: array([4.21003477, 4.1769743 , 1.01485138]) \n",
      "kernel_variance: 0.021707531483836796\n",
      "likelihood_variance: 0.006000000000000003\n",
      "'predict': 0.077 seconds\n",
      "total run time : 0.71 seconds\n",
      "------------------------------\n",
      "359 / 363\n",
      "             x         y        t       date        lon        lat\n",
      "117  1400000.0 -400000.0  18326.0 2020-03-05  74.054604  76.933635\n",
      "'_update_global_data': 0.001 seconds\n",
      "'local_data_select': 0.002 seconds\n",
      "number obs: 49\n",
      "'_max_dist_bool': 0.014 seconds\n",
      "'_from_dataframe': 0.016 seconds\n",
      "found GPU\n",
      "setting lengthscales to: [1. 1. 1.]\n",
      "'__init__': 0.173 seconds\n"
     ]
    },
    {
     "name": "stderr",
     "output_type": "stream",
     "text": [
      "2023-06-05 18:01:28.485758: I tensorflow/core/common_runtime/gpu/gpu_device.cc:1616] Created device /device:GPU:0 with 6261 MB memory:  -> device: 0, name: NVIDIA GeForce RTX 2080, pci bus id: 0000:17:00.0, compute capability: 7.5\n",
      "2023-06-05 18:01:28.486850: I tensorflow/core/common_runtime/gpu/gpu_device.cc:1616] Created device /device:GPU:1 with 4157 MB memory:  -> device: 1, name: NVIDIA GeForce RTX 2080, pci bus id: 0000:65:00.0, compute capability: 7.5\n"
     ]
    },
    {
     "name": "stdout",
     "output_type": "stream",
     "text": [
      "'_read_params_from_file': 0.080 seconds\n",
      "'set_parameters': 0.006 seconds\n",
      "'load_params': 0.088 seconds\n",
      "'set_lengthscales_constraints': 0.005 seconds\n",
      "*** not optimising parameters\n",
      "'get_parameters': 0.009 seconds\n",
      "parameters:\n",
      "lengthscales: array([5.62542185, 5.68818924, 1.02355082]) \n",
      "kernel_variance: 0.013110019296510922\n",
      "likelihood_variance: 0.006000000000000003\n",
      "'predict': 0.075 seconds\n",
      "total run time : 0.73 seconds\n",
      "------------------------------\n",
      "360 / 363\n",
      "             x         y        t       date        lon        lat\n",
      "116  1200000.0 -400000.0  18326.0 2020-03-05  71.565051  78.655203\n",
      "'_update_global_data': 0.001 seconds\n",
      "'local_data_select': 0.002 seconds\n",
      "number obs: 61\n",
      "'_max_dist_bool': 0.014 seconds\n",
      "'_from_dataframe': 0.016 seconds\n",
      "found GPU\n",
      "setting lengthscales to: [1. 1. 1.]\n",
      "'__init__': 0.172 seconds\n"
     ]
    },
    {
     "name": "stderr",
     "output_type": "stream",
     "text": [
      "2023-06-05 18:01:29.209838: I tensorflow/core/common_runtime/gpu/gpu_device.cc:1616] Created device /device:GPU:0 with 6261 MB memory:  -> device: 0, name: NVIDIA GeForce RTX 2080, pci bus id: 0000:17:00.0, compute capability: 7.5\n",
      "2023-06-05 18:01:29.210893: I tensorflow/core/common_runtime/gpu/gpu_device.cc:1616] Created device /device:GPU:1 with 4157 MB memory:  -> device: 1, name: NVIDIA GeForce RTX 2080, pci bus id: 0000:65:00.0, compute capability: 7.5\n"
     ]
    },
    {
     "name": "stdout",
     "output_type": "stream",
     "text": [
      "'_read_params_from_file': 0.079 seconds\n",
      "'set_parameters': 0.013 seconds\n",
      "'load_params': 0.093 seconds\n",
      "'set_lengthscales_constraints': 0.010 seconds\n",
      "*** not optimising parameters\n",
      "'get_parameters': 0.004 seconds\n",
      "parameters:\n",
      "lengthscales: array([6.03729709, 7.39129401, 1.0141108 ]) \n",
      "kernel_variance: 0.006093757193731245\n",
      "likelihood_variance: 0.006000000000000003\n",
      "'predict': 0.048 seconds\n",
      "SAVING RESULTS\n",
      "run_details\n",
      "preds\n",
      "lengthscales\n",
      "kernel_variance\n",
      "likelihood_variance\n",
      "total run time : 0.86 seconds\n",
      "------------------------------\n",
      "361 / 363\n",
      "             x         y        t       date        lon        lat\n",
      "115  1000000.0 -400000.0  18326.0 2020-03-05  68.198591  80.344951\n",
      "'_update_global_data': 0.001 seconds\n",
      "'local_data_select': 0.002 seconds\n",
      "number obs: 59\n",
      "'_max_dist_bool': 0.013 seconds\n",
      "'_from_dataframe': 0.015 seconds\n",
      "found GPU\n",
      "setting lengthscales to: [1. 1. 1.]\n",
      "'__init__': 0.167 seconds\n",
      "'_read_params_from_file': 0.078 seconds\n",
      "'set_parameters': 0.006 seconds\n",
      "'load_params': 0.085 seconds\n",
      "'set_lengthscales_constraints': 0.005 seconds\n",
      "*** not optimising parameters\n",
      "'get_parameters': 0.004 seconds\n",
      "parameters:\n",
      "lengthscales: array([5.10422262, 7.29266034, 1.00197444]) \n",
      "kernel_variance: 0.002768122209049778\n",
      "likelihood_variance: 0.006000000000000003\n",
      "'predict': 0.047 seconds\n"
     ]
    },
    {
     "name": "stderr",
     "output_type": "stream",
     "text": [
      "2023-06-05 18:01:30.070365: I tensorflow/core/common_runtime/gpu/gpu_device.cc:1616] Created device /device:GPU:0 with 6261 MB memory:  -> device: 0, name: NVIDIA GeForce RTX 2080, pci bus id: 0000:17:00.0, compute capability: 7.5\n",
      "2023-06-05 18:01:30.071561: I tensorflow/core/common_runtime/gpu/gpu_device.cc:1616] Created device /device:GPU:1 with 4157 MB memory:  -> device: 1, name: NVIDIA GeForce RTX 2080, pci bus id: 0000:65:00.0, compute capability: 7.5\n"
     ]
    },
    {
     "name": "stdout",
     "output_type": "stream",
     "text": [
      "total run time : 0.67 seconds\n",
      "------------------------------\n",
      "362 / 363\n",
      "            x         y        t       date        lon        lat\n",
      "113  600000.0 -400000.0  18326.0 2020-03-05  56.309932  83.540179\n",
      "'_update_global_data': 0.001 seconds\n",
      "'local_data_select': 0.005 seconds\n",
      "number obs: 33\n",
      "'_max_dist_bool': 0.028 seconds\n",
      "'_from_dataframe': 0.031 seconds\n",
      "found GPU\n",
      "setting lengthscales to: [1. 1. 1.]\n",
      "'__init__': 0.137 seconds\n"
     ]
    },
    {
     "name": "stderr",
     "output_type": "stream",
     "text": [
      "2023-06-05 18:01:30.733427: I tensorflow/core/common_runtime/gpu/gpu_device.cc:1616] Created device /device:GPU:0 with 6261 MB memory:  -> device: 0, name: NVIDIA GeForce RTX 2080, pci bus id: 0000:17:00.0, compute capability: 7.5\n",
      "2023-06-05 18:01:30.734615: I tensorflow/core/common_runtime/gpu/gpu_device.cc:1616] Created device /device:GPU:1 with 4157 MB memory:  -> device: 1, name: NVIDIA GeForce RTX 2080, pci bus id: 0000:65:00.0, compute capability: 7.5\n"
     ]
    },
    {
     "name": "stdout",
     "output_type": "stream",
     "text": [
      "'_read_params_from_file': 0.079 seconds\n",
      "'set_parameters': 0.006 seconds\n",
      "'load_params': 0.086 seconds\n",
      "'set_lengthscales_constraints': 0.005 seconds\n",
      "*** not optimising parameters\n",
      "'get_parameters': 0.004 seconds\n",
      "parameters:\n",
      "lengthscales: array([4.84967239, 8.12480156, 0.99011742]) \n",
      "kernel_variance: 0.002399581488755304\n",
      "likelihood_variance: 0.006000000000000003\n",
      "'predict': 0.047 seconds\n",
      "total run time : 0.66 seconds\n",
      "------------------------------\n",
      "363 / 363\n",
      "            x          y        t       date         lon       lat\n",
      "362 -200000.0  2600000.0  18326.0 2020-03-05 -175.601295  66.47575\n",
      "'_update_global_data': 0.001 seconds\n",
      "'local_data_select': 0.002 seconds\n",
      "number obs: 6\n",
      "'_max_dist_bool': 0.014 seconds\n",
      "'_from_dataframe': 0.016 seconds\n",
      "found GPU\n",
      "setting lengthscales to: [1. 1. 1.]\n",
      "'__init__': 0.171 seconds\n"
     ]
    },
    {
     "name": "stderr",
     "output_type": "stream",
     "text": [
      "2023-06-05 18:01:31.398402: I tensorflow/core/common_runtime/gpu/gpu_device.cc:1616] Created device /device:GPU:0 with 6261 MB memory:  -> device: 0, name: NVIDIA GeForce RTX 2080, pci bus id: 0000:17:00.0, compute capability: 7.5\n",
      "2023-06-05 18:01:31.399499: I tensorflow/core/common_runtime/gpu/gpu_device.cc:1616] Created device /device:GPU:1 with 4157 MB memory:  -> device: 1, name: NVIDIA GeForce RTX 2080, pci bus id: 0000:65:00.0, compute capability: 7.5\n"
     ]
    },
    {
     "name": "stdout",
     "output_type": "stream",
     "text": [
      "'_read_params_from_file': 0.086 seconds\n",
      "'set_parameters': 0.007 seconds\n",
      "'load_params': 0.093 seconds\n",
      "'set_lengthscales_constraints': 0.006 seconds\n",
      "*** not optimising parameters\n",
      "'get_parameters': 0.004 seconds\n",
      "parameters:\n",
      "lengthscales: array([5.71230327, 6.79157564, 1.00012475]) \n",
      "kernel_variance: 0.0006192574749181555\n",
      "likelihood_variance: 0.006000000000000003\n",
      "'predict': 0.049 seconds\n",
      "total run time : 0.70 seconds\n",
      "storing any remaining tables\n",
      "SAVING RESULTS\n",
      "run_details\n",
      "preds\n",
      "lengthscales\n",
      "kernel_variance\n",
      "likelihood_variance\n",
      "'run': 252.515 seconds\n"
     ]
    }
   ],
   "source": [
    "local_expert_config.model_config.load_params = {\"file\": out_file, \"table_suffix\": \"_SMOOTHED\"}\n",
    "locexp = LocalExpertOI(local_expert_config=local_expert_config)\n",
    "\n",
    "run_config.optimise = False\n",
    "run_config.predict = True\n",
    "run_config.table_suffix = \"_SMOOTHED\"\n",
    "\n",
    "locexp.run(**run_config.to_dict())"
   ]
  },
  {
   "cell_type": "code",
   "execution_count": null,
   "metadata": {},
   "outputs": [],
   "source": [
    "# Plot predictions"
   ]
  }
 ],
 "metadata": {
  "kernelspec": {
   "display_name": "Python 3.8.10 ('pyOI')",
   "language": "python",
   "name": "python3"
  },
  "language_info": {
   "codemirror_mode": {
    "name": "ipython",
    "version": 3
   },
   "file_extension": ".py",
   "mimetype": "text/x-python",
   "name": "python",
   "nbconvert_exporter": "python",
   "pygments_lexer": "ipython3",
   "version": "3.8.10"
  },
  "orig_nbformat": 4,
  "vscode": {
   "interpreter": {
    "hash": "c1e6bede33930b8fd2b93afa5a6c52d07a487ede6157e4a24ba506222895823f"
   }
  }
 },
 "nbformat": 4,
 "nbformat_minor": 2
}
