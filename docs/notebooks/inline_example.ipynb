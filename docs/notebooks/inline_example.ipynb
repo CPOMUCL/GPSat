{
 "cells": [
  {
   "cell_type": "markdown",
   "metadata": {
    "collapsed": false
   },
   "source": [
    "# Generating gridded predictions from ABC satellite data"
   ]
  },
  {
   "cell_type": "code",
   "execution_count": 1,
   "metadata": {
    "ExecuteTime": {
     "end_time": "2023-06-07T10:03:20.606697170Z",
     "start_time": "2023-06-07T10:03:20.520668853Z"
    },
    "collapsed": true
   },
   "outputs": [
    {
     "name": "stderr",
     "output_type": "stream",
     "text": [
      "2023-07-26 16:11:15.652481: I tensorflow/core/platform/cpu_feature_guard.cc:182] This TensorFlow binary is optimized to use available CPU instructions in performance-critical operations.\n",
      "To enable the following instructions: SSE4.1 SSE4.2, in other operations, rebuild TensorFlow with the appropriate compiler flags.\n"
     ]
    }
   ],
   "source": [
    "# simple inline example of OI\n",
    "# NOTE: there is no smoothing of hyper parameters\n",
    "\n",
    "import os\n",
    "import re\n",
    "\n",
    "import numpy as np\n",
    "import pandas as pd\n",
    "\n",
    "import matplotlib.pyplot as plt\n",
    "\n",
    "from GPSat import get_data_path, get_parent_path\n",
    "from GPSat.dataprepper import DataPrep\n",
    "from GPSat.utils import WGS84toEASE2_New, EASE2toWGS84_New, cprint, grid_2d_flatten, get_weighted_values\n",
    "from GPSat.local_experts import LocalExpertOI, get_results_from_h5file\n",
    "from GPSat.plot_utils import plot_pcolormesh, get_projection, plot_pcolormesh_from_results_data\n"
   ]
  },
  {
   "cell_type": "markdown",
   "metadata": {
    "collapsed": false
   },
   "source": [
    "read in raw data"
   ]
  },
  {
   "cell_type": "code",
   "execution_count": 2,
   "metadata": {
    "ExecuteTime": {
     "end_time": "2023-06-07T10:03:21.547949541Z",
     "start_time": "2023-06-07T10:03:20.541412667Z"
    },
    "collapsed": false
   },
   "outputs": [],
   "source": [
    "\n",
    "# read in all the *_RAW.csv files in data/example\n",
    "# - get files to read\n",
    "raw_files = [get_data_path(\"example\", i)\n",
    "             for i in os.listdir(get_data_path(\"example\")) if re.search(\"_RAW\\.csv$\", i)]\n",
    "\n",
    "# read in, add source col\n",
    "tmp = []\n",
    "for rw in raw_files:\n",
    "    source = re.sub(\"_RAW\\.csv$\", \"\", os.path.basename(rw))\n",
    "    _ = pd.read_csv(rw)\n",
    "    _['source'] = source\n",
    "    tmp.append(_)\n",
    "df = pd.concat(tmp)\n",
    "\n",
    "\n",
    "# convert lon, lat, datetime to x, y, t - to be used as the coordinate space\n",
    "# - x,y are in meters, t in days\n",
    "df['x'], df['y'] = WGS84toEASE2_New(lon=df['lon'], lat=df['lat'], lat_0=90, lon_0=0)\n",
    "df['t'] = df['datetime'].values.astype(\"datetime64[D]\").astype(float)\n"
   ]
  },
  {
   "cell_type": "markdown",
   "metadata": {
    "collapsed": false
   },
   "source": [
    "bin raw data"
   ]
  },
  {
   "cell_type": "code",
   "execution_count": 3,
   "metadata": {
    "ExecuteTime": {
     "end_time": "2023-06-07T10:03:23.360011422Z",
     "start_time": "2023-06-07T10:03:21.588554914Z"
    },
    "collapsed": false
   },
   "outputs": [
    {
     "name": "stdout",
     "output_type": "stream",
     "text": [
      "'bin_data_by': 1.889 seconds\n"
     ]
    }
   ],
   "source": [
    "# bin by date, source to a 50x50km grid\n",
    "# - returns a DataSet\n",
    "bin_ds = DataPrep.bin_data_by(df=df.loc[(df['z'] > -0.35) & (df['z'] < 0.65)],\n",
    "                              by_cols=['t', 'source'],\n",
    "                              val_col='z',\n",
    "                              x_col='x',\n",
    "                              y_col='y',\n",
    "                              grid_res=50_000,\n",
    "                              x_range=[-4500000.0, 4500000.0],\n",
    "                              y_range=[-4500000.0, 4500000.0])\n",
    "\n",
    "# convert bin data to DataFrame\n",
    "# - removing all the nans that would be added at grid locations away from data\n",
    "bin_df = bin_ds.to_dataframe().dropna().reset_index()\n"
   ]
  },
  {
   "cell_type": "markdown",
   "metadata": {
    "collapsed": false
   },
   "source": [
    "plot binned data"
   ]
  },
  {
   "cell_type": "code",
   "execution_count": 4,
   "metadata": {
    "ExecuteTime": {
     "end_time": "2023-06-07T10:03:23.786611915Z",
     "start_time": "2023-06-07T10:03:23.360297646Z"
    },
    "collapsed": false
   },
   "outputs": [
    {
     "ename": "AttributeError",
     "evalue": "'GeoAxes' object has no attribute '_autoscaleXon'",
     "output_type": "error",
     "traceback": [
      "\u001b[0;31m---------------------------------------------------------------------------\u001b[0m",
      "\u001b[0;31mAttributeError\u001b[0m                            Traceback (most recent call last)",
      "Cell \u001b[0;32mIn[4], line 7\u001b[0m\n\u001b[1;32m      4\u001b[0m fig \u001b[39m=\u001b[39m plt\u001b[39m.\u001b[39mfigure(figsize\u001b[39m=\u001b[39m(\u001b[39m12\u001b[39m, \u001b[39m12\u001b[39m))\n\u001b[1;32m      5\u001b[0m ax \u001b[39m=\u001b[39m fig\u001b[39m.\u001b[39madd_subplot(\u001b[39m1\u001b[39m, \u001b[39m1\u001b[39m, \u001b[39m1\u001b[39m, projection\u001b[39m=\u001b[39mget_projection(\u001b[39m'\u001b[39m\u001b[39mnorth\u001b[39m\u001b[39m'\u001b[39m))\n\u001b[0;32m----> 7\u001b[0m plot_pcolormesh(ax\u001b[39m=\u001b[39;49max,\n\u001b[1;32m      8\u001b[0m                 lon\u001b[39m=\u001b[39;49mbin_df[\u001b[39m'\u001b[39;49m\u001b[39mlon\u001b[39;49m\u001b[39m'\u001b[39;49m],\n\u001b[1;32m      9\u001b[0m                 lat\u001b[39m=\u001b[39;49mbin_df[\u001b[39m'\u001b[39;49m\u001b[39mlat\u001b[39;49m\u001b[39m'\u001b[39;49m],\n\u001b[1;32m     10\u001b[0m                 plot_data\u001b[39m=\u001b[39;49mbin_df[\u001b[39m'\u001b[39;49m\u001b[39mz\u001b[39;49m\u001b[39m'\u001b[39;49m],\n\u001b[1;32m     11\u001b[0m                 title\u001b[39m=\u001b[39;49m\u001b[39m\"\u001b[39;49m\u001b[39mexample: binned obs\u001b[39;49m\u001b[39m\"\u001b[39;49m,\n\u001b[1;32m     12\u001b[0m                 scatter\u001b[39m=\u001b[39;49m\u001b[39mTrue\u001b[39;49;00m,\n\u001b[1;32m     13\u001b[0m                 s\u001b[39m=\u001b[39;49m\u001b[39m20\u001b[39;49m,\n\u001b[1;32m     14\u001b[0m                 fig\u001b[39m=\u001b[39;49mfig,\n\u001b[1;32m     15\u001b[0m                 extent\u001b[39m=\u001b[39;49m[\u001b[39m-\u001b[39;49m\u001b[39m180\u001b[39;49m, \u001b[39m180\u001b[39;49m, \u001b[39m60\u001b[39;49m, \u001b[39m90\u001b[39;49m])\n\u001b[1;32m     17\u001b[0m plt\u001b[39m.\u001b[39mtight_layout()\n\u001b[1;32m     18\u001b[0m plt\u001b[39m.\u001b[39mshow()\n",
      "File \u001b[0;32m~/Dropbox/Mac/Documents/GPSat/GPSat/decorators.py:37\u001b[0m, in \u001b[0;36mtimer.<locals>.caller\u001b[0;34m(*args, **kwargs)\u001b[0m\n\u001b[1;32m     34\u001b[0m \u001b[39m@wraps\u001b[39m(func)\n\u001b[1;32m     35\u001b[0m \u001b[39mdef\u001b[39;00m \u001b[39mcaller\u001b[39m(\u001b[39m*\u001b[39margs, \u001b[39m*\u001b[39m\u001b[39m*\u001b[39mkwargs):\n\u001b[1;32m     36\u001b[0m     t0 \u001b[39m=\u001b[39m time\u001b[39m.\u001b[39mperf_counter()\n\u001b[0;32m---> 37\u001b[0m     result \u001b[39m=\u001b[39m func(\u001b[39m*\u001b[39;49margs, \u001b[39m*\u001b[39;49m\u001b[39m*\u001b[39;49mkwargs)\n\u001b[1;32m     38\u001b[0m     t1 \u001b[39m=\u001b[39m time\u001b[39m.\u001b[39mperf_counter()\n\u001b[1;32m     39\u001b[0m     \u001b[39m# TODO: could check kwargs for verbose and decide not print\u001b[39;00m\n",
      "File \u001b[0;32m~/Dropbox/Mac/Documents/GPSat/GPSat/plot_utils.py:98\u001b[0m, in \u001b[0;36mplot_pcolormesh\u001b[0;34m(ax, lon, lat, plot_data, fig, title, vmin, vmax, qvmin, qvmax, cmap, cbar_label, scatter, extent, ocean_only, **scatter_args)\u001b[0m\n\u001b[1;32m     96\u001b[0m \u001b[39melse\u001b[39;00m:\n\u001b[1;32m     97\u001b[0m     non_nan \u001b[39m=\u001b[39m \u001b[39m~\u001b[39mnp\u001b[39m.\u001b[39misnan(plot_data)\n\u001b[0;32m---> 98\u001b[0m     s \u001b[39m=\u001b[39m ax\u001b[39m.\u001b[39;49mscatter(lon[non_nan],\n\u001b[1;32m     99\u001b[0m                    lat[non_nan],\n\u001b[1;32m    100\u001b[0m                    c\u001b[39m=\u001b[39;49mplot_data[non_nan],\n\u001b[1;32m    101\u001b[0m                    cmap\u001b[39m=\u001b[39;49mcmap,\n\u001b[1;32m    102\u001b[0m                    vmin\u001b[39m=\u001b[39;49mvmin, vmax\u001b[39m=\u001b[39;49mvmax,\n\u001b[1;32m    103\u001b[0m                    transform\u001b[39m=\u001b[39;49mccrs\u001b[39m.\u001b[39;49mPlateCarree(),\n\u001b[1;32m    104\u001b[0m                    linewidth\u001b[39m=\u001b[39;49m\u001b[39m0\u001b[39;49m,\n\u001b[1;32m    105\u001b[0m                    rasterized\u001b[39m=\u001b[39;49m\u001b[39mTrue\u001b[39;49;00m,\n\u001b[1;32m    106\u001b[0m                    \u001b[39m*\u001b[39;49m\u001b[39m*\u001b[39;49mscatter_args)\n\u001b[1;32m    108\u001b[0m \u001b[39mif\u001b[39;00m fig \u001b[39mis\u001b[39;00m \u001b[39mnot\u001b[39;00m \u001b[39mNone\u001b[39;00m:\n\u001b[1;32m    109\u001b[0m     cbar \u001b[39m=\u001b[39m fig\u001b[39m.\u001b[39mcolorbar(s, ax\u001b[39m=\u001b[39max, orientation\u001b[39m=\u001b[39m\u001b[39m'\u001b[39m\u001b[39mhorizontal\u001b[39m\u001b[39m'\u001b[39m, pad\u001b[39m=\u001b[39m\u001b[39m0.03\u001b[39m, fraction\u001b[39m=\u001b[39m\u001b[39m0.03\u001b[39m)\n",
      "File \u001b[0;32m/opt/homebrew/Caskroom/miniforge/base/envs/gpsat2/lib/python3.8/site-packages/cartopy/mpl/geoaxes.py:318\u001b[0m, in \u001b[0;36m_add_transform.<locals>.wrapper\u001b[0;34m(self, *args, **kwargs)\u001b[0m\n\u001b[1;32m    313\u001b[0m     \u001b[39mraise\u001b[39;00m \u001b[39mValueError\u001b[39;00m(\u001b[39mf\u001b[39m\u001b[39m'\u001b[39m\u001b[39mInvalid transform: Spherical \u001b[39m\u001b[39m{\u001b[39;00mfunc\u001b[39m.\u001b[39m\u001b[39m__name__\u001b[39m\u001b[39m}\u001b[39;00m\u001b[39m \u001b[39m\u001b[39m'\u001b[39m\n\u001b[1;32m    314\u001b[0m                      \u001b[39m'\u001b[39m\u001b[39mis not supported - consider using \u001b[39m\u001b[39m'\u001b[39m\n\u001b[1;32m    315\u001b[0m                      \u001b[39m'\u001b[39m\u001b[39mPlateCarree/RotatedPole.\u001b[39m\u001b[39m'\u001b[39m)\n\u001b[1;32m    317\u001b[0m kwargs[\u001b[39m'\u001b[39m\u001b[39mtransform\u001b[39m\u001b[39m'\u001b[39m] \u001b[39m=\u001b[39m transform\n\u001b[0;32m--> 318\u001b[0m \u001b[39mreturn\u001b[39;00m func(\u001b[39mself\u001b[39;49m, \u001b[39m*\u001b[39;49margs, \u001b[39m*\u001b[39;49m\u001b[39m*\u001b[39;49mkwargs)\n",
      "File \u001b[0;32m/opt/homebrew/Caskroom/miniforge/base/envs/gpsat2/lib/python3.8/site-packages/cartopy/mpl/geoaxes.py:1753\u001b[0m, in \u001b[0;36mGeoAxes.scatter\u001b[0;34m(self, *args, **kwargs)\u001b[0m\n\u001b[1;32m   1747\u001b[0m     \u001b[39mraise\u001b[39;00m \u001b[39mValueError\u001b[39;00m(\u001b[39m'\u001b[39m\u001b[39mCartopy cannot currently do spherical \u001b[39m\u001b[39m'\u001b[39m\n\u001b[1;32m   1748\u001b[0m                      \u001b[39m'\u001b[39m\u001b[39mscatter. The source CRS cannot be a \u001b[39m\u001b[39m'\u001b[39m\n\u001b[1;32m   1749\u001b[0m                      \u001b[39m'\u001b[39m\u001b[39mgeodetic, consider using the cyllindrical form \u001b[39m\u001b[39m'\u001b[39m\n\u001b[1;32m   1750\u001b[0m                      \u001b[39m'\u001b[39m\u001b[39m(PlateCarree or RotatedPole).\u001b[39m\u001b[39m'\u001b[39m)\n\u001b[1;32m   1752\u001b[0m result \u001b[39m=\u001b[39m matplotlib\u001b[39m.\u001b[39maxes\u001b[39m.\u001b[39mAxes\u001b[39m.\u001b[39mscatter(\u001b[39mself\u001b[39m, \u001b[39m*\u001b[39margs, \u001b[39m*\u001b[39m\u001b[39m*\u001b[39mkwargs)\n\u001b[0;32m-> 1753\u001b[0m \u001b[39mself\u001b[39;49m\u001b[39m.\u001b[39;49mautoscale_view()\n\u001b[1;32m   1754\u001b[0m \u001b[39mreturn\u001b[39;00m result\n",
      "File \u001b[0;32m/opt/homebrew/Caskroom/miniforge/base/envs/gpsat2/lib/python3.8/site-packages/cartopy/mpl/geoaxes.py:946\u001b[0m, in \u001b[0;36mGeoAxes.autoscale_view\u001b[0;34m(self, tight, scalex, scaley)\u001b[0m\n\u001b[1;32m    943\u001b[0m matplotlib\u001b[39m.\u001b[39maxes\u001b[39m.\u001b[39mAxes\u001b[39m.\u001b[39mautoscale_view(\u001b[39mself\u001b[39m, tight\u001b[39m=\u001b[39mtight,\n\u001b[1;32m    944\u001b[0m                                     scalex\u001b[39m=\u001b[39mscalex, scaley\u001b[39m=\u001b[39mscaley)\n\u001b[1;32m    945\u001b[0m \u001b[39m# Limit the resulting bounds to valid area.\u001b[39;00m\n\u001b[0;32m--> 946\u001b[0m \u001b[39mif\u001b[39;00m scalex \u001b[39mand\u001b[39;00m \u001b[39mself\u001b[39;49m\u001b[39m.\u001b[39;49m_autoscaleXon:\n\u001b[1;32m    947\u001b[0m     bounds \u001b[39m=\u001b[39m \u001b[39mself\u001b[39m\u001b[39m.\u001b[39mget_xbound()\n\u001b[1;32m    948\u001b[0m     \u001b[39mself\u001b[39m\u001b[39m.\u001b[39mset_xbound(\u001b[39mmax\u001b[39m(bounds[\u001b[39m0\u001b[39m], \u001b[39mself\u001b[39m\u001b[39m.\u001b[39mprojection\u001b[39m.\u001b[39mx_limits[\u001b[39m0\u001b[39m]),\n\u001b[1;32m    949\u001b[0m                     \u001b[39mmin\u001b[39m(bounds[\u001b[39m1\u001b[39m], \u001b[39mself\u001b[39m\u001b[39m.\u001b[39mprojection\u001b[39m.\u001b[39mx_limits[\u001b[39m1\u001b[39m]))\n",
      "\u001b[0;31mAttributeError\u001b[0m: 'GeoAxes' object has no attribute '_autoscaleXon'"
     ]
    },
    {
     "name": "stdout",
     "output_type": "stream",
     "text": [
      "Error in callback <function _draw_all_if_interactive at 0x7fb5a0193c10> (for post_execute):\n"
     ]
    },
    {
     "ename": "AttributeError",
     "evalue": "'GeoAxes' object has no attribute '_autoscaleXon'",
     "output_type": "error",
     "traceback": [
      "\u001b[0;31m---------------------------------------------------------------------------\u001b[0m",
      "\u001b[0;31mAttributeError\u001b[0m                            Traceback (most recent call last)",
      "File \u001b[0;32m/opt/homebrew/Caskroom/miniforge/base/envs/gpsat2/lib/python3.8/site-packages/matplotlib/pyplot.py:120\u001b[0m, in \u001b[0;36m_draw_all_if_interactive\u001b[0;34m()\u001b[0m\n\u001b[1;32m    118\u001b[0m \u001b[39mdef\u001b[39;00m \u001b[39m_draw_all_if_interactive\u001b[39m():\n\u001b[1;32m    119\u001b[0m     \u001b[39mif\u001b[39;00m matplotlib\u001b[39m.\u001b[39mis_interactive():\n\u001b[0;32m--> 120\u001b[0m         draw_all()\n",
      "File \u001b[0;32m/opt/homebrew/Caskroom/miniforge/base/envs/gpsat2/lib/python3.8/site-packages/matplotlib/_pylab_helpers.py:132\u001b[0m, in \u001b[0;36mGcf.draw_all\u001b[0;34m(cls, force)\u001b[0m\n\u001b[1;32m    130\u001b[0m \u001b[39mfor\u001b[39;00m manager \u001b[39min\u001b[39;00m \u001b[39mcls\u001b[39m\u001b[39m.\u001b[39mget_all_fig_managers():\n\u001b[1;32m    131\u001b[0m     \u001b[39mif\u001b[39;00m force \u001b[39mor\u001b[39;00m manager\u001b[39m.\u001b[39mcanvas\u001b[39m.\u001b[39mfigure\u001b[39m.\u001b[39mstale:\n\u001b[0;32m--> 132\u001b[0m         manager\u001b[39m.\u001b[39;49mcanvas\u001b[39m.\u001b[39;49mdraw_idle()\n",
      "File \u001b[0;32m/opt/homebrew/Caskroom/miniforge/base/envs/gpsat2/lib/python3.8/site-packages/matplotlib/backend_bases.py:2082\u001b[0m, in \u001b[0;36mFigureCanvasBase.draw_idle\u001b[0;34m(self, *args, **kwargs)\u001b[0m\n\u001b[1;32m   2080\u001b[0m \u001b[39mif\u001b[39;00m \u001b[39mnot\u001b[39;00m \u001b[39mself\u001b[39m\u001b[39m.\u001b[39m_is_idle_drawing:\n\u001b[1;32m   2081\u001b[0m     \u001b[39mwith\u001b[39;00m \u001b[39mself\u001b[39m\u001b[39m.\u001b[39m_idle_draw_cntx():\n\u001b[0;32m-> 2082\u001b[0m         \u001b[39mself\u001b[39;49m\u001b[39m.\u001b[39;49mdraw(\u001b[39m*\u001b[39;49margs, \u001b[39m*\u001b[39;49m\u001b[39m*\u001b[39;49mkwargs)\n",
      "File \u001b[0;32m/opt/homebrew/Caskroom/miniforge/base/envs/gpsat2/lib/python3.8/site-packages/matplotlib/backends/backend_agg.py:400\u001b[0m, in \u001b[0;36mFigureCanvasAgg.draw\u001b[0;34m(self)\u001b[0m\n\u001b[1;32m    396\u001b[0m \u001b[39m# Acquire a lock on the shared font cache.\u001b[39;00m\n\u001b[1;32m    397\u001b[0m \u001b[39mwith\u001b[39;00m RendererAgg\u001b[39m.\u001b[39mlock, \\\n\u001b[1;32m    398\u001b[0m      (\u001b[39mself\u001b[39m\u001b[39m.\u001b[39mtoolbar\u001b[39m.\u001b[39m_wait_cursor_for_draw_cm() \u001b[39mif\u001b[39;00m \u001b[39mself\u001b[39m\u001b[39m.\u001b[39mtoolbar\n\u001b[1;32m    399\u001b[0m       \u001b[39melse\u001b[39;00m nullcontext()):\n\u001b[0;32m--> 400\u001b[0m     \u001b[39mself\u001b[39;49m\u001b[39m.\u001b[39;49mfigure\u001b[39m.\u001b[39;49mdraw(\u001b[39mself\u001b[39;49m\u001b[39m.\u001b[39;49mrenderer)\n\u001b[1;32m    401\u001b[0m     \u001b[39m# A GUI class may be need to update a window using this draw, so\u001b[39;00m\n\u001b[1;32m    402\u001b[0m     \u001b[39m# don't forget to call the superclass.\u001b[39;00m\n\u001b[1;32m    403\u001b[0m     \u001b[39msuper\u001b[39m()\u001b[39m.\u001b[39mdraw()\n",
      "File \u001b[0;32m/opt/homebrew/Caskroom/miniforge/base/envs/gpsat2/lib/python3.8/site-packages/matplotlib/artist.py:95\u001b[0m, in \u001b[0;36m_finalize_rasterization.<locals>.draw_wrapper\u001b[0;34m(artist, renderer, *args, **kwargs)\u001b[0m\n\u001b[1;32m     93\u001b[0m \u001b[39m@wraps\u001b[39m(draw)\n\u001b[1;32m     94\u001b[0m \u001b[39mdef\u001b[39;00m \u001b[39mdraw_wrapper\u001b[39m(artist, renderer, \u001b[39m*\u001b[39margs, \u001b[39m*\u001b[39m\u001b[39m*\u001b[39mkwargs):\n\u001b[0;32m---> 95\u001b[0m     result \u001b[39m=\u001b[39m draw(artist, renderer, \u001b[39m*\u001b[39;49margs, \u001b[39m*\u001b[39;49m\u001b[39m*\u001b[39;49mkwargs)\n\u001b[1;32m     96\u001b[0m     \u001b[39mif\u001b[39;00m renderer\u001b[39m.\u001b[39m_rasterizing:\n\u001b[1;32m     97\u001b[0m         renderer\u001b[39m.\u001b[39mstop_rasterizing()\n",
      "File \u001b[0;32m/opt/homebrew/Caskroom/miniforge/base/envs/gpsat2/lib/python3.8/site-packages/matplotlib/artist.py:72\u001b[0m, in \u001b[0;36mallow_rasterization.<locals>.draw_wrapper\u001b[0;34m(artist, renderer)\u001b[0m\n\u001b[1;32m     69\u001b[0m     \u001b[39mif\u001b[39;00m artist\u001b[39m.\u001b[39mget_agg_filter() \u001b[39mis\u001b[39;00m \u001b[39mnot\u001b[39;00m \u001b[39mNone\u001b[39;00m:\n\u001b[1;32m     70\u001b[0m         renderer\u001b[39m.\u001b[39mstart_filter()\n\u001b[0;32m---> 72\u001b[0m     \u001b[39mreturn\u001b[39;00m draw(artist, renderer)\n\u001b[1;32m     73\u001b[0m \u001b[39mfinally\u001b[39;00m:\n\u001b[1;32m     74\u001b[0m     \u001b[39mif\u001b[39;00m artist\u001b[39m.\u001b[39mget_agg_filter() \u001b[39mis\u001b[39;00m \u001b[39mnot\u001b[39;00m \u001b[39mNone\u001b[39;00m:\n",
      "File \u001b[0;32m/opt/homebrew/Caskroom/miniforge/base/envs/gpsat2/lib/python3.8/site-packages/matplotlib/figure.py:3129\u001b[0m, in \u001b[0;36mFigure.draw\u001b[0;34m(self, renderer)\u001b[0m\n\u001b[1;32m   3126\u001b[0m \u001b[39mif\u001b[39;00m \u001b[39mnot\u001b[39;00m \u001b[39mself\u001b[39m\u001b[39m.\u001b[39mget_visible():\n\u001b[1;32m   3127\u001b[0m     \u001b[39mreturn\u001b[39;00m\n\u001b[0;32m-> 3129\u001b[0m artists \u001b[39m=\u001b[39m \u001b[39mself\u001b[39;49m\u001b[39m.\u001b[39;49m_get_draw_artists(renderer)\n\u001b[1;32m   3130\u001b[0m \u001b[39mtry\u001b[39;00m:\n\u001b[1;32m   3131\u001b[0m     renderer\u001b[39m.\u001b[39mopen_group(\u001b[39m'\u001b[39m\u001b[39mfigure\u001b[39m\u001b[39m'\u001b[39m, gid\u001b[39m=\u001b[39m\u001b[39mself\u001b[39m\u001b[39m.\u001b[39mget_gid())\n",
      "File \u001b[0;32m/opt/homebrew/Caskroom/miniforge/base/envs/gpsat2/lib/python3.8/site-packages/matplotlib/figure.py:221\u001b[0m, in \u001b[0;36mFigureBase._get_draw_artists\u001b[0;34m(self, renderer)\u001b[0m\n\u001b[1;32m    219\u001b[0m \u001b[39mfor\u001b[39;00m ax \u001b[39min\u001b[39;00m \u001b[39mself\u001b[39m\u001b[39m.\u001b[39m_localaxes:\n\u001b[1;32m    220\u001b[0m     locator \u001b[39m=\u001b[39m ax\u001b[39m.\u001b[39mget_axes_locator()\n\u001b[0;32m--> 221\u001b[0m     ax\u001b[39m.\u001b[39;49mapply_aspect(locator(ax, renderer) \u001b[39mif\u001b[39;49;00m locator \u001b[39melse\u001b[39;49;00m \u001b[39mNone\u001b[39;49;00m)\n\u001b[1;32m    223\u001b[0m     \u001b[39mfor\u001b[39;00m child \u001b[39min\u001b[39;00m ax\u001b[39m.\u001b[39mget_children():\n\u001b[1;32m    224\u001b[0m         \u001b[39mif\u001b[39;00m \u001b[39mhasattr\u001b[39m(child, \u001b[39m'\u001b[39m\u001b[39mapply_aspect\u001b[39m\u001b[39m'\u001b[39m):\n",
      "File \u001b[0;32m/opt/homebrew/Caskroom/miniforge/base/envs/gpsat2/lib/python3.8/site-packages/matplotlib/axes/_base.py:1924\u001b[0m, in \u001b[0;36m_AxesBase.apply_aspect\u001b[0;34m(self, position)\u001b[0m\n\u001b[1;32m   1921\u001b[0m \u001b[39mif\u001b[39;00m \u001b[39mself\u001b[39m \u001b[39min\u001b[39;00m \u001b[39mself\u001b[39m\u001b[39m.\u001b[39m_twinned_axes:\n\u001b[1;32m   1922\u001b[0m     \u001b[39mraise\u001b[39;00m \u001b[39mRuntimeError\u001b[39;00m(\u001b[39m\"\u001b[39m\u001b[39mAdjustable \u001b[39m\u001b[39m'\u001b[39m\u001b[39mbox\u001b[39m\u001b[39m'\u001b[39m\u001b[39m is not allowed in a \u001b[39m\u001b[39m\"\u001b[39m\n\u001b[1;32m   1923\u001b[0m                        \u001b[39m\"\u001b[39m\u001b[39mtwinned Axes; use \u001b[39m\u001b[39m'\u001b[39m\u001b[39mdatalim\u001b[39m\u001b[39m'\u001b[39m\u001b[39m instead\u001b[39m\u001b[39m\"\u001b[39m)\n\u001b[0;32m-> 1924\u001b[0m box_aspect \u001b[39m=\u001b[39m aspect \u001b[39m*\u001b[39m \u001b[39mself\u001b[39;49m\u001b[39m.\u001b[39;49mget_data_ratio()\n\u001b[1;32m   1925\u001b[0m pb \u001b[39m=\u001b[39m position\u001b[39m.\u001b[39mfrozen()\n\u001b[1;32m   1926\u001b[0m pb1 \u001b[39m=\u001b[39m pb\u001b[39m.\u001b[39mshrunk_to_aspect(box_aspect, pb, fig_aspect)\n",
      "File \u001b[0;32m/opt/homebrew/Caskroom/miniforge/base/envs/gpsat2/lib/python3.8/site-packages/matplotlib/axes/_base.py:1870\u001b[0m, in \u001b[0;36m_AxesBase.get_data_ratio\u001b[0;34m(self)\u001b[0m\n\u001b[1;32m   1862\u001b[0m \u001b[39mdef\u001b[39;00m \u001b[39mget_data_ratio\u001b[39m(\u001b[39mself\u001b[39m):\n\u001b[1;32m   1863\u001b[0m \u001b[39m    \u001b[39m\u001b[39m\"\"\"\u001b[39;00m\n\u001b[1;32m   1864\u001b[0m \u001b[39m    Return the aspect ratio of the scaled data.\u001b[39;00m\n\u001b[1;32m   1865\u001b[0m \n\u001b[0;32m   (...)\u001b[0m\n\u001b[1;32m   1868\u001b[0m \u001b[39m    This method is intended to be overridden by new projection types.\u001b[39;00m\n\u001b[1;32m   1869\u001b[0m \u001b[39m    \"\"\"\u001b[39;00m\n\u001b[0;32m-> 1870\u001b[0m     txmin, txmax \u001b[39m=\u001b[39m \u001b[39mself\u001b[39m\u001b[39m.\u001b[39mxaxis\u001b[39m.\u001b[39mget_transform()\u001b[39m.\u001b[39mtransform(\u001b[39mself\u001b[39;49m\u001b[39m.\u001b[39;49mget_xbound())\n\u001b[1;32m   1871\u001b[0m     tymin, tymax \u001b[39m=\u001b[39m \u001b[39mself\u001b[39m\u001b[39m.\u001b[39myaxis\u001b[39m.\u001b[39mget_transform()\u001b[39m.\u001b[39mtransform(\u001b[39mself\u001b[39m\u001b[39m.\u001b[39mget_ybound())\n\u001b[1;32m   1872\u001b[0m     xsize \u001b[39m=\u001b[39m \u001b[39mmax\u001b[39m(\u001b[39mabs\u001b[39m(txmax \u001b[39m-\u001b[39m txmin), \u001b[39m1e-30\u001b[39m)\n",
      "File \u001b[0;32m/opt/homebrew/Caskroom/miniforge/base/envs/gpsat2/lib/python3.8/site-packages/matplotlib/axes/_base.py:3496\u001b[0m, in \u001b[0;36m_AxesBase.get_xbound\u001b[0;34m(self)\u001b[0m\n\u001b[1;32m   3486\u001b[0m \u001b[39mdef\u001b[39;00m \u001b[39mget_xbound\u001b[39m(\u001b[39mself\u001b[39m):\n\u001b[1;32m   3487\u001b[0m \u001b[39m    \u001b[39m\u001b[39m\"\"\"\u001b[39;00m\n\u001b[1;32m   3488\u001b[0m \u001b[39m    Return the lower and upper x-axis bounds, in increasing order.\u001b[39;00m\n\u001b[1;32m   3489\u001b[0m \n\u001b[0;32m   (...)\u001b[0m\n\u001b[1;32m   3494\u001b[0m \u001b[39m    invert_xaxis, xaxis_inverted\u001b[39;00m\n\u001b[1;32m   3495\u001b[0m \u001b[39m    \"\"\"\u001b[39;00m\n\u001b[0;32m-> 3496\u001b[0m     left, right \u001b[39m=\u001b[39m \u001b[39mself\u001b[39;49m\u001b[39m.\u001b[39;49mget_xlim()\n\u001b[1;32m   3497\u001b[0m     \u001b[39mif\u001b[39;00m left \u001b[39m<\u001b[39m right:\n\u001b[1;32m   3498\u001b[0m         \u001b[39mreturn\u001b[39;00m left, right\n",
      "File \u001b[0;32m/opt/homebrew/Caskroom/miniforge/base/envs/gpsat2/lib/python3.8/site-packages/matplotlib/axes/_base.py:3554\u001b[0m, in \u001b[0;36m_AxesBase.get_xlim\u001b[0;34m(self)\u001b[0m\n\u001b[1;32m   3534\u001b[0m \u001b[39mdef\u001b[39;00m \u001b[39mget_xlim\u001b[39m(\u001b[39mself\u001b[39m):\n\u001b[1;32m   3535\u001b[0m \u001b[39m    \u001b[39m\u001b[39m\"\"\"\u001b[39;00m\n\u001b[1;32m   3536\u001b[0m \u001b[39m    Return the x-axis view limits.\u001b[39;00m\n\u001b[1;32m   3537\u001b[0m \n\u001b[0;32m   (...)\u001b[0m\n\u001b[1;32m   3552\u001b[0m \u001b[39m    be greater than the *right* value.\u001b[39;00m\n\u001b[1;32m   3553\u001b[0m \u001b[39m    \"\"\"\u001b[39;00m\n\u001b[0;32m-> 3554\u001b[0m     \u001b[39mreturn\u001b[39;00m \u001b[39mtuple\u001b[39m(\u001b[39mself\u001b[39;49m\u001b[39m.\u001b[39;49mviewLim\u001b[39m.\u001b[39mintervalx)\n",
      "File \u001b[0;32m/opt/homebrew/Caskroom/miniforge/base/envs/gpsat2/lib/python3.8/site-packages/matplotlib/axes/_base.py:857\u001b[0m, in \u001b[0;36m_AxesBase.viewLim\u001b[0;34m(self)\u001b[0m\n\u001b[1;32m    855\u001b[0m \u001b[39m@property\u001b[39m\n\u001b[1;32m    856\u001b[0m \u001b[39mdef\u001b[39;00m \u001b[39mviewLim\u001b[39m(\u001b[39mself\u001b[39m):\n\u001b[0;32m--> 857\u001b[0m     \u001b[39mself\u001b[39;49m\u001b[39m.\u001b[39;49m_unstale_viewLim()\n\u001b[1;32m    858\u001b[0m     \u001b[39mreturn\u001b[39;00m \u001b[39mself\u001b[39m\u001b[39m.\u001b[39m_viewLim\n",
      "File \u001b[0;32m/opt/homebrew/Caskroom/miniforge/base/envs/gpsat2/lib/python3.8/site-packages/matplotlib/axes/_base.py:852\u001b[0m, in \u001b[0;36m_AxesBase._unstale_viewLim\u001b[0;34m(self)\u001b[0m\n\u001b[1;32m    850\u001b[0m     \u001b[39mfor\u001b[39;00m ax \u001b[39min\u001b[39;00m \u001b[39mself\u001b[39m\u001b[39m.\u001b[39m_shared_axes[name]\u001b[39m.\u001b[39mget_siblings(\u001b[39mself\u001b[39m):\n\u001b[1;32m    851\u001b[0m         ax\u001b[39m.\u001b[39m_stale_viewlims[name] \u001b[39m=\u001b[39m \u001b[39mFalse\u001b[39;00m\n\u001b[0;32m--> 852\u001b[0m \u001b[39mself\u001b[39;49m\u001b[39m.\u001b[39;49mautoscale_view(\u001b[39m*\u001b[39;49m\u001b[39m*\u001b[39;49m{\u001b[39mf\u001b[39;49m\u001b[39m\"\u001b[39;49m\u001b[39mscale\u001b[39;49m\u001b[39m{\u001b[39;49;00mname\u001b[39m}\u001b[39;49;00m\u001b[39m\"\u001b[39;49m: scale\n\u001b[1;32m    853\u001b[0m                        \u001b[39mfor\u001b[39;49;00m name, scale \u001b[39min\u001b[39;49;00m need_scale\u001b[39m.\u001b[39;49mitems()})\n",
      "File \u001b[0;32m/opt/homebrew/Caskroom/miniforge/base/envs/gpsat2/lib/python3.8/site-packages/cartopy/mpl/geoaxes.py:946\u001b[0m, in \u001b[0;36mGeoAxes.autoscale_view\u001b[0;34m(self, tight, scalex, scaley)\u001b[0m\n\u001b[1;32m    943\u001b[0m matplotlib\u001b[39m.\u001b[39maxes\u001b[39m.\u001b[39mAxes\u001b[39m.\u001b[39mautoscale_view(\u001b[39mself\u001b[39m, tight\u001b[39m=\u001b[39mtight,\n\u001b[1;32m    944\u001b[0m                                     scalex\u001b[39m=\u001b[39mscalex, scaley\u001b[39m=\u001b[39mscaley)\n\u001b[1;32m    945\u001b[0m \u001b[39m# Limit the resulting bounds to valid area.\u001b[39;00m\n\u001b[0;32m--> 946\u001b[0m \u001b[39mif\u001b[39;00m scalex \u001b[39mand\u001b[39;00m \u001b[39mself\u001b[39;49m\u001b[39m.\u001b[39;49m_autoscaleXon:\n\u001b[1;32m    947\u001b[0m     bounds \u001b[39m=\u001b[39m \u001b[39mself\u001b[39m\u001b[39m.\u001b[39mget_xbound()\n\u001b[1;32m    948\u001b[0m     \u001b[39mself\u001b[39m\u001b[39m.\u001b[39mset_xbound(\u001b[39mmax\u001b[39m(bounds[\u001b[39m0\u001b[39m], \u001b[39mself\u001b[39m\u001b[39m.\u001b[39mprojection\u001b[39m.\u001b[39mx_limits[\u001b[39m0\u001b[39m]),\n\u001b[1;32m    949\u001b[0m                     \u001b[39mmin\u001b[39m(bounds[\u001b[39m1\u001b[39m], \u001b[39mself\u001b[39m\u001b[39m.\u001b[39mprojection\u001b[39m.\u001b[39mx_limits[\u001b[39m1\u001b[39m]))\n",
      "\u001b[0;31mAttributeError\u001b[0m: 'GeoAxes' object has no attribute '_autoscaleXon'"
     ]
    },
    {
     "ename": "AttributeError",
     "evalue": "'GeoAxes' object has no attribute '_autoscaleXon'",
     "output_type": "error",
     "traceback": [
      "\u001b[0;31m---------------------------------------------------------------------------\u001b[0m",
      "\u001b[0;31mAttributeError\u001b[0m                            Traceback (most recent call last)",
      "File \u001b[0;32m/opt/homebrew/Caskroom/miniforge/base/envs/gpsat2/lib/python3.8/site-packages/IPython/core/formatters.py:340\u001b[0m, in \u001b[0;36mBaseFormatter.__call__\u001b[0;34m(self, obj)\u001b[0m\n\u001b[1;32m    338\u001b[0m     \u001b[39mpass\u001b[39;00m\n\u001b[1;32m    339\u001b[0m \u001b[39melse\u001b[39;00m:\n\u001b[0;32m--> 340\u001b[0m     \u001b[39mreturn\u001b[39;00m printer(obj)\n\u001b[1;32m    341\u001b[0m \u001b[39m# Finally look for special method names\u001b[39;00m\n\u001b[1;32m    342\u001b[0m method \u001b[39m=\u001b[39m get_real_method(obj, \u001b[39mself\u001b[39m\u001b[39m.\u001b[39mprint_method)\n",
      "File \u001b[0;32m/opt/homebrew/Caskroom/miniforge/base/envs/gpsat2/lib/python3.8/site-packages/IPython/core/pylabtools.py:152\u001b[0m, in \u001b[0;36mprint_figure\u001b[0;34m(fig, fmt, bbox_inches, base64, **kwargs)\u001b[0m\n\u001b[1;32m    149\u001b[0m     \u001b[39mfrom\u001b[39;00m \u001b[39mmatplotlib\u001b[39;00m\u001b[39m.\u001b[39;00m\u001b[39mbackend_bases\u001b[39;00m \u001b[39mimport\u001b[39;00m FigureCanvasBase\n\u001b[1;32m    150\u001b[0m     FigureCanvasBase(fig)\n\u001b[0;32m--> 152\u001b[0m fig\u001b[39m.\u001b[39;49mcanvas\u001b[39m.\u001b[39;49mprint_figure(bytes_io, \u001b[39m*\u001b[39;49m\u001b[39m*\u001b[39;49mkw)\n\u001b[1;32m    153\u001b[0m data \u001b[39m=\u001b[39m bytes_io\u001b[39m.\u001b[39mgetvalue()\n\u001b[1;32m    154\u001b[0m \u001b[39mif\u001b[39;00m fmt \u001b[39m==\u001b[39m \u001b[39m'\u001b[39m\u001b[39msvg\u001b[39m\u001b[39m'\u001b[39m:\n",
      "File \u001b[0;32m/opt/homebrew/Caskroom/miniforge/base/envs/gpsat2/lib/python3.8/site-packages/matplotlib/backend_bases.py:2342\u001b[0m, in \u001b[0;36mFigureCanvasBase.print_figure\u001b[0;34m(self, filename, dpi, facecolor, edgecolor, orientation, format, bbox_inches, pad_inches, bbox_extra_artists, backend, **kwargs)\u001b[0m\n\u001b[1;32m   2336\u001b[0m     renderer \u001b[39m=\u001b[39m _get_renderer(\n\u001b[1;32m   2337\u001b[0m         \u001b[39mself\u001b[39m\u001b[39m.\u001b[39mfigure,\n\u001b[1;32m   2338\u001b[0m         functools\u001b[39m.\u001b[39mpartial(\n\u001b[1;32m   2339\u001b[0m             print_method, orientation\u001b[39m=\u001b[39morientation)\n\u001b[1;32m   2340\u001b[0m     )\n\u001b[1;32m   2341\u001b[0m     \u001b[39mwith\u001b[39;00m \u001b[39mgetattr\u001b[39m(renderer, \u001b[39m\"\u001b[39m\u001b[39m_draw_disabled\u001b[39m\u001b[39m\"\u001b[39m, nullcontext)():\n\u001b[0;32m-> 2342\u001b[0m         \u001b[39mself\u001b[39;49m\u001b[39m.\u001b[39;49mfigure\u001b[39m.\u001b[39;49mdraw(renderer)\n\u001b[1;32m   2344\u001b[0m \u001b[39mif\u001b[39;00m bbox_inches:\n\u001b[1;32m   2345\u001b[0m     \u001b[39mif\u001b[39;00m bbox_inches \u001b[39m==\u001b[39m \u001b[39m\"\u001b[39m\u001b[39mtight\u001b[39m\u001b[39m\"\u001b[39m:\n",
      "File \u001b[0;32m/opt/homebrew/Caskroom/miniforge/base/envs/gpsat2/lib/python3.8/site-packages/matplotlib/artist.py:95\u001b[0m, in \u001b[0;36m_finalize_rasterization.<locals>.draw_wrapper\u001b[0;34m(artist, renderer, *args, **kwargs)\u001b[0m\n\u001b[1;32m     93\u001b[0m \u001b[39m@wraps\u001b[39m(draw)\n\u001b[1;32m     94\u001b[0m \u001b[39mdef\u001b[39;00m \u001b[39mdraw_wrapper\u001b[39m(artist, renderer, \u001b[39m*\u001b[39margs, \u001b[39m*\u001b[39m\u001b[39m*\u001b[39mkwargs):\n\u001b[0;32m---> 95\u001b[0m     result \u001b[39m=\u001b[39m draw(artist, renderer, \u001b[39m*\u001b[39;49margs, \u001b[39m*\u001b[39;49m\u001b[39m*\u001b[39;49mkwargs)\n\u001b[1;32m     96\u001b[0m     \u001b[39mif\u001b[39;00m renderer\u001b[39m.\u001b[39m_rasterizing:\n\u001b[1;32m     97\u001b[0m         renderer\u001b[39m.\u001b[39mstop_rasterizing()\n",
      "File \u001b[0;32m/opt/homebrew/Caskroom/miniforge/base/envs/gpsat2/lib/python3.8/site-packages/matplotlib/artist.py:72\u001b[0m, in \u001b[0;36mallow_rasterization.<locals>.draw_wrapper\u001b[0;34m(artist, renderer)\u001b[0m\n\u001b[1;32m     69\u001b[0m     \u001b[39mif\u001b[39;00m artist\u001b[39m.\u001b[39mget_agg_filter() \u001b[39mis\u001b[39;00m \u001b[39mnot\u001b[39;00m \u001b[39mNone\u001b[39;00m:\n\u001b[1;32m     70\u001b[0m         renderer\u001b[39m.\u001b[39mstart_filter()\n\u001b[0;32m---> 72\u001b[0m     \u001b[39mreturn\u001b[39;00m draw(artist, renderer)\n\u001b[1;32m     73\u001b[0m \u001b[39mfinally\u001b[39;00m:\n\u001b[1;32m     74\u001b[0m     \u001b[39mif\u001b[39;00m artist\u001b[39m.\u001b[39mget_agg_filter() \u001b[39mis\u001b[39;00m \u001b[39mnot\u001b[39;00m \u001b[39mNone\u001b[39;00m:\n",
      "File \u001b[0;32m/opt/homebrew/Caskroom/miniforge/base/envs/gpsat2/lib/python3.8/site-packages/matplotlib/figure.py:3140\u001b[0m, in \u001b[0;36mFigure.draw\u001b[0;34m(self, renderer)\u001b[0m\n\u001b[1;32m   3137\u001b[0m         \u001b[39m# ValueError can occur when resizing a window.\u001b[39;00m\n\u001b[1;32m   3139\u001b[0m \u001b[39mself\u001b[39m\u001b[39m.\u001b[39mpatch\u001b[39m.\u001b[39mdraw(renderer)\n\u001b[0;32m-> 3140\u001b[0m mimage\u001b[39m.\u001b[39;49m_draw_list_compositing_images(\n\u001b[1;32m   3141\u001b[0m     renderer, \u001b[39mself\u001b[39;49m, artists, \u001b[39mself\u001b[39;49m\u001b[39m.\u001b[39;49msuppressComposite)\n\u001b[1;32m   3143\u001b[0m \u001b[39mfor\u001b[39;00m sfig \u001b[39min\u001b[39;00m \u001b[39mself\u001b[39m\u001b[39m.\u001b[39msubfigs:\n\u001b[1;32m   3144\u001b[0m     sfig\u001b[39m.\u001b[39mdraw(renderer)\n",
      "File \u001b[0;32m/opt/homebrew/Caskroom/miniforge/base/envs/gpsat2/lib/python3.8/site-packages/matplotlib/image.py:131\u001b[0m, in \u001b[0;36m_draw_list_compositing_images\u001b[0;34m(renderer, parent, artists, suppress_composite)\u001b[0m\n\u001b[1;32m    129\u001b[0m \u001b[39mif\u001b[39;00m not_composite \u001b[39mor\u001b[39;00m \u001b[39mnot\u001b[39;00m has_images:\n\u001b[1;32m    130\u001b[0m     \u001b[39mfor\u001b[39;00m a \u001b[39min\u001b[39;00m artists:\n\u001b[0;32m--> 131\u001b[0m         a\u001b[39m.\u001b[39;49mdraw(renderer)\n\u001b[1;32m    132\u001b[0m \u001b[39melse\u001b[39;00m:\n\u001b[1;32m    133\u001b[0m     \u001b[39m# Composite any adjacent images together\u001b[39;00m\n\u001b[1;32m    134\u001b[0m     image_group \u001b[39m=\u001b[39m []\n",
      "File \u001b[0;32m/opt/homebrew/Caskroom/miniforge/base/envs/gpsat2/lib/python3.8/site-packages/matplotlib/artist.py:72\u001b[0m, in \u001b[0;36mallow_rasterization.<locals>.draw_wrapper\u001b[0;34m(artist, renderer)\u001b[0m\n\u001b[1;32m     69\u001b[0m     \u001b[39mif\u001b[39;00m artist\u001b[39m.\u001b[39mget_agg_filter() \u001b[39mis\u001b[39;00m \u001b[39mnot\u001b[39;00m \u001b[39mNone\u001b[39;00m:\n\u001b[1;32m     70\u001b[0m         renderer\u001b[39m.\u001b[39mstart_filter()\n\u001b[0;32m---> 72\u001b[0m     \u001b[39mreturn\u001b[39;00m draw(artist, renderer)\n\u001b[1;32m     73\u001b[0m \u001b[39mfinally\u001b[39;00m:\n\u001b[1;32m     74\u001b[0m     \u001b[39mif\u001b[39;00m artist\u001b[39m.\u001b[39mget_agg_filter() \u001b[39mis\u001b[39;00m \u001b[39mnot\u001b[39;00m \u001b[39mNone\u001b[39;00m:\n",
      "File \u001b[0;32m/opt/homebrew/Caskroom/miniforge/base/envs/gpsat2/lib/python3.8/site-packages/cartopy/mpl/geoaxes.py:558\u001b[0m, in \u001b[0;36mGeoAxes.draw\u001b[0;34m(self, renderer, **kwargs)\u001b[0m\n\u001b[1;32m    553\u001b[0m         \u001b[39mself\u001b[39m\u001b[39m.\u001b[39mimshow(img, extent\u001b[39m=\u001b[39mextent, origin\u001b[39m=\u001b[39morigin,\n\u001b[1;32m    554\u001b[0m                     transform\u001b[39m=\u001b[39mfactory\u001b[39m.\u001b[39mcrs, \u001b[39m*\u001b[39mfactory_args[\u001b[39m1\u001b[39m:],\n\u001b[1;32m    555\u001b[0m                     \u001b[39m*\u001b[39m\u001b[39m*\u001b[39mfactory_kwargs)\n\u001b[1;32m    556\u001b[0m \u001b[39mself\u001b[39m\u001b[39m.\u001b[39m_done_img_factory \u001b[39m=\u001b[39m \u001b[39mTrue\u001b[39;00m\n\u001b[0;32m--> 558\u001b[0m \u001b[39mreturn\u001b[39;00m matplotlib\u001b[39m.\u001b[39;49maxes\u001b[39m.\u001b[39;49mAxes\u001b[39m.\u001b[39;49mdraw(\u001b[39mself\u001b[39;49m, renderer\u001b[39m=\u001b[39;49mrenderer, \u001b[39m*\u001b[39;49m\u001b[39m*\u001b[39;49mkwargs)\n",
      "File \u001b[0;32m/opt/homebrew/Caskroom/miniforge/base/envs/gpsat2/lib/python3.8/site-packages/matplotlib/artist.py:72\u001b[0m, in \u001b[0;36mallow_rasterization.<locals>.draw_wrapper\u001b[0;34m(artist, renderer)\u001b[0m\n\u001b[1;32m     69\u001b[0m     \u001b[39mif\u001b[39;00m artist\u001b[39m.\u001b[39mget_agg_filter() \u001b[39mis\u001b[39;00m \u001b[39mnot\u001b[39;00m \u001b[39mNone\u001b[39;00m:\n\u001b[1;32m     70\u001b[0m         renderer\u001b[39m.\u001b[39mstart_filter()\n\u001b[0;32m---> 72\u001b[0m     \u001b[39mreturn\u001b[39;00m draw(artist, renderer)\n\u001b[1;32m     73\u001b[0m \u001b[39mfinally\u001b[39;00m:\n\u001b[1;32m     74\u001b[0m     \u001b[39mif\u001b[39;00m artist\u001b[39m.\u001b[39mget_agg_filter() \u001b[39mis\u001b[39;00m \u001b[39mnot\u001b[39;00m \u001b[39mNone\u001b[39;00m:\n",
      "File \u001b[0;32m/opt/homebrew/Caskroom/miniforge/base/envs/gpsat2/lib/python3.8/site-packages/matplotlib/axes/_base.py:3064\u001b[0m, in \u001b[0;36m_AxesBase.draw\u001b[0;34m(self, renderer)\u001b[0m\n\u001b[1;32m   3061\u001b[0m \u001b[39mif\u001b[39;00m artists_rasterized:\n\u001b[1;32m   3062\u001b[0m     _draw_rasterized(\u001b[39mself\u001b[39m\u001b[39m.\u001b[39mfigure, artists_rasterized, renderer)\n\u001b[0;32m-> 3064\u001b[0m mimage\u001b[39m.\u001b[39;49m_draw_list_compositing_images(\n\u001b[1;32m   3065\u001b[0m     renderer, \u001b[39mself\u001b[39;49m, artists, \u001b[39mself\u001b[39;49m\u001b[39m.\u001b[39;49mfigure\u001b[39m.\u001b[39;49msuppressComposite)\n\u001b[1;32m   3067\u001b[0m renderer\u001b[39m.\u001b[39mclose_group(\u001b[39m'\u001b[39m\u001b[39maxes\u001b[39m\u001b[39m'\u001b[39m)\n\u001b[1;32m   3068\u001b[0m \u001b[39mself\u001b[39m\u001b[39m.\u001b[39mstale \u001b[39m=\u001b[39m \u001b[39mFalse\u001b[39;00m\n",
      "File \u001b[0;32m/opt/homebrew/Caskroom/miniforge/base/envs/gpsat2/lib/python3.8/site-packages/matplotlib/image.py:131\u001b[0m, in \u001b[0;36m_draw_list_compositing_images\u001b[0;34m(renderer, parent, artists, suppress_composite)\u001b[0m\n\u001b[1;32m    129\u001b[0m \u001b[39mif\u001b[39;00m not_composite \u001b[39mor\u001b[39;00m \u001b[39mnot\u001b[39;00m has_images:\n\u001b[1;32m    130\u001b[0m     \u001b[39mfor\u001b[39;00m a \u001b[39min\u001b[39;00m artists:\n\u001b[0;32m--> 131\u001b[0m         a\u001b[39m.\u001b[39;49mdraw(renderer)\n\u001b[1;32m    132\u001b[0m \u001b[39melse\u001b[39;00m:\n\u001b[1;32m    133\u001b[0m     \u001b[39m# Composite any adjacent images together\u001b[39;00m\n\u001b[1;32m    134\u001b[0m     image_group \u001b[39m=\u001b[39m []\n",
      "File \u001b[0;32m/opt/homebrew/Caskroom/miniforge/base/envs/gpsat2/lib/python3.8/site-packages/matplotlib/artist.py:72\u001b[0m, in \u001b[0;36mallow_rasterization.<locals>.draw_wrapper\u001b[0;34m(artist, renderer)\u001b[0m\n\u001b[1;32m     69\u001b[0m     \u001b[39mif\u001b[39;00m artist\u001b[39m.\u001b[39mget_agg_filter() \u001b[39mis\u001b[39;00m \u001b[39mnot\u001b[39;00m \u001b[39mNone\u001b[39;00m:\n\u001b[1;32m     70\u001b[0m         renderer\u001b[39m.\u001b[39mstart_filter()\n\u001b[0;32m---> 72\u001b[0m     \u001b[39mreturn\u001b[39;00m draw(artist, renderer)\n\u001b[1;32m     73\u001b[0m \u001b[39mfinally\u001b[39;00m:\n\u001b[1;32m     74\u001b[0m     \u001b[39mif\u001b[39;00m artist\u001b[39m.\u001b[39mget_agg_filter() \u001b[39mis\u001b[39;00m \u001b[39mnot\u001b[39;00m \u001b[39mNone\u001b[39;00m:\n",
      "File \u001b[0;32m/opt/homebrew/Caskroom/miniforge/base/envs/gpsat2/lib/python3.8/site-packages/cartopy/mpl/feature_artist.py:147\u001b[0m, in \u001b[0;36mFeatureArtist.draw\u001b[0;34m(self, renderer, *args, **kwargs)\u001b[0m\n\u001b[1;32m    145\u001b[0m extent \u001b[39m=\u001b[39m \u001b[39mNone\u001b[39;00m\n\u001b[1;32m    146\u001b[0m \u001b[39mtry\u001b[39;00m:\n\u001b[0;32m--> 147\u001b[0m     extent \u001b[39m=\u001b[39m ax\u001b[39m.\u001b[39;49mget_extent(feature_crs)\n\u001b[1;32m    148\u001b[0m \u001b[39mexcept\u001b[39;00m \u001b[39mValueError\u001b[39;00m:\n\u001b[1;32m    149\u001b[0m     warnings\u001b[39m.\u001b[39mwarn(\u001b[39m'\u001b[39m\u001b[39mUnable to determine extent. Defaulting to global.\u001b[39m\u001b[39m'\u001b[39m)\n",
      "File \u001b[0;32m/opt/homebrew/Caskroom/miniforge/base/envs/gpsat2/lib/python3.8/site-packages/cartopy/mpl/geoaxes.py:814\u001b[0m, in \u001b[0;36mGeoAxes.get_extent\u001b[0;34m(self, crs)\u001b[0m\n\u001b[1;32m    805\u001b[0m \u001b[39mdef\u001b[39;00m \u001b[39mget_extent\u001b[39m(\u001b[39mself\u001b[39m, crs\u001b[39m=\u001b[39m\u001b[39mNone\u001b[39;00m):\n\u001b[1;32m    806\u001b[0m \u001b[39m    \u001b[39m\u001b[39m\"\"\"\u001b[39;00m\n\u001b[1;32m    807\u001b[0m \u001b[39m    Get the extent (x0, x1, y0, y1) of the map in the given coordinate\u001b[39;00m\n\u001b[1;32m    808\u001b[0m \u001b[39m    system.\u001b[39;00m\n\u001b[0;32m   (...)\u001b[0m\n\u001b[1;32m    812\u001b[0m \n\u001b[1;32m    813\u001b[0m \u001b[39m    \"\"\"\u001b[39;00m\n\u001b[0;32m--> 814\u001b[0m     p \u001b[39m=\u001b[39m \u001b[39mself\u001b[39;49m\u001b[39m.\u001b[39;49m_get_extent_geom(crs)\n\u001b[1;32m    815\u001b[0m     r \u001b[39m=\u001b[39m p\u001b[39m.\u001b[39mbounds\n\u001b[1;32m    816\u001b[0m     x1, y1, x2, y2 \u001b[39m=\u001b[39m r\n",
      "File \u001b[0;32m/opt/homebrew/Caskroom/miniforge/base/envs/gpsat2/lib/python3.8/site-packages/cartopy/mpl/geoaxes.py:821\u001b[0m, in \u001b[0;36mGeoAxes._get_extent_geom\u001b[0;34m(self, crs)\u001b[0m\n\u001b[1;32m    819\u001b[0m \u001b[39mdef\u001b[39;00m \u001b[39m_get_extent_geom\u001b[39m(\u001b[39mself\u001b[39m, crs\u001b[39m=\u001b[39m\u001b[39mNone\u001b[39;00m):\n\u001b[1;32m    820\u001b[0m     \u001b[39m# Perform the calculations for get_extent(), which just repackages it.\u001b[39;00m\n\u001b[0;32m--> 821\u001b[0m     \u001b[39mwith\u001b[39;00m \u001b[39mself\u001b[39m\u001b[39m.\u001b[39mhold_limits():\n\u001b[1;32m    822\u001b[0m         \u001b[39mif\u001b[39;00m \u001b[39mself\u001b[39m\u001b[39m.\u001b[39mget_autoscale_on():\n\u001b[1;32m    823\u001b[0m             \u001b[39mself\u001b[39m\u001b[39m.\u001b[39mautoscale_view()\n",
      "File \u001b[0;32m/opt/homebrew/Caskroom/miniforge/base/envs/gpsat2/lib/python3.8/contextlib.py:113\u001b[0m, in \u001b[0;36m_GeneratorContextManager.__enter__\u001b[0;34m(self)\u001b[0m\n\u001b[1;32m    111\u001b[0m \u001b[39mdel\u001b[39;00m \u001b[39mself\u001b[39m\u001b[39m.\u001b[39margs, \u001b[39mself\u001b[39m\u001b[39m.\u001b[39mkwds, \u001b[39mself\u001b[39m\u001b[39m.\u001b[39mfunc\n\u001b[1;32m    112\u001b[0m \u001b[39mtry\u001b[39;00m:\n\u001b[0;32m--> 113\u001b[0m     \u001b[39mreturn\u001b[39;00m \u001b[39mnext\u001b[39;49m(\u001b[39mself\u001b[39;49m\u001b[39m.\u001b[39;49mgen)\n\u001b[1;32m    114\u001b[0m \u001b[39mexcept\u001b[39;00m \u001b[39mStopIteration\u001b[39;00m:\n\u001b[1;32m    115\u001b[0m     \u001b[39mraise\u001b[39;00m \u001b[39mRuntimeError\u001b[39;00m(\u001b[39m\"\u001b[39m\u001b[39mgenerator didn\u001b[39m\u001b[39m'\u001b[39m\u001b[39mt yield\u001b[39m\u001b[39m\"\u001b[39m) \u001b[39mfrom\u001b[39;00m \u001b[39mNone\u001b[39;00m\n",
      "File \u001b[0;32m/opt/homebrew/Caskroom/miniforge/base/envs/gpsat2/lib/python3.8/site-packages/cartopy/mpl/geoaxes.py:491\u001b[0m, in \u001b[0;36mGeoAxes.hold_limits\u001b[0;34m(self, hold)\u001b[0m\n\u001b[1;32m    488\u001b[0m data_lim \u001b[39m=\u001b[39m \u001b[39mself\u001b[39m\u001b[39m.\u001b[39mdataLim\u001b[39m.\u001b[39mfrozen()\u001b[39m.\u001b[39mget_points()\n\u001b[1;32m    489\u001b[0m view_lim \u001b[39m=\u001b[39m \u001b[39mself\u001b[39m\u001b[39m.\u001b[39mviewLim\u001b[39m.\u001b[39mfrozen()\u001b[39m.\u001b[39mget_points()\n\u001b[1;32m    490\u001b[0m other \u001b[39m=\u001b[39m (\u001b[39mself\u001b[39m\u001b[39m.\u001b[39mignore_existing_data_limits,\n\u001b[0;32m--> 491\u001b[0m          \u001b[39mself\u001b[39;49m\u001b[39m.\u001b[39;49m_autoscaleXon, \u001b[39mself\u001b[39m\u001b[39m.\u001b[39m_autoscaleYon)\n\u001b[1;32m    492\u001b[0m \u001b[39mtry\u001b[39;00m:\n\u001b[1;32m    493\u001b[0m     \u001b[39myield\u001b[39;00m\n",
      "\u001b[0;31mAttributeError\u001b[0m: 'GeoAxes' object has no attribute '_autoscaleXon'"
     ]
    },
    {
     "data": {
      "text/plain": [
       "<Figure size 1200x1200 with 1 Axes>"
      ]
     },
     "metadata": {},
     "output_type": "display_data"
    }
   ],
   "source": [
    "# this will plot all observations, some on top of each other\n",
    "bin_df['lon'], bin_df['lat'] = EASE2toWGS84_New(bin_df['x'], bin_df['y'])\n",
    "\n",
    "fig = plt.figure(figsize=(12, 12))\n",
    "ax = fig.add_subplot(1, 1, 1, projection=get_projection('north'))\n",
    "\n",
    "plot_pcolormesh(ax=ax,\n",
    "                lon=bin_df['lon'],\n",
    "                lat=bin_df['lat'],\n",
    "                plot_data=bin_df['z'],\n",
    "                title=\"example: binned obs\",\n",
    "                scatter=True,\n",
    "                s=20,\n",
    "                fig=fig,\n",
    "                extent=[-180, 180, 60, 90])\n",
    "\n",
    "plt.tight_layout()\n",
    "plt.show()"
   ]
  },
  {
   "cell_type": "markdown",
   "metadata": {
    "collapsed": false
   },
   "source": [
    "expert locations - on evenly spaced grid"
   ]
  },
  {
   "cell_type": "code",
   "execution_count": 5,
   "metadata": {
    "ExecuteTime": {
     "end_time": "2023-06-07T10:03:23.786907131Z",
     "start_time": "2023-06-07T10:03:23.786820157Z"
    },
    "collapsed": false
   },
   "outputs": [],
   "source": [
    "# - spaced every 200km for some x,y range\n",
    "xy_grid = grid_2d_flatten(x_range=[-500000.0, 500000.0],\n",
    "                          y_range=[-500000.0, 500000.0],\n",
    "                          step_size=200_000)\n",
    "\n",
    "# store in dataframe\n",
    "eloc = pd.DataFrame(xy_grid, columns=['x', 'y'])\n",
    "\n",
    "# add a time coordinate\n",
    "eloc['t'] = np.floor(df['t'].mean())"
   ]
  },
  {
   "cell_type": "markdown",
   "metadata": {
    "collapsed": false
   },
   "source": [
    "plot expert locations"
   ]
  },
  {
   "cell_type": "code",
   "execution_count": 6,
   "metadata": {
    "ExecuteTime": {
     "end_time": "2023-06-07T10:06:32.041584953Z",
     "start_time": "2023-06-07T10:06:31.812377135Z"
    },
    "collapsed": false
   },
   "outputs": [
    {
     "ename": "AttributeError",
     "evalue": "'GeoAxes' object has no attribute '_autoscaleXon'",
     "output_type": "error",
     "traceback": [
      "\u001b[0;31m---------------------------------------------------------------------------\u001b[0m",
      "\u001b[0;31mAttributeError\u001b[0m                            Traceback (most recent call last)",
      "Cell \u001b[0;32mIn[6], line 7\u001b[0m\n\u001b[1;32m      4\u001b[0m fig \u001b[39m=\u001b[39m plt\u001b[39m.\u001b[39mfigure(figsize\u001b[39m=\u001b[39m(\u001b[39m12\u001b[39m, \u001b[39m12\u001b[39m))\n\u001b[1;32m      5\u001b[0m ax \u001b[39m=\u001b[39m fig\u001b[39m.\u001b[39madd_subplot(\u001b[39m1\u001b[39m, \u001b[39m1\u001b[39m, \u001b[39m1\u001b[39m, projection\u001b[39m=\u001b[39mget_projection(\u001b[39m'\u001b[39m\u001b[39mnorth\u001b[39m\u001b[39m'\u001b[39m))\n\u001b[0;32m----> 7\u001b[0m plot_pcolormesh(ax\u001b[39m=\u001b[39;49max,\n\u001b[1;32m      8\u001b[0m                 lon\u001b[39m=\u001b[39;49meloc[\u001b[39m'\u001b[39;49m\u001b[39mlon\u001b[39;49m\u001b[39m'\u001b[39;49m],\n\u001b[1;32m      9\u001b[0m                 lat\u001b[39m=\u001b[39;49meloc[\u001b[39m'\u001b[39;49m\u001b[39mlat\u001b[39;49m\u001b[39m'\u001b[39;49m],\n\u001b[1;32m     10\u001b[0m                 plot_data\u001b[39m=\u001b[39;49meloc[\u001b[39m'\u001b[39;49m\u001b[39mt\u001b[39;49m\u001b[39m'\u001b[39;49m],\n\u001b[1;32m     11\u001b[0m                 title\u001b[39m=\u001b[39;49m\u001b[39m\"\u001b[39;49m\u001b[39mexpert locations\u001b[39;49m\u001b[39m\"\u001b[39;49m,\n\u001b[1;32m     12\u001b[0m                 scatter\u001b[39m=\u001b[39;49m\u001b[39mTrue\u001b[39;49;00m,\n\u001b[1;32m     13\u001b[0m                 s\u001b[39m=\u001b[39;49m\u001b[39m20\u001b[39;49m,\n\u001b[1;32m     14\u001b[0m                 extent\u001b[39m=\u001b[39;49m[\u001b[39m-\u001b[39;49m\u001b[39m180\u001b[39;49m, \u001b[39m180\u001b[39;49m, \u001b[39m60\u001b[39;49m, \u001b[39m90\u001b[39;49m])\n\u001b[1;32m     16\u001b[0m plt\u001b[39m.\u001b[39mtight_layout()\n\u001b[1;32m     17\u001b[0m plt\u001b[39m.\u001b[39mshow()\n",
      "File \u001b[0;32m~/Dropbox/Mac/Documents/GPSat/GPSat/decorators.py:37\u001b[0m, in \u001b[0;36mtimer.<locals>.caller\u001b[0;34m(*args, **kwargs)\u001b[0m\n\u001b[1;32m     34\u001b[0m \u001b[39m@wraps\u001b[39m(func)\n\u001b[1;32m     35\u001b[0m \u001b[39mdef\u001b[39;00m \u001b[39mcaller\u001b[39m(\u001b[39m*\u001b[39margs, \u001b[39m*\u001b[39m\u001b[39m*\u001b[39mkwargs):\n\u001b[1;32m     36\u001b[0m     t0 \u001b[39m=\u001b[39m time\u001b[39m.\u001b[39mperf_counter()\n\u001b[0;32m---> 37\u001b[0m     result \u001b[39m=\u001b[39m func(\u001b[39m*\u001b[39;49margs, \u001b[39m*\u001b[39;49m\u001b[39m*\u001b[39;49mkwargs)\n\u001b[1;32m     38\u001b[0m     t1 \u001b[39m=\u001b[39m time\u001b[39m.\u001b[39mperf_counter()\n\u001b[1;32m     39\u001b[0m     \u001b[39m# TODO: could check kwargs for verbose and decide not print\u001b[39;00m\n",
      "File \u001b[0;32m~/Dropbox/Mac/Documents/GPSat/GPSat/plot_utils.py:98\u001b[0m, in \u001b[0;36mplot_pcolormesh\u001b[0;34m(ax, lon, lat, plot_data, fig, title, vmin, vmax, qvmin, qvmax, cmap, cbar_label, scatter, extent, ocean_only, **scatter_args)\u001b[0m\n\u001b[1;32m     96\u001b[0m \u001b[39melse\u001b[39;00m:\n\u001b[1;32m     97\u001b[0m     non_nan \u001b[39m=\u001b[39m \u001b[39m~\u001b[39mnp\u001b[39m.\u001b[39misnan(plot_data)\n\u001b[0;32m---> 98\u001b[0m     s \u001b[39m=\u001b[39m ax\u001b[39m.\u001b[39;49mscatter(lon[non_nan],\n\u001b[1;32m     99\u001b[0m                    lat[non_nan],\n\u001b[1;32m    100\u001b[0m                    c\u001b[39m=\u001b[39;49mplot_data[non_nan],\n\u001b[1;32m    101\u001b[0m                    cmap\u001b[39m=\u001b[39;49mcmap,\n\u001b[1;32m    102\u001b[0m                    vmin\u001b[39m=\u001b[39;49mvmin, vmax\u001b[39m=\u001b[39;49mvmax,\n\u001b[1;32m    103\u001b[0m                    transform\u001b[39m=\u001b[39;49mccrs\u001b[39m.\u001b[39;49mPlateCarree(),\n\u001b[1;32m    104\u001b[0m                    linewidth\u001b[39m=\u001b[39;49m\u001b[39m0\u001b[39;49m,\n\u001b[1;32m    105\u001b[0m                    rasterized\u001b[39m=\u001b[39;49m\u001b[39mTrue\u001b[39;49;00m,\n\u001b[1;32m    106\u001b[0m                    \u001b[39m*\u001b[39;49m\u001b[39m*\u001b[39;49mscatter_args)\n\u001b[1;32m    108\u001b[0m \u001b[39mif\u001b[39;00m fig \u001b[39mis\u001b[39;00m \u001b[39mnot\u001b[39;00m \u001b[39mNone\u001b[39;00m:\n\u001b[1;32m    109\u001b[0m     cbar \u001b[39m=\u001b[39m fig\u001b[39m.\u001b[39mcolorbar(s, ax\u001b[39m=\u001b[39max, orientation\u001b[39m=\u001b[39m\u001b[39m'\u001b[39m\u001b[39mhorizontal\u001b[39m\u001b[39m'\u001b[39m, pad\u001b[39m=\u001b[39m\u001b[39m0.03\u001b[39m, fraction\u001b[39m=\u001b[39m\u001b[39m0.03\u001b[39m)\n",
      "File \u001b[0;32m/opt/homebrew/Caskroom/miniforge/base/envs/gpsat2/lib/python3.8/site-packages/cartopy/mpl/geoaxes.py:318\u001b[0m, in \u001b[0;36m_add_transform.<locals>.wrapper\u001b[0;34m(self, *args, **kwargs)\u001b[0m\n\u001b[1;32m    313\u001b[0m     \u001b[39mraise\u001b[39;00m \u001b[39mValueError\u001b[39;00m(\u001b[39mf\u001b[39m\u001b[39m'\u001b[39m\u001b[39mInvalid transform: Spherical \u001b[39m\u001b[39m{\u001b[39;00mfunc\u001b[39m.\u001b[39m\u001b[39m__name__\u001b[39m\u001b[39m}\u001b[39;00m\u001b[39m \u001b[39m\u001b[39m'\u001b[39m\n\u001b[1;32m    314\u001b[0m                      \u001b[39m'\u001b[39m\u001b[39mis not supported - consider using \u001b[39m\u001b[39m'\u001b[39m\n\u001b[1;32m    315\u001b[0m                      \u001b[39m'\u001b[39m\u001b[39mPlateCarree/RotatedPole.\u001b[39m\u001b[39m'\u001b[39m)\n\u001b[1;32m    317\u001b[0m kwargs[\u001b[39m'\u001b[39m\u001b[39mtransform\u001b[39m\u001b[39m'\u001b[39m] \u001b[39m=\u001b[39m transform\n\u001b[0;32m--> 318\u001b[0m \u001b[39mreturn\u001b[39;00m func(\u001b[39mself\u001b[39;49m, \u001b[39m*\u001b[39;49margs, \u001b[39m*\u001b[39;49m\u001b[39m*\u001b[39;49mkwargs)\n",
      "File \u001b[0;32m/opt/homebrew/Caskroom/miniforge/base/envs/gpsat2/lib/python3.8/site-packages/cartopy/mpl/geoaxes.py:1753\u001b[0m, in \u001b[0;36mGeoAxes.scatter\u001b[0;34m(self, *args, **kwargs)\u001b[0m\n\u001b[1;32m   1747\u001b[0m     \u001b[39mraise\u001b[39;00m \u001b[39mValueError\u001b[39;00m(\u001b[39m'\u001b[39m\u001b[39mCartopy cannot currently do spherical \u001b[39m\u001b[39m'\u001b[39m\n\u001b[1;32m   1748\u001b[0m                      \u001b[39m'\u001b[39m\u001b[39mscatter. The source CRS cannot be a \u001b[39m\u001b[39m'\u001b[39m\n\u001b[1;32m   1749\u001b[0m                      \u001b[39m'\u001b[39m\u001b[39mgeodetic, consider using the cyllindrical form \u001b[39m\u001b[39m'\u001b[39m\n\u001b[1;32m   1750\u001b[0m                      \u001b[39m'\u001b[39m\u001b[39m(PlateCarree or RotatedPole).\u001b[39m\u001b[39m'\u001b[39m)\n\u001b[1;32m   1752\u001b[0m result \u001b[39m=\u001b[39m matplotlib\u001b[39m.\u001b[39maxes\u001b[39m.\u001b[39mAxes\u001b[39m.\u001b[39mscatter(\u001b[39mself\u001b[39m, \u001b[39m*\u001b[39margs, \u001b[39m*\u001b[39m\u001b[39m*\u001b[39mkwargs)\n\u001b[0;32m-> 1753\u001b[0m \u001b[39mself\u001b[39;49m\u001b[39m.\u001b[39;49mautoscale_view()\n\u001b[1;32m   1754\u001b[0m \u001b[39mreturn\u001b[39;00m result\n",
      "File \u001b[0;32m/opt/homebrew/Caskroom/miniforge/base/envs/gpsat2/lib/python3.8/site-packages/cartopy/mpl/geoaxes.py:946\u001b[0m, in \u001b[0;36mGeoAxes.autoscale_view\u001b[0;34m(self, tight, scalex, scaley)\u001b[0m\n\u001b[1;32m    943\u001b[0m matplotlib\u001b[39m.\u001b[39maxes\u001b[39m.\u001b[39mAxes\u001b[39m.\u001b[39mautoscale_view(\u001b[39mself\u001b[39m, tight\u001b[39m=\u001b[39mtight,\n\u001b[1;32m    944\u001b[0m                                     scalex\u001b[39m=\u001b[39mscalex, scaley\u001b[39m=\u001b[39mscaley)\n\u001b[1;32m    945\u001b[0m \u001b[39m# Limit the resulting bounds to valid area.\u001b[39;00m\n\u001b[0;32m--> 946\u001b[0m \u001b[39mif\u001b[39;00m scalex \u001b[39mand\u001b[39;00m \u001b[39mself\u001b[39;49m\u001b[39m.\u001b[39;49m_autoscaleXon:\n\u001b[1;32m    947\u001b[0m     bounds \u001b[39m=\u001b[39m \u001b[39mself\u001b[39m\u001b[39m.\u001b[39mget_xbound()\n\u001b[1;32m    948\u001b[0m     \u001b[39mself\u001b[39m\u001b[39m.\u001b[39mset_xbound(\u001b[39mmax\u001b[39m(bounds[\u001b[39m0\u001b[39m], \u001b[39mself\u001b[39m\u001b[39m.\u001b[39mprojection\u001b[39m.\u001b[39mx_limits[\u001b[39m0\u001b[39m]),\n\u001b[1;32m    949\u001b[0m                     \u001b[39mmin\u001b[39m(bounds[\u001b[39m1\u001b[39m], \u001b[39mself\u001b[39m\u001b[39m.\u001b[39mprojection\u001b[39m.\u001b[39mx_limits[\u001b[39m1\u001b[39m]))\n",
      "\u001b[0;31mAttributeError\u001b[0m: 'GeoAxes' object has no attribute '_autoscaleXon'"
     ]
    },
    {
     "name": "stdout",
     "output_type": "stream",
     "text": [
      "Error in callback <function _draw_all_if_interactive at 0x7fb5a0193c10> (for post_execute):\n"
     ]
    },
    {
     "ename": "AttributeError",
     "evalue": "'GeoAxes' object has no attribute '_autoscaleXon'",
     "output_type": "error",
     "traceback": [
      "\u001b[0;31m---------------------------------------------------------------------------\u001b[0m",
      "\u001b[0;31mAttributeError\u001b[0m                            Traceback (most recent call last)",
      "File \u001b[0;32m/opt/homebrew/Caskroom/miniforge/base/envs/gpsat2/lib/python3.8/site-packages/matplotlib/pyplot.py:120\u001b[0m, in \u001b[0;36m_draw_all_if_interactive\u001b[0;34m()\u001b[0m\n\u001b[1;32m    118\u001b[0m \u001b[39mdef\u001b[39;00m \u001b[39m_draw_all_if_interactive\u001b[39m():\n\u001b[1;32m    119\u001b[0m     \u001b[39mif\u001b[39;00m matplotlib\u001b[39m.\u001b[39mis_interactive():\n\u001b[0;32m--> 120\u001b[0m         draw_all()\n",
      "File \u001b[0;32m/opt/homebrew/Caskroom/miniforge/base/envs/gpsat2/lib/python3.8/site-packages/matplotlib/_pylab_helpers.py:132\u001b[0m, in \u001b[0;36mGcf.draw_all\u001b[0;34m(cls, force)\u001b[0m\n\u001b[1;32m    130\u001b[0m \u001b[39mfor\u001b[39;00m manager \u001b[39min\u001b[39;00m \u001b[39mcls\u001b[39m\u001b[39m.\u001b[39mget_all_fig_managers():\n\u001b[1;32m    131\u001b[0m     \u001b[39mif\u001b[39;00m force \u001b[39mor\u001b[39;00m manager\u001b[39m.\u001b[39mcanvas\u001b[39m.\u001b[39mfigure\u001b[39m.\u001b[39mstale:\n\u001b[0;32m--> 132\u001b[0m         manager\u001b[39m.\u001b[39;49mcanvas\u001b[39m.\u001b[39;49mdraw_idle()\n",
      "File \u001b[0;32m/opt/homebrew/Caskroom/miniforge/base/envs/gpsat2/lib/python3.8/site-packages/matplotlib/backend_bases.py:2082\u001b[0m, in \u001b[0;36mFigureCanvasBase.draw_idle\u001b[0;34m(self, *args, **kwargs)\u001b[0m\n\u001b[1;32m   2080\u001b[0m \u001b[39mif\u001b[39;00m \u001b[39mnot\u001b[39;00m \u001b[39mself\u001b[39m\u001b[39m.\u001b[39m_is_idle_drawing:\n\u001b[1;32m   2081\u001b[0m     \u001b[39mwith\u001b[39;00m \u001b[39mself\u001b[39m\u001b[39m.\u001b[39m_idle_draw_cntx():\n\u001b[0;32m-> 2082\u001b[0m         \u001b[39mself\u001b[39;49m\u001b[39m.\u001b[39;49mdraw(\u001b[39m*\u001b[39;49margs, \u001b[39m*\u001b[39;49m\u001b[39m*\u001b[39;49mkwargs)\n",
      "File \u001b[0;32m/opt/homebrew/Caskroom/miniforge/base/envs/gpsat2/lib/python3.8/site-packages/matplotlib/backends/backend_agg.py:400\u001b[0m, in \u001b[0;36mFigureCanvasAgg.draw\u001b[0;34m(self)\u001b[0m\n\u001b[1;32m    396\u001b[0m \u001b[39m# Acquire a lock on the shared font cache.\u001b[39;00m\n\u001b[1;32m    397\u001b[0m \u001b[39mwith\u001b[39;00m RendererAgg\u001b[39m.\u001b[39mlock, \\\n\u001b[1;32m    398\u001b[0m      (\u001b[39mself\u001b[39m\u001b[39m.\u001b[39mtoolbar\u001b[39m.\u001b[39m_wait_cursor_for_draw_cm() \u001b[39mif\u001b[39;00m \u001b[39mself\u001b[39m\u001b[39m.\u001b[39mtoolbar\n\u001b[1;32m    399\u001b[0m       \u001b[39melse\u001b[39;00m nullcontext()):\n\u001b[0;32m--> 400\u001b[0m     \u001b[39mself\u001b[39;49m\u001b[39m.\u001b[39;49mfigure\u001b[39m.\u001b[39;49mdraw(\u001b[39mself\u001b[39;49m\u001b[39m.\u001b[39;49mrenderer)\n\u001b[1;32m    401\u001b[0m     \u001b[39m# A GUI class may be need to update a window using this draw, so\u001b[39;00m\n\u001b[1;32m    402\u001b[0m     \u001b[39m# don't forget to call the superclass.\u001b[39;00m\n\u001b[1;32m    403\u001b[0m     \u001b[39msuper\u001b[39m()\u001b[39m.\u001b[39mdraw()\n",
      "File \u001b[0;32m/opt/homebrew/Caskroom/miniforge/base/envs/gpsat2/lib/python3.8/site-packages/matplotlib/artist.py:95\u001b[0m, in \u001b[0;36m_finalize_rasterization.<locals>.draw_wrapper\u001b[0;34m(artist, renderer, *args, **kwargs)\u001b[0m\n\u001b[1;32m     93\u001b[0m \u001b[39m@wraps\u001b[39m(draw)\n\u001b[1;32m     94\u001b[0m \u001b[39mdef\u001b[39;00m \u001b[39mdraw_wrapper\u001b[39m(artist, renderer, \u001b[39m*\u001b[39margs, \u001b[39m*\u001b[39m\u001b[39m*\u001b[39mkwargs):\n\u001b[0;32m---> 95\u001b[0m     result \u001b[39m=\u001b[39m draw(artist, renderer, \u001b[39m*\u001b[39;49margs, \u001b[39m*\u001b[39;49m\u001b[39m*\u001b[39;49mkwargs)\n\u001b[1;32m     96\u001b[0m     \u001b[39mif\u001b[39;00m renderer\u001b[39m.\u001b[39m_rasterizing:\n\u001b[1;32m     97\u001b[0m         renderer\u001b[39m.\u001b[39mstop_rasterizing()\n",
      "File \u001b[0;32m/opt/homebrew/Caskroom/miniforge/base/envs/gpsat2/lib/python3.8/site-packages/matplotlib/artist.py:72\u001b[0m, in \u001b[0;36mallow_rasterization.<locals>.draw_wrapper\u001b[0;34m(artist, renderer)\u001b[0m\n\u001b[1;32m     69\u001b[0m     \u001b[39mif\u001b[39;00m artist\u001b[39m.\u001b[39mget_agg_filter() \u001b[39mis\u001b[39;00m \u001b[39mnot\u001b[39;00m \u001b[39mNone\u001b[39;00m:\n\u001b[1;32m     70\u001b[0m         renderer\u001b[39m.\u001b[39mstart_filter()\n\u001b[0;32m---> 72\u001b[0m     \u001b[39mreturn\u001b[39;00m draw(artist, renderer)\n\u001b[1;32m     73\u001b[0m \u001b[39mfinally\u001b[39;00m:\n\u001b[1;32m     74\u001b[0m     \u001b[39mif\u001b[39;00m artist\u001b[39m.\u001b[39mget_agg_filter() \u001b[39mis\u001b[39;00m \u001b[39mnot\u001b[39;00m \u001b[39mNone\u001b[39;00m:\n",
      "File \u001b[0;32m/opt/homebrew/Caskroom/miniforge/base/envs/gpsat2/lib/python3.8/site-packages/matplotlib/figure.py:3129\u001b[0m, in \u001b[0;36mFigure.draw\u001b[0;34m(self, renderer)\u001b[0m\n\u001b[1;32m   3126\u001b[0m \u001b[39mif\u001b[39;00m \u001b[39mnot\u001b[39;00m \u001b[39mself\u001b[39m\u001b[39m.\u001b[39mget_visible():\n\u001b[1;32m   3127\u001b[0m     \u001b[39mreturn\u001b[39;00m\n\u001b[0;32m-> 3129\u001b[0m artists \u001b[39m=\u001b[39m \u001b[39mself\u001b[39;49m\u001b[39m.\u001b[39;49m_get_draw_artists(renderer)\n\u001b[1;32m   3130\u001b[0m \u001b[39mtry\u001b[39;00m:\n\u001b[1;32m   3131\u001b[0m     renderer\u001b[39m.\u001b[39mopen_group(\u001b[39m'\u001b[39m\u001b[39mfigure\u001b[39m\u001b[39m'\u001b[39m, gid\u001b[39m=\u001b[39m\u001b[39mself\u001b[39m\u001b[39m.\u001b[39mget_gid())\n",
      "File \u001b[0;32m/opt/homebrew/Caskroom/miniforge/base/envs/gpsat2/lib/python3.8/site-packages/matplotlib/figure.py:221\u001b[0m, in \u001b[0;36mFigureBase._get_draw_artists\u001b[0;34m(self, renderer)\u001b[0m\n\u001b[1;32m    219\u001b[0m \u001b[39mfor\u001b[39;00m ax \u001b[39min\u001b[39;00m \u001b[39mself\u001b[39m\u001b[39m.\u001b[39m_localaxes:\n\u001b[1;32m    220\u001b[0m     locator \u001b[39m=\u001b[39m ax\u001b[39m.\u001b[39mget_axes_locator()\n\u001b[0;32m--> 221\u001b[0m     ax\u001b[39m.\u001b[39;49mapply_aspect(locator(ax, renderer) \u001b[39mif\u001b[39;49;00m locator \u001b[39melse\u001b[39;49;00m \u001b[39mNone\u001b[39;49;00m)\n\u001b[1;32m    223\u001b[0m     \u001b[39mfor\u001b[39;00m child \u001b[39min\u001b[39;00m ax\u001b[39m.\u001b[39mget_children():\n\u001b[1;32m    224\u001b[0m         \u001b[39mif\u001b[39;00m \u001b[39mhasattr\u001b[39m(child, \u001b[39m'\u001b[39m\u001b[39mapply_aspect\u001b[39m\u001b[39m'\u001b[39m):\n",
      "File \u001b[0;32m/opt/homebrew/Caskroom/miniforge/base/envs/gpsat2/lib/python3.8/site-packages/matplotlib/axes/_base.py:1924\u001b[0m, in \u001b[0;36m_AxesBase.apply_aspect\u001b[0;34m(self, position)\u001b[0m\n\u001b[1;32m   1921\u001b[0m \u001b[39mif\u001b[39;00m \u001b[39mself\u001b[39m \u001b[39min\u001b[39;00m \u001b[39mself\u001b[39m\u001b[39m.\u001b[39m_twinned_axes:\n\u001b[1;32m   1922\u001b[0m     \u001b[39mraise\u001b[39;00m \u001b[39mRuntimeError\u001b[39;00m(\u001b[39m\"\u001b[39m\u001b[39mAdjustable \u001b[39m\u001b[39m'\u001b[39m\u001b[39mbox\u001b[39m\u001b[39m'\u001b[39m\u001b[39m is not allowed in a \u001b[39m\u001b[39m\"\u001b[39m\n\u001b[1;32m   1923\u001b[0m                        \u001b[39m\"\u001b[39m\u001b[39mtwinned Axes; use \u001b[39m\u001b[39m'\u001b[39m\u001b[39mdatalim\u001b[39m\u001b[39m'\u001b[39m\u001b[39m instead\u001b[39m\u001b[39m\"\u001b[39m)\n\u001b[0;32m-> 1924\u001b[0m box_aspect \u001b[39m=\u001b[39m aspect \u001b[39m*\u001b[39m \u001b[39mself\u001b[39;49m\u001b[39m.\u001b[39;49mget_data_ratio()\n\u001b[1;32m   1925\u001b[0m pb \u001b[39m=\u001b[39m position\u001b[39m.\u001b[39mfrozen()\n\u001b[1;32m   1926\u001b[0m pb1 \u001b[39m=\u001b[39m pb\u001b[39m.\u001b[39mshrunk_to_aspect(box_aspect, pb, fig_aspect)\n",
      "File \u001b[0;32m/opt/homebrew/Caskroom/miniforge/base/envs/gpsat2/lib/python3.8/site-packages/matplotlib/axes/_base.py:1870\u001b[0m, in \u001b[0;36m_AxesBase.get_data_ratio\u001b[0;34m(self)\u001b[0m\n\u001b[1;32m   1862\u001b[0m \u001b[39mdef\u001b[39;00m \u001b[39mget_data_ratio\u001b[39m(\u001b[39mself\u001b[39m):\n\u001b[1;32m   1863\u001b[0m \u001b[39m    \u001b[39m\u001b[39m\"\"\"\u001b[39;00m\n\u001b[1;32m   1864\u001b[0m \u001b[39m    Return the aspect ratio of the scaled data.\u001b[39;00m\n\u001b[1;32m   1865\u001b[0m \n\u001b[0;32m   (...)\u001b[0m\n\u001b[1;32m   1868\u001b[0m \u001b[39m    This method is intended to be overridden by new projection types.\u001b[39;00m\n\u001b[1;32m   1869\u001b[0m \u001b[39m    \"\"\"\u001b[39;00m\n\u001b[0;32m-> 1870\u001b[0m     txmin, txmax \u001b[39m=\u001b[39m \u001b[39mself\u001b[39m\u001b[39m.\u001b[39mxaxis\u001b[39m.\u001b[39mget_transform()\u001b[39m.\u001b[39mtransform(\u001b[39mself\u001b[39;49m\u001b[39m.\u001b[39;49mget_xbound())\n\u001b[1;32m   1871\u001b[0m     tymin, tymax \u001b[39m=\u001b[39m \u001b[39mself\u001b[39m\u001b[39m.\u001b[39myaxis\u001b[39m.\u001b[39mget_transform()\u001b[39m.\u001b[39mtransform(\u001b[39mself\u001b[39m\u001b[39m.\u001b[39mget_ybound())\n\u001b[1;32m   1872\u001b[0m     xsize \u001b[39m=\u001b[39m \u001b[39mmax\u001b[39m(\u001b[39mabs\u001b[39m(txmax \u001b[39m-\u001b[39m txmin), \u001b[39m1e-30\u001b[39m)\n",
      "File \u001b[0;32m/opt/homebrew/Caskroom/miniforge/base/envs/gpsat2/lib/python3.8/site-packages/matplotlib/axes/_base.py:3496\u001b[0m, in \u001b[0;36m_AxesBase.get_xbound\u001b[0;34m(self)\u001b[0m\n\u001b[1;32m   3486\u001b[0m \u001b[39mdef\u001b[39;00m \u001b[39mget_xbound\u001b[39m(\u001b[39mself\u001b[39m):\n\u001b[1;32m   3487\u001b[0m \u001b[39m    \u001b[39m\u001b[39m\"\"\"\u001b[39;00m\n\u001b[1;32m   3488\u001b[0m \u001b[39m    Return the lower and upper x-axis bounds, in increasing order.\u001b[39;00m\n\u001b[1;32m   3489\u001b[0m \n\u001b[0;32m   (...)\u001b[0m\n\u001b[1;32m   3494\u001b[0m \u001b[39m    invert_xaxis, xaxis_inverted\u001b[39;00m\n\u001b[1;32m   3495\u001b[0m \u001b[39m    \"\"\"\u001b[39;00m\n\u001b[0;32m-> 3496\u001b[0m     left, right \u001b[39m=\u001b[39m \u001b[39mself\u001b[39;49m\u001b[39m.\u001b[39;49mget_xlim()\n\u001b[1;32m   3497\u001b[0m     \u001b[39mif\u001b[39;00m left \u001b[39m<\u001b[39m right:\n\u001b[1;32m   3498\u001b[0m         \u001b[39mreturn\u001b[39;00m left, right\n",
      "File \u001b[0;32m/opt/homebrew/Caskroom/miniforge/base/envs/gpsat2/lib/python3.8/site-packages/matplotlib/axes/_base.py:3554\u001b[0m, in \u001b[0;36m_AxesBase.get_xlim\u001b[0;34m(self)\u001b[0m\n\u001b[1;32m   3534\u001b[0m \u001b[39mdef\u001b[39;00m \u001b[39mget_xlim\u001b[39m(\u001b[39mself\u001b[39m):\n\u001b[1;32m   3535\u001b[0m \u001b[39m    \u001b[39m\u001b[39m\"\"\"\u001b[39;00m\n\u001b[1;32m   3536\u001b[0m \u001b[39m    Return the x-axis view limits.\u001b[39;00m\n\u001b[1;32m   3537\u001b[0m \n\u001b[0;32m   (...)\u001b[0m\n\u001b[1;32m   3552\u001b[0m \u001b[39m    be greater than the *right* value.\u001b[39;00m\n\u001b[1;32m   3553\u001b[0m \u001b[39m    \"\"\"\u001b[39;00m\n\u001b[0;32m-> 3554\u001b[0m     \u001b[39mreturn\u001b[39;00m \u001b[39mtuple\u001b[39m(\u001b[39mself\u001b[39;49m\u001b[39m.\u001b[39;49mviewLim\u001b[39m.\u001b[39mintervalx)\n",
      "File \u001b[0;32m/opt/homebrew/Caskroom/miniforge/base/envs/gpsat2/lib/python3.8/site-packages/matplotlib/axes/_base.py:857\u001b[0m, in \u001b[0;36m_AxesBase.viewLim\u001b[0;34m(self)\u001b[0m\n\u001b[1;32m    855\u001b[0m \u001b[39m@property\u001b[39m\n\u001b[1;32m    856\u001b[0m \u001b[39mdef\u001b[39;00m \u001b[39mviewLim\u001b[39m(\u001b[39mself\u001b[39m):\n\u001b[0;32m--> 857\u001b[0m     \u001b[39mself\u001b[39;49m\u001b[39m.\u001b[39;49m_unstale_viewLim()\n\u001b[1;32m    858\u001b[0m     \u001b[39mreturn\u001b[39;00m \u001b[39mself\u001b[39m\u001b[39m.\u001b[39m_viewLim\n",
      "File \u001b[0;32m/opt/homebrew/Caskroom/miniforge/base/envs/gpsat2/lib/python3.8/site-packages/matplotlib/axes/_base.py:852\u001b[0m, in \u001b[0;36m_AxesBase._unstale_viewLim\u001b[0;34m(self)\u001b[0m\n\u001b[1;32m    850\u001b[0m     \u001b[39mfor\u001b[39;00m ax \u001b[39min\u001b[39;00m \u001b[39mself\u001b[39m\u001b[39m.\u001b[39m_shared_axes[name]\u001b[39m.\u001b[39mget_siblings(\u001b[39mself\u001b[39m):\n\u001b[1;32m    851\u001b[0m         ax\u001b[39m.\u001b[39m_stale_viewlims[name] \u001b[39m=\u001b[39m \u001b[39mFalse\u001b[39;00m\n\u001b[0;32m--> 852\u001b[0m \u001b[39mself\u001b[39;49m\u001b[39m.\u001b[39;49mautoscale_view(\u001b[39m*\u001b[39;49m\u001b[39m*\u001b[39;49m{\u001b[39mf\u001b[39;49m\u001b[39m\"\u001b[39;49m\u001b[39mscale\u001b[39;49m\u001b[39m{\u001b[39;49;00mname\u001b[39m}\u001b[39;49;00m\u001b[39m\"\u001b[39;49m: scale\n\u001b[1;32m    853\u001b[0m                        \u001b[39mfor\u001b[39;49;00m name, scale \u001b[39min\u001b[39;49;00m need_scale\u001b[39m.\u001b[39;49mitems()})\n",
      "File \u001b[0;32m/opt/homebrew/Caskroom/miniforge/base/envs/gpsat2/lib/python3.8/site-packages/cartopy/mpl/geoaxes.py:946\u001b[0m, in \u001b[0;36mGeoAxes.autoscale_view\u001b[0;34m(self, tight, scalex, scaley)\u001b[0m\n\u001b[1;32m    943\u001b[0m matplotlib\u001b[39m.\u001b[39maxes\u001b[39m.\u001b[39mAxes\u001b[39m.\u001b[39mautoscale_view(\u001b[39mself\u001b[39m, tight\u001b[39m=\u001b[39mtight,\n\u001b[1;32m    944\u001b[0m                                     scalex\u001b[39m=\u001b[39mscalex, scaley\u001b[39m=\u001b[39mscaley)\n\u001b[1;32m    945\u001b[0m \u001b[39m# Limit the resulting bounds to valid area.\u001b[39;00m\n\u001b[0;32m--> 946\u001b[0m \u001b[39mif\u001b[39;00m scalex \u001b[39mand\u001b[39;00m \u001b[39mself\u001b[39;49m\u001b[39m.\u001b[39;49m_autoscaleXon:\n\u001b[1;32m    947\u001b[0m     bounds \u001b[39m=\u001b[39m \u001b[39mself\u001b[39m\u001b[39m.\u001b[39mget_xbound()\n\u001b[1;32m    948\u001b[0m     \u001b[39mself\u001b[39m\u001b[39m.\u001b[39mset_xbound(\u001b[39mmax\u001b[39m(bounds[\u001b[39m0\u001b[39m], \u001b[39mself\u001b[39m\u001b[39m.\u001b[39mprojection\u001b[39m.\u001b[39mx_limits[\u001b[39m0\u001b[39m]),\n\u001b[1;32m    949\u001b[0m                     \u001b[39mmin\u001b[39m(bounds[\u001b[39m1\u001b[39m], \u001b[39mself\u001b[39m\u001b[39m.\u001b[39mprojection\u001b[39m.\u001b[39mx_limits[\u001b[39m1\u001b[39m]))\n",
      "\u001b[0;31mAttributeError\u001b[0m: 'GeoAxes' object has no attribute '_autoscaleXon'"
     ]
    },
    {
     "ename": "AttributeError",
     "evalue": "'GeoAxes' object has no attribute '_autoscaleXon'",
     "output_type": "error",
     "traceback": [
      "\u001b[0;31m---------------------------------------------------------------------------\u001b[0m",
      "\u001b[0;31mAttributeError\u001b[0m                            Traceback (most recent call last)",
      "File \u001b[0;32m/opt/homebrew/Caskroom/miniforge/base/envs/gpsat2/lib/python3.8/site-packages/IPython/core/formatters.py:340\u001b[0m, in \u001b[0;36mBaseFormatter.__call__\u001b[0;34m(self, obj)\u001b[0m\n\u001b[1;32m    338\u001b[0m     \u001b[39mpass\u001b[39;00m\n\u001b[1;32m    339\u001b[0m \u001b[39melse\u001b[39;00m:\n\u001b[0;32m--> 340\u001b[0m     \u001b[39mreturn\u001b[39;00m printer(obj)\n\u001b[1;32m    341\u001b[0m \u001b[39m# Finally look for special method names\u001b[39;00m\n\u001b[1;32m    342\u001b[0m method \u001b[39m=\u001b[39m get_real_method(obj, \u001b[39mself\u001b[39m\u001b[39m.\u001b[39mprint_method)\n",
      "File \u001b[0;32m/opt/homebrew/Caskroom/miniforge/base/envs/gpsat2/lib/python3.8/site-packages/IPython/core/pylabtools.py:152\u001b[0m, in \u001b[0;36mprint_figure\u001b[0;34m(fig, fmt, bbox_inches, base64, **kwargs)\u001b[0m\n\u001b[1;32m    149\u001b[0m     \u001b[39mfrom\u001b[39;00m \u001b[39mmatplotlib\u001b[39;00m\u001b[39m.\u001b[39;00m\u001b[39mbackend_bases\u001b[39;00m \u001b[39mimport\u001b[39;00m FigureCanvasBase\n\u001b[1;32m    150\u001b[0m     FigureCanvasBase(fig)\n\u001b[0;32m--> 152\u001b[0m fig\u001b[39m.\u001b[39;49mcanvas\u001b[39m.\u001b[39;49mprint_figure(bytes_io, \u001b[39m*\u001b[39;49m\u001b[39m*\u001b[39;49mkw)\n\u001b[1;32m    153\u001b[0m data \u001b[39m=\u001b[39m bytes_io\u001b[39m.\u001b[39mgetvalue()\n\u001b[1;32m    154\u001b[0m \u001b[39mif\u001b[39;00m fmt \u001b[39m==\u001b[39m \u001b[39m'\u001b[39m\u001b[39msvg\u001b[39m\u001b[39m'\u001b[39m:\n",
      "File \u001b[0;32m/opt/homebrew/Caskroom/miniforge/base/envs/gpsat2/lib/python3.8/site-packages/matplotlib/backend_bases.py:2342\u001b[0m, in \u001b[0;36mFigureCanvasBase.print_figure\u001b[0;34m(self, filename, dpi, facecolor, edgecolor, orientation, format, bbox_inches, pad_inches, bbox_extra_artists, backend, **kwargs)\u001b[0m\n\u001b[1;32m   2336\u001b[0m     renderer \u001b[39m=\u001b[39m _get_renderer(\n\u001b[1;32m   2337\u001b[0m         \u001b[39mself\u001b[39m\u001b[39m.\u001b[39mfigure,\n\u001b[1;32m   2338\u001b[0m         functools\u001b[39m.\u001b[39mpartial(\n\u001b[1;32m   2339\u001b[0m             print_method, orientation\u001b[39m=\u001b[39morientation)\n\u001b[1;32m   2340\u001b[0m     )\n\u001b[1;32m   2341\u001b[0m     \u001b[39mwith\u001b[39;00m \u001b[39mgetattr\u001b[39m(renderer, \u001b[39m\"\u001b[39m\u001b[39m_draw_disabled\u001b[39m\u001b[39m\"\u001b[39m, nullcontext)():\n\u001b[0;32m-> 2342\u001b[0m         \u001b[39mself\u001b[39;49m\u001b[39m.\u001b[39;49mfigure\u001b[39m.\u001b[39;49mdraw(renderer)\n\u001b[1;32m   2344\u001b[0m \u001b[39mif\u001b[39;00m bbox_inches:\n\u001b[1;32m   2345\u001b[0m     \u001b[39mif\u001b[39;00m bbox_inches \u001b[39m==\u001b[39m \u001b[39m\"\u001b[39m\u001b[39mtight\u001b[39m\u001b[39m\"\u001b[39m:\n",
      "File \u001b[0;32m/opt/homebrew/Caskroom/miniforge/base/envs/gpsat2/lib/python3.8/site-packages/matplotlib/artist.py:95\u001b[0m, in \u001b[0;36m_finalize_rasterization.<locals>.draw_wrapper\u001b[0;34m(artist, renderer, *args, **kwargs)\u001b[0m\n\u001b[1;32m     93\u001b[0m \u001b[39m@wraps\u001b[39m(draw)\n\u001b[1;32m     94\u001b[0m \u001b[39mdef\u001b[39;00m \u001b[39mdraw_wrapper\u001b[39m(artist, renderer, \u001b[39m*\u001b[39margs, \u001b[39m*\u001b[39m\u001b[39m*\u001b[39mkwargs):\n\u001b[0;32m---> 95\u001b[0m     result \u001b[39m=\u001b[39m draw(artist, renderer, \u001b[39m*\u001b[39;49margs, \u001b[39m*\u001b[39;49m\u001b[39m*\u001b[39;49mkwargs)\n\u001b[1;32m     96\u001b[0m     \u001b[39mif\u001b[39;00m renderer\u001b[39m.\u001b[39m_rasterizing:\n\u001b[1;32m     97\u001b[0m         renderer\u001b[39m.\u001b[39mstop_rasterizing()\n",
      "File \u001b[0;32m/opt/homebrew/Caskroom/miniforge/base/envs/gpsat2/lib/python3.8/site-packages/matplotlib/artist.py:72\u001b[0m, in \u001b[0;36mallow_rasterization.<locals>.draw_wrapper\u001b[0;34m(artist, renderer)\u001b[0m\n\u001b[1;32m     69\u001b[0m     \u001b[39mif\u001b[39;00m artist\u001b[39m.\u001b[39mget_agg_filter() \u001b[39mis\u001b[39;00m \u001b[39mnot\u001b[39;00m \u001b[39mNone\u001b[39;00m:\n\u001b[1;32m     70\u001b[0m         renderer\u001b[39m.\u001b[39mstart_filter()\n\u001b[0;32m---> 72\u001b[0m     \u001b[39mreturn\u001b[39;00m draw(artist, renderer)\n\u001b[1;32m     73\u001b[0m \u001b[39mfinally\u001b[39;00m:\n\u001b[1;32m     74\u001b[0m     \u001b[39mif\u001b[39;00m artist\u001b[39m.\u001b[39mget_agg_filter() \u001b[39mis\u001b[39;00m \u001b[39mnot\u001b[39;00m \u001b[39mNone\u001b[39;00m:\n",
      "File \u001b[0;32m/opt/homebrew/Caskroom/miniforge/base/envs/gpsat2/lib/python3.8/site-packages/matplotlib/figure.py:3140\u001b[0m, in \u001b[0;36mFigure.draw\u001b[0;34m(self, renderer)\u001b[0m\n\u001b[1;32m   3137\u001b[0m         \u001b[39m# ValueError can occur when resizing a window.\u001b[39;00m\n\u001b[1;32m   3139\u001b[0m \u001b[39mself\u001b[39m\u001b[39m.\u001b[39mpatch\u001b[39m.\u001b[39mdraw(renderer)\n\u001b[0;32m-> 3140\u001b[0m mimage\u001b[39m.\u001b[39;49m_draw_list_compositing_images(\n\u001b[1;32m   3141\u001b[0m     renderer, \u001b[39mself\u001b[39;49m, artists, \u001b[39mself\u001b[39;49m\u001b[39m.\u001b[39;49msuppressComposite)\n\u001b[1;32m   3143\u001b[0m \u001b[39mfor\u001b[39;00m sfig \u001b[39min\u001b[39;00m \u001b[39mself\u001b[39m\u001b[39m.\u001b[39msubfigs:\n\u001b[1;32m   3144\u001b[0m     sfig\u001b[39m.\u001b[39mdraw(renderer)\n",
      "File \u001b[0;32m/opt/homebrew/Caskroom/miniforge/base/envs/gpsat2/lib/python3.8/site-packages/matplotlib/image.py:131\u001b[0m, in \u001b[0;36m_draw_list_compositing_images\u001b[0;34m(renderer, parent, artists, suppress_composite)\u001b[0m\n\u001b[1;32m    129\u001b[0m \u001b[39mif\u001b[39;00m not_composite \u001b[39mor\u001b[39;00m \u001b[39mnot\u001b[39;00m has_images:\n\u001b[1;32m    130\u001b[0m     \u001b[39mfor\u001b[39;00m a \u001b[39min\u001b[39;00m artists:\n\u001b[0;32m--> 131\u001b[0m         a\u001b[39m.\u001b[39;49mdraw(renderer)\n\u001b[1;32m    132\u001b[0m \u001b[39melse\u001b[39;00m:\n\u001b[1;32m    133\u001b[0m     \u001b[39m# Composite any adjacent images together\u001b[39;00m\n\u001b[1;32m    134\u001b[0m     image_group \u001b[39m=\u001b[39m []\n",
      "File \u001b[0;32m/opt/homebrew/Caskroom/miniforge/base/envs/gpsat2/lib/python3.8/site-packages/matplotlib/artist.py:72\u001b[0m, in \u001b[0;36mallow_rasterization.<locals>.draw_wrapper\u001b[0;34m(artist, renderer)\u001b[0m\n\u001b[1;32m     69\u001b[0m     \u001b[39mif\u001b[39;00m artist\u001b[39m.\u001b[39mget_agg_filter() \u001b[39mis\u001b[39;00m \u001b[39mnot\u001b[39;00m \u001b[39mNone\u001b[39;00m:\n\u001b[1;32m     70\u001b[0m         renderer\u001b[39m.\u001b[39mstart_filter()\n\u001b[0;32m---> 72\u001b[0m     \u001b[39mreturn\u001b[39;00m draw(artist, renderer)\n\u001b[1;32m     73\u001b[0m \u001b[39mfinally\u001b[39;00m:\n\u001b[1;32m     74\u001b[0m     \u001b[39mif\u001b[39;00m artist\u001b[39m.\u001b[39mget_agg_filter() \u001b[39mis\u001b[39;00m \u001b[39mnot\u001b[39;00m \u001b[39mNone\u001b[39;00m:\n",
      "File \u001b[0;32m/opt/homebrew/Caskroom/miniforge/base/envs/gpsat2/lib/python3.8/site-packages/cartopy/mpl/geoaxes.py:558\u001b[0m, in \u001b[0;36mGeoAxes.draw\u001b[0;34m(self, renderer, **kwargs)\u001b[0m\n\u001b[1;32m    553\u001b[0m         \u001b[39mself\u001b[39m\u001b[39m.\u001b[39mimshow(img, extent\u001b[39m=\u001b[39mextent, origin\u001b[39m=\u001b[39morigin,\n\u001b[1;32m    554\u001b[0m                     transform\u001b[39m=\u001b[39mfactory\u001b[39m.\u001b[39mcrs, \u001b[39m*\u001b[39mfactory_args[\u001b[39m1\u001b[39m:],\n\u001b[1;32m    555\u001b[0m                     \u001b[39m*\u001b[39m\u001b[39m*\u001b[39mfactory_kwargs)\n\u001b[1;32m    556\u001b[0m \u001b[39mself\u001b[39m\u001b[39m.\u001b[39m_done_img_factory \u001b[39m=\u001b[39m \u001b[39mTrue\u001b[39;00m\n\u001b[0;32m--> 558\u001b[0m \u001b[39mreturn\u001b[39;00m matplotlib\u001b[39m.\u001b[39;49maxes\u001b[39m.\u001b[39;49mAxes\u001b[39m.\u001b[39;49mdraw(\u001b[39mself\u001b[39;49m, renderer\u001b[39m=\u001b[39;49mrenderer, \u001b[39m*\u001b[39;49m\u001b[39m*\u001b[39;49mkwargs)\n",
      "File \u001b[0;32m/opt/homebrew/Caskroom/miniforge/base/envs/gpsat2/lib/python3.8/site-packages/matplotlib/artist.py:72\u001b[0m, in \u001b[0;36mallow_rasterization.<locals>.draw_wrapper\u001b[0;34m(artist, renderer)\u001b[0m\n\u001b[1;32m     69\u001b[0m     \u001b[39mif\u001b[39;00m artist\u001b[39m.\u001b[39mget_agg_filter() \u001b[39mis\u001b[39;00m \u001b[39mnot\u001b[39;00m \u001b[39mNone\u001b[39;00m:\n\u001b[1;32m     70\u001b[0m         renderer\u001b[39m.\u001b[39mstart_filter()\n\u001b[0;32m---> 72\u001b[0m     \u001b[39mreturn\u001b[39;00m draw(artist, renderer)\n\u001b[1;32m     73\u001b[0m \u001b[39mfinally\u001b[39;00m:\n\u001b[1;32m     74\u001b[0m     \u001b[39mif\u001b[39;00m artist\u001b[39m.\u001b[39mget_agg_filter() \u001b[39mis\u001b[39;00m \u001b[39mnot\u001b[39;00m \u001b[39mNone\u001b[39;00m:\n",
      "File \u001b[0;32m/opt/homebrew/Caskroom/miniforge/base/envs/gpsat2/lib/python3.8/site-packages/matplotlib/axes/_base.py:3064\u001b[0m, in \u001b[0;36m_AxesBase.draw\u001b[0;34m(self, renderer)\u001b[0m\n\u001b[1;32m   3061\u001b[0m \u001b[39mif\u001b[39;00m artists_rasterized:\n\u001b[1;32m   3062\u001b[0m     _draw_rasterized(\u001b[39mself\u001b[39m\u001b[39m.\u001b[39mfigure, artists_rasterized, renderer)\n\u001b[0;32m-> 3064\u001b[0m mimage\u001b[39m.\u001b[39;49m_draw_list_compositing_images(\n\u001b[1;32m   3065\u001b[0m     renderer, \u001b[39mself\u001b[39;49m, artists, \u001b[39mself\u001b[39;49m\u001b[39m.\u001b[39;49mfigure\u001b[39m.\u001b[39;49msuppressComposite)\n\u001b[1;32m   3067\u001b[0m renderer\u001b[39m.\u001b[39mclose_group(\u001b[39m'\u001b[39m\u001b[39maxes\u001b[39m\u001b[39m'\u001b[39m)\n\u001b[1;32m   3068\u001b[0m \u001b[39mself\u001b[39m\u001b[39m.\u001b[39mstale \u001b[39m=\u001b[39m \u001b[39mFalse\u001b[39;00m\n",
      "File \u001b[0;32m/opt/homebrew/Caskroom/miniforge/base/envs/gpsat2/lib/python3.8/site-packages/matplotlib/image.py:131\u001b[0m, in \u001b[0;36m_draw_list_compositing_images\u001b[0;34m(renderer, parent, artists, suppress_composite)\u001b[0m\n\u001b[1;32m    129\u001b[0m \u001b[39mif\u001b[39;00m not_composite \u001b[39mor\u001b[39;00m \u001b[39mnot\u001b[39;00m has_images:\n\u001b[1;32m    130\u001b[0m     \u001b[39mfor\u001b[39;00m a \u001b[39min\u001b[39;00m artists:\n\u001b[0;32m--> 131\u001b[0m         a\u001b[39m.\u001b[39;49mdraw(renderer)\n\u001b[1;32m    132\u001b[0m \u001b[39melse\u001b[39;00m:\n\u001b[1;32m    133\u001b[0m     \u001b[39m# Composite any adjacent images together\u001b[39;00m\n\u001b[1;32m    134\u001b[0m     image_group \u001b[39m=\u001b[39m []\n",
      "File \u001b[0;32m/opt/homebrew/Caskroom/miniforge/base/envs/gpsat2/lib/python3.8/site-packages/matplotlib/artist.py:72\u001b[0m, in \u001b[0;36mallow_rasterization.<locals>.draw_wrapper\u001b[0;34m(artist, renderer)\u001b[0m\n\u001b[1;32m     69\u001b[0m     \u001b[39mif\u001b[39;00m artist\u001b[39m.\u001b[39mget_agg_filter() \u001b[39mis\u001b[39;00m \u001b[39mnot\u001b[39;00m \u001b[39mNone\u001b[39;00m:\n\u001b[1;32m     70\u001b[0m         renderer\u001b[39m.\u001b[39mstart_filter()\n\u001b[0;32m---> 72\u001b[0m     \u001b[39mreturn\u001b[39;00m draw(artist, renderer)\n\u001b[1;32m     73\u001b[0m \u001b[39mfinally\u001b[39;00m:\n\u001b[1;32m     74\u001b[0m     \u001b[39mif\u001b[39;00m artist\u001b[39m.\u001b[39mget_agg_filter() \u001b[39mis\u001b[39;00m \u001b[39mnot\u001b[39;00m \u001b[39mNone\u001b[39;00m:\n",
      "File \u001b[0;32m/opt/homebrew/Caskroom/miniforge/base/envs/gpsat2/lib/python3.8/site-packages/cartopy/mpl/feature_artist.py:147\u001b[0m, in \u001b[0;36mFeatureArtist.draw\u001b[0;34m(self, renderer, *args, **kwargs)\u001b[0m\n\u001b[1;32m    145\u001b[0m extent \u001b[39m=\u001b[39m \u001b[39mNone\u001b[39;00m\n\u001b[1;32m    146\u001b[0m \u001b[39mtry\u001b[39;00m:\n\u001b[0;32m--> 147\u001b[0m     extent \u001b[39m=\u001b[39m ax\u001b[39m.\u001b[39;49mget_extent(feature_crs)\n\u001b[1;32m    148\u001b[0m \u001b[39mexcept\u001b[39;00m \u001b[39mValueError\u001b[39;00m:\n\u001b[1;32m    149\u001b[0m     warnings\u001b[39m.\u001b[39mwarn(\u001b[39m'\u001b[39m\u001b[39mUnable to determine extent. Defaulting to global.\u001b[39m\u001b[39m'\u001b[39m)\n",
      "File \u001b[0;32m/opt/homebrew/Caskroom/miniforge/base/envs/gpsat2/lib/python3.8/site-packages/cartopy/mpl/geoaxes.py:814\u001b[0m, in \u001b[0;36mGeoAxes.get_extent\u001b[0;34m(self, crs)\u001b[0m\n\u001b[1;32m    805\u001b[0m \u001b[39mdef\u001b[39;00m \u001b[39mget_extent\u001b[39m(\u001b[39mself\u001b[39m, crs\u001b[39m=\u001b[39m\u001b[39mNone\u001b[39;00m):\n\u001b[1;32m    806\u001b[0m \u001b[39m    \u001b[39m\u001b[39m\"\"\"\u001b[39;00m\n\u001b[1;32m    807\u001b[0m \u001b[39m    Get the extent (x0, x1, y0, y1) of the map in the given coordinate\u001b[39;00m\n\u001b[1;32m    808\u001b[0m \u001b[39m    system.\u001b[39;00m\n\u001b[0;32m   (...)\u001b[0m\n\u001b[1;32m    812\u001b[0m \n\u001b[1;32m    813\u001b[0m \u001b[39m    \"\"\"\u001b[39;00m\n\u001b[0;32m--> 814\u001b[0m     p \u001b[39m=\u001b[39m \u001b[39mself\u001b[39;49m\u001b[39m.\u001b[39;49m_get_extent_geom(crs)\n\u001b[1;32m    815\u001b[0m     r \u001b[39m=\u001b[39m p\u001b[39m.\u001b[39mbounds\n\u001b[1;32m    816\u001b[0m     x1, y1, x2, y2 \u001b[39m=\u001b[39m r\n",
      "File \u001b[0;32m/opt/homebrew/Caskroom/miniforge/base/envs/gpsat2/lib/python3.8/site-packages/cartopy/mpl/geoaxes.py:821\u001b[0m, in \u001b[0;36mGeoAxes._get_extent_geom\u001b[0;34m(self, crs)\u001b[0m\n\u001b[1;32m    819\u001b[0m \u001b[39mdef\u001b[39;00m \u001b[39m_get_extent_geom\u001b[39m(\u001b[39mself\u001b[39m, crs\u001b[39m=\u001b[39m\u001b[39mNone\u001b[39;00m):\n\u001b[1;32m    820\u001b[0m     \u001b[39m# Perform the calculations for get_extent(), which just repackages it.\u001b[39;00m\n\u001b[0;32m--> 821\u001b[0m     \u001b[39mwith\u001b[39;00m \u001b[39mself\u001b[39m\u001b[39m.\u001b[39mhold_limits():\n\u001b[1;32m    822\u001b[0m         \u001b[39mif\u001b[39;00m \u001b[39mself\u001b[39m\u001b[39m.\u001b[39mget_autoscale_on():\n\u001b[1;32m    823\u001b[0m             \u001b[39mself\u001b[39m\u001b[39m.\u001b[39mautoscale_view()\n",
      "File \u001b[0;32m/opt/homebrew/Caskroom/miniforge/base/envs/gpsat2/lib/python3.8/contextlib.py:113\u001b[0m, in \u001b[0;36m_GeneratorContextManager.__enter__\u001b[0;34m(self)\u001b[0m\n\u001b[1;32m    111\u001b[0m \u001b[39mdel\u001b[39;00m \u001b[39mself\u001b[39m\u001b[39m.\u001b[39margs, \u001b[39mself\u001b[39m\u001b[39m.\u001b[39mkwds, \u001b[39mself\u001b[39m\u001b[39m.\u001b[39mfunc\n\u001b[1;32m    112\u001b[0m \u001b[39mtry\u001b[39;00m:\n\u001b[0;32m--> 113\u001b[0m     \u001b[39mreturn\u001b[39;00m \u001b[39mnext\u001b[39;49m(\u001b[39mself\u001b[39;49m\u001b[39m.\u001b[39;49mgen)\n\u001b[1;32m    114\u001b[0m \u001b[39mexcept\u001b[39;00m \u001b[39mStopIteration\u001b[39;00m:\n\u001b[1;32m    115\u001b[0m     \u001b[39mraise\u001b[39;00m \u001b[39mRuntimeError\u001b[39;00m(\u001b[39m\"\u001b[39m\u001b[39mgenerator didn\u001b[39m\u001b[39m'\u001b[39m\u001b[39mt yield\u001b[39m\u001b[39m\"\u001b[39m) \u001b[39mfrom\u001b[39;00m \u001b[39mNone\u001b[39;00m\n",
      "File \u001b[0;32m/opt/homebrew/Caskroom/miniforge/base/envs/gpsat2/lib/python3.8/site-packages/cartopy/mpl/geoaxes.py:491\u001b[0m, in \u001b[0;36mGeoAxes.hold_limits\u001b[0;34m(self, hold)\u001b[0m\n\u001b[1;32m    488\u001b[0m data_lim \u001b[39m=\u001b[39m \u001b[39mself\u001b[39m\u001b[39m.\u001b[39mdataLim\u001b[39m.\u001b[39mfrozen()\u001b[39m.\u001b[39mget_points()\n\u001b[1;32m    489\u001b[0m view_lim \u001b[39m=\u001b[39m \u001b[39mself\u001b[39m\u001b[39m.\u001b[39mviewLim\u001b[39m.\u001b[39mfrozen()\u001b[39m.\u001b[39mget_points()\n\u001b[1;32m    490\u001b[0m other \u001b[39m=\u001b[39m (\u001b[39mself\u001b[39m\u001b[39m.\u001b[39mignore_existing_data_limits,\n\u001b[0;32m--> 491\u001b[0m          \u001b[39mself\u001b[39;49m\u001b[39m.\u001b[39;49m_autoscaleXon, \u001b[39mself\u001b[39m\u001b[39m.\u001b[39m_autoscaleYon)\n\u001b[1;32m    492\u001b[0m \u001b[39mtry\u001b[39;00m:\n\u001b[1;32m    493\u001b[0m     \u001b[39myield\u001b[39;00m\n",
      "\u001b[0;31mAttributeError\u001b[0m: 'GeoAxes' object has no attribute '_autoscaleXon'"
     ]
    },
    {
     "data": {
      "text/plain": [
       "<Figure size 1200x1200 with 1 Axes>"
      ]
     },
     "metadata": {},
     "output_type": "display_data"
    }
   ],
   "source": [
    "\n",
    "eloc['lon'], eloc['lat'] = EASE2toWGS84_New(eloc['x'], eloc['y'])\n",
    "\n",
    "\n",
    "fig = plt.figure(figsize=(12, 12))\n",
    "ax = fig.add_subplot(1, 1, 1, projection=get_projection('north'))\n",
    "\n",
    "plot_pcolormesh(ax=ax,\n",
    "                lon=eloc['lon'],\n",
    "                lat=eloc['lat'],\n",
    "                plot_data=eloc['t'],\n",
    "                title=\"expert locations\",\n",
    "                scatter=True,\n",
    "                s=20,\n",
    "                extent=[-180, 180, 60, 90])\n",
    "\n",
    "plt.tight_layout()\n",
    "plt.show()"
   ]
  },
  {
   "cell_type": "markdown",
   "metadata": {
    "collapsed": false
   },
   "source": [
    "prediction locations"
   ]
  },
  {
   "cell_type": "code",
   "execution_count": 7,
   "metadata": {
    "ExecuteTime": {
     "end_time": "2023-06-07T10:06:27.531316179Z",
     "start_time": "2023-06-07T10:06:27.515037464Z"
    },
    "collapsed": false
   },
   "outputs": [],
   "source": [
    "\n",
    "# - spaced every 5km\n",
    "xy_grid = grid_2d_flatten(x_range=[-500000.0, 500000.0],\n",
    "                          y_range=[-500000.0, 500000.0],\n",
    "                          step_size=5_000)\n",
    "\n",
    "# store in dataframe\n",
    "# NOTE: the missing 't' coordinate will be determine by the expert location\n",
    "# - alternatively the prediction location can be specified\n",
    "ploc = pd.DataFrame(xy_grid, columns=['x', 'y'])\n",
    "\n"
   ]
  },
  {
   "cell_type": "markdown",
   "metadata": {
    "collapsed": false
   },
   "source": []
  },
  {
   "cell_type": "markdown",
   "metadata": {
    "collapsed": false
   },
   "source": [
    "plot prediction locations"
   ]
  },
  {
   "cell_type": "code",
   "execution_count": 8,
   "metadata": {
    "ExecuteTime": {
     "end_time": "2023-06-07T10:06:23.068034594Z",
     "start_time": "2023-06-07T10:06:22.717190321Z"
    },
    "collapsed": false
   },
   "outputs": [
    {
     "ename": "AttributeError",
     "evalue": "'GeoAxes' object has no attribute '_autoscaleXon'",
     "output_type": "error",
     "traceback": [
      "\u001b[0;31m---------------------------------------------------------------------------\u001b[0m",
      "\u001b[0;31mAttributeError\u001b[0m                            Traceback (most recent call last)",
      "Cell \u001b[0;32mIn[8], line 7\u001b[0m\n\u001b[1;32m      4\u001b[0m fig \u001b[39m=\u001b[39m plt\u001b[39m.\u001b[39mfigure(figsize\u001b[39m=\u001b[39m(\u001b[39m12\u001b[39m, \u001b[39m12\u001b[39m))\n\u001b[1;32m      5\u001b[0m ax \u001b[39m=\u001b[39m fig\u001b[39m.\u001b[39madd_subplot(\u001b[39m1\u001b[39m, \u001b[39m1\u001b[39m, \u001b[39m1\u001b[39m, projection\u001b[39m=\u001b[39mget_projection(\u001b[39m'\u001b[39m\u001b[39mnorth\u001b[39m\u001b[39m'\u001b[39m))\n\u001b[0;32m----> 7\u001b[0m plot_pcolormesh(ax\u001b[39m=\u001b[39;49max,\n\u001b[1;32m      8\u001b[0m                 lon\u001b[39m=\u001b[39;49mploc[\u001b[39m'\u001b[39;49m\u001b[39mlon\u001b[39;49m\u001b[39m'\u001b[39;49m],\n\u001b[1;32m      9\u001b[0m                 lat\u001b[39m=\u001b[39;49mploc[\u001b[39m'\u001b[39;49m\u001b[39mlat\u001b[39;49m\u001b[39m'\u001b[39;49m],\n\u001b[1;32m     10\u001b[0m                 plot_data\u001b[39m=\u001b[39;49mnp\u001b[39m.\u001b[39;49mfull(\u001b[39mlen\u001b[39;49m(ploc), \u001b[39m1.0\u001b[39;49m), \u001b[39m#np.arange(len(ploc)),\u001b[39;49;00m\n\u001b[1;32m     11\u001b[0m                 title\u001b[39m=\u001b[39;49m\u001b[39m\"\u001b[39;49m\u001b[39mprediction locations\u001b[39;49m\u001b[39m\"\u001b[39;49m,\n\u001b[1;32m     12\u001b[0m                 scatter\u001b[39m=\u001b[39;49m\u001b[39mTrue\u001b[39;49;00m,\n\u001b[1;32m     13\u001b[0m                 s\u001b[39m=\u001b[39;49m\u001b[39m0.1\u001b[39;49m,\n\u001b[1;32m     14\u001b[0m                 extent\u001b[39m=\u001b[39;49m[\u001b[39m-\u001b[39;49m\u001b[39m180\u001b[39;49m, \u001b[39m180\u001b[39;49m, \u001b[39m60\u001b[39;49m, \u001b[39m90\u001b[39;49m])\n\u001b[1;32m     16\u001b[0m plt\u001b[39m.\u001b[39mtight_layout()\n\u001b[1;32m     17\u001b[0m plt\u001b[39m.\u001b[39mshow()\n",
      "File \u001b[0;32m~/Dropbox/Mac/Documents/GPSat/GPSat/decorators.py:37\u001b[0m, in \u001b[0;36mtimer.<locals>.caller\u001b[0;34m(*args, **kwargs)\u001b[0m\n\u001b[1;32m     34\u001b[0m \u001b[39m@wraps\u001b[39m(func)\n\u001b[1;32m     35\u001b[0m \u001b[39mdef\u001b[39;00m \u001b[39mcaller\u001b[39m(\u001b[39m*\u001b[39margs, \u001b[39m*\u001b[39m\u001b[39m*\u001b[39mkwargs):\n\u001b[1;32m     36\u001b[0m     t0 \u001b[39m=\u001b[39m time\u001b[39m.\u001b[39mperf_counter()\n\u001b[0;32m---> 37\u001b[0m     result \u001b[39m=\u001b[39m func(\u001b[39m*\u001b[39;49margs, \u001b[39m*\u001b[39;49m\u001b[39m*\u001b[39;49mkwargs)\n\u001b[1;32m     38\u001b[0m     t1 \u001b[39m=\u001b[39m time\u001b[39m.\u001b[39mperf_counter()\n\u001b[1;32m     39\u001b[0m     \u001b[39m# TODO: could check kwargs for verbose and decide not print\u001b[39;00m\n",
      "File \u001b[0;32m~/Dropbox/Mac/Documents/GPSat/GPSat/plot_utils.py:98\u001b[0m, in \u001b[0;36mplot_pcolormesh\u001b[0;34m(ax, lon, lat, plot_data, fig, title, vmin, vmax, qvmin, qvmax, cmap, cbar_label, scatter, extent, ocean_only, **scatter_args)\u001b[0m\n\u001b[1;32m     96\u001b[0m \u001b[39melse\u001b[39;00m:\n\u001b[1;32m     97\u001b[0m     non_nan \u001b[39m=\u001b[39m \u001b[39m~\u001b[39mnp\u001b[39m.\u001b[39misnan(plot_data)\n\u001b[0;32m---> 98\u001b[0m     s \u001b[39m=\u001b[39m ax\u001b[39m.\u001b[39;49mscatter(lon[non_nan],\n\u001b[1;32m     99\u001b[0m                    lat[non_nan],\n\u001b[1;32m    100\u001b[0m                    c\u001b[39m=\u001b[39;49mplot_data[non_nan],\n\u001b[1;32m    101\u001b[0m                    cmap\u001b[39m=\u001b[39;49mcmap,\n\u001b[1;32m    102\u001b[0m                    vmin\u001b[39m=\u001b[39;49mvmin, vmax\u001b[39m=\u001b[39;49mvmax,\n\u001b[1;32m    103\u001b[0m                    transform\u001b[39m=\u001b[39;49mccrs\u001b[39m.\u001b[39;49mPlateCarree(),\n\u001b[1;32m    104\u001b[0m                    linewidth\u001b[39m=\u001b[39;49m\u001b[39m0\u001b[39;49m,\n\u001b[1;32m    105\u001b[0m                    rasterized\u001b[39m=\u001b[39;49m\u001b[39mTrue\u001b[39;49;00m,\n\u001b[1;32m    106\u001b[0m                    \u001b[39m*\u001b[39;49m\u001b[39m*\u001b[39;49mscatter_args)\n\u001b[1;32m    108\u001b[0m \u001b[39mif\u001b[39;00m fig \u001b[39mis\u001b[39;00m \u001b[39mnot\u001b[39;00m \u001b[39mNone\u001b[39;00m:\n\u001b[1;32m    109\u001b[0m     cbar \u001b[39m=\u001b[39m fig\u001b[39m.\u001b[39mcolorbar(s, ax\u001b[39m=\u001b[39max, orientation\u001b[39m=\u001b[39m\u001b[39m'\u001b[39m\u001b[39mhorizontal\u001b[39m\u001b[39m'\u001b[39m, pad\u001b[39m=\u001b[39m\u001b[39m0.03\u001b[39m, fraction\u001b[39m=\u001b[39m\u001b[39m0.03\u001b[39m)\n",
      "File \u001b[0;32m/opt/homebrew/Caskroom/miniforge/base/envs/gpsat2/lib/python3.8/site-packages/cartopy/mpl/geoaxes.py:318\u001b[0m, in \u001b[0;36m_add_transform.<locals>.wrapper\u001b[0;34m(self, *args, **kwargs)\u001b[0m\n\u001b[1;32m    313\u001b[0m     \u001b[39mraise\u001b[39;00m \u001b[39mValueError\u001b[39;00m(\u001b[39mf\u001b[39m\u001b[39m'\u001b[39m\u001b[39mInvalid transform: Spherical \u001b[39m\u001b[39m{\u001b[39;00mfunc\u001b[39m.\u001b[39m\u001b[39m__name__\u001b[39m\u001b[39m}\u001b[39;00m\u001b[39m \u001b[39m\u001b[39m'\u001b[39m\n\u001b[1;32m    314\u001b[0m                      \u001b[39m'\u001b[39m\u001b[39mis not supported - consider using \u001b[39m\u001b[39m'\u001b[39m\n\u001b[1;32m    315\u001b[0m                      \u001b[39m'\u001b[39m\u001b[39mPlateCarree/RotatedPole.\u001b[39m\u001b[39m'\u001b[39m)\n\u001b[1;32m    317\u001b[0m kwargs[\u001b[39m'\u001b[39m\u001b[39mtransform\u001b[39m\u001b[39m'\u001b[39m] \u001b[39m=\u001b[39m transform\n\u001b[0;32m--> 318\u001b[0m \u001b[39mreturn\u001b[39;00m func(\u001b[39mself\u001b[39;49m, \u001b[39m*\u001b[39;49margs, \u001b[39m*\u001b[39;49m\u001b[39m*\u001b[39;49mkwargs)\n",
      "File \u001b[0;32m/opt/homebrew/Caskroom/miniforge/base/envs/gpsat2/lib/python3.8/site-packages/cartopy/mpl/geoaxes.py:1753\u001b[0m, in \u001b[0;36mGeoAxes.scatter\u001b[0;34m(self, *args, **kwargs)\u001b[0m\n\u001b[1;32m   1747\u001b[0m     \u001b[39mraise\u001b[39;00m \u001b[39mValueError\u001b[39;00m(\u001b[39m'\u001b[39m\u001b[39mCartopy cannot currently do spherical \u001b[39m\u001b[39m'\u001b[39m\n\u001b[1;32m   1748\u001b[0m                      \u001b[39m'\u001b[39m\u001b[39mscatter. The source CRS cannot be a \u001b[39m\u001b[39m'\u001b[39m\n\u001b[1;32m   1749\u001b[0m                      \u001b[39m'\u001b[39m\u001b[39mgeodetic, consider using the cyllindrical form \u001b[39m\u001b[39m'\u001b[39m\n\u001b[1;32m   1750\u001b[0m                      \u001b[39m'\u001b[39m\u001b[39m(PlateCarree or RotatedPole).\u001b[39m\u001b[39m'\u001b[39m)\n\u001b[1;32m   1752\u001b[0m result \u001b[39m=\u001b[39m matplotlib\u001b[39m.\u001b[39maxes\u001b[39m.\u001b[39mAxes\u001b[39m.\u001b[39mscatter(\u001b[39mself\u001b[39m, \u001b[39m*\u001b[39margs, \u001b[39m*\u001b[39m\u001b[39m*\u001b[39mkwargs)\n\u001b[0;32m-> 1753\u001b[0m \u001b[39mself\u001b[39;49m\u001b[39m.\u001b[39;49mautoscale_view()\n\u001b[1;32m   1754\u001b[0m \u001b[39mreturn\u001b[39;00m result\n",
      "File \u001b[0;32m/opt/homebrew/Caskroom/miniforge/base/envs/gpsat2/lib/python3.8/site-packages/cartopy/mpl/geoaxes.py:946\u001b[0m, in \u001b[0;36mGeoAxes.autoscale_view\u001b[0;34m(self, tight, scalex, scaley)\u001b[0m\n\u001b[1;32m    943\u001b[0m matplotlib\u001b[39m.\u001b[39maxes\u001b[39m.\u001b[39mAxes\u001b[39m.\u001b[39mautoscale_view(\u001b[39mself\u001b[39m, tight\u001b[39m=\u001b[39mtight,\n\u001b[1;32m    944\u001b[0m                                     scalex\u001b[39m=\u001b[39mscalex, scaley\u001b[39m=\u001b[39mscaley)\n\u001b[1;32m    945\u001b[0m \u001b[39m# Limit the resulting bounds to valid area.\u001b[39;00m\n\u001b[0;32m--> 946\u001b[0m \u001b[39mif\u001b[39;00m scalex \u001b[39mand\u001b[39;00m \u001b[39mself\u001b[39;49m\u001b[39m.\u001b[39;49m_autoscaleXon:\n\u001b[1;32m    947\u001b[0m     bounds \u001b[39m=\u001b[39m \u001b[39mself\u001b[39m\u001b[39m.\u001b[39mget_xbound()\n\u001b[1;32m    948\u001b[0m     \u001b[39mself\u001b[39m\u001b[39m.\u001b[39mset_xbound(\u001b[39mmax\u001b[39m(bounds[\u001b[39m0\u001b[39m], \u001b[39mself\u001b[39m\u001b[39m.\u001b[39mprojection\u001b[39m.\u001b[39mx_limits[\u001b[39m0\u001b[39m]),\n\u001b[1;32m    949\u001b[0m                     \u001b[39mmin\u001b[39m(bounds[\u001b[39m1\u001b[39m], \u001b[39mself\u001b[39m\u001b[39m.\u001b[39mprojection\u001b[39m.\u001b[39mx_limits[\u001b[39m1\u001b[39m]))\n",
      "\u001b[0;31mAttributeError\u001b[0m: 'GeoAxes' object has no attribute '_autoscaleXon'"
     ]
    },
    {
     "name": "stdout",
     "output_type": "stream",
     "text": [
      "Error in callback <function _draw_all_if_interactive at 0x7fb5a0193c10> (for post_execute):\n"
     ]
    },
    {
     "ename": "AttributeError",
     "evalue": "'GeoAxes' object has no attribute '_autoscaleXon'",
     "output_type": "error",
     "traceback": [
      "\u001b[0;31m---------------------------------------------------------------------------\u001b[0m",
      "\u001b[0;31mAttributeError\u001b[0m                            Traceback (most recent call last)",
      "File \u001b[0;32m/opt/homebrew/Caskroom/miniforge/base/envs/gpsat2/lib/python3.8/site-packages/matplotlib/pyplot.py:120\u001b[0m, in \u001b[0;36m_draw_all_if_interactive\u001b[0;34m()\u001b[0m\n\u001b[1;32m    118\u001b[0m \u001b[39mdef\u001b[39;00m \u001b[39m_draw_all_if_interactive\u001b[39m():\n\u001b[1;32m    119\u001b[0m     \u001b[39mif\u001b[39;00m matplotlib\u001b[39m.\u001b[39mis_interactive():\n\u001b[0;32m--> 120\u001b[0m         draw_all()\n",
      "File \u001b[0;32m/opt/homebrew/Caskroom/miniforge/base/envs/gpsat2/lib/python3.8/site-packages/matplotlib/_pylab_helpers.py:132\u001b[0m, in \u001b[0;36mGcf.draw_all\u001b[0;34m(cls, force)\u001b[0m\n\u001b[1;32m    130\u001b[0m \u001b[39mfor\u001b[39;00m manager \u001b[39min\u001b[39;00m \u001b[39mcls\u001b[39m\u001b[39m.\u001b[39mget_all_fig_managers():\n\u001b[1;32m    131\u001b[0m     \u001b[39mif\u001b[39;00m force \u001b[39mor\u001b[39;00m manager\u001b[39m.\u001b[39mcanvas\u001b[39m.\u001b[39mfigure\u001b[39m.\u001b[39mstale:\n\u001b[0;32m--> 132\u001b[0m         manager\u001b[39m.\u001b[39;49mcanvas\u001b[39m.\u001b[39;49mdraw_idle()\n",
      "File \u001b[0;32m/opt/homebrew/Caskroom/miniforge/base/envs/gpsat2/lib/python3.8/site-packages/matplotlib/backend_bases.py:2082\u001b[0m, in \u001b[0;36mFigureCanvasBase.draw_idle\u001b[0;34m(self, *args, **kwargs)\u001b[0m\n\u001b[1;32m   2080\u001b[0m \u001b[39mif\u001b[39;00m \u001b[39mnot\u001b[39;00m \u001b[39mself\u001b[39m\u001b[39m.\u001b[39m_is_idle_drawing:\n\u001b[1;32m   2081\u001b[0m     \u001b[39mwith\u001b[39;00m \u001b[39mself\u001b[39m\u001b[39m.\u001b[39m_idle_draw_cntx():\n\u001b[0;32m-> 2082\u001b[0m         \u001b[39mself\u001b[39;49m\u001b[39m.\u001b[39;49mdraw(\u001b[39m*\u001b[39;49margs, \u001b[39m*\u001b[39;49m\u001b[39m*\u001b[39;49mkwargs)\n",
      "File \u001b[0;32m/opt/homebrew/Caskroom/miniforge/base/envs/gpsat2/lib/python3.8/site-packages/matplotlib/backends/backend_agg.py:400\u001b[0m, in \u001b[0;36mFigureCanvasAgg.draw\u001b[0;34m(self)\u001b[0m\n\u001b[1;32m    396\u001b[0m \u001b[39m# Acquire a lock on the shared font cache.\u001b[39;00m\n\u001b[1;32m    397\u001b[0m \u001b[39mwith\u001b[39;00m RendererAgg\u001b[39m.\u001b[39mlock, \\\n\u001b[1;32m    398\u001b[0m      (\u001b[39mself\u001b[39m\u001b[39m.\u001b[39mtoolbar\u001b[39m.\u001b[39m_wait_cursor_for_draw_cm() \u001b[39mif\u001b[39;00m \u001b[39mself\u001b[39m\u001b[39m.\u001b[39mtoolbar\n\u001b[1;32m    399\u001b[0m       \u001b[39melse\u001b[39;00m nullcontext()):\n\u001b[0;32m--> 400\u001b[0m     \u001b[39mself\u001b[39;49m\u001b[39m.\u001b[39;49mfigure\u001b[39m.\u001b[39;49mdraw(\u001b[39mself\u001b[39;49m\u001b[39m.\u001b[39;49mrenderer)\n\u001b[1;32m    401\u001b[0m     \u001b[39m# A GUI class may be need to update a window using this draw, so\u001b[39;00m\n\u001b[1;32m    402\u001b[0m     \u001b[39m# don't forget to call the superclass.\u001b[39;00m\n\u001b[1;32m    403\u001b[0m     \u001b[39msuper\u001b[39m()\u001b[39m.\u001b[39mdraw()\n",
      "File \u001b[0;32m/opt/homebrew/Caskroom/miniforge/base/envs/gpsat2/lib/python3.8/site-packages/matplotlib/artist.py:95\u001b[0m, in \u001b[0;36m_finalize_rasterization.<locals>.draw_wrapper\u001b[0;34m(artist, renderer, *args, **kwargs)\u001b[0m\n\u001b[1;32m     93\u001b[0m \u001b[39m@wraps\u001b[39m(draw)\n\u001b[1;32m     94\u001b[0m \u001b[39mdef\u001b[39;00m \u001b[39mdraw_wrapper\u001b[39m(artist, renderer, \u001b[39m*\u001b[39margs, \u001b[39m*\u001b[39m\u001b[39m*\u001b[39mkwargs):\n\u001b[0;32m---> 95\u001b[0m     result \u001b[39m=\u001b[39m draw(artist, renderer, \u001b[39m*\u001b[39;49margs, \u001b[39m*\u001b[39;49m\u001b[39m*\u001b[39;49mkwargs)\n\u001b[1;32m     96\u001b[0m     \u001b[39mif\u001b[39;00m renderer\u001b[39m.\u001b[39m_rasterizing:\n\u001b[1;32m     97\u001b[0m         renderer\u001b[39m.\u001b[39mstop_rasterizing()\n",
      "File \u001b[0;32m/opt/homebrew/Caskroom/miniforge/base/envs/gpsat2/lib/python3.8/site-packages/matplotlib/artist.py:72\u001b[0m, in \u001b[0;36mallow_rasterization.<locals>.draw_wrapper\u001b[0;34m(artist, renderer)\u001b[0m\n\u001b[1;32m     69\u001b[0m     \u001b[39mif\u001b[39;00m artist\u001b[39m.\u001b[39mget_agg_filter() \u001b[39mis\u001b[39;00m \u001b[39mnot\u001b[39;00m \u001b[39mNone\u001b[39;00m:\n\u001b[1;32m     70\u001b[0m         renderer\u001b[39m.\u001b[39mstart_filter()\n\u001b[0;32m---> 72\u001b[0m     \u001b[39mreturn\u001b[39;00m draw(artist, renderer)\n\u001b[1;32m     73\u001b[0m \u001b[39mfinally\u001b[39;00m:\n\u001b[1;32m     74\u001b[0m     \u001b[39mif\u001b[39;00m artist\u001b[39m.\u001b[39mget_agg_filter() \u001b[39mis\u001b[39;00m \u001b[39mnot\u001b[39;00m \u001b[39mNone\u001b[39;00m:\n",
      "File \u001b[0;32m/opt/homebrew/Caskroom/miniforge/base/envs/gpsat2/lib/python3.8/site-packages/matplotlib/figure.py:3129\u001b[0m, in \u001b[0;36mFigure.draw\u001b[0;34m(self, renderer)\u001b[0m\n\u001b[1;32m   3126\u001b[0m \u001b[39mif\u001b[39;00m \u001b[39mnot\u001b[39;00m \u001b[39mself\u001b[39m\u001b[39m.\u001b[39mget_visible():\n\u001b[1;32m   3127\u001b[0m     \u001b[39mreturn\u001b[39;00m\n\u001b[0;32m-> 3129\u001b[0m artists \u001b[39m=\u001b[39m \u001b[39mself\u001b[39;49m\u001b[39m.\u001b[39;49m_get_draw_artists(renderer)\n\u001b[1;32m   3130\u001b[0m \u001b[39mtry\u001b[39;00m:\n\u001b[1;32m   3131\u001b[0m     renderer\u001b[39m.\u001b[39mopen_group(\u001b[39m'\u001b[39m\u001b[39mfigure\u001b[39m\u001b[39m'\u001b[39m, gid\u001b[39m=\u001b[39m\u001b[39mself\u001b[39m\u001b[39m.\u001b[39mget_gid())\n",
      "File \u001b[0;32m/opt/homebrew/Caskroom/miniforge/base/envs/gpsat2/lib/python3.8/site-packages/matplotlib/figure.py:221\u001b[0m, in \u001b[0;36mFigureBase._get_draw_artists\u001b[0;34m(self, renderer)\u001b[0m\n\u001b[1;32m    219\u001b[0m \u001b[39mfor\u001b[39;00m ax \u001b[39min\u001b[39;00m \u001b[39mself\u001b[39m\u001b[39m.\u001b[39m_localaxes:\n\u001b[1;32m    220\u001b[0m     locator \u001b[39m=\u001b[39m ax\u001b[39m.\u001b[39mget_axes_locator()\n\u001b[0;32m--> 221\u001b[0m     ax\u001b[39m.\u001b[39;49mapply_aspect(locator(ax, renderer) \u001b[39mif\u001b[39;49;00m locator \u001b[39melse\u001b[39;49;00m \u001b[39mNone\u001b[39;49;00m)\n\u001b[1;32m    223\u001b[0m     \u001b[39mfor\u001b[39;00m child \u001b[39min\u001b[39;00m ax\u001b[39m.\u001b[39mget_children():\n\u001b[1;32m    224\u001b[0m         \u001b[39mif\u001b[39;00m \u001b[39mhasattr\u001b[39m(child, \u001b[39m'\u001b[39m\u001b[39mapply_aspect\u001b[39m\u001b[39m'\u001b[39m):\n",
      "File \u001b[0;32m/opt/homebrew/Caskroom/miniforge/base/envs/gpsat2/lib/python3.8/site-packages/matplotlib/axes/_base.py:1924\u001b[0m, in \u001b[0;36m_AxesBase.apply_aspect\u001b[0;34m(self, position)\u001b[0m\n\u001b[1;32m   1921\u001b[0m \u001b[39mif\u001b[39;00m \u001b[39mself\u001b[39m \u001b[39min\u001b[39;00m \u001b[39mself\u001b[39m\u001b[39m.\u001b[39m_twinned_axes:\n\u001b[1;32m   1922\u001b[0m     \u001b[39mraise\u001b[39;00m \u001b[39mRuntimeError\u001b[39;00m(\u001b[39m\"\u001b[39m\u001b[39mAdjustable \u001b[39m\u001b[39m'\u001b[39m\u001b[39mbox\u001b[39m\u001b[39m'\u001b[39m\u001b[39m is not allowed in a \u001b[39m\u001b[39m\"\u001b[39m\n\u001b[1;32m   1923\u001b[0m                        \u001b[39m\"\u001b[39m\u001b[39mtwinned Axes; use \u001b[39m\u001b[39m'\u001b[39m\u001b[39mdatalim\u001b[39m\u001b[39m'\u001b[39m\u001b[39m instead\u001b[39m\u001b[39m\"\u001b[39m)\n\u001b[0;32m-> 1924\u001b[0m box_aspect \u001b[39m=\u001b[39m aspect \u001b[39m*\u001b[39m \u001b[39mself\u001b[39;49m\u001b[39m.\u001b[39;49mget_data_ratio()\n\u001b[1;32m   1925\u001b[0m pb \u001b[39m=\u001b[39m position\u001b[39m.\u001b[39mfrozen()\n\u001b[1;32m   1926\u001b[0m pb1 \u001b[39m=\u001b[39m pb\u001b[39m.\u001b[39mshrunk_to_aspect(box_aspect, pb, fig_aspect)\n",
      "File \u001b[0;32m/opt/homebrew/Caskroom/miniforge/base/envs/gpsat2/lib/python3.8/site-packages/matplotlib/axes/_base.py:1870\u001b[0m, in \u001b[0;36m_AxesBase.get_data_ratio\u001b[0;34m(self)\u001b[0m\n\u001b[1;32m   1862\u001b[0m \u001b[39mdef\u001b[39;00m \u001b[39mget_data_ratio\u001b[39m(\u001b[39mself\u001b[39m):\n\u001b[1;32m   1863\u001b[0m \u001b[39m    \u001b[39m\u001b[39m\"\"\"\u001b[39;00m\n\u001b[1;32m   1864\u001b[0m \u001b[39m    Return the aspect ratio of the scaled data.\u001b[39;00m\n\u001b[1;32m   1865\u001b[0m \n\u001b[0;32m   (...)\u001b[0m\n\u001b[1;32m   1868\u001b[0m \u001b[39m    This method is intended to be overridden by new projection types.\u001b[39;00m\n\u001b[1;32m   1869\u001b[0m \u001b[39m    \"\"\"\u001b[39;00m\n\u001b[0;32m-> 1870\u001b[0m     txmin, txmax \u001b[39m=\u001b[39m \u001b[39mself\u001b[39m\u001b[39m.\u001b[39mxaxis\u001b[39m.\u001b[39mget_transform()\u001b[39m.\u001b[39mtransform(\u001b[39mself\u001b[39;49m\u001b[39m.\u001b[39;49mget_xbound())\n\u001b[1;32m   1871\u001b[0m     tymin, tymax \u001b[39m=\u001b[39m \u001b[39mself\u001b[39m\u001b[39m.\u001b[39myaxis\u001b[39m.\u001b[39mget_transform()\u001b[39m.\u001b[39mtransform(\u001b[39mself\u001b[39m\u001b[39m.\u001b[39mget_ybound())\n\u001b[1;32m   1872\u001b[0m     xsize \u001b[39m=\u001b[39m \u001b[39mmax\u001b[39m(\u001b[39mabs\u001b[39m(txmax \u001b[39m-\u001b[39m txmin), \u001b[39m1e-30\u001b[39m)\n",
      "File \u001b[0;32m/opt/homebrew/Caskroom/miniforge/base/envs/gpsat2/lib/python3.8/site-packages/matplotlib/axes/_base.py:3496\u001b[0m, in \u001b[0;36m_AxesBase.get_xbound\u001b[0;34m(self)\u001b[0m\n\u001b[1;32m   3486\u001b[0m \u001b[39mdef\u001b[39;00m \u001b[39mget_xbound\u001b[39m(\u001b[39mself\u001b[39m):\n\u001b[1;32m   3487\u001b[0m \u001b[39m    \u001b[39m\u001b[39m\"\"\"\u001b[39;00m\n\u001b[1;32m   3488\u001b[0m \u001b[39m    Return the lower and upper x-axis bounds, in increasing order.\u001b[39;00m\n\u001b[1;32m   3489\u001b[0m \n\u001b[0;32m   (...)\u001b[0m\n\u001b[1;32m   3494\u001b[0m \u001b[39m    invert_xaxis, xaxis_inverted\u001b[39;00m\n\u001b[1;32m   3495\u001b[0m \u001b[39m    \"\"\"\u001b[39;00m\n\u001b[0;32m-> 3496\u001b[0m     left, right \u001b[39m=\u001b[39m \u001b[39mself\u001b[39;49m\u001b[39m.\u001b[39;49mget_xlim()\n\u001b[1;32m   3497\u001b[0m     \u001b[39mif\u001b[39;00m left \u001b[39m<\u001b[39m right:\n\u001b[1;32m   3498\u001b[0m         \u001b[39mreturn\u001b[39;00m left, right\n",
      "File \u001b[0;32m/opt/homebrew/Caskroom/miniforge/base/envs/gpsat2/lib/python3.8/site-packages/matplotlib/axes/_base.py:3554\u001b[0m, in \u001b[0;36m_AxesBase.get_xlim\u001b[0;34m(self)\u001b[0m\n\u001b[1;32m   3534\u001b[0m \u001b[39mdef\u001b[39;00m \u001b[39mget_xlim\u001b[39m(\u001b[39mself\u001b[39m):\n\u001b[1;32m   3535\u001b[0m \u001b[39m    \u001b[39m\u001b[39m\"\"\"\u001b[39;00m\n\u001b[1;32m   3536\u001b[0m \u001b[39m    Return the x-axis view limits.\u001b[39;00m\n\u001b[1;32m   3537\u001b[0m \n\u001b[0;32m   (...)\u001b[0m\n\u001b[1;32m   3552\u001b[0m \u001b[39m    be greater than the *right* value.\u001b[39;00m\n\u001b[1;32m   3553\u001b[0m \u001b[39m    \"\"\"\u001b[39;00m\n\u001b[0;32m-> 3554\u001b[0m     \u001b[39mreturn\u001b[39;00m \u001b[39mtuple\u001b[39m(\u001b[39mself\u001b[39;49m\u001b[39m.\u001b[39;49mviewLim\u001b[39m.\u001b[39mintervalx)\n",
      "File \u001b[0;32m/opt/homebrew/Caskroom/miniforge/base/envs/gpsat2/lib/python3.8/site-packages/matplotlib/axes/_base.py:857\u001b[0m, in \u001b[0;36m_AxesBase.viewLim\u001b[0;34m(self)\u001b[0m\n\u001b[1;32m    855\u001b[0m \u001b[39m@property\u001b[39m\n\u001b[1;32m    856\u001b[0m \u001b[39mdef\u001b[39;00m \u001b[39mviewLim\u001b[39m(\u001b[39mself\u001b[39m):\n\u001b[0;32m--> 857\u001b[0m     \u001b[39mself\u001b[39;49m\u001b[39m.\u001b[39;49m_unstale_viewLim()\n\u001b[1;32m    858\u001b[0m     \u001b[39mreturn\u001b[39;00m \u001b[39mself\u001b[39m\u001b[39m.\u001b[39m_viewLim\n",
      "File \u001b[0;32m/opt/homebrew/Caskroom/miniforge/base/envs/gpsat2/lib/python3.8/site-packages/matplotlib/axes/_base.py:852\u001b[0m, in \u001b[0;36m_AxesBase._unstale_viewLim\u001b[0;34m(self)\u001b[0m\n\u001b[1;32m    850\u001b[0m     \u001b[39mfor\u001b[39;00m ax \u001b[39min\u001b[39;00m \u001b[39mself\u001b[39m\u001b[39m.\u001b[39m_shared_axes[name]\u001b[39m.\u001b[39mget_siblings(\u001b[39mself\u001b[39m):\n\u001b[1;32m    851\u001b[0m         ax\u001b[39m.\u001b[39m_stale_viewlims[name] \u001b[39m=\u001b[39m \u001b[39mFalse\u001b[39;00m\n\u001b[0;32m--> 852\u001b[0m \u001b[39mself\u001b[39;49m\u001b[39m.\u001b[39;49mautoscale_view(\u001b[39m*\u001b[39;49m\u001b[39m*\u001b[39;49m{\u001b[39mf\u001b[39;49m\u001b[39m\"\u001b[39;49m\u001b[39mscale\u001b[39;49m\u001b[39m{\u001b[39;49;00mname\u001b[39m}\u001b[39;49;00m\u001b[39m\"\u001b[39;49m: scale\n\u001b[1;32m    853\u001b[0m                        \u001b[39mfor\u001b[39;49;00m name, scale \u001b[39min\u001b[39;49;00m need_scale\u001b[39m.\u001b[39;49mitems()})\n",
      "File \u001b[0;32m/opt/homebrew/Caskroom/miniforge/base/envs/gpsat2/lib/python3.8/site-packages/cartopy/mpl/geoaxes.py:946\u001b[0m, in \u001b[0;36mGeoAxes.autoscale_view\u001b[0;34m(self, tight, scalex, scaley)\u001b[0m\n\u001b[1;32m    943\u001b[0m matplotlib\u001b[39m.\u001b[39maxes\u001b[39m.\u001b[39mAxes\u001b[39m.\u001b[39mautoscale_view(\u001b[39mself\u001b[39m, tight\u001b[39m=\u001b[39mtight,\n\u001b[1;32m    944\u001b[0m                                     scalex\u001b[39m=\u001b[39mscalex, scaley\u001b[39m=\u001b[39mscaley)\n\u001b[1;32m    945\u001b[0m \u001b[39m# Limit the resulting bounds to valid area.\u001b[39;00m\n\u001b[0;32m--> 946\u001b[0m \u001b[39mif\u001b[39;00m scalex \u001b[39mand\u001b[39;00m \u001b[39mself\u001b[39;49m\u001b[39m.\u001b[39;49m_autoscaleXon:\n\u001b[1;32m    947\u001b[0m     bounds \u001b[39m=\u001b[39m \u001b[39mself\u001b[39m\u001b[39m.\u001b[39mget_xbound()\n\u001b[1;32m    948\u001b[0m     \u001b[39mself\u001b[39m\u001b[39m.\u001b[39mset_xbound(\u001b[39mmax\u001b[39m(bounds[\u001b[39m0\u001b[39m], \u001b[39mself\u001b[39m\u001b[39m.\u001b[39mprojection\u001b[39m.\u001b[39mx_limits[\u001b[39m0\u001b[39m]),\n\u001b[1;32m    949\u001b[0m                     \u001b[39mmin\u001b[39m(bounds[\u001b[39m1\u001b[39m], \u001b[39mself\u001b[39m\u001b[39m.\u001b[39mprojection\u001b[39m.\u001b[39mx_limits[\u001b[39m1\u001b[39m]))\n",
      "\u001b[0;31mAttributeError\u001b[0m: 'GeoAxes' object has no attribute '_autoscaleXon'"
     ]
    },
    {
     "ename": "AttributeError",
     "evalue": "'GeoAxes' object has no attribute '_autoscaleXon'",
     "output_type": "error",
     "traceback": [
      "\u001b[0;31m---------------------------------------------------------------------------\u001b[0m",
      "\u001b[0;31mAttributeError\u001b[0m                            Traceback (most recent call last)",
      "File \u001b[0;32m/opt/homebrew/Caskroom/miniforge/base/envs/gpsat2/lib/python3.8/site-packages/IPython/core/formatters.py:340\u001b[0m, in \u001b[0;36mBaseFormatter.__call__\u001b[0;34m(self, obj)\u001b[0m\n\u001b[1;32m    338\u001b[0m     \u001b[39mpass\u001b[39;00m\n\u001b[1;32m    339\u001b[0m \u001b[39melse\u001b[39;00m:\n\u001b[0;32m--> 340\u001b[0m     \u001b[39mreturn\u001b[39;00m printer(obj)\n\u001b[1;32m    341\u001b[0m \u001b[39m# Finally look for special method names\u001b[39;00m\n\u001b[1;32m    342\u001b[0m method \u001b[39m=\u001b[39m get_real_method(obj, \u001b[39mself\u001b[39m\u001b[39m.\u001b[39mprint_method)\n",
      "File \u001b[0;32m/opt/homebrew/Caskroom/miniforge/base/envs/gpsat2/lib/python3.8/site-packages/IPython/core/pylabtools.py:152\u001b[0m, in \u001b[0;36mprint_figure\u001b[0;34m(fig, fmt, bbox_inches, base64, **kwargs)\u001b[0m\n\u001b[1;32m    149\u001b[0m     \u001b[39mfrom\u001b[39;00m \u001b[39mmatplotlib\u001b[39;00m\u001b[39m.\u001b[39;00m\u001b[39mbackend_bases\u001b[39;00m \u001b[39mimport\u001b[39;00m FigureCanvasBase\n\u001b[1;32m    150\u001b[0m     FigureCanvasBase(fig)\n\u001b[0;32m--> 152\u001b[0m fig\u001b[39m.\u001b[39;49mcanvas\u001b[39m.\u001b[39;49mprint_figure(bytes_io, \u001b[39m*\u001b[39;49m\u001b[39m*\u001b[39;49mkw)\n\u001b[1;32m    153\u001b[0m data \u001b[39m=\u001b[39m bytes_io\u001b[39m.\u001b[39mgetvalue()\n\u001b[1;32m    154\u001b[0m \u001b[39mif\u001b[39;00m fmt \u001b[39m==\u001b[39m \u001b[39m'\u001b[39m\u001b[39msvg\u001b[39m\u001b[39m'\u001b[39m:\n",
      "File \u001b[0;32m/opt/homebrew/Caskroom/miniforge/base/envs/gpsat2/lib/python3.8/site-packages/matplotlib/backend_bases.py:2342\u001b[0m, in \u001b[0;36mFigureCanvasBase.print_figure\u001b[0;34m(self, filename, dpi, facecolor, edgecolor, orientation, format, bbox_inches, pad_inches, bbox_extra_artists, backend, **kwargs)\u001b[0m\n\u001b[1;32m   2336\u001b[0m     renderer \u001b[39m=\u001b[39m _get_renderer(\n\u001b[1;32m   2337\u001b[0m         \u001b[39mself\u001b[39m\u001b[39m.\u001b[39mfigure,\n\u001b[1;32m   2338\u001b[0m         functools\u001b[39m.\u001b[39mpartial(\n\u001b[1;32m   2339\u001b[0m             print_method, orientation\u001b[39m=\u001b[39morientation)\n\u001b[1;32m   2340\u001b[0m     )\n\u001b[1;32m   2341\u001b[0m     \u001b[39mwith\u001b[39;00m \u001b[39mgetattr\u001b[39m(renderer, \u001b[39m\"\u001b[39m\u001b[39m_draw_disabled\u001b[39m\u001b[39m\"\u001b[39m, nullcontext)():\n\u001b[0;32m-> 2342\u001b[0m         \u001b[39mself\u001b[39;49m\u001b[39m.\u001b[39;49mfigure\u001b[39m.\u001b[39;49mdraw(renderer)\n\u001b[1;32m   2344\u001b[0m \u001b[39mif\u001b[39;00m bbox_inches:\n\u001b[1;32m   2345\u001b[0m     \u001b[39mif\u001b[39;00m bbox_inches \u001b[39m==\u001b[39m \u001b[39m\"\u001b[39m\u001b[39mtight\u001b[39m\u001b[39m\"\u001b[39m:\n",
      "File \u001b[0;32m/opt/homebrew/Caskroom/miniforge/base/envs/gpsat2/lib/python3.8/site-packages/matplotlib/artist.py:95\u001b[0m, in \u001b[0;36m_finalize_rasterization.<locals>.draw_wrapper\u001b[0;34m(artist, renderer, *args, **kwargs)\u001b[0m\n\u001b[1;32m     93\u001b[0m \u001b[39m@wraps\u001b[39m(draw)\n\u001b[1;32m     94\u001b[0m \u001b[39mdef\u001b[39;00m \u001b[39mdraw_wrapper\u001b[39m(artist, renderer, \u001b[39m*\u001b[39margs, \u001b[39m*\u001b[39m\u001b[39m*\u001b[39mkwargs):\n\u001b[0;32m---> 95\u001b[0m     result \u001b[39m=\u001b[39m draw(artist, renderer, \u001b[39m*\u001b[39;49margs, \u001b[39m*\u001b[39;49m\u001b[39m*\u001b[39;49mkwargs)\n\u001b[1;32m     96\u001b[0m     \u001b[39mif\u001b[39;00m renderer\u001b[39m.\u001b[39m_rasterizing:\n\u001b[1;32m     97\u001b[0m         renderer\u001b[39m.\u001b[39mstop_rasterizing()\n",
      "File \u001b[0;32m/opt/homebrew/Caskroom/miniforge/base/envs/gpsat2/lib/python3.8/site-packages/matplotlib/artist.py:72\u001b[0m, in \u001b[0;36mallow_rasterization.<locals>.draw_wrapper\u001b[0;34m(artist, renderer)\u001b[0m\n\u001b[1;32m     69\u001b[0m     \u001b[39mif\u001b[39;00m artist\u001b[39m.\u001b[39mget_agg_filter() \u001b[39mis\u001b[39;00m \u001b[39mnot\u001b[39;00m \u001b[39mNone\u001b[39;00m:\n\u001b[1;32m     70\u001b[0m         renderer\u001b[39m.\u001b[39mstart_filter()\n\u001b[0;32m---> 72\u001b[0m     \u001b[39mreturn\u001b[39;00m draw(artist, renderer)\n\u001b[1;32m     73\u001b[0m \u001b[39mfinally\u001b[39;00m:\n\u001b[1;32m     74\u001b[0m     \u001b[39mif\u001b[39;00m artist\u001b[39m.\u001b[39mget_agg_filter() \u001b[39mis\u001b[39;00m \u001b[39mnot\u001b[39;00m \u001b[39mNone\u001b[39;00m:\n",
      "File \u001b[0;32m/opt/homebrew/Caskroom/miniforge/base/envs/gpsat2/lib/python3.8/site-packages/matplotlib/figure.py:3140\u001b[0m, in \u001b[0;36mFigure.draw\u001b[0;34m(self, renderer)\u001b[0m\n\u001b[1;32m   3137\u001b[0m         \u001b[39m# ValueError can occur when resizing a window.\u001b[39;00m\n\u001b[1;32m   3139\u001b[0m \u001b[39mself\u001b[39m\u001b[39m.\u001b[39mpatch\u001b[39m.\u001b[39mdraw(renderer)\n\u001b[0;32m-> 3140\u001b[0m mimage\u001b[39m.\u001b[39;49m_draw_list_compositing_images(\n\u001b[1;32m   3141\u001b[0m     renderer, \u001b[39mself\u001b[39;49m, artists, \u001b[39mself\u001b[39;49m\u001b[39m.\u001b[39;49msuppressComposite)\n\u001b[1;32m   3143\u001b[0m \u001b[39mfor\u001b[39;00m sfig \u001b[39min\u001b[39;00m \u001b[39mself\u001b[39m\u001b[39m.\u001b[39msubfigs:\n\u001b[1;32m   3144\u001b[0m     sfig\u001b[39m.\u001b[39mdraw(renderer)\n",
      "File \u001b[0;32m/opt/homebrew/Caskroom/miniforge/base/envs/gpsat2/lib/python3.8/site-packages/matplotlib/image.py:131\u001b[0m, in \u001b[0;36m_draw_list_compositing_images\u001b[0;34m(renderer, parent, artists, suppress_composite)\u001b[0m\n\u001b[1;32m    129\u001b[0m \u001b[39mif\u001b[39;00m not_composite \u001b[39mor\u001b[39;00m \u001b[39mnot\u001b[39;00m has_images:\n\u001b[1;32m    130\u001b[0m     \u001b[39mfor\u001b[39;00m a \u001b[39min\u001b[39;00m artists:\n\u001b[0;32m--> 131\u001b[0m         a\u001b[39m.\u001b[39;49mdraw(renderer)\n\u001b[1;32m    132\u001b[0m \u001b[39melse\u001b[39;00m:\n\u001b[1;32m    133\u001b[0m     \u001b[39m# Composite any adjacent images together\u001b[39;00m\n\u001b[1;32m    134\u001b[0m     image_group \u001b[39m=\u001b[39m []\n",
      "File \u001b[0;32m/opt/homebrew/Caskroom/miniforge/base/envs/gpsat2/lib/python3.8/site-packages/matplotlib/artist.py:72\u001b[0m, in \u001b[0;36mallow_rasterization.<locals>.draw_wrapper\u001b[0;34m(artist, renderer)\u001b[0m\n\u001b[1;32m     69\u001b[0m     \u001b[39mif\u001b[39;00m artist\u001b[39m.\u001b[39mget_agg_filter() \u001b[39mis\u001b[39;00m \u001b[39mnot\u001b[39;00m \u001b[39mNone\u001b[39;00m:\n\u001b[1;32m     70\u001b[0m         renderer\u001b[39m.\u001b[39mstart_filter()\n\u001b[0;32m---> 72\u001b[0m     \u001b[39mreturn\u001b[39;00m draw(artist, renderer)\n\u001b[1;32m     73\u001b[0m \u001b[39mfinally\u001b[39;00m:\n\u001b[1;32m     74\u001b[0m     \u001b[39mif\u001b[39;00m artist\u001b[39m.\u001b[39mget_agg_filter() \u001b[39mis\u001b[39;00m \u001b[39mnot\u001b[39;00m \u001b[39mNone\u001b[39;00m:\n",
      "File \u001b[0;32m/opt/homebrew/Caskroom/miniforge/base/envs/gpsat2/lib/python3.8/site-packages/cartopy/mpl/geoaxes.py:558\u001b[0m, in \u001b[0;36mGeoAxes.draw\u001b[0;34m(self, renderer, **kwargs)\u001b[0m\n\u001b[1;32m    553\u001b[0m         \u001b[39mself\u001b[39m\u001b[39m.\u001b[39mimshow(img, extent\u001b[39m=\u001b[39mextent, origin\u001b[39m=\u001b[39morigin,\n\u001b[1;32m    554\u001b[0m                     transform\u001b[39m=\u001b[39mfactory\u001b[39m.\u001b[39mcrs, \u001b[39m*\u001b[39mfactory_args[\u001b[39m1\u001b[39m:],\n\u001b[1;32m    555\u001b[0m                     \u001b[39m*\u001b[39m\u001b[39m*\u001b[39mfactory_kwargs)\n\u001b[1;32m    556\u001b[0m \u001b[39mself\u001b[39m\u001b[39m.\u001b[39m_done_img_factory \u001b[39m=\u001b[39m \u001b[39mTrue\u001b[39;00m\n\u001b[0;32m--> 558\u001b[0m \u001b[39mreturn\u001b[39;00m matplotlib\u001b[39m.\u001b[39;49maxes\u001b[39m.\u001b[39;49mAxes\u001b[39m.\u001b[39;49mdraw(\u001b[39mself\u001b[39;49m, renderer\u001b[39m=\u001b[39;49mrenderer, \u001b[39m*\u001b[39;49m\u001b[39m*\u001b[39;49mkwargs)\n",
      "File \u001b[0;32m/opt/homebrew/Caskroom/miniforge/base/envs/gpsat2/lib/python3.8/site-packages/matplotlib/artist.py:72\u001b[0m, in \u001b[0;36mallow_rasterization.<locals>.draw_wrapper\u001b[0;34m(artist, renderer)\u001b[0m\n\u001b[1;32m     69\u001b[0m     \u001b[39mif\u001b[39;00m artist\u001b[39m.\u001b[39mget_agg_filter() \u001b[39mis\u001b[39;00m \u001b[39mnot\u001b[39;00m \u001b[39mNone\u001b[39;00m:\n\u001b[1;32m     70\u001b[0m         renderer\u001b[39m.\u001b[39mstart_filter()\n\u001b[0;32m---> 72\u001b[0m     \u001b[39mreturn\u001b[39;00m draw(artist, renderer)\n\u001b[1;32m     73\u001b[0m \u001b[39mfinally\u001b[39;00m:\n\u001b[1;32m     74\u001b[0m     \u001b[39mif\u001b[39;00m artist\u001b[39m.\u001b[39mget_agg_filter() \u001b[39mis\u001b[39;00m \u001b[39mnot\u001b[39;00m \u001b[39mNone\u001b[39;00m:\n",
      "File \u001b[0;32m/opt/homebrew/Caskroom/miniforge/base/envs/gpsat2/lib/python3.8/site-packages/matplotlib/axes/_base.py:3064\u001b[0m, in \u001b[0;36m_AxesBase.draw\u001b[0;34m(self, renderer)\u001b[0m\n\u001b[1;32m   3061\u001b[0m \u001b[39mif\u001b[39;00m artists_rasterized:\n\u001b[1;32m   3062\u001b[0m     _draw_rasterized(\u001b[39mself\u001b[39m\u001b[39m.\u001b[39mfigure, artists_rasterized, renderer)\n\u001b[0;32m-> 3064\u001b[0m mimage\u001b[39m.\u001b[39;49m_draw_list_compositing_images(\n\u001b[1;32m   3065\u001b[0m     renderer, \u001b[39mself\u001b[39;49m, artists, \u001b[39mself\u001b[39;49m\u001b[39m.\u001b[39;49mfigure\u001b[39m.\u001b[39;49msuppressComposite)\n\u001b[1;32m   3067\u001b[0m renderer\u001b[39m.\u001b[39mclose_group(\u001b[39m'\u001b[39m\u001b[39maxes\u001b[39m\u001b[39m'\u001b[39m)\n\u001b[1;32m   3068\u001b[0m \u001b[39mself\u001b[39m\u001b[39m.\u001b[39mstale \u001b[39m=\u001b[39m \u001b[39mFalse\u001b[39;00m\n",
      "File \u001b[0;32m/opt/homebrew/Caskroom/miniforge/base/envs/gpsat2/lib/python3.8/site-packages/matplotlib/image.py:131\u001b[0m, in \u001b[0;36m_draw_list_compositing_images\u001b[0;34m(renderer, parent, artists, suppress_composite)\u001b[0m\n\u001b[1;32m    129\u001b[0m \u001b[39mif\u001b[39;00m not_composite \u001b[39mor\u001b[39;00m \u001b[39mnot\u001b[39;00m has_images:\n\u001b[1;32m    130\u001b[0m     \u001b[39mfor\u001b[39;00m a \u001b[39min\u001b[39;00m artists:\n\u001b[0;32m--> 131\u001b[0m         a\u001b[39m.\u001b[39;49mdraw(renderer)\n\u001b[1;32m    132\u001b[0m \u001b[39melse\u001b[39;00m:\n\u001b[1;32m    133\u001b[0m     \u001b[39m# Composite any adjacent images together\u001b[39;00m\n\u001b[1;32m    134\u001b[0m     image_group \u001b[39m=\u001b[39m []\n",
      "File \u001b[0;32m/opt/homebrew/Caskroom/miniforge/base/envs/gpsat2/lib/python3.8/site-packages/matplotlib/artist.py:72\u001b[0m, in \u001b[0;36mallow_rasterization.<locals>.draw_wrapper\u001b[0;34m(artist, renderer)\u001b[0m\n\u001b[1;32m     69\u001b[0m     \u001b[39mif\u001b[39;00m artist\u001b[39m.\u001b[39mget_agg_filter() \u001b[39mis\u001b[39;00m \u001b[39mnot\u001b[39;00m \u001b[39mNone\u001b[39;00m:\n\u001b[1;32m     70\u001b[0m         renderer\u001b[39m.\u001b[39mstart_filter()\n\u001b[0;32m---> 72\u001b[0m     \u001b[39mreturn\u001b[39;00m draw(artist, renderer)\n\u001b[1;32m     73\u001b[0m \u001b[39mfinally\u001b[39;00m:\n\u001b[1;32m     74\u001b[0m     \u001b[39mif\u001b[39;00m artist\u001b[39m.\u001b[39mget_agg_filter() \u001b[39mis\u001b[39;00m \u001b[39mnot\u001b[39;00m \u001b[39mNone\u001b[39;00m:\n",
      "File \u001b[0;32m/opt/homebrew/Caskroom/miniforge/base/envs/gpsat2/lib/python3.8/site-packages/cartopy/mpl/feature_artist.py:147\u001b[0m, in \u001b[0;36mFeatureArtist.draw\u001b[0;34m(self, renderer, *args, **kwargs)\u001b[0m\n\u001b[1;32m    145\u001b[0m extent \u001b[39m=\u001b[39m \u001b[39mNone\u001b[39;00m\n\u001b[1;32m    146\u001b[0m \u001b[39mtry\u001b[39;00m:\n\u001b[0;32m--> 147\u001b[0m     extent \u001b[39m=\u001b[39m ax\u001b[39m.\u001b[39;49mget_extent(feature_crs)\n\u001b[1;32m    148\u001b[0m \u001b[39mexcept\u001b[39;00m \u001b[39mValueError\u001b[39;00m:\n\u001b[1;32m    149\u001b[0m     warnings\u001b[39m.\u001b[39mwarn(\u001b[39m'\u001b[39m\u001b[39mUnable to determine extent. Defaulting to global.\u001b[39m\u001b[39m'\u001b[39m)\n",
      "File \u001b[0;32m/opt/homebrew/Caskroom/miniforge/base/envs/gpsat2/lib/python3.8/site-packages/cartopy/mpl/geoaxes.py:814\u001b[0m, in \u001b[0;36mGeoAxes.get_extent\u001b[0;34m(self, crs)\u001b[0m\n\u001b[1;32m    805\u001b[0m \u001b[39mdef\u001b[39;00m \u001b[39mget_extent\u001b[39m(\u001b[39mself\u001b[39m, crs\u001b[39m=\u001b[39m\u001b[39mNone\u001b[39;00m):\n\u001b[1;32m    806\u001b[0m \u001b[39m    \u001b[39m\u001b[39m\"\"\"\u001b[39;00m\n\u001b[1;32m    807\u001b[0m \u001b[39m    Get the extent (x0, x1, y0, y1) of the map in the given coordinate\u001b[39;00m\n\u001b[1;32m    808\u001b[0m \u001b[39m    system.\u001b[39;00m\n\u001b[0;32m   (...)\u001b[0m\n\u001b[1;32m    812\u001b[0m \n\u001b[1;32m    813\u001b[0m \u001b[39m    \"\"\"\u001b[39;00m\n\u001b[0;32m--> 814\u001b[0m     p \u001b[39m=\u001b[39m \u001b[39mself\u001b[39;49m\u001b[39m.\u001b[39;49m_get_extent_geom(crs)\n\u001b[1;32m    815\u001b[0m     r \u001b[39m=\u001b[39m p\u001b[39m.\u001b[39mbounds\n\u001b[1;32m    816\u001b[0m     x1, y1, x2, y2 \u001b[39m=\u001b[39m r\n",
      "File \u001b[0;32m/opt/homebrew/Caskroom/miniforge/base/envs/gpsat2/lib/python3.8/site-packages/cartopy/mpl/geoaxes.py:821\u001b[0m, in \u001b[0;36mGeoAxes._get_extent_geom\u001b[0;34m(self, crs)\u001b[0m\n\u001b[1;32m    819\u001b[0m \u001b[39mdef\u001b[39;00m \u001b[39m_get_extent_geom\u001b[39m(\u001b[39mself\u001b[39m, crs\u001b[39m=\u001b[39m\u001b[39mNone\u001b[39;00m):\n\u001b[1;32m    820\u001b[0m     \u001b[39m# Perform the calculations for get_extent(), which just repackages it.\u001b[39;00m\n\u001b[0;32m--> 821\u001b[0m     \u001b[39mwith\u001b[39;00m \u001b[39mself\u001b[39m\u001b[39m.\u001b[39mhold_limits():\n\u001b[1;32m    822\u001b[0m         \u001b[39mif\u001b[39;00m \u001b[39mself\u001b[39m\u001b[39m.\u001b[39mget_autoscale_on():\n\u001b[1;32m    823\u001b[0m             \u001b[39mself\u001b[39m\u001b[39m.\u001b[39mautoscale_view()\n",
      "File \u001b[0;32m/opt/homebrew/Caskroom/miniforge/base/envs/gpsat2/lib/python3.8/contextlib.py:113\u001b[0m, in \u001b[0;36m_GeneratorContextManager.__enter__\u001b[0;34m(self)\u001b[0m\n\u001b[1;32m    111\u001b[0m \u001b[39mdel\u001b[39;00m \u001b[39mself\u001b[39m\u001b[39m.\u001b[39margs, \u001b[39mself\u001b[39m\u001b[39m.\u001b[39mkwds, \u001b[39mself\u001b[39m\u001b[39m.\u001b[39mfunc\n\u001b[1;32m    112\u001b[0m \u001b[39mtry\u001b[39;00m:\n\u001b[0;32m--> 113\u001b[0m     \u001b[39mreturn\u001b[39;00m \u001b[39mnext\u001b[39;49m(\u001b[39mself\u001b[39;49m\u001b[39m.\u001b[39;49mgen)\n\u001b[1;32m    114\u001b[0m \u001b[39mexcept\u001b[39;00m \u001b[39mStopIteration\u001b[39;00m:\n\u001b[1;32m    115\u001b[0m     \u001b[39mraise\u001b[39;00m \u001b[39mRuntimeError\u001b[39;00m(\u001b[39m\"\u001b[39m\u001b[39mgenerator didn\u001b[39m\u001b[39m'\u001b[39m\u001b[39mt yield\u001b[39m\u001b[39m\"\u001b[39m) \u001b[39mfrom\u001b[39;00m \u001b[39mNone\u001b[39;00m\n",
      "File \u001b[0;32m/opt/homebrew/Caskroom/miniforge/base/envs/gpsat2/lib/python3.8/site-packages/cartopy/mpl/geoaxes.py:491\u001b[0m, in \u001b[0;36mGeoAxes.hold_limits\u001b[0;34m(self, hold)\u001b[0m\n\u001b[1;32m    488\u001b[0m data_lim \u001b[39m=\u001b[39m \u001b[39mself\u001b[39m\u001b[39m.\u001b[39mdataLim\u001b[39m.\u001b[39mfrozen()\u001b[39m.\u001b[39mget_points()\n\u001b[1;32m    489\u001b[0m view_lim \u001b[39m=\u001b[39m \u001b[39mself\u001b[39m\u001b[39m.\u001b[39mviewLim\u001b[39m.\u001b[39mfrozen()\u001b[39m.\u001b[39mget_points()\n\u001b[1;32m    490\u001b[0m other \u001b[39m=\u001b[39m (\u001b[39mself\u001b[39m\u001b[39m.\u001b[39mignore_existing_data_limits,\n\u001b[0;32m--> 491\u001b[0m          \u001b[39mself\u001b[39;49m\u001b[39m.\u001b[39;49m_autoscaleXon, \u001b[39mself\u001b[39m\u001b[39m.\u001b[39m_autoscaleYon)\n\u001b[1;32m    492\u001b[0m \u001b[39mtry\u001b[39;00m:\n\u001b[1;32m    493\u001b[0m     \u001b[39myield\u001b[39;00m\n",
      "\u001b[0;31mAttributeError\u001b[0m: 'GeoAxes' object has no attribute '_autoscaleXon'"
     ]
    },
    {
     "data": {
      "text/plain": [
       "<Figure size 1200x1200 with 1 Axes>"
      ]
     },
     "metadata": {},
     "output_type": "display_data"
    }
   ],
   "source": [
    "ploc['lon'], ploc['lat'] = EASE2toWGS84_New(ploc['x'], ploc['y'])\n",
    "\n",
    "\n",
    "fig = plt.figure(figsize=(12, 12))\n",
    "ax = fig.add_subplot(1, 1, 1, projection=get_projection('north'))\n",
    "\n",
    "plot_pcolormesh(ax=ax,\n",
    "                lon=ploc['lon'],\n",
    "                lat=ploc['lat'],\n",
    "                plot_data=np.full(len(ploc), 1.0), #np.arange(len(ploc)),\n",
    "                title=\"prediction locations\",\n",
    "                scatter=True,\n",
    "                s=0.1,\n",
    "                extent=[-180, 180, 60, 90])\n",
    "\n",
    "plt.tight_layout()\n",
    "plt.show()\n"
   ]
  },
  {
   "cell_type": "markdown",
   "metadata": {
    "collapsed": false
   },
   "source": [
    "configurations for Local Expert OI"
   ]
  },
  {
   "cell_type": "code",
   "execution_count": 9,
   "metadata": {
    "ExecuteTime": {
     "end_time": "2023-06-07T10:03:24.452023594Z",
     "start_time": "2023-06-07T10:03:24.450457560Z"
    },
    "collapsed": false
   },
   "outputs": [],
   "source": [
    "\n",
    "# observation data\n",
    "data = {\n",
    "    \"data_source\": bin_df,\n",
    "    \"obs_col\": \"z\",\n",
    "    \"coords_col\": [\"x\", \"y\", \"t\"],\n",
    "    # selection criteria used for each local expert\n",
    "    \"local_select\": [\n",
    "        {\n",
    "            \"col\": \"t\",\n",
    "            \"comp\": \"<=\",\n",
    "            \"val\": 4\n",
    "        },\n",
    "        {\n",
    "            \"col\": \"t\",\n",
    "            \"comp\": \">=\",\n",
    "            \"val\": -4\n",
    "        },\n",
    "        {\n",
    "            \"col\": [\n",
    "                \"x\",\n",
    "                \"y\"\n",
    "            ],\n",
    "            \"comp\": \"<\",\n",
    "            \"val\": 300_000\n",
    "        }\n",
    "    ]\n",
    "}\n",
    "\n",
    "# local expert locations\n",
    "local_expert = {\n",
    "    \"source\": eloc\n",
    "}\n",
    "\n",
    "# model\n",
    "model = {\n",
    "    \"oi_model\": \"GPflowGPRModel\",\n",
    "    \"init_params\": {\n",
    "        # scale (divide) coordinates\n",
    "        \"coords_scale\": [50000, 50000, 1]\n",
    "    },\n",
    "    \"constraints\": {\n",
    "        # lengthscales - same order coord_col (see data)\n",
    "        \"lengthscales\": {\n",
    "            \"low\": [1e-08, 1e-08, 1e-08],\n",
    "            \"high\": [600000, 600000, 9]\n",
    "        }\n",
    "    }\n",
    "}\n",
    "\n",
    "# prediction locations\n",
    "# -\n",
    "pred_loc = {\n",
    "    \"method\": \"from_dataframe\",\n",
    "    \"df\": ploc,\n",
    "    \"max_dist\": 200_000\n",
    "}\n"
   ]
  },
  {
   "cell_type": "markdown",
   "metadata": {
    "collapsed": false
   },
   "source": [
    "Local Expert OI"
   ]
  },
  {
   "cell_type": "code",
   "execution_count": 10,
   "metadata": {
    "ExecuteTime": {
     "end_time": "2023-06-07T10:03:24.467584769Z",
     "start_time": "2023-06-07T10:03:24.455035805Z"
    },
    "collapsed": false
   },
   "outputs": [
    {
     "name": "stdout",
     "output_type": "stream",
     "text": [
      "'data_select': 0.003 seconds\n",
      "'load': 0.006 seconds\n",
      "in json_serializable - key: 'data_source' has value DataFrame/Series, but is too long: 22522 >  100\n",
      "storing as str\n"
     ]
    },
    {
     "name": "stderr",
     "output_type": "stream",
     "text": [
      "/opt/homebrew/Caskroom/miniforge/base/envs/gpsat2/lib/python3.8/site-packages/gpflow/experimental/utils.py:42: UserWarning: You're calling gpflow.experimental.check_shapes.decorator.check_shapes which is considered *experimental*. Expect: breaking changes, poor documentation, and bugs.\n",
      "  warn(\n",
      "/opt/homebrew/Caskroom/miniforge/base/envs/gpsat2/lib/python3.8/site-packages/gpflow/experimental/utils.py:42: UserWarning: You're calling gpflow.experimental.check_shapes.inheritance.inherit_check_shapes which is considered *experimental*. Expect: breaking changes, poor documentation, and bugs.\n",
      "  warn(\n"
     ]
    },
    {
     "name": "stdout",
     "output_type": "stream",
     "text": [
      "in json_serializable - key: 'df' has value DataFrame/Series, but is too long: 40000 >  100\n",
      "storing as str\n"
     ]
    }
   ],
   "source": [
    "locexp = LocalExpertOI(expert_loc_config=local_expert,\n",
    "                       data_config=data,\n",
    "                       model_config=model,\n",
    "                       pred_loc_config=pred_loc)\n",
    "\n"
   ]
  },
  {
   "cell_type": "markdown",
   "metadata": {
    "collapsed": false
   },
   "source": [
    "run optimal interpolation"
   ]
  },
  {
   "cell_type": "code",
   "execution_count": 11,
   "metadata": {
    "ExecuteTime": {
     "end_time": "2023-06-07T10:04:19.358790486Z",
     "start_time": "2023-06-07T10:03:24.470672980Z"
    },
    "collapsed": false
   },
   "outputs": [
    {
     "name": "stdout",
     "output_type": "stream",
     "text": [
      "---------\n",
      "storing expert locations in 'expert_locs' table\n",
      "exception occurred: 'No object named expert_locs in the file'\n",
      "will now close object\n",
      "\n",
      "\u001b[96m---------\n",
      "dropping expert locations that already exists in 'run_details' table\u001b[0m\n",
      "exception occurred: 'No object named run_details in the file'\n",
      "will now close object\n",
      "\n",
      "------------------------------\n",
      "1 / 25\n",
      "          x         y        t   lon        lat\n",
      "0 -400000.0 -400000.0  18326.0 -45.0  84.933616\n",
      "'_max_dist_bool': 0.001 seconds\n",
      "'_from_dataframe': 0.002 seconds\n",
      "'data_select': 0.002 seconds\n",
      "'load': 0.002 seconds\n",
      "'_update_global_data': 0.002 seconds\n",
      "'local_data_select': 0.008 seconds\n",
      "number obs: 402\n",
      "setting lengthscales to: [1. 1. 1.]\n"
     ]
    },
    {
     "name": "stderr",
     "output_type": "stream",
     "text": [
      "/opt/homebrew/Caskroom/miniforge/base/envs/gpsat2/lib/python3.8/site-packages/gpflow/experimental/utils.py:42: UserWarning: You're calling gpflow.experimental.check_shapes.checker.ShapeChecker.__init__ which is considered *experimental*. Expect: breaking changes, poor documentation, and bugs.\n",
      "  warn(\n"
     ]
    },
    {
     "name": "stdout",
     "output_type": "stream",
     "text": [
      "'__init__': 0.198 seconds\n",
      "'get_parameters': 0.005 seconds\n",
      "'set_lengthscales_constraints': 0.007 seconds\n",
      "'optimise_parameters': 2.425 seconds\n",
      "'get_parameters': 0.002 seconds\n",
      "parameters:\n",
      "lengthscales: array([5.18401446, 3.22017162, 8.99996257]) \n",
      "kernel_variance: 0.015246746979738967\n",
      "likelihood_variance: 0.003326616757159276\n",
      "'predict': 0.213 seconds\n",
      "total run time : 3.08 seconds\n",
      "------------------------------\n",
      "2 / 25\n",
      "          x         y        t        lon      lat\n",
      "1 -200000.0 -400000.0  18326.0 -26.565051  85.9952\n",
      "'_max_dist_bool': 0.000 seconds\n",
      "'_from_dataframe': 0.001 seconds\n",
      "'_update_global_data': 0.000 seconds\n",
      "'local_data_select': 0.005 seconds\n",
      "number obs: 538\n",
      "setting lengthscales to: [1. 1. 1.]\n",
      "'__init__': 0.040 seconds\n",
      "'set_lengthscales_constraints': 0.003 seconds\n",
      "'optimise_parameters': 1.659 seconds\n",
      "'get_parameters': 0.002 seconds\n",
      "parameters:\n",
      "lengthscales: array([3.77482776, 2.17838824, 8.99999893]) \n",
      "kernel_variance: 0.013368282642064964\n",
      "likelihood_variance: 0.0020117035890878845\n",
      "'predict': 0.384 seconds\n",
      "total run time : 2.40 seconds\n",
      "------------------------------\n",
      "3 / 25\n",
      "     x         y        t  lon        lat\n",
      "2  0.0 -400000.0  18326.0  0.0  86.418156\n",
      "'_max_dist_bool': 0.000 seconds\n",
      "'_from_dataframe': 0.001 seconds\n",
      "'_update_global_data': 0.000 seconds\n",
      "'local_data_select': 0.005 seconds\n",
      "number obs: 519\n",
      "setting lengthscales to: [1. 1. 1.]\n",
      "'__init__': 0.042 seconds\n",
      "'set_lengthscales_constraints': 0.004 seconds\n",
      "'optimise_parameters': 1.278 seconds\n",
      "'get_parameters': 0.002 seconds\n",
      "parameters:\n",
      "lengthscales: array([4.40032271, 7.18122426, 8.99999708]) \n",
      "kernel_variance: 0.009120994082771056\n",
      "likelihood_variance: 0.0018968716613234618\n",
      "'predict': 0.341 seconds\n",
      "total run time : 1.90 seconds\n",
      "------------------------------\n",
      "4 / 25\n",
      "          x         y        t        lon      lat\n",
      "3  200000.0 -400000.0  18326.0  26.565051  85.9952\n",
      "'_max_dist_bool': 0.000 seconds\n",
      "'_from_dataframe': 0.001 seconds\n",
      "'_update_global_data': 0.000 seconds\n",
      "'local_data_select': 0.005 seconds\n",
      "number obs: 525\n",
      "setting lengthscales to: [1. 1. 1.]\n",
      "'__init__': 0.049 seconds\n",
      "'set_lengthscales_constraints': 0.003 seconds\n",
      "'optimise_parameters': 1.317 seconds\n",
      "'get_parameters': 0.002 seconds\n",
      "parameters:\n",
      "lengthscales: array([6.84383676, 6.23934297, 8.99942011]) \n",
      "kernel_variance: 0.014942437543988015\n",
      "likelihood_variance: 0.0016663340975170042\n",
      "'predict': 0.369 seconds\n",
      "total run time : 1.98 seconds\n",
      "------------------------------\n",
      "5 / 25\n",
      "          x         y        t   lon        lat\n",
      "4  400000.0 -400000.0  18326.0  45.0  84.933616\n",
      "'_max_dist_bool': 0.000 seconds\n",
      "'_from_dataframe': 0.001 seconds\n",
      "'_update_global_data': 0.000 seconds\n",
      "'local_data_select': 0.005 seconds\n",
      "number obs: 409\n",
      "setting lengthscales to: [1. 1. 1.]\n",
      "'__init__': 0.040 seconds\n",
      "'set_lengthscales_constraints': 0.003 seconds\n",
      "'optimise_parameters': 0.812 seconds\n",
      "'get_parameters': 0.003 seconds\n",
      "parameters:\n",
      "lengthscales: array([6.71158452, 4.73445112, 8.99978513]) \n",
      "kernel_variance: 0.013184739841499133\n",
      "likelihood_variance: 0.0016308843023664446\n",
      "'predict': 0.194 seconds\n",
      "total run time : 1.30 seconds\n",
      "------------------------------\n",
      "6 / 25\n",
      "          x         y        t        lon      lat\n",
      "5 -400000.0 -200000.0  18326.0 -63.434949  85.9952\n",
      "'_max_dist_bool': 0.000 seconds\n",
      "'_from_dataframe': 0.001 seconds\n",
      "'_update_global_data': 0.000 seconds\n",
      "'local_data_select': 0.005 seconds\n",
      "number obs: 566\n",
      "setting lengthscales to: [1. 1. 1.]\n",
      "'__init__': 0.039 seconds\n",
      "'set_lengthscales_constraints': 0.003 seconds\n",
      "**********\n",
      "optimization failed!\n",
      "'optimise_parameters': 2.356 seconds\n",
      "'get_parameters': 0.005 seconds\n",
      "parameters:\n",
      "lengthscales: array([6.87431167, 9.42213776, 3.38375482]) \n",
      "kernel_variance: 0.023401119265861595\n",
      "likelihood_variance: 0.00244547241742057\n",
      "'predict': 0.441 seconds\n",
      "total run time : 3.13 seconds\n",
      "------------------------------\n",
      "7 / 25\n",
      "          x         y        t   lon        lat\n",
      "6 -200000.0 -200000.0  18326.0 -45.0  87.467477\n",
      "'_max_dist_bool': 0.001 seconds\n",
      "'_from_dataframe': 0.001 seconds\n",
      "'_update_global_data': 0.000 seconds\n",
      "'local_data_select': 0.005 seconds\n",
      "number obs: 548\n",
      "setting lengthscales to: [1. 1. 1.]\n",
      "'__init__': 0.043 seconds\n",
      "'set_lengthscales_constraints': 0.004 seconds\n",
      "'optimise_parameters': 1.637 seconds\n",
      "'get_parameters': 0.004 seconds\n",
      "parameters:\n",
      "lengthscales: array([ 6.46147462, 11.9999999 ,  8.99997736]) \n",
      "kernel_variance: 0.02839392527437921\n",
      "likelihood_variance: 0.0018270019447886047\n",
      "'predict': 0.507 seconds\n",
      "total run time : 2.54 seconds\n",
      "------------------------------\n",
      "8 / 25\n",
      "     x         y        t  lon        lat\n",
      "7  0.0 -200000.0  18326.0  0.0  88.209314\n",
      "'_max_dist_bool': 0.001 seconds\n",
      "'_from_dataframe': 0.001 seconds\n",
      "'_update_global_data': 0.000 seconds\n",
      "'local_data_select': 0.006 seconds\n",
      "number obs: 501\n",
      "setting lengthscales to: [1. 1. 1.]\n",
      "'__init__': 0.045 seconds\n",
      "'set_lengthscales_constraints': 0.004 seconds\n",
      "'optimise_parameters': 1.227 seconds\n",
      "'get_parameters': 0.002 seconds\n",
      "parameters:\n",
      "lengthscales: array([6.0861831 , 5.81813274, 8.99999677]) \n",
      "kernel_variance: 0.009914560169655175\n",
      "likelihood_variance: 0.0015218390052897455\n",
      "'predict': 0.423 seconds\n",
      "total run time : 1.94 seconds\n",
      "------------------------------\n",
      "9 / 25\n",
      "          x         y        t   lon        lat\n",
      "8  200000.0 -200000.0  18326.0  45.0  87.467477\n",
      "'_max_dist_bool': 0.000 seconds\n",
      "'_from_dataframe': 0.001 seconds\n",
      "'_update_global_data': 0.000 seconds\n",
      "'local_data_select': 0.005 seconds\n",
      "number obs: 525\n",
      "setting lengthscales to: [1. 1. 1.]\n",
      "'__init__': 0.039 seconds\n",
      "'set_lengthscales_constraints': 0.003 seconds\n",
      "'optimise_parameters': 1.046 seconds\n",
      "'get_parameters': 0.002 seconds\n",
      "parameters:\n",
      "lengthscales: array([8.09522823, 4.33140439, 8.17991686]) \n",
      "kernel_variance: 0.013011488599569096\n",
      "likelihood_variance: 0.0012718675886312545\n",
      "'predict': 0.416 seconds\n",
      "total run time : 1.75 seconds\n",
      "------------------------------\n",
      "10 / 25\n",
      "          x         y        t        lon      lat\n",
      "9  400000.0 -200000.0  18326.0  63.434949  85.9952\n",
      "'_max_dist_bool': 0.000 seconds\n",
      "'_from_dataframe': 0.001 seconds\n",
      "'_update_global_data': 0.000 seconds\n",
      "'local_data_select': 0.006 seconds\n",
      "number obs: 569\n",
      "setting lengthscales to: [1. 1. 1.]\n",
      "'__init__': 0.041 seconds\n",
      "'set_lengthscales_constraints': 0.003 seconds\n",
      "'optimise_parameters': 1.794 seconds\n",
      "'get_parameters': 0.005 seconds\n",
      "parameters:\n",
      "lengthscales: array([11.92821108,  6.49527592,  8.72266012]) \n",
      "kernel_variance: 0.013974788877689995\n",
      "likelihood_variance: 0.0016707158983577963\n",
      "'predict': 0.435 seconds\n",
      "SAVING RESULTS\n",
      "run_details\n",
      "preds\n",
      "lengthscales\n",
      "kernel_variance\n",
      "likelihood_variance\n",
      "total run time : 2.75 seconds\n",
      "------------------------------\n",
      "11 / 25\n",
      "           x    y        t   lon        lat\n",
      "10 -400000.0  0.0  18326.0 -90.0  86.418156\n",
      "'_max_dist_bool': 0.001 seconds\n",
      "'_from_dataframe': 0.001 seconds\n",
      "'_update_global_data': 0.000 seconds\n",
      "'local_data_select': 0.006 seconds\n",
      "number obs: 591\n",
      "setting lengthscales to: [1. 1. 1.]\n",
      "'__init__': 0.080 seconds\n",
      "'set_lengthscales_constraints': 0.004 seconds\n",
      "**********\n",
      "optimization failed!\n",
      "'optimise_parameters': 3.280 seconds\n",
      "'get_parameters': 0.003 seconds\n",
      "parameters:\n",
      "lengthscales: array([ 7.24285955, 11.99998984,  3.80783589]) \n",
      "kernel_variance: 0.019558632227124544\n",
      "likelihood_variance: 0.0023657047631705235\n",
      "'predict': 0.458 seconds\n",
      "total run time : 4.16 seconds\n",
      "------------------------------\n",
      "12 / 25\n",
      "           x    y        t   lon        lat\n",
      "11 -200000.0  0.0  18326.0 -90.0  88.209314\n",
      "'_max_dist_bool': 0.000 seconds\n",
      "'_from_dataframe': 0.001 seconds\n",
      "'_update_global_data': 0.000 seconds\n",
      "'local_data_select': 0.005 seconds\n",
      "number obs: 516\n",
      "setting lengthscales to: [1. 1. 1.]\n",
      "'__init__': 0.040 seconds\n",
      "'set_lengthscales_constraints': 0.003 seconds\n",
      "'optimise_parameters': 1.849 seconds\n",
      "'get_parameters': 0.003 seconds\n",
      "parameters:\n",
      "lengthscales: array([12.        , 11.99963547,  4.77383121]) \n",
      "kernel_variance: 0.027806356063574456\n",
      "likelihood_variance: 0.0019513935903022678\n",
      "'predict': 0.465 seconds\n",
      "total run time : 2.66 seconds\n",
      "------------------------------\n",
      "13 / 25\n",
      "      x    y        t  lon   lat\n",
      "12  0.0  0.0  18326.0  0.0  90.0\n",
      "'_max_dist_bool': 0.001 seconds\n",
      "'_from_dataframe': 0.001 seconds\n",
      "'_update_global_data': 0.000 seconds\n",
      "'local_data_select': 0.005 seconds\n",
      "number obs: 522\n",
      "setting lengthscales to: [1. 1. 1.]\n",
      "'__init__': 0.050 seconds\n",
      "'set_lengthscales_constraints': 0.004 seconds\n",
      "'optimise_parameters': 1.975 seconds\n",
      "'get_parameters': 0.003 seconds\n",
      "parameters:\n",
      "lengthscales: array([10.80049317,  9.27695325,  8.99997466]) \n",
      "kernel_variance: 0.012820353846938646\n",
      "likelihood_variance: 0.0009243951736814247\n",
      "'predict': 0.424 seconds\n",
      "total run time : 2.75 seconds\n",
      "------------------------------\n",
      "14 / 25\n",
      "           x    y        t   lon        lat\n",
      "13  200000.0  0.0  18326.0  90.0  88.209314\n",
      "'_max_dist_bool': 0.000 seconds\n",
      "'_from_dataframe': 0.001 seconds\n",
      "'_update_global_data': 0.000 seconds\n",
      "'local_data_select': 0.005 seconds\n",
      "number obs: 501\n",
      "setting lengthscales to: [1. 1. 1.]\n",
      "'__init__': 0.041 seconds\n",
      "'set_lengthscales_constraints': 0.003 seconds\n",
      "'optimise_parameters': 1.191 seconds\n",
      "'get_parameters': 0.003 seconds\n",
      "parameters:\n",
      "lengthscales: array([10.88023431,  5.80104428,  8.99990662]) \n",
      "kernel_variance: 0.014735032629896151\n",
      "likelihood_variance: 0.001291216813289659\n",
      "'predict': 0.383 seconds\n",
      "total run time : 1.85 seconds\n",
      "------------------------------\n",
      "15 / 25\n",
      "           x    y        t   lon        lat\n",
      "14  400000.0  0.0  18326.0  90.0  86.418156\n",
      "'_max_dist_bool': 0.000 seconds\n",
      "'_from_dataframe': 0.001 seconds\n",
      "'_update_global_data': 0.000 seconds\n",
      "'local_data_select': 0.006 seconds\n",
      "number obs: 564\n",
      "setting lengthscales to: [1. 1. 1.]\n",
      "'__init__': 0.050 seconds\n",
      "'set_lengthscales_constraints': 0.003 seconds\n",
      "**********\n",
      "optimization failed!\n",
      "'optimise_parameters': 3.003 seconds\n",
      "'get_parameters': 0.003 seconds\n",
      "parameters:\n",
      "lengthscales: array([9.75737477, 6.26281119, 8.99943864]) \n",
      "kernel_variance: 0.008281542284340368\n",
      "likelihood_variance: 0.0013508790330763044\n",
      "'predict': 0.434 seconds\n",
      "total run time : 4.08 seconds\n",
      "------------------------------\n",
      "16 / 25\n",
      "           x         y        t         lon      lat\n",
      "15 -400000.0  200000.0  18326.0 -116.565051  85.9952\n",
      "'_max_dist_bool': 0.001 seconds\n",
      "'_from_dataframe': 0.002 seconds\n",
      "'_update_global_data': 0.000 seconds\n",
      "'local_data_select': 0.007 seconds\n",
      "number obs: 556\n",
      "setting lengthscales to: [1. 1. 1.]\n",
      "'__init__': 0.056 seconds\n",
      "'set_lengthscales_constraints': 0.005 seconds\n",
      "'optimise_parameters': 1.512 seconds\n",
      "'get_parameters': 0.003 seconds\n",
      "parameters:\n",
      "lengthscales: array([ 7.11033806, 11.99993766,  3.40243456]) \n",
      "kernel_variance: 0.020402875887800737\n",
      "likelihood_variance: 0.0019687692778773873\n",
      "'predict': 0.447 seconds\n",
      "total run time : 2.29 seconds\n",
      "------------------------------\n",
      "17 / 25\n",
      "           x         y        t    lon        lat\n",
      "16 -200000.0  200000.0  18326.0 -135.0  87.467477\n",
      "'_max_dist_bool': 0.001 seconds\n",
      "'_from_dataframe': 0.001 seconds\n",
      "'_update_global_data': 0.000 seconds\n",
      "'local_data_select': 0.005 seconds\n",
      "number obs: 556\n",
      "setting lengthscales to: [1. 1. 1.]\n",
      "'__init__': 0.174 seconds\n",
      "'set_lengthscales_constraints': 0.025 seconds\n",
      "'optimise_parameters': 2.550 seconds\n",
      "'get_parameters': 0.003 seconds\n",
      "parameters:\n",
      "lengthscales: array([11.99958271, 11.99996992,  3.78954426]) \n",
      "kernel_variance: 0.021711956424983577\n",
      "likelihood_variance: 0.001735016626315347\n",
      "'predict': 0.466 seconds\n",
      "total run time : 3.47 seconds\n",
      "------------------------------\n",
      "18 / 25\n",
      "      x         y        t    lon        lat\n",
      "17  0.0  200000.0  18326.0  180.0  88.209314\n",
      "'_max_dist_bool': 0.001 seconds\n",
      "'_from_dataframe': 0.001 seconds\n",
      "'_update_global_data': 0.000 seconds\n",
      "'local_data_select': 0.005 seconds\n",
      "number obs: 513\n",
      "setting lengthscales to: [1. 1. 1.]\n",
      "'__init__': 0.045 seconds\n",
      "'set_lengthscales_constraints': 0.003 seconds\n",
      "'optimise_parameters': 1.346 seconds\n",
      "'get_parameters': 0.003 seconds\n",
      "parameters:\n",
      "lengthscales: array([6.77937005, 7.24679072, 8.99975226]) \n",
      "kernel_variance: 0.008906752900197584\n",
      "likelihood_variance: 0.0011674995369027425\n",
      "'predict': 0.416 seconds\n",
      "total run time : 2.04 seconds\n",
      "------------------------------\n",
      "19 / 25\n",
      "           x         y        t    lon        lat\n",
      "18  200000.0  200000.0  18326.0  135.0  87.467477\n",
      "'_max_dist_bool': 0.000 seconds\n",
      "'_from_dataframe': 0.001 seconds\n",
      "'_update_global_data': 0.000 seconds\n",
      "'local_data_select': 0.005 seconds\n",
      "number obs: 532\n",
      "setting lengthscales to: [1. 1. 1.]\n",
      "'__init__': 0.041 seconds\n",
      "'set_lengthscales_constraints': 0.003 seconds\n",
      "'optimise_parameters': 1.832 seconds\n",
      "'get_parameters': 0.002 seconds\n",
      "parameters:\n",
      "lengthscales: array([ 7.46718893, 11.99965826,  8.99989088]) \n",
      "kernel_variance: 0.007193351166594372\n",
      "likelihood_variance: 0.0014107775217220373\n",
      "'predict': 0.422 seconds\n",
      "total run time : 2.54 seconds\n",
      "------------------------------\n",
      "20 / 25\n",
      "           x         y        t         lon      lat\n",
      "19  400000.0  200000.0  18326.0  116.565051  85.9952\n",
      "'_max_dist_bool': 0.000 seconds\n",
      "'_from_dataframe': 0.001 seconds\n",
      "'_update_global_data': 0.000 seconds\n",
      "'local_data_select': 0.005 seconds\n",
      "number obs: 540\n",
      "setting lengthscales to: [1. 1. 1.]\n",
      "'__init__': 0.040 seconds\n",
      "'set_lengthscales_constraints': 0.003 seconds\n",
      "'optimise_parameters': 1.388 seconds\n",
      "'get_parameters': 0.004 seconds\n",
      "parameters:\n",
      "lengthscales: array([11.99976535,  7.62627105,  7.89318888]) \n",
      "kernel_variance: 0.010434827492157198\n",
      "likelihood_variance: 0.001446786687851947\n",
      "'predict': 0.391 seconds\n",
      "SAVING RESULTS\n",
      "run_details\n",
      "preds\n",
      "lengthscales\n",
      "kernel_variance\n",
      "likelihood_variance\n",
      "total run time : 2.30 seconds\n",
      "------------------------------\n",
      "21 / 25\n",
      "           x         y        t    lon        lat\n",
      "20 -400000.0  400000.0  18326.0 -135.0  84.933616\n",
      "'_max_dist_bool': 0.000 seconds\n",
      "'_from_dataframe': 0.001 seconds\n",
      "'_update_global_data': 0.000 seconds\n",
      "'local_data_select': 0.006 seconds\n",
      "number obs: 450\n",
      "setting lengthscales to: [1. 1. 1.]\n",
      "'__init__': 0.046 seconds\n",
      "'set_lengthscales_constraints': 0.004 seconds\n",
      "'optimise_parameters': 1.724 seconds\n",
      "'get_parameters': 0.003 seconds\n",
      "parameters:\n",
      "lengthscales: array([11.99994359, 12.        ,  2.99912758]) \n",
      "kernel_variance: 0.018775324618724318\n",
      "likelihood_variance: 0.001740846956560397\n",
      "'predict': 0.229 seconds\n",
      "total run time : 2.26 seconds\n",
      "------------------------------\n",
      "22 / 25\n",
      "           x         y        t         lon      lat\n",
      "21 -200000.0  400000.0  18326.0 -153.434949  85.9952\n",
      "'_max_dist_bool': 0.001 seconds\n",
      "'_from_dataframe': 0.001 seconds\n",
      "'_update_global_data': 0.000 seconds\n",
      "'local_data_select': 0.005 seconds\n",
      "number obs: 543\n",
      "setting lengthscales to: [1. 1. 1.]\n",
      "'__init__': 0.040 seconds\n",
      "'set_lengthscales_constraints': 0.003 seconds\n",
      "'optimise_parameters': 1.769 seconds\n",
      "'get_parameters': 0.003 seconds\n",
      "parameters:\n",
      "lengthscales: array([4.97048877, 8.53938929, 8.99999993]) \n",
      "kernel_variance: 0.010471928371923307\n",
      "likelihood_variance: 0.001450856638618147\n",
      "'predict': 0.441 seconds\n",
      "total run time : 2.67 seconds\n",
      "------------------------------\n",
      "23 / 25\n",
      "      x         y        t    lon        lat\n",
      "22  0.0  400000.0  18326.0  180.0  86.418156\n",
      "'_max_dist_bool': 0.000 seconds\n",
      "'_from_dataframe': 0.001 seconds\n",
      "'_update_global_data': 0.000 seconds\n",
      "'local_data_select': 0.008 seconds\n",
      "number obs: 552\n",
      "setting lengthscales to: [1. 1. 1.]\n",
      "'__init__': 0.054 seconds\n",
      "'set_lengthscales_constraints': 0.003 seconds\n",
      "'optimise_parameters': 1.757 seconds\n",
      "'get_parameters': 0.003 seconds\n",
      "parameters:\n",
      "lengthscales: array([ 5.59743316, 11.99999111,  8.9999999 ]) \n",
      "kernel_variance: 0.00896970486677617\n",
      "likelihood_variance: 0.0016418060518510462\n",
      "'predict': 0.408 seconds\n",
      "total run time : 2.52 seconds\n",
      "------------------------------\n",
      "24 / 25\n",
      "           x         y        t         lon      lat\n",
      "23  200000.0  400000.0  18326.0  153.434949  85.9952\n",
      "'_max_dist_bool': 0.001 seconds\n",
      "'_from_dataframe': 0.001 seconds\n",
      "'_update_global_data': 0.000 seconds\n",
      "'local_data_select': 0.005 seconds\n",
      "number obs: 536\n",
      "setting lengthscales to: [1. 1. 1.]\n",
      "'__init__': 0.054 seconds\n",
      "'set_lengthscales_constraints': 0.003 seconds\n",
      "'optimise_parameters': 1.917 seconds\n",
      "'get_parameters': 0.002 seconds\n",
      "parameters:\n",
      "lengthscales: array([11.99743619, 11.99988523,  8.99980634]) \n",
      "kernel_variance: 0.005548752661743908\n",
      "likelihood_variance: 0.0014619306721509286\n",
      "'predict': 0.357 seconds\n",
      "total run time : 2.58 seconds\n",
      "------------------------------\n",
      "25 / 25\n",
      "           x         y        t    lon        lat\n",
      "24  400000.0  400000.0  18326.0  135.0  84.933616\n",
      "'_max_dist_bool': 0.000 seconds\n",
      "'_from_dataframe': 0.001 seconds\n",
      "'_update_global_data': 0.000 seconds\n",
      "'local_data_select': 0.006 seconds\n",
      "number obs: 431\n",
      "setting lengthscales to: [1. 1. 1.]\n",
      "'__init__': 0.044 seconds\n",
      "'set_lengthscales_constraints': 0.003 seconds\n",
      "'optimise_parameters': 1.251 seconds\n",
      "'get_parameters': 0.003 seconds\n",
      "parameters:\n",
      "lengthscales: array([11.9999574 ,  7.11569308,  8.0543399 ]) \n",
      "kernel_variance: 0.005865779929421028\n",
      "likelihood_variance: 0.001212850475872797\n",
      "'predict': 0.216 seconds\n",
      "total run time : 1.79 seconds\n",
      "storing any remaining tables\n",
      "SAVING RESULTS\n",
      "run_details\n",
      "preds\n",
      "lengthscales\n",
      "kernel_variance\n",
      "likelihood_variance\n",
      "'run': 63.409 seconds\n"
     ]
    }
   ],
   "source": [
    "# path to store results\n",
    "store_path = get_parent_path(\"results\", \"inline_example.h5\")\n",
    "\n",
    "# for the purposes of a simple example, if store_path exists: delete it\n",
    "if os.path.exists(store_path):\n",
    "    cprint(f\"removing: {store_path}\")\n",
    "    os.remove(store_path)\n",
    "\n",
    "# run optimal interpolation\n",
    "locexp.run(store_path=store_path,\n",
    "           optimise=True)"
   ]
  },
  {
   "cell_type": "markdown",
   "metadata": {
    "collapsed": false
   },
   "source": [
    "results (predictions and parameters) are store in hdf5"
   ]
  },
  {
   "cell_type": "code",
   "execution_count": 12,
   "metadata": {
    "ExecuteTime": {
     "end_time": "2023-06-07T10:04:19.779013030Z",
     "start_time": "2023-06-07T10:04:19.361471157Z"
    },
    "collapsed": false
   },
   "outputs": [
    {
     "name": "stdout",
     "output_type": "stream",
     "text": [
      "reading in results\n",
      "getting all tables\n",
      "merging on expert location data\n",
      "table: 'oi_config' does not have all coords_col: ['x', 'y', 't'] in columns, not merging on expert_locations\n",
      "tables in results file: ['expert_locs', 'kernel_variance', 'lengthscales', 'likelihood_variance', 'oi_config', 'preds', 'run_details']\n"
     ]
    }
   ],
   "source": [
    "\n",
    "# extract, store in dict\n",
    "dfs, _ = get_results_from_h5file(store_path)\n",
    "\n",
    "print(f\"tables in results file: {list(dfs.keys())}\")\n"
   ]
  },
  {
   "cell_type": "markdown",
   "metadata": {
    "collapsed": false
   },
   "source": [
    "plot the predictions"
   ]
  },
  {
   "cell_type": "code",
   "execution_count": 13,
   "metadata": {
    "ExecuteTime": {
     "end_time": "2023-06-07T10:04:20.243729562Z",
     "start_time": "2023-06-07T10:04:19.783482842Z"
    },
    "collapsed": false
   },
   "outputs": [
    {
     "name": "stdout",
     "output_type": "stream",
     "text": [
      "'data_select': 0.001 seconds\n",
      "'load': 0.002 seconds\n"
     ]
    },
    {
     "ename": "AttributeError",
     "evalue": "'GeoAxes' object has no attribute '_autoscaleXon'",
     "output_type": "error",
     "traceback": [
      "\u001b[0;31m---------------------------------------------------------------------------\u001b[0m",
      "\u001b[0;31mAttributeError\u001b[0m                            Traceback (most recent call last)",
      "Cell \u001b[0;32mIn[13], line 21\u001b[0m\n\u001b[1;32m     19\u001b[0m fig \u001b[39m=\u001b[39m plt\u001b[39m.\u001b[39mfigure(figsize\u001b[39m=\u001b[39m(\u001b[39m12\u001b[39m, \u001b[39m12\u001b[39m))\n\u001b[1;32m     20\u001b[0m ax \u001b[39m=\u001b[39m fig\u001b[39m.\u001b[39madd_subplot(\u001b[39m1\u001b[39m, \u001b[39m1\u001b[39m, \u001b[39m1\u001b[39m, projection\u001b[39m=\u001b[39mget_projection(\u001b[39m'\u001b[39m\u001b[39mnorth\u001b[39m\u001b[39m'\u001b[39m))\n\u001b[0;32m---> 21\u001b[0m plot_pcolormesh_from_results_data(ax\u001b[39m=\u001b[39;49max,\n\u001b[1;32m     22\u001b[0m                                   dfs\u001b[39m=\u001b[39;49m{\u001b[39m\"\u001b[39;49m\u001b[39mpreds\u001b[39;49m\u001b[39m\"\u001b[39;49m: plt_data},\n\u001b[1;32m     23\u001b[0m                                   table\u001b[39m=\u001b[39;49m\u001b[39m'\u001b[39;49m\u001b[39mpreds\u001b[39;49m\u001b[39m'\u001b[39;49m,\n\u001b[1;32m     24\u001b[0m                                   val_col\u001b[39m=\u001b[39;49m\u001b[39m\"\u001b[39;49m\u001b[39mf*\u001b[39;49m\u001b[39m\"\u001b[39;49m,\n\u001b[1;32m     25\u001b[0m                                   scatter\u001b[39m=\u001b[39;49m\u001b[39mFalse\u001b[39;49;00m,\n\u001b[1;32m     26\u001b[0m                                   x_col\u001b[39m=\u001b[39;49m\u001b[39m'\u001b[39;49m\u001b[39mpred_loc_x\u001b[39;49m\u001b[39m'\u001b[39;49m,\n\u001b[1;32m     27\u001b[0m                                   y_col\u001b[39m=\u001b[39;49m\u001b[39m'\u001b[39;49m\u001b[39mpred_loc_y\u001b[39;49m\u001b[39m'\u001b[39;49m,\n\u001b[1;32m     28\u001b[0m                                   fig\u001b[39m=\u001b[39;49mfig,\n\u001b[1;32m     29\u001b[0m                                   plot_kwargs\u001b[39m=\u001b[39;49m{\u001b[39m\"\u001b[39;49m\u001b[39mtitle\u001b[39;49m\u001b[39m\"\u001b[39;49m: \u001b[39m\"\u001b[39;49m\u001b[39mf*: predictions\u001b[39;49m\u001b[39m\"\u001b[39;49m})\n\u001b[1;32m     30\u001b[0m plt\u001b[39m.\u001b[39mtight_layout()\n\u001b[1;32m     31\u001b[0m plt\u001b[39m.\u001b[39mshow()\n",
      "File \u001b[0;32m~/Dropbox/Mac/Documents/GPSat/GPSat/plot_utils.py:317\u001b[0m, in \u001b[0;36mplot_pcolormesh_from_results_data\u001b[0;34m(ax, dfs, table, val_col, lon_col, lat_col, x_col, y_col, lat_0, lon_0, fig, load_kwargs, plot_kwargs, weighted_values_kwargs, verbose, **kwargs)\u001b[0m\n\u001b[1;32m    314\u001b[0m     \u001b[39m# convert the x,y coords to lon lat coords\u001b[39;00m\n\u001b[1;32m    315\u001b[0m     lon_grid, lat_grid \u001b[39m=\u001b[39m EASE2toWGS84_New(x_grid, y_grid, lat_0\u001b[39m=\u001b[39mlat_0, lon_0\u001b[39m=\u001b[39mlon_0)\n\u001b[0;32m--> 317\u001b[0m     plot_pcolormesh(ax\u001b[39m=\u001b[39;49max,\n\u001b[1;32m    318\u001b[0m                     lon\u001b[39m=\u001b[39;49mlon_grid,\n\u001b[1;32m    319\u001b[0m                     lat\u001b[39m=\u001b[39;49mlat_grid,\n\u001b[1;32m    320\u001b[0m                     plot_data\u001b[39m=\u001b[39;49mval2d,\n\u001b[1;32m    321\u001b[0m                     fig\u001b[39m=\u001b[39;49mfig,\n\u001b[1;32m    322\u001b[0m                     \u001b[39m*\u001b[39;49m\u001b[39m*\u001b[39;49mplot_kwargs)\n\u001b[1;32m    324\u001b[0m \u001b[39m# scatter plot\u001b[39;00m\n\u001b[1;32m    325\u001b[0m \u001b[39melse\u001b[39;00m:\n\u001b[1;32m    326\u001b[0m     \u001b[39massert\u001b[39;00m (lon_col \u001b[39mis\u001b[39;00m \u001b[39mnot\u001b[39;00m \u001b[39mNone\u001b[39;00m) \u001b[39m&\u001b[39m (lat_col \u001b[39mis\u001b[39;00m \u001b[39mnot\u001b[39;00m \u001b[39mNone\u001b[39;00m), \u001b[39mf\u001b[39m\u001b[39m\"\u001b[39m\u001b[39mscatter plot requires \u001b[39m\u001b[39m\"\u001b[39m \\\n\u001b[1;32m    327\u001b[0m                                                           \u001b[39mf\u001b[39m\u001b[39m\"\u001b[39m\u001b[39mlon_col: \u001b[39m\u001b[39m{\u001b[39;00mlon_col\u001b[39m}\u001b[39;00m\u001b[39m and \u001b[39m\u001b[39m\"\u001b[39m \\\n\u001b[1;32m    328\u001b[0m                                                           \u001b[39mf\u001b[39m\u001b[39m\"\u001b[39m\u001b[39mlat_col: \u001b[39m\u001b[39m{\u001b[39;00mlat_col\u001b[39m}\u001b[39;00m\u001b[39m to both not be None\u001b[39m\u001b[39m\"\u001b[39m\n",
      "File \u001b[0;32m~/Dropbox/Mac/Documents/GPSat/GPSat/decorators.py:37\u001b[0m, in \u001b[0;36mtimer.<locals>.caller\u001b[0;34m(*args, **kwargs)\u001b[0m\n\u001b[1;32m     34\u001b[0m \u001b[39m@wraps\u001b[39m(func)\n\u001b[1;32m     35\u001b[0m \u001b[39mdef\u001b[39;00m \u001b[39mcaller\u001b[39m(\u001b[39m*\u001b[39margs, \u001b[39m*\u001b[39m\u001b[39m*\u001b[39mkwargs):\n\u001b[1;32m     36\u001b[0m     t0 \u001b[39m=\u001b[39m time\u001b[39m.\u001b[39mperf_counter()\n\u001b[0;32m---> 37\u001b[0m     result \u001b[39m=\u001b[39m func(\u001b[39m*\u001b[39;49margs, \u001b[39m*\u001b[39;49m\u001b[39m*\u001b[39;49mkwargs)\n\u001b[1;32m     38\u001b[0m     t1 \u001b[39m=\u001b[39m time\u001b[39m.\u001b[39mperf_counter()\n\u001b[1;32m     39\u001b[0m     \u001b[39m# TODO: could check kwargs for verbose and decide not print\u001b[39;00m\n",
      "File \u001b[0;32m~/Dropbox/Mac/Documents/GPSat/GPSat/plot_utils.py:89\u001b[0m, in \u001b[0;36mplot_pcolormesh\u001b[0;34m(ax, lon, lat, plot_data, fig, title, vmin, vmax, qvmin, qvmax, cmap, cbar_label, scatter, extent, ocean_only, **scatter_args)\u001b[0m\n\u001b[1;32m     86\u001b[0m     \u001b[39massert\u001b[39;00m vmin \u001b[39m<\u001b[39m\u001b[39m=\u001b[39m vmax, \u001b[39mf\u001b[39m\u001b[39m\"\u001b[39m\u001b[39mvmin: \u001b[39m\u001b[39m{\u001b[39;00mvmin\u001b[39m}\u001b[39;00m\u001b[39m > vmax: \u001b[39m\u001b[39m{\u001b[39;00mvmax\u001b[39m}\u001b[39;00m\u001b[39m\"\u001b[39m\n\u001b[1;32m     88\u001b[0m \u001b[39mif\u001b[39;00m \u001b[39mnot\u001b[39;00m scatter:\n\u001b[0;32m---> 89\u001b[0m     s \u001b[39m=\u001b[39m ax\u001b[39m.\u001b[39;49mpcolormesh(lon, lat, plot_data,\n\u001b[1;32m     90\u001b[0m                       cmap\u001b[39m=\u001b[39;49mcmap,\n\u001b[1;32m     91\u001b[0m                       vmin\u001b[39m=\u001b[39;49mvmin, vmax\u001b[39m=\u001b[39;49mvmax,\n\u001b[1;32m     92\u001b[0m                       transform\u001b[39m=\u001b[39;49mccrs\u001b[39m.\u001b[39;49mPlateCarree(),\n\u001b[1;32m     93\u001b[0m                       linewidth\u001b[39m=\u001b[39;49m\u001b[39m0\u001b[39;49m,\n\u001b[1;32m     94\u001b[0m                       shading\u001b[39m=\u001b[39;49m\u001b[39m\"\u001b[39;49m\u001b[39mauto\u001b[39;49m\u001b[39m\"\u001b[39;49m,\u001b[39m# to remove DeprecationWarning\u001b[39;49;00m\n\u001b[1;32m     95\u001b[0m                       rasterized\u001b[39m=\u001b[39;49m\u001b[39mTrue\u001b[39;49;00m)\n\u001b[1;32m     96\u001b[0m \u001b[39melse\u001b[39;00m:\n\u001b[1;32m     97\u001b[0m     non_nan \u001b[39m=\u001b[39m \u001b[39m~\u001b[39mnp\u001b[39m.\u001b[39misnan(plot_data)\n",
      "File \u001b[0;32m/opt/homebrew/Caskroom/miniforge/base/envs/gpsat2/lib/python3.8/site-packages/cartopy/mpl/geoaxes.py:318\u001b[0m, in \u001b[0;36m_add_transform.<locals>.wrapper\u001b[0;34m(self, *args, **kwargs)\u001b[0m\n\u001b[1;32m    313\u001b[0m     \u001b[39mraise\u001b[39;00m \u001b[39mValueError\u001b[39;00m(\u001b[39mf\u001b[39m\u001b[39m'\u001b[39m\u001b[39mInvalid transform: Spherical \u001b[39m\u001b[39m{\u001b[39;00mfunc\u001b[39m.\u001b[39m\u001b[39m__name__\u001b[39m\u001b[39m}\u001b[39;00m\u001b[39m \u001b[39m\u001b[39m'\u001b[39m\n\u001b[1;32m    314\u001b[0m                      \u001b[39m'\u001b[39m\u001b[39mis not supported - consider using \u001b[39m\u001b[39m'\u001b[39m\n\u001b[1;32m    315\u001b[0m                      \u001b[39m'\u001b[39m\u001b[39mPlateCarree/RotatedPole.\u001b[39m\u001b[39m'\u001b[39m)\n\u001b[1;32m    317\u001b[0m kwargs[\u001b[39m'\u001b[39m\u001b[39mtransform\u001b[39m\u001b[39m'\u001b[39m] \u001b[39m=\u001b[39m transform\n\u001b[0;32m--> 318\u001b[0m \u001b[39mreturn\u001b[39;00m func(\u001b[39mself\u001b[39;49m, \u001b[39m*\u001b[39;49margs, \u001b[39m*\u001b[39;49m\u001b[39m*\u001b[39;49mkwargs)\n",
      "File \u001b[0;32m/opt/homebrew/Caskroom/miniforge/base/envs/gpsat2/lib/python3.8/site-packages/cartopy/mpl/geoaxes.py:1804\u001b[0m, in \u001b[0;36mGeoAxes.pcolormesh\u001b[0;34m(self, *args, **kwargs)\u001b[0m\n\u001b[1;32m   1800\u001b[0m \u001b[39m# Re-cast the QuadMesh as a GeoQuadMesh to enable future wrapping\u001b[39;00m\n\u001b[1;32m   1801\u001b[0m \u001b[39m# updates to the collection as well.\u001b[39;00m\n\u001b[1;32m   1802\u001b[0m result\u001b[39m.\u001b[39m\u001b[39m__class__\u001b[39m \u001b[39m=\u001b[39m cartopy\u001b[39m.\u001b[39mmpl\u001b[39m.\u001b[39mgeocollection\u001b[39m.\u001b[39mGeoQuadMesh\n\u001b[0;32m-> 1804\u001b[0m \u001b[39mself\u001b[39;49m\u001b[39m.\u001b[39;49mautoscale_view()\n\u001b[1;32m   1805\u001b[0m \u001b[39mreturn\u001b[39;00m result\n",
      "File \u001b[0;32m/opt/homebrew/Caskroom/miniforge/base/envs/gpsat2/lib/python3.8/site-packages/cartopy/mpl/geoaxes.py:946\u001b[0m, in \u001b[0;36mGeoAxes.autoscale_view\u001b[0;34m(self, tight, scalex, scaley)\u001b[0m\n\u001b[1;32m    943\u001b[0m matplotlib\u001b[39m.\u001b[39maxes\u001b[39m.\u001b[39mAxes\u001b[39m.\u001b[39mautoscale_view(\u001b[39mself\u001b[39m, tight\u001b[39m=\u001b[39mtight,\n\u001b[1;32m    944\u001b[0m                                     scalex\u001b[39m=\u001b[39mscalex, scaley\u001b[39m=\u001b[39mscaley)\n\u001b[1;32m    945\u001b[0m \u001b[39m# Limit the resulting bounds to valid area.\u001b[39;00m\n\u001b[0;32m--> 946\u001b[0m \u001b[39mif\u001b[39;00m scalex \u001b[39mand\u001b[39;00m \u001b[39mself\u001b[39;49m\u001b[39m.\u001b[39;49m_autoscaleXon:\n\u001b[1;32m    947\u001b[0m     bounds \u001b[39m=\u001b[39m \u001b[39mself\u001b[39m\u001b[39m.\u001b[39mget_xbound()\n\u001b[1;32m    948\u001b[0m     \u001b[39mself\u001b[39m\u001b[39m.\u001b[39mset_xbound(\u001b[39mmax\u001b[39m(bounds[\u001b[39m0\u001b[39m], \u001b[39mself\u001b[39m\u001b[39m.\u001b[39mprojection\u001b[39m.\u001b[39mx_limits[\u001b[39m0\u001b[39m]),\n\u001b[1;32m    949\u001b[0m                     \u001b[39mmin\u001b[39m(bounds[\u001b[39m1\u001b[39m], \u001b[39mself\u001b[39m\u001b[39m.\u001b[39mprojection\u001b[39m.\u001b[39mx_limits[\u001b[39m1\u001b[39m]))\n",
      "\u001b[0;31mAttributeError\u001b[0m: 'GeoAxes' object has no attribute '_autoscaleXon'"
     ]
    },
    {
     "name": "stdout",
     "output_type": "stream",
     "text": [
      "Error in callback <function _draw_all_if_interactive at 0x7fb5a0193c10> (for post_execute):\n"
     ]
    },
    {
     "ename": "AttributeError",
     "evalue": "'GeoAxes' object has no attribute '_autoscaleXon'",
     "output_type": "error",
     "traceback": [
      "\u001b[0;31m---------------------------------------------------------------------------\u001b[0m",
      "\u001b[0;31mAttributeError\u001b[0m                            Traceback (most recent call last)",
      "File \u001b[0;32m/opt/homebrew/Caskroom/miniforge/base/envs/gpsat2/lib/python3.8/site-packages/matplotlib/pyplot.py:120\u001b[0m, in \u001b[0;36m_draw_all_if_interactive\u001b[0;34m()\u001b[0m\n\u001b[1;32m    118\u001b[0m \u001b[39mdef\u001b[39;00m \u001b[39m_draw_all_if_interactive\u001b[39m():\n\u001b[1;32m    119\u001b[0m     \u001b[39mif\u001b[39;00m matplotlib\u001b[39m.\u001b[39mis_interactive():\n\u001b[0;32m--> 120\u001b[0m         draw_all()\n",
      "File \u001b[0;32m/opt/homebrew/Caskroom/miniforge/base/envs/gpsat2/lib/python3.8/site-packages/matplotlib/_pylab_helpers.py:132\u001b[0m, in \u001b[0;36mGcf.draw_all\u001b[0;34m(cls, force)\u001b[0m\n\u001b[1;32m    130\u001b[0m \u001b[39mfor\u001b[39;00m manager \u001b[39min\u001b[39;00m \u001b[39mcls\u001b[39m\u001b[39m.\u001b[39mget_all_fig_managers():\n\u001b[1;32m    131\u001b[0m     \u001b[39mif\u001b[39;00m force \u001b[39mor\u001b[39;00m manager\u001b[39m.\u001b[39mcanvas\u001b[39m.\u001b[39mfigure\u001b[39m.\u001b[39mstale:\n\u001b[0;32m--> 132\u001b[0m         manager\u001b[39m.\u001b[39;49mcanvas\u001b[39m.\u001b[39;49mdraw_idle()\n",
      "File \u001b[0;32m/opt/homebrew/Caskroom/miniforge/base/envs/gpsat2/lib/python3.8/site-packages/matplotlib/backend_bases.py:2082\u001b[0m, in \u001b[0;36mFigureCanvasBase.draw_idle\u001b[0;34m(self, *args, **kwargs)\u001b[0m\n\u001b[1;32m   2080\u001b[0m \u001b[39mif\u001b[39;00m \u001b[39mnot\u001b[39;00m \u001b[39mself\u001b[39m\u001b[39m.\u001b[39m_is_idle_drawing:\n\u001b[1;32m   2081\u001b[0m     \u001b[39mwith\u001b[39;00m \u001b[39mself\u001b[39m\u001b[39m.\u001b[39m_idle_draw_cntx():\n\u001b[0;32m-> 2082\u001b[0m         \u001b[39mself\u001b[39;49m\u001b[39m.\u001b[39;49mdraw(\u001b[39m*\u001b[39;49margs, \u001b[39m*\u001b[39;49m\u001b[39m*\u001b[39;49mkwargs)\n",
      "File \u001b[0;32m/opt/homebrew/Caskroom/miniforge/base/envs/gpsat2/lib/python3.8/site-packages/matplotlib/backends/backend_agg.py:400\u001b[0m, in \u001b[0;36mFigureCanvasAgg.draw\u001b[0;34m(self)\u001b[0m\n\u001b[1;32m    396\u001b[0m \u001b[39m# Acquire a lock on the shared font cache.\u001b[39;00m\n\u001b[1;32m    397\u001b[0m \u001b[39mwith\u001b[39;00m RendererAgg\u001b[39m.\u001b[39mlock, \\\n\u001b[1;32m    398\u001b[0m      (\u001b[39mself\u001b[39m\u001b[39m.\u001b[39mtoolbar\u001b[39m.\u001b[39m_wait_cursor_for_draw_cm() \u001b[39mif\u001b[39;00m \u001b[39mself\u001b[39m\u001b[39m.\u001b[39mtoolbar\n\u001b[1;32m    399\u001b[0m       \u001b[39melse\u001b[39;00m nullcontext()):\n\u001b[0;32m--> 400\u001b[0m     \u001b[39mself\u001b[39;49m\u001b[39m.\u001b[39;49mfigure\u001b[39m.\u001b[39;49mdraw(\u001b[39mself\u001b[39;49m\u001b[39m.\u001b[39;49mrenderer)\n\u001b[1;32m    401\u001b[0m     \u001b[39m# A GUI class may be need to update a window using this draw, so\u001b[39;00m\n\u001b[1;32m    402\u001b[0m     \u001b[39m# don't forget to call the superclass.\u001b[39;00m\n\u001b[1;32m    403\u001b[0m     \u001b[39msuper\u001b[39m()\u001b[39m.\u001b[39mdraw()\n",
      "File \u001b[0;32m/opt/homebrew/Caskroom/miniforge/base/envs/gpsat2/lib/python3.8/site-packages/matplotlib/artist.py:95\u001b[0m, in \u001b[0;36m_finalize_rasterization.<locals>.draw_wrapper\u001b[0;34m(artist, renderer, *args, **kwargs)\u001b[0m\n\u001b[1;32m     93\u001b[0m \u001b[39m@wraps\u001b[39m(draw)\n\u001b[1;32m     94\u001b[0m \u001b[39mdef\u001b[39;00m \u001b[39mdraw_wrapper\u001b[39m(artist, renderer, \u001b[39m*\u001b[39margs, \u001b[39m*\u001b[39m\u001b[39m*\u001b[39mkwargs):\n\u001b[0;32m---> 95\u001b[0m     result \u001b[39m=\u001b[39m draw(artist, renderer, \u001b[39m*\u001b[39;49margs, \u001b[39m*\u001b[39;49m\u001b[39m*\u001b[39;49mkwargs)\n\u001b[1;32m     96\u001b[0m     \u001b[39mif\u001b[39;00m renderer\u001b[39m.\u001b[39m_rasterizing:\n\u001b[1;32m     97\u001b[0m         renderer\u001b[39m.\u001b[39mstop_rasterizing()\n",
      "File \u001b[0;32m/opt/homebrew/Caskroom/miniforge/base/envs/gpsat2/lib/python3.8/site-packages/matplotlib/artist.py:72\u001b[0m, in \u001b[0;36mallow_rasterization.<locals>.draw_wrapper\u001b[0;34m(artist, renderer)\u001b[0m\n\u001b[1;32m     69\u001b[0m     \u001b[39mif\u001b[39;00m artist\u001b[39m.\u001b[39mget_agg_filter() \u001b[39mis\u001b[39;00m \u001b[39mnot\u001b[39;00m \u001b[39mNone\u001b[39;00m:\n\u001b[1;32m     70\u001b[0m         renderer\u001b[39m.\u001b[39mstart_filter()\n\u001b[0;32m---> 72\u001b[0m     \u001b[39mreturn\u001b[39;00m draw(artist, renderer)\n\u001b[1;32m     73\u001b[0m \u001b[39mfinally\u001b[39;00m:\n\u001b[1;32m     74\u001b[0m     \u001b[39mif\u001b[39;00m artist\u001b[39m.\u001b[39mget_agg_filter() \u001b[39mis\u001b[39;00m \u001b[39mnot\u001b[39;00m \u001b[39mNone\u001b[39;00m:\n",
      "File \u001b[0;32m/opt/homebrew/Caskroom/miniforge/base/envs/gpsat2/lib/python3.8/site-packages/matplotlib/figure.py:3129\u001b[0m, in \u001b[0;36mFigure.draw\u001b[0;34m(self, renderer)\u001b[0m\n\u001b[1;32m   3126\u001b[0m \u001b[39mif\u001b[39;00m \u001b[39mnot\u001b[39;00m \u001b[39mself\u001b[39m\u001b[39m.\u001b[39mget_visible():\n\u001b[1;32m   3127\u001b[0m     \u001b[39mreturn\u001b[39;00m\n\u001b[0;32m-> 3129\u001b[0m artists \u001b[39m=\u001b[39m \u001b[39mself\u001b[39;49m\u001b[39m.\u001b[39;49m_get_draw_artists(renderer)\n\u001b[1;32m   3130\u001b[0m \u001b[39mtry\u001b[39;00m:\n\u001b[1;32m   3131\u001b[0m     renderer\u001b[39m.\u001b[39mopen_group(\u001b[39m'\u001b[39m\u001b[39mfigure\u001b[39m\u001b[39m'\u001b[39m, gid\u001b[39m=\u001b[39m\u001b[39mself\u001b[39m\u001b[39m.\u001b[39mget_gid())\n",
      "File \u001b[0;32m/opt/homebrew/Caskroom/miniforge/base/envs/gpsat2/lib/python3.8/site-packages/matplotlib/figure.py:221\u001b[0m, in \u001b[0;36mFigureBase._get_draw_artists\u001b[0;34m(self, renderer)\u001b[0m\n\u001b[1;32m    219\u001b[0m \u001b[39mfor\u001b[39;00m ax \u001b[39min\u001b[39;00m \u001b[39mself\u001b[39m\u001b[39m.\u001b[39m_localaxes:\n\u001b[1;32m    220\u001b[0m     locator \u001b[39m=\u001b[39m ax\u001b[39m.\u001b[39mget_axes_locator()\n\u001b[0;32m--> 221\u001b[0m     ax\u001b[39m.\u001b[39;49mapply_aspect(locator(ax, renderer) \u001b[39mif\u001b[39;49;00m locator \u001b[39melse\u001b[39;49;00m \u001b[39mNone\u001b[39;49;00m)\n\u001b[1;32m    223\u001b[0m     \u001b[39mfor\u001b[39;00m child \u001b[39min\u001b[39;00m ax\u001b[39m.\u001b[39mget_children():\n\u001b[1;32m    224\u001b[0m         \u001b[39mif\u001b[39;00m \u001b[39mhasattr\u001b[39m(child, \u001b[39m'\u001b[39m\u001b[39mapply_aspect\u001b[39m\u001b[39m'\u001b[39m):\n",
      "File \u001b[0;32m/opt/homebrew/Caskroom/miniforge/base/envs/gpsat2/lib/python3.8/site-packages/matplotlib/axes/_base.py:1924\u001b[0m, in \u001b[0;36m_AxesBase.apply_aspect\u001b[0;34m(self, position)\u001b[0m\n\u001b[1;32m   1921\u001b[0m \u001b[39mif\u001b[39;00m \u001b[39mself\u001b[39m \u001b[39min\u001b[39;00m \u001b[39mself\u001b[39m\u001b[39m.\u001b[39m_twinned_axes:\n\u001b[1;32m   1922\u001b[0m     \u001b[39mraise\u001b[39;00m \u001b[39mRuntimeError\u001b[39;00m(\u001b[39m\"\u001b[39m\u001b[39mAdjustable \u001b[39m\u001b[39m'\u001b[39m\u001b[39mbox\u001b[39m\u001b[39m'\u001b[39m\u001b[39m is not allowed in a \u001b[39m\u001b[39m\"\u001b[39m\n\u001b[1;32m   1923\u001b[0m                        \u001b[39m\"\u001b[39m\u001b[39mtwinned Axes; use \u001b[39m\u001b[39m'\u001b[39m\u001b[39mdatalim\u001b[39m\u001b[39m'\u001b[39m\u001b[39m instead\u001b[39m\u001b[39m\"\u001b[39m)\n\u001b[0;32m-> 1924\u001b[0m box_aspect \u001b[39m=\u001b[39m aspect \u001b[39m*\u001b[39m \u001b[39mself\u001b[39;49m\u001b[39m.\u001b[39;49mget_data_ratio()\n\u001b[1;32m   1925\u001b[0m pb \u001b[39m=\u001b[39m position\u001b[39m.\u001b[39mfrozen()\n\u001b[1;32m   1926\u001b[0m pb1 \u001b[39m=\u001b[39m pb\u001b[39m.\u001b[39mshrunk_to_aspect(box_aspect, pb, fig_aspect)\n",
      "File \u001b[0;32m/opt/homebrew/Caskroom/miniforge/base/envs/gpsat2/lib/python3.8/site-packages/matplotlib/axes/_base.py:1870\u001b[0m, in \u001b[0;36m_AxesBase.get_data_ratio\u001b[0;34m(self)\u001b[0m\n\u001b[1;32m   1862\u001b[0m \u001b[39mdef\u001b[39;00m \u001b[39mget_data_ratio\u001b[39m(\u001b[39mself\u001b[39m):\n\u001b[1;32m   1863\u001b[0m \u001b[39m    \u001b[39m\u001b[39m\"\"\"\u001b[39;00m\n\u001b[1;32m   1864\u001b[0m \u001b[39m    Return the aspect ratio of the scaled data.\u001b[39;00m\n\u001b[1;32m   1865\u001b[0m \n\u001b[0;32m   (...)\u001b[0m\n\u001b[1;32m   1868\u001b[0m \u001b[39m    This method is intended to be overridden by new projection types.\u001b[39;00m\n\u001b[1;32m   1869\u001b[0m \u001b[39m    \"\"\"\u001b[39;00m\n\u001b[0;32m-> 1870\u001b[0m     txmin, txmax \u001b[39m=\u001b[39m \u001b[39mself\u001b[39m\u001b[39m.\u001b[39mxaxis\u001b[39m.\u001b[39mget_transform()\u001b[39m.\u001b[39mtransform(\u001b[39mself\u001b[39;49m\u001b[39m.\u001b[39;49mget_xbound())\n\u001b[1;32m   1871\u001b[0m     tymin, tymax \u001b[39m=\u001b[39m \u001b[39mself\u001b[39m\u001b[39m.\u001b[39myaxis\u001b[39m.\u001b[39mget_transform()\u001b[39m.\u001b[39mtransform(\u001b[39mself\u001b[39m\u001b[39m.\u001b[39mget_ybound())\n\u001b[1;32m   1872\u001b[0m     xsize \u001b[39m=\u001b[39m \u001b[39mmax\u001b[39m(\u001b[39mabs\u001b[39m(txmax \u001b[39m-\u001b[39m txmin), \u001b[39m1e-30\u001b[39m)\n",
      "File \u001b[0;32m/opt/homebrew/Caskroom/miniforge/base/envs/gpsat2/lib/python3.8/site-packages/matplotlib/axes/_base.py:3496\u001b[0m, in \u001b[0;36m_AxesBase.get_xbound\u001b[0;34m(self)\u001b[0m\n\u001b[1;32m   3486\u001b[0m \u001b[39mdef\u001b[39;00m \u001b[39mget_xbound\u001b[39m(\u001b[39mself\u001b[39m):\n\u001b[1;32m   3487\u001b[0m \u001b[39m    \u001b[39m\u001b[39m\"\"\"\u001b[39;00m\n\u001b[1;32m   3488\u001b[0m \u001b[39m    Return the lower and upper x-axis bounds, in increasing order.\u001b[39;00m\n\u001b[1;32m   3489\u001b[0m \n\u001b[0;32m   (...)\u001b[0m\n\u001b[1;32m   3494\u001b[0m \u001b[39m    invert_xaxis, xaxis_inverted\u001b[39;00m\n\u001b[1;32m   3495\u001b[0m \u001b[39m    \"\"\"\u001b[39;00m\n\u001b[0;32m-> 3496\u001b[0m     left, right \u001b[39m=\u001b[39m \u001b[39mself\u001b[39;49m\u001b[39m.\u001b[39;49mget_xlim()\n\u001b[1;32m   3497\u001b[0m     \u001b[39mif\u001b[39;00m left \u001b[39m<\u001b[39m right:\n\u001b[1;32m   3498\u001b[0m         \u001b[39mreturn\u001b[39;00m left, right\n",
      "File \u001b[0;32m/opt/homebrew/Caskroom/miniforge/base/envs/gpsat2/lib/python3.8/site-packages/matplotlib/axes/_base.py:3554\u001b[0m, in \u001b[0;36m_AxesBase.get_xlim\u001b[0;34m(self)\u001b[0m\n\u001b[1;32m   3534\u001b[0m \u001b[39mdef\u001b[39;00m \u001b[39mget_xlim\u001b[39m(\u001b[39mself\u001b[39m):\n\u001b[1;32m   3535\u001b[0m \u001b[39m    \u001b[39m\u001b[39m\"\"\"\u001b[39;00m\n\u001b[1;32m   3536\u001b[0m \u001b[39m    Return the x-axis view limits.\u001b[39;00m\n\u001b[1;32m   3537\u001b[0m \n\u001b[0;32m   (...)\u001b[0m\n\u001b[1;32m   3552\u001b[0m \u001b[39m    be greater than the *right* value.\u001b[39;00m\n\u001b[1;32m   3553\u001b[0m \u001b[39m    \"\"\"\u001b[39;00m\n\u001b[0;32m-> 3554\u001b[0m     \u001b[39mreturn\u001b[39;00m \u001b[39mtuple\u001b[39m(\u001b[39mself\u001b[39;49m\u001b[39m.\u001b[39;49mviewLim\u001b[39m.\u001b[39mintervalx)\n",
      "File \u001b[0;32m/opt/homebrew/Caskroom/miniforge/base/envs/gpsat2/lib/python3.8/site-packages/matplotlib/axes/_base.py:857\u001b[0m, in \u001b[0;36m_AxesBase.viewLim\u001b[0;34m(self)\u001b[0m\n\u001b[1;32m    855\u001b[0m \u001b[39m@property\u001b[39m\n\u001b[1;32m    856\u001b[0m \u001b[39mdef\u001b[39;00m \u001b[39mviewLim\u001b[39m(\u001b[39mself\u001b[39m):\n\u001b[0;32m--> 857\u001b[0m     \u001b[39mself\u001b[39;49m\u001b[39m.\u001b[39;49m_unstale_viewLim()\n\u001b[1;32m    858\u001b[0m     \u001b[39mreturn\u001b[39;00m \u001b[39mself\u001b[39m\u001b[39m.\u001b[39m_viewLim\n",
      "File \u001b[0;32m/opt/homebrew/Caskroom/miniforge/base/envs/gpsat2/lib/python3.8/site-packages/matplotlib/axes/_base.py:852\u001b[0m, in \u001b[0;36m_AxesBase._unstale_viewLim\u001b[0;34m(self)\u001b[0m\n\u001b[1;32m    850\u001b[0m     \u001b[39mfor\u001b[39;00m ax \u001b[39min\u001b[39;00m \u001b[39mself\u001b[39m\u001b[39m.\u001b[39m_shared_axes[name]\u001b[39m.\u001b[39mget_siblings(\u001b[39mself\u001b[39m):\n\u001b[1;32m    851\u001b[0m         ax\u001b[39m.\u001b[39m_stale_viewlims[name] \u001b[39m=\u001b[39m \u001b[39mFalse\u001b[39;00m\n\u001b[0;32m--> 852\u001b[0m \u001b[39mself\u001b[39;49m\u001b[39m.\u001b[39;49mautoscale_view(\u001b[39m*\u001b[39;49m\u001b[39m*\u001b[39;49m{\u001b[39mf\u001b[39;49m\u001b[39m\"\u001b[39;49m\u001b[39mscale\u001b[39;49m\u001b[39m{\u001b[39;49;00mname\u001b[39m}\u001b[39;49;00m\u001b[39m\"\u001b[39;49m: scale\n\u001b[1;32m    853\u001b[0m                        \u001b[39mfor\u001b[39;49;00m name, scale \u001b[39min\u001b[39;49;00m need_scale\u001b[39m.\u001b[39;49mitems()})\n",
      "File \u001b[0;32m/opt/homebrew/Caskroom/miniforge/base/envs/gpsat2/lib/python3.8/site-packages/cartopy/mpl/geoaxes.py:946\u001b[0m, in \u001b[0;36mGeoAxes.autoscale_view\u001b[0;34m(self, tight, scalex, scaley)\u001b[0m\n\u001b[1;32m    943\u001b[0m matplotlib\u001b[39m.\u001b[39maxes\u001b[39m.\u001b[39mAxes\u001b[39m.\u001b[39mautoscale_view(\u001b[39mself\u001b[39m, tight\u001b[39m=\u001b[39mtight,\n\u001b[1;32m    944\u001b[0m                                     scalex\u001b[39m=\u001b[39mscalex, scaley\u001b[39m=\u001b[39mscaley)\n\u001b[1;32m    945\u001b[0m \u001b[39m# Limit the resulting bounds to valid area.\u001b[39;00m\n\u001b[0;32m--> 946\u001b[0m \u001b[39mif\u001b[39;00m scalex \u001b[39mand\u001b[39;00m \u001b[39mself\u001b[39;49m\u001b[39m.\u001b[39;49m_autoscaleXon:\n\u001b[1;32m    947\u001b[0m     bounds \u001b[39m=\u001b[39m \u001b[39mself\u001b[39m\u001b[39m.\u001b[39mget_xbound()\n\u001b[1;32m    948\u001b[0m     \u001b[39mself\u001b[39m\u001b[39m.\u001b[39mset_xbound(\u001b[39mmax\u001b[39m(bounds[\u001b[39m0\u001b[39m], \u001b[39mself\u001b[39m\u001b[39m.\u001b[39mprojection\u001b[39m.\u001b[39mx_limits[\u001b[39m0\u001b[39m]),\n\u001b[1;32m    949\u001b[0m                     \u001b[39mmin\u001b[39m(bounds[\u001b[39m1\u001b[39m], \u001b[39mself\u001b[39m\u001b[39m.\u001b[39mprojection\u001b[39m.\u001b[39mx_limits[\u001b[39m1\u001b[39m]))\n",
      "\u001b[0;31mAttributeError\u001b[0m: 'GeoAxes' object has no attribute '_autoscaleXon'"
     ]
    },
    {
     "ename": "AttributeError",
     "evalue": "'GeoAxes' object has no attribute '_autoscaleXon'",
     "output_type": "error",
     "traceback": [
      "\u001b[0;31m---------------------------------------------------------------------------\u001b[0m",
      "\u001b[0;31mAttributeError\u001b[0m                            Traceback (most recent call last)",
      "File \u001b[0;32m/opt/homebrew/Caskroom/miniforge/base/envs/gpsat2/lib/python3.8/site-packages/IPython/core/formatters.py:340\u001b[0m, in \u001b[0;36mBaseFormatter.__call__\u001b[0;34m(self, obj)\u001b[0m\n\u001b[1;32m    338\u001b[0m     \u001b[39mpass\u001b[39;00m\n\u001b[1;32m    339\u001b[0m \u001b[39melse\u001b[39;00m:\n\u001b[0;32m--> 340\u001b[0m     \u001b[39mreturn\u001b[39;00m printer(obj)\n\u001b[1;32m    341\u001b[0m \u001b[39m# Finally look for special method names\u001b[39;00m\n\u001b[1;32m    342\u001b[0m method \u001b[39m=\u001b[39m get_real_method(obj, \u001b[39mself\u001b[39m\u001b[39m.\u001b[39mprint_method)\n",
      "File \u001b[0;32m/opt/homebrew/Caskroom/miniforge/base/envs/gpsat2/lib/python3.8/site-packages/IPython/core/pylabtools.py:152\u001b[0m, in \u001b[0;36mprint_figure\u001b[0;34m(fig, fmt, bbox_inches, base64, **kwargs)\u001b[0m\n\u001b[1;32m    149\u001b[0m     \u001b[39mfrom\u001b[39;00m \u001b[39mmatplotlib\u001b[39;00m\u001b[39m.\u001b[39;00m\u001b[39mbackend_bases\u001b[39;00m \u001b[39mimport\u001b[39;00m FigureCanvasBase\n\u001b[1;32m    150\u001b[0m     FigureCanvasBase(fig)\n\u001b[0;32m--> 152\u001b[0m fig\u001b[39m.\u001b[39;49mcanvas\u001b[39m.\u001b[39;49mprint_figure(bytes_io, \u001b[39m*\u001b[39;49m\u001b[39m*\u001b[39;49mkw)\n\u001b[1;32m    153\u001b[0m data \u001b[39m=\u001b[39m bytes_io\u001b[39m.\u001b[39mgetvalue()\n\u001b[1;32m    154\u001b[0m \u001b[39mif\u001b[39;00m fmt \u001b[39m==\u001b[39m \u001b[39m'\u001b[39m\u001b[39msvg\u001b[39m\u001b[39m'\u001b[39m:\n",
      "File \u001b[0;32m/opt/homebrew/Caskroom/miniforge/base/envs/gpsat2/lib/python3.8/site-packages/matplotlib/backend_bases.py:2342\u001b[0m, in \u001b[0;36mFigureCanvasBase.print_figure\u001b[0;34m(self, filename, dpi, facecolor, edgecolor, orientation, format, bbox_inches, pad_inches, bbox_extra_artists, backend, **kwargs)\u001b[0m\n\u001b[1;32m   2336\u001b[0m     renderer \u001b[39m=\u001b[39m _get_renderer(\n\u001b[1;32m   2337\u001b[0m         \u001b[39mself\u001b[39m\u001b[39m.\u001b[39mfigure,\n\u001b[1;32m   2338\u001b[0m         functools\u001b[39m.\u001b[39mpartial(\n\u001b[1;32m   2339\u001b[0m             print_method, orientation\u001b[39m=\u001b[39morientation)\n\u001b[1;32m   2340\u001b[0m     )\n\u001b[1;32m   2341\u001b[0m     \u001b[39mwith\u001b[39;00m \u001b[39mgetattr\u001b[39m(renderer, \u001b[39m\"\u001b[39m\u001b[39m_draw_disabled\u001b[39m\u001b[39m\"\u001b[39m, nullcontext)():\n\u001b[0;32m-> 2342\u001b[0m         \u001b[39mself\u001b[39;49m\u001b[39m.\u001b[39;49mfigure\u001b[39m.\u001b[39;49mdraw(renderer)\n\u001b[1;32m   2344\u001b[0m \u001b[39mif\u001b[39;00m bbox_inches:\n\u001b[1;32m   2345\u001b[0m     \u001b[39mif\u001b[39;00m bbox_inches \u001b[39m==\u001b[39m \u001b[39m\"\u001b[39m\u001b[39mtight\u001b[39m\u001b[39m\"\u001b[39m:\n",
      "File \u001b[0;32m/opt/homebrew/Caskroom/miniforge/base/envs/gpsat2/lib/python3.8/site-packages/matplotlib/artist.py:95\u001b[0m, in \u001b[0;36m_finalize_rasterization.<locals>.draw_wrapper\u001b[0;34m(artist, renderer, *args, **kwargs)\u001b[0m\n\u001b[1;32m     93\u001b[0m \u001b[39m@wraps\u001b[39m(draw)\n\u001b[1;32m     94\u001b[0m \u001b[39mdef\u001b[39;00m \u001b[39mdraw_wrapper\u001b[39m(artist, renderer, \u001b[39m*\u001b[39margs, \u001b[39m*\u001b[39m\u001b[39m*\u001b[39mkwargs):\n\u001b[0;32m---> 95\u001b[0m     result \u001b[39m=\u001b[39m draw(artist, renderer, \u001b[39m*\u001b[39;49margs, \u001b[39m*\u001b[39;49m\u001b[39m*\u001b[39;49mkwargs)\n\u001b[1;32m     96\u001b[0m     \u001b[39mif\u001b[39;00m renderer\u001b[39m.\u001b[39m_rasterizing:\n\u001b[1;32m     97\u001b[0m         renderer\u001b[39m.\u001b[39mstop_rasterizing()\n",
      "File \u001b[0;32m/opt/homebrew/Caskroom/miniforge/base/envs/gpsat2/lib/python3.8/site-packages/matplotlib/artist.py:72\u001b[0m, in \u001b[0;36mallow_rasterization.<locals>.draw_wrapper\u001b[0;34m(artist, renderer)\u001b[0m\n\u001b[1;32m     69\u001b[0m     \u001b[39mif\u001b[39;00m artist\u001b[39m.\u001b[39mget_agg_filter() \u001b[39mis\u001b[39;00m \u001b[39mnot\u001b[39;00m \u001b[39mNone\u001b[39;00m:\n\u001b[1;32m     70\u001b[0m         renderer\u001b[39m.\u001b[39mstart_filter()\n\u001b[0;32m---> 72\u001b[0m     \u001b[39mreturn\u001b[39;00m draw(artist, renderer)\n\u001b[1;32m     73\u001b[0m \u001b[39mfinally\u001b[39;00m:\n\u001b[1;32m     74\u001b[0m     \u001b[39mif\u001b[39;00m artist\u001b[39m.\u001b[39mget_agg_filter() \u001b[39mis\u001b[39;00m \u001b[39mnot\u001b[39;00m \u001b[39mNone\u001b[39;00m:\n",
      "File \u001b[0;32m/opt/homebrew/Caskroom/miniforge/base/envs/gpsat2/lib/python3.8/site-packages/matplotlib/figure.py:3140\u001b[0m, in \u001b[0;36mFigure.draw\u001b[0;34m(self, renderer)\u001b[0m\n\u001b[1;32m   3137\u001b[0m         \u001b[39m# ValueError can occur when resizing a window.\u001b[39;00m\n\u001b[1;32m   3139\u001b[0m \u001b[39mself\u001b[39m\u001b[39m.\u001b[39mpatch\u001b[39m.\u001b[39mdraw(renderer)\n\u001b[0;32m-> 3140\u001b[0m mimage\u001b[39m.\u001b[39;49m_draw_list_compositing_images(\n\u001b[1;32m   3141\u001b[0m     renderer, \u001b[39mself\u001b[39;49m, artists, \u001b[39mself\u001b[39;49m\u001b[39m.\u001b[39;49msuppressComposite)\n\u001b[1;32m   3143\u001b[0m \u001b[39mfor\u001b[39;00m sfig \u001b[39min\u001b[39;00m \u001b[39mself\u001b[39m\u001b[39m.\u001b[39msubfigs:\n\u001b[1;32m   3144\u001b[0m     sfig\u001b[39m.\u001b[39mdraw(renderer)\n",
      "File \u001b[0;32m/opt/homebrew/Caskroom/miniforge/base/envs/gpsat2/lib/python3.8/site-packages/matplotlib/image.py:131\u001b[0m, in \u001b[0;36m_draw_list_compositing_images\u001b[0;34m(renderer, parent, artists, suppress_composite)\u001b[0m\n\u001b[1;32m    129\u001b[0m \u001b[39mif\u001b[39;00m not_composite \u001b[39mor\u001b[39;00m \u001b[39mnot\u001b[39;00m has_images:\n\u001b[1;32m    130\u001b[0m     \u001b[39mfor\u001b[39;00m a \u001b[39min\u001b[39;00m artists:\n\u001b[0;32m--> 131\u001b[0m         a\u001b[39m.\u001b[39;49mdraw(renderer)\n\u001b[1;32m    132\u001b[0m \u001b[39melse\u001b[39;00m:\n\u001b[1;32m    133\u001b[0m     \u001b[39m# Composite any adjacent images together\u001b[39;00m\n\u001b[1;32m    134\u001b[0m     image_group \u001b[39m=\u001b[39m []\n",
      "File \u001b[0;32m/opt/homebrew/Caskroom/miniforge/base/envs/gpsat2/lib/python3.8/site-packages/matplotlib/artist.py:72\u001b[0m, in \u001b[0;36mallow_rasterization.<locals>.draw_wrapper\u001b[0;34m(artist, renderer)\u001b[0m\n\u001b[1;32m     69\u001b[0m     \u001b[39mif\u001b[39;00m artist\u001b[39m.\u001b[39mget_agg_filter() \u001b[39mis\u001b[39;00m \u001b[39mnot\u001b[39;00m \u001b[39mNone\u001b[39;00m:\n\u001b[1;32m     70\u001b[0m         renderer\u001b[39m.\u001b[39mstart_filter()\n\u001b[0;32m---> 72\u001b[0m     \u001b[39mreturn\u001b[39;00m draw(artist, renderer)\n\u001b[1;32m     73\u001b[0m \u001b[39mfinally\u001b[39;00m:\n\u001b[1;32m     74\u001b[0m     \u001b[39mif\u001b[39;00m artist\u001b[39m.\u001b[39mget_agg_filter() \u001b[39mis\u001b[39;00m \u001b[39mnot\u001b[39;00m \u001b[39mNone\u001b[39;00m:\n",
      "File \u001b[0;32m/opt/homebrew/Caskroom/miniforge/base/envs/gpsat2/lib/python3.8/site-packages/cartopy/mpl/geoaxes.py:558\u001b[0m, in \u001b[0;36mGeoAxes.draw\u001b[0;34m(self, renderer, **kwargs)\u001b[0m\n\u001b[1;32m    553\u001b[0m         \u001b[39mself\u001b[39m\u001b[39m.\u001b[39mimshow(img, extent\u001b[39m=\u001b[39mextent, origin\u001b[39m=\u001b[39morigin,\n\u001b[1;32m    554\u001b[0m                     transform\u001b[39m=\u001b[39mfactory\u001b[39m.\u001b[39mcrs, \u001b[39m*\u001b[39mfactory_args[\u001b[39m1\u001b[39m:],\n\u001b[1;32m    555\u001b[0m                     \u001b[39m*\u001b[39m\u001b[39m*\u001b[39mfactory_kwargs)\n\u001b[1;32m    556\u001b[0m \u001b[39mself\u001b[39m\u001b[39m.\u001b[39m_done_img_factory \u001b[39m=\u001b[39m \u001b[39mTrue\u001b[39;00m\n\u001b[0;32m--> 558\u001b[0m \u001b[39mreturn\u001b[39;00m matplotlib\u001b[39m.\u001b[39;49maxes\u001b[39m.\u001b[39;49mAxes\u001b[39m.\u001b[39;49mdraw(\u001b[39mself\u001b[39;49m, renderer\u001b[39m=\u001b[39;49mrenderer, \u001b[39m*\u001b[39;49m\u001b[39m*\u001b[39;49mkwargs)\n",
      "File \u001b[0;32m/opt/homebrew/Caskroom/miniforge/base/envs/gpsat2/lib/python3.8/site-packages/matplotlib/artist.py:72\u001b[0m, in \u001b[0;36mallow_rasterization.<locals>.draw_wrapper\u001b[0;34m(artist, renderer)\u001b[0m\n\u001b[1;32m     69\u001b[0m     \u001b[39mif\u001b[39;00m artist\u001b[39m.\u001b[39mget_agg_filter() \u001b[39mis\u001b[39;00m \u001b[39mnot\u001b[39;00m \u001b[39mNone\u001b[39;00m:\n\u001b[1;32m     70\u001b[0m         renderer\u001b[39m.\u001b[39mstart_filter()\n\u001b[0;32m---> 72\u001b[0m     \u001b[39mreturn\u001b[39;00m draw(artist, renderer)\n\u001b[1;32m     73\u001b[0m \u001b[39mfinally\u001b[39;00m:\n\u001b[1;32m     74\u001b[0m     \u001b[39mif\u001b[39;00m artist\u001b[39m.\u001b[39mget_agg_filter() \u001b[39mis\u001b[39;00m \u001b[39mnot\u001b[39;00m \u001b[39mNone\u001b[39;00m:\n",
      "File \u001b[0;32m/opt/homebrew/Caskroom/miniforge/base/envs/gpsat2/lib/python3.8/site-packages/matplotlib/axes/_base.py:3064\u001b[0m, in \u001b[0;36m_AxesBase.draw\u001b[0;34m(self, renderer)\u001b[0m\n\u001b[1;32m   3061\u001b[0m \u001b[39mif\u001b[39;00m artists_rasterized:\n\u001b[1;32m   3062\u001b[0m     _draw_rasterized(\u001b[39mself\u001b[39m\u001b[39m.\u001b[39mfigure, artists_rasterized, renderer)\n\u001b[0;32m-> 3064\u001b[0m mimage\u001b[39m.\u001b[39;49m_draw_list_compositing_images(\n\u001b[1;32m   3065\u001b[0m     renderer, \u001b[39mself\u001b[39;49m, artists, \u001b[39mself\u001b[39;49m\u001b[39m.\u001b[39;49mfigure\u001b[39m.\u001b[39;49msuppressComposite)\n\u001b[1;32m   3067\u001b[0m renderer\u001b[39m.\u001b[39mclose_group(\u001b[39m'\u001b[39m\u001b[39maxes\u001b[39m\u001b[39m'\u001b[39m)\n\u001b[1;32m   3068\u001b[0m \u001b[39mself\u001b[39m\u001b[39m.\u001b[39mstale \u001b[39m=\u001b[39m \u001b[39mFalse\u001b[39;00m\n",
      "File \u001b[0;32m/opt/homebrew/Caskroom/miniforge/base/envs/gpsat2/lib/python3.8/site-packages/matplotlib/image.py:131\u001b[0m, in \u001b[0;36m_draw_list_compositing_images\u001b[0;34m(renderer, parent, artists, suppress_composite)\u001b[0m\n\u001b[1;32m    129\u001b[0m \u001b[39mif\u001b[39;00m not_composite \u001b[39mor\u001b[39;00m \u001b[39mnot\u001b[39;00m has_images:\n\u001b[1;32m    130\u001b[0m     \u001b[39mfor\u001b[39;00m a \u001b[39min\u001b[39;00m artists:\n\u001b[0;32m--> 131\u001b[0m         a\u001b[39m.\u001b[39;49mdraw(renderer)\n\u001b[1;32m    132\u001b[0m \u001b[39melse\u001b[39;00m:\n\u001b[1;32m    133\u001b[0m     \u001b[39m# Composite any adjacent images together\u001b[39;00m\n\u001b[1;32m    134\u001b[0m     image_group \u001b[39m=\u001b[39m []\n",
      "File \u001b[0;32m/opt/homebrew/Caskroom/miniforge/base/envs/gpsat2/lib/python3.8/site-packages/matplotlib/artist.py:72\u001b[0m, in \u001b[0;36mallow_rasterization.<locals>.draw_wrapper\u001b[0;34m(artist, renderer)\u001b[0m\n\u001b[1;32m     69\u001b[0m     \u001b[39mif\u001b[39;00m artist\u001b[39m.\u001b[39mget_agg_filter() \u001b[39mis\u001b[39;00m \u001b[39mnot\u001b[39;00m \u001b[39mNone\u001b[39;00m:\n\u001b[1;32m     70\u001b[0m         renderer\u001b[39m.\u001b[39mstart_filter()\n\u001b[0;32m---> 72\u001b[0m     \u001b[39mreturn\u001b[39;00m draw(artist, renderer)\n\u001b[1;32m     73\u001b[0m \u001b[39mfinally\u001b[39;00m:\n\u001b[1;32m     74\u001b[0m     \u001b[39mif\u001b[39;00m artist\u001b[39m.\u001b[39mget_agg_filter() \u001b[39mis\u001b[39;00m \u001b[39mnot\u001b[39;00m \u001b[39mNone\u001b[39;00m:\n",
      "File \u001b[0;32m/opt/homebrew/Caskroom/miniforge/base/envs/gpsat2/lib/python3.8/site-packages/cartopy/mpl/feature_artist.py:147\u001b[0m, in \u001b[0;36mFeatureArtist.draw\u001b[0;34m(self, renderer, *args, **kwargs)\u001b[0m\n\u001b[1;32m    145\u001b[0m extent \u001b[39m=\u001b[39m \u001b[39mNone\u001b[39;00m\n\u001b[1;32m    146\u001b[0m \u001b[39mtry\u001b[39;00m:\n\u001b[0;32m--> 147\u001b[0m     extent \u001b[39m=\u001b[39m ax\u001b[39m.\u001b[39;49mget_extent(feature_crs)\n\u001b[1;32m    148\u001b[0m \u001b[39mexcept\u001b[39;00m \u001b[39mValueError\u001b[39;00m:\n\u001b[1;32m    149\u001b[0m     warnings\u001b[39m.\u001b[39mwarn(\u001b[39m'\u001b[39m\u001b[39mUnable to determine extent. Defaulting to global.\u001b[39m\u001b[39m'\u001b[39m)\n",
      "File \u001b[0;32m/opt/homebrew/Caskroom/miniforge/base/envs/gpsat2/lib/python3.8/site-packages/cartopy/mpl/geoaxes.py:814\u001b[0m, in \u001b[0;36mGeoAxes.get_extent\u001b[0;34m(self, crs)\u001b[0m\n\u001b[1;32m    805\u001b[0m \u001b[39mdef\u001b[39;00m \u001b[39mget_extent\u001b[39m(\u001b[39mself\u001b[39m, crs\u001b[39m=\u001b[39m\u001b[39mNone\u001b[39;00m):\n\u001b[1;32m    806\u001b[0m \u001b[39m    \u001b[39m\u001b[39m\"\"\"\u001b[39;00m\n\u001b[1;32m    807\u001b[0m \u001b[39m    Get the extent (x0, x1, y0, y1) of the map in the given coordinate\u001b[39;00m\n\u001b[1;32m    808\u001b[0m \u001b[39m    system.\u001b[39;00m\n\u001b[0;32m   (...)\u001b[0m\n\u001b[1;32m    812\u001b[0m \n\u001b[1;32m    813\u001b[0m \u001b[39m    \"\"\"\u001b[39;00m\n\u001b[0;32m--> 814\u001b[0m     p \u001b[39m=\u001b[39m \u001b[39mself\u001b[39;49m\u001b[39m.\u001b[39;49m_get_extent_geom(crs)\n\u001b[1;32m    815\u001b[0m     r \u001b[39m=\u001b[39m p\u001b[39m.\u001b[39mbounds\n\u001b[1;32m    816\u001b[0m     x1, y1, x2, y2 \u001b[39m=\u001b[39m r\n",
      "File \u001b[0;32m/opt/homebrew/Caskroom/miniforge/base/envs/gpsat2/lib/python3.8/site-packages/cartopy/mpl/geoaxes.py:821\u001b[0m, in \u001b[0;36mGeoAxes._get_extent_geom\u001b[0;34m(self, crs)\u001b[0m\n\u001b[1;32m    819\u001b[0m \u001b[39mdef\u001b[39;00m \u001b[39m_get_extent_geom\u001b[39m(\u001b[39mself\u001b[39m, crs\u001b[39m=\u001b[39m\u001b[39mNone\u001b[39;00m):\n\u001b[1;32m    820\u001b[0m     \u001b[39m# Perform the calculations for get_extent(), which just repackages it.\u001b[39;00m\n\u001b[0;32m--> 821\u001b[0m     \u001b[39mwith\u001b[39;00m \u001b[39mself\u001b[39m\u001b[39m.\u001b[39mhold_limits():\n\u001b[1;32m    822\u001b[0m         \u001b[39mif\u001b[39;00m \u001b[39mself\u001b[39m\u001b[39m.\u001b[39mget_autoscale_on():\n\u001b[1;32m    823\u001b[0m             \u001b[39mself\u001b[39m\u001b[39m.\u001b[39mautoscale_view()\n",
      "File \u001b[0;32m/opt/homebrew/Caskroom/miniforge/base/envs/gpsat2/lib/python3.8/contextlib.py:113\u001b[0m, in \u001b[0;36m_GeneratorContextManager.__enter__\u001b[0;34m(self)\u001b[0m\n\u001b[1;32m    111\u001b[0m \u001b[39mdel\u001b[39;00m \u001b[39mself\u001b[39m\u001b[39m.\u001b[39margs, \u001b[39mself\u001b[39m\u001b[39m.\u001b[39mkwds, \u001b[39mself\u001b[39m\u001b[39m.\u001b[39mfunc\n\u001b[1;32m    112\u001b[0m \u001b[39mtry\u001b[39;00m:\n\u001b[0;32m--> 113\u001b[0m     \u001b[39mreturn\u001b[39;00m \u001b[39mnext\u001b[39;49m(\u001b[39mself\u001b[39;49m\u001b[39m.\u001b[39;49mgen)\n\u001b[1;32m    114\u001b[0m \u001b[39mexcept\u001b[39;00m \u001b[39mStopIteration\u001b[39;00m:\n\u001b[1;32m    115\u001b[0m     \u001b[39mraise\u001b[39;00m \u001b[39mRuntimeError\u001b[39;00m(\u001b[39m\"\u001b[39m\u001b[39mgenerator didn\u001b[39m\u001b[39m'\u001b[39m\u001b[39mt yield\u001b[39m\u001b[39m\"\u001b[39m) \u001b[39mfrom\u001b[39;00m \u001b[39mNone\u001b[39;00m\n",
      "File \u001b[0;32m/opt/homebrew/Caskroom/miniforge/base/envs/gpsat2/lib/python3.8/site-packages/cartopy/mpl/geoaxes.py:491\u001b[0m, in \u001b[0;36mGeoAxes.hold_limits\u001b[0;34m(self, hold)\u001b[0m\n\u001b[1;32m    488\u001b[0m data_lim \u001b[39m=\u001b[39m \u001b[39mself\u001b[39m\u001b[39m.\u001b[39mdataLim\u001b[39m.\u001b[39mfrozen()\u001b[39m.\u001b[39mget_points()\n\u001b[1;32m    489\u001b[0m view_lim \u001b[39m=\u001b[39m \u001b[39mself\u001b[39m\u001b[39m.\u001b[39mviewLim\u001b[39m.\u001b[39mfrozen()\u001b[39m.\u001b[39mget_points()\n\u001b[1;32m    490\u001b[0m other \u001b[39m=\u001b[39m (\u001b[39mself\u001b[39m\u001b[39m.\u001b[39mignore_existing_data_limits,\n\u001b[0;32m--> 491\u001b[0m          \u001b[39mself\u001b[39;49m\u001b[39m.\u001b[39;49m_autoscaleXon, \u001b[39mself\u001b[39m\u001b[39m.\u001b[39m_autoscaleYon)\n\u001b[1;32m    492\u001b[0m \u001b[39mtry\u001b[39;00m:\n\u001b[1;32m    493\u001b[0m     \u001b[39myield\u001b[39;00m\n",
      "\u001b[0;31mAttributeError\u001b[0m: 'GeoAxes' object has no attribute '_autoscaleXon'"
     ]
    },
    {
     "data": {
      "text/plain": [
       "<Figure size 1200x1200 with 1 Axes>"
      ]
     },
     "metadata": {},
     "output_type": "display_data"
    }
   ],
   "source": [
    "plt_data = dfs[\"preds\"]\n",
    "\n",
    "# multiple local experts may make predictions at the same prediction location (pred_loc).\n",
    "# - for each prediction at a given location, take we weighted combination\n",
    "# - weights being a function of the distance to each local expert that made a prediction at a given location.\n",
    "weighted_values_kwargs = {\n",
    "        \"ref_col\": [\"pred_loc_x\", \"pred_loc_y\", \"pred_loc_t\"],\n",
    "        \"dist_to_col\": [\"x\", \"y\", \"t\"],\n",
    "        \"val_cols\": [\"f*\", \"f*_var\"],\n",
    "        \"weight_function\": \"gaussian\",\n",
    "        \"lengthscale\": 200_000\n",
    "    }\n",
    "plt_data = get_weighted_values(df=plt_data, **weighted_values_kwargs)\n",
    "\n",
    "# add convert x,y to lon,lat\n",
    "plt_data['lon'], plt_data['lat'] = EASE2toWGS84_New(plt_data['pred_loc_x'], plt_data['pred_loc_y'])\n",
    "\n",
    "\n",
    "fig = plt.figure(figsize=(12, 12))\n",
    "ax = fig.add_subplot(1, 1, 1, projection=get_projection('north'))\n",
    "plot_pcolormesh_from_results_data(ax=ax,\n",
    "                                  dfs={\"preds\": plt_data},\n",
    "                                  table='preds',\n",
    "                                  val_col=\"f*\",\n",
    "                                  scatter=False,\n",
    "                                  x_col='pred_loc_x',\n",
    "                                  y_col='pred_loc_y',\n",
    "                                  fig=fig,\n",
    "                                  plot_kwargs={\"title\": \"f*: predictions\"})\n",
    "plt.tight_layout()\n",
    "plt.show()\n",
    "\n",
    "\n",
    "\n",
    "\n",
    "\n"
   ]
  },
  {
   "cell_type": "code",
   "execution_count": 56,
   "metadata": {
    "ExecuteTime": {
     "end_time": "2023-06-07T10:04:20.246236944Z",
     "start_time": "2023-06-07T10:04:20.243927946Z"
    },
    "collapsed": false
   },
   "outputs": [],
   "source": []
  }
 ],
 "metadata": {
  "kernelspec": {
   "display_name": "Python 3.8.17 ('gpsat2')",
   "language": "python",
   "name": "python3"
  },
  "language_info": {
   "codemirror_mode": {
    "name": "ipython",
    "version": 3
   },
   "file_extension": ".py",
   "mimetype": "text/x-python",
   "name": "python",
   "nbconvert_exporter": "python",
   "pygments_lexer": "ipython3",
   "version": "3.8.17"
  },
  "vscode": {
   "interpreter": {
    "hash": "42c89ee418f45ab16d4cd7d85b9f5fd46783f67990f590db7ef8d9e48f3f848d"
   }
  }
 },
 "nbformat": 4,
 "nbformat_minor": 0
}
